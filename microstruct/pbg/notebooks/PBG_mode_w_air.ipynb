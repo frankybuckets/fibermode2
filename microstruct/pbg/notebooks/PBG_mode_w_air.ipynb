{
 "cells": [
  {
   "cell_type": "markdown",
   "id": "5481d90e",
   "metadata": {},
   "source": [
    "# PBG Mode Notebook\n",
    "\n",
    "This notebook is used to find and view modes for the Photonic Band Gap fiber. "
   ]
  },
  {
   "cell_type": "code",
   "execution_count": null,
   "id": "c3158f26",
   "metadata": {},
   "outputs": [],
   "source": [
    "import ngsolve as ng\n",
    "from ngsolve.webgui import Draw\n",
    "\n",
    "from fiberamp.fiber.microstruct.pbg import PBG, load_pbg_mode\n",
    "from fiberamp.fiber.microstruct.pbg.fiber_dicts.lyr6cr2_w_air import params"
   ]
  },
  {
   "cell_type": "code",
   "execution_count": null,
   "id": "7eb8a119",
   "metadata": {},
   "outputs": [],
   "source": [
    "A = PBG(params)\n"
   ]
  },
  {
   "cell_type": "code",
   "execution_count": null,
   "id": "9c58d10d",
   "metadata": {},
   "outputs": [],
   "source": [
    "Draw(A.index, A.mesh)\n"
   ]
  },
  {
   "cell_type": "markdown",
   "id": "f2ade3f4",
   "metadata": {},
   "source": [
    "# Find search centers\n",
    "\n",
    "When the ambient material is not cladding, the easiest way to find the search center is to first find the propagation constant for the fundamental mode (or mode of interest) with cladding extending to infinity, and then find the Z center by putting it through the sqZfrom method of the fiber with the truncated cladding.\n",
    "\n",
    "Note that this gives you a different Z than if you put it through the sqZfrom method of the fiber with infinite cladding, since n0 is different.  The location of the Z is now on the imaginary axis."
   ]
  },
  {
   "cell_type": "code",
   "execution_count": null,
   "id": "a2c273d1",
   "metadata": {},
   "outputs": [],
   "source": [
    "beta_clad = 5874506.48513697+1.67830311e-05j # beta for cladding going to end of domain"
   ]
  },
  {
   "cell_type": "code",
   "execution_count": null,
   "id": "da3bdba5",
   "metadata": {},
   "outputs": [],
   "source": [
    "z_clad = A.sqrZfrom(beta_clad)**.5"
   ]
  },
  {
   "cell_type": "code",
   "execution_count": null,
   "id": "a4f2b6c2",
   "metadata": {},
   "outputs": [],
   "source": [
    "z_clad"
   ]
  },
  {
   "cell_type": "code",
   "execution_count": null,
   "id": "5f089991",
   "metadata": {},
   "outputs": [],
   "source": [
    "center = z_clad\n",
    "radius = .001\n",
    "p = 3\n",
    "\n",
    "z, y, yl, beta, P, _ = A.leakymode(p, rad=radius, ctr=center,\n",
    "                                   alpha=5, stop_tol=1e-8,\n",
    "#                                    quadrule='ellipse_trapez_shift',\n",
    "#                                    rhoinv=.9, \n",
    "                                   niterations=5, npts=4,\n",
    "                                   nspan=4, nrestarts=0)\n"
   ]
  },
  {
   "cell_type": "markdown",
   "id": "14347806",
   "metadata": {},
   "source": [
    "# Visualize scalar modes\n",
    "\n",
    "Note the first two are cladding modes."
   ]
  },
  {
   "cell_type": "code",
   "execution_count": null,
   "id": "5cab8894",
   "metadata": {},
   "outputs": [],
   "source": [
    "for f in y:\n",
    "    Draw(f, A.mesh)"
   ]
  },
  {
   "cell_type": "markdown",
   "id": "58528040",
   "metadata": {},
   "source": [
    "# Vector modes\n",
    "\n",
    "After we have the scalar Z value, we square it as the guess for our vector mode solver.  I've gone a few steps further and refined things to remove cladding modes."
   ]
  },
  {
   "cell_type": "code",
   "execution_count": null,
   "id": "9aae5cb7",
   "metadata": {},
   "outputs": [],
   "source": [
    "center = -1406.299726189582\n",
    "radius = .1\n",
    "p = 1\n",
    "\n",
    "betas, Zsqrs, Es, phis, _ = A.leakyvecmodes(p=p, rad=radius, ctr=center,\n",
    "                                   alpha=5, stop_tol=1e-8,\n",
    "                                   quadrule='ellipse_trapez_shift',\n",
    "                                   rhoinv=.9, \n",
    "                                   niterations=12, npts=2,\n",
    "                                   nspan=1, nrestarts=0)\n"
   ]
  },
  {
   "cell_type": "code",
   "execution_count": null,
   "id": "fd087b37",
   "metadata": {},
   "outputs": [],
   "source": [
    "for e in Es:\n",
    "    Draw(e.Norm(), A.mesh)"
   ]
  },
  {
   "cell_type": "code",
   "execution_count": null,
   "id": "b025e52b",
   "metadata": {},
   "outputs": [],
   "source": [
    "for phi in phis:\n",
    "    Draw(phi, A.mesh)"
   ]
  },
  {
   "cell_type": "code",
   "execution_count": null,
   "id": "ce3fe3e3",
   "metadata": {},
   "outputs": [],
   "source": []
  }
 ],
 "metadata": {
  "kernelspec": {
   "display_name": "Python 3 (ipykernel)",
   "language": "python",
   "name": "python3"
  },
  "language_info": {
   "codemirror_mode": {
    "name": "ipython",
    "version": 3
   },
   "file_extension": ".py",
   "mimetype": "text/x-python",
   "name": "python",
   "nbconvert_exporter": "python",
   "pygments_lexer": "ipython3",
   "version": "3.10.6"
  }
 },
 "nbformat": 4,
 "nbformat_minor": 5
}
