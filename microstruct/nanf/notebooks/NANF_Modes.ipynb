{
 "cells": [
  {
   "cell_type": "code",
   "execution_count": null,
   "id": "76086311",
   "metadata": {},
   "outputs": [],
   "source": [
    "from fiberamp.fiber.microstruct.nanf import NANF\n",
    "from ngsolve.webgui import Draw\n",
    "import ngsolve as ng"
   ]
  },
  {
   "cell_type": "code",
   "execution_count": null,
   "id": "943a171a",
   "metadata": {},
   "outputs": [],
   "source": [
    "A = NANF(glass_maxh=.2, air_maxh=.15, core_maxh=.4)\n"
   ]
  },
  {
   "cell_type": "code",
   "execution_count": null,
   "id": "295db014",
   "metadata": {},
   "outputs": [],
   "source": [
    "Draw(A.mesh)"
   ]
  },
  {
   "cell_type": "markdown",
   "id": "890c55d5",
   "metadata": {},
   "source": [
    "# Fundamental Mode"
   ]
  },
  {
   "cell_type": "code",
   "execution_count": null,
   "id": "18522452",
   "metadata": {},
   "outputs": [],
   "source": [
    "center = 5.066\n",
    "radius = .005        \n",
    "alpha = 5\n",
    "\n",
    "\n",
    "betas_fund, _, Es_fund, phis_fund, _ = A.leakyvecmodes(ctr=center, rad=radius, alpha=alpha,\n",
    "                                          nspan=3, npts=4, p=2, niterations=10,\n",
    "                                          rhoinv=.99, quadrule='ellipse_trapez_shift',\n",
    "                                          nrestarts=0, stop_tol=1e-9)"
   ]
  },
  {
   "cell_type": "code",
   "execution_count": null,
   "id": "6044f147",
   "metadata": {
    "scrolled": false
   },
   "outputs": [],
   "source": [
    "for e in Es_fund:\n",
    "    Draw(e.real, A.mesh, vectors={'grid_size':200})"
   ]
  },
  {
   "cell_type": "code",
   "execution_count": null,
   "id": "b9dc3e9f",
   "metadata": {
    "scrolled": false
   },
   "outputs": [],
   "source": [
    "for phi in phis_fund:\n",
    "    Draw(1e-1*phi, A.mesh)"
   ]
  },
  {
   "cell_type": "code",
   "execution_count": null,
   "id": "de846f68",
   "metadata": {
    "scrolled": false
   },
   "outputs": [],
   "source": [
    "# Poynting vector\n",
    "\n",
    "for e, phi, beta in zip(Es_fund, phis_fund, betas_fund):\n",
    "    Stv, Sz = A.S(e, phi, beta)\n",
    "    Draw(Stv.real, A.mesh, vectors={'grid_size':200})\n",
    "    Draw(1e-1*Sz, A.mesh)"
   ]
  },
  {
   "cell_type": "markdown",
   "id": "7e23d307",
   "metadata": {},
   "source": [
    "# Higher Order Modes"
   ]
  },
  {
   "cell_type": "code",
   "execution_count": null,
   "id": "f43aee7b",
   "metadata": {
    "scrolled": false
   },
   "outputs": [],
   "source": [
    "center =12.75\n",
    "radius = .1    \n",
    "alpha = 5\n",
    "\n",
    "\n",
    "betas_hom, _, Es_hom, phis_hom, _ = A.leakyvecmodes(ctr=center, rad=radius, alpha=alpha,\n",
    "                                          nspan=2, npts=2, p=2, niterations=10,\n",
    "                                          rhoinv=.99, quadrule='ellipse_trapez_shift',\n",
    "                                          nrestarts=0, stop_tol=1e-9)"
   ]
  },
  {
   "cell_type": "code",
   "execution_count": null,
   "id": "af8d2751",
   "metadata": {
    "scrolled": true
   },
   "outputs": [],
   "source": [
    "for e in Es_hom:\n",
    "    Draw(e.imag, A.mesh, vectors={'grid_size':1000})"
   ]
  },
  {
   "cell_type": "code",
   "execution_count": null,
   "id": "921a63cb",
   "metadata": {
    "scrolled": false
   },
   "outputs": [],
   "source": [
    "for phi in phis_hom:\n",
    "    Draw(1e1*phi, A.mesh, min=0)"
   ]
  },
  {
   "cell_type": "code",
   "execution_count": null,
   "id": "af8aa147",
   "metadata": {
    "scrolled": false
   },
   "outputs": [],
   "source": [
    "# Poynting vector\n",
    "\n",
    "for e, phi, beta in zip(Es_hom, phis_hom, betas_hom):\n",
    "    Stv, Sz = A.S(e, phi, beta)\n",
    "    Draw(Stv.real, A.mesh, vectors={'grid_size':200})\n",
    "    Draw(1e2*Sz, A.mesh)"
   ]
  },
  {
   "cell_type": "code",
   "execution_count": null,
   "id": "7569f399",
   "metadata": {},
   "outputs": [],
   "source": []
  }
 ],
 "metadata": {
  "kernelspec": {
   "display_name": "Python 3 (ipykernel)",
   "language": "python",
   "name": "python3"
  },
  "language_info": {
   "codemirror_mode": {
    "name": "ipython",
    "version": 3
   },
   "file_extension": ".py",
   "mimetype": "text/x-python",
   "name": "python",
   "nbconvert_exporter": "python",
   "pygments_lexer": "ipython3",
   "version": "3.10.12"
  }
 },
 "nbformat": 4,
 "nbformat_minor": 5
}
