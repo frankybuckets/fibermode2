{
 "cells": [
  {
   "cell_type": "code",
   "execution_count": null,
   "id": "d6f9fcb9",
   "metadata": {},
   "outputs": [],
   "source": [
    "from fiberamp.fiber.microstruct.nanf import NANF\n",
    "from ngsolve.webgui import Draw\n"
   ]
  },
  {
   "cell_type": "code",
   "execution_count": null,
   "id": "df6c5e10",
   "metadata": {
    "scrolled": false
   },
   "outputs": [],
   "source": [
    "A = NANF(capillary_info=[\n",
    "                     {'N': 6, 'r': 12.48e-6, 't': .42e-6, 'e': 1},\n",
    "                     {'N': 1, 'r': 6e-6, 't': .42e-6, 'e': 1},\n",
    "#                      {'N': 3, 'r': 1e-6, 't': .42e-6, 'e': 1},\n",
    "#                      {'N': 5, 'r': .3e-6, 't': .042e-6, 'e': 1},\n",
    "#                      {'N': 2, 'r': .1e-6, 't': .02e-6, 'e': 1},\n",
    "                 ],)\n"
   ]
  },
  {
   "cell_type": "code",
   "execution_count": null,
   "id": "2dc5c854",
   "metadata": {
    "scrolled": false
   },
   "outputs": [],
   "source": [
    "Draw(A.mesh)"
   ]
  },
  {
   "cell_type": "code",
   "execution_count": null,
   "id": "b5d8fcde",
   "metadata": {},
   "outputs": [],
   "source": []
  }
 ],
 "metadata": {
  "kernelspec": {
   "display_name": "Python 3 (ipykernel)",
   "language": "python",
   "name": "python3"
  },
  "language_info": {
   "codemirror_mode": {
    "name": "ipython",
    "version": 3
   },
   "file_extension": ".py",
   "mimetype": "text/x-python",
   "name": "python",
   "nbconvert_exporter": "python",
   "pygments_lexer": "ipython3",
   "version": "3.10.12"
  }
 },
 "nbformat": 4,
 "nbformat_minor": 5
}
