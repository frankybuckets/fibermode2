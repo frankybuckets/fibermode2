{
 "cells": [
  {
   "cell_type": "code",
   "execution_count": null,
   "id": "7a8edeb7",
   "metadata": {},
   "outputs": [],
   "source": [
    "import ngsolve as ng\n",
    "from fiberamp.fiber.microstruct import ARF\n",
    "from ngsolve.webgui import Draw"
   ]
  },
  {
   "cell_type": "code",
   "execution_count": null,
   "id": "ffc4baff",
   "metadata": {},
   "outputs": [],
   "source": [
    "\"\"\"\n",
    "Computing some modes of a 6-tube ARF structure in Poletti's paper using vector modesolver.\n",
    "\"\"\"\n",
    "\n",
    "outermaterials = 'air'\n",
    "freecapil = False\n",
    "a = ARF(name='poletti', outermaterials=outermaterials, refine=0,\n",
    "        curve = 3, freecapil=freecapil)\n",
    "\n",
    "center = 5       # center of circle to search for Z-resonance values\n",
    "radius = .2            # search radius\n",
    "alpha = 3\n",
    "\n",
    "betas, zsqrs, E, phi, _ = a.leakyvecmodes(ctr=center, rad=radius, alpha=alpha,\n",
    "                                          nspan=4, npts=4, p=1, niterations=20,\n",
    "                                          nrestarts=0, stop_tol=1e-12)\n",
    "\n",
    "\n",
    "print('\\n'+'#'*64, '\\nRESULTS:', '#'*55)\n",
    "print('Computed non-dimensional Z-squared values:\\n', zsqrs)\n",
    "print('Computed approximation of physical propagation constants:\\n', betas)\n",
    "print('#'*64)\n"
   ]
  },
  {
   "cell_type": "code",
   "execution_count": null,
   "id": "1666f131",
   "metadata": {},
   "outputs": [],
   "source": [
    "Draw(E[0].real, a.mesh)"
   ]
  },
  {
   "cell_type": "code",
   "execution_count": null,
   "id": "cbcd10ba",
   "metadata": {},
   "outputs": [],
   "source": [
    "a.savemodes('arf_E_p'+str(1) + '_ref' + str(0),\n",
    "            E, 1, betas, zsqrs, {}, arfpickle=True)"
   ]
  },
  {
   "cell_type": "code",
   "execution_count": null,
   "id": "1123ceaa",
   "metadata": {},
   "outputs": [],
   "source": [
    "cd outputs/\n"
   ]
  },
  {
   "cell_type": "code",
   "execution_count": null,
   "id": "de25b144",
   "metadata": {},
   "outputs": [],
   "source": [
    "ls"
   ]
  },
  {
   "cell_type": "code",
   "execution_count": null,
   "id": "dd67864a",
   "metadata": {},
   "outputs": [],
   "source": []
  }
 ],
 "metadata": {
  "kernelspec": {
   "display_name": "Python 3 (ipykernel)",
   "language": "python",
   "name": "python3"
  },
  "language_info": {
   "codemirror_mode": {
    "name": "ipython",
    "version": 3
   },
   "file_extension": ".py",
   "mimetype": "text/x-python",
   "name": "python",
   "nbconvert_exporter": "python",
   "pygments_lexer": "ipython3",
   "version": "3.8.10"
  }
 },
 "nbformat": 4,
 "nbformat_minor": 5
}
