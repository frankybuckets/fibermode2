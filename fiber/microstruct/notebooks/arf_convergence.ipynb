{
 "cells": [
  {
   "cell_type": "markdown",
   "metadata": {},
   "source": [
    "# Convergence of propagation constants"
   ]
  },
  {
   "cell_type": "markdown",
   "metadata": {},
   "source": [
    "In this notebook, we consider the default case of ARF fiber with embedded capillaries and study how the computed eigenvalues change with polynomial degree $p$ and mesh refinement. In particular, we are interested assessing how many digits of the propagation constants computed are trustable. Digits that stabilize as degrees of freedom increase may be trusted.\n",
    "\n",
    "(Direct questions on this notebook to  Jay Gopalakrishnan, Benjamin Parker, or Pieter Vandenberge.)"
   ]
  },
  {
   "cell_type": "markdown",
   "metadata": {},
   "source": [
    "## How the results here were produced"
   ]
  },
  {
   "cell_type": "code",
   "execution_count": 1,
   "metadata": {},
   "outputs": [],
   "source": [
    "from fiberamp.fiber.microstruct import ARF   \n",
    "import numpy as np\n",
    "import os \n",
    "import fiberamp\n",
    "from IPython.display import display, Markdown\n",
    "\n",
    "def betas_for_degree(refine=0, maxp=8, outputf='outputs/BetasZs'):\n",
    "    \"\"\" Perform long runs computing eigenvalues for polynomial\n",
    "    degrees from 2 to maxp on a mized mesh obtained by refining\n",
    "    \"refine\" times. \"\"\"\n",
    "\n",
    "    a = ARF()\n",
    "    for i in range(refine):\n",
    "        a.refine()\n",
    "    results = {}\n",
    "    for p in range(2, maxp):\n",
    "        Zs, Ys, betas = a.polyeig(p=p)\n",
    "        results[p] = {'Zs': Zs,  'betas': betas}\n",
    "    np.savez('BetasZs', results=results)\n",
    "\n",
    "\n",
    "def table(i, j, modename, f='outputs/BetasZs.npz'):\n",
    "    \"\"\" Produce a markdown table from the data file f\n",
    "    assuming f is generated from betas_for_degree(..).\n",
    "    Propagation constants are extracted from dict d\n",
    "    (extracted from saved datafile) by d[p]['betas'][i][j].\n",
    "    \"\"\"\n",
    "\n",
    "    d = dict(np.load(f, allow_pickle=True))['results'].item()\n",
    "    s = '#### ' + modename + '\\n'\n",
    "    s+= '| $p$| $\\\\beta(p)$ | $\\\\vert\\\\beta(p) - \\\\beta(p-1)\\\\vert$ ' + \\\n",
    "        '| $Z(p)$ |  $\\\\vert Z(p) - Z(p-1)\\\\vert$ |\\n'\n",
    "    s+= '|:--|:--:|:--:|:--:|: --:|\\n'\n",
    "    for p in range(2, max(d.keys())+1):\n",
    "        if p == 2:\n",
    "            s+= '|%d|%18.6f%+.6fj|' \\\n",
    "                % (p, d[p]['betas'][i][j].real, d[p]['betas'][i][j].imag) + \\\n",
    "                24*'-' + '|%11.9f%+.9fj|'  \\\n",
    "                % (d[p]['Zs'][i][j].real, d[p]['Zs'][i][j].imag) + \\\n",
    "                24*'-' + '|'\n",
    "        else:\n",
    "            s+= '|%d|%18.6f%+.6fj|%12.7f|%11.9f%+.9fj|%12.9f|' \\\n",
    "                % (p,\n",
    "                   d[p]['betas'][i][j].real,\n",
    "                   d[p]['betas'][i][j].imag,\n",
    "                   abs(d[p]['betas'][i][j]-d[p-1]['betas'][i][j]),\n",
    "                   d[p]['Zs'][i][j].real,\n",
    "                   d[p]['Zs'][i][j].imag,\n",
    "                   abs(d[p]['Zs'][i][j]-d[p-1]['Zs'][i][j]))\n",
    "        s += '\\n'\n",
    "    return d, s\n",
    "\n",
    "\n",
    "# ARF output folder\n",
    "outf = os.path.join(os.path.dirname(fiberamp.__file__), 'fiber/microstruct/outputs')"
   ]
  },
  {
   "cell_type": "markdown",
   "metadata": {},
   "source": [
    "Long runs were performed using these statements:\n",
    "\n",
    "```py\n",
    "betas_for_degree(refine=0, maxp=8, outputf='outputs/BetasZs_r0_p7')\n",
    "betas_for_degree(refine=1, maxp=7, outputf='outputs/BetasZs_r1_p6')\n",
    "```"
   ]
  },
  {
   "cell_type": "markdown",
   "metadata": {},
   "source": [
    "The tables below are then made using the saved data files and the `table` method above."
   ]
  },
  {
   "cell_type": "markdown",
   "metadata": {},
   "source": [
    "## Results"
   ]
  },
  {
   "cell_type": "code",
   "execution_count": 2,
   "metadata": {},
   "outputs": [
    {
     "data": {
      "text/markdown": [
       "#### LP02, refine=0\n",
       "| $p$| $\\beta(p)$ | $\\vert\\beta(p) - \\beta(p-1)\\vert$ | $Z(p)$ |  $\\vert Z(p) - Z(p-1)\\vert$ |\n",
       "|:--|:--:|:--:|:--:|: --:|\n",
       "|2|    3475060.881560+2.090223j|------------------------|5.095676011-0.000320727j|------------------------|\n",
       "|3|    3475059.523441+5.565917j|   3.7316128|5.095884461-0.000854008j| 0.000572573|\n",
       "|4|    3475059.736385+0.611455j|   4.9590366|5.095851716-0.000093819j| 0.000760894|\n",
       "|5|    3475060.884651+0.588755j|   1.1484904|5.095675527-0.000090340j| 0.000176223|\n",
       "|6|    3475061.130994+0.418165j|   0.2996431|5.095637728-0.000064164j| 0.000045978|\n",
       "|7|    3475061.205205+0.413774j|   0.0743407|5.095626340-0.000063491j| 0.000011407|\n"
      ],
      "text/plain": [
       "<IPython.core.display.Markdown object>"
      ]
     },
     "metadata": {},
     "output_type": "display_data"
    }
   ],
   "source": [
    "d, s = table(3, 0, 'LP02, refine=0', f=os.path.join(outf, 'BetasZs_r0_p7.npz'))\n",
    "display(Markdown(s))"
   ]
  },
  {
   "cell_type": "code",
   "execution_count": 3,
   "metadata": {},
   "outputs": [
    {
     "data": {
      "text/markdown": [
       "#### LP02, refine=1\n",
       "| $p$| $\\beta(p)$ | $\\vert\\beta(p) - \\beta(p-1)\\vert$ | $Z(p)$ |  $\\vert Z(p) - Z(p-1)\\vert$ |\n",
       "|:--|:--:|:--:|:--:|: --:|\n",
       "|2|    3475058.802757+2.787026j|------------------------|5.095994984-0.000427619j|------------------------|\n",
       "|3|    3475060.889743+0.400935j|   3.1700066|5.095674746-0.000061520j| 0.000486396|\n",
       "|4|    3475061.176635+0.422688j|   0.2877156|5.095630724-0.000064859j| 0.000044148|\n",
       "|5|    3475061.272804+0.404472j|   0.0978787|5.095615968-0.000062064j| 0.000015019|\n",
       "|6|    3475061.284324+0.387158j|   0.0207958|5.095614200-0.000059407j| 0.000003191|\n"
      ],
      "text/plain": [
       "<IPython.core.display.Markdown object>"
      ]
     },
     "metadata": {},
     "output_type": "display_data"
    }
   ],
   "source": [
    "d, s = table(3, 0, 'LP02, refine=1', f=os.path.join(outf, 'BetasZs_r1_p6.npz'))\n",
    "display(Markdown(s))"
   ]
  },
  {
   "cell_type": "code",
   "execution_count": 4,
   "metadata": {},
   "outputs": [
    {
     "data": {
      "text/markdown": [
       "#### LP21a, refine=0\n",
       "| $p$| $\\beta(p)$ | $\\vert\\beta(p) - \\beta(p-1)\\vert$ | $Z(p)$ |  $\\vert Z(p) - Z(p-1)\\vert$ |\n",
       "|:--|:--:|:--:|:--:|: --:|\n",
       "|2|    3477211.687327+6.339254j|------------------------|4.754102725-0.001043238j|------------------------|\n",
       "|3|    3477199.995148+9.474963j|  12.1053591|4.756026632-0.001558639j| 0.001991747|\n",
       "|4|    3477200.665696+2.855443j|   6.6533966|4.755916091-0.000469734j| 0.001094502|\n",
       "|5|    3477205.529124+1.954322j|   4.9462058|4.755115954-0.000321549j| 0.000813743|\n",
       "|6|    3477206.675454+1.342217j|   1.2995168|4.754927336-0.000220847j| 0.000213817|\n",
       "|7|    3477206.834002+1.346054j|   0.1585946|4.754901249-0.000221480j| 0.000026095|\n"
      ],
      "text/plain": [
       "<IPython.core.display.Markdown object>"
      ]
     },
     "metadata": {},
     "output_type": "display_data"
    }
   ],
   "source": [
    "d, s = table(2, 0, 'LP21a, refine=0', f=os.path.join(outf, 'BetasZs_r0_p7.npz'))\n",
    "display(Markdown(s))"
   ]
  },
  {
   "cell_type": "code",
   "execution_count": 5,
   "metadata": {},
   "outputs": [
    {
     "data": {
      "text/markdown": [
       "#### LP21a, refine=1\n",
       "| $p$| $\\beta(p)$ | $\\vert\\beta(p) - \\beta(p-1)\\vert$ | $Z(p)$ |  $\\vert Z(p) - Z(p-1)\\vert$ |\n",
       "|:--|:--:|:--:|:--:|: --:|\n",
       "|2|    3477196.743590+9.364983j|------------------------|4.756561479-0.001540372j|------------------------|\n",
       "|3|    3477205.595495+1.328968j|  11.9554911|4.755105028-0.000218659j| 0.001966768|\n",
       "|4|    3477206.808266+1.322212j|   1.2127902|4.754905483-0.000217557j| 0.000199548|\n",
       "|5|    3477206.801145+1.465198j|   0.1431631|4.754906656-0.000241083j| 0.000023556|\n",
       "|6|    3477206.872448+1.379580j|   0.1114202|4.754894923-0.000226996j| 0.000018333|\n"
      ],
      "text/plain": [
       "<IPython.core.display.Markdown object>"
      ]
     },
     "metadata": {},
     "output_type": "display_data"
    }
   ],
   "source": [
    "d, s = table(2, 0, 'LP21a, refine=1', f=os.path.join(outf, 'BetasZs_r1_p6.npz'))\n",
    "display(Markdown(s))"
   ]
  },
  {
   "cell_type": "code",
   "execution_count": 6,
   "metadata": {},
   "outputs": [
    {
     "data": {
      "text/markdown": [
       "#### LP21b, refine=0\n",
       "| $p$| $\\beta(p)$ | $\\vert\\beta(p) - \\beta(p-1)\\vert$ | $Z(p)$ |  $\\vert Z(p) - Z(p-1)\\vert$ |\n",
       "|:--|:--:|:--:|:--:|: --:|\n",
       "|2|    3477216.337003+7.317226j|------------------------|4.753337514-0.001204376j|------------------------|\n",
       "|3|    3477204.936911+29.596264j|  25.0263393|4.755215894-0.004869445j| 0.004118379|\n",
       "|4|    3477201.372311+2.145793j|  27.6809455|4.755799838-0.000353002j| 0.004554037|\n",
       "|5|    3477205.933539+1.617878j|   4.5916761|4.755049411-0.000266197j| 0.000755431|\n",
       "|6|    3477206.521750+1.386843j|   0.6319579|4.754952626-0.000228189j| 0.000103980|\n",
       "|7|    3477206.700375+1.482337j|   0.2025486|4.754923236-0.000243903j| 0.000033327|\n"
      ],
      "text/plain": [
       "<IPython.core.display.Markdown object>"
      ]
     },
     "metadata": {},
     "output_type": "display_data"
    }
   ],
   "source": [
    "d, s = table(2, 1, 'LP21b, refine=0', f=os.path.join(outf, 'BetasZs_r0_p7.npz'))\n",
    "display(Markdown(s))"
   ]
  },
  {
   "cell_type": "code",
   "execution_count": 7,
   "metadata": {},
   "outputs": [
    {
     "data": {
      "text/markdown": [
       "#### LP21b, refine=1\n",
       "| $p$| $\\beta(p)$ | $\\vert\\beta(p) - \\beta(p-1)\\vert$ | $Z(p)$ |  $\\vert Z(p) - Z(p-1)\\vert$ |\n",
       "|:--|:--:|:--:|:--:|: --:|\n",
       "|2|    3477198.661575+12.105503j|------------------------|4.756246163-0.001991272j|------------------------|\n",
       "|3|    3477205.802436+1.620817j|  12.6854460|4.755070982-0.000266680j| 0.002086928|\n",
       "|4|    3477206.802455+1.350003j|   1.0360396|4.754906439-0.000222129j| 0.000170467|\n",
       "|5|    3477206.754724+1.410925j|   0.0773937|4.754914293-0.000232153j| 0.000012734|\n",
       "|6|    3477206.893216+1.374446j|   0.1432158|4.754891506-0.000226152j| 0.000023565|\n"
      ],
      "text/plain": [
       "<IPython.core.display.Markdown object>"
      ]
     },
     "metadata": {},
     "output_type": "display_data"
    }
   ],
   "source": [
    "d, s = table(2, 1, 'LP21b, refine=1', f=os.path.join(outf, 'BetasZs_r1_p6.npz'))\n",
    "display(Markdown(s))"
   ]
  },
  {
   "cell_type": "code",
   "execution_count": 8,
   "metadata": {},
   "outputs": [
    {
     "data": {
      "text/markdown": [
       "#### LP11a, refine=0\n",
       "| $p$| $\\beta(p)$ | $\\vert\\beta(p) - \\beta(p-1)\\vert$ | $Z(p)$ |  $\\vert Z(p) - Z(p-1)\\vert$ |\n",
       "|:--|:--:|:--:|:--:|: --:|\n",
       "|2|    3483526.070402+0.094206j|------------------------|3.565405947-0.000020710j|------------------------|\n",
       "|3|    3483527.264841+0.138604j|   1.1952646|3.565143360-0.000030472j| 0.000262768|\n",
       "|4|    3483527.423358+0.005787j|   0.2068041|3.565108510-0.000001272j| 0.000045466|\n",
       "|5|    3483527.480720+0.060205j|   0.0790681|3.565095899-0.000013236j| 0.000017383|\n",
       "|6|    3483527.489168+0.016130j|   0.0448774|3.565094042-0.000003546j| 0.000009866|\n",
       "|7|    3483527.491529+0.016971j|   0.0025065|3.565093523-0.000003731j| 0.000000551|\n"
      ],
      "text/plain": [
       "<IPython.core.display.Markdown object>"
      ]
     },
     "metadata": {},
     "output_type": "display_data"
    }
   ],
   "source": [
    "d, s = table(1, 0, 'LP11a, refine=0', f=os.path.join(outf, 'BetasZs_r0_p7.npz'))\n",
    "display(Markdown(s))"
   ]
  },
  {
   "cell_type": "code",
   "execution_count": 9,
   "metadata": {},
   "outputs": [
    {
     "data": {
      "text/markdown": [
       "#### LP11a, refine=1\n",
       "| $p$| $\\beta(p)$ | $\\vert\\beta(p) - \\beta(p-1)\\vert$ | $Z(p)$ |  $\\vert Z(p) - Z(p-1)\\vert$ |\n",
       "|:--|:--:|:--:|:--:|: --:|\n",
       "|2|    3483527.042128+0.017195j|------------------------|3.565192323-0.000003780j|------------------------|\n",
       "|3|    3483527.467448+0.016550j|   0.4253207|3.565098817-0.000003638j| 0.000093506|\n",
       "|4|    3483527.497312+0.015733j|   0.0298744|3.565092251-0.000003459j| 0.000006568|\n",
       "|5|    3483527.496030+0.017650j|   0.0023061|3.565092533-0.000003880j| 0.000000507|\n",
       "|6|    3483527.497898+0.017252j|   0.0019098|3.565092123-0.000003793j| 0.000000420|\n"
      ],
      "text/plain": [
       "<IPython.core.display.Markdown object>"
      ]
     },
     "metadata": {},
     "output_type": "display_data"
    }
   ],
   "source": [
    "d, s = table(1, 0, 'LP11a, refine=1', f=os.path.join(outf, 'BetasZs_r1_p6.npz'))\n",
    "display(Markdown(s))"
   ]
  },
  {
   "cell_type": "code",
   "execution_count": 10,
   "metadata": {},
   "outputs": [
    {
     "data": {
      "text/markdown": [
       "#### LP11b, refine=0\n",
       "| $p$| $\\beta(p)$ | $\\vert\\beta(p) - \\beta(p-1)\\vert$ | $Z(p)$ |  $\\vert Z(p) - Z(p-1)\\vert$ |\n",
       "|:--|:--:|:--:|:--:|: --:|\n",
       "|2|    3483526.254640+0.122885j|------------------------|3.565365445-0.000027015j|------------------------|\n",
       "|3|    3483528.715435+0.805591j|   2.5537421|3.564824439-0.000177124j| 0.000561446|\n",
       "|4|    3483527.400809+0.023287j|   1.5297844|3.565113468-0.000005120j| 0.000336338|\n",
       "|5|    3483527.471265+0.016631j|   0.0707694|3.565097978-0.000003656j| 0.000015559|\n",
       "|6|    3483527.486902+0.016739j|   0.0156377|3.565094540-0.000003680j| 0.000003438|\n",
       "|7|    3483527.494956+0.017215j|   0.0080675|3.565092769-0.000003785j| 0.000001774|\n"
      ],
      "text/plain": [
       "<IPython.core.display.Markdown object>"
      ]
     },
     "metadata": {},
     "output_type": "display_data"
    }
   ],
   "source": [
    "d, s = table(1, 1, 'LP11b, refine=0', f=os.path.join(outf, 'BetasZs_r0_p7.npz'))\n",
    "display(Markdown(s))"
   ]
  },
  {
   "cell_type": "code",
   "execution_count": 11,
   "metadata": {},
   "outputs": [
    {
     "data": {
      "text/markdown": [
       "#### LP11a, refine=1\n",
       "| $p$| $\\beta(p)$ | $\\vert\\beta(p) - \\beta(p-1)\\vert$ | $Z(p)$ |  $\\vert Z(p) - Z(p-1)\\vert$ |\n",
       "|:--|:--:|:--:|:--:|: --:|\n",
       "|2|    3483527.082513+0.114613j|------------------------|3.565183445-0.000025197j|------------------------|\n",
       "|3|    3483527.476028+0.018933j|   0.4049799|3.565096931-0.000004162j| 0.000089035|\n",
       "|4|    3483527.492055+0.017370j|   0.0161029|3.565093407-0.000003819j| 0.000003540|\n",
       "|5|    3483527.496223+0.017576j|   0.0041731|3.565092491-0.000003864j| 0.000000917|\n",
       "|6|    3483527.498253+0.017218j|   0.0020620|3.565092044-0.000003785j| 0.000000453|\n"
      ],
      "text/plain": [
       "<IPython.core.display.Markdown object>"
      ]
     },
     "metadata": {},
     "output_type": "display_data"
    }
   ],
   "source": [
    "d, s = table(1, 1, 'LP11a, refine=1', f=os.path.join(outf, 'BetasZs_r1_p6.npz'))\n",
    "display(Markdown(s))"
   ]
  },
  {
   "cell_type": "code",
   "execution_count": 12,
   "metadata": {},
   "outputs": [
    {
     "data": {
      "text/markdown": [
       "#### LP01, refine=0\n",
       "| $p$| $\\beta(p)$ | $\\vert\\beta(p) - \\beta(p-1)\\vert$ | $Z(p)$ |  $\\vert Z(p) - Z(p-1)\\vert$ |\n",
       "|:--|:--:|:--:|:--:|: --:|\n",
       "|2|    3488412.583584-0.000440j|------------------------|2.246489213+0.000000154j|------------------------|\n",
       "|3|    3488413.170717-0.007407j|   0.5871747|2.246284068+0.000002588j| 0.000205160|\n",
       "|4|    3488413.174059-0.000214j|   0.0079307|2.246282900+0.000000075j| 0.000002771|\n",
       "|5|    3488413.176927+0.000348j|   0.0029224|2.246281898-0.000000122j| 0.000001021|\n",
       "|6|    3488413.177455+0.000368j|   0.0005281|2.246281713-0.000000129j| 0.000000185|\n",
       "|7|    3488413.177631+0.000378j|   0.0001770|2.246281652-0.000000132j| 0.000000062|\n"
      ],
      "text/plain": [
       "<IPython.core.display.Markdown object>"
      ]
     },
     "metadata": {},
     "output_type": "display_data"
    }
   ],
   "source": [
    "d, s = table(0, 0, 'LP01, refine=0', f=os.path.join(outf, 'BetasZs_r0_p7.npz'))\n",
    "display(Markdown(s))"
   ]
  },
  {
   "cell_type": "code",
   "execution_count": 13,
   "metadata": {},
   "outputs": [
    {
     "data": {
      "text/markdown": [
       "#### LP01, refine=1\n",
       "| $p$| $\\beta(p)$ | $\\vert\\beta(p) - \\beta(p-1)\\vert$ | $Z(p)$ |  $\\vert Z(p) - Z(p-1)\\vert$ |\n",
       "|:--|:--:|:--:|:--:|: --:|\n",
       "|2|    3488413.115561-0.004412j|------------------------|2.246303340+0.000001542j|------------------------|\n",
       "|3|    3488413.176355+0.000143j|   0.0609647|2.246282098-0.000000050j| 0.000021302|\n",
       "|4|    3488413.177607+0.000264j|   0.0012572|2.246281660-0.000000092j| 0.000000439|\n",
       "|5|    3488413.177757+0.000407j|   0.0002077|2.246281608-0.000000142j| 0.000000073|\n",
       "|6|    3488413.177799+0.000406j|   0.0000418|2.246281593-0.000000142j| 0.000000015|\n"
      ],
      "text/plain": [
       "<IPython.core.display.Markdown object>"
      ]
     },
     "metadata": {},
     "output_type": "display_data"
    }
   ],
   "source": [
    "d, s = table(0, 0, 'LP01, refine=1', f=os.path.join(outf, 'BetasZs_r1_p6.npz'))\n",
    "display(Markdown(s))"
   ]
  }
 ],
 "metadata": {
  "kernelspec": {
   "display_name": "Python 3",
   "language": "python",
   "name": "python3"
  },
  "language_info": {
   "codemirror_mode": {
    "name": "ipython",
    "version": 3
   },
   "file_extension": ".py",
   "mimetype": "text/x-python",
   "name": "python",
   "nbconvert_exporter": "python",
   "pygments_lexer": "ipython3",
   "version": "3.8.0"
  }
 },
 "nbformat": 4,
 "nbformat_minor": 2
}
