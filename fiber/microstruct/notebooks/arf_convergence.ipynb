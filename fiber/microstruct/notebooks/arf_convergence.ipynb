{
 "cells": [
  {
   "cell_type": "markdown",
   "metadata": {},
   "source": [
    "# Convergence of propagation constants"
   ]
  },
  {
   "cell_type": "markdown",
   "metadata": {},
   "source": [
    "In this notebook, we consider the default case of ARF fiber with embedded capillaries and study how the computed eigenvalues change with polynomial degree $p$ and mesh refinement. In particular, we are interested assessing how many digits of the propagation constants computed are trustable. Digits that stabilize as degrees of freedom increase may be trusted.\n",
    "\n",
    "(Direct questions on this notebook to  Jay Gopalakrishnan, Benjamin Parker, or Pieter Vandenberge.)"
   ]
  },
  {
   "cell_type": "markdown",
   "metadata": {},
   "source": [
    "## How the results here were produced"
   ]
  },
  {
   "cell_type": "code",
   "execution_count": null,
   "metadata": {},
   "outputs": [],
   "source": [
    "from fiberamp.fiber.microstruct import ARF   \n",
    "import numpy as np\n",
    "import os \n",
    "import fiberamp\n",
    "from IPython.display import display, Markdown\n",
    "\n",
    "def betas_for_degree(refine=0, maxp=8, outputf='outputs/BetasZs'):\n",
    "    \"\"\" Perform long runs computing eigenvalues for polynomial\n",
    "    degrees from 2 to maxp on a mized mesh obtained by refining\n",
    "    \"refine\" times. \"\"\"\n",
    "\n",
    "    a = ARF()\n",
    "    for i in range(refine):\n",
    "        a.refine()\n",
    "    results = {}\n",
    "    for p in range(2, maxp):\n",
    "        Zs, Ys, betas = a.polyeig(p=p)\n",
    "        results[p] = {'Zs': Zs,  'betas': betas}\n",
    "    np.savez('BetasZs', results=results)\n",
    "\n",
    "\n",
    "def table(i, j, modename, f='outputs/BetasZs.npz'):\n",
    "    \"\"\" Produce a markdown table from the data file f\n",
    "    assuming f is generated from betas_for_degree(..).\n",
    "    Propagation constants are extracted from dict d\n",
    "    (extracted from saved datafile) by d[p]['betas'][i][j].\n",
    "    \"\"\"\n",
    "\n",
    "    d = dict(np.load(f, allow_pickle=True))['results'].item()\n",
    "    s = '#### ' + modename + '\\n'\n",
    "    s+= '| $p$| $\\\\beta(p)$ | $\\\\vert\\\\beta(p) - \\\\beta(p-1)\\\\vert$ ' + \\\n",
    "        '| $Z(p)$ |  $\\\\vert Z(p) - Z(p-1)\\\\vert$ |\\n'\n",
    "    s+= '|:--|:--:|:--:|:--:|: --:|\\n'\n",
    "    for p in range(2, max(d.keys())+1):\n",
    "        if p == 2:\n",
    "            s+= '|%d|%18.6f%+.6fj|' \\\n",
    "                % (p, d[p]['betas'][i][j].real, d[p]['betas'][i][j].imag) + \\\n",
    "                24*'-' + '|%11.9f%+.9fj|'  \\\n",
    "                % (d[p]['Zs'][i][j].real, d[p]['Zs'][i][j].imag) + \\\n",
    "                24*'-' + '|'\n",
    "        else:\n",
    "            s+= '|%d|%18.6f%+.6fj|%12.7f|%11.9f%+.9fj|%12.9f|' \\\n",
    "                % (p,\n",
    "                   d[p]['betas'][i][j].real,\n",
    "                   d[p]['betas'][i][j].imag,\n",
    "                   abs(d[p]['betas'][i][j]-d[p-1]['betas'][i][j]),\n",
    "                   d[p]['Zs'][i][j].real,\n",
    "                   d[p]['Zs'][i][j].imag,\n",
    "                   abs(d[p]['Zs'][i][j]-d[p-1]['Zs'][i][j]))\n",
    "        s += '\\n'\n",
    "    return d, s\n",
    "\n",
    "\n",
    "# ARF output folder\n",
    "outf = os.path.join(os.path.dirname(fiberamp.__file__), 'fiber/microstruct/outputs')"
   ]
  },
  {
   "cell_type": "markdown",
   "metadata": {},
   "source": [
    "Long runs were performed using these statements:\n",
    "\n",
    "```py\n",
    "betas_for_degree(refine=0, maxp=8, outputf='outputs/BetasZs_r0_p7')\n",
    "betas_for_degree(refine=1, maxp=7, outputf='outputs/BetasZs_r1_p6')\n",
    "```"
   ]
  },
  {
   "cell_type": "markdown",
   "metadata": {},
   "source": [
    "The tables below are then made using the saved data files and the `table` method above."
   ]
  },
  {
   "cell_type": "markdown",
   "metadata": {},
   "source": [
    "## Results"
   ]
  },
  {
   "cell_type": "code",
   "execution_count": null,
   "metadata": {},
   "outputs": [],
   "source": [
    "d, s = table(3, 0, 'LP02, refine=0', f=os.path.join(outf, 'BetasZs_r0_p7.npz'))\n",
    "display(Markdown(s))"
   ]
  },
  {
   "cell_type": "code",
   "execution_count": null,
   "metadata": {},
   "outputs": [],
   "source": [
    "d, s = table(3, 0, 'LP02, refine=1', f=os.path.join(outf, 'BetasZs_r1_p6.npz'))\n",
    "display(Markdown(s))"
   ]
  },
  {
   "cell_type": "code",
   "execution_count": null,
   "metadata": {},
   "outputs": [],
   "source": [
    "d, s = table(2, 0, 'LP21a, refine=0', f=os.path.join(outf, 'BetasZs_r0_p7.npz'))\n",
    "display(Markdown(s))"
   ]
  },
  {
   "cell_type": "code",
   "execution_count": null,
   "metadata": {},
   "outputs": [],
   "source": [
    "d, s = table(2, 0, 'LP21a, refine=1', f=os.path.join(outf, 'BetasZs_r1_p6.npz'))\n",
    "display(Markdown(s))"
   ]
  },
  {
   "cell_type": "code",
   "execution_count": null,
   "metadata": {},
   "outputs": [],
   "source": [
    "d, s = table(2, 1, 'LP21b, refine=0', f=os.path.join(outf, 'BetasZs_r0_p7.npz'))\n",
    "display(Markdown(s))"
   ]
  },
  {
   "cell_type": "code",
   "execution_count": null,
   "metadata": {},
   "outputs": [],
   "source": [
    "d, s = table(2, 1, 'LP21b, refine=1', f=os.path.join(outf, 'BetasZs_r1_p6.npz'))\n",
    "display(Markdown(s))"
   ]
  },
  {
   "cell_type": "code",
   "execution_count": null,
   "metadata": {},
   "outputs": [],
   "source": [
    "d, s = table(1, 0, 'LP11a, refine=0', f=os.path.join(outf, 'BetasZs_r0_p7.npz'))\n",
    "display(Markdown(s))"
   ]
  },
  {
   "cell_type": "code",
   "execution_count": null,
   "metadata": {},
   "outputs": [],
   "source": [
    "d, s = table(1, 0, 'LP11a, refine=1', f=os.path.join(outf, 'BetasZs_r1_p6.npz'))\n",
    "display(Markdown(s))"
   ]
  },
  {
   "cell_type": "code",
   "execution_count": null,
   "metadata": {},
   "outputs": [],
   "source": [
    "d, s = table(1, 1, 'LP11b, refine=0', f=os.path.join(outf, 'BetasZs_r0_p7.npz'))\n",
    "display(Markdown(s))"
   ]
  },
  {
   "cell_type": "code",
   "execution_count": null,
   "metadata": {},
   "outputs": [],
   "source": [
    "d, s = table(1, 1, 'LP11a, refine=1', f=os.path.join(outf, 'BetasZs_r1_p6.npz'))\n",
    "display(Markdown(s))"
   ]
  },
  {
   "cell_type": "code",
   "execution_count": null,
   "metadata": {},
   "outputs": [],
   "source": [
    "d, s = table(0, 0, 'LP01, refine=0', f=os.path.join(outf, 'BetasZs_r0_p7.npz'))\n",
    "display(Markdown(s))"
   ]
  },
  {
   "cell_type": "code",
   "execution_count": null,
   "metadata": {},
   "outputs": [],
   "source": [
    "d, s = table(0, 0, 'LP01, refine=1', f=os.path.join(outf, 'BetasZs_r1_p6.npz'))\n",
    "display(Markdown(s))"
   ]
  }
 ],
 "metadata": {
  "kernelspec": {
   "display_name": "Python 3",
   "language": "python",
   "name": "python3"
  },
  "language_info": {
   "codemirror_mode": {
    "name": "ipython",
    "version": 3
   },
   "file_extension": ".py",
   "mimetype": "text/x-python",
   "name": "python",
   "nbconvert_exporter": "python",
   "pygments_lexer": "ipython3",
   "version": "3.8.0"
  }
 },
 "nbformat": 4,
 "nbformat_minor": 2
}
