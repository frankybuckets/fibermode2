{
 "cells": [
  {
   "cell_type": "markdown",
   "metadata": {},
   "source": [
    "# Convergence of propagation constants"
   ]
  },
  {
   "cell_type": "markdown",
   "metadata": {},
   "source": [
    "We consider the default case of embedded capillaries and study how the computed eigenvalues change with polynomial degree $p$ and mesh refinement."
   ]
  },
  {
   "cell_type": "markdown",
   "metadata": {},
   "source": [
    "## How the results here were produced"
   ]
  },
  {
   "cell_type": "code",
   "execution_count": 1,
   "metadata": {},
   "outputs": [],
   "source": [
    "from fiberamp.fiber.microstruct import ARF   \n",
    "import numpy as np\n",
    "import os \n",
    "import fiberamp\n",
    "\n",
    "def betas_for_degree(refine=0, maxp=8, outputf='outputs/BetasZs'):\n",
    "    \"\"\" Perform long runs computing eigenvalues for polynomial\n",
    "    degrees from 2 to maxp on a mized mesh obtained by refining\n",
    "    \"refine\" times. \"\"\"\n",
    "\n",
    "    a = ARF()\n",
    "    for i in range(refine):\n",
    "        a.refine()\n",
    "    results = {}\n",
    "    for p in range(2, maxp):\n",
    "        Zs, Ys, betas = a.polyeig(p=p)\n",
    "        results[p] = {'Zs': Zs,  'betas': betas}\n",
    "    np.savez('BetasZs', results=results)\n",
    "\n",
    "\n",
    "def table(i, j, modename, f='outputs/BetasZs.npz'):\n",
    "    \"\"\" Produce a markdown table from the data file f\n",
    "    assuming f is generated from betas_for_degree(..).\n",
    "    Propagation constants are extracted from dict d\n",
    "    (extracted from saved datafile) by d[p]['betas'][i][j].\n",
    "    \"\"\"\n",
    "\n",
    "    d = dict(np.load(f, allow_pickle=True))['results'].item()\n",
    "    print('#### ' + modename)\n",
    "    print('| $p$| $\\\\beta(p)$ | $\\\\vert\\\\beta(p) - \\\\beta(p-1)\\\\vert$ ' +\n",
    "          '| $Z(p)$ |  $\\\\vert Z(p) - Z(p-1)\\\\vert$ |')\n",
    "    print('|:--|:--:|:--:|:--:|: --:|')\n",
    "    for p in range(2, max(d.keys())+1):\n",
    "        if p == 2:\n",
    "            s = '|%d|%18.6f%+.6fj|' \\\n",
    "                % (p, d[p]['betas'][i][j].real, d[p]['betas'][i][j].imag) + \\\n",
    "                24*'-' + '|%10.8f%+.8fj|'  \\\n",
    "                % (d[p]['Zs'][i][j].real, d[p]['Zs'][i][j].imag) + \\\n",
    "                24*'-' + '|'\n",
    "        else:\n",
    "            s = '|%d|%18.6f%+.6fj|%12.7f|%10.8f%+.8fj|%12.8f|' \\\n",
    "                % (p,\n",
    "                   d[p]['betas'][i][j].real,\n",
    "                   d[p]['betas'][i][j].imag,\n",
    "                   abs(d[p]['betas'][i][j]-d[p-1]['betas'][i][j]),\n",
    "                   d[p]['Zs'][i][j].real,\n",
    "                   d[p]['Zs'][i][j].imag,\n",
    "                   abs(d[p]['Zs'][i][j]-d[p-1]['Zs'][i][j]))\n",
    "        print(s)\n",
    "    return d\n",
    "\n",
    "\n",
    "# ARF output folder\n",
    "outf = os.path.join(os.path.dirname(fiberamp.__file__), 'fiber/microstruct/outputs')"
   ]
  },
  {
   "cell_type": "markdown",
   "metadata": {},
   "source": [
    "Long runs were performed using \n",
    "\n",
    "```py\n",
    "betas_for_degree(refine=0, maxp=8, outputf='outputs/BetasZs_r0_p7')\n",
    "betas_for_degree(refine=1, maxp=7, outputf='outputs/BetasZs_r1_p6')\n",
    "```"
   ]
  },
  {
   "cell_type": "markdown",
   "metadata": {},
   "source": [
    "The table below are then made using the saved data files. E.g., if you have the output file `BetasZs_r0_p7` in the `outputs` folder of `microstruct` submodule, then the following will print out a table."
   ]
  },
  {
   "cell_type": "code",
   "execution_count": 2,
   "metadata": {},
   "outputs": [
    {
     "name": "stdout",
     "output_type": "stream",
     "text": [
      "#### LP02\n",
      "| $p$| $\\beta(p)$ | $\\vert\\beta(p) - \\beta(p-1)\\vert$ | $Z(p)$ |  $\\vert Z(p) - Z(p-1)\\vert$ |\n",
      "|:--|:--:|:--:|:--:|: --:|\n",
      "|2|    3475060.881560+2.090223j|------------------------|5.09567601-0.00032073j|------------------------|\n",
      "|3|    3475059.523441+5.565917j|   3.7316128|5.09588446-0.00085401j|  0.00057257|\n",
      "|4|    3475059.736385+0.611455j|   4.9590366|5.09585172-0.00009382j|  0.00076089|\n",
      "|5|    3475060.884651+0.588755j|   1.1484904|5.09567553-0.00009034j|  0.00017622|\n",
      "|6|    3475061.130994+0.418165j|   0.2996431|5.09563773-0.00006416j|  0.00004598|\n",
      "|7|    3475061.205205+0.413774j|   0.0743407|5.09562634-0.00006349j|  0.00001141|\n"
     ]
    }
   ],
   "source": [
    "outputfile = os.path.join(outf, 'BetasZs_r0_p7.npz')\n",
    "if os.path.exists(outputfile): d = table(3, 0, 'LP02', f=outputfile)\n",
    "else:  print('Generate outputfile first!')"
   ]
  },
  {
   "cell_type": "markdown",
   "metadata": {},
   "source": [
    "## Results"
   ]
  },
  {
   "cell_type": "markdown",
   "metadata": {},
   "source": [
    "#### LP02\n",
    "| $p$| $\\beta(p)$ | $\\vert\\beta(p) - \\beta(p-1)\\vert$ | $Z(p)$ |  $\\vert Z(p) - Z(p-1)\\vert$ |\n",
    "|:--|:--:|:--:|:--:|: --:|\n",
    "|2|    3475060.881560+2.090223j|------------------------|5.09567601-0.00032073j|------------------------|\n",
    "|3|    3475059.523441+5.565917j|   3.7316128|5.09588446-0.00085401j|  0.00057257|\n",
    "|4|    3475059.736385+0.611455j|   4.9590366|5.09585172-0.00009382j|  0.00076089|\n",
    "|5|    3475060.884651+0.588755j|   1.1484904|5.09567553-0.00009034j|  0.00017622|\n",
    "|6|    3475061.130994+0.418165j|   0.2996431|5.09563773-0.00006416j|  0.00004598|\n",
    "|7|    3475061.205205+0.413774j|   0.0743407|5.09562634-0.00006349j|  0.00001141|\n"
   ]
  },
  {
   "cell_type": "markdown",
   "metadata": {},
   "source": [
    "#### LP21a\n",
    "| $p$| $\\beta(p)$ | $\\vert\\beta(p) - \\beta(p-1)\\vert$ | $Z(p)$ |  $\\vert Z(p) - Z(p-1)\\vert$ |\n",
    "|:--|:--:|:--:|:--:|: --:|\n",
    "|2|    3477211.687327+6.339254j|------------------------|4.75410272-0.00104324j|------------------------|\n",
    "|3|    3477199.995148+9.474963j|  12.1053591|4.75602663-0.00155864j|  0.00199175|\n",
    "|4|    3477200.665696+2.855443j|   6.6533966|4.75591609-0.00046973j|  0.00109450|\n",
    "|5|    3477205.529124+1.954322j|   4.9462058|4.75511595-0.00032155j|  0.00081374|\n",
    "|6|    3477206.675454+1.342217j|   1.2995168|4.75492734-0.00022085j|  0.00021382|\n",
    "|7|    3477206.834002+1.346054j|   0.1585946|4.75490125-0.00022148j|  0.00002610|\n",
    "\n",
    "```py\n",
    "d = table(2, 0, 'LP21a', f=outputfile);\n",
    "```"
   ]
  },
  {
   "cell_type": "markdown",
   "metadata": {},
   "source": [
    "#### LP21b\n",
    "| $p$| $\\beta(p)$ | $\\vert\\beta(p) - \\beta(p-1)\\vert$ | $Z(p)$ |  $\\vert Z(p) - Z(p-1)\\vert$ |\n",
    "|:--|:--:|:--:|:--:|: --:|\n",
    "|2|    3477216.337003+7.317226j|------------------------|4.75333751-0.00120438j|------------------------|\n",
    "|3|    3477204.936911+29.596264j|  25.0263393|4.75521589-0.00486944j|  0.00411838|\n",
    "|4|    3477201.372311+2.145793j|  27.6809455|4.75579984-0.00035300j|  0.00455404|\n",
    "|5|    3477205.933539+1.617878j|   4.5916761|4.75504941-0.00026620j|  0.00075543|\n",
    "|6|    3477206.521750+1.386843j|   0.6319579|4.75495263-0.00022819j|  0.00010398|\n",
    "|7|    3477206.700375+1.482337j|   0.2025486|4.75492324-0.00024390j|  0.00003333|\n",
    "\n",
    "```py\n",
    "d = table(2, 1, 'LP21b', f=outputfile);\n",
    "```"
   ]
  },
  {
   "cell_type": "markdown",
   "metadata": {},
   "source": [
    "#### LP11a\n",
    "| $p$| $\\beta(p)$ | $\\vert\\beta(p) - \\beta(p-1)\\vert$ | $Z(p)$ |  $\\vert Z(p) - Z(p-1)\\vert$ |\n",
    "|:--|:--:|:--:|:--:|: --:|\n",
    "|2|    3483526.070402+0.094206j|------------------------|3.56540595-0.00002071j|------------------------|\n",
    "|3|    3483527.264841+0.138604j|   1.1952646|3.56514336-0.00003047j|  0.00026277|\n",
    "|4|    3483527.423358+0.005787j|   0.2068041|3.56510851-0.00000127j|  0.00004547|\n",
    "|5|    3483527.480720+0.060205j|   0.0790681|3.56509590-0.00001324j|  0.00001738|\n",
    "|6|    3483527.489168+0.016130j|   0.0448774|3.56509404-0.00000355j|  0.00000987|\n",
    "|7|    3483527.491529+0.016971j|   0.0025065|3.56509352-0.00000373j|  0.00000055|\n",
    "\n",
    "```py\n",
    "d = table(1, 0, 'LP11a', f=outputfile)\n",
    "```"
   ]
  },
  {
   "cell_type": "markdown",
   "metadata": {},
   "source": [
    "#### LP11b\n",
    "| $p$| $\\beta(p)$ | $\\vert\\beta(p) - \\beta(p-1)\\vert$ | $Z(p)$ |  $\\vert Z(p) - Z(p-1)\\vert$ |\n",
    "|:--|:--:|:--:|:--:|: --:|\n",
    "|2|    3483526.254640+0.122885j|------------------------|3.56536545-0.00002701j|------------------------|\n",
    "|3|    3483528.715435+0.805591j|   2.5537421|3.56482444-0.00017712j|  0.00056145|\n",
    "|4|    3483527.400809+0.023287j|   1.5297844|3.56511347-0.00000512j|  0.00033634|\n",
    "|5|    3483527.471265+0.016631j|   0.0707694|3.56509798-0.00000366j|  0.00001556|\n",
    "|6|    3483527.486902+0.016739j|   0.0156377|3.56509454-0.00000368j|  0.00000344|\n",
    "|7|    3483527.494956+0.017215j|   0.0080675|3.56509277-0.00000378j|  0.00000177|\n",
    "\n",
    "```py\n",
    "d = table(1, 1, 'LP11b', f=outputfile)\n",
    "```"
   ]
  },
  {
   "cell_type": "markdown",
   "metadata": {},
   "source": [
    "#### LP01\n",
    "| $p$| $\\beta(p)$ | $\\vert\\beta(p) - \\beta(p-1)\\vert$ | $Z(p)$ |  $\\vert Z(p) - Z(p-1)\\vert$ |\n",
    "|:--|:--:|:--:|:--:|: --:|\n",
    "|2|    3488412.583584-0.000440j|------------------------|2.24648921+0.00000015j|------------------------|\n",
    "|3|    3488413.170717-0.007407j|   0.5871747|2.24628407+0.00000259j|  0.00020516|\n",
    "|4|    3488413.174059-0.000214j|   0.0079307|2.24628290+0.00000007j|  0.00000277|\n",
    "|5|    3488413.176927+0.000348j|   0.0029224|2.24628190-0.00000012j|  0.00000102|\n",
    "|6|    3488413.177455+0.000368j|   0.0005281|2.24628171-0.00000013j|  0.00000018|\n",
    "|7|    3488413.177631+0.000378j|   0.0001770|2.24628165-0.00000013j|  0.00000006|\n",
    "\n",
    "```py\n",
    "d = table(0, 0, 'LP01', f=outputfile)\n",
    "```"
   ]
  }
 ],
 "metadata": {
  "kernelspec": {
   "display_name": "Python 3",
   "language": "python",
   "name": "python3"
  },
  "language_info": {
   "codemirror_mode": {
    "name": "ipython",
    "version": 3
   },
   "file_extension": ".py",
   "mimetype": "text/x-python",
   "name": "python",
   "nbconvert_exporter": "python",
   "pygments_lexer": "ipython3",
   "version": "3.8.0"
  }
 },
 "nbformat": 4,
 "nbformat_minor": 2
}
