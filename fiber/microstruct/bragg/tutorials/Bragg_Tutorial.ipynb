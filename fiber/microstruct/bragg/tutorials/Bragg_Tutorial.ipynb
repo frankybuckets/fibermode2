{
 "cells": [
  {
   "cell_type": "code",
   "execution_count": null,
   "id": "1746c1c5",
   "metadata": {},
   "outputs": [],
   "source": [
    "import numpy as np\n",
    "from ngsolve.webgui import Draw\n",
    "from ngsolve import CF\n",
    "from fiberamp.fiber.microstruct.bragg import Bragg, BraggExact, BraggScalar, plotlogf\n",
    "from scipy.optimize import newton"
   ]
  },
  {
   "cell_type": "markdown",
   "id": "3dc0b87a",
   "metadata": {},
   "source": [
    "# Bragg Package Tutorial\n",
    "\n",
    "The Bragg Package contains python classes allowing the user to model Bragg type fibers.  These fibers consist of nested rings of homogeneous material.  The classes allow for an arbitrary number of these rings.  One can find the exact fields associated with leaky and guided modes of these fibers, approximate fields based on smooth interface conditions, or use numerical methods to try and match the exact and/or approximate field.  There are 3 associated classes:\n",
    "\n",
    "- BraggExact: Find exact leaky or guided modes based on Maxwell's Interface conditions.\n",
    "- BraggScalar: Find scalar modes based on smooth interface conditions.\n",
    "- Bragg: Approximated the modes numerically using methods from parent class ModeSolver.\n",
    "\n",
    "All three classes build a mesh and allow the user to visualize the obtained solutions."
   ]
  },
  {
   "cell_type": "code",
   "execution_count": null,
   "id": "f061e5a7",
   "metadata": {},
   "outputs": [],
   "source": [
    "Draw(Bragg().mesh)"
   ]
  },
  {
   "cell_type": "markdown",
   "id": "5e3822d2",
   "metadata": {},
   "source": [
    "# Creating an instance of a Bragg fiber class\n",
    "\n",
    "In this section we describe the necessary inputs to create instances of classes in the Bragg fiber package:"
   ]
  },
  {
   "cell_type": "markdown",
   "id": "00a84e3a",
   "metadata": {},
   "source": [
    "### Common Requirements\n",
    "\n",
    "All the classes require 4 lists (or arrays) of the same length:\n",
    "\n",
    "- ts: Gives the (dimensional) thickness of each layer.  The first entry is the radius of the core, the second the thickness of the first non-core material layer.  These values will be non-dimensionalized by a provided scaling factor prior to being used to construct the mesh.  Can be a float or integer.  \n",
    "\n",
    "- ns: Gives the refractive index at each layer.  The entries can be floats or functions of wavelength (if including dispersion).\n",
    "\n",
    "- mats: Gives names for the materials at each index.  Entries should be strings.  For the Bragg class the last entry must be 'Outer' to satisfy parent class.\n",
    "\n",
    "- maxh: Gives maxh for mesh in each layer.  These values are scaled by the non-dimensionalize radii before being used, so a maxh of .1 means the true used maxh at that layer is .1 times the non-dimensional radius of the inner radius of that layer.\n",
    "\n",
    "If the above lists aren't the same length an error is raised.  \n",
    "\n",
    "In addition to this, all classes require the following:\n",
    "\n",
    "- scale: float giving length to use for non-dimensionalization.  This is typically taken to be the same as the core radius, i.e. ts[0].\n",
    "\n",
    "- wl: wavelength.\n",
    "\n",
    "- bcs: either None or list/array of strings giving names for the material interfaces.  If not provided a default naming system is used.  If provided and the class is Bragg, the last entry must be 'OuterCircle' to satisfy parent class.\n",
    "\n",
    "- ref: integer giving number of refinements for mesh.\n",
    "\n",
    "- curve: factor for mesh curvature.  Needs to be higher than order for numerical convergence.\n",
    "\n",
    "All the above are set to defaults giving a glass ring in air.  For the Bragg class this requires an extra layer of PML.\n",
    "\n",
    "### Class specific inputs:\n",
    "\n",
    "- For BraggScalar and BraggExact:\n",
    "\n",
    "    - no_mesh=True/False: If set to True no mesh is built.  This allows for computation of propagation constants without the overhead of building a mesh.\n",
    "    \n",
    "- For Bragg:\n",
    "\n",
    "    - fan=True/False: If set to True the mesh is created with Perfectly absorbing conditions on the lower half and opens to air/PML on the top.  Used to see if the effects observed in ARF fibers are due to the air cladding interface.\n",
    "    - beta_sq_plane=True/False:  If set to True looks for propagation constants using beta squared instead of Z squared.  Useful when truncating cladding for leaky modes that travel in non ambient material (like for a PBG fiber).\n"
   ]
  },
  {
   "cell_type": "markdown",
   "id": "1f7a256a",
   "metadata": {},
   "source": [
    "# BraggScalar: Finding approximate Modes\n",
    "\n",
    "We begin by showing how to use the BraggScalar class to find approximate modes.  The inputs shown are the defaults\n"
   ]
  },
  {
   "cell_type": "code",
   "execution_count": null,
   "id": "4cbebb3e",
   "metadata": {},
   "outputs": [],
   "source": [
    "A = BraggScalar(scale=5e-5,\n",
    "                ts=[5e-5, 1e-5, 2e-5],\n",
    "                ns=[1, 1.44, 1],\n",
    "                mats=['air', 'glass', 'air'], \n",
    "                maxhs=[.2, .02, .08], \n",
    "                bcs=None, no_mesh=False,\n",
    "                wl=1.2e-6, ref=0, curve=8)"
   ]
  },
  {
   "cell_type": "markdown",
   "id": "823fef63",
   "metadata": {},
   "source": [
    "### Attributes:"
   ]
  },
  {
   "cell_type": "code",
   "execution_count": null,
   "id": "6f5a7e43",
   "metadata": {},
   "outputs": [],
   "source": [
    "A.__dict__"
   ]
  },
  {
   "cell_type": "markdown",
   "id": "ab2ec52f",
   "metadata": {},
   "source": [
    "### Mesh and index function"
   ]
  },
  {
   "cell_type": "code",
   "execution_count": null,
   "id": "a9b2b569",
   "metadata": {},
   "outputs": [],
   "source": [
    "Draw(CF(list(A.ns)), A.mesh)"
   ]
  },
  {
   "cell_type": "markdown",
   "id": "1a9f8747",
   "metadata": {},
   "source": [
    "# Modefinding\n",
    "\n",
    "BraggScalar finds modes semi-analytically.  It calculates the determinant of a matrix and the zeros of this determinant give the propagation constants.  From this the modes can be found.\n",
    "\n",
    "We luckily know where modes are likely to be found.  If we are looking for leaky modes, their real parts tend to appear just below the the lowest value of the wavenumber.  The wavenumber is different for each material and can be calculated as\n",
    "\n",
    "$k = k_0 n =(2\\pi/\\lambda)\\, n$\n",
    "\n",
    "where $\\lambda$ is the input wavelength.  If we are looking for guided modes their real parts must appear between the lowest value of $k$ and the highest.  We calculate these here:"
   ]
  },
  {
   "cell_type": "code",
   "execution_count": null,
   "id": "808c2241",
   "metadata": {},
   "outputs": [],
   "source": [
    "k_low = A.k0 * A.ns[0] * A.scale\n",
    "k_high = A.k0 * A.ns[1] * A.scale\n",
    "k_low, k_high"
   ]
  },
  {
   "cell_type": "markdown",
   "id": "259c78a4",
   "metadata": {},
   "source": [
    "Note that e use non-dimensionalized values when modefinding. That's why we scaled by A.scale above.  "
   ]
  },
  {
   "cell_type": "markdown",
   "id": "f6d2d188",
   "metadata": {},
   "source": [
    "### Other important quantities for modefinding:\n",
    "\n",
    "- nu:  Each mode varies sinusoidally in the azimuthal direction.  The number of waves in this behavior is given by $\\nu$, here given as the variable nu.  \n",
    "\n",
    "- outer: The outer behavior of a mode can be decaying (guided) or blowing up (leaky).  These behaviors are determined by which of two Hankel functions are used in the outer region.  We need to pick Hankel1 or Hankel2 ('h1' or 'h2')\n",
    "\n",
    "We're looking for leaky modes, so we pick 'h2', and we want the fundamental, which for scalar modes means we want nu=0."
   ]
  },
  {
   "cell_type": "code",
   "execution_count": null,
   "id": "707227f1",
   "metadata": {},
   "outputs": [],
   "source": [
    "outer = 'h2'\n",
    "nu = 0"
   ]
  },
  {
   "cell_type": "markdown",
   "id": "79a1f6fd",
   "metadata": {},
   "source": [
    "# Visualizing the complex eigenfunction\n",
    "\n",
    "To find the propagation constants, we need to see where the zeros of the determinant function are.  We do this by pluggin in the function A.determinant into the utility function plotlogf."
   ]
  },
  {
   "cell_type": "code",
   "execution_count": null,
   "id": "2a9fcca3",
   "metadata": {},
   "outputs": [],
   "source": [
    "A.determinant?"
   ]
  },
  {
   "cell_type": "code",
   "execution_count": null,
   "id": "ba0d44b5",
   "metadata": {},
   "outputs": [],
   "source": [
    "plotlogf?"
   ]
  },
  {
   "cell_type": "markdown",
   "id": "f40cb40c",
   "metadata": {},
   "source": [
    "Large scale plot:"
   ]
  },
  {
   "cell_type": "code",
   "execution_count": null,
   "id": "4a48598e",
   "metadata": {},
   "outputs": [],
   "source": [
    "plotlogf(A.determinant,.995*k_low,1.0001*k_low, -.1,.1, nu, outer,\n",
    "         iref=100, rref=100, levels=100, figsize=(12,8))"
   ]
  },
  {
   "cell_type": "markdown",
   "id": "45605bb9",
   "metadata": {},
   "source": [
    "Fundamental mode:"
   ]
  },
  {
   "cell_type": "code",
   "execution_count": null,
   "id": "eaa58c70",
   "metadata": {},
   "outputs": [],
   "source": [
    "plotlogf(A.determinant,.9999*k_low,1.00001*k_low, -.01,.01, nu, outer,\n",
    "         iref=100, rref=100, levels=100, figsize=(12,8))"
   ]
  },
  {
   "cell_type": "markdown",
   "id": "857a2b5a",
   "metadata": {},
   "source": [
    "# Getting the constant\n",
    "\n",
    "For this we use the newton solver from scipy:"
   ]
  },
  {
   "cell_type": "code",
   "execution_count": null,
   "id": "ed559b84",
   "metadata": {},
   "outputs": [],
   "source": [
    "guess = np.array(.99995*k_low)\n",
    "\n",
    "beta1 = newton(A.determinant, guess, args=(nu, outer), tol = 1e-15)\n",
    "\n",
    "print(\"Scaled beta: \", beta1, \". Residual of determinant: \", abs(A.determinant(beta1, nu, outer)))\n"
   ]
  },
  {
   "cell_type": "markdown",
   "id": "bd6c2fb9",
   "metadata": {},
   "source": [
    "# Visualizing Fields\n",
    "\n",
    "Now that we have beta we can form the fields:"
   ]
  },
  {
   "cell_type": "code",
   "execution_count": null,
   "id": "ca879268",
   "metadata": {},
   "outputs": [],
   "source": [
    "U = A.all_fields(beta1, nu, outer)"
   ]
  },
  {
   "cell_type": "markdown",
   "id": "77f4177c",
   "metadata": {},
   "source": [
    "The function U defined above is an ngsolve coefficient function:"
   ]
  },
  {
   "cell_type": "code",
   "execution_count": null,
   "id": "af8a22d2",
   "metadata": {},
   "outputs": [],
   "source": [
    "Draw(100*U, A.mesh)"
   ]
  },
  {
   "cell_type": "markdown",
   "id": "15f35a9a",
   "metadata": {},
   "source": [
    "## Matplot plotting utilities\n",
    "\n",
    "We can also visualize the field using matplotlib utilities."
   ]
  },
  {
   "cell_type": "code",
   "execution_count": null,
   "id": "fe3a6a9f",
   "metadata": {},
   "outputs": [],
   "source": [
    "FsA = A.fields_matplot(beta1, nu, outer)"
   ]
  },
  {
   "cell_type": "markdown",
   "id": "c73ceacb",
   "metadata": {},
   "source": [
    "Fs is now a dictionary with two functions, one for 2D plots:"
   ]
  },
  {
   "cell_type": "code",
   "execution_count": null,
   "id": "984222b0",
   "metadata": {},
   "outputs": [],
   "source": [
    "A.plot2D_contour(FsA['Ez'], figsize=(10,10))"
   ]
  },
  {
   "cell_type": "markdown",
   "id": "da8c7427",
   "metadata": {},
   "source": [
    "And one for 1D plots"
   ]
  },
  {
   "cell_type": "code",
   "execution_count": null,
   "id": "1f3f59e9",
   "metadata": {},
   "outputs": [],
   "source": [
    "%matplotlib notebook\n",
    "fig, ax = A.plot1D(FsA['Ez_rad'], double_r=True, rlist=[400,10000,400], nu=nu, maxscale=True,\n",
    "                  linewidth=1.5, color='k', figsize=(10,7))\n"
   ]
  },
  {
   "cell_type": "markdown",
   "id": "b7e7efd3",
   "metadata": {},
   "source": [
    "# BraggExact\n",
    "\n",
    "The process of finding modes and visualizing them in BraggExact is almost the same as in BraggScalar.  The primary difference is that now we get all components of the fields, so there is more to visualize"
   ]
  },
  {
   "cell_type": "code",
   "execution_count": null,
   "id": "578f856b",
   "metadata": {},
   "outputs": [],
   "source": [
    "B = BraggExact(scale=5e-5,\n",
    "                ts=[5e-5, 1e-5, 2e-5],\n",
    "                ns=[1, 1.44, 1],\n",
    "                mats=['air', 'glass', 'air'], \n",
    "                maxhs=[.2, .015, .04], \n",
    "                bcs=None, no_mesh=False,\n",
    "                wl=1.2e-6, ref=0, curve=8)"
   ]
  },
  {
   "cell_type": "code",
   "execution_count": null,
   "id": "dffc7d6e",
   "metadata": {},
   "outputs": [],
   "source": [
    "k_low = B.k0 * B.ns[0] * B.scale\n",
    "k_high = B.k0 * B.ns[1] * B.scale\n",
    "k_low, k_high"
   ]
  },
  {
   "cell_type": "markdown",
   "id": "b9a3d3ca",
   "metadata": {},
   "source": [
    "Note that for the exact fundamental mode, the z component is what we find first.  It actually has variation \n",
    "in the azimuthal direction, and its nu value is 1"
   ]
  },
  {
   "cell_type": "code",
   "execution_count": null,
   "id": "aeef9ee8",
   "metadata": {},
   "outputs": [],
   "source": [
    "outer = 'h2'\n",
    "nu = 1 "
   ]
  },
  {
   "cell_type": "code",
   "execution_count": null,
   "id": "46e05fb6",
   "metadata": {},
   "outputs": [],
   "source": [
    "plotlogf(B.determinant,.9999*k_low,1.00001*k_low, -.01,.01, nu, outer,\n",
    "         iref=100, rref=100, levels=100, figsize=(12,8))"
   ]
  },
  {
   "cell_type": "markdown",
   "id": "acd9ac6f",
   "metadata": {},
   "source": [
    "# Getting the constant\n",
    "\n",
    "For this we use the newton solver from scipy:"
   ]
  },
  {
   "cell_type": "code",
   "execution_count": null,
   "id": "69562465",
   "metadata": {},
   "outputs": [],
   "source": [
    "guess = np.array(.99995*k_low)\n",
    "\n",
    "beta2 = newton(B.determinant, guess, args=(nu, outer), tol = 1e-15)\n",
    "\n",
    "print(\"Scaled beta: \", beta2, \". Residual of determinant: \", abs(B.determinant(beta2, nu, outer)))\n"
   ]
  },
  {
   "cell_type": "markdown",
   "id": "ef31777e",
   "metadata": {},
   "source": [
    "# Visualizing Fields\n",
    "\n",
    "Now that we have beta we can form the fields:"
   ]
  },
  {
   "cell_type": "code",
   "execution_count": null,
   "id": "125fdb57",
   "metadata": {},
   "outputs": [],
   "source": [
    "FsB = B.all_fields(beta2, nu, outer)"
   ]
  },
  {
   "cell_type": "markdown",
   "id": "259e3d05",
   "metadata": {},
   "source": [
    "The dictionary FsB has many functions we can visualize:"
   ]
  },
  {
   "cell_type": "code",
   "execution_count": null,
   "id": "268e9556",
   "metadata": {},
   "outputs": [],
   "source": [
    "FsB"
   ]
  },
  {
   "cell_type": "markdown",
   "id": "2ce3f6c2",
   "metadata": {},
   "source": [
    "We just show Ez and Etv here."
   ]
  },
  {
   "cell_type": "code",
   "execution_count": null,
   "id": "7090a21d",
   "metadata": {},
   "outputs": [],
   "source": [
    "Draw(FsB['Ez'], B.mesh)"
   ]
  },
  {
   "cell_type": "markdown",
   "id": "966c796c",
   "metadata": {},
   "source": [
    "The fine ripple in the glass takes a lot of mesh elements to visualize properly.  To get a clearer view, decrease the maxh in that region.  Careful though as if you make it too small it will take a long time to build the mesh and draw the pictures.\n"
   ]
  },
  {
   "cell_type": "markdown",
   "id": "43e11380",
   "metadata": {},
   "source": [
    "## Etv: vector visualization\n",
    "\n",
    "The field Etv is complex.  If we pick the real or imaginary part we get a vector field we can view.  The input vectors in Draw gives the ability to put more and more vectors to see fine behavior."
   ]
  },
  {
   "cell_type": "code",
   "execution_count": null,
   "id": "72a13e3e",
   "metadata": {},
   "outputs": [],
   "source": [
    "Draw(FsB['Etv'].real, B.mesh, vectors={'grid_size':150})"
   ]
  },
  {
   "cell_type": "markdown",
   "id": "e65d8809",
   "metadata": {},
   "source": [
    "## Matplot plotting utilities\n"
   ]
  },
  {
   "cell_type": "code",
   "execution_count": null,
   "id": "53fab493",
   "metadata": {},
   "outputs": [],
   "source": [
    "fsB = B.fields_matplot(beta2, nu, outer)"
   ]
  },
  {
   "cell_type": "markdown",
   "id": "c7cc1f82",
   "metadata": {},
   "source": [
    "fsB now has more in it too:"
   ]
  },
  {
   "cell_type": "code",
   "execution_count": null,
   "id": "7f8cb482",
   "metadata": {},
   "outputs": [],
   "source": [
    "fsB.keys()"
   ]
  },
  {
   "cell_type": "code",
   "execution_count": null,
   "id": "b50a547d",
   "metadata": {},
   "outputs": [],
   "source": [
    "B.plot2D_contour(fsB['Ez'], figsize=(10,10))"
   ]
  },
  {
   "cell_type": "markdown",
   "id": "3804e81b",
   "metadata": {},
   "source": [
    "And one for 1D plots"
   ]
  },
  {
   "cell_type": "code",
   "execution_count": null,
   "id": "e728d647",
   "metadata": {},
   "outputs": [],
   "source": [
    "fig, ax = A.plot1D(fsB['Ez_rad'], double_r=True, rlist=[400,10000,400], nu=nu, maxscale=True,\n",
    "                  linewidth=1.5, color='k', figsize=(10,7))\n"
   ]
  },
  {
   "cell_type": "markdown",
   "id": "f9ad9298",
   "metadata": {},
   "source": [
    "### Streamline plot\n",
    "\n",
    "For visualizing vector functions using Matplot we currently have the streamplot.  Adding a quiver plot would be nice"
   ]
  },
  {
   "cell_type": "code",
   "execution_count": null,
   "id": "82265561",
   "metadata": {},
   "outputs": [],
   "source": [
    "mag = lambda x,y: np.sqrt(np.abs(fsB['Ex'](x,y))**2 + np.abs(fsB['Ey'](x,y))**2)"
   ]
  },
  {
   "cell_type": "code",
   "execution_count": null,
   "id": "1ec94940",
   "metadata": {},
   "outputs": [],
   "source": [
    "fig, ax = B.plot2D_streamlines(fsB['Ex'], fsB['Ey'], contourfunc=mag, seed_nr=[2,2, 2], seed_ntheta=16, \n",
    "                               rho_linewidth=2, broken_streamlines=True,\n",
    "                               maxlength=.3, plot_seed=False);"
   ]
  },
  {
   "cell_type": "markdown",
   "id": "1daba384",
   "metadata": {},
   "source": [
    "# Bragg Numerical\n",
    "\n",
    "The class for finding modes numerically is called Bragg:"
   ]
  },
  {
   "cell_type": "code",
   "execution_count": null,
   "id": "533569a0",
   "metadata": {},
   "outputs": [],
   "source": [
    "C = Bragg(scale=5e-5, ts=[5e-5, 1e-5, 2e-5, 2e-5],\n",
    "          mats=['air', 'glass', 'air', 'Outer'], ns=[1, 1.44, 1, 1],\n",
    "          maxhs=[.2, .025, .08, .1], bcs=['r1', 'r2', 'R', 'OuterCircle'],\n",
    "          wl=1.2e-6, ref=0,\n",
    "          curve=8)"
   ]
  },
  {
   "cell_type": "markdown",
   "id": "54a6221a",
   "metadata": {},
   "source": [
    "## Numerical Modefinding\n",
    "\n",
    "This class no longer has a determinant function.  We need to find the propagation constants using contours around the eigenvalues we want in the complex plane.  Since we know the exact propagation constants from the previous classes, we can use these, but first we have to translate them into Z values, since the methods in modesolver work in the Z and Z^2 plane.\n",
    "\n",
    "### Scalar Modes:\n",
    "\n",
    "The scalar modefinder is called leakymode.  It uses Z values.  There is a method we can use to find these from the exact propagation constants:"
   ]
  },
  {
   "cell_type": "code",
   "execution_count": null,
   "id": "3ff4f1fa",
   "metadata": {},
   "outputs": [],
   "source": [
    "Z1_true = C.sqrZfrom(beta1/A.scale)**.5  # method sqrZfrom gives Z^2 from beta (need to descale beta first)\n",
    "Z1_true"
   ]
  },
  {
   "cell_type": "markdown",
   "id": "5ba0f373",
   "metadata": {},
   "source": [
    "Now we can look near this for the numerical propagation constants.  Note that we might still need to play with the radius, order, number of vectors sought, number of quadrature points etc to find the mode."
   ]
  },
  {
   "cell_type": "code",
   "execution_count": null,
   "id": "51875f86",
   "metadata": {},
   "outputs": [],
   "source": [
    "center = Z1_true\n",
    "radius = .1\n",
    "\n",
    "p = 3\n",
    "_, y, _, _, _, _ = C.leakymode(p, nspan=4, npts=4,\n",
    "                                    rad=radius,\n",
    "                                    ctr=center,\n",
    "                                    alpha=5,\n",
    "                                    niterations=5,\n",
    "                                    nrestarts=0)"
   ]
  },
  {
   "cell_type": "code",
   "execution_count": null,
   "id": "d18c23be",
   "metadata": {},
   "outputs": [],
   "source": [
    "for f in y:\n",
    "    Draw(f, C.mesh)"
   ]
  },
  {
   "cell_type": "markdown",
   "id": "63417ab8",
   "metadata": {},
   "source": [
    "## Vectorial Modefinding\n",
    "\n",
    "The method for vector modes is called leakyvecmode.  It uses Z^2 values:"
   ]
  },
  {
   "cell_type": "code",
   "execution_count": null,
   "id": "dcaf20dc",
   "metadata": {},
   "outputs": [],
   "source": [
    "Z2_true = C.sqrZfrom(beta2/A.scale)\n",
    "Z2_true"
   ]
  },
  {
   "cell_type": "code",
   "execution_count": null,
   "id": "ea3201ed",
   "metadata": {},
   "outputs": [],
   "source": [
    "center = Z2_true\n",
    "radius = .1\n",
    "nspan = 4\n",
    "npts = 4\n",
    "p = 0\n",
    "\n",
    "_, _, Es, phis, _ = C.leakyvecmodes(p=p, ctr=center, rad=radius,\n",
    "                                       alpha=5,\n",
    "                                       rhoinv=.9,\n",
    "                                       quadrule='ellipse_trapez_shift',\n",
    "                                       nspan=nspan, npts=npts,\n",
    "                                       niterations=5, nrestarts=0,\n",
    "                                       stop_tol=1e-9)\n"
   ]
  },
  {
   "cell_type": "code",
   "execution_count": null,
   "id": "1774b128",
   "metadata": {},
   "outputs": [],
   "source": [
    "for e in Es:\n",
    "    Draw(e.real, C.mesh, vectors={'grid_size' : 100})"
   ]
  },
  {
   "cell_type": "code",
   "execution_count": null,
   "id": "8c7798c6",
   "metadata": {},
   "outputs": [],
   "source": [
    "for phi in phis:\n",
    "    Draw(phi, C.mesh)"
   ]
  },
  {
   "cell_type": "code",
   "execution_count": null,
   "id": "f688c3a4",
   "metadata": {},
   "outputs": [],
   "source": []
  }
 ],
 "metadata": {
  "kernelspec": {
   "display_name": "Python 3 (ipykernel)",
   "language": "python",
   "name": "python3"
  },
  "language_info": {
   "codemirror_mode": {
    "name": "ipython",
    "version": 3
   },
   "file_extension": ".py",
   "mimetype": "text/x-python",
   "name": "python",
   "nbconvert_exporter": "python",
   "pygments_lexer": "ipython3",
   "version": "3.8.10"
  }
 },
 "nbformat": 4,
 "nbformat_minor": 5
}
