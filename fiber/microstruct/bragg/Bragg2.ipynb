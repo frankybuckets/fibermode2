{
 "cells": [
  {
   "cell_type": "code",
   "execution_count": 1,
   "id": "c9ba1893",
   "metadata": {},
   "outputs": [
    {
     "name": "stdout",
     "output_type": "stream",
     "text": [
      "importing NGSolve-6.2.2203-56-g47f483033\n"
     ]
    }
   ],
   "source": [
    "from fiberamp.fiber.microstruct.bragg import Bragg\n",
    "from fiberamp.fiber import sellmeier\n",
    "from ngsolve.webgui import Draw\n",
    "import ngsolve as ng\n",
    "import numpy as np"
   ]
  },
  {
   "cell_type": "code",
   "execution_count": 2,
   "id": "5d0e3313",
   "metadata": {},
   "outputs": [],
   "source": [
    "n_air = 1.00027717\n",
    "n_glass = 1.4388164768221814"
   ]
  },
  {
   "cell_type": "code",
   "execution_count": 96,
   "id": "89f33d87",
   "metadata": {},
   "outputs": [],
   "source": [
    "d = 15*2/3*1e-6\n",
    "ts=[15*2.7183333333333333e-6, d, 15*1e-6, 15*1e-6]\n",
    "ns=[lambda x: n_air, lambda x: n_glass, lambda x: n_air, lambda x: n_air]\n",
    "maxhs=[1, .015, .04, .04]\n",
    "scale=15e-6"
   ]
  },
  {
   "cell_type": "code",
   "execution_count": 97,
   "id": "3f2d047b",
   "metadata": {
    "scrolled": true
   },
   "outputs": [
    {
     "name": "stdout",
     "output_type": "stream",
     "text": [
      "ModeSolver: Checking if mesh has required regions\n",
      "Mesh has  18152  elements,  9155  points,  and  27306  edges.\n"
     ]
    }
   ],
   "source": [
    "B = Bragg(ts=ts, scale=scale, maxhs=maxhs, ns=ns)"
   ]
  },
  {
   "cell_type": "code",
   "execution_count": 98,
   "id": "eda96205",
   "metadata": {},
   "outputs": [
    {
     "data": {
      "application/vnd.jupyter.widget-view+json": {
       "model_id": "30d1d8b673b44a0b903584c204f141b1",
       "version_major": 2,
       "version_minor": 0
      },
      "text/plain": [
       "WebGuiWidget(value={'ngsolve_version': '6.2.2203-56-g47f483033', 'mesh_dim': 2, 'order2d': 2, 'order3d': 2, 'd…"
      ]
     },
     "metadata": {},
     "output_type": "display_data"
    },
    {
     "data": {
      "text/plain": [
       "BaseWebGuiScene"
      ]
     },
     "execution_count": 98,
     "metadata": {},
     "output_type": "execute_result"
    }
   ],
   "source": [
    "Draw(B.index, B.mesh)"
   ]
  },
  {
   "cell_type": "code",
   "execution_count": 99,
   "id": "bf91aacc",
   "metadata": {},
   "outputs": [],
   "source": [
    "exact = B.sqrZfrom((52.366914632524995-4.342081992331735e-06j)/B.L)"
   ]
  },
  {
   "cell_type": "code",
   "execution_count": 100,
   "id": "0b313468",
   "metadata": {},
   "outputs": [],
   "source": [
    "guess = exact.conjugate()"
   ]
  },
  {
   "cell_type": "code",
   "execution_count": 109,
   "id": "79d992ef",
   "metadata": {},
   "outputs": [],
   "source": [
    "center = guess\n",
    "radius = .05\n",
    "nspan = 4\n",
    "npts = 4\n",
    "p = 2"
   ]
  },
  {
   "cell_type": "code",
   "execution_count": 110,
   "id": "2cf47703",
   "metadata": {},
   "outputs": [
    {
     "name": "stdout",
     "output_type": "stream",
     "text": [
      "Set NGSolve automatic PML with alpha= 5 and thickness=1.000\n",
      "Using FEAST to search for vector leaky modes in\n",
      "circle of radius 0.05 centered at  (0.78299514978562-0.00045476287403972j)\n",
      "assuming not more than 4 modes in this interval\n",
      "System size: 190830  x  190830   Inverse type: umfpack\n",
      "\n",
      "SpectralProj: Setting shifted trapezoidal rule quadrature on circular contour\n",
      "SpectralProj: Radius=0.05, Center=0.782995-0.000454763j\n",
      "SpectralProjNGR:   Making resolvent at z =  +0.818 +0.035j\n",
      "SpectralProjNGR:   Making resolvent at z =  +0.748 +0.035j\n",
      "SpectralProjNGR:   Making resolvent at z =  +0.748 -0.036j\n",
      "SpectralProjNGR:   Making resolvent at z =  +0.818 -0.036j\n",
      "\n",
      "=========== Starting FEAST iterations ===========\n",
      "Trying with 4 vectors:\n",
      "\n",
      " ITERATION 1 with 4 vectors and 4 left vectors\n",
      "   During kernel cleaning abs(g):\n",
      "   [1.3e+00 2.6e-01 4.1e-05 7.6e-04]\n",
      "   Real part of computed eigenvalues:\n",
      "   [0.78346935 0.78347138 0.86647653 0.92551319]\n",
      "   Imag part of computed eigenvalues:\n",
      "   [-4.54261032e-04 -4.54722392e-04  1.98171626e-05  2.24981217e-04]\n",
      "   Relative Hausdorff distance from prior iterate: 1.200e+100\n",
      "\n",
      " ITERATION 2 with 4 vectors and 4 left vectors\n",
      "   During kernel cleaning abs(g):\n",
      "   [4.1 1.5 1.9 1. ]\n",
      "   Real part of computed eigenvalues:\n",
      "   [0.78346935 0.78347149 0.86648928 0.92566888]\n",
      "   Imag part of computed eigenvalues:\n",
      "   [-4.54320581e-04 -4.54836961e-04 -8.77918457e-07 -1.06146200e-06]\n",
      "   Relative Hausdorff distance from prior iterate: 3.295e-04\n",
      "\n",
      " ITERATION 3 with 4 vectors and 4 left vectors\n",
      "   During kernel cleaning abs(g):\n",
      "   [1.0e+00 3.2e-03 5.3e-01 1.5e-04]\n",
      "   Real part of computed eigenvalues:\n",
      "   [0.78346935 0.78347149 0.86648928 0.92566895]\n",
      "   Imag part of computed eigenvalues:\n",
      "   [-4.54320581e-04 -4.54836961e-04 -8.78036908e-07 -1.13314262e-06]\n",
      "   Relative Hausdorff distance from prior iterate: 1.153e-07\n",
      "\n",
      "   Removing ew#[0, 1] not enclosed by contour\n",
      " ITERATION 4 with 2 vectors and 2 left vectors\n",
      "   During kernel cleaning abs(g):\n",
      "   [1.  1.9]\n",
      "   Real part of computed eigenvalues:\n",
      "   [0.78346935 0.78347149]\n",
      "   Imag part of computed eigenvalues:\n",
      "   [-0.00045432 -0.00045484]\n",
      "   Relative Hausdorff distance from prior iterate: 4.654e-14\n",
      "\n",
      "\n",
      "***FEAST converged with:\n",
      "\tRelative Hausdorff distance = 4.654e-14\n",
      "\n",
      "============= FEAST iterations done =============\n",
      "Results:\n",
      " Z²: [0.78346935-0.00045432j 0.78347149-0.00045484j]\n",
      " beta: [3491127.34032188+0.28919062j 3491127.33896274+0.28951932j]\n",
      " CL dB/m: [2.51187784 2.51473284]\n"
     ]
    }
   ],
   "source": [
    "beta, zs, Es, phis,_ = B.leakyvecmodes(p=p, ctr=center, rad=radius,\n",
    "                                       alpha=5,\n",
    "#                                        rhoinv=.9,\n",
    "#                                        quadrule='ellipse_trapez_shift',\n",
    "                                       nspan=nspan, npts=npts,\n",
    "                                       niterations=4, nrestarts=0,\n",
    "                                       stop_tol=1e-11)"
   ]
  },
  {
   "cell_type": "code",
   "execution_count": 111,
   "id": "74b3f882",
   "metadata": {
    "scrolled": false
   },
   "outputs": [
    {
     "data": {
      "application/vnd.jupyter.widget-view+json": {
       "model_id": "3ff1e8e80ab544e3a03959712b8bf749",
       "version_major": 2,
       "version_minor": 0
      },
      "text/plain": [
       "WebGuiWidget(value={'ngsolve_version': '6.2.2203-56-g47f483033', 'mesh_dim': 2, 'order2d': 2, 'order3d': 2, 'd…"
      ]
     },
     "metadata": {},
     "output_type": "display_data"
    },
    {
     "data": {
      "application/vnd.jupyter.widget-view+json": {
       "model_id": "5cc1ac83f79a423c844513336783bc58",
       "version_major": 2,
       "version_minor": 0
      },
      "text/plain": [
       "WebGuiWidget(value={'ngsolve_version': '6.2.2203-56-g47f483033', 'mesh_dim': 2, 'order2d': 2, 'order3d': 2, 'd…"
      ]
     },
     "metadata": {},
     "output_type": "display_data"
    }
   ],
   "source": [
    "for e in Es:\n",
    "    Draw(e.real, B.mesh, vectors={'grid_size':200})"
   ]
  },
  {
   "cell_type": "code",
   "execution_count": 112,
   "id": "a5a082a3",
   "metadata": {
    "scrolled": false
   },
   "outputs": [
    {
     "data": {
      "application/vnd.jupyter.widget-view+json": {
       "model_id": "30bed46724134cada6a925fb98d66c04",
       "version_major": 2,
       "version_minor": 0
      },
      "text/plain": [
       "WebGuiWidget(value={'ngsolve_version': '6.2.2203-56-g47f483033', 'mesh_dim': 2, 'order2d': 2, 'order3d': 2, 'd…"
      ]
     },
     "metadata": {},
     "output_type": "display_data"
    },
    {
     "data": {
      "application/vnd.jupyter.widget-view+json": {
       "model_id": "c9f939890f07424e8504110d6d834aae",
       "version_major": 2,
       "version_minor": 0
      },
      "text/plain": [
       "WebGuiWidget(value={'ngsolve_version': '6.2.2203-56-g47f483033', 'mesh_dim': 2, 'order2d': 2, 'order3d': 2, 'd…"
      ]
     },
     "metadata": {},
     "output_type": "display_data"
    }
   ],
   "source": [
    "for phi in phis:\n",
    "    Draw(phi, B.mesh)"
   ]
  },
  {
   "cell_type": "code",
   "execution_count": null,
   "id": "325bc95b",
   "metadata": {},
   "outputs": [],
   "source": [
    "B."
   ]
  }
 ],
 "metadata": {
  "kernelspec": {
   "display_name": "Python 3 (ipykernel)",
   "language": "python",
   "name": "python3"
  },
  "language_info": {
   "codemirror_mode": {
    "name": "ipython",
    "version": 3
   },
   "file_extension": ".py",
   "mimetype": "text/x-python",
   "name": "python",
   "nbconvert_exporter": "python",
   "pygments_lexer": "ipython3",
   "version": "3.8.10"
  }
 },
 "nbformat": 4,
 "nbformat_minor": 5
}
