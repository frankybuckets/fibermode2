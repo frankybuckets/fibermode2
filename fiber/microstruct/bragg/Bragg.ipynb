{
 "cells": [
  {
   "cell_type": "code",
   "execution_count": 1,
   "id": "c9ba1893",
   "metadata": {},
   "outputs": [
    {
     "name": "stdout",
     "output_type": "stream",
     "text": [
      "importing NGSolve-6.2.2203-56-g47f483033\n"
     ]
    }
   ],
   "source": [
    "from fiberamp.fiber.microstruct.bragg import Bragg\n",
    "from fiberamp.fiber import sellmeier\n",
    "from ngsolve.webgui import Draw\n",
    "import ngsolve as ng\n",
    "import numpy as np"
   ]
  },
  {
   "cell_type": "code",
   "execution_count": 2,
   "id": "5d0e3313",
   "metadata": {},
   "outputs": [],
   "source": [
    "n_air = 1.00027717\n",
    "n_glass = 1.4388164768221814"
   ]
  },
  {
   "cell_type": "code",
   "execution_count": 3,
   "id": "89f33d87",
   "metadata": {},
   "outputs": [],
   "source": [
    "d = 15*2/3*1e-6\n",
    "ts=[15*2.7183333333333333e-6, d, 15*1e-6, 15*1e-6, 15*1e-6]\n",
    "ns=[lambda x: n_air, lambda x: n_glass, lambda x: n_air, lambda x: n_glass, lambda x: n_glass]\n",
    "maxhs=[.1, .015, .04, .04, .1]\n",
    "scale=15e-6"
   ]
  },
  {
   "cell_type": "markdown",
   "id": "5e668d16",
   "metadata": {},
   "source": [
    "$\\lambda_m = \\frac{2 n_1 d}{m} \\big[ (n_2 / n_1)^2 - 1 \\big]^{1/2}$"
   ]
  },
  {
   "cell_type": "code",
   "execution_count": 4,
   "id": "3f2d047b",
   "metadata": {
    "scrolled": true
   },
   "outputs": [
    {
     "name": "stdout",
     "output_type": "stream",
     "text": [
      "ModeSolver: Checking if mesh has required regions\n",
      "Mesh has  18378  elements,  9226  points,  and  27603  edges.\n"
     ]
    }
   ],
   "source": [
    "B = Bragg(ts=ts, scale=scale, maxhs=maxhs, ns=ns, wl=.5*ts[0])"
   ]
  },
  {
   "cell_type": "code",
   "execution_count": 5,
   "id": "546ebe46",
   "metadata": {},
   "outputs": [],
   "source": [
    "spikes = np.array([2*n_air * d / m * ((n_glass/n_air)**2 - 1)**.5 for m in range(1, 18)])"
   ]
  },
  {
   "cell_type": "code",
   "execution_count": 6,
   "id": "717c3ff6",
   "metadata": {},
   "outputs": [
    {
     "data": {
      "text/plain": [
       "(array([2.06846652e-05, 1.03423326e-05, 6.89488840e-06, 5.17116630e-06,\n",
       "        4.13693304e-06, 3.44744420e-06, 2.95495217e-06, 2.58558315e-06,\n",
       "        2.29829613e-06, 2.06846652e-06, 1.88042411e-06, 1.72372210e-06,\n",
       "        1.59112809e-06, 1.47747609e-06, 1.37897768e-06, 1.29279158e-06,\n",
       "        1.21674501e-06]),\n",
       " 2.03875e-05)"
      ]
     },
     "execution_count": 6,
     "metadata": {},
     "output_type": "execute_result"
    }
   ],
   "source": [
    "spikes, B.wavelength"
   ]
  },
  {
   "cell_type": "code",
   "execution_count": 7,
   "id": "eda96205",
   "metadata": {},
   "outputs": [
    {
     "data": {
      "application/vnd.jupyter.widget-view+json": {
       "model_id": "c7041c029b974c09a1fdcbb5778e89a3",
       "version_major": 2,
       "version_minor": 0
      },
      "text/plain": [
       "WebGuiWidget(value={'ngsolve_version': '6.2.2203-56-g47f483033', 'mesh_dim': 2, 'order2d': 2, 'order3d': 2, 'd…"
      ]
     },
     "metadata": {},
     "output_type": "display_data"
    },
    {
     "data": {
      "text/plain": [
       "BaseWebGuiScene"
      ]
     },
     "execution_count": 7,
     "metadata": {},
     "output_type": "execute_result"
    }
   ],
   "source": [
    "Draw(B.index, B.mesh)"
   ]
  },
  {
   "cell_type": "code",
   "execution_count": 8,
   "id": "3d862855",
   "metadata": {},
   "outputs": [
    {
     "data": {
      "text/plain": [
       "4.624103115377935"
      ]
     },
     "execution_count": 8,
     "metadata": {},
     "output_type": "execute_result"
    }
   ],
   "source": [
    "ks = np.array(B.refractive_indices) * B.L * B.k\n",
    "guess = min(ks)\n",
    "\n",
    "guess"
   ]
  },
  {
   "cell_type": "code",
   "execution_count": 9,
   "id": "dad4670a",
   "metadata": {},
   "outputs": [
    {
     "data": {
      "text/plain": [
       "27.48279151313755"
      ]
     },
     "execution_count": 9,
     "metadata": {},
     "output_type": "execute_result"
    }
   ],
   "source": [
    "B.L**2 * B.k**2 * (B.n0**2 - n_air**2) +  guess"
   ]
  },
  {
   "cell_type": "code",
   "execution_count": 65,
   "id": "bf91aacc",
   "metadata": {},
   "outputs": [
    {
     "data": {
      "text/plain": [
       "((23.14284569-0.06112482j), (23.14245714-0.06130243j))"
      ]
     },
     "execution_count": 65,
     "metadata": {},
     "output_type": "execute_result"
    }
   ],
   "source": [
    "23.14284569-0.06112482j, 23.14245714-0.06130243j"
   ]
  },
  {
   "cell_type": "code",
   "execution_count": 79,
   "id": "79d992ef",
   "metadata": {},
   "outputs": [],
   "source": [
    "# Center, radius and span\n",
    "center = 23.14245714-0.06130243j\n",
    "radius = .01\n",
    "nspan = 2\n",
    "npts = 2\n",
    "p = 1"
   ]
  },
  {
   "cell_type": "code",
   "execution_count": 80,
   "id": "2cf47703",
   "metadata": {},
   "outputs": [
    {
     "name": "stdout",
     "output_type": "stream",
     "text": [
      "Set NGSolve custom (smooth) PML with alpha= 10 degree= 2 and thickness=1.000\n",
      "Set custom smoothed PML with d= 2  alpha= 10 and thickness=1.000\n",
      "Using FEAST to search for vector leaky modes in\n",
      "circle of radius 0.01 centered at  (23.14245714-0.06130243j)\n",
      "assuming not more than 2 modes in this interval\n",
      "System size: 91962  x  91962   Inverse type: umfpack\n",
      "\n",
      "SpectralProj: Setting shifted trapezoidal rule quadrature on circular contour\n",
      "SpectralProj: Radius=0.01, Center=23.1425-0.0613024j\n",
      "SpectralProjNGR:   Making resolvent at z = +23.142 -0.051j\n",
      "SpectralProjNGR:   Making resolvent at z = +23.142 -0.071j\n",
      "\n",
      "=========== Starting FEAST iterations ===========\n",
      "Trying with 2 vectors:\n",
      "\n",
      " ITERATION 1 with 2 vectors and 2 left vectors\n",
      "   During kernel cleaning abs(g):\n",
      "   [0.  0.1]\n",
      "   Real part of computed eigenvalues:\n",
      "   [23.14881272 23.14901136]\n",
      "   Imag part of computed eigenvalues:\n",
      "   [-0.06121375 -0.06361997]\n",
      "   Relative Hausdorff distance from prior iterate: 4.319e+98\n",
      "\n",
      " ITERATION 2 with 2 vectors and 2 left vectors\n",
      "   During kernel cleaning abs(g):\n",
      "   [61.9  4.7]\n",
      "   Real part of computed eigenvalues:\n",
      "   [23.14900077 23.14915095]\n",
      "   Imag part of computed eigenvalues:\n",
      "   [-0.06364069 -0.06359389]\n",
      "   Relative Hausdorff distance from prior iterate: 1.038e-04\n",
      "\n",
      " ITERATION 3 with 2 vectors and 2 left vectors\n",
      "   During kernel cleaning abs(g):\n",
      "   [0. 0.]\n",
      "   Real part of computed eigenvalues:\n",
      "   [23.14899925 23.14914387]\n",
      "   Imag part of computed eigenvalues:\n",
      "   [-0.06364042 -0.06358925]\n",
      "   Relative Hausdorff distance from prior iterate: 3.656e-07\n",
      "\n",
      " ITERATION 4 with 2 vectors and 2 left vectors\n",
      "   During kernel cleaning abs(g):\n",
      "   [54.9 13.2]\n",
      "   Real part of computed eigenvalues:\n",
      "   [23.14899926 23.14914391]\n",
      "   Imag part of computed eigenvalues:\n",
      "   [-0.06364042 -0.06358924]\n",
      "   Relative Hausdorff distance from prior iterate: 1.767e-09\n",
      "\n",
      " ITERATION 5 with 2 vectors and 2 left vectors\n",
      "   During kernel cleaning abs(g):\n",
      "   [0. 0.]\n",
      "   Real part of computed eigenvalues:\n",
      "   [23.14899926 23.14914391]\n",
      "   Imag part of computed eigenvalues:\n",
      "   [-0.06364042 -0.06358924]\n",
      "   Relative Hausdorff distance from prior iterate: 7.920e-12\n",
      "\n",
      "\n",
      "***FEAST converged with:\n",
      "\tRelative Hausdorff distance = 7.920e-12\n",
      "\n",
      "============= FEAST iterations done =============\n",
      "Results:\n",
      " Z²: [23.14914391-0.06358924j 23.14899926-0.06364042j]\n",
      " beta: [306172.95066525+461.5346321j  306174.00111811+461.90451105j]\n",
      " CL dB/m: [4008.83887857 4012.05160632]\n"
     ]
    }
   ],
   "source": [
    "beta, zs, Es1, phis1,_ = B.leakyvecmodes(p=p, ctr=center, rad=radius,\n",
    "                                       alpha=10, d=2,\n",
    "#                                        rhoinv=.99,\n",
    "#                                        quadrule='ellipse_trapez_shift',\n",
    "                                       nspan=nspan, npts=npts,\n",
    "                                       niterations=5, nrestarts=0,\n",
    "                                       stop_tol=1e-11)"
   ]
  },
  {
   "cell_type": "code",
   "execution_count": 83,
   "id": "74b3f882",
   "metadata": {
    "scrolled": false
   },
   "outputs": [
    {
     "data": {
      "application/vnd.jupyter.widget-view+json": {
       "model_id": "18f887afc0ef4bd9942013a6d8aa8e31",
       "version_major": 2,
       "version_minor": 0
      },
      "text/plain": [
       "WebGuiWidget(value={'ngsolve_version': '6.2.2203-56-g47f483033', 'mesh_dim': 2, 'order2d': 2, 'order3d': 2, 'd…"
      ]
     },
     "metadata": {},
     "output_type": "display_data"
    },
    {
     "data": {
      "application/vnd.jupyter.widget-view+json": {
       "model_id": "edc8f3dc5a3e4cf3804f75dd82d50092",
       "version_major": 2,
       "version_minor": 0
      },
      "text/plain": [
       "WebGuiWidget(value={'ngsolve_version': '6.2.2203-56-g47f483033', 'mesh_dim': 2, 'order2d': 2, 'order3d': 2, 'd…"
      ]
     },
     "metadata": {},
     "output_type": "display_data"
    }
   ],
   "source": [
    "for e in Es1:\n",
    "#     Draw(e.real, B.mesh, vectors={'grid_size':200})\n",
    "    Draw(e.Norm(), B.mesh)"
   ]
  },
  {
   "cell_type": "code",
   "execution_count": 82,
   "id": "48e94cf6",
   "metadata": {
    "scrolled": false
   },
   "outputs": [
    {
     "data": {
      "application/vnd.jupyter.widget-view+json": {
       "model_id": "8daf34d23edc47f8b5d8e22168cda855",
       "version_major": 2,
       "version_minor": 0
      },
      "text/plain": [
       "WebGuiWidget(value={'ngsolve_version': '6.2.2203-56-g47f483033', 'mesh_dim': 2, 'order2d': 2, 'order3d': 2, 'd…"
      ]
     },
     "metadata": {},
     "output_type": "display_data"
    },
    {
     "data": {
      "application/vnd.jupyter.widget-view+json": {
       "model_id": "beb1ce6cbf27484cb6c9f7883c0eb5a7",
       "version_major": 2,
       "version_minor": 0
      },
      "text/plain": [
       "WebGuiWidget(value={'ngsolve_version': '6.2.2203-56-g47f483033', 'mesh_dim': 2, 'order2d': 2, 'order3d': 2, 'd…"
      ]
     },
     "metadata": {},
     "output_type": "display_data"
    }
   ],
   "source": [
    "for phi1 in phis1:\n",
    "    Draw(phi1, B.mesh)"
   ]
  },
  {
   "cell_type": "markdown",
   "id": "c623a85d",
   "metadata": {},
   "source": [
    "# Less smooth PML"
   ]
  },
  {
   "cell_type": "code",
   "execution_count": 212,
   "id": "1ff28c60",
   "metadata": {},
   "outputs": [
    {
     "name": "stdout",
     "output_type": "stream",
     "text": [
      "Set NGSolve custom (smooth) PML with alpha= 8 degree= 1 and thickness=3.000\n",
      "Set custom smoothed PML with d= 1  alpha= 8 and thickness=3.000\n",
      "Using FEAST to search for vector leaky modes in\n",
      "circle of radius 0.001 centered at  (6.218853153319084-0.0030889077490732822j)\n",
      "assuming not more than 4 modes in this interval\n",
      "System size: 202107  x  202107   Inverse type: umfpack\n",
      "\n",
      "SpectralProj: Setting shifted trapezoidal rule quadrature on circular contour\n",
      "SpectralProj: Radius=0.001, Center=6.21885-0.00308891j\n",
      "SpectralProjNGR:   Making resolvent at z =  +6.220 -0.002j\n",
      "SpectralProjNGR:   Making resolvent at z =  +6.218 -0.002j\n",
      "SpectralProjNGR:   Making resolvent at z =  +6.218 -0.004j\n",
      "SpectralProjNGR:   Making resolvent at z =  +6.220 -0.004j\n",
      "\n",
      "=========== Starting FEAST iterations ===========\n",
      "Trying with 4 vectors:\n",
      "\n",
      " ITERATION 1 with 4 vectors and 4 left vectors\n",
      "   During kernel cleaning abs(g):\n",
      "   [4.4e-21 1.8e-23 4.5e-24 5.2e-24]\n",
      "   Real part of computed eigenvalues:\n",
      "   [5.75924742 6.36198561 6.42817215 6.66302546]\n",
      "   Imag part of computed eigenvalues:\n",
      "   [-0.91038974 -0.61047526 -0.63827549 -0.30333659]\n",
      "   Relative Hausdorff distance from prior iterate: 1.608e+99\n",
      "\n",
      " ITERATION 2 with 4 vectors and 4 left vectors\n",
      "   During kernel cleaning abs(g):\n",
      "   [1.4e-22 4.4e-24 2.4e-24 4.1e-24]\n",
      "   Real part of computed eigenvalues:\n",
      "   [5.83418056 6.40974453 6.50280342 6.68881281]\n",
      "   Imag part of computed eigenvalues:\n",
      "   [-0.60199823 -0.53494797 -0.64613242 -0.25234531]\n",
      "   Relative Hausdorff distance from prior iterate: 5.102e-02\n",
      "\n",
      " ITERATION 3 with 4 vectors and 4 left vectors\n",
      "   During kernel cleaning abs(g):\n",
      "   [1.5e-22 2.3e-24 6.5e-24 7.4e-24]\n",
      "   Real part of computed eigenvalues:\n",
      "   [6.03932504 6.47608764 6.54474409 6.68847911]\n",
      "   Imag part of computed eigenvalues:\n",
      "   [-0.48480181 -0.63521665 -0.59615059 -0.25253555]\n",
      "   Relative Hausdorff distance from prior iterate: 3.798e-02\n",
      "\n",
      " ITERATION 4 with 4 vectors and 4 left vectors\n",
      "   During kernel cleaning abs(g):\n",
      "   [1.6e-22 4.2e-24 2.2e-23 2.1e-23]\n",
      "   Real part of computed eigenvalues:\n",
      "   [6.12593907 6.48306748 6.49833228 6.68849816]\n",
      "   Imag part of computed eigenvalues:\n",
      "   [-1.13551904 -0.63444648 -0.60933444 -0.25251722]\n",
      "   Relative Hausdorff distance from prior iterate: 9.818e-02\n",
      "\n",
      "\n",
      "***FEAST did not converge!\n",
      "\n",
      "============= FEAST iterations done =============\n",
      "Results:\n",
      " Z²: [6.68849816-0.25251722j 6.12593907-1.13551904j 6.48306748-0.63444648j\n",
      " 6.49833228-0.60933444j]\n",
      " beta: [381880.10205338+1469.43866551j 385192.71873887+6550.94325465j\n",
      " 383088.53143843+3680.30091249j 382998.60869768+3535.46071803j]\n",
      " CL dB/m: [12763.38207856 56900.77013508 31966.68756079 30708.62161651]\n"
     ]
    }
   ],
   "source": [
    "beta, zs, Es2, phis2,_ = B.leakyvecmodes(p=p, ctr=center, rad=radius,\n",
    "                                       alpha=8, d=1,\n",
    "#                                        rhoinv=.99,\n",
    "#                                        quadrule='ellipse_trapez_shift',\n",
    "                                       nspan=nspan, npts=npts,\n",
    "                                       niterations=4, nrestarts=0,\n",
    "                                       stop_tol=1e-11)"
   ]
  },
  {
   "cell_type": "code",
   "execution_count": 197,
   "id": "48f6e8d0",
   "metadata": {
    "scrolled": true
   },
   "outputs": [
    {
     "data": {
      "application/vnd.jupyter.widget-view+json": {
       "model_id": "1b007d6215094cce8cfd855de69ec439",
       "version_major": 2,
       "version_minor": 0
      },
      "text/plain": [
       "WebGuiWidget(value={'ngsolve_version': '6.2.2203-56-g47f483033', 'mesh_dim': 2, 'order2d': 2, 'order3d': 2, 'd…"
      ]
     },
     "metadata": {},
     "output_type": "display_data"
    },
    {
     "data": {
      "application/vnd.jupyter.widget-view+json": {
       "model_id": "6c82bc08d46744ddb6ce3864bb103caf",
       "version_major": 2,
       "version_minor": 0
      },
      "text/plain": [
       "WebGuiWidget(value={'ngsolve_version': '6.2.2203-56-g47f483033', 'mesh_dim': 2, 'order2d': 2, 'order3d': 2, 'd…"
      ]
     },
     "metadata": {},
     "output_type": "display_data"
    },
    {
     "data": {
      "application/vnd.jupyter.widget-view+json": {
       "model_id": "0ee2ef7618b14594b5338e7685822a5a",
       "version_major": 2,
       "version_minor": 0
      },
      "text/plain": [
       "WebGuiWidget(value={'ngsolve_version': '6.2.2203-56-g47f483033', 'mesh_dim': 2, 'order2d': 2, 'order3d': 2, 'd…"
      ]
     },
     "metadata": {},
     "output_type": "display_data"
    },
    {
     "data": {
      "application/vnd.jupyter.widget-view+json": {
       "model_id": "7e911ecac97046e0b53bf9ab96c06559",
       "version_major": 2,
       "version_minor": 0
      },
      "text/plain": [
       "WebGuiWidget(value={'ngsolve_version': '6.2.2203-56-g47f483033', 'mesh_dim': 2, 'order2d': 2, 'order3d': 2, 'd…"
      ]
     },
     "metadata": {},
     "output_type": "display_data"
    }
   ],
   "source": [
    "for e in Es2:\n",
    "    Draw(e.real, B.mesh, vectors={'grid_size':200})"
   ]
  },
  {
   "cell_type": "code",
   "execution_count": 216,
   "id": "0cec583c",
   "metadata": {
    "scrolled": false
   },
   "outputs": [
    {
     "data": {
      "application/vnd.jupyter.widget-view+json": {
       "model_id": "8955c4f31c904e33b5dcacf5b4859b3c",
       "version_major": 2,
       "version_minor": 0
      },
      "text/plain": [
       "WebGuiWidget(value={'ngsolve_version': '6.2.2203-56-g47f483033', 'mesh_dim': 2, 'order2d': 2, 'order3d': 2, 'd…"
      ]
     },
     "metadata": {},
     "output_type": "display_data"
    },
    {
     "data": {
      "application/vnd.jupyter.widget-view+json": {
       "model_id": "e0e1865ad4dc419b860188b23ce07cf8",
       "version_major": 2,
       "version_minor": 0
      },
      "text/plain": [
       "WebGuiWidget(value={'ngsolve_version': '6.2.2203-56-g47f483033', 'mesh_dim': 2, 'order2d': 2, 'order3d': 2, 'd…"
      ]
     },
     "metadata": {},
     "output_type": "display_data"
    },
    {
     "data": {
      "application/vnd.jupyter.widget-view+json": {
       "model_id": "adc1da62a391435ea6083992d11b8b7b",
       "version_major": 2,
       "version_minor": 0
      },
      "text/plain": [
       "WebGuiWidget(value={'ngsolve_version': '6.2.2203-56-g47f483033', 'mesh_dim': 2, 'order2d': 2, 'order3d': 2, 'd…"
      ]
     },
     "metadata": {},
     "output_type": "display_data"
    },
    {
     "data": {
      "application/vnd.jupyter.widget-view+json": {
       "model_id": "80e34af81a4349dfb7515ebc594014d3",
       "version_major": 2,
       "version_minor": 0
      },
      "text/plain": [
       "WebGuiWidget(value={'ngsolve_version': '6.2.2203-56-g47f483033', 'mesh_dim': 2, 'order2d': 2, 'order3d': 2, 'd…"
      ]
     },
     "metadata": {},
     "output_type": "display_data"
    }
   ],
   "source": [
    "for phi in phis2:\n",
    "    Draw(ng.grad(phi).Norm(), B.mesh)"
   ]
  },
  {
   "cell_type": "markdown",
   "id": "e21310b4",
   "metadata": {},
   "source": [
    "# Discontinuous PML"
   ]
  },
  {
   "cell_type": "code",
   "execution_count": 214,
   "id": "52ef5907",
   "metadata": {
    "scrolled": true
   },
   "outputs": [
    {
     "name": "stdout",
     "output_type": "stream",
     "text": [
      "Set NGSolve automatic PML with alpha= 8 and thickness=3.000\n",
      "Using FEAST to search for vector leaky modes in\n",
      "circle of radius 0.001 centered at  (6.218853153319084-0.0030889077490732822j)\n",
      "assuming not more than 4 modes in this interval\n",
      "System size: 202107  x  202107   Inverse type: umfpack\n",
      "\n",
      "SpectralProj: Setting shifted trapezoidal rule quadrature on circular contour\n",
      "SpectralProj: Radius=0.001, Center=6.21885-0.00308891j\n",
      "SpectralProjNGR:   Making resolvent at z =  +6.220 -0.002j\n",
      "SpectralProjNGR:   Making resolvent at z =  +6.218 -0.002j\n",
      "SpectralProjNGR:   Making resolvent at z =  +6.218 -0.004j\n",
      "SpectralProjNGR:   Making resolvent at z =  +6.220 -0.004j\n",
      "\n",
      "=========== Starting FEAST iterations ===========\n",
      "Trying with 4 vectors:\n",
      "\n",
      " ITERATION 1 with 4 vectors and 4 left vectors\n",
      "   During kernel cleaning abs(g):\n",
      "   [5.6e-21 1.5e-23 2.0e-24 6.0e-24]\n",
      "   Real part of computed eigenvalues:\n",
      "   [5.88790071 6.38761512 6.59502668 6.69921638]\n",
      "   Imag part of computed eigenvalues:\n",
      "   [-0.77559274 -0.33427461 -0.60590476 -0.29351734]\n",
      "   Relative Hausdorff distance from prior iterate: 1.608e+99\n",
      "\n",
      " ITERATION 2 with 4 vectors and 4 left vectors\n",
      "   During kernel cleaning abs(g):\n",
      "   [1.4e-22 7.4e-24 1.1e-23 1.4e-23]\n",
      "   Real part of computed eigenvalues:\n",
      "   [5.86846485 6.40166914 6.4561311  6.68274807]\n",
      "   Imag part of computed eigenvalues:\n",
      "   [-0.65022459 -0.60989014 -0.76487586 -0.25363397]\n",
      "   Relative Hausdorff distance from prior iterate: 4.437e-02\n",
      "\n",
      " ITERATION 3 with 4 vectors and 4 left vectors\n",
      "   During kernel cleaning abs(g):\n",
      "   [1.6e-22 6.0e-24 1.3e-23 1.3e-23]\n",
      "   Real part of computed eigenvalues:\n",
      "   [5.95018735 6.36419821 6.47465912 6.68274078]\n",
      "   Imag part of computed eigenvalues:\n",
      "   [-0.71749863 -0.56308011 -0.61447706 -0.25374255]\n",
      "   Relative Hausdorff distance from prior iterate: 2.436e-02\n",
      "\n",
      " ITERATION 4 with 4 vectors and 4 left vectors\n",
      "   During kernel cleaning abs(g):\n",
      "   [1.6e-22 1.8e-23 1.3e-23 1.0e-23]\n",
      "   Real part of computed eigenvalues:\n",
      "   [5.89459319 6.45906189 6.47458928 6.6827452 ]\n",
      "   Imag part of computed eigenvalues:\n",
      "   [-0.71915001 -0.59241369 -0.63668272 -0.25372624]\n",
      "   Relative Hausdorff distance from prior iterate: 1.596e-02\n",
      "\n",
      "\n",
      "***FEAST did not converge!\n",
      "\n",
      "============= FEAST iterations done =============\n",
      "Results:\n",
      " Z²: [6.6827452 -0.25372624j 5.89459319-0.71915001j 6.45906189-0.59241369j\n",
      " 6.47458928-0.63668272j]\n",
      " beta: [381913.6046206 +1476.34460519j 386491.67801401+4134.91734217j\n",
      " 383225.48293198+3435.24878538j 383137.82892453+3692.79766287j]\n",
      " CL dB/m: [12823.36630845 35915.43569665 29838.19182913 32075.23295542]\n"
     ]
    }
   ],
   "source": [
    "beta, zs, Es3, phis3,_ = B.leakyvecmodes(p=p, ctr=center, rad=radius,\n",
    "                                       alpha=8,\n",
    "#                                        rhoinv=.99,\n",
    "#                                        quadrule='ellipse_trapez_shift',\n",
    "                                       nspan=nspan, npts=npts,\n",
    "                                       niterations=4, nrestarts=0,\n",
    "                                       stop_tol=1e-11)"
   ]
  },
  {
   "cell_type": "code",
   "execution_count": 200,
   "id": "215f2064",
   "metadata": {
    "scrolled": true
   },
   "outputs": [
    {
     "data": {
      "application/vnd.jupyter.widget-view+json": {
       "model_id": "50fee2f535e0456aa016e1134c0d70da",
       "version_major": 2,
       "version_minor": 0
      },
      "text/plain": [
       "WebGuiWidget(value={'ngsolve_version': '6.2.2203-56-g47f483033', 'mesh_dim': 2, 'order2d': 2, 'order3d': 2, 'd…"
      ]
     },
     "metadata": {},
     "output_type": "display_data"
    },
    {
     "data": {
      "application/vnd.jupyter.widget-view+json": {
       "model_id": "0a7aba0846db4e2c823324ac61f0fa93",
       "version_major": 2,
       "version_minor": 0
      },
      "text/plain": [
       "WebGuiWidget(value={'ngsolve_version': '6.2.2203-56-g47f483033', 'mesh_dim': 2, 'order2d': 2, 'order3d': 2, 'd…"
      ]
     },
     "metadata": {},
     "output_type": "display_data"
    },
    {
     "data": {
      "application/vnd.jupyter.widget-view+json": {
       "model_id": "f127faf050c84d6883e1c8dd54b2b7ab",
       "version_major": 2,
       "version_minor": 0
      },
      "text/plain": [
       "WebGuiWidget(value={'ngsolve_version': '6.2.2203-56-g47f483033', 'mesh_dim': 2, 'order2d': 2, 'order3d': 2, 'd…"
      ]
     },
     "metadata": {},
     "output_type": "display_data"
    },
    {
     "data": {
      "application/vnd.jupyter.widget-view+json": {
       "model_id": "84ed031ecf7c4e9196c1a7bb8ef6ef91",
       "version_major": 2,
       "version_minor": 0
      },
      "text/plain": [
       "WebGuiWidget(value={'ngsolve_version': '6.2.2203-56-g47f483033', 'mesh_dim': 2, 'order2d': 2, 'order3d': 2, 'd…"
      ]
     },
     "metadata": {},
     "output_type": "display_data"
    }
   ],
   "source": [
    "for e in Es3:\n",
    "    Draw(e.real, B.mesh, vectors={'grid_size':200})"
   ]
  },
  {
   "cell_type": "code",
   "execution_count": 215,
   "id": "a5a082a3",
   "metadata": {
    "scrolled": false
   },
   "outputs": [
    {
     "data": {
      "application/vnd.jupyter.widget-view+json": {
       "model_id": "c062b2df32af450e8370a3c7e599b811",
       "version_major": 2,
       "version_minor": 0
      },
      "text/plain": [
       "WebGuiWidget(value={'ngsolve_version': '6.2.2203-56-g47f483033', 'mesh_dim': 2, 'order2d': 2, 'order3d': 2, 'd…"
      ]
     },
     "metadata": {},
     "output_type": "display_data"
    },
    {
     "data": {
      "application/vnd.jupyter.widget-view+json": {
       "model_id": "b067ee24c67b4177bce1e003e4192f77",
       "version_major": 2,
       "version_minor": 0
      },
      "text/plain": [
       "WebGuiWidget(value={'ngsolve_version': '6.2.2203-56-g47f483033', 'mesh_dim': 2, 'order2d': 2, 'order3d': 2, 'd…"
      ]
     },
     "metadata": {},
     "output_type": "display_data"
    },
    {
     "data": {
      "application/vnd.jupyter.widget-view+json": {
       "model_id": "f68b9eb9c04a4c7291096c31705d452d",
       "version_major": 2,
       "version_minor": 0
      },
      "text/plain": [
       "WebGuiWidget(value={'ngsolve_version': '6.2.2203-56-g47f483033', 'mesh_dim': 2, 'order2d': 2, 'order3d': 2, 'd…"
      ]
     },
     "metadata": {},
     "output_type": "display_data"
    },
    {
     "data": {
      "application/vnd.jupyter.widget-view+json": {
       "model_id": "9284c7760f914cc48274b2874a853930",
       "version_major": 2,
       "version_minor": 0
      },
      "text/plain": [
       "WebGuiWidget(value={'ngsolve_version': '6.2.2203-56-g47f483033', 'mesh_dim': 2, 'order2d': 2, 'order3d': 2, 'd…"
      ]
     },
     "metadata": {},
     "output_type": "display_data"
    }
   ],
   "source": [
    "for phi in phis3:\n",
    "    Draw(ng.grad(phi).Norm(), B.mesh)"
   ]
  },
  {
   "cell_type": "code",
   "execution_count": null,
   "id": "f9895db3",
   "metadata": {},
   "outputs": [],
   "source": []
  }
 ],
 "metadata": {
  "kernelspec": {
   "display_name": "Python 3 (ipykernel)",
   "language": "python",
   "name": "python3"
  },
  "language_info": {
   "codemirror_mode": {
    "name": "ipython",
    "version": 3
   },
   "file_extension": ".py",
   "mimetype": "text/x-python",
   "name": "python",
   "nbconvert_exporter": "python",
   "pygments_lexer": "ipython3",
   "version": "3.8.10"
  }
 },
 "nbformat": 4,
 "nbformat_minor": 5
}
