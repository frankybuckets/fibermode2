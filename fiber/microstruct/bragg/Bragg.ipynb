{
 "cells": [
  {
   "cell_type": "code",
   "execution_count": null,
   "id": "c9ba1893",
   "metadata": {},
   "outputs": [],
   "source": [
    "from fiberamp.fiber.microstruct.bragg import Bragg\n",
    "from fiberamp.fiber import sellmeier\n",
    "from ngsolve.webgui import Draw\n",
    "import ngsolve as ng\n",
    "import numpy as np"
   ]
  },
  {
   "cell_type": "code",
   "execution_count": null,
   "id": "5d0e3313",
   "metadata": {},
   "outputs": [],
   "source": [
    "n_air = 1.00027717\n",
    "n_glass = 1.4388164768221814"
   ]
  },
  {
   "cell_type": "code",
   "execution_count": null,
   "id": "89f33d87",
   "metadata": {},
   "outputs": [],
   "source": [
    "d = 15*2/3*1e-6\n",
    "ts=[15*2.7183333333333333e-6, d, 15*1e-6, 15*1e-6, 15*1e-6]\n",
    "ns=[lambda x: n_air, lambda x: n_glass, lambda x: n_air, lambda x: n_glass, lambda x: n_glass]\n",
    "maxhs=[.1, .015, .04, .04, .1]\n",
    "scale=15e-6"
   ]
  },
  {
   "cell_type": "markdown",
   "id": "5e668d16",
   "metadata": {},
   "source": [
    "$\\lambda_m = \\frac{2 n_1 d}{m} \\big[ (n_2 / n_1)^2 - 1 \\big]^{1/2}$"
   ]
  },
  {
   "cell_type": "code",
   "execution_count": null,
   "id": "3f2d047b",
   "metadata": {},
   "outputs": [],
   "source": [
    "B = Bragg(ts=ts, scale=scale, maxhs=maxhs, ns=ns, wl=.5*ts[0])"
   ]
  },
  {
   "cell_type": "code",
   "execution_count": null,
   "id": "546ebe46",
   "metadata": {},
   "outputs": [],
   "source": [
    "spikes = np.array([2*n_air * d / m * ((n_glass/n_air)**2 - 1)**.5 for m in range(1, 18)])"
   ]
  },
  {
   "cell_type": "code",
   "execution_count": null,
   "id": "717c3ff6",
   "metadata": {},
   "outputs": [],
   "source": [
    "spikes, B.wavelength"
   ]
  },
  {
   "cell_type": "code",
   "execution_count": null,
   "id": "eda96205",
   "metadata": {},
   "outputs": [],
   "source": [
    "Draw(B.index, B.mesh)"
   ]
  },
  {
   "cell_type": "code",
   "execution_count": null,
   "id": "3d862855",
   "metadata": {},
   "outputs": [],
   "source": [
    "ks = np.array(B.refractive_indices) * B.L * B.k\n",
    "guess = min(ks)\n",
    "\n",
    "guess"
   ]
  },
  {
   "cell_type": "code",
   "execution_count": null,
   "id": "dad4670a",
   "metadata": {},
   "outputs": [],
   "source": [
    "B.L**2 * B.k**2 * (B.n0**2 - n_air**2) +  guess"
   ]
  },
  {
   "cell_type": "code",
   "execution_count": null,
   "id": "bf91aacc",
   "metadata": {},
   "outputs": [],
   "source": [
    "23.14284569-0.06112482j, 23.14245714-0.06130243j"
   ]
  },
  {
   "cell_type": "code",
   "execution_count": null,
   "id": "79d992ef",
   "metadata": {},
   "outputs": [],
   "source": [
    "# Center, radius and span\n",
    "center = 23.14245714-0.06130243j\n",
    "radius = .01\n",
    "nspan = 2\n",
    "npts = 2\n",
    "p = 1"
   ]
  },
  {
   "cell_type": "code",
   "execution_count": null,
   "id": "2cf47703",
   "metadata": {},
   "outputs": [],
   "source": [
    "beta, zs, Es1, phis1,_ = B.leakyvecmodes(p=p, ctr=center, rad=radius,\n",
    "                                       alpha=10, d=2,\n",
    "#                                        rhoinv=.99,\n",
    "#                                        quadrule='ellipse_trapez_shift',\n",
    "                                       nspan=nspan, npts=npts,\n",
    "                                       niterations=5, nrestarts=0,\n",
    "                                       stop_tol=1e-11)"
   ]
  },
  {
   "cell_type": "code",
   "execution_count": null,
   "id": "74b3f882",
   "metadata": {},
   "outputs": [],
   "source": [
    "for e in Es1:\n",
    "#     Draw(e.real, B.mesh, vectors={'grid_size':200})\n",
    "    Draw(e.Norm(), B.mesh)"
   ]
  },
  {
   "cell_type": "code",
   "execution_count": null,
   "id": "48e94cf6",
   "metadata": {},
   "outputs": [],
   "source": [
    "for phi1 in phis1:\n",
    "    Draw(phi1, B.mesh)"
   ]
  },
  {
   "cell_type": "markdown",
   "id": "c623a85d",
   "metadata": {},
   "source": [
    "# Less smooth PML"
   ]
  },
  {
   "cell_type": "code",
   "execution_count": null,
   "id": "1ff28c60",
   "metadata": {},
   "outputs": [],
   "source": [
    "beta, zs, Es2, phis2,_ = B.leakyvecmodes(p=p, ctr=center, rad=radius,\n",
    "                                       alpha=8, d=1,\n",
    "#                                        rhoinv=.99,\n",
    "#                                        quadrule='ellipse_trapez_shift',\n",
    "                                       nspan=nspan, npts=npts,\n",
    "                                       niterations=4, nrestarts=0,\n",
    "                                       stop_tol=1e-11)"
   ]
  },
  {
   "cell_type": "code",
   "execution_count": null,
   "id": "48f6e8d0",
   "metadata": {},
   "outputs": [],
   "source": [
    "for e in Es2:\n",
    "    Draw(e.real, B.mesh, vectors={'grid_size':200})"
   ]
  },
  {
   "cell_type": "code",
   "execution_count": null,
   "id": "0cec583c",
   "metadata": {},
   "outputs": [],
   "source": [
    "for phi in phis2:\n",
    "    Draw(ng.grad(phi).Norm(), B.mesh)"
   ]
  },
  {
   "cell_type": "markdown",
   "id": "e21310b4",
   "metadata": {},
   "source": [
    "# Discontinuous PML"
   ]
  },
  {
   "cell_type": "code",
   "execution_count": null,
   "id": "52ef5907",
   "metadata": {},
   "outputs": [],
   "source": [
    "beta, zs, Es3, phis3,_ = B.leakyvecmodes(p=p, ctr=center, rad=radius,\n",
    "                                       alpha=8,\n",
    "#                                        rhoinv=.99,\n",
    "#                                        quadrule='ellipse_trapez_shift',\n",
    "                                       nspan=nspan, npts=npts,\n",
    "                                       niterations=4, nrestarts=0,\n",
    "                                       stop_tol=1e-11)"
   ]
  },
  {
   "cell_type": "code",
   "execution_count": null,
   "id": "215f2064",
   "metadata": {},
   "outputs": [],
   "source": [
    "for e in Es3:\n",
    "    Draw(e.real, B.mesh, vectors={'grid_size':200})"
   ]
  },
  {
   "cell_type": "code",
   "execution_count": null,
   "id": "a5a082a3",
   "metadata": {},
   "outputs": [],
   "source": [
    "for phi in phis3:\n",
    "    Draw(ng.grad(phi).Norm(), B.mesh)"
   ]
  },
  {
   "cell_type": "code",
   "execution_count": null,
   "id": "f9895db3",
   "metadata": {},
   "outputs": [],
   "source": []
  }
 ],
 "metadata": {
  "kernelspec": {
   "display_name": "Python 3 (ipykernel)",
   "language": "python",
   "name": "python3"
  },
  "language_info": {
   "codemirror_mode": {
    "name": "ipython",
    "version": 3
   },
   "file_extension": ".py",
   "mimetype": "text/x-python",
   "name": "python",
   "nbconvert_exporter": "python",
   "pygments_lexer": "ipython3",
   "version": "3.8.10"
  }
 },
 "nbformat": 4,
 "nbformat_minor": 5
}
