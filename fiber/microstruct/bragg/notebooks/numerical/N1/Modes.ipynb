{
 "cells": [
  {
   "cell_type": "code",
   "execution_count": 1,
   "id": "c9ba1893",
   "metadata": {},
   "outputs": [
    {
     "name": "stdout",
     "output_type": "stream",
     "text": [
      "importing NGSolve-6.2.2203-56-g47f483033\n"
     ]
    }
   ],
   "source": [
    "from fiberamp.fiber.microstruct.bragg import Bragg\n",
    "from fiberamp.fiber import sellmeier\n",
    "from ngsolve.webgui import Draw\n",
    "import ngsolve as ng\n",
    "import numpy as np"
   ]
  },
  {
   "cell_type": "code",
   "execution_count": 2,
   "id": "5d0e3313",
   "metadata": {},
   "outputs": [],
   "source": [
    "n_air = 1.00027717\n",
    "n_glass = 1.4388164768221814"
   ]
  },
  {
   "cell_type": "code",
   "execution_count": 49,
   "id": "89f33d87",
   "metadata": {},
   "outputs": [],
   "source": [
    "ts=[4.0775e-05, 1e-5, 1.5e-5, 1.5e-5]\n",
    "ns=[lambda x: n_air, lambda x: n_glass, lambda x: n_air, lambda x: n_air]\n",
    "maxhs=[.1, .02, .08, .1]\n",
    "scale=15e-6"
   ]
  },
  {
   "cell_type": "code",
   "execution_count": 50,
   "id": "5f352997",
   "metadata": {},
   "outputs": [],
   "source": [
    "goodwl = 1.6999999999999998e-06\n",
    "goodbeta = 55.44793711650212-1.5343515969487227e-05j\n",
    "\n",
    "badwl = 1.72372210e-06\n",
    "badbeta = 54.63752396621695-0.010762057602262157j\n",
    "\n",
    "trial = 'good'\n",
    "\n",
    "if trial == 'good':\n",
    "    wl = goodwl\n",
    "    beta = goodbeta\n",
    "elif trial == 'bad':\n",
    "    wl = badwl\n",
    "    beta = badbeta\n",
    "else:\n",
    "    raise ValueError"
   ]
  },
  {
   "cell_type": "code",
   "execution_count": 51,
   "id": "3f2d047b",
   "metadata": {},
   "outputs": [
    {
     "name": "stdout",
     "output_type": "stream",
     "text": [
      "ModeSolver: Checking if mesh has required regions\n",
      "Mesh has  9603  elements,  4831  points,  and  14433  edges.\n"
     ]
    }
   ],
   "source": [
    "B = Bragg(ts=ts, scale=scale, maxhs=maxhs, ns=ns, wl=wl)"
   ]
  },
  {
   "cell_type": "code",
   "execution_count": 52,
   "id": "eda96205",
   "metadata": {},
   "outputs": [
    {
     "data": {
      "application/vnd.jupyter.widget-view+json": {
       "model_id": "68852ce81711425eaa88d2f8d27d177f",
       "version_major": 2,
       "version_minor": 0
      },
      "text/plain": [
       "WebGuiWidget(value={'ngsolve_version': '6.2.2203-56-g47f483033', 'mesh_dim': 2, 'order2d': 2, 'order3d': 2, 'd…"
      ]
     },
     "metadata": {},
     "output_type": "display_data"
    },
    {
     "data": {
      "text/plain": [
       "BaseWebGuiScene"
      ]
     },
     "execution_count": 52,
     "metadata": {},
     "output_type": "execute_result"
    }
   ],
   "source": [
    "Draw(B.index, B.mesh)"
   ]
  },
  {
   "cell_type": "code",
   "execution_count": 53,
   "id": "bf91aacc",
   "metadata": {},
   "outputs": [],
   "source": [
    "exact = B.sqrZfrom(beta/B.L)"
   ]
  },
  {
   "cell_type": "code",
   "execution_count": 55,
   "id": "0b313468",
   "metadata": {},
   "outputs": [
    {
     "data": {
      "text/plain": [
       "(0.8095388073497816-0.0017015326172443476j)"
      ]
     },
     "execution_count": 55,
     "metadata": {},
     "output_type": "execute_result"
    }
   ],
   "source": [
    "guess = exact.conjugate()\n",
    "guess"
   ]
  },
  {
   "cell_type": "code",
   "execution_count": 56,
   "id": "79d992ef",
   "metadata": {},
   "outputs": [],
   "source": [
    "center = guess\n",
    "radius = .1\n",
    "nspan = 4\n",
    "npts = 2\n",
    "p = 1"
   ]
  },
  {
   "cell_type": "code",
   "execution_count": 57,
   "id": "2cf47703",
   "metadata": {},
   "outputs": [
    {
     "name": "stdout",
     "output_type": "stream",
     "text": [
      "Set NGSolve automatic PML with p= 1  alpha= 5 and thickness=1.000\n",
      "Using FEAST to search for vector leaky modes in\n",
      "circle of radius 0.1 centered at  (0.8095388073497816-0.0017015326172443476j)\n",
      "assuming not more than 4 modes in this interval\n",
      "System size: 48072  x  48072   Inverse type: umfpack\n",
      "\n",
      "SpectralProj: Setting shifted trapezoidal rule quadrature on circular contour\n",
      "SpectralProj: Radius=0.1, Center=0.809539-0.00170153j\n",
      "SpectralProjNGR:   Making resolvent at z =  +0.810 +0.098j\n",
      "SpectralProjNGR:   Making resolvent at z =  +0.810 -0.102j\n",
      "\n",
      "=========== Starting FEAST iterations ===========\n",
      "Trying with 4 vectors:\n",
      "\n",
      " ITERATION 1 with 4 vectors and 4 left vectors\n",
      "   During kernel cleaning abs(g):\n",
      "   [1.5e+00 1.5e-01 2.0e-03 8.3e-05]\n",
      "   Real part of computed eigenvalues:\n",
      "   [-2.91448243  0.77496371  0.77580974  1.87964997]\n",
      "   Imag part of computed eigenvalues:\n",
      "   [-5.86227766e-01  9.26522071e-04 -1.60122610e-03  1.71519374e+00]\n",
      "   Relative Hausdorff distance from prior iterate: 1.099e+100\n",
      "\n",
      " ITERATION 2 with 4 vectors and 4 left vectors\n",
      "   During kernel cleaning abs(g):\n",
      "   [1.2 1.7 0.2 0. ]\n",
      "   Real part of computed eigenvalues:\n",
      "   [0.77349699 0.77417194 0.79436758 1.27403627]\n",
      "   Imag part of computed eigenvalues:\n",
      "   [-5.25183489e-04 -5.29745639e-04  8.58268730e-01 -2.91699517e-01]\n",
      "   Relative Hausdorff distance from prior iterate: 4.106e+00\n",
      "\n",
      " ITERATION 3 with 4 vectors and 4 left vectors\n",
      "   During kernel cleaning abs(g):\n",
      "   [5.8e-05 1.1e-03 4.5e-01 3.5e-01]\n",
      "   Real part of computed eigenvalues:\n",
      "   [0.7504351  0.77349741 0.77417252 1.36599655]\n",
      "   Imag part of computed eigenvalues:\n",
      "   [ 9.60713709e-01 -5.26455338e-04 -5.29778387e-04  1.07358736e-02]\n",
      "   Relative Hausdorff distance from prior iterate: 3.475e-01\n",
      "\n",
      "   Removing ew#[0, 1] not enclosed by contour\n",
      " ITERATION 4 with 2 vectors and 2 left vectors\n",
      "   During kernel cleaning abs(g):\n",
      "   [1.7 2.2]\n",
      "   Real part of computed eigenvalues:\n",
      "   [0.7734974  0.77417252]\n",
      "   Imag part of computed eigenvalues:\n",
      "   [-0.00052647 -0.00052978]\n",
      "   Relative Hausdorff distance from prior iterate: 1.392e-08\n",
      "\n",
      " ITERATION 5 with 2 vectors and 2 left vectors\n",
      "   During kernel cleaning abs(g):\n",
      "   [0.5 0.4]\n",
      "   Real part of computed eigenvalues:\n",
      "   [0.7734974  0.77417252]\n",
      "   Imag part of computed eigenvalues:\n",
      "   [-0.00052647 -0.00052978]\n",
      "   Relative Hausdorff distance from prior iterate: 1.345e-10\n",
      "\n",
      "\n",
      "***FEAST converged with:\n",
      "\tRelative Hausdorff distance = 1.345e-10\n",
      "\n",
      "============= FEAST iterations done =============\n",
      "Results:\n",
      " Z²: [0.7734974 -0.00052647j 0.77417252-0.00052978j]\n",
      " beta: [3696550.80784975+0.31649129j 3696550.40199871+0.31848312j]\n",
      " CL dB/m: [2.74900846 2.76630926]\n"
     ]
    }
   ],
   "source": [
    "betas, zs, Es, phis,_ = B.leakyvecmodes(p=p, ctr=center, rad=radius,\n",
    "                                       alpha=5,\n",
    "#                                        rhoinv=.9,\n",
    "#                                        quadrule='ellipse_trapez_shift',\n",
    "                                       nspan=nspan, npts=npts,\n",
    "                                       niterations=6, nrestarts=0,\n",
    "                                       stop_tol=1e-9)"
   ]
  },
  {
   "cell_type": "code",
   "execution_count": 58,
   "id": "74b3f882",
   "metadata": {},
   "outputs": [
    {
     "data": {
      "application/vnd.jupyter.widget-view+json": {
       "model_id": "6ea4fd8bdcbc4b928245489f13c87669",
       "version_major": 2,
       "version_minor": 0
      },
      "text/plain": [
       "WebGuiWidget(value={'ngsolve_version': '6.2.2203-56-g47f483033', 'mesh_dim': 2, 'order2d': 2, 'order3d': 2, 'd…"
      ]
     },
     "metadata": {},
     "output_type": "display_data"
    },
    {
     "data": {
      "application/vnd.jupyter.widget-view+json": {
       "model_id": "a72305148a5e4fd79821d89c3fd9e18d",
       "version_major": 2,
       "version_minor": 0
      },
      "text/plain": [
       "WebGuiWidget(value={'ngsolve_version': '6.2.2203-56-g47f483033', 'mesh_dim': 2, 'order2d': 2, 'order3d': 2, 'd…"
      ]
     },
     "metadata": {},
     "output_type": "display_data"
    }
   ],
   "source": [
    "for e in Es:\n",
    "    Draw(e.real, B.mesh, vectors={'grid_size' : 200})"
   ]
  },
  {
   "cell_type": "code",
   "execution_count": 59,
   "id": "a5a082a3",
   "metadata": {},
   "outputs": [
    {
     "data": {
      "application/vnd.jupyter.widget-view+json": {
       "model_id": "d96ef431e9ec4b33a6fbc78791ce6a5a",
       "version_major": 2,
       "version_minor": 0
      },
      "text/plain": [
       "WebGuiWidget(value={'ngsolve_version': '6.2.2203-56-g47f483033', 'mesh_dim': 2, 'order2d': 2, 'order3d': 2, 'd…"
      ]
     },
     "metadata": {},
     "output_type": "display_data"
    },
    {
     "data": {
      "application/vnd.jupyter.widget-view+json": {
       "model_id": "1c7714ae23954294882c24669dcc95db",
       "version_major": 2,
       "version_minor": 0
      },
      "text/plain": [
       "WebGuiWidget(value={'ngsolve_version': '6.2.2203-56-g47f483033', 'mesh_dim': 2, 'order2d': 2, 'order3d': 2, 'd…"
      ]
     },
     "metadata": {},
     "output_type": "display_data"
    }
   ],
   "source": [
    "for phi in phis:\n",
    "    Draw(1e1*phi, B.mesh)"
   ]
  }
 ],
 "metadata": {
  "kernelspec": {
   "display_name": "Python 3 (ipykernel)",
   "language": "python",
   "name": "python3"
  },
  "language_info": {
   "codemirror_mode": {
    "name": "ipython",
    "version": 3
   },
   "file_extension": ".py",
   "mimetype": "text/x-python",
   "name": "python",
   "nbconvert_exporter": "python",
   "pygments_lexer": "ipython3",
   "version": "3.8.10"
  }
 },
 "nbformat": 4,
 "nbformat_minor": 5
}
