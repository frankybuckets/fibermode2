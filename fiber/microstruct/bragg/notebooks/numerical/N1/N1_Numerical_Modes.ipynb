{
 "cells": [
  {
   "cell_type": "markdown",
   "id": "168ba2c2",
   "metadata": {},
   "source": [
    "# N1 Numerical Modes\n"
   ]
  },
  {
   "cell_type": "code",
   "execution_count": 1,
   "id": "c9ba1893",
   "metadata": {},
   "outputs": [],
   "source": [
    "from fiberamp.fiber.microstruct.bragg import Bragg\n",
    "from fiberamp.fiber import sellmeier\n",
    "from ngsolve.webgui import Draw\n",
    "import ngsolve as ng\n",
    "import numpy as np"
   ]
  },
  {
   "cell_type": "code",
   "execution_count": 2,
   "id": "5d0e3313",
   "metadata": {},
   "outputs": [],
   "source": [
    "n_air = 1.00027717\n",
    "n_glass = 1.4388164768221814"
   ]
  },
  {
   "cell_type": "code",
   "execution_count": 39,
   "id": "89f33d87",
   "metadata": {},
   "outputs": [],
   "source": [
    "ts=[4.0775e-05, 1e-5, 1.5e-5, 1.5e-5]\n",
    "ns=[lambda x: n_air, lambda x: n_glass, lambda x: n_air, lambda x: n_air]\n",
    "maxhs=[.3, .02, .08, .1]\n",
    "scale=15e-6"
   ]
  },
  {
   "cell_type": "markdown",
   "id": "6baed9b7",
   "metadata": {},
   "source": [
    "## Mode at Antiresonant (Good) Wavelength"
   ]
  },
  {
   "cell_type": "code",
   "execution_count": 40,
   "id": "5f352997",
   "metadata": {},
   "outputs": [],
   "source": [
    "goodwl = 1.6999999999999998e-06\n",
    "goodbeta = 55.44793711650212-1.5343515969487227e-05j\n",
    "\n",
    "badwl = 1.72372210e-06\n",
    "badbeta = 54.63752396621695-0.010762057602262157j\n",
    "\n",
    "trial = 'good'\n",
    "\n",
    "if trial == 'good':\n",
    "    wl = goodwl\n",
    "    beta = goodbeta\n",
    "elif trial == 'bad':\n",
    "    wl = badwl\n",
    "    beta = badbeta\n",
    "else:\n",
    "    raise ValueError"
   ]
  },
  {
   "cell_type": "code",
   "execution_count": 41,
   "id": "3f2d047b",
   "metadata": {},
   "outputs": [
    {
     "name": "stdout",
     "output_type": "stream",
     "text": [
      "Boundary names not provided, using default names.\n",
      "ModeSolver: Checking if mesh has required regions\n",
      "Mesh has  9367  elements,  4713  points,  and  14079  edges.\n"
     ]
    }
   ],
   "source": [
    "B = Bragg(ts=ts, scale=scale, maxhs=maxhs, ns=ns, wl=wl)"
   ]
  },
  {
   "cell_type": "code",
   "execution_count": 42,
   "id": "eda96205",
   "metadata": {},
   "outputs": [
    {
     "data": {
      "application/vnd.jupyter.widget-view+json": {
       "model_id": "808e35a2aa6b44039905a7863a5f04c1",
       "version_major": 2,
       "version_minor": 0
      },
      "text/plain": [
       "WebGuiWidget(layout=Layout(height='50vh', width='100%'), value={'gui_settings': {}, 'ngsolve_version': '6.2.23…"
      ]
     },
     "metadata": {},
     "output_type": "display_data"
    },
    {
     "data": {
      "text/plain": [
       "BaseWebGuiScene"
      ]
     },
     "execution_count": 42,
     "metadata": {},
     "output_type": "execute_result"
    }
   ],
   "source": [
    "Draw(B.index, B.mesh)"
   ]
  },
  {
   "cell_type": "code",
   "execution_count": 43,
   "id": "bf91aacc",
   "metadata": {},
   "outputs": [],
   "source": [
    "exact = B.sqrZfrom(beta/B.L)"
   ]
  },
  {
   "cell_type": "code",
   "execution_count": 44,
   "id": "0b313468",
   "metadata": {},
   "outputs": [
    {
     "data": {
      "text/plain": [
       "(0.8095388073497816-0.0017015326172443476j)"
      ]
     },
     "execution_count": 44,
     "metadata": {},
     "output_type": "execute_result"
    }
   ],
   "source": [
    "guess = exact.conjugate()\n",
    "guess"
   ]
  },
  {
   "cell_type": "code",
   "execution_count": 45,
   "id": "79d992ef",
   "metadata": {},
   "outputs": [],
   "source": [
    "center = guess\n",
    "radius = .1\n",
    "nspan = 4\n",
    "npts = 2\n",
    "p = 1"
   ]
  },
  {
   "cell_type": "code",
   "execution_count": 46,
   "id": "2cf47703",
   "metadata": {},
   "outputs": [
    {
     "name": "stdout",
     "output_type": "stream",
     "text": [
      "Set NGSolve automatic PML with p= 1  alpha= 5 and thickness=1.000\n",
      "Using FEAST to search for vector leaky modes in\n",
      "circle of radius 0.1 centered at  (0.8095388073497816-0.0017015326172443476j)\n",
      "assuming not more than 4 modes in this interval\n",
      "System size: 46892  x  46892   Inverse type: umfpack\n",
      "\n",
      "SpectralProj: Setting shifted trapezoidal rule quadrature on circular contour\n",
      "SpectralProj: Radius=0.1, Center=0.809539-0.00170153j\n",
      "SpectralProjNGR:   Making resolvent at z =  +0.810 +0.098j\n",
      "SpectralProjNGR:   Making resolvent at z =  +0.810 -0.102j\n",
      "\n",
      "=========== Starting FEAST iterations ===========\n",
      "Trying with 4 vectors:\n",
      "\n",
      " ITERATION 1 with 4 vectors and 4 left vectors\n",
      "   During kernel cleaning abs(g):\n",
      "   [4.9e-01 1.7e-01 8.5e-05 2.9e-03]\n",
      "   Real part of computed eigenvalues:\n",
      "   [-0.24689808  0.77434702  0.77630099  1.68757851]\n",
      "   Imag part of computed eigenvalues:\n",
      "   [ 1.25131839e+00 -1.02265192e-03 -1.35384912e-03  2.34129213e+00]\n",
      "   Relative Hausdorff distance from prior iterate: 1.099e+100\n",
      "\n",
      " ITERATION 2 with 4 vectors and 4 left vectors\n",
      "   During kernel cleaning abs(g):\n",
      "   [6.7e+00 2.6e+00 1.8e-05 1.8e-06]\n",
      "   Real part of computed eigenvalues:\n",
      "   [-0.39010026  0.77358595  0.77402959  0.77447244]\n",
      "   Imag part of computed eigenvalues:\n",
      "   [ 3.52977211e-01 -6.71552200e-04 -5.79876745e-03 -2.35824982e-05]\n",
      "   Relative Hausdorff distance from prior iterate: 2.763e+00\n",
      "\n",
      " ITERATION 3 with 4 vectors and 4 left vectors\n",
      "   During kernel cleaning abs(g):\n",
      "   [7.7e-01 1.9e-03 7.0e-14 1.9e-15]\n",
      "   Real part of computed eigenvalues:\n",
      "   [0.2252007  0.2682864  0.76912769 0.77358874]\n",
      "   Imag part of computed eigenvalues:\n",
      "   [-6.26845454e-01  8.55889920e-01  4.13740121e-03 -5.54127923e-04]\n",
      "   Relative Hausdorff distance from prior iterate: 9.112e-01\n",
      "\n",
      "   Removing ew#[1, 2] not enclosed by contour\n",
      " ITERATION 4 with 2 vectors and 2 left vectors\n",
      "   During kernel cleaning abs(g):\n",
      "   [5.0e-01 4.5e+04]\n",
      "   Scipy small eig solver failed!\n",
      "   Last ditch retry after mod-Gram-Schmidt on left/right spans:\n",
      "   QR found abs(diag(R)):\n",
      "   [3.2e+01 1.9e-07]\n",
      "   QR found abs(diag(R)):\n",
      "   [1.8e+04 6.7e-05]\n",
      "   Real part of computed eigenvalues:\n",
      "   [0.77354223 0.77422218]\n",
      "   Imag part of computed eigenvalues:\n",
      "   [-0.00052628 -0.00052799]\n",
      "   Relative Hausdorff distance from prior iterate: 7.060e-03\n",
      "\n",
      " ITERATION 5 with 2 vectors and 2 left vectors\n",
      "   During kernel cleaning abs(g):\n",
      "   [0.2 1.6]\n",
      "   Real part of computed eigenvalues:\n",
      "   [0.77354223 0.77422218]\n",
      "   Imag part of computed eigenvalues:\n",
      "   [-0.00052628 -0.00052799]\n",
      "   Relative Hausdorff distance from prior iterate: 1.122e-10\n",
      "\n",
      "\n",
      "***FEAST converged with:\n",
      "\tRelative Hausdorff distance = 1.122e-10\n",
      "\n",
      "============= FEAST iterations done =============\n",
      "Results:\n",
      " Z²: [0.77422218-0.00052799j 0.77354223-0.00052628j]\n",
      " beta: [3696550.37214425+0.31740934j 3696550.78089996+0.31637928j]\n",
      " CL dB/m: [2.75698251 2.74803548]\n"
     ]
    }
   ],
   "source": [
    "betas, zs, Es, phis,_ = B.leakyvecmodes(p=p, ctr=center, rad=radius,\n",
    "                                       alpha=5,\n",
    "#                                        rhoinv=.9,\n",
    "#                                        quadrule='ellipse_trapez_shift',\n",
    "                                       nspan=nspan, npts=2,\n",
    "                                       niterations=6, nrestarts=0,\n",
    "                                       stop_tol=1e-9)"
   ]
  },
  {
   "cell_type": "code",
   "execution_count": 50,
   "id": "74b3f882",
   "metadata": {},
   "outputs": [
    {
     "data": {
      "application/vnd.jupyter.widget-view+json": {
       "model_id": "",
       "version_major": 2,
       "version_minor": 0
      },
      "text/plain": [
       "WebGuiWidget(layout=Layout(height='50vh', width='100%'), value={'gui_settings': {}, 'ngsolve_version': '6.2.23…"
      ]
     },
     "metadata": {},
     "output_type": "display_data"
    },
    {
     "data": {
      "application/vnd.jupyter.widget-view+json": {
       "model_id": "",
       "version_major": 2,
       "version_minor": 0
      },
      "text/plain": [
       "WebGuiWidget(layout=Layout(height='50vh', width='100%'), value={'gui_settings': {}, 'ngsolve_version': '6.2.23…"
      ]
     },
     "metadata": {},
     "output_type": "display_data"
    }
   ],
   "source": [
    "for e in Es:\n",
    "    Draw(10*e.Norm(), B.mesh)"
   ]
  },
  {
   "cell_type": "code",
   "execution_count": 51,
   "id": "b4d070ee",
   "metadata": {},
   "outputs": [
    {
     "data": {
      "application/vnd.jupyter.widget-view+json": {
       "model_id": "",
       "version_major": 2,
       "version_minor": 0
      },
      "text/plain": [
       "WebGuiWidget(layout=Layout(height='50vh', width='100%'), value={'gui_settings': {}, 'ngsolve_version': '6.2.23…"
      ]
     },
     "metadata": {},
     "output_type": "display_data"
    },
    {
     "data": {
      "application/vnd.jupyter.widget-view+json": {
       "model_id": "",
       "version_major": 2,
       "version_minor": 0
      },
      "text/plain": [
       "WebGuiWidget(layout=Layout(height='50vh', width='100%'), value={'gui_settings': {}, 'ngsolve_version': '6.2.23…"
      ]
     },
     "metadata": {},
     "output_type": "display_data"
    }
   ],
   "source": [
    "for phi in phis:\n",
    "    Draw(10*phi.Norm(), B.mesh)"
   ]
  },
  {
   "cell_type": "code",
   "execution_count": null,
   "id": "4aa7d343",
   "metadata": {},
   "outputs": [],
   "source": []
  }
 ],
 "metadata": {
  "kernelspec": {
   "display_name": "Python 3 (ipykernel)",
   "language": "python",
   "name": "python3"
  },
  "language_info": {
   "codemirror_mode": {
    "name": "ipython",
    "version": 3
   },
   "file_extension": ".py",
   "mimetype": "text/x-python",
   "name": "python",
   "nbconvert_exporter": "python",
   "pygments_lexer": "ipython3",
   "version": "3.10.6"
  }
 },
 "nbformat": 4,
 "nbformat_minor": 5
}
