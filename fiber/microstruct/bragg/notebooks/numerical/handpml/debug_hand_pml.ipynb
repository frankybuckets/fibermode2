{
 "cells": [
  {
   "cell_type": "markdown",
   "id": "720129b6",
   "metadata": {},
   "source": [
    "\n",
    "# Debug hand pml in modesolver"
   ]
  },
  {
   "cell_type": "code",
   "execution_count": 1,
   "id": "664ce3d7",
   "metadata": {},
   "outputs": [
    {
     "name": "stdout",
     "output_type": "stream",
     "text": [
      "importing NGSolve-6.2.2203-56-g47f483033\n"
     ]
    }
   ],
   "source": [
    "import numpy as np\n",
    "\n",
    "from fiberamp.fiber.microstruct.bragg import Bragg\n",
    "from ngsolve.webgui import Draw\n",
    "from ngsolve import CF, x, y, pml\n",
    "import ngsolve as ng"
   ]
  },
  {
   "cell_type": "code",
   "execution_count": 2,
   "id": "1829005b",
   "metadata": {},
   "outputs": [
    {
     "name": "stdout",
     "output_type": "stream",
     "text": [
      "ModeSolver: Checking if mesh has required regions\n",
      "Mesh has  3592  elements,  1849  points,  and  5440  edges.\n"
     ]
    }
   ],
   "source": [
    "n_air = 1.00027717\n",
    "n_glass = 1.4388164768221814\n",
    "ts = [15*2.7183333333333333e-6, 15*2/3*1e-6, 15*1e-6]\n",
    "ns = [lambda x: n_air, lambda x: n_glass, lambda x: n_glass]\n",
    "mats = ['air', 'glass', 'Outer']\n",
    "maxhs = [.1, .04, .06]\n",
    "scale = 15e-6\n",
    "i=0\n",
    "alpha=1\n",
    "wls = np.linspace(1.4, 2, 301) * 1e-6\n",
    "\n",
    "A = Bragg(ts=ts, scale=scale, maxhs=maxhs, ns=ns, mats=mats, wl=wls[i])\n"
   ]
  },
  {
   "cell_type": "code",
   "execution_count": 3,
   "id": "65b08237",
   "metadata": {},
   "outputs": [],
   "source": [
    "# Set complex trafo\n",
    "d=0\n",
    "rh = ng.sqrt(ng.x**2 + ng.y**2)  # radial variable\n",
    "r = rh + 1 / (d + 1) * alpha * 1j * (rh - A.R) ** (d + 1)\n",
    "drdrh = 1 + alpha * 1j * (rh - A.R) ** d\n",
    "\n",
    "x = r * ng.x / rh\n",
    "y = r * ng.y / rh\n",
    "\n",
    "trafo = ng.CoefficientFunction([(ng.x, ng.y), (ng.x, ng.y), (x, y)])\n",
    "\n",
    "# derivatives and determinant\n",
    "\n",
    "dxdxh = drdrh * (ng.x / rh) ** 2 + r * (ng.y ** 2 / rh ** 3)\n",
    "dxdyh = drdrh * (ng.y * ng. x / rh ** 2) - \\\n",
    "    r * (ng.y * ng.x / rh ** 3)\n",
    "\n",
    "dydyh = drdrh * (ng.y / rh) ** 2 + r * (ng.x ** 2 / rh ** 3)\n",
    "dydxh = dxdyh\n",
    "\n",
    "J = CF((dxdxh, dxdyh, dydxh, dydyh),\n",
    "                           dims=(2, 2))\n",
    "\n",
    "M = ng.CF((1+0*1j, 0+0*1j, 0+0*1j, 1+0*1j), dims=(2,2))\n",
    "\n",
    "Jf = CF([M, M, J])\n",
    "\n",
    "custom_pml = pml.Custom(trafo, Jf)"
   ]
  },
  {
   "cell_type": "code",
   "execution_count": 4,
   "id": "9b09e0f4",
   "metadata": {},
   "outputs": [
    {
     "data": {
      "text/plain": [
       "<ngsolve.fem.CoefficientFunction at 0x7f6cd65694a0>"
      ]
     },
     "execution_count": 4,
     "metadata": {},
     "output_type": "execute_result"
    }
   ],
   "source": [
    "custom_pml.PML_CF"
   ]
  },
  {
   "cell_type": "code",
   "execution_count": 16,
   "id": "191cd7a4",
   "metadata": {},
   "outputs": [],
   "source": [
    "trafo = ng.CF([(ng.x, ng.y) if i != len(A.ns)-1 else (x, y) for i in range(len(A.ns))])\n"
   ]
  },
  {
   "cell_type": "code",
   "execution_count": 14,
   "id": "bdbbd00f",
   "metadata": {},
   "outputs": [],
   "source": [
    "cf = CF(L)"
   ]
  },
  {
   "cell_type": "code",
   "execution_count": 15,
   "id": "98a57353",
   "metadata": {},
   "outputs": [
    {
     "data": {
      "application/vnd.jupyter.widget-view+json": {
       "model_id": "f1466fd465244866ab057fba50af23c7",
       "version_major": 2,
       "version_minor": 0
      },
      "text/plain": [
       "WebGuiWidget(value={'ngsolve_version': '6.2.2203-56-g47f483033', 'mesh_dim': 2, 'order2d': 2, 'order3d': 2, 'd…"
      ]
     },
     "metadata": {},
     "output_type": "display_data"
    },
    {
     "data": {
      "text/plain": [
       "BaseWebGuiScene"
      ]
     },
     "execution_count": 15,
     "metadata": {},
     "output_type": "execute_result"
    }
   ],
   "source": [
    "Draw(cf, A.mesh)"
   ]
  },
  {
   "cell_type": "code",
   "execution_count": 11,
   "id": "0ee9d313",
   "metadata": {},
   "outputs": [
    {
     "name": "stdout",
     "output_type": "stream",
     "text": [
      "Set handmade custom (smooth) PML with alpha= 1 , and smoothing factor = 0\n"
     ]
    }
   ],
   "source": [
    "det, JinvT, trafo = A.set_smooth_pml(1,0)"
   ]
  },
  {
   "cell_type": "code",
   "execution_count": 12,
   "id": "df739501",
   "metadata": {},
   "outputs": [],
   "source": [
    "radial = pml.Radial(rad=A.R, alpha=alpha*1j, origin=(0, 0))\n"
   ]
  },
  {
   "cell_type": "code",
   "execution_count": 20,
   "id": "be050c21",
   "metadata": {},
   "outputs": [],
   "source": [
    "det2 = radial.Det_CF\n",
    "Jinvng = radial.JacInv_CF"
   ]
  },
  {
   "cell_type": "code",
   "execution_count": 40,
   "id": "f9492ae7",
   "metadata": {},
   "outputs": [],
   "source": [
    "val = det(A.mesh(A.R))"
   ]
  },
  {
   "cell_type": "code",
   "execution_count": 41,
   "id": "70dfc677",
   "metadata": {},
   "outputs": [],
   "source": [
    "det = CF([val, val, det])"
   ]
  },
  {
   "cell_type": "code",
   "execution_count": 43,
   "id": "92368ea3",
   "metadata": {
    "scrolled": true
   },
   "outputs": [
    {
     "data": {
      "application/vnd.jupyter.widget-view+json": {
       "model_id": "0daaf689700140cc8e5e859994251d21",
       "version_major": 2,
       "version_minor": 0
      },
      "text/plain": [
       "WebGuiWidget(value={'ngsolve_version': '6.2.2203-56-g47f483033', 'mesh_dim': 2, 'order2d': 2, 'order3d': 2, 'd…"
      ]
     },
     "metadata": {},
     "output_type": "display_data"
    },
    {
     "data": {
      "text/plain": [
       "BaseWebGuiScene"
      ]
     },
     "execution_count": 43,
     "metadata": {},
     "output_type": "execute_result"
    }
   ],
   "source": [
    "Draw(det,A.mesh)"
   ]
  }
 ],
 "metadata": {
  "kernelspec": {
   "display_name": "Python 3 (ipykernel)",
   "language": "python",
   "name": "python3"
  },
  "language_info": {
   "codemirror_mode": {
    "name": "ipython",
    "version": 3
   },
   "file_extension": ".py",
   "mimetype": "text/x-python",
   "name": "python",
   "nbconvert_exporter": "python",
   "pygments_lexer": "ipython3",
   "version": "3.8.10"
  }
 },
 "nbformat": 4,
 "nbformat_minor": 5
}
