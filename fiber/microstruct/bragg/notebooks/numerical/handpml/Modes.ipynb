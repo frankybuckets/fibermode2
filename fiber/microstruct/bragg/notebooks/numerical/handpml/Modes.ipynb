{
 "cells": [
  {
   "cell_type": "markdown",
   "id": "720129b6",
   "metadata": {},
   "source": [
    "\n",
    "# Debug hand pml in modesolver"
   ]
  },
  {
   "cell_type": "code",
   "execution_count": 1,
   "id": "664ce3d7",
   "metadata": {},
   "outputs": [
    {
     "name": "stdout",
     "output_type": "stream",
     "text": [
      "importing NGSolve-6.2.2203-56-g47f483033\n"
     ]
    }
   ],
   "source": [
    "import numpy as np\n",
    "\n",
    "from fiberamp.fiber.microstruct.bragg import Bragg\n",
    "from ngsolve.webgui import Draw\n",
    "from ngsolve import CF, x, y\n"
   ]
  },
  {
   "cell_type": "code",
   "execution_count": 2,
   "id": "1829005b",
   "metadata": {},
   "outputs": [
    {
     "name": "stdout",
     "output_type": "stream",
     "text": [
      "ModeSolver: Checking if mesh has required regions\n",
      "Mesh has  15936  elements,  8047  points,  and  23982  edges.\n"
     ]
    }
   ],
   "source": [
    "n_air = 1.00027717\n",
    "n_glass = 1.4388164768221814\n",
    "ts = [15*2.7183333333333333e-6, 15*2/3*1e-6, 15*1e-6]\n",
    "ns = [lambda x: n_air, lambda x: n_glass, lambda x: n_glass]\n",
    "mats = ['air', 'glass', 'Outer']\n",
    "maxhs = [.1, .015, .04]\n",
    "scale = 15e-6\n",
    "i=0\n",
    "wls = np.linspace(1.4, 2, 301) * 1e-6\n",
    "\n",
    "A = Bragg(ts=ts, scale=scale, maxhs=maxhs, ns=ns, mats=mats, wl=wls[i])\n"
   ]
  },
  {
   "cell_type": "code",
   "execution_count": 4,
   "id": "b1a9db56",
   "metadata": {},
   "outputs": [
    {
     "data": {
      "text/plain": [
       "1.0"
      ]
     },
     "execution_count": 4,
     "metadata": {},
     "output_type": "execute_result"
    }
   ],
   "source": [
    "A.Rout - A.R"
   ]
  },
  {
   "cell_type": "code",
   "execution_count": 5,
   "id": "6b95a1b2",
   "metadata": {},
   "outputs": [],
   "source": [
    "exact_scaled_betas = np.load('/home/pv/local/convergence/bragg_fiber/wavelength/N0/exact_scaled_betas.npy')\n",
    "centers = A.sqrZfrom(exact_scaled_betas.conjugate()/A.L)"
   ]
  },
  {
   "cell_type": "code",
   "execution_count": 7,
   "id": "d5674d52",
   "metadata": {
    "scrolled": false
   },
   "outputs": [
    {
     "name": "stdout",
     "output_type": "stream",
     "text": [
      "Set handmade custom (smooth) PML with alpha =2 , and smoothing factor = 2\n",
      "Using FEAST to search for vector leaky modes in\n",
      "circle of radius 0.1 centered at  (4848.342367014139-0.012689514720893767j)\n",
      "assuming not more than 4 modes in this interval\n",
      "System size: 167562  x  167562   Inverse type: umfpack\n",
      "\n",
      "SpectralProj: Setting shifted trapezoidal rule quadrature on circular contour\n",
      "SpectralProj: Radius=0.1, Center=4848.34-0.0126895j\n",
      "SpectralProjNGR:   Making resolvent at z = +4848.342 +0.087j\n",
      "SpectralProjNGR:   Making resolvent at z = +4848.342 -0.113j\n",
      "\n",
      "=========== Starting FEAST iterations ===========\n",
      "Trying with 4 vectors:\n",
      "\n",
      " ITERATION 1 with 4 vectors and 4 left vectors\n",
      "   During kernel cleaning abs(g):\n",
      "   [6.3e-01 7.1e-02 1.1e-02 6.2e-06]\n",
      "   Real part of computed eigenvalues:\n",
      "   [4848.34176697 4848.34207308 4849.54231013 4849.86916977]\n",
      "   Imag part of computed eigenvalues:\n",
      "   [-0.01231879 -0.01233228 -0.04028122 -0.03585034]\n",
      "   Relative Hausdorff distance from prior iterate: 2.063e+96\n",
      "\n",
      " ITERATION 2 with 4 vectors and 4 left vectors\n",
      "   During kernel cleaning abs(g):\n",
      "   [8.1e+00 3.5e+00 1.6e+00 1.4e-03]\n",
      "   Real part of computed eigenvalues:\n",
      "   [4848.34158146 4848.34202283 4849.54118946 4849.55379396]\n",
      "   Imag part of computed eigenvalues:\n",
      "   [-0.012311   -0.01234938 -0.04032784 -0.03098459]\n",
      "   Relative Hausdorff distance from prior iterate: 6.505e-05\n",
      "\n",
      " ITERATION 3 with 4 vectors and 4 left vectors\n",
      "   During kernel cleaning abs(g):\n",
      "   [1.3e-05 5.5e-01 4.5e-03 1.3e-01]\n",
      "   Real part of computed eigenvalues:\n",
      "   [4848.34158145 4848.34202282 4849.54121796 4849.54518505]\n",
      "   Imag part of computed eigenvalues:\n",
      "   [-0.012311   -0.01234938 -0.04033242 -0.03085449]\n",
      "   Relative Hausdorff distance from prior iterate: 1.776e-06\n",
      "\n",
      "   Removing ew#[0, 1] not enclosed by contour\n",
      " ITERATION 4 with 2 vectors and 2 left vectors\n",
      "   During kernel cleaning abs(g):\n",
      "   [8.  1.8]\n",
      "   Real part of computed eigenvalues:\n",
      "   [4848.34158145 4848.34202282]\n",
      "   Imag part of computed eigenvalues:\n",
      "   [-0.012311   -0.01234938]\n",
      "   Relative Hausdorff distance from prior iterate: 2.926e-14\n",
      "\n",
      "\n",
      "***FEAST converged with:\n",
      "\tRelative Hausdorff distance = 2.926e-14\n",
      "\n",
      "============= FEAST iterations done =============\n",
      "Results:\n",
      " Z²: [4848.34158145-0.012311j   4848.34202282-0.01234938j]\n",
      " beta: [4488846.48324065+6.09461067j 4488846.26473777+6.11361387j]\n",
      " CL dB/m: [52.9371157  53.10217537]\n"
     ]
    }
   ],
   "source": [
    "alpha = 2\n",
    "nspan = 4\n",
    "p = 2\n",
    "center = centers[i]\n",
    "radius = .1\n",
    "npts = 2\n",
    "\n",
    "beta, _, Es, phis, _ = A.leakyvecmodes(ctr=center,\n",
    "                                       rad=radius,\n",
    "                                       alpha=alpha,\n",
    "                                       d=2,\n",
    "                                       nspan=nspan,\n",
    "                                       npts=npts,\n",
    "                                       p=p,\n",
    "                                       niterations=4,\n",
    "                                       nrestarts=0,\n",
    "                                       stop_tol=1e-9,\n",
    "                                       handpml=True,\n",
    "                                      )"
   ]
  },
  {
   "cell_type": "markdown",
   "id": "6d616043",
   "metadata": {},
   "source": [
    "alpha = 2\n",
    "p = 2\n",
    "\n",
    "NgPML built in\n",
    "\n",
    "Results:\n",
    " Z²: [4848.34218715-0.01203137j 4848.34220258-0.01195844j]\n",
    " beta: [4488846.18338835+5.95618047j 4488846.17575022+5.920078j  ]\n",
    " CL dB/m: [51.73472623 51.42114415]\n",
    " \n",
    "NGpml custom d=0 (should give almost same as built in) (does, but differs at lower p values)\n",
    "\n",
    "Results:\n",
    " Z²: [4848.34218715-0.01203137j 4848.34220258-0.01195844j]\n",
    " beta: [4488846.18338831+5.95618047j 4488846.17575017+5.920078j  ]\n",
    " CL dB/m: [51.73472623 51.42114415]\n",
    " \n",
    "Hand Built PML\n",
    "\n",
    "d = 0\n",
    "Results:\n",
    " Z²: [4848.34230367-0.01166206j 4848.34232812-0.01159829j]\n",
    " beta: [4488846.12570202+5.77334967j 4488846.11359853+5.74178267j]\n",
    " CL dB/m: [50.14667806 49.87249061]\n",
    " \n",
    "d = 1\n",
    "Results:\n",
    " Z²: [4848.34201349-0.01224288j 4848.34197047-0.01224701j]\n",
    " beta: [4488846.26935885+6.06088868j 4488846.29065362+6.06293385j]\n",
    " CL dB/m: [52.64421015 52.66197431]\n",
    "\n",
    "d = 2\n",
    "Results:\n",
    " Z²: [4848.34158145-0.012311j   4848.34202282-0.01234938j]\n",
    " beta: [4488846.48324065+6.09461067j 4488846.26473777+6.11361387j]\n",
    " CL dB/m: [52.9371157  53.10217537]"
   ]
  },
  {
   "cell_type": "code",
   "execution_count": 5,
   "id": "d59530e6",
   "metadata": {
    "scrolled": false
   },
   "outputs": [
    {
     "data": {
      "application/vnd.jupyter.widget-view+json": {
       "model_id": "1c25ef5052fb455e9cfbfd0d746535e4",
       "version_major": 2,
       "version_minor": 0
      },
      "text/plain": [
       "WebGuiWidget(value={'ngsolve_version': '6.2.2203-56-g47f483033', 'mesh_dim': 2, 'order2d': 2, 'order3d': 2, 'd…"
      ]
     },
     "metadata": {},
     "output_type": "display_data"
    },
    {
     "data": {
      "application/vnd.jupyter.widget-view+json": {
       "model_id": "5751bdfeb10d48c7bb946bda32fa62e2",
       "version_major": 2,
       "version_minor": 0
      },
      "text/plain": [
       "WebGuiWidget(value={'ngsolve_version': '6.2.2203-56-g47f483033', 'mesh_dim': 2, 'order2d': 2, 'order3d': 2, 'd…"
      ]
     },
     "metadata": {},
     "output_type": "display_data"
    }
   ],
   "source": [
    "for e in Es:\n",
    "    Draw(-1e2*e.real[0],A.mesh)"
   ]
  },
  {
   "cell_type": "code",
   "execution_count": 6,
   "id": "7b80b1e1",
   "metadata": {
    "scrolled": false
   },
   "outputs": [
    {
     "data": {
      "application/vnd.jupyter.widget-view+json": {
       "model_id": "0c0bca4f20aa45c1834c055efa80e090",
       "version_major": 2,
       "version_minor": 0
      },
      "text/plain": [
       "WebGuiWidget(value={'ngsolve_version': '6.2.2203-56-g47f483033', 'mesh_dim': 2, 'order2d': 2, 'order3d': 2, 'd…"
      ]
     },
     "metadata": {},
     "output_type": "display_data"
    },
    {
     "data": {
      "application/vnd.jupyter.widget-view+json": {
       "model_id": "0b10d2f074ea4dd483a13d678452af65",
       "version_major": 2,
       "version_minor": 0
      },
      "text/plain": [
       "WebGuiWidget(value={'ngsolve_version': '6.2.2203-56-g47f483033', 'mesh_dim': 2, 'order2d': 2, 'order3d': 2, 'd…"
      ]
     },
     "metadata": {},
     "output_type": "display_data"
    }
   ],
   "source": [
    "for phi in phis:\n",
    "    Draw(1e1*phi, A.mesh)"
   ]
  },
  {
   "cell_type": "code",
   "execution_count": null,
   "id": "e65674a2",
   "metadata": {},
   "outputs": [],
   "source": []
  }
 ],
 "metadata": {
  "kernelspec": {
   "display_name": "Python 3 (ipykernel)",
   "language": "python",
   "name": "python3"
  },
  "language_info": {
   "codemirror_mode": {
    "name": "ipython",
    "version": 3
   },
   "file_extension": ".py",
   "mimetype": "text/x-python",
   "name": "python",
   "nbconvert_exporter": "python",
   "pygments_lexer": "ipython3",
   "version": "3.8.10"
  }
 },
 "nbformat": 4,
 "nbformat_minor": 5
}
