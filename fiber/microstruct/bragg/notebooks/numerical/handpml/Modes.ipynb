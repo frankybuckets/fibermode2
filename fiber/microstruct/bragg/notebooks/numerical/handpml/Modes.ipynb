{
 "cells": [
  {
   "cell_type": "markdown",
   "id": "720129b6",
   "metadata": {},
   "source": [
    "\n",
    "# Debug hand pml in modesolver"
   ]
  },
  {
   "cell_type": "code",
   "execution_count": null,
   "id": "664ce3d7",
   "metadata": {},
   "outputs": [],
   "source": [
    "import numpy as np\n",
    "\n",
    "from fiberamp.fiber.microstruct.bragg import Bragg\n",
    "from ngsolve.webgui import Draw\n",
    "from ngsolve import CF, x, y\n"
   ]
  },
  {
   "cell_type": "code",
   "execution_count": null,
   "id": "1829005b",
   "metadata": {},
   "outputs": [],
   "source": [
    "n_air = 1.00027717\n",
    "n_glass = 1.4388164768221814\n",
    "ts = [15*2.7183333333333333e-6, 15*2/3*1e-6, 15*1e-6]\n",
    "ns = [lambda x: n_air, lambda x: n_glass, lambda x: n_glass]\n",
    "mats = ['air', 'glass', 'Outer']\n",
    "maxhs = [.1, .015, .04]\n",
    "scale = 15e-6\n",
    "i=0\n",
    "wls = np.linspace(1.4, 2, 301) * 1e-6\n",
    "\n",
    "A = Bragg(ts=ts, scale=scale, maxhs=maxhs, ns=ns, mats=mats, wl=wls[i])\n"
   ]
  },
  {
   "cell_type": "code",
   "execution_count": null,
   "id": "b1a9db56",
   "metadata": {},
   "outputs": [],
   "source": [
    "A.Rout - A.R"
   ]
  },
  {
   "cell_type": "code",
   "execution_count": null,
   "id": "6b95a1b2",
   "metadata": {},
   "outputs": [],
   "source": [
    "exact_scaled_betas = np.load('/home/pv/local/convergence/bragg_fiber/wavelength/N0/exact_scaled_betas.npy')\n",
    "centers = A.sqrZfrom(exact_scaled_betas.conjugate()/A.L)"
   ]
  },
  {
   "cell_type": "code",
   "execution_count": null,
   "id": "d5674d52",
   "metadata": {},
   "outputs": [],
   "source": [
    "alpha = 2\n",
    "nspan = 4\n",
    "p = 2\n",
    "center = centers[i]\n",
    "radius = .1\n",
    "npts = 2\n",
    "\n",
    "beta, _, Es, phis, _ = A.leakyvecmodes(ctr=center,\n",
    "                                       rad=radius,\n",
    "                                       alpha=alpha,\n",
    "                                       d=2,\n",
    "                                       nspan=nspan,\n",
    "                                       npts=npts,\n",
    "                                       p=p,\n",
    "                                       niterations=4,\n",
    "                                       nrestarts=0,\n",
    "                                       stop_tol=1e-9,\n",
    "                                       handpml=True,\n",
    "                                      )"
   ]
  },
  {
   "cell_type": "markdown",
   "id": "6d616043",
   "metadata": {},
   "source": [
    "alpha = 2\n",
    "p = 2\n",
    "\n",
    "NgPML built in\n",
    "\n",
    "Results:\n",
    " Z²: [4848.34218715-0.01203137j 4848.34220258-0.01195844j]\n",
    " beta: [4488846.18338835+5.95618047j 4488846.17575022+5.920078j  ]\n",
    " CL dB/m: [51.73472623 51.42114415]\n",
    " \n",
    "NGpml custom d=0 (should give almost same as built in) (does, but differs at lower p values)\n",
    "\n",
    "Results:\n",
    " Z²: [4848.34218715-0.01203137j 4848.34220258-0.01195844j]\n",
    " beta: [4488846.18338831+5.95618047j 4488846.17575017+5.920078j  ]\n",
    " CL dB/m: [51.73472623 51.42114415]\n",
    " \n",
    "Hand Built PML\n",
    "\n",
    "d = 0\n",
    "Results:\n",
    " Z²: [4848.34230367-0.01166206j 4848.34232812-0.01159829j]\n",
    " beta: [4488846.12570202+5.77334967j 4488846.11359853+5.74178267j]\n",
    " CL dB/m: [50.14667806 49.87249061]\n",
    " \n",
    "d = 1\n",
    "Results:\n",
    " Z²: [4848.34201349-0.01224288j 4848.34197047-0.01224701j]\n",
    " beta: [4488846.26935885+6.06088868j 4488846.29065362+6.06293385j]\n",
    " CL dB/m: [52.64421015 52.66197431]\n",
    "\n",
    "d = 2\n",
    "Results:\n",
    " Z²: [4848.34158145-0.012311j   4848.34202282-0.01234938j]\n",
    " beta: [4488846.48324065+6.09461067j 4488846.26473777+6.11361387j]\n",
    " CL dB/m: [52.9371157  53.10217537]"
   ]
  },
  {
   "cell_type": "code",
   "execution_count": null,
   "id": "d59530e6",
   "metadata": {},
   "outputs": [],
   "source": [
    "for e in Es:\n",
    "    Draw(-1e2*e.real[0],A.mesh)"
   ]
  },
  {
   "cell_type": "code",
   "execution_count": null,
   "id": "7b80b1e1",
   "metadata": {},
   "outputs": [],
   "source": [
    "for phi in phis:\n",
    "    Draw(1e1*phi, A.mesh)"
   ]
  },
  {
   "cell_type": "code",
   "execution_count": null,
   "id": "e65674a2",
   "metadata": {},
   "outputs": [],
   "source": []
  }
 ],
 "metadata": {
  "kernelspec": {
   "display_name": "Python 3 (ipykernel)",
   "language": "python",
   "name": "python3"
  },
  "language_info": {
   "codemirror_mode": {
    "name": "ipython",
    "version": 3
   },
   "file_extension": ".py",
   "mimetype": "text/x-python",
   "name": "python",
   "nbconvert_exporter": "python",
   "pygments_lexer": "ipython3",
   "version": "3.8.10"
  }
 },
 "nbformat": 4,
 "nbformat_minor": 5
}
