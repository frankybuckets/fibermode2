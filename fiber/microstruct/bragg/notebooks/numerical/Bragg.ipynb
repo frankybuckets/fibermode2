{
 "cells": [
  {
   "cell_type": "code",
   "execution_count": 1,
   "id": "c9ba1893",
   "metadata": {},
   "outputs": [
    {
     "name": "stdout",
     "output_type": "stream",
     "text": [
      "importing NGSolve-6.2.2203-56-g47f483033\n"
     ]
    }
   ],
   "source": [
    "from fiberamp.fiber.microstruct.bragg import Bragg\n",
    "from fiberamp.fiber import sellmeier\n",
    "from ngsolve.webgui import Draw\n",
    "import ngsolve as ng\n",
    "import numpy as np"
   ]
  },
  {
   "cell_type": "code",
   "execution_count": 2,
   "id": "5d0e3313",
   "metadata": {},
   "outputs": [],
   "source": [
    "n_air = 1.00027717\n",
    "n_glass = 1.4388164768221814"
   ]
  },
  {
   "cell_type": "code",
   "execution_count": 5,
   "id": "89f33d87",
   "metadata": {},
   "outputs": [],
   "source": [
    "ts=[4.0775e-05, 1e-5, 1.5e-5, 1.5e-5]\n",
    "ns=[lambda x: n_air, lambda x: n_glass, lambda x: n_air, lambda x: n_air]\n",
    "maxhs=[.1, .01, .04, .06]\n",
    "scale=15e-6"
   ]
  },
  {
   "cell_type": "code",
   "execution_count": 6,
   "id": "b4903e24",
   "metadata": {},
   "outputs": [
    {
     "data": {
      "text/plain": [
       "[4.0775e-05, 1e-05, 1.5e-05, 1.5e-05]"
      ]
     },
     "execution_count": 6,
     "metadata": {},
     "output_type": "execute_result"
    }
   ],
   "source": [
    "ts"
   ]
  },
  {
   "cell_type": "code",
   "execution_count": 7,
   "id": "5f352997",
   "metadata": {},
   "outputs": [],
   "source": [
    "goodwl = 1.6999999999999998e-06\n",
    "goodbeta = 55.44793711650212-1.5343515969487227e-05j\n",
    "\n",
    "badwl = 1.72372210e-06\n",
    "badbeta = 54.63752396621695-0.010762057602262157j\n",
    "\n",
    "trial = 'bad'\n",
    "\n",
    "if trial == 'good':\n",
    "    wl = goodwl\n",
    "    beta = goodbeta\n",
    "elif trial == 'bad':\n",
    "    wl = badwl\n",
    "    beta = badbeta\n",
    "else:\n",
    "    raise ValueError"
   ]
  },
  {
   "cell_type": "code",
   "execution_count": 8,
   "id": "3f2d047b",
   "metadata": {},
   "outputs": [
    {
     "name": "stdout",
     "output_type": "stream",
     "text": [
      "ModeSolver: Checking if mesh has required regions\n",
      "Mesh has  31624  elements,  15865  points,  and  47488  edges.\n"
     ]
    }
   ],
   "source": [
    "B = Bragg(ts=ts, scale=scale, maxhs=maxhs, ns=ns, wl=wl)"
   ]
  },
  {
   "cell_type": "code",
   "execution_count": 9,
   "id": "eda96205",
   "metadata": {},
   "outputs": [
    {
     "data": {
      "application/vnd.jupyter.widget-view+json": {
       "model_id": "da8a33feb046424d9ad73495ab37e751",
       "version_major": 2,
       "version_minor": 0
      },
      "text/plain": [
       "WebGuiWidget(value={'ngsolve_version': '6.2.2203-56-g47f483033', 'mesh_dim': 2, 'order2d': 2, 'order3d': 2, 'd…"
      ]
     },
     "metadata": {},
     "output_type": "display_data"
    },
    {
     "data": {
      "text/plain": [
       "BaseWebGuiScene"
      ]
     },
     "execution_count": 9,
     "metadata": {},
     "output_type": "execute_result"
    }
   ],
   "source": [
    "Draw(B.index, B.mesh)"
   ]
  },
  {
   "cell_type": "code",
   "execution_count": 10,
   "id": "bf91aacc",
   "metadata": {},
   "outputs": [],
   "source": [
    "exact = B.sqrZfrom(beta/B.L)"
   ]
  },
  {
   "cell_type": "code",
   "execution_count": 11,
   "id": "ff03a13d",
   "metadata": {},
   "outputs": [
    {
     "data": {
      "text/plain": [
       "(54.63752396621695-0.010762057602262157j)"
      ]
     },
     "execution_count": 11,
     "metadata": {},
     "output_type": "execute_result"
    }
   ],
   "source": [
    "beta"
   ]
  },
  {
   "cell_type": "code",
   "execution_count": null,
   "id": "0b313468",
   "metadata": {},
   "outputs": [],
   "source": [
    "guess = exact.conjugate()\n",
    "guess"
   ]
  },
  {
   "cell_type": "code",
   "execution_count": null,
   "id": "79d992ef",
   "metadata": {},
   "outputs": [],
   "source": [
    "center = guess\n",
    "radius = .1\n",
    "nspan = 4\n",
    "npts = 2\n",
    "p = 1"
   ]
  },
  {
   "cell_type": "code",
   "execution_count": null,
   "id": "2cf47703",
   "metadata": {},
   "outputs": [],
   "source": [
    "beta, zs, Es, phis,_ = B.leakyvecmodes(p=p, ctr=center, rad=radius,\n",
    "                                       alpha=10,\n",
    "#                                        rhoinv=.9,\n",
    "#                                        quadrule='ellipse_trapez_shift',\n",
    "                                       nspan=nspan, npts=npts,\n",
    "                                       niterations=4, nrestarts=0,\n",
    "                                       stop_tol=1e-11)"
   ]
  },
  {
   "cell_type": "code",
   "execution_count": null,
   "id": "74b3f882",
   "metadata": {},
   "outputs": [],
   "source": [
    "for e in Es:\n",
    "    Draw(e.real, B.mesh, vectors={'grid_size' : 200})"
   ]
  },
  {
   "cell_type": "code",
   "execution_count": null,
   "id": "a5a082a3",
   "metadata": {},
   "outputs": [],
   "source": [
    "for phi in phis:\n",
    "    Draw(1e1*phi, B.mesh)"
   ]
  },
  {
   "cell_type": "code",
   "execution_count": null,
   "id": "9154d617",
   "metadata": {},
   "outputs": [],
   "source": []
  }
 ],
 "metadata": {
  "kernelspec": {
   "display_name": "Python 3 (ipykernel)",
   "language": "python",
   "name": "python3"
  },
  "language_info": {
   "codemirror_mode": {
    "name": "ipython",
    "version": 3
   },
   "file_extension": ".py",
   "mimetype": "text/x-python",
   "name": "python",
   "nbconvert_exporter": "python",
   "pygments_lexer": "ipython3",
   "version": "3.8.10"
  }
 },
 "nbformat": 4,
 "nbformat_minor": 5
}
