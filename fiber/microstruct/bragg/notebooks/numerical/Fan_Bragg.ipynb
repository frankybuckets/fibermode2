{
 "cells": [
  {
   "cell_type": "code",
   "execution_count": 1,
   "id": "c9ba1893",
   "metadata": {},
   "outputs": [
    {
     "name": "stdout",
     "output_type": "stream",
     "text": [
      "importing NGSolve-6.2.2203-56-g47f483033\n"
     ]
    }
   ],
   "source": [
    "from fiberamp.fiber.microstruct.bragg import Bragg\n",
    "from fiberamp.fiber import sellmeier\n",
    "from ngsolve.webgui import Draw\n",
    "import ngsolve as ng\n",
    "import numpy as np"
   ]
  },
  {
   "cell_type": "code",
   "execution_count": 14,
   "id": "5d0e3313",
   "metadata": {},
   "outputs": [],
   "source": [
    "n_air = 1.00027717\n",
    "n_glass = 1.4388164768221814\n",
    "n_poly = 1.6-.3j"
   ]
  },
  {
   "cell_type": "code",
   "execution_count": 15,
   "id": "89f33d87",
   "metadata": {},
   "outputs": [],
   "source": [
    "ts = [4.0775e-05, 1e-5, 1.5e-5, 2.5e-5, 4e-5]\n",
    "ns = [lambda x: n_air, lambda x: n_glass, lambda x: n_poly, lambda x: n_air, lambda x: n_air]\n",
    "mats = ['air', 'glass', 'poly', 'air', 'Outer']\n",
    "maxhs = [.1, .02, .03, .05, .08]\n",
    "scale = 1.5e-5"
   ]
  },
  {
   "cell_type": "code",
   "execution_count": 16,
   "id": "3f2d047b",
   "metadata": {},
   "outputs": [
    {
     "name": "stdout",
     "output_type": "stream",
     "text": [
      "ModeSolver: Checking if mesh has required regions\n",
      "Mesh has  13152  elements,  6660  points,  and  19811  edges.\n"
     ]
    }
   ],
   "source": [
    "B = Bragg(ts=ts, scale=scale, mats=mats, maxhs=maxhs, ns=ns, fan=True, wl=3.6e-6)"
   ]
  },
  {
   "cell_type": "code",
   "execution_count": 17,
   "id": "eda96205",
   "metadata": {
    "scrolled": true
   },
   "outputs": [
    {
     "data": {
      "application/vnd.jupyter.widget-view+json": {
       "model_id": "eac26dfcac404c4aaa526c6f1f5f9845",
       "version_major": 2,
       "version_minor": 0
      },
      "text/plain": [
       "WebGuiWidget(value={'ngsolve_version': '6.2.2203-56-g47f483033', 'mesh_dim': 2, 'order2d': 2, 'order3d': 2, 'd…"
      ]
     },
     "metadata": {},
     "output_type": "display_data"
    },
    {
     "data": {
      "text/plain": [
       "BaseWebGuiScene"
      ]
     },
     "execution_count": 17,
     "metadata": {},
     "output_type": "execute_result"
    }
   ],
   "source": [
    "Draw(B.index, B.mesh)"
   ]
  },
  {
   "cell_type": "code",
   "execution_count": 18,
   "id": "c0e2ce59",
   "metadata": {},
   "outputs": [],
   "source": [
    "k_low = B.ns[0](B.wavelength) * B.k * B.scale"
   ]
  },
  {
   "cell_type": "code",
   "execution_count": 19,
   "id": "859264e7",
   "metadata": {},
   "outputs": [],
   "source": [
    "beta = .9995 * k_low"
   ]
  },
  {
   "cell_type": "code",
   "execution_count": 20,
   "id": "bf91aacc",
   "metadata": {
    "scrolled": true
   },
   "outputs": [],
   "source": [
    "exact = B.sqrZfrom(beta/B.L)"
   ]
  },
  {
   "cell_type": "code",
   "execution_count": 21,
   "id": "0b313468",
   "metadata": {},
   "outputs": [
    {
     "data": {
      "text/plain": [
       "0.6855977435237719"
      ]
     },
     "execution_count": 21,
     "metadata": {},
     "output_type": "execute_result"
    }
   ],
   "source": [
    "guess = exact.conjugate()\n",
    "guess"
   ]
  },
  {
   "cell_type": "code",
   "execution_count": 26,
   "id": "79d992ef",
   "metadata": {},
   "outputs": [],
   "source": [
    "center = guess\n",
    "radius = .5\n",
    "nspan = 4\n",
    "npts = 2\n",
    "p = 3"
   ]
  },
  {
   "cell_type": "code",
   "execution_count": 27,
   "id": "2cf47703",
   "metadata": {},
   "outputs": [
    {
     "name": "stdout",
     "output_type": "stream",
     "text": [
      "Set NGSolve automatic PML with alpha= 6 and thickness=2.667\n",
      "Using FEAST to search for vector leaky modes in\n",
      "circle of radius 0.5 centered at  0.6855977435237719\n",
      "assuming not more than 4 modes in this interval\n",
      "System size: 237068  x  237068   Inverse type: umfpack\n",
      "\n",
      "SpectralProj: Setting shifted trapezoidal rule quadrature on circular contour\n",
      "SpectralProj: Radius=0.5, Center=0.685598+0j\n",
      "SpectralProjNGR:   Making resolvent at z =  +0.686 +0.500j\n",
      "SpectralProjNGR:   Making resolvent at z =  +0.686 -0.500j\n",
      "\n",
      "=========== Starting FEAST iterations ===========\n",
      "Trying with 4 vectors:\n",
      "\n",
      " ITERATION 1 with 4 vectors and 4 left vectors\n",
      "   During kernel cleaning abs(g):\n",
      "   [22.5  0.3  0.3  0.7]\n",
      "   Real part of computed eigenvalues:\n",
      "   [-0.74880053  0.1152368   0.16342401  0.77329222]\n",
      "   Imag part of computed eigenvalues:\n",
      "   [ 1.93317734e+00  3.87346400e-04 -8.46381092e-01 -7.46045744e-02]\n",
      "   Relative Hausdorff distance from prior iterate: 1.459e+100\n",
      "\n",
      " ITERATION 2 with 4 vectors and 4 left vectors\n",
      "   During kernel cleaning abs(g):\n",
      "   [0.1 0.  0.  0. ]\n",
      "   Real part of computed eigenvalues:\n",
      "   [-0.59935876  0.22919719  0.25959933  0.78285264]\n",
      "   Imag part of computed eigenvalues:\n",
      "   [-0.16756433 -0.72293167 -0.30042736  0.02639323]\n",
      "   Relative Hausdorff distance from prior iterate: 3.072e+00\n",
      "\n",
      " ITERATION 3 with 4 vectors and 4 left vectors\n",
      "   During kernel cleaning abs(g):\n",
      "   [ 7.2 12.   2.8  6. ]\n",
      "   Real part of computed eigenvalues:\n",
      "   [0.08426861 0.18691849 0.66049198 0.78584199]\n",
      "   Imag part of computed eigenvalues:\n",
      "   [-0.4177357  -0.69109651  0.09570916  0.02498346]\n",
      "   Relative Hausdorff distance from prior iterate: 1.062e+00\n",
      "\n",
      "   Removing ew#[0, 1] not enclosed by contour\n",
      " ITERATION 4 with 2 vectors and 2 left vectors\n",
      "   During kernel cleaning abs(g):\n",
      "   [0.1 0.1]\n",
      "   Real part of computed eigenvalues:\n",
      "   [0.785635   0.78608841]\n",
      "   Imag part of computed eigenvalues:\n",
      "   [0.03162402 0.07937852]\n",
      "   Relative Hausdorff distance from prior iterate: 1.847e-01\n",
      "\n",
      " ITERATION 5 with 2 vectors and 2 left vectors\n",
      "   During kernel cleaning abs(g):\n",
      "   [13.6  6.3]\n",
      "   Real part of computed eigenvalues:\n",
      "   [0.78381705 0.79046275]\n",
      "   Imag part of computed eigenvalues:\n",
      "   [0.03208082 0.05349274]\n",
      "   Relative Hausdorff distance from prior iterate: 3.829e-02\n",
      "\n",
      "\n",
      "***FEAST did not converge!\n",
      "\n",
      "============= FEAST iterations done =============\n",
      "Results:\n",
      " Z²: [0.79046275+0.05349274j 0.78381705+0.03208082j]\n",
      " beta: [1744806.5465663-68.12948025j 1744815.0097947-40.85861342j]\n",
      " CL dB/m: [-591.76514656 -354.8934069 ]\n"
     ]
    }
   ],
   "source": [
    "beta, zs, Es, phis,_ = B.leakyvecmodes(p=p, ctr=center, rad=radius,\n",
    "                                       alpha=6,\n",
    "#                                        rhoinv=.9,\n",
    "#                                        quadrule='ellipse_trapez_shift',\n",
    "                                       nspan=nspan, npts=npts,\n",
    "                                       niterations=5, nrestarts=0,\n",
    "                                       stop_tol=1e-11)"
   ]
  },
  {
   "cell_type": "code",
   "execution_count": 28,
   "id": "74b3f882",
   "metadata": {
    "scrolled": false
   },
   "outputs": [
    {
     "data": {
      "application/vnd.jupyter.widget-view+json": {
       "model_id": "da2a48ad700241a4aadca479c87fe5b4",
       "version_major": 2,
       "version_minor": 0
      },
      "text/plain": [
       "WebGuiWidget(value={'ngsolve_version': '6.2.2203-56-g47f483033', 'mesh_dim': 2, 'order2d': 2, 'order3d': 2, 'd…"
      ]
     },
     "metadata": {},
     "output_type": "display_data"
    },
    {
     "data": {
      "application/vnd.jupyter.widget-view+json": {
       "model_id": "9c493fa82cde4043bec124099afaa22f",
       "version_major": 2,
       "version_minor": 0
      },
      "text/plain": [
       "WebGuiWidget(value={'ngsolve_version': '6.2.2203-56-g47f483033', 'mesh_dim': 2, 'order2d': 2, 'order3d': 2, 'd…"
      ]
     },
     "metadata": {},
     "output_type": "display_data"
    }
   ],
   "source": [
    "for e in Es:\n",
    "    Draw(e.real, B.mesh, vectors={'grid_size' : 200})"
   ]
  },
  {
   "cell_type": "code",
   "execution_count": 30,
   "id": "a5a082a3",
   "metadata": {
    "scrolled": false
   },
   "outputs": [
    {
     "data": {
      "application/vnd.jupyter.widget-view+json": {
       "model_id": "30570e3733b84f53b9572f31c7acd70c",
       "version_major": 2,
       "version_minor": 0
      },
      "text/plain": [
       "WebGuiWidget(value={'ngsolve_version': '6.2.2203-56-g47f483033', 'mesh_dim': 2, 'order2d': 2, 'order3d': 2, 'd…"
      ]
     },
     "metadata": {},
     "output_type": "display_data"
    },
    {
     "data": {
      "application/vnd.jupyter.widget-view+json": {
       "model_id": "e83570ca6f7c47a186af674a2c6ac3dc",
       "version_major": 2,
       "version_minor": 0
      },
      "text/plain": [
       "WebGuiWidget(value={'ngsolve_version': '6.2.2203-56-g47f483033', 'mesh_dim': 2, 'order2d': 2, 'order3d': 2, 'd…"
      ]
     },
     "metadata": {},
     "output_type": "display_data"
    }
   ],
   "source": [
    "for phi in phis:\n",
    "    Draw(1e2*phi, B.mesh)"
   ]
  },
  {
   "cell_type": "code",
   "execution_count": null,
   "id": "8e6f8d5e",
   "metadata": {},
   "outputs": [],
   "source": []
  }
 ],
 "metadata": {
  "kernelspec": {
   "display_name": "Python 3 (ipykernel)",
   "language": "python",
   "name": "python3"
  },
  "language_info": {
   "codemirror_mode": {
    "name": "ipython",
    "version": 3
   },
   "file_extension": ".py",
   "mimetype": "text/x-python",
   "name": "python",
   "nbconvert_exporter": "python",
   "pygments_lexer": "ipython3",
   "version": "3.8.10"
  }
 },
 "nbformat": 4,
 "nbformat_minor": 5
}
