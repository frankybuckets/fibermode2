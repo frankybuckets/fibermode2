{
 "cells": [
  {
   "cell_type": "code",
   "execution_count": null,
   "id": "c9ba1893",
   "metadata": {},
   "outputs": [],
   "source": [
    "from ngsolve.webgui import Draw\n",
    "import ngsolve as ng\n",
    "import numpy as np\n",
    "from netgen.geom2d import SplineGeometry"
   ]
  },
  {
   "cell_type": "code",
   "execution_count": null,
   "id": "e8251e19",
   "metadata": {},
   "outputs": [],
   "source": [
    "geo = SplineGeometry()\n",
    "Rs = [1,  3,  4]\n",
    "\n",
    "r1, r2, r3 = Rs[-3:]\n",
    "lower_points = [(-r1, 0), (-r1, -r1), (0, -r1), (r1, -r1), (r1, 0)]\n",
    "inner_points = [(r1, r1), (0, r1), (-r1, r1)]\n",
    "\n",
    "mid_points = [(r2, 0), (r2, r2), (0, r2), (-r2, r2), (-r2, 0)]\n",
    "outer_points = [(r3, 0), (r3, r3), (0, r3), (-r3, r3), (-r3, 0)]\n",
    "\n",
    "dom_indx = [i+1 for i in range(len(Rs))]\n",
    "dom_indx = dom_indx[-3:]\n",
    "\n"
   ]
  },
  {
   "cell_type": "code",
   "execution_count": null,
   "id": "a8b193d3",
   "metadata": {},
   "outputs": [],
   "source": [
    "r1, r2, r3"
   ]
  },
  {
   "cell_type": "code",
   "execution_count": null,
   "id": "89070d2c",
   "metadata": {},
   "outputs": [],
   "source": [
    "mid_points"
   ]
  },
  {
   "cell_type": "code",
   "execution_count": null,
   "id": "777e4dff",
   "metadata": {},
   "outputs": [],
   "source": [
    "lower_pt_ids = [geo.AppendPoint(*p) for p in lower_points]\n",
    "\n",
    "inner_pt_ids = [geo.AppendPoint(*p) for p in inner_points]\n",
    "inner_pt_ids.insert(0, lower_pt_ids[-1])\n",
    "inner_pt_ids.append(lower_pt_ids[0])\n",
    "\n",
    "mid_pt_ids = [geo.AppendPoint(*p) for p in mid_points]\n",
    "\n",
    "outer_pt_ids = [geo.AppendPoint(*p) for p in outer_points]\n",
    "\n",
    "seg_pts = [outer_pt_ids[-1], mid_pt_ids[-1], lower_pt_ids[0],\n",
    "           lower_pt_ids[-1], mid_pt_ids[0], outer_pt_ids[0]]\n",
    "\n"
   ]
  },
  {
   "cell_type": "code",
   "execution_count": null,
   "id": "f018bf8a",
   "metadata": {},
   "outputs": [],
   "source": [
    "lower_pt_ids, inner_pt_ids"
   ]
  },
  {
   "cell_type": "code",
   "execution_count": null,
   "id": "bc6e1f4a",
   "metadata": {},
   "outputs": [],
   "source": [
    "mid_pt_ids"
   ]
  },
  {
   "cell_type": "code",
   "execution_count": null,
   "id": "7122c570",
   "metadata": {},
   "outputs": [],
   "source": [
    "seg_pts"
   ]
  },
  {
   "cell_type": "code",
   "execution_count": null,
   "id": "36ed2c7e",
   "metadata": {},
   "outputs": [],
   "source": [
    "NP = len(lower_pt_ids)\n",
    "\n",
    "for k in range(0, NP - 1, 2):\n",
    "    bc = 'OuterCircle'\n",
    "    geo.Append(\n",
    "        ['spline3',\n",
    "         lower_pt_ids[k % NP],\n",
    "         lower_pt_ids[(k + 1) % NP],\n",
    "         lower_pt_ids[(k + 2) % NP]], leftdomain=dom_indx[-3], bc=bc)\n",
    "    print(\"appending spline \", [lower_pt_ids[k % NP],lower_pt_ids[(k + 1) % NP],lower_pt_ids[(k + 2) % NP]])\n",
    "\n"
   ]
  },
  {
   "cell_type": "code",
   "execution_count": null,
   "id": "a3c5a54f",
   "metadata": {},
   "outputs": [],
   "source": [
    "\n",
    "NP = len(inner_pt_ids)\n",
    "\n",
    "for k in range(0, NP - 1, 2):\n",
    "    bc = 'fiber_buffer_interface'\n",
    "    geo.Append(\n",
    "        ['spline3',\n",
    "         inner_pt_ids[k % NP],\n",
    "         inner_pt_ids[(k + 1) % NP],\n",
    "         inner_pt_ids[(k + 2) % NP]],\n",
    "        leftdomain=dom_indx[-3],\n",
    "        rightdomain=dom_indx[-2],\n",
    "        bc=bc)\n",
    "    print(\"appending spline \", [inner_pt_ids[k % NP],inner_pt_ids[(k + 1) % NP],inner_pt_ids[(k + 2) % NP]])\n"
   ]
  },
  {
   "cell_type": "code",
   "execution_count": null,
   "id": "f80d5580",
   "metadata": {},
   "outputs": [],
   "source": [
    "NP = len(mid_pt_ids)\n",
    "\n",
    "for k in range(0, NP-1, 2):\n",
    "    bc = 'buffer_Outer_interface'\n",
    "    geo.Append(\n",
    "        ['spline3',\n",
    "         mid_pt_ids[k % NP],\n",
    "         mid_pt_ids[(k + 1) % NP],\n",
    "         mid_pt_ids[(k + 2) % NP]],\n",
    "        leftdomain=dom_indx[-2],\n",
    "        rightdomain=dom_indx[-1],\n",
    "        bc=bc)\n",
    "    print(\"appending spline \", [mid_pt_ids[k % NP],mid_pt_ids[(k + 1) % NP],mid_pt_ids[(k + 2) % NP]])\n",
    "\n"
   ]
  },
  {
   "cell_type": "code",
   "execution_count": null,
   "id": "7dd9a7a4",
   "metadata": {},
   "outputs": [],
   "source": [
    "\n",
    "NP = len(outer_pt_ids)\n",
    "\n",
    "for k in range(0, NP-1, 2):\n",
    "    bc = 'OuterCircle'\n",
    "    geo.Append(\n",
    "        ['spline3',\n",
    "         outer_pt_ids[k % NP],\n",
    "         outer_pt_ids[(k + 1) % NP],\n",
    "         outer_pt_ids[(k + 2) % NP]],\n",
    "        leftdomain=dom_indx[-1],\n",
    "        bc=bc)\n",
    "    print(\"appending spline \", [outer_pt_ids[k % NP],outer_pt_ids[(k + 1) % NP],outer_pt_ids[(k + 2) % NP]])\n",
    "\n",
    "\n"
   ]
  },
  {
   "cell_type": "code",
   "execution_count": null,
   "id": "6a0416d9",
   "metadata": {},
   "outputs": [],
   "source": [
    "geo.Append([\"line\", seg_pts[0], seg_pts[1]], bc='OuterCircle',\n",
    "                leftdomain=dom_indx[-1])\n",
    "\n",
    "geo.Append([\"line\", seg_pts[1], seg_pts[2]], bc='OuterCircle',\n",
    "                leftdomain=dom_indx[-2])\n",
    "\n",
    "geo.Append([\"line\", seg_pts[3], seg_pts[4]], bc='OuterCircle',\n",
    "                leftdomain=dom_indx[-2])\n",
    "\n",
    "geo.Append([\"line\", seg_pts[4], seg_pts[5]], bc='OuterCircle',\n",
    "                leftdomain=dom_indx[-1])"
   ]
  },
  {
   "cell_type": "code",
   "execution_count": null,
   "id": "6cd1048e",
   "metadata": {},
   "outputs": [],
   "source": [
    "mesh = ng.Mesh(geo.GenerateMesh())\n",
    "mesh.Curve(7)"
   ]
  },
  {
   "cell_type": "code",
   "execution_count": null,
   "id": "eda96205",
   "metadata": {},
   "outputs": [],
   "source": [
    "Draw(mesh)"
   ]
  },
  {
   "cell_type": "markdown",
   "id": "f68d6a97",
   "metadata": {},
   "source": [
    "## Single Cell"
   ]
  },
  {
   "cell_type": "code",
   "execution_count": null,
   "id": "b2058c87",
   "metadata": {},
   "outputs": [],
   "source": [
    "geo = SplineGeometry()\n",
    "Rs = [1,  3,  4]\n",
    "\n",
    "r1, r2, r3 = Rs[-3:]\n",
    "lower_points = [(-r1, 0), (-r1, -r1), (0, -r1), (r1, -r1), (r1, 0)]\n",
    "inner_points = [(r1, r1), (0, r1), (-r1, r1)]\n",
    "\n",
    "mid_points = [(r2, 0), (r2, r2), (0, r2), (-r2, r2), (-r2, 0)]\n",
    "outer_points = [(r3, 0), (r3, r3), (0, r3), (-r3, r3), (-r3, 0)]\n",
    "\n",
    "dom_indx = [i+1 for i in range(len(Rs))]\n",
    "dom_indx = dom_indx[-3:]\n",
    "\n",
    "lower_pt_ids = [geo.AppendPoint(*p) for p in lower_points]\n",
    "\n",
    "inner_pt_ids = [geo.AppendPoint(*p) for p in inner_points]\n",
    "inner_pt_ids.insert(0, lower_pt_ids[-1])\n",
    "inner_pt_ids.append(lower_pt_ids[0])\n",
    "\n",
    "mid_pt_ids = [geo.AppendPoint(*p) for p in mid_points]\n",
    "\n",
    "outer_pt_ids = [geo.AppendPoint(*p) for p in outer_points]\n",
    "\n",
    "seg_pts = [outer_pt_ids[-1], mid_pt_ids[-1], lower_pt_ids[0],\n",
    "           lower_pt_ids[-1], mid_pt_ids[0], outer_pt_ids[0]]\n",
    "\n",
    "NP = len(lower_pt_ids)\n",
    "\n",
    "for k in range(0, NP - 1, 2):\n",
    "    bc = 'OuterCircle'\n",
    "    geo.Append(\n",
    "        ['spline3',\n",
    "         lower_pt_ids[k % NP],\n",
    "         lower_pt_ids[(k + 1) % NP],\n",
    "         lower_pt_ids[(k + 2) % NP]], leftdomain=dom_indx[-3], bc=bc)\n",
    "\n",
    "NP = len(inner_pt_ids)\n",
    "\n",
    "for k in range(0, NP - 1, 2):\n",
    "    bc = 'fiber_buffer_interface'\n",
    "    geo.Append(\n",
    "        ['spline3',\n",
    "         inner_pt_ids[k % NP],\n",
    "         inner_pt_ids[(k + 1) % NP],\n",
    "         inner_pt_ids[(k + 2) % NP]],\n",
    "        leftdomain=dom_indx[-3],\n",
    "        rightdomain=dom_indx[-2],\n",
    "        bc=bc)\n",
    "\n",
    "NP = len(mid_pt_ids)\n",
    "\n",
    "for k in range(0, NP-1, 2):\n",
    "    bc = 'buffer_Outer_interface'\n",
    "    geo.Append(\n",
    "        ['spline3',\n",
    "         mid_pt_ids[k % NP],\n",
    "         mid_pt_ids[(k + 1) % NP],\n",
    "         mid_pt_ids[(k + 2) % NP]],\n",
    "        leftdomain=dom_indx[-2],\n",
    "        rightdomain=dom_indx[-1],\n",
    "        bc=bc)\n",
    "\n",
    "NP = len(outer_pt_ids)\n",
    "\n",
    "for k in range(0, NP-1, 2):\n",
    "    bc = 'OuterCircle'\n",
    "    geo.Append(\n",
    "        ['spline3',\n",
    "         outer_pt_ids[k % NP],\n",
    "         outer_pt_ids[(k + 1) % NP],\n",
    "         outer_pt_ids[(k + 2) % NP]],\n",
    "        leftdomain=dom_indx[-1],\n",
    "        bc=bc)\n",
    "\n",
    "geo.Append([\"line\", seg_pts[0], seg_pts[1]], bc='OuterCircle',\n",
    "                leftdomain=dom_indx[-1])\n",
    "\n",
    "geo.Append([\"line\", seg_pts[1], seg_pts[2]], bc='OuterCircle',\n",
    "                leftdomain=dom_indx[-2])\n",
    "\n",
    "geo.Append([\"line\", seg_pts[3], seg_pts[4]], bc='OuterCircle',\n",
    "                leftdomain=dom_indx[-2])\n",
    "\n",
    "geo.Append([\"line\", seg_pts[4], seg_pts[5]], bc='OuterCircle',\n",
    "                leftdomain=dom_indx[-1])\n",
    "\n",
    "mesh = ng.Mesh(geo.GenerateMesh())\n",
    "mesh.Curve(7)\n",
    "Draw(mesh)"
   ]
  },
  {
   "cell_type": "code",
   "execution_count": null,
   "id": "6a8fc4c7",
   "metadata": {},
   "outputs": [],
   "source": []
  }
 ],
 "metadata": {
  "kernelspec": {
   "display_name": "Python 3 (ipykernel)",
   "language": "python",
   "name": "python3"
  },
  "language_info": {
   "codemirror_mode": {
    "name": "ipython",
    "version": 3
   },
   "file_extension": ".py",
   "mimetype": "text/x-python",
   "name": "python",
   "nbconvert_exporter": "python",
   "pygments_lexer": "ipython3",
   "version": "3.8.10"
  }
 },
 "nbformat": 4,
 "nbformat_minor": 5
}
