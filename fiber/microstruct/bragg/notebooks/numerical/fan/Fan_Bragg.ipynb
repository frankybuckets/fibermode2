{
 "cells": [
  {
   "cell_type": "code",
   "execution_count": null,
   "id": "c9ba1893",
   "metadata": {},
   "outputs": [],
   "source": [
    "from fiberamp.fiber.microstruct.bragg import Bragg\n",
    "from fiberamp.fiber import sellmeier\n",
    "from ngsolve.webgui import Draw\n",
    "import ngsolve as ng\n",
    "import numpy as np"
   ]
  },
  {
   "cell_type": "code",
   "execution_count": null,
   "id": "5d0e3313",
   "metadata": {},
   "outputs": [],
   "source": [
    "n_air = 1.00027717\n",
    "n_glass = 1.4388164768221814\n",
    "n_poly = 1.6-.3j"
   ]
  },
  {
   "cell_type": "code",
   "execution_count": null,
   "id": "89f33d87",
   "metadata": {},
   "outputs": [],
   "source": [
    "ts = [4.0775e-05, 1e-5, 1.5e-5, 2.5e-5, 4e-5]\n",
    "ns = [lambda x: n_air, lambda x: n_glass, lambda x: n_poly, lambda x: n_air, lambda x: n_air]\n",
    "mats = ['air', 'glass', 'poly', 'air', 'Outer']\n",
    "maxhs = [.1, .02, .03, .05, .08]\n",
    "scale = 1.5e-5"
   ]
  },
  {
   "cell_type": "code",
   "execution_count": null,
   "id": "3f2d047b",
   "metadata": {},
   "outputs": [],
   "source": [
    "B = Bragg(ts=ts, scale=scale, mats=mats, maxhs=maxhs, ns=ns, fan=True, wl=3.6e-6)"
   ]
  },
  {
   "cell_type": "code",
   "execution_count": null,
   "id": "eda96205",
   "metadata": {},
   "outputs": [],
   "source": [
    "Draw(B.index, B.mesh)"
   ]
  },
  {
   "cell_type": "code",
   "execution_count": null,
   "id": "c0e2ce59",
   "metadata": {},
   "outputs": [],
   "source": [
    "k_low = B.ns[0](B.wavelength) * B.k * B.scale"
   ]
  },
  {
   "cell_type": "code",
   "execution_count": null,
   "id": "859264e7",
   "metadata": {},
   "outputs": [],
   "source": [
    "beta = .9995 * k_low"
   ]
  },
  {
   "cell_type": "code",
   "execution_count": null,
   "id": "bf91aacc",
   "metadata": {},
   "outputs": [],
   "source": [
    "exact = B.sqrZfrom(beta/B.L)"
   ]
  },
  {
   "cell_type": "code",
   "execution_count": null,
   "id": "0b313468",
   "metadata": {},
   "outputs": [],
   "source": [
    "guess = exact.conjugate()\n",
    "guess"
   ]
  },
  {
   "cell_type": "code",
   "execution_count": null,
   "id": "79d992ef",
   "metadata": {},
   "outputs": [],
   "source": [
    "center = guess\n",
    "radius = .5\n",
    "nspan = 4\n",
    "npts = 2\n",
    "p = 3"
   ]
  },
  {
   "cell_type": "code",
   "execution_count": null,
   "id": "2cf47703",
   "metadata": {},
   "outputs": [],
   "source": [
    "beta, zs, Es, phis,_ = B.leakyvecmodes(p=p, ctr=center, rad=radius,\n",
    "                                       alpha=6,\n",
    "#                                        rhoinv=.9,\n",
    "#                                        quadrule='ellipse_trapez_shift',\n",
    "                                       nspan=nspan, npts=npts,\n",
    "                                       niterations=5, nrestarts=0,\n",
    "                                       stop_tol=1e-11)"
   ]
  },
  {
   "cell_type": "code",
   "execution_count": null,
   "id": "74b3f882",
   "metadata": {},
   "outputs": [],
   "source": [
    "for e in Es:\n",
    "    Draw(e.real, B.mesh, vectors={'grid_size' : 200})"
   ]
  },
  {
   "cell_type": "code",
   "execution_count": null,
   "id": "a5a082a3",
   "metadata": {},
   "outputs": [],
   "source": [
    "for phi in phis:\n",
    "    Draw(1e2*phi, B.mesh)"
   ]
  },
  {
   "cell_type": "code",
   "execution_count": null,
   "id": "8e6f8d5e",
   "metadata": {},
   "outputs": [],
   "source": []
  }
 ],
 "metadata": {
  "kernelspec": {
   "display_name": "Python 3 (ipykernel)",
   "language": "python",
   "name": "python3"
  },
  "language_info": {
   "codemirror_mode": {
    "name": "ipython",
    "version": 3
   },
   "file_extension": ".py",
   "mimetype": "text/x-python",
   "name": "python",
   "nbconvert_exporter": "python",
   "pygments_lexer": "ipython3",
   "version": "3.8.10"
  }
 },
 "nbformat": 4,
 "nbformat_minor": 5
}
