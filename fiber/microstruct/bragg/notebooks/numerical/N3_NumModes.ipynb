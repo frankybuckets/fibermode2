{
 "cells": [
  {
   "cell_type": "code",
   "execution_count": null,
   "id": "c9ba1893",
   "metadata": {},
   "outputs": [],
   "source": [
    "from fiberamp.fiber.microstruct.bragg import Bragg\n",
    "from ngsolve.webgui import Draw\n",
    "import ngsolve as ng\n",
    "import numpy as np"
   ]
  },
  {
   "cell_type": "code",
   "execution_count": null,
   "id": "5d0e3313",
   "metadata": {},
   "outputs": [],
   "source": [
    "n_air = 1.00027717\n",
    "n_glass = 1.4388164768221814"
   ]
  },
  {
   "cell_type": "code",
   "execution_count": null,
   "id": "89f33d87",
   "metadata": {},
   "outputs": [],
   "source": [
    "n_air = 1.00027717\n",
    "n_glass = 1.4388164768221814\n",
    "ts = [15*2.7183333333333333e-6, 10e-6, 15*2.7183333333333333e-6,\n",
    "      10e-6, 20e-6, 20e-6]\n",
    "ns = [lambda x: n_air, lambda x: n_glass, lambda x: n_air,\n",
    "      lambda x: n_glass, lambda x: n_air, lambda x: n_air]\n",
    "mats = ['core', 'glass', 'air', 'glass', 'air', 'Outer']\n",
    "maxhs = [.2, .02, .1, .01, .2, .3]\n",
    "scale = 15e-6\n"
   ]
  },
  {
   "cell_type": "code",
   "execution_count": null,
   "id": "5f352997",
   "metadata": {},
   "outputs": [],
   "source": [
    "beta = 52.366919371409864-8.554245213366164e-09j\n"
   ]
  },
  {
   "cell_type": "code",
   "execution_count": null,
   "id": "3f2d047b",
   "metadata": {},
   "outputs": [],
   "source": [
    "B = Bragg(ts=ts, scale=scale, maxhs=maxhs, ns=ns, mats=mats)"
   ]
  },
  {
   "cell_type": "code",
   "execution_count": null,
   "id": "eda96205",
   "metadata": {},
   "outputs": [],
   "source": [
    "Draw(B.index, B.mesh)"
   ]
  },
  {
   "cell_type": "code",
   "execution_count": null,
   "id": "bf91aacc",
   "metadata": {},
   "outputs": [],
   "source": [
    "exact = B.sqrZfrom(beta/B.L)"
   ]
  },
  {
   "cell_type": "code",
   "execution_count": null,
   "id": "0b313468",
   "metadata": {},
   "outputs": [],
   "source": [
    "guess = exact.conjugate()\n",
    "guess"
   ]
  },
  {
   "cell_type": "code",
   "execution_count": null,
   "id": "79d992ef",
   "metadata": {},
   "outputs": [],
   "source": [
    "center = guess\n",
    "radius = .01\n",
    "nspan = 4\n",
    "npts = 2\n",
    "p = 2"
   ]
  },
  {
   "cell_type": "code",
   "execution_count": null,
   "id": "2cf47703",
   "metadata": {},
   "outputs": [],
   "source": [
    "beta, zs, Es, phis,_ = B.leakyvecmodes(p=p, ctr=center, rad=radius,\n",
    "                                       alpha=5,\n",
    "#                                        rhoinv=.9,\n",
    "#                                        quadrule='ellipse_trapez_shift',\n",
    "                                       nspan=nspan, npts=npts,\n",
    "                                       niterations=4, nrestarts=0,\n",
    "                                       stop_tol=1e-11)"
   ]
  },
  {
   "cell_type": "code",
   "execution_count": null,
   "id": "74b3f882",
   "metadata": {},
   "outputs": [],
   "source": [
    "for e in Es:\n",
    "    Draw(e.imag, B.mesh, vectors={'grid_size' : 200})"
   ]
  },
  {
   "cell_type": "code",
   "execution_count": null,
   "id": "a5a082a3",
   "metadata": {},
   "outputs": [],
   "source": [
    "for phi in phis:\n",
    "    Draw(1e1*phi, B.mesh)"
   ]
  },
  {
   "cell_type": "code",
   "execution_count": null,
   "id": "9154d617",
   "metadata": {},
   "outputs": [],
   "source": []
  }
 ],
 "metadata": {
  "kernelspec": {
   "display_name": "Python 3 (ipykernel)",
   "language": "python",
   "name": "python3"
  },
  "language_info": {
   "codemirror_mode": {
    "name": "ipython",
    "version": 3
   },
   "file_extension": ".py",
   "mimetype": "text/x-python",
   "name": "python",
   "nbconvert_exporter": "python",
   "pygments_lexer": "ipython3",
   "version": "3.8.10"
  }
 },
 "nbformat": 4,
 "nbformat_minor": 5
}
