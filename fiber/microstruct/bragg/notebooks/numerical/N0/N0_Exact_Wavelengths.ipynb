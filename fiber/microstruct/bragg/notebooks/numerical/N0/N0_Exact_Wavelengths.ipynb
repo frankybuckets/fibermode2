{
 "cells": [
  {
   "cell_type": "markdown",
   "id": "720129b6",
   "metadata": {},
   "source": [
    "# N0 configuration Wavelength Study\n"
   ]
  },
  {
   "cell_type": "code",
   "execution_count": null,
   "id": "664ce3d7",
   "metadata": {},
   "outputs": [],
   "source": [
    "import numpy as np\n",
    "import matplotlib.pyplot as plt\n",
    "\n",
    "from fiberamp.fiber.microstruct.bragg import BraggExact\n",
    "from step_exact import plotlogf\n",
    "from ngsolve.webgui import Draw\n",
    "from ngsolve import CF\n",
    "from scipy.optimize import newton"
   ]
  },
  {
   "cell_type": "markdown",
   "id": "d358a48f",
   "metadata": {},
   "source": [
    "# Initialize"
   ]
  },
  {
   "cell_type": "code",
   "execution_count": null,
   "id": "30f4dd59",
   "metadata": {},
   "outputs": [],
   "source": [
    "n = 300\n",
    "wls = np.linspace(1.4e-6, 2e-6, n+1)\n",
    "betas1 = np.zeros_like(wls, dtype=complex)\n",
    "outer = 'h2'\n",
    "nu = 1"
   ]
  },
  {
   "cell_type": "code",
   "execution_count": null,
   "id": "0ec21ed3",
   "metadata": {},
   "outputs": [],
   "source": [
    "alpha=5\n",
    "n_air = 1.00027717\n",
    "n_glass = 1.4388164768221814\n",
    "\n",
    "d = 4.0775e-05\n",
    "ts = [d, .5*d]\n",
    "ns = [lambda x: n_air, lambda x: n_glass]\n",
    "mats = ['air', 'glass']\n",
    "maxhs = [.060, .010]\n",
    "scale = 15e-6\n"
   ]
  },
  {
   "cell_type": "code",
   "execution_count": null,
   "id": "37516032",
   "metadata": {},
   "outputs": [],
   "source": [
    "A = BraggExact(ts=ts, maxhs=maxhs, ns=ns, mats=mats, scale=scale)\n"
   ]
  },
  {
   "cell_type": "code",
   "execution_count": null,
   "id": "b20b395e",
   "metadata": {},
   "outputs": [],
   "source": [
    "Draw(CF(list(A.ns)),A.mesh)"
   ]
  },
  {
   "cell_type": "code",
   "execution_count": null,
   "id": "46f728d9",
   "metadata": {},
   "outputs": [],
   "source": [
    "k_low = A.ks[0].real * A.scale\n",
    "plotlogf(A.determinant, .999*k_low, 1.001 * k_low, -.015,.015, nu, outer,\n",
    "         iref=100, rref=100, levels=100)"
   ]
  },
  {
   "cell_type": "code",
   "execution_count": null,
   "id": "5dc276f9",
   "metadata": {},
   "outputs": [],
   "source": [
    "guess = np.array(.99998*k_low)\n",
    "imag = 0\n",
    "x0 = np.array(guess + imag*1j)\n",
    "\n",
    "beta = newton(A.determinant, x0, args=(nu, outer), tol = 1e-17)\n",
    "beta"
   ]
  },
  {
   "cell_type": "code",
   "execution_count": null,
   "id": "0f53e858",
   "metadata": {},
   "outputs": [],
   "source": [
    "Fs = A.all_fields(beta, nu, outer)"
   ]
  },
  {
   "cell_type": "code",
   "execution_count": null,
   "id": "2a330db5",
   "metadata": {},
   "outputs": [],
   "source": [
    "Draw(Fs['Ez'], A.mesh)"
   ]
  },
  {
   "cell_type": "markdown",
   "id": "0b5b89c6",
   "metadata": {},
   "source": [
    "# Wavelength Loss Study\n"
   ]
  },
  {
   "cell_type": "code",
   "execution_count": null,
   "id": "81226ec5",
   "metadata": {},
   "outputs": [],
   "source": [
    "\n",
    "for i, wl in enumerate(wls):\n",
    "    print(5 * ' ' +  + 20 * '-' + '  ' + str(i+1) + '/' + str(n+1) + ': ' +\n",
    "          'wavelength: ' +  str(wls[i]) + '  ' +  20 * '-' +5 * ' '+'\\n')\n",
    "          \n",
    "    A = BraggExact(ts=ts, maxhs=[2,2], wl=wls[i], ns=ns, mats=mats, scale=scale, no_mesh=True)\n",
    "\n",
    "    k_low = A.ks[0] * A.scale\n",
    "    guess = np.array(.99999 * k_low)\n",
    "    imag = 0\n",
    "    flag = True\n",
    "    reduce = 0\n",
    "\n",
    "    while flag:\n",
    "        try:\n",
    "            x0 = np.array(guess + imag*1j)\n",
    "            beta = newton(A.determinant, x0, args=(nu, outer), tol = 1e-17)\n",
    "            if beta.real > k_low:\n",
    "                print(\"Captured wrong mode, retrying.\")\n",
    "                raise RuntimeError\n",
    "            elif beta.imag > 0:\n",
    "                print(\"Positive imaginary part, retrying.\")\n",
    "                imag = -beta.imag\n",
    "                guess *= 1/.999999\n",
    "                raise RuntimeError\n",
    "            else:\n",
    "                print(\"Scaled beta: \", beta, \". Residual of determinant: \", \n",
    "                      abs(A.determinant(beta, nu, outer)), '\\n\\n' )\n",
    "                imag = beta.imag\n",
    "                flag=False\n",
    "        except RuntimeError:\n",
    "            guess *= .999999\n",
    "            reduce += 1\n",
    "            print(\"scaling guess: \" + str(reduce), flush=True)\n",
    "    betas1[i] = beta\n",
    "    "
   ]
  },
  {
   "cell_type": "code",
   "execution_count": null,
   "id": "1f62d654",
   "metadata": {},
   "outputs": [],
   "source": [
    "%matplotlib notebook\n",
    "plt.figure(figsize=(8,5))\n",
    "plt.plot(wls, -betas1.imag, color='green', linewidth=.9)\n",
    "plt.yscale('log')\n"
   ]
  },
  {
   "cell_type": "code",
   "execution_count": null,
   "id": "729dbe3d",
   "metadata": {},
   "outputs": [],
   "source": [
    "np.save('../N2_varying_thickness_studies/data/N0_betas', betas1)"
   ]
  },
  {
   "cell_type": "code",
   "execution_count": null,
   "id": "a5511bbc",
   "metadata": {},
   "outputs": [],
   "source": []
  }
 ],
 "metadata": {
  "kernelspec": {
   "display_name": "Python 3 (ipykernel)",
   "language": "python",
   "name": "python3"
  },
  "language_info": {
   "codemirror_mode": {
    "name": "ipython",
    "version": 3
   },
   "file_extension": ".py",
   "mimetype": "text/x-python",
   "name": "python",
   "nbconvert_exporter": "python",
   "pygments_lexer": "ipython3",
   "version": "3.8.10"
  }
 },
 "nbformat": 4,
 "nbformat_minor": 5
}
