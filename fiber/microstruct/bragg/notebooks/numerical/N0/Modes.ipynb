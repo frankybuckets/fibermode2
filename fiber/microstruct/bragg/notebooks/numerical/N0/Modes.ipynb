{
 "cells": [
  {
   "cell_type": "markdown",
   "id": "720129b6",
   "metadata": {},
   "source": [
    "\n",
    "# Hollow Core in infinite glass Numerical Modes\n",
    "\n",
    "N0 Configuration in Bird"
   ]
  },
  {
   "cell_type": "code",
   "execution_count": null,
   "id": "664ce3d7",
   "metadata": {},
   "outputs": [],
   "source": [
    "import numpy as np\n",
    "\n",
    "from fiberamp.fiber.microstruct.bragg import Bragg\n",
    "from ngsolve.webgui import Draw\n",
    "from ngsolve import CF\n"
   ]
  },
  {
   "cell_type": "code",
   "execution_count": null,
   "id": "1829005b",
   "metadata": {},
   "outputs": [],
   "source": [
    "n_air = 1.00027717\n",
    "n_glass = 1.4388164768221814\n",
    "ts = [15*2.7183333333333333e-6, 15*2/3*1e-6, 15*1e-6]\n",
    "ns = [lambda x: n_air, lambda x: n_glass, lambda x: n_glass]\n",
    "mats = ['air', 'glass', 'Outer']\n",
    "maxhs = [.1, .015, .04]\n",
    "scale = 15e-6\n",
    "i=0\n",
    "wls = np.linspace(1.4, 2, 301) * 1e-6\n",
    "\n",
    "A = Bragg(ts=ts, scale=scale, maxhs=maxhs, ns=ns, mats=mats, wl=wls[i])\n"
   ]
  },
  {
   "cell_type": "code",
   "execution_count": null,
   "id": "6b95a1b2",
   "metadata": {},
   "outputs": [],
   "source": [
    "centers = np.load('/home/pv/local/convergence/bragg_fiber/wavelength/N0/exact_scaled_betas.npy')\n",
    "centers = A.sqrZfrom(centers/A.L).conjugate()"
   ]
  },
  {
   "cell_type": "code",
   "execution_count": null,
   "id": "9e68f5cc",
   "metadata": {},
   "outputs": [],
   "source": [
    "Draw(A.index, A.mesh)"
   ]
  },
  {
   "cell_type": "code",
   "execution_count": null,
   "id": "d5674d52",
   "metadata": {},
   "outputs": [],
   "source": [
    "alpha=.01\n",
    "nspan = 4\n",
    "p = 2\n",
    "center = centers[i]\n",
    "radius = .001\n",
    "npts = 2\n",
    "\n",
    "beta, _, Es, phis, _ = A.leakyvecmodes(ctr=center,\n",
    "                                       rad=radius,\n",
    "                                       alpha=alpha,\n",
    "                                       d=0,\n",
    "                                       nspan=nspan,\n",
    "                                       npts=npts,\n",
    "                                       p=p,\n",
    "                                       niterations=5,\n",
    "                                       nrestarts=0,\n",
    "                                       stop_tol=1e-9,)"
   ]
  },
  {
   "cell_type": "code",
   "execution_count": null,
   "id": "401caaf0",
   "metadata": {},
   "outputs": [],
   "source": [
    "p = (1j* A.power(Es[0], phis[0], beta[0]))**.5\n"
   ]
  },
  {
   "cell_type": "code",
   "execution_count": null,
   "id": "9030e673",
   "metadata": {},
   "outputs": [],
   "source": [
    "p"
   ]
  },
  {
   "cell_type": "code",
   "execution_count": null,
   "id": "7c41ef74",
   "metadata": {},
   "outputs": [],
   "source": [
    "Stv, Sz = A.S(Es[0], phis[0], beta[0])"
   ]
  },
  {
   "cell_type": "code",
   "execution_count": null,
   "id": "d59530e6",
   "metadata": {},
   "outputs": [],
   "source": [
    "for e in Es:\n",
    "    Draw(1/p.real*e.real, A.mesh)"
   ]
  },
  {
   "cell_type": "code",
   "execution_count": null,
   "id": "7b80b1e1",
   "metadata": {},
   "outputs": [],
   "source": [
    "for phi in phis:\n",
    "    Draw(1e1*phi, A.mesh)"
   ]
  },
  {
   "cell_type": "code",
   "execution_count": null,
   "id": "075c1f3f",
   "metadata": {},
   "outputs": [],
   "source": [
    "Draw(1000*1j*Sz/p**2, A.mesh)"
   ]
  },
  {
   "cell_type": "code",
   "execution_count": null,
   "id": "b2266a22",
   "metadata": {},
   "outputs": [],
   "source": [
    "for i in range(len(Es)-3):\n",
    "    Htv, Hz = A.H_field_from_E(Es[i],phis[i],beta[i])\n",
    "    Draw(Htv.real, A.mesh)\n",
    "    Draw(1j * Hz, A.mesh)"
   ]
  },
  {
   "cell_type": "code",
   "execution_count": null,
   "id": "a24fd7bc",
   "metadata": {},
   "outputs": [],
   "source": []
  }
 ],
 "metadata": {
  "kernelspec": {
   "display_name": "Python 3 (ipykernel)",
   "language": "python",
   "name": "python3"
  },
  "language_info": {
   "codemirror_mode": {
    "name": "ipython",
    "version": 3
   },
   "file_extension": ".py",
   "mimetype": "text/x-python",
   "name": "python",
   "nbconvert_exporter": "python",
   "pygments_lexer": "ipython3",
   "version": "3.8.10"
  }
 },
 "nbformat": 4,
 "nbformat_minor": 5
}
