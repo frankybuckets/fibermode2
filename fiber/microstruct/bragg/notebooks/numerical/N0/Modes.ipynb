{
 "cells": [
  {
   "cell_type": "markdown",
   "id": "720129b6",
   "metadata": {},
   "source": [
    "\n",
    "# Hollow Core in infinite glass Numerical Modes\n",
    "\n",
    "N0 Configuration in Bird"
   ]
  },
  {
   "cell_type": "code",
   "execution_count": 1,
   "id": "664ce3d7",
   "metadata": {},
   "outputs": [
    {
     "name": "stdout",
     "output_type": "stream",
     "text": [
      "importing NGSolve-6.2.2203-56-g47f483033\n"
     ]
    }
   ],
   "source": [
    "import numpy as np\n",
    "\n",
    "from fiberamp.fiber.microstruct.bragg import Bragg\n",
    "from ngsolve.webgui import Draw\n",
    "from ngsolve import CF\n"
   ]
  },
  {
   "cell_type": "code",
   "execution_count": 38,
   "id": "1829005b",
   "metadata": {},
   "outputs": [
    {
     "name": "stdout",
     "output_type": "stream",
     "text": [
      "ModeSolver: Checking if mesh has required regions\n",
      "Mesh has  10894  elements,  5526  points,  and  16419  edges.\n"
     ]
    }
   ],
   "source": [
    "n_air = 1.00027717\n",
    "n_glass = 1.4388164768221814\n",
    "ts = [15*2.7183333333333333e-6, 15*2/3*1e-6, 15*1e-6]\n",
    "ns = [lambda x: n_air, lambda x: n_glass, lambda x: n_glass]\n",
    "mats = ['air', 'glass', 'Outer']\n",
    "maxhs = [.1, .02, .04]\n",
    "scale = 1e-6\n",
    "i=0\n",
    "wls = np.linspace(1.4, 2, 301) * 1e-6\n",
    "\n",
    "A = Bragg(ts=ts, scale=scale, maxhs=maxhs, ns=ns, mats=mats, wl=wls[i], beta_sq_plane=True)\n"
   ]
  },
  {
   "cell_type": "code",
   "execution_count": 27,
   "id": "6b95a1b2",
   "metadata": {},
   "outputs": [],
   "source": [
    "centers = -np.load('/home/pv/local/convergence/bragg_fiber/wavelength/N0/exact_scaled_betas.npy')**2\n",
    "# centers = A.sqrZfrom(centers/A.L).conjugate()"
   ]
  },
  {
   "cell_type": "code",
   "execution_count": 28,
   "id": "9e68f5cc",
   "metadata": {},
   "outputs": [
    {
     "data": {
      "application/vnd.jupyter.widget-view+json": {
       "model_id": "17dfcec804c14e8cbb1d3556cf0d91d9",
       "version_major": 2,
       "version_minor": 0
      },
      "text/plain": [
       "WebGuiWidget(value={'ngsolve_version': '6.2.2203-56-g47f483033', 'mesh_dim': 2, 'order2d': 2, 'order3d': 2, 'd…"
      ]
     },
     "metadata": {},
     "output_type": "display_data"
    },
    {
     "data": {
      "text/plain": [
       "BaseWebGuiScene"
      ]
     },
     "execution_count": 28,
     "metadata": {},
     "output_type": "execute_result"
    }
   ],
   "source": [
    "Draw(A.index, A.mesh)"
   ]
  },
  {
   "cell_type": "code",
   "execution_count": 43,
   "id": "d5674d52",
   "metadata": {},
   "outputs": [
    {
     "name": "stdout",
     "output_type": "stream",
     "text": [
      "Set NGSolve custom (smooth) PML with alpha= 0.01 degree= 0 and thickness=15.000\n",
      "Set custom smoothed PML with d= 0  alpha= 0.01 and thickness=15.000\n",
      "Using FEAST to search for vector leaky modes in\n",
      "circle of radius 0.001 centered at  (-20.149739258680505+5.63978432039723e-05j)\n",
      "assuming not more than 4 modes in this interval\n",
      "System size: 54626  x  54626   Inverse type: umfpack\n",
      "\n",
      "SpectralProj: Setting shifted trapezoidal rule quadrature on circular contour\n",
      "SpectralProj: Radius=0.001, Center=-20.1497+5.63978e-05j\n",
      "SpectralProjNGR:   Making resolvent at z = -20.150 +0.001j\n",
      "SpectralProjNGR:   Making resolvent at z = -20.150 -0.001j\n",
      "\n",
      "=========== Starting FEAST iterations ===========\n",
      "Trying with 4 vectors:\n",
      "\n",
      " ITERATION 1 with 4 vectors and 4 left vectors\n",
      "   During kernel cleaning abs(g):\n",
      "   [2.1e+00 3.9e-01 3.0e-04 2.1e-02]\n",
      "   Real part of computed eigenvalues:\n",
      "   [-20.14974067 -20.14968006 -20.14442921 -20.14299641]\n",
      "   Imag part of computed eigenvalues:\n",
      "   [-5.95155367e-05 -4.93419402e-05 -1.53995695e-04 -2.07048025e-04]\n",
      "   Relative Hausdorff distance from prior iterate: 4.963e+98\n",
      "\n",
      " ITERATION 2 with 4 vectors and 4 left vectors\n",
      "   During kernel cleaning abs(g):\n",
      "   [1.4e-03 1.6e+00 1.0e+00 1.3e+00]\n",
      "   Real part of computed eigenvalues:\n",
      "   [-20.14974268 -20.14973619 -20.14444172 -20.14432027]\n",
      "   Imag part of computed eigenvalues:\n",
      "   [-5.95600011e-05 -5.44898150e-05 -1.54064074e-04 -1.33617802e-04]\n",
      "   Relative Hausdorff distance from prior iterate: 6.580e-05\n",
      "\n",
      " ITERATION 3 with 4 vectors and 4 left vectors\n",
      "   During kernel cleaning abs(g):\n",
      "   [5.0e-02 7.4e-04 5.8e-01 8.7e-01]\n",
      "   Real part of computed eigenvalues:\n",
      "   [-20.14974269 -20.14973623 -20.14444269 -20.14436195]\n",
      "   Imag part of computed eigenvalues:\n",
      "   [-5.95574772e-05 -5.45042216e-05 -1.54525835e-04 -1.28344696e-04]\n",
      "   Relative Hausdorff distance from prior iterate: 2.085e-06\n",
      "\n",
      "   Removing ew#[0, 1] not enclosed by contour\n",
      " ITERATION 4 with 2 vectors and 2 left vectors\n",
      "   During kernel cleaning abs(g):\n",
      "   [1.8 1.2]\n",
      "   Real part of computed eigenvalues:\n",
      "   [-20.14974269 -20.14973623]\n",
      "   Imag part of computed eigenvalues:\n",
      "   [-5.95574755e-05 -5.45042432e-05]\n",
      "   Relative Hausdorff distance from prior iterate: 2.310e-12\n",
      "\n",
      "\n",
      "***FEAST converged with:\n",
      "\tRelative Hausdorff distance = 2.310e-12\n",
      "\n",
      "============= FEAST iterations done =============\n",
      "Results:\n",
      " Z²: [-20.14973623-5.45042432e-05j -20.14974269-5.95574755e-05j]\n",
      " beta: [7864328.5656642 +3.46528268j 7864328.97607876+3.786558j  ]\n",
      " CL dB/m: [30.09906295 32.88962486]\n"
     ]
    }
   ],
   "source": [
    "alpha=.01\n",
    "nspan = 4\n",
    "p = 1\n",
    "center = centers[i]/15**2\n",
    "radius = .001\n",
    "npts = 2\n",
    "\n",
    "beta, _, Es, phis, _ = A.leakyvecmodes(ctr=center,\n",
    "                                       rad=radius,\n",
    "                                       alpha=alpha,\n",
    "                                       d=0,\n",
    "                                       nspan=nspan,\n",
    "                                       npts=npts,\n",
    "                                       p=p,\n",
    "                                       niterations=5,\n",
    "                                       nrestarts=0,\n",
    "                                       stop_tol=1e-9,)"
   ]
  },
  {
   "cell_type": "code",
   "execution_count": 44,
   "id": "d59530e6",
   "metadata": {
    "scrolled": false
   },
   "outputs": [
    {
     "data": {
      "application/vnd.jupyter.widget-view+json": {
       "model_id": "ef7328d1169a4b47aea0a9bcb98b839d",
       "version_major": 2,
       "version_minor": 0
      },
      "text/plain": [
       "WebGuiWidget(value={'ngsolve_version': '6.2.2203-56-g47f483033', 'mesh_dim': 2, 'order2d': 2, 'order3d': 2, 'd…"
      ]
     },
     "metadata": {},
     "output_type": "display_data"
    },
    {
     "data": {
      "application/vnd.jupyter.widget-view+json": {
       "model_id": "59da528e8d9c4255b704caff69a6b20f",
       "version_major": 2,
       "version_minor": 0
      },
      "text/plain": [
       "WebGuiWidget(value={'ngsolve_version': '6.2.2203-56-g47f483033', 'mesh_dim': 2, 'order2d': 2, 'order3d': 2, 'd…"
      ]
     },
     "metadata": {},
     "output_type": "display_data"
    }
   ],
   "source": [
    "for e in Es:\n",
    "    Draw(e.real,A.mesh)"
   ]
  },
  {
   "cell_type": "code",
   "execution_count": 45,
   "id": "7b80b1e1",
   "metadata": {},
   "outputs": [
    {
     "data": {
      "application/vnd.jupyter.widget-view+json": {
       "model_id": "c929be00ed5141ab9b6f65e8dc58b756",
       "version_major": 2,
       "version_minor": 0
      },
      "text/plain": [
       "WebGuiWidget(value={'ngsolve_version': '6.2.2203-56-g47f483033', 'mesh_dim': 2, 'order2d': 2, 'order3d': 2, 'd…"
      ]
     },
     "metadata": {},
     "output_type": "display_data"
    },
    {
     "data": {
      "application/vnd.jupyter.widget-view+json": {
       "model_id": "e77bf722432d46f4930ec90fb2c5ca0b",
       "version_major": 2,
       "version_minor": 0
      },
      "text/plain": [
       "WebGuiWidget(value={'ngsolve_version': '6.2.2203-56-g47f483033', 'mesh_dim': 2, 'order2d': 2, 'order3d': 2, 'd…"
      ]
     },
     "metadata": {},
     "output_type": "display_data"
    }
   ],
   "source": [
    "for phi in phis:\n",
    "    Draw(1e1*phi, A.mesh)"
   ]
  },
  {
   "cell_type": "code",
   "execution_count": null,
   "id": "d00a5c09",
   "metadata": {},
   "outputs": [],
   "source": []
  }
 ],
 "metadata": {
  "kernelspec": {
   "display_name": "Python 3 (ipykernel)",
   "language": "python",
   "name": "python3"
  },
  "language_info": {
   "codemirror_mode": {
    "name": "ipython",
    "version": 3
   },
   "file_extension": ".py",
   "mimetype": "text/x-python",
   "name": "python",
   "nbconvert_exporter": "python",
   "pygments_lexer": "ipython3",
   "version": "3.8.10"
  }
 },
 "nbformat": 4,
 "nbformat_minor": 5
}
