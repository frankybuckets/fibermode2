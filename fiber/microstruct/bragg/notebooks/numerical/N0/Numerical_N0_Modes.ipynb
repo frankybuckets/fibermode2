{
 "cells": [
  {
   "cell_type": "markdown",
   "id": "720129b6",
   "metadata": {},
   "source": [
    "\n",
    "# N0 Numerical Modes\n"
   ]
  },
  {
   "cell_type": "code",
   "execution_count": 24,
   "id": "664ce3d7",
   "metadata": {},
   "outputs": [],
   "source": [
    "import numpy as np\n",
    "\n",
    "from fiberamp.fiber.microstruct.bragg import Bragg\n",
    "from ngsolve.webgui import Draw\n",
    "from ngsolve import CF\n"
   ]
  },
  {
   "cell_type": "code",
   "execution_count": 25,
   "id": "1829005b",
   "metadata": {},
   "outputs": [
    {
     "name": "stdout",
     "output_type": "stream",
     "text": [
      "ModeSolver: Checking if mesh has required regions\n",
      "Mesh has  2180  elements,  1131  points,  and  3310  edges.\n"
     ]
    }
   ],
   "source": [
    "n_air = 1.00027717\n",
    "n_glass = 1.4388164768221814\n",
    "ts = [15*2.7183333333333333e-6, 15*2/3*1e-6, 15*1e-6]\n",
    "ns = [lambda x: n_air, lambda x: n_glass, lambda x: n_glass]\n",
    "\n",
    "mats = ['air', 'glass', 'Outer']\n",
    "maxhs = [.2, .05, .08]\n",
    "\n",
    "bcs = ['r1', 'R', 'OuterCircle']\n",
    "scale = 15e-6\n",
    "idx = 0\n",
    "\n",
    "wls = np.linspace(1.4, 2, 301) * 1e-6\n",
    "\n",
    "A = Bragg(ts=ts, scale=scale, maxhs=maxhs, ns=ns, mats=mats, wl=wls[idx], bcs=bcs)\n"
   ]
  },
  {
   "cell_type": "code",
   "execution_count": 26,
   "id": "6b95a1b2",
   "metadata": {},
   "outputs": [],
   "source": [
    "centers = np.load('/home/pv/local/convergence/bragg_fiber/wavelength/N0/exact_scaled_betas.npy')\n",
    "centers = A.sqrZfrom(centers/A.L).conjugate()"
   ]
  },
  {
   "cell_type": "code",
   "execution_count": 27,
   "id": "9e68f5cc",
   "metadata": {},
   "outputs": [
    {
     "data": {
      "application/vnd.jupyter.widget-view+json": {
       "model_id": "568b74bd103c4ebdbb920d0a37d7a1a4",
       "version_major": 2,
       "version_minor": 0
      },
      "text/plain": [
       "WebGuiWidget(layout=Layout(height='50vh', width='100%'), value={'gui_settings': {}, 'ngsolve_version': '6.2.23…"
      ]
     },
     "metadata": {},
     "output_type": "display_data"
    },
    {
     "data": {
      "text/plain": [
       "BaseWebGuiScene"
      ]
     },
     "execution_count": 27,
     "metadata": {},
     "output_type": "execute_result"
    }
   ],
   "source": [
    "Draw(A.index, A.mesh)"
   ]
  },
  {
   "cell_type": "code",
   "execution_count": 34,
   "id": "d5674d52",
   "metadata": {
    "scrolled": false
   },
   "outputs": [
    {
     "name": "stdout",
     "output_type": "stream",
     "text": [
      "Set NGSolve automatic PML with p= 1  alpha= 5 and thickness=1.000\n",
      "Using FEAST to search for vector leaky modes in\n",
      "circle of radius 0.01 centered at  (4848.342367014139-0.012689514720893767j)\n",
      "assuming not more than 6 modes in this interval\n",
      "System size: 10980  x  10980   Inverse type: umfpack\n",
      "\n",
      "SpectralProj: Setting shifted trapezoidal rule on elliptical contour\n",
      "SpectralProjNGR:   Making resolvent at z = +4848.349 -0.012j\n",
      "SpectralProjNGR:   Making resolvent at z = +4848.335 -0.012j\n",
      "SpectralProjNGR:   Making resolvent at z = +4848.335 -0.013j\n",
      "SpectralProjNGR:   Making resolvent at z = +4848.349 -0.013j\n",
      "\n",
      "=========== Starting FEAST iterations ===========\n",
      "Trying with 6 vectors:\n",
      "\n",
      " ITERATION 1 with 6 vectors and 6 left vectors\n",
      "   During kernel cleaning abs(g):\n",
      "   [5.3e-05 3.7e-05 1.8e-17 8.3e-22 1.2e-20 2.6e-20]\n",
      "   Removing ew#[2, 3, 4, 5]\n",
      "   Real part of computed eigenvalues:\n",
      "   [4848.34359242 4848.34510407]\n",
      "   Imag part of computed eigenvalues:\n",
      "   [-0.00013542 -0.0001189 ]\n",
      "   Relative Hausdorff distance from prior iterate: 2.063e+96\n",
      "\n",
      " ITERATION 2 with 2 vectors and 2 left vectors\n",
      "   During kernel cleaning abs(g):\n",
      "   [5.4e-05 1.3e-05]\n",
      "   Real part of computed eigenvalues:\n",
      "   [4848.34359242 4848.34510407]\n",
      "   Imag part of computed eigenvalues:\n",
      "   [-0.00013542 -0.0001189 ]\n",
      "   Relative Hausdorff distance from prior iterate: 1.240e-14\n",
      "\n",
      "\n",
      "***FEAST converged with:\n",
      "\tRelative Hausdorff distance = 1.240e-14\n",
      "\n",
      "============= FEAST iterations done =============\n",
      "Results:\n",
      " Z²: [4848.34359242-0.00013542j 4848.34510407-0.0001189j ]\n",
      " beta: [4488845.48769998+0.06703792j 4488844.73934841+0.05886434j]\n",
      " CL dB/m: [0.58228399 0.51128914]\n"
     ]
    }
   ],
   "source": [
    "alpha=5\n",
    "nspan = 6\n",
    "p = 1\n",
    "center = centers[idx]\n",
    "radius = .01\n",
    "npts = 4\n",
    "\n",
    "betas, _, Es, phis, _ = A.leakyvecmodes(ctr=center,\n",
    "                                       rad=radius,\n",
    "                                       alpha=alpha,\n",
    "                                       nspan=nspan,\n",
    "                                       npts=npts,\n",
    "                                       p=p,\n",
    "                                       rhoinv=.9,\n",
    "                                       quadrule='ellipse_trapez_shift',\n",
    "                                       niterations=5,\n",
    "                                       nrestarts=0,\n",
    "                                       stop_tol=1e-9,\n",
    "                                       )"
   ]
  },
  {
   "cell_type": "code",
   "execution_count": 35,
   "id": "401caaf0",
   "metadata": {
    "scrolled": true
   },
   "outputs": [],
   "source": [
    "ps = [(1j* A.power(Es[i], phis[i], betas[i]))**.5 for i in range(len(Es))]"
   ]
  },
  {
   "cell_type": "markdown",
   "id": "b4e75303",
   "metadata": {},
   "source": [
    "# E fields"
   ]
  },
  {
   "cell_type": "code",
   "execution_count": 36,
   "id": "d59530e6",
   "metadata": {
    "scrolled": false
   },
   "outputs": [
    {
     "data": {
      "application/vnd.jupyter.widget-view+json": {
       "model_id": "ad5a6d28aba94a60839c41946cb1b04e",
       "version_major": 2,
       "version_minor": 0
      },
      "text/plain": [
       "WebGuiWidget(layout=Layout(height='50vh', width='100%'), value={'gui_settings': {}, 'ngsolve_version': '6.2.23…"
      ]
     },
     "metadata": {},
     "output_type": "display_data"
    },
    {
     "data": {
      "application/vnd.jupyter.widget-view+json": {
       "model_id": "b2d4c49ca7624b1182a7da452381bdd2",
       "version_major": 2,
       "version_minor": 0
      },
      "text/plain": [
       "WebGuiWidget(layout=Layout(height='50vh', width='100%'), value={'gui_settings': {}, 'ngsolve_version': '6.2.23…"
      ]
     },
     "metadata": {},
     "output_type": "display_data"
    }
   ],
   "source": [
    "for i,e in enumerate(Es):\n",
    "    Draw(1/ps[i].real*e.real, A.mesh)"
   ]
  },
  {
   "cell_type": "markdown",
   "id": "d75fce38",
   "metadata": {},
   "source": [
    "# Poynting Vector"
   ]
  },
  {
   "cell_type": "code",
   "execution_count": 17,
   "id": "aed23841",
   "metadata": {},
   "outputs": [],
   "source": [
    "Stv, Sz = A.S(Es[0], phis[0], betas[0])"
   ]
  },
  {
   "cell_type": "code",
   "execution_count": 23,
   "id": "075c1f3f",
   "metadata": {
    "scrolled": false
   },
   "outputs": [
    {
     "data": {
      "application/vnd.jupyter.widget-view+json": {
       "model_id": "64d1bcdd58554880a655bbcb8e3584d1",
       "version_major": 2,
       "version_minor": 0
      },
      "text/plain": [
       "WebGuiWidget(layout=Layout(height='50vh', width='100%'), value={'gui_settings': {}, 'ngsolve_version': '6.2.23…"
      ]
     },
     "metadata": {},
     "output_type": "display_data"
    },
    {
     "data": {
      "text/plain": [
       "BaseWebGuiScene"
      ]
     },
     "execution_count": 23,
     "metadata": {},
     "output_type": "execute_result"
    }
   ],
   "source": [
    "Draw(1e-3*1j*Sz/p**2, A.mesh)"
   ]
  },
  {
   "cell_type": "code",
   "execution_count": null,
   "id": "4c28b889",
   "metadata": {},
   "outputs": [],
   "source": []
  }
 ],
 "metadata": {
  "kernelspec": {
   "display_name": "Python 3 (ipykernel)",
   "language": "python",
   "name": "python3"
  },
  "language_info": {
   "codemirror_mode": {
    "name": "ipython",
    "version": 3
   },
   "file_extension": ".py",
   "mimetype": "text/x-python",
   "name": "python",
   "nbconvert_exporter": "python",
   "pygments_lexer": "ipython3",
   "version": "3.10.6"
  }
 },
 "nbformat": 4,
 "nbformat_minor": 5
}
