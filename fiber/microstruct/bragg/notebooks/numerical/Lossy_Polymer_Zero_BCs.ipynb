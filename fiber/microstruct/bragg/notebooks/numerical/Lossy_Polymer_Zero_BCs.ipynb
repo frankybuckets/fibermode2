{
 "cells": [
  {
   "cell_type": "markdown",
   "id": "783202b2",
   "metadata": {},
   "source": [
    "# Hollow core Glass Ring with lossy polymer coating, with zero BCs"
   ]
  },
  {
   "cell_type": "code",
   "execution_count": null,
   "id": "c9ba1893",
   "metadata": {},
   "outputs": [],
   "source": [
    "from fiberamp.fiber.microstruct.bragg import Bragg\n",
    "from ngsolve.webgui import Draw\n",
    "import ngsolve as ng\n",
    "import numpy as np"
   ]
  },
  {
   "cell_type": "code",
   "execution_count": null,
   "id": "5d0e3313",
   "metadata": {},
   "outputs": [],
   "source": [
    "n_air = 1.00027717\n",
    "n_glass = 1.4388164768221814\n",
    "n_poly = 1.5 - 1e-5j"
   ]
  },
  {
   "cell_type": "code",
   "execution_count": null,
   "id": "89f33d87",
   "metadata": {},
   "outputs": [],
   "source": [
    "ts=[4.0775e-05, 1e-5, 1.5e-5]\n",
    "ns=[lambda x: n_air, lambda x: n_glass, lambda x: n_poly]\n",
    "mats=['air', 'glass','Outer']\n",
    "maxhs=[.1, .04, .4]\n",
    "scale=15e-6"
   ]
  },
  {
   "cell_type": "code",
   "execution_count": null,
   "id": "3f2d047b",
   "metadata": {},
   "outputs": [],
   "source": [
    "B = Bragg(ts=ts, scale=scale, maxhs=maxhs, mats=mats,ns=ns)"
   ]
  },
  {
   "cell_type": "code",
   "execution_count": null,
   "id": "eda96205",
   "metadata": {},
   "outputs": [],
   "source": [
    "Draw(B.index, B.mesh)"
   ]
  },
  {
   "cell_type": "code",
   "execution_count": null,
   "id": "bf91aacc",
   "metadata": {},
   "outputs": [],
   "source": [
    "exact = B.sqrZfrom(B.k)\n",
    "guess = exact.conjugate()\n",
    "guess"
   ]
  },
  {
   "cell_type": "code",
   "execution_count": null,
   "id": "79d992ef",
   "metadata": {},
   "outputs": [],
   "source": [
    "center = guess\n",
    "radius = .1\n",
    "nspan = 4\n",
    "npts = 4\n",
    "p = 1"
   ]
  },
  {
   "cell_type": "code",
   "execution_count": null,
   "id": "2cf47703",
   "metadata": {},
   "outputs": [],
   "source": [
    "beta, zs, Es, phis,_ = B.leakyvecmodes(p=p, ctr=center, rad=radius,\n",
    "                                       alpha=0,\n",
    "#                                        rhoinv=.9,\n",
    "#                                        quadrule='ellipse_trapez_shift',\n",
    "                                       nspan=nspan, npts=npts,\n",
    "                                       niterations=8, nrestarts=0,\n",
    "                                       stop_tol=1e-11)"
   ]
  },
  {
   "cell_type": "code",
   "execution_count": null,
   "id": "74b3f882",
   "metadata": {},
   "outputs": [],
   "source": [
    "for e in Es:\n",
    "    Draw(e.real, B.mesh, vectors={'grid_size' : 200})"
   ]
  },
  {
   "cell_type": "code",
   "execution_count": null,
   "id": "a5a082a3",
   "metadata": {},
   "outputs": [],
   "source": [
    "for phi in phis:\n",
    "    Draw(1e1*phi, B.mesh)"
   ]
  },
  {
   "cell_type": "code",
   "execution_count": null,
   "id": "9154d617",
   "metadata": {},
   "outputs": [],
   "source": [
    "for e in Es:\n",
    "    Draw(1e2*e.real[0], B.mesh)"
   ]
  },
  {
   "cell_type": "code",
   "execution_count": null,
   "id": "3a7e1eab",
   "metadata": {},
   "outputs": [],
   "source": []
  }
 ],
 "metadata": {
  "kernelspec": {
   "display_name": "Python 3 (ipykernel)",
   "language": "python",
   "name": "python3"
  },
  "language_info": {
   "codemirror_mode": {
    "name": "ipython",
    "version": 3
   },
   "file_extension": ".py",
   "mimetype": "text/x-python",
   "name": "python",
   "nbconvert_exporter": "python",
   "pygments_lexer": "ipython3",
   "version": "3.8.10"
  }
 },
 "nbformat": 4,
 "nbformat_minor": 5
}
