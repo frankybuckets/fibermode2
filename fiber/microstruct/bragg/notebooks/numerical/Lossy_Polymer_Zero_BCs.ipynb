{
 "cells": [
  {
   "cell_type": "markdown",
   "id": "783202b2",
   "metadata": {},
   "source": [
    "# Hollow core Glass Ring with lossy polymer coating, with zero BCs"
   ]
  },
  {
   "cell_type": "code",
   "execution_count": 1,
   "id": "c9ba1893",
   "metadata": {},
   "outputs": [
    {
     "name": "stdout",
     "output_type": "stream",
     "text": [
      "importing NGSolve-6.2.2203-56-g47f483033\n"
     ]
    }
   ],
   "source": [
    "from fiberamp.fiber.microstruct.bragg import Bragg\n",
    "from ngsolve.webgui import Draw\n",
    "import ngsolve as ng\n",
    "import numpy as np"
   ]
  },
  {
   "cell_type": "code",
   "execution_count": 79,
   "id": "5d0e3313",
   "metadata": {},
   "outputs": [],
   "source": [
    "n_air = 1.00027717\n",
    "n_glass = 1.4388164768221814\n",
    "n_poly = 1.5 - 1e-5j"
   ]
  },
  {
   "cell_type": "code",
   "execution_count": 99,
   "id": "89f33d87",
   "metadata": {},
   "outputs": [],
   "source": [
    "ts=[4.0775e-05, 1e-5, 1.5e-5]\n",
    "ns=[lambda x: n_air, lambda x: n_glass, lambda x: n_poly]\n",
    "mats=['air', 'glass','Outer']\n",
    "maxhs=[.1, .04, .4]\n",
    "scale=15e-6"
   ]
  },
  {
   "cell_type": "code",
   "execution_count": 100,
   "id": "3f2d047b",
   "metadata": {},
   "outputs": [
    {
     "name": "stdout",
     "output_type": "stream",
     "text": [
      "ModeSolver: Checking if mesh has required regions\n",
      "Mesh has  3262  elements,  1659  points,  and  4920  edges.\n"
     ]
    }
   ],
   "source": [
    "B = Bragg(ts=ts, scale=scale, maxhs=maxhs, mats=mats,ns=ns)"
   ]
  },
  {
   "cell_type": "code",
   "execution_count": 101,
   "id": "eda96205",
   "metadata": {},
   "outputs": [
    {
     "data": {
      "application/vnd.jupyter.widget-view+json": {
       "model_id": "9d052b96173945c69e08f09be7e2bccf",
       "version_major": 2,
       "version_minor": 0
      },
      "text/plain": [
       "WebGuiWidget(value={'ngsolve_version': '6.2.2203-56-g47f483033', 'mesh_dim': 2, 'order2d': 2, 'order3d': 2, 'd…"
      ]
     },
     "metadata": {},
     "output_type": "display_data"
    },
    {
     "data": {
      "text/plain": [
       "BaseWebGuiScene"
      ]
     },
     "execution_count": 101,
     "metadata": {},
     "output_type": "execute_result"
    }
   ],
   "source": [
    "Draw(B.index, B.mesh)"
   ]
  },
  {
   "cell_type": "code",
   "execution_count": 125,
   "id": "bf91aacc",
   "metadata": {},
   "outputs": [
    {
     "data": {
      "text/plain": [
       "(3426.945972326316+0.08224670334241133j)"
      ]
     },
     "execution_count": 125,
     "metadata": {},
     "output_type": "execute_result"
    }
   ],
   "source": [
    "exact = B.sqrZfrom(B.k)\n",
    "guess = exact.conjugate()\n",
    "guess"
   ]
  },
  {
   "cell_type": "code",
   "execution_count": 115,
   "id": "79d992ef",
   "metadata": {},
   "outputs": [],
   "source": [
    "center = guess\n",
    "radius = .1\n",
    "nspan = 4\n",
    "npts = 4\n",
    "p = 1"
   ]
  },
  {
   "cell_type": "code",
   "execution_count": 116,
   "id": "2cf47703",
   "metadata": {
    "scrolled": false
   },
   "outputs": [
    {
     "name": "stdout",
     "output_type": "stream",
     "text": [
      "Set NGSolve automatic PML with alpha= 0 and thickness=1.000\n",
      "Using FEAST to search for vector leaky modes in\n",
      "circle of radius 0.1 centered at  (3427.0008031877214+0.08224670334241133j)\n",
      "assuming not more than 8 modes in this interval\n",
      "System size: 16364  x  16364   Inverse type: umfpack\n",
      "\n",
      "SpectralProj: Setting shifted trapezoidal rule quadrature on circular contour\n",
      "SpectralProj: Radius=0.1, Center=3427+0.0822467j\n",
      "SpectralProjNGR:   Making resolvent at z = +3427.072 +0.153j\n",
      "SpectralProjNGR:   Making resolvent at z = +3426.930 +0.153j\n",
      "SpectralProjNGR:   Making resolvent at z = +3426.930 +0.012j\n",
      "SpectralProjNGR:   Making resolvent at z = +3427.072 +0.012j\n",
      "\n",
      "=========== Starting FEAST iterations ===========\n",
      "Trying with 8 vectors:\n",
      "\n",
      " ITERATION 1 with 8 vectors and 8 left vectors\n",
      "   During kernel cleaning abs(g):\n",
      "   [1.4e-02 3.9e-05 1.1e-05 4.7e-06 2.0e-07 7.2e-08 3.5e-09 5.5e-09]\n",
      "   Real part of computed eigenvalues:\n",
      "   [3426.16836582 3426.36091107 3426.66143343 3427.28493187 3427.35078765\n",
      " 3427.39010598 3427.40284231 3427.50756465]\n",
      "   Imag part of computed eigenvalues:\n",
      "   [-0.06785277 -0.06517358 -3.47492669 -0.07310667 -0.07958655 -0.08179066\n",
      " -0.08244236 -0.07729331]\n",
      "   Relative Hausdorff distance from prior iterate: 2.918e+96\n",
      "\n",
      " ITERATION 2 with 8 vectors and 8 left vectors\n",
      "   During kernel cleaning abs(g):\n",
      "   [7.3e+00 9.6e-01 2.6e-01 2.9e-01 1.4e-01 1.1e-01 6.0e-02 7.5e-04]\n",
      "   Real part of computed eigenvalues:\n",
      "   [3426.17857015 3426.37480346 3427.28506041 3427.350784   3427.35633901\n",
      " 3427.39010779 3427.40270733 3427.50250273]\n",
      "   Imag part of computed eigenvalues:\n",
      "   [-0.07743722 -0.06775704 -0.07297233 -0.079538    0.10207389 -0.08174664\n",
      " -0.08219221 -0.07435262]\n",
      "   Relative Hausdorff distance from prior iterate: 9.977e-04\n",
      "\n",
      " ITERATION 3 with 8 vectors and 8 left vectors\n",
      "   During kernel cleaning abs(g):\n",
      "   [2.7e-04 2.4e-04 6.4e-05 7.0e-06 1.4e-06 2.6e-07 4.6e-07 2.3e-08]\n",
      "   Real part of computed eigenvalues:\n",
      "   [3426.18144831 3426.37680454 3427.28506115 3427.35078378 3427.39010866\n",
      " 3427.40270742 3427.50185523 3427.78577057]\n",
      "   Imag part of computed eigenvalues:\n",
      "   [-0.07795647 -0.06768135 -0.07297227 -0.07953802 -0.08174563 -0.08217983\n",
      " -0.07375908 -0.17916298]\n",
      "   Relative Hausdorff distance from prior iterate: 8.813e-05\n",
      "\n",
      " ITERATION 4 with 8 vectors and 8 left vectors\n",
      "   During kernel cleaning abs(g):\n",
      "   [7.4 1.2 0.2 0.8 1.3 1.1 0.1 0. ]\n",
      "   Real part of computed eigenvalues:\n",
      "   [3426.18425463 3426.37704991 3427.28506115 3427.35078378 3427.39010865\n",
      " 3427.40270743 3427.50187418 3427.66811951]\n",
      "   Imag part of computed eigenvalues:\n",
      "   [-0.07889747 -0.06759801 -0.07297227 -0.07953802 -0.08174564 -0.08217988\n",
      " -0.0737432  -0.03594406]\n",
      "   Relative Hausdorff distance from prior iterate: 5.408e-05\n",
      "\n",
      " ITERATION 5 with 8 vectors and 8 left vectors\n",
      "   During kernel cleaning abs(g):\n",
      "   [2.4e-04 2.7e-04 6.4e-05 7.0e-06 2.6e-07 4.6e-07 2.2e-08 1.4e-06]\n",
      "   Real part of computed eigenvalues:\n",
      "   [3426.18712684 3426.37707886 3427.28506115 3427.35078378 3427.39010865\n",
      " 3427.40270743 3427.5018733  3427.69513095]\n",
      "   Imag part of computed eigenvalues:\n",
      "   [-0.0800325  -0.06757883 -0.07297227 -0.07953802 -0.08174564 -0.08217988\n",
      " -0.07374256 -0.07660079]\n",
      "   Relative Hausdorff distance from prior iterate: 1.424e-05\n",
      "\n",
      " ITERATION 6 with 8 vectors and 8 left vectors\n",
      "   During kernel cleaning abs(g):\n",
      "   [7.6 1.2 0.2 0.8 1.3 1.1 0.1 0. ]\n",
      "   Real part of computed eigenvalues:\n",
      "   [3426.18994184 3426.37708166 3427.28506115 3427.35078378 3427.39010865\n",
      " 3427.40270743 3427.50187331 3427.68967204]\n",
      "   Imag part of computed eigenvalues:\n",
      "   [-0.08116349 -0.06757546 -0.07297227 -0.07953802 -0.08174564 -0.08217988\n",
      " -0.07374258 -0.0642633 ]\n",
      "   Relative Hausdorff distance from prior iterate: 3.937e-06\n",
      "\n",
      " ITERATION 7 with 8 vectors and 8 left vectors\n",
      "   During kernel cleaning abs(g):\n",
      "   [2.7e-04 2.4e-04 6.4e-05 7.0e-06 1.4e-06 2.7e-07 2.1e-08 4.6e-07]\n",
      "   Real part of computed eigenvalues:\n",
      "   [3426.19260522 3426.37708184 3427.28506115 3427.35078378 3427.39010865\n",
      " 3427.40270743 3427.50187331 3427.69068632]\n",
      "   Imag part of computed eigenvalues:\n",
      "   [-0.08216161 -0.06757498 -0.07297227 -0.07953802 -0.08174564 -0.08217988\n",
      " -0.07374258 -0.06769199]\n",
      "   Relative Hausdorff distance from prior iterate: 1.043e-06\n",
      "\n",
      " ITERATION 8 with 8 vectors and 8 left vectors\n",
      "   During kernel cleaning abs(g):\n",
      "   [7.6 1.2 0.2 0.8 1.3 1.1 0.1 0. ]\n",
      "   Real part of computed eigenvalues:\n",
      "   [3426.19503184 3426.37708183 3427.28506115 3427.35078378 3427.39010865\n",
      " 3427.40270743 3427.50187331 3427.69053343]\n",
      "   Imag part of computed eigenvalues:\n",
      "   [-0.08292721 -0.06757493 -0.07297227 -0.07953802 -0.08174564 -0.08217988\n",
      " -0.07374258 -0.0667757 ]\n",
      "   Relative Hausdorff distance from prior iterate: 7.425e-07\n",
      "\n",
      "\n",
      "***FEAST did not converge!\n",
      "\n",
      "============= FEAST iterations done =============\n",
      "Results:\n",
      " Z²: [3426.19503184-0.08292721j 3427.69053343-0.0667757j\n",
      " 3426.37708183-0.06757493j 3427.50187331-0.07374258j\n",
      " 3427.28506115-0.07297227j 3427.35078378-0.07953802j\n",
      " 3427.40270743-0.08217988j 3427.39010865-0.08174564j]\n",
      " beta: [3491136.53481749+0.4331672j  3490184.46949469-9.85048579j\n",
      " 3491020.6521548 -9.33936999j 3490304.58849594-5.41444278j\n",
      " 3490442.62666679-5.9046505j  3490400.78350203-1.72452913j\n",
      " 3490367.7252808 -0.04254611j 3490375.74656884-0.31901511j]\n",
      " CL dB/m: [  3.76244246 -85.56023248 -81.12073706 -47.02925243 -51.28714259\n",
      " -14.9790697   -0.36955081  -2.77093001]\n"
     ]
    }
   ],
   "source": [
    "beta, zs, Es, phis,_ = B.leakyvecmodes(p=p, ctr=center, rad=radius,\n",
    "                                       alpha=0,\n",
    "#                                        rhoinv=.9,\n",
    "#                                        quadrule='ellipse_trapez_shift',\n",
    "                                       nspan=nspan, npts=npts,\n",
    "                                       niterations=8, nrestarts=0,\n",
    "                                       stop_tol=1e-11)"
   ]
  },
  {
   "cell_type": "code",
   "execution_count": 117,
   "id": "74b3f882",
   "metadata": {
    "scrolled": false
   },
   "outputs": [
    {
     "data": {
      "application/vnd.jupyter.widget-view+json": {
       "model_id": "8131548f18e04e1aafd7dc457b09e775",
       "version_major": 2,
       "version_minor": 0
      },
      "text/plain": [
       "WebGuiWidget(value={'ngsolve_version': '6.2.2203-56-g47f483033', 'mesh_dim': 2, 'order2d': 2, 'order3d': 2, 'd…"
      ]
     },
     "metadata": {},
     "output_type": "display_data"
    },
    {
     "data": {
      "application/vnd.jupyter.widget-view+json": {
       "model_id": "6372ab19c19f4fe1b174d2752bfa008d",
       "version_major": 2,
       "version_minor": 0
      },
      "text/plain": [
       "WebGuiWidget(value={'ngsolve_version': '6.2.2203-56-g47f483033', 'mesh_dim': 2, 'order2d': 2, 'order3d': 2, 'd…"
      ]
     },
     "metadata": {},
     "output_type": "display_data"
    },
    {
     "data": {
      "application/vnd.jupyter.widget-view+json": {
       "model_id": "04ac90b9a9b2465d8bc212ed5dde2591",
       "version_major": 2,
       "version_minor": 0
      },
      "text/plain": [
       "WebGuiWidget(value={'ngsolve_version': '6.2.2203-56-g47f483033', 'mesh_dim': 2, 'order2d': 2, 'order3d': 2, 'd…"
      ]
     },
     "metadata": {},
     "output_type": "display_data"
    },
    {
     "data": {
      "application/vnd.jupyter.widget-view+json": {
       "model_id": "34fd99f181124f0c8e935c558ea7b72d",
       "version_major": 2,
       "version_minor": 0
      },
      "text/plain": [
       "WebGuiWidget(value={'ngsolve_version': '6.2.2203-56-g47f483033', 'mesh_dim': 2, 'order2d': 2, 'order3d': 2, 'd…"
      ]
     },
     "metadata": {},
     "output_type": "display_data"
    },
    {
     "data": {
      "application/vnd.jupyter.widget-view+json": {
       "model_id": "1d927f09f7874cad86ab36fe2590efe8",
       "version_major": 2,
       "version_minor": 0
      },
      "text/plain": [
       "WebGuiWidget(value={'ngsolve_version': '6.2.2203-56-g47f483033', 'mesh_dim': 2, 'order2d': 2, 'order3d': 2, 'd…"
      ]
     },
     "metadata": {},
     "output_type": "display_data"
    },
    {
     "data": {
      "application/vnd.jupyter.widget-view+json": {
       "model_id": "d1c507e645054543843d67ab36d41829",
       "version_major": 2,
       "version_minor": 0
      },
      "text/plain": [
       "WebGuiWidget(value={'ngsolve_version': '6.2.2203-56-g47f483033', 'mesh_dim': 2, 'order2d': 2, 'order3d': 2, 'd…"
      ]
     },
     "metadata": {},
     "output_type": "display_data"
    },
    {
     "data": {
      "application/vnd.jupyter.widget-view+json": {
       "model_id": "380108c65dc041ccabbd0f3df0a64cb8",
       "version_major": 2,
       "version_minor": 0
      },
      "text/plain": [
       "WebGuiWidget(value={'ngsolve_version': '6.2.2203-56-g47f483033', 'mesh_dim': 2, 'order2d': 2, 'order3d': 2, 'd…"
      ]
     },
     "metadata": {},
     "output_type": "display_data"
    },
    {
     "data": {
      "application/vnd.jupyter.widget-view+json": {
       "model_id": "0581a83814054708a14a6bca61794d54",
       "version_major": 2,
       "version_minor": 0
      },
      "text/plain": [
       "WebGuiWidget(value={'ngsolve_version': '6.2.2203-56-g47f483033', 'mesh_dim': 2, 'order2d': 2, 'order3d': 2, 'd…"
      ]
     },
     "metadata": {},
     "output_type": "display_data"
    }
   ],
   "source": [
    "for e in Es:\n",
    "    Draw(e.real, B.mesh, vectors={'grid_size' : 200})"
   ]
  },
  {
   "cell_type": "code",
   "execution_count": 110,
   "id": "a5a082a3",
   "metadata": {
    "scrolled": false
   },
   "outputs": [
    {
     "data": {
      "application/vnd.jupyter.widget-view+json": {
       "model_id": "341be0fa83bf466498472c0a2f6fc40f",
       "version_major": 2,
       "version_minor": 0
      },
      "text/plain": [
       "WebGuiWidget(value={'ngsolve_version': '6.2.2203-56-g47f483033', 'mesh_dim': 2, 'order2d': 2, 'order3d': 2, 'd…"
      ]
     },
     "metadata": {},
     "output_type": "display_data"
    },
    {
     "data": {
      "application/vnd.jupyter.widget-view+json": {
       "model_id": "a1f1e91ee10a4b2abf51ec5518dbb5f8",
       "version_major": 2,
       "version_minor": 0
      },
      "text/plain": [
       "WebGuiWidget(value={'ngsolve_version': '6.2.2203-56-g47f483033', 'mesh_dim': 2, 'order2d': 2, 'order3d': 2, 'd…"
      ]
     },
     "metadata": {},
     "output_type": "display_data"
    },
    {
     "data": {
      "application/vnd.jupyter.widget-view+json": {
       "model_id": "73991b9fce094cb8b641dac5a86de56f",
       "version_major": 2,
       "version_minor": 0
      },
      "text/plain": [
       "WebGuiWidget(value={'ngsolve_version': '6.2.2203-56-g47f483033', 'mesh_dim': 2, 'order2d': 2, 'order3d': 2, 'd…"
      ]
     },
     "metadata": {},
     "output_type": "display_data"
    },
    {
     "data": {
      "application/vnd.jupyter.widget-view+json": {
       "model_id": "af00ee24638a470a88dce650529273d8",
       "version_major": 2,
       "version_minor": 0
      },
      "text/plain": [
       "WebGuiWidget(value={'ngsolve_version': '6.2.2203-56-g47f483033', 'mesh_dim': 2, 'order2d': 2, 'order3d': 2, 'd…"
      ]
     },
     "metadata": {},
     "output_type": "display_data"
    },
    {
     "data": {
      "application/vnd.jupyter.widget-view+json": {
       "model_id": "eb17c03ae56544559ae2f144d91a4c69",
       "version_major": 2,
       "version_minor": 0
      },
      "text/plain": [
       "WebGuiWidget(value={'ngsolve_version': '6.2.2203-56-g47f483033', 'mesh_dim': 2, 'order2d': 2, 'order3d': 2, 'd…"
      ]
     },
     "metadata": {},
     "output_type": "display_data"
    },
    {
     "data": {
      "application/vnd.jupyter.widget-view+json": {
       "model_id": "90aaaaa98a124f758723abc4bdad09c0",
       "version_major": 2,
       "version_minor": 0
      },
      "text/plain": [
       "WebGuiWidget(value={'ngsolve_version': '6.2.2203-56-g47f483033', 'mesh_dim': 2, 'order2d': 2, 'order3d': 2, 'd…"
      ]
     },
     "metadata": {},
     "output_type": "display_data"
    },
    {
     "data": {
      "application/vnd.jupyter.widget-view+json": {
       "model_id": "9998806ef5434c7fbdd57c3984bffd67",
       "version_major": 2,
       "version_minor": 0
      },
      "text/plain": [
       "WebGuiWidget(value={'ngsolve_version': '6.2.2203-56-g47f483033', 'mesh_dim': 2, 'order2d': 2, 'order3d': 2, 'd…"
      ]
     },
     "metadata": {},
     "output_type": "display_data"
    },
    {
     "data": {
      "application/vnd.jupyter.widget-view+json": {
       "model_id": "15115a27f0b54dbc98559ecbd77ff0e1",
       "version_major": 2,
       "version_minor": 0
      },
      "text/plain": [
       "WebGuiWidget(value={'ngsolve_version': '6.2.2203-56-g47f483033', 'mesh_dim': 2, 'order2d': 2, 'order3d': 2, 'd…"
      ]
     },
     "metadata": {},
     "output_type": "display_data"
    },
    {
     "data": {
      "application/vnd.jupyter.widget-view+json": {
       "model_id": "648b3083895f4a43b7244230c5308dc3",
       "version_major": 2,
       "version_minor": 0
      },
      "text/plain": [
       "WebGuiWidget(value={'ngsolve_version': '6.2.2203-56-g47f483033', 'mesh_dim': 2, 'order2d': 2, 'order3d': 2, 'd…"
      ]
     },
     "metadata": {},
     "output_type": "display_data"
    },
    {
     "data": {
      "application/vnd.jupyter.widget-view+json": {
       "model_id": "e4e4afc0032f44c584658d755454cd20",
       "version_major": 2,
       "version_minor": 0
      },
      "text/plain": [
       "WebGuiWidget(value={'ngsolve_version': '6.2.2203-56-g47f483033', 'mesh_dim': 2, 'order2d': 2, 'order3d': 2, 'd…"
      ]
     },
     "metadata": {},
     "output_type": "display_data"
    }
   ],
   "source": [
    "for phi in phis:\n",
    "    Draw(1e1*phi, B.mesh)"
   ]
  },
  {
   "cell_type": "code",
   "execution_count": 113,
   "id": "9154d617",
   "metadata": {
    "scrolled": false
   },
   "outputs": [
    {
     "data": {
      "application/vnd.jupyter.widget-view+json": {
       "model_id": "90c1fbae3da94c6a9c4d8d6105dd3ec3",
       "version_major": 2,
       "version_minor": 0
      },
      "text/plain": [
       "WebGuiWidget(value={'ngsolve_version': '6.2.2203-56-g47f483033', 'mesh_dim': 2, 'order2d': 2, 'order3d': 2, 'd…"
      ]
     },
     "metadata": {},
     "output_type": "display_data"
    },
    {
     "data": {
      "application/vnd.jupyter.widget-view+json": {
       "model_id": "8b8600ccd5b54174b6ad9a0b8e1bb529",
       "version_major": 2,
       "version_minor": 0
      },
      "text/plain": [
       "WebGuiWidget(value={'ngsolve_version': '6.2.2203-56-g47f483033', 'mesh_dim': 2, 'order2d': 2, 'order3d': 2, 'd…"
      ]
     },
     "metadata": {},
     "output_type": "display_data"
    },
    {
     "data": {
      "application/vnd.jupyter.widget-view+json": {
       "model_id": "169b0cf63bb14345a0b5be844af1c1a0",
       "version_major": 2,
       "version_minor": 0
      },
      "text/plain": [
       "WebGuiWidget(value={'ngsolve_version': '6.2.2203-56-g47f483033', 'mesh_dim': 2, 'order2d': 2, 'order3d': 2, 'd…"
      ]
     },
     "metadata": {},
     "output_type": "display_data"
    },
    {
     "data": {
      "application/vnd.jupyter.widget-view+json": {
       "model_id": "9df5462f035e41969934c67a10d994c5",
       "version_major": 2,
       "version_minor": 0
      },
      "text/plain": [
       "WebGuiWidget(value={'ngsolve_version': '6.2.2203-56-g47f483033', 'mesh_dim': 2, 'order2d': 2, 'order3d': 2, 'd…"
      ]
     },
     "metadata": {},
     "output_type": "display_data"
    },
    {
     "data": {
      "application/vnd.jupyter.widget-view+json": {
       "model_id": "04425b2281664206b05b3b5f1ed94dca",
       "version_major": 2,
       "version_minor": 0
      },
      "text/plain": [
       "WebGuiWidget(value={'ngsolve_version': '6.2.2203-56-g47f483033', 'mesh_dim': 2, 'order2d': 2, 'order3d': 2, 'd…"
      ]
     },
     "metadata": {},
     "output_type": "display_data"
    },
    {
     "data": {
      "application/vnd.jupyter.widget-view+json": {
       "model_id": "b4b365a723744708af6c5a5afa1175c4",
       "version_major": 2,
       "version_minor": 0
      },
      "text/plain": [
       "WebGuiWidget(value={'ngsolve_version': '6.2.2203-56-g47f483033', 'mesh_dim': 2, 'order2d': 2, 'order3d': 2, 'd…"
      ]
     },
     "metadata": {},
     "output_type": "display_data"
    },
    {
     "data": {
      "application/vnd.jupyter.widget-view+json": {
       "model_id": "7c68256ad5414f2aa096489a10a2a759",
       "version_major": 2,
       "version_minor": 0
      },
      "text/plain": [
       "WebGuiWidget(value={'ngsolve_version': '6.2.2203-56-g47f483033', 'mesh_dim': 2, 'order2d': 2, 'order3d': 2, 'd…"
      ]
     },
     "metadata": {},
     "output_type": "display_data"
    },
    {
     "data": {
      "application/vnd.jupyter.widget-view+json": {
       "model_id": "7bf0bb4c175e432ea1e2e62a8ffe3aa4",
       "version_major": 2,
       "version_minor": 0
      },
      "text/plain": [
       "WebGuiWidget(value={'ngsolve_version': '6.2.2203-56-g47f483033', 'mesh_dim': 2, 'order2d': 2, 'order3d': 2, 'd…"
      ]
     },
     "metadata": {},
     "output_type": "display_data"
    },
    {
     "data": {
      "application/vnd.jupyter.widget-view+json": {
       "model_id": "a873451f99cf484c8ce917b956fc970e",
       "version_major": 2,
       "version_minor": 0
      },
      "text/plain": [
       "WebGuiWidget(value={'ngsolve_version': '6.2.2203-56-g47f483033', 'mesh_dim': 2, 'order2d': 2, 'order3d': 2, 'd…"
      ]
     },
     "metadata": {},
     "output_type": "display_data"
    },
    {
     "data": {
      "application/vnd.jupyter.widget-view+json": {
       "model_id": "49f32e7110004106b36ed57e72bf77fb",
       "version_major": 2,
       "version_minor": 0
      },
      "text/plain": [
       "WebGuiWidget(value={'ngsolve_version': '6.2.2203-56-g47f483033', 'mesh_dim': 2, 'order2d': 2, 'order3d': 2, 'd…"
      ]
     },
     "metadata": {},
     "output_type": "display_data"
    }
   ],
   "source": [
    "for e in Es:\n",
    "    Draw(1e2*e.real[0], B.mesh)"
   ]
  },
  {
   "cell_type": "code",
   "execution_count": null,
   "id": "3a7e1eab",
   "metadata": {},
   "outputs": [],
   "source": []
  }
 ],
 "metadata": {
  "kernelspec": {
   "display_name": "Python 3 (ipykernel)",
   "language": "python",
   "name": "python3"
  },
  "language_info": {
   "codemirror_mode": {
    "name": "ipython",
    "version": 3
   },
   "file_extension": ".py",
   "mimetype": "text/x-python",
   "name": "python",
   "nbconvert_exporter": "python",
   "pygments_lexer": "ipython3",
   "version": "3.8.10"
  }
 },
 "nbformat": 4,
 "nbformat_minor": 5
}
