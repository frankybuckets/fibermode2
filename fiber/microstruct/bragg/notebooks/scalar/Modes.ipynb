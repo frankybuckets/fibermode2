{
 "cells": [
  {
   "cell_type": "markdown",
   "id": "720129b6",
   "metadata": {},
   "source": [
    "\n",
    "# Glass Ring in vacuum\n",
    "\n",
    "Same as seen in adapt.py"
   ]
  },
  {
   "cell_type": "code",
   "execution_count": null,
   "id": "664ce3d7",
   "metadata": {},
   "outputs": [],
   "source": [
    "import numpy as np\n",
    "\n",
    "from fiberamp.fiber.microstruct.bragg import BraggScalar, Bragg\n",
    "from fiberamp.fiber.microstruct.bragg import plotlogf\n",
    "from ngsolve.webgui import Draw\n",
    "from ngsolve import CF\n",
    "from scipy.optimize import newton\n"
   ]
  },
  {
   "cell_type": "code",
   "execution_count": null,
   "id": "9d706ddc",
   "metadata": {},
   "outputs": [],
   "source": [
    "n_air = 1\n",
    "n_glass = 1.44\n",
    "\n",
    "ns = [lambda x:n_air, lambda x:n_glass, lambda x:n_air]\n",
    "\n",
    "ts = [5e-05, 1e-5, 5e-05]\n",
    "\n",
    "mats = ['air', 'glass', 'air']\n",
    "\n",
    "maxhs = [.1,.01, .1]\n",
    "wl = 1.2e-06\n",
    "scale = ts[0]"
   ]
  },
  {
   "cell_type": "code",
   "execution_count": null,
   "id": "f249bc35",
   "metadata": {},
   "outputs": [],
   "source": [
    "A = BraggScalar(ts=ts, mats=mats, ns=ns, maxhs=maxhs, wl=wl, scale=scale)\n"
   ]
  },
  {
   "cell_type": "code",
   "execution_count": null,
   "id": "6481c95b",
   "metadata": {},
   "outputs": [],
   "source": [
    "Draw(A.mesh)"
   ]
  },
  {
   "cell_type": "code",
   "execution_count": null,
   "id": "7017a529",
   "metadata": {},
   "outputs": [],
   "source": [
    "k_low = A.k0 * A.ns[0] * A.scale\n",
    "k_high = A.k0 * A.ns[1] * A.scale\n",
    "k_low, k_high"
   ]
  },
  {
   "cell_type": "code",
   "execution_count": null,
   "id": "cab9eb3d",
   "metadata": {},
   "outputs": [],
   "source": [
    "outer = 'h2'\n",
    "Ktype = 'kappa'\n",
    "nu = 0"
   ]
  },
  {
   "cell_type": "code",
   "execution_count": null,
   "id": "8f45255c",
   "metadata": {},
   "outputs": [],
   "source": [
    "plotlogf(A.determinant,.9999*k_low,1.00001*k_low, -.01,.01, nu, outer, Ktype,\n",
    "         iref=100, rref=100, levels=100, figsize=(10,6))"
   ]
  },
  {
   "cell_type": "code",
   "execution_count": null,
   "id": "f5d0ebf1",
   "metadata": {},
   "outputs": [],
   "source": [
    "guess = np.array(.99995*k_low)\n",
    "\n",
    "beta1 = newton(A.determinant, guess, args=(nu, outer, Ktype), tol = 1e-15)\n",
    "\n",
    "print(\"Scaled beta: \", beta1, \". Residual of determinant: \", abs(A.determinant(beta1, nu, outer, Ktype)))\n"
   ]
  },
  {
   "cell_type": "markdown",
   "id": "cd4c2e9e",
   "metadata": {},
   "source": [
    "# Bragg Scalar Function"
   ]
  },
  {
   "cell_type": "code",
   "execution_count": null,
   "id": "0253bcf4",
   "metadata": {},
   "outputs": [],
   "source": [
    "U = A.all_fields(beta1, nu, outer, Ktype)"
   ]
  },
  {
   "cell_type": "code",
   "execution_count": null,
   "id": "b97fc284",
   "metadata": {},
   "outputs": [],
   "source": [
    "Draw(1e1*U, A.mesh, min=-3, max=10)"
   ]
  },
  {
   "cell_type": "markdown",
   "id": "7c1a2ec3",
   "metadata": {},
   "source": [
    "### 1D"
   ]
  },
  {
   "cell_type": "code",
   "execution_count": null,
   "id": "4a8a3aed",
   "metadata": {},
   "outputs": [],
   "source": [
    "u = A.fields_matplot(beta1, nu, outer, Ktype)"
   ]
  },
  {
   "cell_type": "code",
   "execution_count": null,
   "id": "7cb0a9ea",
   "metadata": {},
   "outputs": [],
   "source": [
    "%matplotlib notebook\n",
    "fig, ax = A.plot1D(u['Ez_rad'], double_r=True, rlist=[400,10000,400], nu=nu, maxscale=True,\n",
    "                  linewidth=1.5, color='k')\n",
    "Rhos = A.rhos/A.scale\n",
    "\n",
    "ax.arrow(0,0, Rhos[-1], 0, color='lightgray', width=.001, \n",
    "         head_width=.03, head_length=.1)\n",
    "ax.arrow(0,0, -Rhos[-1], 0, color='lightgray', width=.001, \n",
    "         head_width=.03, head_length=.1)\n",
    "\n",
    "ax.set_frame_on(False)\n",
    "ax.set_xticks([])\n",
    "ax.set_yticks([])\n",
    "fig.tight_layout()\n",
    "m, M = ax.get_ylim()\n",
    "for r in Rhos:\n",
    "    ax.plot([r,r], [m, M], 'orange', linewidth=1.2, linestyle=':')\n",
    "    ax.plot([-r,-r], [m, M], 'orange', linewidth=1.2, linestyle=':')\n",
    "ax.set_xlabel('\\nDistance from Fiber Center')\n"
   ]
  },
  {
   "cell_type": "markdown",
   "id": "de149c08",
   "metadata": {},
   "source": [
    "# Numerical"
   ]
  },
  {
   "cell_type": "code",
   "execution_count": null,
   "id": "d7663608",
   "metadata": {},
   "outputs": [],
   "source": [
    "ns = [lambda x:n_air, lambda x:n_glass, lambda x:n_air,  lambda x:n_air]\n",
    "\n",
    "ts = [5e-05, 1e-5, 2e-05, 2e-05]\n",
    "\n",
    "mats = ['air', 'glass', 'air', 'Outer']\n",
    "\n",
    "maxhs = [.1,.01, .08, .1]\n",
    "wl=1.2e-06\n",
    "scale = ts[0]\n",
    "B = Bragg(ts=ts, mats=mats, ns=ns, maxhs=maxhs, wl=wl, scale=scale)\n"
   ]
  },
  {
   "cell_type": "code",
   "execution_count": null,
   "id": "071a5738",
   "metadata": {},
   "outputs": [],
   "source": [
    "Draw(B.mesh)"
   ]
  },
  {
   "cell_type": "code",
   "execution_count": null,
   "id": "b836bab5",
   "metadata": {},
   "outputs": [],
   "source": [
    "Z2 = B.sqrZfrom(beta1/A.scale)\n",
    "Z = Z2**.5\n",
    "Z"
   ]
  },
  {
   "cell_type": "code",
   "execution_count": null,
   "id": "46fc99a1",
   "metadata": {},
   "outputs": [],
   "source": [
    "center = Z\n",
    "radius = 0.1\n",
    "\n",
    "p = 1\n",
    "z, y, yl, beta, P, _ = B.leakymode(p,nspan=4,npts=4,\n",
    "                                    rad=radius,\n",
    "                                    ctr=center,\n",
    "#                                     rhoinv=.9,\n",
    "#                                     quadrule='ellipse_trapez_shift',\n",
    "                                    alpha=5,\n",
    "                                    niterations=5, nrestarts=0)"
   ]
  },
  {
   "cell_type": "code",
   "execution_count": null,
   "id": "40c3eb08",
   "metadata": {},
   "outputs": [],
   "source": [
    "for f in y:\n",
    "    Draw(1e3*f, B.mesh)"
   ]
  },
  {
   "cell_type": "markdown",
   "id": "535e9ec8",
   "metadata": {},
   "source": [
    "# Resonant mode ?\n",
    "\n",
    "Would be good to do the wavelength study on this and see if it still has spikes.  It does, "
   ]
  },
  {
   "cell_type": "code",
   "execution_count": null,
   "id": "c6b1400b",
   "metadata": {},
   "outputs": [],
   "source": [
    "n_air = 1\n",
    "n_glass = 1.44\n",
    "\n",
    "ns = [lambda x:n_air, lambda x:n_glass, lambda x:n_air]\n",
    "\n",
    "ts = [5e-05, 1e-5, 5e-05]\n",
    "\n",
    "mats = ['air', 'glass', 'air']\n",
    "scale = ts[0]\n",
    "maxhs = [.1,.01, .1]\n",
    "wl = 1.2e-06\n",
    "scale = ts[0]"
   ]
  },
  {
   "cell_type": "code",
   "execution_count": null,
   "id": "d3eb2c9b",
   "metadata": {},
   "outputs": [],
   "source": [
    "# Formula for loss spikes from article\n",
    "\n",
    "ms = np.arange(11,15,1)\n",
    "\n",
    "n1 = A.ns[0]  # Inner (core) index\n",
    "n2 = A.ns[1]  # Cladding index\n",
    "\n",
    "d = ts[1]\n",
    "\n",
    "ls = (2 * n1 * d / ms * ((n2/n1)**2 - 1)**.5)  # when n2 depends on ls, need solver\n",
    "ls"
   ]
  },
  {
   "cell_type": "code",
   "execution_count": null,
   "id": "a4eab486",
   "metadata": {},
   "outputs": [],
   "source": [
    "wl_res= 1.594e-06  # can't get convergence directly at ls[2], so we take wl very near it"
   ]
  },
  {
   "cell_type": "code",
   "execution_count": null,
   "id": "4b8026fd",
   "metadata": {},
   "outputs": [],
   "source": [
    "C = BraggScalar(ts=ts, mats=mats, ns=ns, maxhs=maxhs, wl=wl_res)\n",
    "\n"
   ]
  },
  {
   "cell_type": "code",
   "execution_count": null,
   "id": "99a69e54",
   "metadata": {},
   "outputs": [],
   "source": [
    "k_low = C.k0 * C.ns[0] * C.scale\n",
    "k_low"
   ]
  },
  {
   "cell_type": "code",
   "execution_count": null,
   "id": "24b4ad87",
   "metadata": {},
   "outputs": [],
   "source": [
    "outer = 'h2'\n",
    "Ktype = 'kappa'\n",
    "nu = 0"
   ]
  },
  {
   "cell_type": "code",
   "execution_count": null,
   "id": "39d411eb",
   "metadata": {},
   "outputs": [],
   "source": [
    "def better_det_vec(beta, nu=1, outer='h2', Ktype='kappa'): # for plotlogf\n",
    "    k_low = C.k0 * C.ns[0] * C.scale\n",
    "    out = C.determinant(beta, nu, outer, Ktype)\n",
    "    out[np.where(beta.real>=k_low)] += 1000\n",
    "    return out\n",
    "    \n",
    "def better_det_scalar(beta, nu=1, outer='h2', Ktype='kappa'): # for newton method\n",
    "    k_low = C.k0 * C.ns[0] * C.scale        \n",
    "    out = C.determinant(beta, nu, outer, Ktype) \n",
    "    if beta.real>=k_low:\n",
    "        out += 1000\n",
    "    return out"
   ]
  },
  {
   "cell_type": "code",
   "execution_count": null,
   "id": "e7827090",
   "metadata": {},
   "outputs": [],
   "source": [
    "%matplotlib notebook\n",
    "plotlogf(better_det_vec, .99985*k_low, 1.00001*k_low, -.025,.01, nu, outer, Ktype,\n",
    "         iref=100, rref=100, levels=100)"
   ]
  },
  {
   "cell_type": "code",
   "execution_count": null,
   "id": "30930d86",
   "metadata": {},
   "outputs": [],
   "source": [
    "guess = np.array(.99992*k_low-.0075j)\n",
    "\n",
    "beta1 = newton(better_det_scalar, guess, args=(nu, outer, Ktype), tol = 1e-14, maxiter=1000)\n",
    "\n",
    "print(\"Scaled beta: \", beta1, \". Residual of determinant: \", abs(better_det_scalar(beta1, nu, outer, Ktype)))\n"
   ]
  },
  {
   "cell_type": "markdown",
   "id": "3cd9e129",
   "metadata": {},
   "source": [
    "# Bragg Exact Fields"
   ]
  },
  {
   "cell_type": "code",
   "execution_count": null,
   "id": "efc7b489",
   "metadata": {},
   "outputs": [],
   "source": [
    "UB = C.all_fields(beta1, nu, outer, Ktype)"
   ]
  },
  {
   "cell_type": "markdown",
   "id": "636e72dc",
   "metadata": {},
   "source": [
    "### Electric"
   ]
  },
  {
   "cell_type": "code",
   "execution_count": null,
   "id": "e60caf2f",
   "metadata": {},
   "outputs": [],
   "source": [
    "Draw(UB, C.mesh)"
   ]
  },
  {
   "cell_type": "code",
   "execution_count": null,
   "id": "70870099",
   "metadata": {},
   "outputs": [],
   "source": [
    "fsB = C.fields_matplot(beta1, nu, outer, Ktype)"
   ]
  },
  {
   "cell_type": "code",
   "execution_count": null,
   "id": "74377988",
   "metadata": {},
   "outputs": [],
   "source": [
    "%matplotlib notebook\n",
    "fig, ax = C.plot1D(fsB['Ez_rad'], double_r=True, rlist=[10000,100000,10000], nu=nu, maxscale=True,\n",
    "                  linewidth=1.5, color='k', figsize=(12,8))\n",
    "Rhos = C.rhos/C.scale\n",
    "\n",
    "ax.arrow(0,0, Rhos[-1], 0, color='lightgray', width=.001, \n",
    "         head_width=.03, head_length=.1)\n",
    "ax.arrow(0,0, -Rhos[-1], 0, color='lightgray', width=.001, \n",
    "         head_width=.03, head_length=.1)\n",
    "\n",
    "ax.set_frame_on(False)\n",
    "ax.set_xticks([])\n",
    "ax.set_yticks([])\n",
    "fig.tight_layout()\n",
    "m, M = ax.get_ylim()\n",
    "for r in Rhos:\n",
    "    ax.plot([r,r], [m, M], 'orange', linewidth=1.2, linestyle=':')\n",
    "    ax.plot([-r,-r], [m, M], 'orange', linewidth=1.2, linestyle=':')\n",
    "ax.set_xlabel('\\nDistance from Fiber Center')\n"
   ]
  }
 ],
 "metadata": {
  "kernelspec": {
   "display_name": "Python 3 (ipykernel)",
   "language": "python",
   "name": "python3"
  },
  "language_info": {
   "codemirror_mode": {
    "name": "ipython",
    "version": 3
   },
   "file_extension": ".py",
   "mimetype": "text/x-python",
   "name": "python",
   "nbconvert_exporter": "python",
   "pygments_lexer": "ipython3",
   "version": "3.8.10"
  }
 },
 "nbformat": 4,
 "nbformat_minor": 5
}
