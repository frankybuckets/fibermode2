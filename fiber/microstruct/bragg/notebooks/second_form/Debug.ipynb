{
 "cells": [
  {
   "cell_type": "markdown",
   "id": "720129b6",
   "metadata": {},
   "source": [
    "\n",
    "# Trying out second form of PDE\n",
    "\n",
    "Implemented in modesolver as leakymode2 vecmodesystem2.  Debugging here."
   ]
  },
  {
   "cell_type": "code",
   "execution_count": 4,
   "id": "664ce3d7",
   "metadata": {},
   "outputs": [],
   "source": [
    "import numpy as np\n",
    "import ngsolve as ng\n",
    "\n",
    "from fiberamp.fiber.microstruct.bragg import Bragg\n",
    "from ngsolve.webgui import Draw\n",
    "from ngsolve import CF\n",
    "\n",
    "from pyeigfeast import NGvecs, SpectralProjNGGeneral"
   ]
  },
  {
   "cell_type": "code",
   "execution_count": 118,
   "id": "1829005b",
   "metadata": {},
   "outputs": [
    {
     "name": "stdout",
     "output_type": "stream",
     "text": [
      "ModeSolver: Checking if mesh has required regions\n",
      "Mesh has  18030  elements,  9134  points,  and  27163  edges.\n"
     ]
    }
   ],
   "source": [
    "n_air = 1.00027717\n",
    "n_glass = 1.4388164768221814\n",
    "ts = [15*2.7183333333333333e-6, 15*2/3*1e-6, 15*1e-6]\n",
    "ns = [lambda x: n_air, lambda x: n_glass, lambda x: n_glass]\n",
    "mats = ['air', 'glass', 'Outer']\n",
    "maxhs = [.1, .015, .025]\n",
    "scale = 15e-6\n",
    "i=0\n",
    "wls = np.linspace(1.4, 2, 301) * 1e-6\n",
    "\n",
    "A = Bragg(ts=ts, scale=scale, maxhs=maxhs, ns=ns, mats=mats, wl=wls[i])\n"
   ]
  },
  {
   "cell_type": "code",
   "execution_count": 119,
   "id": "311584a4",
   "metadata": {},
   "outputs": [],
   "source": [
    "p = 3\n",
    "alpha = .2\n",
    "\n",
    "A.mesh.SetPML(ng.pml.Radial(rad=A.R, alpha=alpha*1j, origin=(0, 0)),'Outer')\n",
    "\n",
    "k2 = A.k ** 2 * A.L**2 * A.index * A.index\n",
    "\n",
    "dr = ng.ds(definedon=~A.mesh.Materials('Outer'), skeleton=1)\n",
    "n = ng.specialcf.normal(2)\n",
    "\n",
    "X = ng.HCurl(A.mesh, order=p+1-max(1-p, 0), type1=True,\n",
    "             dirichlet='OuterCircle', dgjumps=True, complex=True)\n",
    "Y = ng.H1(A.mesh, order=p+1, dgjumps=True, complex=True)\n",
    "XY = ng.FESpace([X,Y])\n",
    "\n",
    "(E, phi), (v, psi) = XY.TnT()\n",
    "\n",
    "AA = ng.BilinearForm(XY)\n",
    "AA += (ng.curl(E) * ng.curl(v) - k2 * E * v) * ng.dx\n",
    "AA += ng.grad(phi) * v * ng.dx\n",
    "AA += ng.grad(phi) * ng.grad(psi) * ng.dx\n",
    "AA += -k2 * phi * psi * ng.dx\n",
    "AA += -psi * (ng.grad(phi.Other()) - ng.grad(phi)) * n * dr\n",
    "\n",
    "B= ng.BilinearForm(XY)\n",
    "B += -E * v * ng.dx\n",
    "B += -E * ng.grad(psi) * ng.dx\n",
    "B += psi * (E.Other() - E) * n * dr\n",
    "\n",
    "MM = ng.BilinearForm(XY)\n",
    "MM += (E * v + phi * psi) * ng.dx\n",
    "\n",
    "with ng.TaskManager():\n",
    "    try:\n",
    "        AA.Assemble()\n",
    "        B.Assemble()\n",
    "        MM.Assemble()\n",
    "\n",
    "    except Exception:\n",
    "        print('*** Trying again with larger heap')\n",
    "        ng.SetHeapSize(int(1e9))\n",
    "        AA.Assemble()\n",
    "        B.Assemble()\n",
    "        MM.Assemble()\n"
   ]
  },
  {
   "cell_type": "code",
   "execution_count": 120,
   "id": "d7478f9a",
   "metadata": {},
   "outputs": [],
   "source": [
    "exact_scaled_betas = np.load('/home/pv/local/convergence/bragg_fiber/wavelength/N0/exact_scaled_betas.npy').conjugate()\n",
    "centers = exact_scaled_betas **2"
   ]
  },
  {
   "cell_type": "code",
   "execution_count": 121,
   "id": "916daea4",
   "metadata": {},
   "outputs": [
    {
     "name": "stdout",
     "output_type": "stream",
     "text": [
      "\n",
      "SpectralProj: Setting shifted trapezoidal rule quadrature on circular contour\n",
      "SpectralProj: Radius=0.01, Center=4533.69+0.0126895j\n",
      "\n",
      "SpectralProjNG: Computing resolvents along the contour using\n",
      "                inverse type umfpack\n",
      "SpectralProjNG:   Factorizing at z = +4533.691 +0.023j\n",
      "SpectralProjNG:   Factorizing at z = +4533.691 +0.003j\n"
     ]
    }
   ],
   "source": [
    "ctr = centers[i]\n",
    "rad = .01\n",
    "npts = 2\n",
    "\n",
    "P = SpectralProjNGGeneral(XY, AA.mat, B.mat, radius=rad, center=ctr,\n",
    "                          npts=npts)"
   ]
  },
  {
   "cell_type": "code",
   "execution_count": 122,
   "id": "55d4beda",
   "metadata": {},
   "outputs": [
    {
     "data": {
      "text/plain": [
       "<pyeigfeast.spectralproj.ngs.spectralprojngs.NGvecs at 0x7f18ba10d460>"
      ]
     },
     "execution_count": 122,
     "metadata": {},
     "output_type": "execute_result"
    }
   ],
   "source": [
    "nspan = 2\n",
    "\n",
    "E_phi = NGvecs(XY, nspan, M=MM.mat)\n",
    "E_phi_l = E_phi.create()\n",
    "E_phi.setrandom(seed=1)\n",
    "E_phi_l.setrandom(seed=1)"
   ]
  },
  {
   "cell_type": "code",
   "execution_count": 123,
   "id": "2ef5042b",
   "metadata": {},
   "outputs": [
    {
     "name": "stdout",
     "output_type": "stream",
     "text": [
      "\n",
      "=========== Starting FEAST iterations ===========\n",
      "Trying with 2 vectors:\n",
      "\n",
      " ITERATION 1 with 2 vectors and 2 left vectors\n",
      "   During kernel cleaning abs(g):\n",
      "   [ 2.4 20.5]\n",
      "   Real part of computed eigenvalues:\n",
      "   [4533.69231318 4533.69254513]\n",
      "   Imag part of computed eigenvalues:\n",
      "   [0.0114795  0.01143067]\n",
      "   Relative Hausdorff distance from prior iterate: 2.206e+96\n",
      "\n",
      " ITERATION 2 with 2 vectors and 2 left vectors\n",
      "   During kernel cleaning abs(g):\n",
      "   [0.1 0.1]\n",
      "   Real part of computed eigenvalues:\n",
      "   [4533.69248144 4533.69249693]\n",
      "   Imag part of computed eigenvalues:\n",
      "   [0.01136122 0.0114473 ]\n",
      "   Relative Hausdorff distance from prior iterate: 4.115e-08\n",
      "\n",
      " ITERATION 3 with 2 vectors and 2 left vectors\n",
      "   During kernel cleaning abs(g):\n",
      "   [ 9.2 10.1]\n",
      "   Real part of computed eigenvalues:\n",
      "   [4533.69248144 4533.69249693]\n",
      "   Imag part of computed eigenvalues:\n",
      "   [0.0113612  0.01144731]\n",
      "   Relative Hausdorff distance from prior iterate: 3.574e-12\n",
      "\n",
      "\n",
      "***FEAST converged with:\n",
      "\tRelative Hausdorff distance = 3.574e-12\n",
      "\n",
      "============= FEAST iterations done =============\n"
     ]
    }
   ],
   "source": [
    "beta_sqrs, E_phi, history, E_phi_l = P.feast(E_phi, Yl=E_phi_l, niterations=5, nrestarts=0,\n",
    "                                             hermitian=False)\n",
    "\n",
    "betas = np.sqrt(beta_sqrs, dtype=complex)/A.L\n",
    "Zsqrs = A.sqrZfrom(betas)"
   ]
  },
  {
   "cell_type": "code",
   "execution_count": 126,
   "id": "d59530e6",
   "metadata": {
    "scrolled": false
   },
   "outputs": [
    {
     "data": {
      "application/vnd.jupyter.widget-view+json": {
       "model_id": "718c36be741a4877922876e52da97f8a",
       "version_major": 2,
       "version_minor": 0
      },
      "text/plain": [
       "WebGuiWidget(value={'ngsolve_version': '6.2.2203-56-g47f483033', 'mesh_dim': 2, 'order2d': 2, 'order3d': 2, 'd…"
      ]
     },
     "metadata": {},
     "output_type": "display_data"
    },
    {
     "data": {
      "application/vnd.jupyter.widget-view+json": {
       "model_id": "efc30e9e29244ff587dd378a48d0a8a2",
       "version_major": 2,
       "version_minor": 0
      },
      "text/plain": [
       "WebGuiWidget(value={'ngsolve_version': '6.2.2203-56-g47f483033', 'mesh_dim': 2, 'order2d': 2, 'order3d': 2, 'd…"
      ]
     },
     "metadata": {},
     "output_type": "display_data"
    }
   ],
   "source": [
    "for e in E_phi:\n",
    "    Draw(-1e3*e.components[0].real[0],A.mesh)"
   ]
  },
  {
   "cell_type": "code",
   "execution_count": 127,
   "id": "7b80b1e1",
   "metadata": {
    "scrolled": false
   },
   "outputs": [
    {
     "data": {
      "application/vnd.jupyter.widget-view+json": {
       "model_id": "d3a8fdf9f38841118e33637111e1ae04",
       "version_major": 2,
       "version_minor": 0
      },
      "text/plain": [
       "WebGuiWidget(value={'ngsolve_version': '6.2.2203-56-g47f483033', 'mesh_dim': 2, 'order2d': 2, 'order3d': 2, 'd…"
      ]
     },
     "metadata": {},
     "output_type": "display_data"
    },
    {
     "data": {
      "application/vnd.jupyter.widget-view+json": {
       "model_id": "b98f5dfbe5de44658e5c34965faa09c2",
       "version_major": 2,
       "version_minor": 0
      },
      "text/plain": [
       "WebGuiWidget(value={'ngsolve_version': '6.2.2203-56-g47f483033', 'mesh_dim': 2, 'order2d': 2, 'order3d': 2, 'd…"
      ]
     },
     "metadata": {},
     "output_type": "display_data"
    }
   ],
   "source": [
    "for e in E_phi:\n",
    "    Draw(1e2*e.components[1],A.mesh)"
   ]
  },
  {
   "cell_type": "markdown",
   "id": "2177e3f7",
   "metadata": {},
   "source": [
    "# Automated version hopefully"
   ]
  },
  {
   "cell_type": "code",
   "execution_count": 4,
   "id": "79726bc3",
   "metadata": {},
   "outputs": [
    {
     "name": "stdout",
     "output_type": "stream",
     "text": [
      "No PML.\n",
      "Using FEAST to search for vector leaky modes in\n",
      "circle of radius 0.1 centered at  (4533.691333203114+0.012689514720893767j)\n",
      "assuming not more than 4 modes in this interval\n",
      "System size: 76571  x  76571   Inverse type: umfpack\n",
      "\n",
      "SpectralProj: Setting shifted trapezoidal rule quadrature on circular contour\n",
      "SpectralProj: Radius=0.1, Center=4533.69+0.0126895j\n",
      "SpectralProjNGR:   Making resolvent at z = +4533.691 +0.113j\n",
      "SpectralProjNGR:   Making resolvent at z = +4533.691 -0.087j\n",
      "\n",
      "=========== Starting FEAST iterations ===========\n",
      "Trying with 4 vectors:\n",
      "\n",
      " ITERATION 1 with 4 vectors and 4 left vectors\n",
      "   During kernel cleaning abs(g):\n",
      "   [22367.5  2864.8   120.     39.9]\n",
      "   Real part of computed eigenvalues:\n",
      "   [ -54.34619437  758.40017219 4533.77454804 4557.93593358]\n",
      "   Imag part of computed eigenvalues:\n",
      "   [ -68.03570406 -647.64355426  -80.43214549   35.20012003]\n",
      "   Relative Hausdorff distance from prior iterate: 2.206e+96\n",
      "\n",
      " ITERATION 2 with 4 vectors and 4 left vectors\n",
      "   During kernel cleaning abs(g):\n",
      "   [1.7e+05 2.7e+00 6.4e-03 7.1e-02]\n",
      "   Real part of computed eigenvalues:\n",
      "   [  43.71697873 3228.76977356 4201.51339222 4554.16481259]\n",
      "   Imag part of computed eigenvalues:\n",
      "   [  69.90077258 -495.84137726    5.2772782    20.47501113]\n",
      "   Relative Hausdorff distance from prior iterate: 3.021e-01\n",
      "\n",
      " ITERATION 3 with 4 vectors and 4 left vectors\n",
      "   During kernel cleaning abs(g):\n",
      "   [1.4e+01 4.3e-01 3.9e-03 2.0e-02]\n",
      "   Real part of computed eigenvalues:\n",
      "   [ 329.52018569  437.43825822 4515.63808    4535.75002374]\n",
      "   Imag part of computed eigenvalues:\n",
      "   [-201.74766175  321.22289734  -10.29086594   15.61356126]\n",
      "   Relative Hausdorff distance from prior iterate: 3.034e-01\n",
      "\n",
      " ITERATION 4 with 4 vectors and 4 left vectors\n",
      "   During kernel cleaning abs(g):\n",
      "   [1.7e+09 9.5e+02 8.5e-01 4.8e+00]\n",
      "   Real part of computed eigenvalues:\n",
      "   [ 322.94606277 1710.89854482 4523.49501657 5689.62291712]\n",
      "   Imag part of computed eigenvalues:\n",
      "   [ 19.86678182 -68.43038603  -1.39080675 400.21108496]\n",
      "   Relative Hausdorff distance from prior iterate: 2.937e-01\n",
      "\n",
      "\n",
      "***FEAST did not converge!\n",
      "\n",
      "============= FEAST iterations done =============\n",
      "Results:\n",
      " Z²: [3692.41078309-400.21108496j 4858.53868365  +1.39080675j\n",
      " 9059.08763745 -19.86678182j 7671.1351554  +68.43038603j]\n",
      " beta: [5031744.56077036+176749.42673144j 4483795.57640569   -689.3003075j\n",
      " 1198612.7390994  +36832.91743071j 2758085.10036242 -55135.18219409j]\n",
      " CL dB/m: [1535226.01418055   -5987.18639839  319926.65585107 -478898.10771248]\n"
     ]
    }
   ],
   "source": [
    "alpha=1\n",
    "nspan = 4\n",
    "p = 1\n",
    "center = centers[i]\n",
    "radius = .1\n",
    "npts = 2\n",
    "\n",
    "beta, _, E_phis, _ = A.leakyvecmodes2(ctr=center,\n",
    "                                       rad=radius,\n",
    "                                       alpha=None,\n",
    "                                       d=None,\n",
    "                                       nspan=nspan,\n",
    "                                       npts=npts,\n",
    "                                       p=p,\n",
    "                                       niterations=4,\n",
    "                                       nrestarts=0,\n",
    "                                       stop_tol=1e-9,)"
   ]
  }
 ],
 "metadata": {
  "kernelspec": {
   "display_name": "Python 3 (ipykernel)",
   "language": "python",
   "name": "python3"
  },
  "language_info": {
   "codemirror_mode": {
    "name": "ipython",
    "version": 3
   },
   "file_extension": ".py",
   "mimetype": "text/x-python",
   "name": "python",
   "nbconvert_exporter": "python",
   "pygments_lexer": "ipython3",
   "version": "3.8.10"
  }
 },
 "nbformat": 4,
 "nbformat_minor": 5
}
