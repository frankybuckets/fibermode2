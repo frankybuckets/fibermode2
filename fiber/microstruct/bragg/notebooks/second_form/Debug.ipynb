{
 "cells": [
  {
   "cell_type": "markdown",
   "id": "720129b6",
   "metadata": {},
   "source": [
    "\n",
    "# Trying out second form of PDE\n",
    "\n",
    "Implemented in modesolver as leakymode2 vecmodesystem2.  Debugging here."
   ]
  },
  {
   "cell_type": "code",
   "execution_count": null,
   "id": "664ce3d7",
   "metadata": {},
   "outputs": [],
   "source": [
    "import numpy as np\n",
    "import ngsolve as ng\n",
    "\n",
    "from fiberamp.fiber.microstruct.bragg import Bragg\n",
    "from ngsolve.webgui import Draw\n",
    "from ngsolve import CF\n",
    "\n",
    "from pyeigfeast import NGvecs, SpectralProjNGGeneral"
   ]
  },
  {
   "cell_type": "code",
   "execution_count": null,
   "id": "1829005b",
   "metadata": {},
   "outputs": [],
   "source": [
    "n_air = 1.00027717\n",
    "n_glass = 1.4388164768221814\n",
    "ts = [15*2.7183333333333333e-6, 15*2/3*1e-6, 15*1e-6]\n",
    "ns = [lambda x: n_air, lambda x: n_glass, lambda x: n_glass]\n",
    "mats = ['air', 'glass', 'Outer']\n",
    "maxhs = [.1, .015, .025]\n",
    "scale = 15e-6\n",
    "i=0\n",
    "wls = np.linspace(1.4, 2, 301) * 1e-6\n",
    "\n",
    "A = Bragg(ts=ts, scale=scale, maxhs=maxhs, ns=ns, mats=mats, wl=wls[i])\n"
   ]
  },
  {
   "cell_type": "code",
   "execution_count": null,
   "id": "311584a4",
   "metadata": {},
   "outputs": [],
   "source": [
    "p = 3\n",
    "alpha = .2\n",
    "\n",
    "A.mesh.SetPML(ng.pml.Radial(rad=A.R, alpha=alpha*1j, origin=(0, 0)),'Outer')\n",
    "\n",
    "k2 = A.k ** 2 * A.L**2 * A.index * A.index\n",
    "\n",
    "dr = ng.ds(definedon=~A.mesh.Materials('Outer'), skeleton=1)\n",
    "n = ng.specialcf.normal(2)\n",
    "\n",
    "X = ng.HCurl(A.mesh, order=p+1-max(1-p, 0), type1=True,\n",
    "             dirichlet='OuterCircle', dgjumps=True, complex=True)\n",
    "Y = ng.H1(A.mesh, order=p+1, dgjumps=True, complex=True)\n",
    "XY = ng.FESpace([X,Y])\n",
    "\n",
    "(E, phi), (v, psi) = XY.TnT()\n",
    "\n",
    "AA = ng.BilinearForm(XY)\n",
    "AA += (ng.curl(E) * ng.curl(v) - k2 * E * v) * ng.dx\n",
    "AA += ng.grad(phi) * v * ng.dx\n",
    "AA += ng.grad(phi) * ng.grad(psi) * ng.dx\n",
    "AA += -k2 * phi * psi * ng.dx\n",
    "AA += -psi * (ng.grad(phi.Other()) - ng.grad(phi)) * n * dr\n",
    "\n",
    "B= ng.BilinearForm(XY)\n",
    "B += -E * v * ng.dx\n",
    "B += -E * ng.grad(psi) * ng.dx\n",
    "B += psi * (E.Other() - E) * n * dr\n",
    "\n",
    "MM = ng.BilinearForm(XY)\n",
    "MM += (E * v + phi * psi) * ng.dx\n",
    "\n",
    "with ng.TaskManager():\n",
    "    try:\n",
    "        AA.Assemble()\n",
    "        B.Assemble()\n",
    "        MM.Assemble()\n",
    "\n",
    "    except Exception:\n",
    "        print('*** Trying again with larger heap')\n",
    "        ng.SetHeapSize(int(1e9))\n",
    "        AA.Assemble()\n",
    "        B.Assemble()\n",
    "        MM.Assemble()\n"
   ]
  },
  {
   "cell_type": "code",
   "execution_count": null,
   "id": "d7478f9a",
   "metadata": {},
   "outputs": [],
   "source": [
    "exact_scaled_betas = np.load('/home/pv/local/convergence/bragg_fiber/wavelength/N0/exact_scaled_betas.npy').conjugate()\n",
    "centers = exact_scaled_betas **2"
   ]
  },
  {
   "cell_type": "code",
   "execution_count": null,
   "id": "916daea4",
   "metadata": {},
   "outputs": [],
   "source": [
    "ctr = centers[i]\n",
    "rad = .01\n",
    "npts = 2\n",
    "\n",
    "P = SpectralProjNGGeneral(XY, AA.mat, B.mat, radius=rad, center=ctr,\n",
    "                          npts=npts)"
   ]
  },
  {
   "cell_type": "code",
   "execution_count": null,
   "id": "55d4beda",
   "metadata": {},
   "outputs": [],
   "source": [
    "nspan = 2\n",
    "\n",
    "E_phi = NGvecs(XY, nspan, M=MM.mat)\n",
    "E_phi_l = E_phi.create()\n",
    "E_phi.setrandom(seed=1)\n",
    "E_phi_l.setrandom(seed=1)"
   ]
  },
  {
   "cell_type": "code",
   "execution_count": null,
   "id": "2ef5042b",
   "metadata": {},
   "outputs": [],
   "source": [
    "beta_sqrs, E_phi, history, E_phi_l = P.feast(E_phi, Yl=E_phi_l, niterations=5, nrestarts=0,\n",
    "                                             hermitian=False)\n",
    "\n",
    "betas = np.sqrt(beta_sqrs, dtype=complex)/A.L\n",
    "Zsqrs = A.sqrZfrom(betas)"
   ]
  },
  {
   "cell_type": "code",
   "execution_count": null,
   "id": "d59530e6",
   "metadata": {},
   "outputs": [],
   "source": [
    "for e in E_phi:\n",
    "    Draw(-1e3*e.components[0].real[0],A.mesh)"
   ]
  },
  {
   "cell_type": "code",
   "execution_count": null,
   "id": "7b80b1e1",
   "metadata": {},
   "outputs": [],
   "source": [
    "for e in E_phi:\n",
    "    Draw(1e2*e.components[1],A.mesh)"
   ]
  },
  {
   "cell_type": "markdown",
   "id": "2177e3f7",
   "metadata": {},
   "source": [
    "# Automated version hopefully"
   ]
  },
  {
   "cell_type": "code",
   "execution_count": null,
   "id": "79726bc3",
   "metadata": {},
   "outputs": [],
   "source": [
    "alpha=1\n",
    "nspan = 4\n",
    "p = 1\n",
    "center = centers[i]\n",
    "radius = .1\n",
    "npts = 2\n",
    "\n",
    "beta, _, E_phis, _ = A.leakyvecmodes2(ctr=center,\n",
    "                                       rad=radius,\n",
    "                                       alpha=None,\n",
    "                                       d=None,\n",
    "                                       nspan=nspan,\n",
    "                                       npts=npts,\n",
    "                                       p=p,\n",
    "                                       niterations=4,\n",
    "                                       nrestarts=0,\n",
    "                                       stop_tol=1e-9,)"
   ]
  }
 ],
 "metadata": {
  "kernelspec": {
   "display_name": "Python 3 (ipykernel)",
   "language": "python",
   "name": "python3"
  },
  "language_info": {
   "codemirror_mode": {
    "name": "ipython",
    "version": 3
   },
   "file_extension": ".py",
   "mimetype": "text/x-python",
   "name": "python",
   "nbconvert_exporter": "python",
   "pygments_lexer": "ipython3",
   "version": "3.8.10"
  }
 },
 "nbformat": 4,
 "nbformat_minor": 5
}
