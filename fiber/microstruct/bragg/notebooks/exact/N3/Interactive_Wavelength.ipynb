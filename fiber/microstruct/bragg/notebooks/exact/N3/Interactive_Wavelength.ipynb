{
 "cells": [
  {
   "cell_type": "markdown",
   "id": "32862745",
   "metadata": {},
   "source": [
    "# Interactive Plot of Determinant function for varying wavelength\n",
    "\n",
    "User can slide a bar to change input wavelength and see how this affects propagation constants for N1 fiber."
   ]
  },
  {
   "cell_type": "code",
   "execution_count": null,
   "id": "dee42fff",
   "metadata": {},
   "outputs": [],
   "source": [
    "import numpy as np\n",
    "import matplotlib.pyplot as plt\n",
    "\n",
    "from fiberamp.fiber.microstruct.bragg import BraggExact, plotlogf\n",
    "from ipywidgets import interactive, FloatSlider, Layout\n",
    "from scipy.optimize import newton\n",
    "from ngsolve.webgui import Draw"
   ]
  },
  {
   "cell_type": "code",
   "execution_count": null,
   "id": "4af98238",
   "metadata": {},
   "outputs": [],
   "source": [
    "d = 4.0775e-05  # thickness of innermost region (core radius)\n",
    "ts = [d, 1e-5, d, 1.5e-5, d]\n",
    "\n",
    "n_air = 1.00027717\n",
    "n_glass = 1.4388164768221814\n",
    "\n",
    "ns = [n_air, n_glass, n_air, n_glass, n_air]\n",
    "\n",
    "mats = ['air', 'glass', 'air', 'glass', 'air']\n",
    "\n",
    "maxhs = [1, 1, 1, 1, 1]\n",
    "\n",
    "A = BraggExact(ts=ts, mats=mats, ns=ns, maxhs=maxhs,\n",
    "               no_mesh=True,\n",
    "              )\n"
   ]
  },
  {
   "cell_type": "markdown",
   "id": "046f9349",
   "metadata": {},
   "source": [
    "# Get loss profile"
   ]
  },
  {
   "cell_type": "code",
   "execution_count": null,
   "id": "30f4dd59",
   "metadata": {},
   "outputs": [],
   "source": [
    "n = 500\n",
    "wls = np.linspace(1.4e-6, 2e-6, n+1)\n",
    "betas1 = np.zeros_like(wls, dtype=complex)\n",
    "outer = 'h2'\n",
    "nu = 1"
   ]
  },
  {
   "cell_type": "code",
   "execution_count": null,
   "id": "81226ec5",
   "metadata": {},
   "outputs": [],
   "source": [
    "for i, wl in enumerate(wls):\n",
    "    print(5 * ' ' +  + 20 * '-' + '  ' + str(i+1) + '/' + str(n+1) + ': ' +\n",
    "          'wavelength: ' +  str(wls[i]) + '  ' +  20 * '-' +5 * ' '+'\\n')\n",
    "          \n",
    "    A = BraggExact(ts=ts, ns=ns, mats=mats, maxhs=maxhs, wl=wl)\n",
    "\n",
    "    k_low = A.ks[0] * A.scale\n",
    "    guess = np.array(.99995 * k_low) +0*1j\n",
    "    imag = 0\n",
    "    flag = True\n",
    "    reduce = 0\n",
    "\n",
    "    while flag:\n",
    "        try:\n",
    "            x0 = np.array(guess + imag*1j)\n",
    "            beta = newton(A.determinant, x0, args=(nu, outer), tol = 1e-12)\n",
    "            if beta.real > k_low:\n",
    "                print(\"Captured wrong mode, retrying.\")\n",
    "                raise RuntimeError\n",
    "            elif beta.imag > 0:\n",
    "                print(\"Positive imaginary part, retrying.\")\n",
    "                imag = -beta.imag\n",
    "                guess = 1/.999999 * guess.real + imag * 1j\n",
    "                raise RuntimeError\n",
    "            else:\n",
    "                print(\"Scaled beta: \", beta, \". Residual of determinant: \", \n",
    "                      abs(A.determinant(beta, nu, outer)), '\\n\\n' )\n",
    "                imag = beta.imag  # set current imaginary part as guess for next one\n",
    "                flag=False\n",
    "        except RuntimeError:\n",
    "            guess = .999999 * guess.real + 1j * imag\n",
    "            reduce += 1\n",
    "            print(\"scaling guess: \" + str(reduce), flush=True)\n",
    "    betas1[i] = beta\n",
    "    "
   ]
  },
  {
   "cell_type": "code",
   "execution_count": null,
   "id": "a024c592",
   "metadata": {},
   "outputs": [],
   "source": [
    "# Formula for loss spikes from article\n",
    "\n",
    "ms = np.arange(11,15,1)\n",
    "\n",
    "n1 = A.ns[0]  # Inner (core) index\n",
    "n2 = A.ns[1]  # Cladding index\n",
    "\n",
    "d = ts[1]\n",
    "\n",
    "ls = (2 * n1 * d / ms * ((n2/n1)**2 - 1)**.5)  # when n2 depends on ls, need solver\n",
    "ls"
   ]
  },
  {
   "cell_type": "code",
   "execution_count": null,
   "id": "09acff30",
   "metadata": {},
   "outputs": [],
   "source": [
    "# Formula for loss spikes from article\n",
    "\n",
    "ms = [16, 17, 18, 19, 20]\n",
    "\n",
    "n1 = A.ns[0]  # Inner (core) index\n",
    "n2 = A.ns[1]  # Cladding index\n",
    "\n",
    "d2 = ts[3]\n",
    "\n",
    "ls2 = (2 * n1 * d2 / ms * ((n2/n1)**2 - 1)**.5)  # when n2 depends on ls, need solver\n",
    "ls2"
   ]
  },
  {
   "cell_type": "code",
   "execution_count": null,
   "id": "1f62d654",
   "metadata": {},
   "outputs": [],
   "source": [
    "%matplotlib inline\n",
    "fig = plt.figure(figsize=(8,5))\n",
    "ax = plt.gca()\n",
    "\n",
    "ax.plot(wls, -betas1.imag, color='green', linewidth=.9)\n",
    "plt.yscale('log')\n",
    "ym,yM = ax.get_ylim()\n",
    "for l in ls:\n",
    "    ax.plot([l,l], [0, yM],  linewidth=1, color='black', linestyle=':')\n",
    "    \n",
    "for l in ls2:\n",
    "    ax.plot([l,l], [0, yM],  linewidth=1, color='orange', linestyle=':')"
   ]
  },
  {
   "cell_type": "code",
   "execution_count": null,
   "id": "d8a4b217",
   "metadata": {},
   "outputs": [],
   "source": [
    "ls2, ls"
   ]
  },
  {
   "cell_type": "markdown",
   "id": "bc47316e",
   "metadata": {},
   "source": [
    "# Interactive plot\n",
    "\n",
    "Click on the slider and drag to change wavelength.  Or you can click on the slider and then use the arrow keys on your keyboard to move it a step at a time\n",
    "\n",
    "### Second spike set\n",
    "\n",
    "Fundamental appears as first root near real axis near left of plot. It has already started to become lossy (ie move further below real axis).  "
   ]
  },
  {
   "cell_type": "code",
   "execution_count": null,
   "id": "42c60b00",
   "metadata": {},
   "outputs": [],
   "source": [
    "d = 4.0775e-05  # thickness of innermost region (core radius)\n",
    "ts = [d, 1e-5, d, 1.5e-5, d]\n",
    "\n",
    "n_air = 1.00027717\n",
    "n_glass = 1.4388164768221814\n",
    "\n",
    "ns = [n_air, n_glass, n_air, n_glass, n_air]\n",
    "\n",
    "mats = ['air', 'glass', 'air', 'glass', 'air']\n",
    "\n",
    "maxhs = [1, 1, 1, 1, 1]\n",
    "\n",
    "A = BraggExact(ts=ts, mats=mats, ns=ns, maxhs=maxhs,\n",
    "               no_mesh=True,\n",
    "              )\n"
   ]
  },
  {
   "cell_type": "code",
   "execution_count": null,
   "id": "f236c143",
   "metadata": {},
   "outputs": [],
   "source": [
    "nu = 1\n",
    "N = 75\n",
    "Ktype = 'kappa'\n",
    "cent = ls2[1]*1e6\n",
    "\n",
    "def det_plot(wl):\n",
    "\n",
    "    A.wavelength = wl * 1e-6\n",
    "        \n",
    "    cutoff = A.ks[0] * A.scale\n",
    "    L, R = .99979, 1.00009\n",
    "    imin, imax = -.03, .01\n",
    "    Xr = np.linspace(L * cutoff , R * cutoff , num=N)\n",
    "    Xi = np.linspace(imin, imax, num=N)\n",
    "    xr, xi = np.meshgrid(Xr, Xi)\n",
    "    zs = xr + 1j * xi\n",
    "    \n",
    "    fig, ax1 = plt.subplots(1, figsize=(14, 8))\n",
    "    \n",
    "    fs1 = A.determinant(zs, nu=nu, outer='h2', Ktype=Ktype)\n",
    "    data = ax1.contour(xr, xi, np.log(np.abs(fs1)), levels=N)\n",
    "    ax1.grid(True)\n",
    "    ax1.set_facecolor('grey')\n",
    "    ax1.set_yticks([0])\n",
    "    ax1.set_xticks([cutoff], labels=['k_low'])\n",
    "    plt.title('Current wavelength: %.6e\\nResonant wavelength: %.6e'%(wl*1e-6, cent*1e-6), fontsize=16)\n",
    "#     plt.colorbar(data)\n",
    "#     plt.show()\n",
    "\n",
    "interactive_plot = interactive(det_plot, wl=FloatSlider(min=cent - .001, \n",
    "                                                        max=cent + .003, \n",
    "                                                        step=.0001, \n",
    "                                                        value=cent - .001, \n",
    "                                                        readout_format='.6f',\n",
    "                                                        continuous_update=True,\n",
    "                                                        layout=Layout(width='100%')))\n",
    "output = interactive_plot.children[-1]\n",
    "output.layout.height = '10'\n",
    "interactive_plot "
   ]
  },
  {
   "cell_type": "markdown",
   "id": "90917fba",
   "metadata": {},
   "source": [
    "# Mode profiles at secondary spike"
   ]
  },
  {
   "cell_type": "code",
   "execution_count": null,
   "id": "0ee7a9c8",
   "metadata": {},
   "outputs": [],
   "source": [
    "d = 4.0775e-05  # thickness of innermost region (core radius)\n",
    "ts = [d, 1e-5, d, 1.5e-5, d]\n",
    "\n",
    "n_air = 1.00027717\n",
    "n_glass = 1.4388164768221814\n",
    "\n",
    "ns = [n_air, n_glass, n_air, n_glass, n_air]\n",
    "\n",
    "mats = ['air', 'glass', 'air', 'glass', 'air']\n",
    "\n",
    "maxhs = [.1, .03, .1, .01, .1]\n",
    "\n",
    "A = BraggExact(ts=ts, mats=mats, ns=ns, maxhs=maxhs,\n",
    "                wl=ls2[1],\n",
    "              )\n",
    "nu=1\n",
    "outer='h2'"
   ]
  },
  {
   "cell_type": "code",
   "execution_count": null,
   "id": "5b46bafa",
   "metadata": {},
   "outputs": [],
   "source": [
    "k_low = A.k0 * A.ns[0] * A.scale\n",
    "\n",
    "plotlogf(A.determinant, .99982*k_low, 1.00001*k_low, -.005,.001, nu, outer,\n",
    "         iref=100, rref=100, levels=100)"
   ]
  },
  {
   "cell_type": "code",
   "execution_count": null,
   "id": "afec4ddb",
   "metadata": {},
   "outputs": [],
   "source": [
    "guess = np.array(.99982*k_low)\n",
    "\n",
    "beta1 = newton(A.determinant, guess, args=(nu, outer), tol = 1e-15)\n",
    "\n",
    "print(\"Scaled beta: \", beta1, \". Residual of determinant: \", abs(A.determinant(beta1, nu, outer)))\n"
   ]
  },
  {
   "cell_type": "code",
   "execution_count": null,
   "id": "f67b98d6",
   "metadata": {},
   "outputs": [],
   "source": [
    "Fs = A.all_fields(beta1, nu, outer)"
   ]
  },
  {
   "cell_type": "code",
   "execution_count": null,
   "id": "584da24d",
   "metadata": {},
   "outputs": [],
   "source": [
    "Draw(Fs['Ez'], A.mesh)"
   ]
  },
  {
   "cell_type": "code",
   "execution_count": null,
   "id": "1dc1dbcf",
   "metadata": {},
   "outputs": [],
   "source": [
    "Draw(Fs['Etv'].Norm(), A.mesh)"
   ]
  },
  {
   "cell_type": "markdown",
   "id": "a8100aad",
   "metadata": {},
   "source": [
    "\n",
    "# Primary Spike, but not also secondary\n",
    "\n",
    "Farthest right black vertical dashed line in plot below"
   ]
  },
  {
   "cell_type": "code",
   "execution_count": null,
   "id": "8dae6210",
   "metadata": {},
   "outputs": [],
   "source": [
    "%matplotlib inline\n",
    "fig = plt.figure(figsize=(8,5))\n",
    "ax = plt.gca()\n",
    "\n",
    "ax.plot(wls, -betas1.imag, color='green', linewidth=.9)\n",
    "plt.yscale('log')\n",
    "ym,yM = ax.get_ylim()\n",
    "for l in ls:\n",
    "    ax.plot([l,l], [0, yM],  linewidth=1, color='black', linestyle=':')\n",
    "    \n",
    "for l in ls2:\n",
    "    ax.plot([l,l], [0, yM],  linewidth=1, color='orange', linestyle=':')"
   ]
  },
  {
   "cell_type": "code",
   "execution_count": null,
   "id": "28a5910b",
   "metadata": {},
   "outputs": [],
   "source": [
    "d = 4.0775e-05  # thickness of innermost region (core radius)\n",
    "ts = [d, 1e-5, d, 1.5e-5, d]\n",
    "\n",
    "n_air = 1.00027717\n",
    "n_glass = 1.4388164768221814\n",
    "\n",
    "ns = [n_air, n_glass, n_air, n_glass, n_air]\n",
    "\n",
    "mats = ['air', 'glass', 'air', 'glass', 'air']\n",
    "\n",
    "maxhs = [1, 1, 1, 1, 1]\n",
    "\n",
    "A = BraggExact(ts=ts, mats=mats, ns=ns, maxhs=maxhs,\n",
    "               no_mesh=True,\n",
    "              )\n"
   ]
  },
  {
   "cell_type": "code",
   "execution_count": null,
   "id": "5b6ce9f3",
   "metadata": {},
   "outputs": [],
   "source": [
    "nu = 1\n",
    "N = 75\n",
    "Ktype = 'kappa'\n",
    "cent = ls[0]*1e6\n",
    "\n",
    "def det_plot(wl):\n",
    "\n",
    "    A.wavelength = wl * 1e-6\n",
    "        \n",
    "    cutoff = A.ks[0] * A.scale\n",
    "    L, R = .9997, 1.00009\n",
    "    imin, imax = -.01, .01\n",
    "    Xr = np.linspace(L * cutoff , R * cutoff , num=N)\n",
    "    Xi = np.linspace(imin, imax, num=N)\n",
    "    xr, xi = np.meshgrid(Xr, Xi)\n",
    "    zs = xr + 1j * xi\n",
    "    \n",
    "    fig, ax1 = plt.subplots(1, figsize=(14, 8))\n",
    "    \n",
    "    fs1 = A.determinant(zs, nu=nu, outer='h2', Ktype=Ktype)\n",
    "    data = ax1.contour(xr, xi, np.log(np.abs(fs1)), levels=N)\n",
    "    ax1.grid(True)\n",
    "    ax1.set_facecolor('grey')\n",
    "    ax1.set_yticks([0])\n",
    "    ax1.set_xticks([cutoff], labels=['k_low'])\n",
    "    plt.title('Current wavelength: %.6e\\nResonant wavelength: %.6e'%(wl*1e-6, cent*1e-6), fontsize=16)\n",
    "#     plt.colorbar(data)\n",
    "    plt.show()\n",
    "\n",
    "interactive_plot = interactive(det_plot, wl=FloatSlider(min=cent - .001, \n",
    "                                                        max=cent + .003, \n",
    "                                                        step=.00005, \n",
    "                                                        value=cent - .001, \n",
    "                                                        readout_format='.6f',\n",
    "                                                        layout=Layout(width='100%')))\n",
    "output = interactive_plot.children[-1]\n",
    "output.layout.height = '10'\n",
    "interactive_plot "
   ]
  },
  {
   "cell_type": "code",
   "execution_count": null,
   "id": "1e8d1af8",
   "metadata": {},
   "outputs": [],
   "source": [
    "nu = 1\n",
    "N = 75\n",
    "Ktype = 'kappa'\n",
    "cent = ls[0]*1e6\n",
    "\n",
    "def det_plot(wl):\n",
    "\n",
    "    A.wavelength = wl * 1e-6\n",
    "        \n",
    "    cutoff = A.ks[0] * A.scale\n",
    "    L, R = .9994, 1.00009\n",
    "    imin, imax = -.02, .02\n",
    "    Xr = np.linspace(L * cutoff , R * cutoff , num=N)\n",
    "    Xi = np.linspace(imin, imax, num=N)\n",
    "    xr, xi = np.meshgrid(Xr, Xi)\n",
    "    zs = xr + 1j * xi\n",
    "    \n",
    "    fig, ax1 = plt.subplots(1, figsize=(14, 8))\n",
    "    \n",
    "    fs1 = A.determinant(zs, nu=nu, outer='h2', Ktype=Ktype)\n",
    "    data = ax1.contour(xr, xi, np.log(np.abs(fs1)), levels=N)\n",
    "    ax1.grid(True)\n",
    "    ax1.set_facecolor('grey')\n",
    "    ax1.set_yticks([0])\n",
    "    ax1.set_xticks([cutoff], labels=['k_low'])\n",
    "    plt.title('Current wavelength: %.6e\\nResonant wavelength: %.6e'%(wl*1e-6, cent*1e-6), fontsize=16)\n",
    "#     plt.colorbar(data)\n",
    "    plt.show()\n",
    "\n",
    "interactive_plot = interactive(det_plot, wl=FloatSlider(min=cent - .001, \n",
    "                                                        max=cent + .003, \n",
    "                                                        step=.00005, \n",
    "                                                        value=cent - .001, \n",
    "                                                        readout_format='.6f',\n",
    "                                                        layout=Layout(width='100%')))\n",
    "output = interactive_plot.children[-1]\n",
    "output.layout.height = '10'\n",
    "interactive_plot "
   ]
  },
  {
   "cell_type": "markdown",
   "id": "8aae4a76",
   "metadata": {},
   "source": [
    "# Mode profiles at primary (but not secondary) spike"
   ]
  },
  {
   "cell_type": "code",
   "execution_count": null,
   "id": "2592b04d",
   "metadata": {},
   "outputs": [],
   "source": [
    "d = 4.0775e-05  # thickness of innermost region (core radius)\n",
    "ts = [d, 1e-5, d, 1.5e-5, d]\n",
    "\n",
    "n_air = 1.00027717\n",
    "n_glass = 1.4388164768221814\n",
    "\n",
    "ns = [n_air, n_glass, n_air, n_glass, n_air]\n",
    "\n",
    "mats = ['air', 'glass', 'air', 'glass', 'air']\n",
    "\n",
    "maxhs = [.1, .02, .1, .02, .1]\n",
    "\n",
    "A = BraggExact(ts=ts, mats=mats, ns=ns, maxhs=maxhs,\n",
    "                wl=ls[0],\n",
    "              )\n",
    "nu=1\n",
    "outer='h2'"
   ]
  },
  {
   "cell_type": "code",
   "execution_count": null,
   "id": "271449c9",
   "metadata": {},
   "outputs": [],
   "source": [
    "k_low = A.k0 * A.ns[0] * A.scale\n",
    "\n",
    "plotlogf(A.determinant, .99982*k_low, 1.00001*k_low, -.01,.01, nu, outer,\n",
    "         iref=100, rref=100, levels=100)"
   ]
  },
  {
   "cell_type": "code",
   "execution_count": null,
   "id": "3d10d866",
   "metadata": {},
   "outputs": [],
   "source": [
    "guess = np.array(.99996*k_low)\n",
    "\n",
    "beta1 = newton(A.determinant, guess, args=(nu, outer), tol = 1e-15)\n",
    "\n",
    "print(\"Scaled beta: \", beta1, \". Residual of determinant: \", abs(A.determinant(beta1, nu, outer)))\n"
   ]
  },
  {
   "cell_type": "code",
   "execution_count": null,
   "id": "092b0e63",
   "metadata": {},
   "outputs": [],
   "source": [
    "Fs = A.all_fields(beta1, nu, outer)"
   ]
  },
  {
   "cell_type": "markdown",
   "id": "c4a2eb82",
   "metadata": {},
   "source": [
    "## Z-Components"
   ]
  },
  {
   "cell_type": "code",
   "execution_count": null,
   "id": "cf4c8508",
   "metadata": {},
   "outputs": [],
   "source": [
    "Draw(Fs['Ez'], A.mesh)"
   ]
  },
  {
   "cell_type": "code",
   "execution_count": null,
   "id": "d771f8b8",
   "metadata": {},
   "outputs": [],
   "source": [
    "Draw(Fs['Etv'].real, A.mesh)"
   ]
  },
  {
   "cell_type": "markdown",
   "id": "0dceabfb",
   "metadata": {},
   "source": [
    "# Previous fundamental?"
   ]
  },
  {
   "cell_type": "code",
   "execution_count": null,
   "id": "dcfe8961",
   "metadata": {},
   "outputs": [],
   "source": [
    "guess = np.array(.9999*k_low)\n",
    "\n",
    "beta2 = newton(A.determinant, guess, args=(nu, outer), tol = 1e-15)\n",
    "\n",
    "print(\"Scaled beta: \", beta2, \". Residual of determinant: \", abs(A.determinant(beta2, nu, outer)))\n"
   ]
  },
  {
   "cell_type": "code",
   "execution_count": null,
   "id": "04baf956",
   "metadata": {},
   "outputs": [],
   "source": [
    "Fs2 = A.all_fields(beta2, nu, outer)"
   ]
  },
  {
   "cell_type": "markdown",
   "id": "e324847e",
   "metadata": {},
   "source": [
    "## Z-Components"
   ]
  },
  {
   "cell_type": "code",
   "execution_count": null,
   "id": "acd22681",
   "metadata": {},
   "outputs": [],
   "source": [
    "Draw(Fs2['Ez'], A.mesh)"
   ]
  },
  {
   "cell_type": "code",
   "execution_count": null,
   "id": "4fd25660",
   "metadata": {},
   "outputs": [],
   "source": [
    "Draw(Fs2['Etv'].real, A.mesh)"
   ]
  },
  {
   "cell_type": "markdown",
   "id": "ed3d2534",
   "metadata": {},
   "source": [
    "# Primary and Secondary Spike (where ls overlap)\n",
    "\n",
    "4th spike from right in plot below"
   ]
  },
  {
   "cell_type": "code",
   "execution_count": null,
   "id": "7bc8d682",
   "metadata": {},
   "outputs": [],
   "source": [
    "%matplotlib inline\n",
    "fig = plt.figure(figsize=(8,5))\n",
    "ax = plt.gca()\n",
    "\n",
    "ax.plot(wls, -betas1.imag, color='green', linewidth=.9)\n",
    "plt.yscale('log')\n",
    "ym,yM = ax.get_ylim()\n",
    "for l in ls:\n",
    "    ax.plot([l,l], [0, yM],  linewidth=1, color='black', linestyle=':')\n",
    "    \n",
    "for l in ls2:\n",
    "    ax.plot([l,l], [0, yM],  linewidth=1, color='orange', linestyle=':')"
   ]
  },
  {
   "cell_type": "code",
   "execution_count": null,
   "id": "e65a8272",
   "metadata": {},
   "outputs": [],
   "source": [
    "d = 4.0775e-05  # thickness of innermost region (core radius)\n",
    "ts = [d, 1e-5, d, 1.5e-5, d]\n",
    "\n",
    "n_air = 1.00027717\n",
    "n_glass = 1.4388164768221814\n",
    "\n",
    "ns = [n_air, n_glass, n_air, n_glass, n_air]\n",
    "\n",
    "mats = ['air', 'glass', 'air', 'glass', 'air']\n",
    "\n",
    "maxhs = [1, 1, 1, 1, 1]\n",
    "\n",
    "A = BraggExact(ts=ts, mats=mats, ns=ns, maxhs=maxhs,\n",
    "               no_mesh=True,\n",
    "              )\n"
   ]
  },
  {
   "cell_type": "code",
   "execution_count": null,
   "id": "15640e7f",
   "metadata": {},
   "outputs": [],
   "source": [
    "nu = 1\n",
    "N = 75\n",
    "Ktype = 'kappa'\n",
    "cent = ls[1]*1e6\n",
    "\n",
    "def det_plot(wl):\n",
    "\n",
    "    A.wavelength = wl * 1e-6\n",
    "        \n",
    "    cutoff = A.ks[0] * A.scale\n",
    "    L, R = .99982, 1.00009\n",
    "    imin, imax = -.01, .01\n",
    "    Xr = np.linspace(L * cutoff , R * cutoff , num=N)\n",
    "    Xi = np.linspace(imin, imax, num=N)\n",
    "    xr, xi = np.meshgrid(Xr, Xi)\n",
    "    zs = xr + 1j * xi\n",
    "    \n",
    "    fig, ax1 = plt.subplots(1, figsize=(14, 8))\n",
    "    \n",
    "    fs1 = A.determinant(zs, nu=nu, outer='h2', Ktype=Ktype)\n",
    "    data = ax1.contour(xr, xi, np.log(np.abs(fs1)), levels=N)\n",
    "    ax1.grid(True)\n",
    "    ax1.set_facecolor('grey')\n",
    "    ax1.set_yticks([0])\n",
    "    ax1.set_xticks([cutoff], labels=['k_low'])\n",
    "    plt.title('Current wavelength: %.6e\\nResonant wavelength: %.6e'%(wl*1e-6, cent*1e-6), fontsize=16)\n",
    "#     plt.colorbar(data)\n",
    "    plt.show()\n",
    "\n",
    "interactive_plot = interactive(det_plot, wl=FloatSlider(min=cent - .003, \n",
    "                                                        max=cent + .002, \n",
    "                                                        step=.00005, \n",
    "                                                        value=cent - 0., \n",
    "                                                        readout_format='.6f',\n",
    "                                                        layout=Layout(width='100%')))\n",
    "output = interactive_plot.children[-1]\n",
    "output.layout.height = '10'\n",
    "interactive_plot "
   ]
  },
  {
   "cell_type": "markdown",
   "id": "6fd7ab6f",
   "metadata": {},
   "source": [
    "# Mode profiles at combined spike"
   ]
  },
  {
   "cell_type": "code",
   "execution_count": null,
   "id": "85c6243a",
   "metadata": {},
   "outputs": [],
   "source": [
    "d = 4.0775e-05  # thickness of innermost region (core radius)\n",
    "ts = [d, 1e-5, d, 1.5e-5, d]\n",
    "\n",
    "n_air = 1.00027717\n",
    "n_glass = 1.4388164768221814\n",
    "\n",
    "ns = [n_air, n_glass, n_air, n_glass, n_air]\n",
    "\n",
    "mats = ['air', 'glass', 'air', 'glass', 'air']\n",
    "\n",
    "maxhs = [.1, .02, .1, .01, .1]\n",
    "\n",
    "A = BraggExact(ts=ts, mats=mats, ns=ns, maxhs=maxhs,\n",
    "                wl=1.72385e-6,\n",
    "              )\n",
    "nu=1\n",
    "outer='h2'"
   ]
  },
  {
   "cell_type": "code",
   "execution_count": null,
   "id": "0102c1cd",
   "metadata": {},
   "outputs": [],
   "source": [
    "k_low = A.k0 * A.ns[0] * A.scale\n",
    "\n",
    "plotlogf(A.determinant, .99982*k_low, 1.00001*k_low, -.01,.01, nu, outer,\n",
    "         iref=100, rref=100, levels=100)"
   ]
  },
  {
   "cell_type": "code",
   "execution_count": null,
   "id": "3f25433e",
   "metadata": {},
   "outputs": [],
   "source": [
    "guess = np.array(182.29-.0025j)\n",
    "\n",
    "beta1 = newton(A.determinant, guess, args=(nu, outer), tol = 1e-15)\n",
    "\n",
    "print(\"Scaled beta: \", beta1, \". Residual of determinant: \", abs(A.determinant(beta1, nu, outer)))\n"
   ]
  },
  {
   "cell_type": "code",
   "execution_count": null,
   "id": "f20561f0",
   "metadata": {},
   "outputs": [],
   "source": [
    "Fs = A.all_fields(beta1, nu, outer)"
   ]
  },
  {
   "cell_type": "markdown",
   "id": "a8583635",
   "metadata": {},
   "source": [
    "## Z-Components"
   ]
  },
  {
   "cell_type": "code",
   "execution_count": null,
   "id": "e3f6f0cc",
   "metadata": {},
   "outputs": [],
   "source": [
    "Draw(Fs['Ez'], A.mesh)"
   ]
  },
  {
   "cell_type": "code",
   "execution_count": null,
   "id": "0ad2ff1f",
   "metadata": {},
   "outputs": [],
   "source": [
    "Draw(1e-2*Fs['Etv'].Norm(), A.mesh)"
   ]
  },
  {
   "cell_type": "code",
   "execution_count": null,
   "id": "7673635f",
   "metadata": {},
   "outputs": [],
   "source": []
  }
 ],
 "metadata": {
  "kernelspec": {
   "display_name": "Python 3 (ipykernel)",
   "language": "python",
   "name": "python3"
  },
  "language_info": {
   "codemirror_mode": {
    "name": "ipython",
    "version": 3
   },
   "file_extension": ".py",
   "mimetype": "text/x-python",
   "name": "python",
   "nbconvert_exporter": "python",
   "pygments_lexer": "ipython3",
   "version": "3.10.12"
  }
 },
 "nbformat": 4,
 "nbformat_minor": 5
}
