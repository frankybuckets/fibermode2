{
 "cells": [
  {
   "cell_type": "markdown",
   "id": "720129b6",
   "metadata": {},
   "source": [
    "# Wavelength Loss dependence for N2 with PML\n",
    "\n",
    "Checking for ripples here"
   ]
  },
  {
   "cell_type": "code",
   "execution_count": null,
   "id": "664ce3d7",
   "metadata": {},
   "outputs": [],
   "source": [
    "import numpy as np\n",
    "import matplotlib.pyplot as plt\n",
    "\n",
    "from fiberamp.fiber.microstruct.bragg import BraggExact\n",
    "from fiberamp.fiber.microstruct.bragg import plotlogf\n",
    "from scipy.optimize import newton"
   ]
  },
  {
   "cell_type": "markdown",
   "id": "d358a48f",
   "metadata": {},
   "source": [
    "# Initialize"
   ]
  },
  {
   "cell_type": "code",
   "execution_count": null,
   "id": "30f4dd59",
   "metadata": {},
   "outputs": [],
   "source": [
    "n = 300\n",
    "wls = np.linspace(1.4e-6, 2e-6, n+1)\n",
    "betas1 = np.zeros_like(wls, dtype=complex)\n",
    "outer = 'h2'\n",
    "nu = 1"
   ]
  },
  {
   "cell_type": "code",
   "execution_count": null,
   "id": "0ec21ed3",
   "metadata": {},
   "outputs": [],
   "source": [
    "n_air = 1.00027717\n",
    "n_glass = 1.4388164768221814\n",
    "\n",
    "ts = [15*2.7183333333333333e-6, 10e-6,\n",
    "      15*2.7183333333333333e-6, 15*2.7183333333333333e-6]\n",
    "\n",
    "mats = ['air', 'glass', 'air', 'glass']\n",
    "ns = [lambda x:n_air, lambda x:n_glass, lambda x:n_air, lambda x:n_glass]\n",
    "maxhs = [100,100,100,100]\n",
    "scale=15e-6\n",
    "\n",
    "\n",
    "A = BraggExact(ts=ts, ns=ns, mats=mats, maxhs=maxhs, wl=wls[0], scale=scale,\n",
    "              no_mesh=True)"
   ]
  },
  {
   "cell_type": "markdown",
   "id": "0b5b89c6",
   "metadata": {},
   "source": [
    "# First get exact values"
   ]
  },
  {
   "cell_type": "code",
   "execution_count": null,
   "id": "81226ec5",
   "metadata": {},
   "outputs": [],
   "source": [
    "for i, wl in enumerate(wls):\n",
    "    print(5 * ' ' +  + 20 * '-' + '  ' + str(i+1) + '/' + str(n+1) + ': ' +\n",
    "          'wavelength: ' +  str(wls[i]) + '  ' +  20 * '-' +5 * ' '+'\\n')\n",
    "          \n",
    "    A = BraggExact(ts=ts, ns=ns, mats=mats, maxhs=maxhs, wl=wl, scale=scale,\n",
    "                  no_mesh=True)\n",
    "\n",
    "    k_low = A.ks[0] * A.scale\n",
    "    guess = np.array(.99995 * k_low) +0*1j\n",
    "    imag = 0\n",
    "    flag = True\n",
    "    reduce = 0\n",
    "\n",
    "    while flag:\n",
    "        try:\n",
    "            x0 = np.array(guess + imag*1j)\n",
    "            beta = newton(A.determinant, x0, args=(nu, outer), tol = 1e-17)\n",
    "            if beta.real > k_low:\n",
    "                print(\"Captured wrong mode, retrying.\")\n",
    "                raise RuntimeError\n",
    "            elif beta.imag > 0:\n",
    "                print(\"Positive imaginary part, retrying.\")\n",
    "                imag = -beta.imag\n",
    "                guess = 1/.999999 * guess.real + imag * 1j\n",
    "                raise RuntimeError\n",
    "            else:\n",
    "                print(\"Scaled beta: \", beta, \". Residual of determinant: \", \n",
    "                      abs(A.determinant(beta, nu, outer)), '\\n\\n' )\n",
    "                imag = beta.imag  # set current imaginary part as guess for next one\n",
    "                flag=False\n",
    "        except RuntimeError:\n",
    "            guess = .999999 * guess.real + 1j * imag\n",
    "            reduce += 1\n",
    "            print(\"scaling guess: \" + str(reduce), flush=True)\n",
    "    betas1[i] = beta\n",
    "    "
   ]
  },
  {
   "cell_type": "code",
   "execution_count": null,
   "id": "a024c592",
   "metadata": {},
   "outputs": [],
   "source": [
    "# Formula for loss spikes from article\n",
    "\n",
    "ms = np.arange(11,15,1)\n",
    "\n",
    "n1 = A.ns[0]  # Inner (core) index\n",
    "n2 = A.ns[1]  # Cladding index\n",
    "\n",
    "d = 10e-6\n",
    "\n",
    "Ls = (2 * n1 * d / ms * ((n2/n1)**2 - 1)**.5)  # when n2 depends on ls, need solver\n",
    "Ls"
   ]
  },
  {
   "cell_type": "code",
   "execution_count": null,
   "id": "5d053c30",
   "metadata": {},
   "outputs": [],
   "source": [
    "np.save('betas1_N2', betas1)"
   ]
  },
  {
   "cell_type": "code",
   "execution_count": null,
   "id": "f180c4ef",
   "metadata": {},
   "outputs": [],
   "source": [
    "betas1 = np.load('betas1_N2.npy')"
   ]
  },
  {
   "cell_type": "code",
   "execution_count": null,
   "id": "1f62d654",
   "metadata": {},
   "outputs": [],
   "source": [
    "%matplotlib inline\n",
    "fig = plt.figure(figsize=(8,5))\n",
    "ax = plt.gca()\n",
    "\n",
    "ax.plot(wls, -betas1.imag, color='green', linewidth=.9)\n",
    "plt.yscale('log')\n",
    "ym,yM = ax.get_ylim()\n",
    "for l in Ls:\n",
    "    ax.plot([l,l], [0, yM],  linewidth=1, linestyle=':')"
   ]
  },
  {
   "cell_type": "markdown",
   "id": "7be5b903",
   "metadata": {},
   "source": [
    "# Now do it with PML for varying values of alpha"
   ]
  },
  {
   "cell_type": "code",
   "execution_count": null,
   "id": "8f668e0b",
   "metadata": {},
   "outputs": [],
   "source": [
    "ts2 = [15*2.7183333333333333e-6, 10e-6, 15*2.7183333333333333e-6,\n",
    "      30e-6, 30e-6]\n",
    "rhos =[sum(ts[:i]) for i in range(1, len(ts2)+1)]\n",
    "\n",
    "ns2 = [lambda x: n_air, lambda x: n_glass, lambda x: n_air,\n",
    "      lambda x: n_glass, lambda x: n_glass]\n",
    "mats2 = ['core', 'glass', 'air', 'glass', 'Outer']\n",
    "maxhs2 = [.2, .01, .1, .007, .04,]\n",
    "scale = 15e-6\n"
   ]
  },
  {
   "cell_type": "code",
   "execution_count": null,
   "id": "ac43972b",
   "metadata": {},
   "outputs": [],
   "source": [
    "betas2 = np.zeros_like(wls, dtype=complex)\n",
    "\n",
    "outer = 'pcb'\n",
    "Ktype = 'kappa'\n",
    "nu = 1\n",
    "alpha = .01\n",
    "pml = {'alpha':alpha, 'R0':rhos[-2]}\n"
   ]
  },
  {
   "cell_type": "code",
   "execution_count": null,
   "id": "1999ca9f",
   "metadata": {},
   "outputs": [],
   "source": [
    "for i, wl in enumerate(wls):\n",
    "    print(5 * ' ' +  + 20 * '-' + '  ' + str(i+1) + '/' + str(n+1) + ': ' +\n",
    "          'wavelength: ' +  str(wls[i]) + '  ' +  20 * '-' +5 * ' '+'\\n')\n",
    "          \n",
    "    A = BraggExact(ts=ts2, ns=ns2, mats=mats2, maxhs=maxhs2, wl=wl, scale=scale, no_mesh=True)\n",
    "\n",
    "    k_low = A.ks[0] * A.scale\n",
    "    guess = betas1[i]\n",
    "    imag = 0\n",
    "    flag = True\n",
    "    reduce = 0\n",
    "\n",
    "    while flag:\n",
    "        try:\n",
    "            x0 = np.array(guess + imag*1j)\n",
    "            beta = newton(A.determinant, x0, args=(nu, outer, Ktype, pml), tol = 1e-17)\n",
    "            if beta.real > k_low:\n",
    "                print(\"Captured wrong mode, retrying.\")\n",
    "                raise RuntimeError\n",
    "            elif beta.imag > 0:\n",
    "                print(\"Positive imaginary part, retrying.\")\n",
    "                imag = -beta.imag\n",
    "                guess = 1/.999999 * guess.real + imag * 1j\n",
    "                raise RuntimeError\n",
    "            else:\n",
    "                print(\"Scaled beta: \", beta, \". Residual of determinant: \", \n",
    "                      abs(A.determinant(beta, nu, outer, Ktype, pml)), '\\n\\n' )\n",
    "                imag = beta.imag  # set current imaginary part as guess for next one\n",
    "                flag=False\n",
    "        except RuntimeError:\n",
    "            guess = .999999 * guess.real + 1j * imag\n",
    "            reduce += 1\n",
    "            print(\"scaling guess: \" + str(reduce), flush=True)\n",
    "    betas2[i] = beta\n",
    "    "
   ]
  },
  {
   "cell_type": "code",
   "execution_count": null,
   "id": "052be96b",
   "metadata": {},
   "outputs": [],
   "source": [
    "%matplotlib notebook\n",
    "fig = plt.figure(figsize=(8,5))\n",
    "ax = plt.gca()\n",
    "\n",
    "ax.plot(wls, -betas1.imag, color='green', linewidth=.9)\n",
    "ax.plot(wls, -betas2.imag, color='orange', linewidth=.9)\n",
    "\n",
    "plt.yscale('log')\n",
    "ym,yM = ax.get_ylim()\n",
    "for l in Ls:\n",
    "    ax.plot([l,l], [0, yM],  linewidth=1, linestyle=':')"
   ]
  },
  {
   "cell_type": "markdown",
   "id": "51f4fb1f",
   "metadata": {},
   "source": [
    "# Ripples in this one\n",
    "\n",
    "This seems to happen only when there is high index material to the boundary."
   ]
  }
 ],
 "metadata": {
  "kernelspec": {
   "display_name": "Python 3 (ipykernel)",
   "language": "python",
   "name": "python3"
  },
  "language_info": {
   "codemirror_mode": {
    "name": "ipython",
    "version": 3
   },
   "file_extension": ".py",
   "mimetype": "text/x-python",
   "name": "python",
   "nbconvert_exporter": "python",
   "pygments_lexer": "ipython3",
   "version": "3.10.12"
  }
 },
 "nbformat": 4,
 "nbformat_minor": 5
}
