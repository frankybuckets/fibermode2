{
 "cells": [
  {
   "cell_type": "markdown",
   "id": "720129b6",
   "metadata": {},
   "source": [
    "\n",
    "# Find N3 leaky modes but with PML\n"
   ]
  },
  {
   "cell_type": "code",
   "execution_count": null,
   "id": "664ce3d7",
   "metadata": {},
   "outputs": [],
   "source": [
    "import numpy as np\n",
    "\n",
    "from fiberamp.fiber.microstruct.bragg import BraggExact\n",
    "from fiberamp.fiber.microstruct.bragg import plotlogf\n",
    "from ngsolve.webgui import Draw\n",
    "from ngsolve import CF\n",
    "from scipy.optimize import newton\n"
   ]
  },
  {
   "cell_type": "markdown",
   "id": "bc2ce67e",
   "metadata": {},
   "source": [
    "# Initialize Parameters"
   ]
  },
  {
   "cell_type": "code",
   "execution_count": null,
   "id": "8dc387b5",
   "metadata": {},
   "outputs": [],
   "source": [
    "n_air = 1.00027717\n",
    "n_glass = 1.4388164768221814\n",
    "ts = [15*2.7183333333333333e-6, 10e-6, 15*2.7183333333333333e-6,\n",
    "      10e-6, 30e-6, 30e-6]\n",
    "rhos =[sum(ts[:i]) for i in range(1, len(ts)+1)]\n",
    "\n",
    "ns = [lambda x: n_air, lambda x: n_glass, lambda x: n_air,\n",
    "      lambda x: n_glass, lambda x: n_air, lambda x: n_air]\n",
    "mats = ['core', 'glass', 'air', 'glass', 'air', 'Outer']\n",
    "maxhs = [.2, .01, .1, .007, .04, .03]\n",
    "scale = 15e-6\n",
    "\n",
    "n = 300\n",
    "wls = np.linspace(1.4e-6, 2e-6, n+1)"
   ]
  },
  {
   "cell_type": "markdown",
   "id": "bc687921",
   "metadata": {},
   "source": [
    "# Mode Finding and Viewing"
   ]
  },
  {
   "cell_type": "code",
   "execution_count": null,
   "id": "e74065e7",
   "metadata": {},
   "outputs": [],
   "source": [
    "good_wl = wls[200]\n",
    "\n",
    "bad_wl = wls[162]\n",
    "A = BraggExact(ts=ts, ns=ns, mats=mats, maxhs=maxhs, scale=scale, wl=bad_wl)\n"
   ]
  },
  {
   "cell_type": "code",
   "execution_count": null,
   "id": "9e68f5cc",
   "metadata": {},
   "outputs": [],
   "source": [
    "Draw(CF([n for n in A.ns]), A.mesh)"
   ]
  },
  {
   "cell_type": "code",
   "execution_count": null,
   "id": "7017a529",
   "metadata": {},
   "outputs": [],
   "source": [
    "k_low = A.k0 * A.ns[0] * A.scale\n",
    "k_low"
   ]
  },
  {
   "cell_type": "markdown",
   "id": "53a1a159",
   "metadata": {},
   "source": [
    "## First standard method:"
   ]
  },
  {
   "cell_type": "code",
   "execution_count": null,
   "id": "cab9eb3d",
   "metadata": {},
   "outputs": [],
   "source": [
    "outer = 'h2'\n",
    "nu = 1"
   ]
  },
  {
   "cell_type": "code",
   "execution_count": null,
   "id": "7ac1de67",
   "metadata": {},
   "outputs": [],
   "source": [
    "k_low = A.k0 * A.ns[0] * A.scale\n",
    "\n",
    "plotlogf(A.determinant, .9997*k_low, 1.0001*k_low, -.01,.01, nu, outer,\n",
    "         iref=100, rref=100, levels=100)"
   ]
  },
  {
   "cell_type": "code",
   "execution_count": null,
   "id": "f5d0ebf1",
   "metadata": {},
   "outputs": [],
   "source": [
    "guess = np.array(.99999*k_low)\n",
    "\n",
    "beta1 = newton(A.determinant, guess, args=(nu, outer), tol = 1e-15)\n",
    "\n",
    "print(\"Scaled beta: \", beta1, \". Residual of determinant: \", abs(A.determinant(beta1, nu, outer)))\n"
   ]
  },
  {
   "cell_type": "markdown",
   "id": "359c3ee0",
   "metadata": {},
   "source": [
    "# Bragg Exact Fields"
   ]
  },
  {
   "cell_type": "code",
   "execution_count": null,
   "id": "f67b98d6",
   "metadata": {},
   "outputs": [],
   "source": [
    "Fs = A.all_fields(beta1, nu, outer)"
   ]
  },
  {
   "cell_type": "markdown",
   "id": "394b8d61",
   "metadata": {},
   "source": [
    "## Z-Components"
   ]
  },
  {
   "cell_type": "code",
   "execution_count": null,
   "id": "584da24d",
   "metadata": {},
   "outputs": [],
   "source": [
    "Draw(Fs['Ez'], A.mesh)"
   ]
  },
  {
   "cell_type": "code",
   "execution_count": null,
   "id": "03c5c821",
   "metadata": {},
   "outputs": [],
   "source": [
    "Draw(Fs['Ephi'].imag, A.mesh)"
   ]
  },
  {
   "cell_type": "code",
   "execution_count": null,
   "id": "bfab8c4c",
   "metadata": {},
   "outputs": [],
   "source": [
    "Draw(Fs['Hz'], A.mesh)"
   ]
  },
  {
   "cell_type": "code",
   "execution_count": null,
   "id": "9883359d",
   "metadata": {},
   "outputs": [],
   "source": [
    "Draw(Fs['Hphi'].imag, A.mesh)"
   ]
  },
  {
   "cell_type": "markdown",
   "id": "5e1562f9",
   "metadata": {},
   "source": [
    "## Transverse fields"
   ]
  },
  {
   "cell_type": "code",
   "execution_count": null,
   "id": "877a28b6",
   "metadata": {},
   "outputs": [],
   "source": [
    "# Draw(Fs['Etv'].real, A.mesh, vectors={'grid_size':100})\n",
    "Draw(1/2.3e2*Fs['Etv'].Norm(), A.mesh)\n"
   ]
  },
  {
   "cell_type": "markdown",
   "id": "6dcec7df",
   "metadata": {},
   "source": [
    "# With PML"
   ]
  },
  {
   "cell_type": "code",
   "execution_count": null,
   "id": "1e8d7f75",
   "metadata": {},
   "outputs": [],
   "source": [
    "outer = 'pcb'\n",
    "pml = {'alpha':10, 'R0':rhos[-2]}\n",
    "nu = 1"
   ]
  },
  {
   "cell_type": "code",
   "execution_count": null,
   "id": "6c43fd31",
   "metadata": {},
   "outputs": [],
   "source": [
    "k_low = A.k0 * A.ns[0] * A.scale\n",
    "\n",
    "plotlogf(A.determinant, .9999*k_low, 1.00001*k_low, -.005,.001, nu, outer, 'kappa', pml,\n",
    "         iref=100, rref=100, levels=100)"
   ]
  },
  {
   "cell_type": "code",
   "execution_count": null,
   "id": "1442ee12",
   "metadata": {},
   "outputs": [],
   "source": [
    "true_fund = 54.681930148848885-0.0006875029374595873j"
   ]
  },
  {
   "cell_type": "code",
   "execution_count": null,
   "id": "784cf35a",
   "metadata": {},
   "outputs": [],
   "source": [
    "# guess = np.array(.99999*k_low)\n",
    "guess = np.array(true_fund)\n",
    "\n",
    "beta1 = newton(A.determinant, guess, args=(nu, outer, 'kappa', pml), tol = 1e-15)\n",
    "\n",
    "print(\"Scaled beta: \", beta1, \". Residual of determinant: \", abs(A.determinant(beta1, nu, outer, 'kappa', pml)))\n"
   ]
  },
  {
   "cell_type": "markdown",
   "id": "2d1f6e59",
   "metadata": {},
   "source": [
    "# Bragg Exact Fields"
   ]
  },
  {
   "cell_type": "code",
   "execution_count": null,
   "id": "cbfc370e",
   "metadata": {},
   "outputs": [],
   "source": [
    "Fs = A.all_fields(beta1, nu, outer, 'kappa', pml)"
   ]
  },
  {
   "cell_type": "markdown",
   "id": "f5455cb0",
   "metadata": {},
   "source": [
    "## Z-Components"
   ]
  },
  {
   "cell_type": "code",
   "execution_count": null,
   "id": "7c35d9fc",
   "metadata": {},
   "outputs": [],
   "source": [
    "Draw(Fs['Ez'], A.mesh)"
   ]
  },
  {
   "cell_type": "code",
   "execution_count": null,
   "id": "348e4d87",
   "metadata": {},
   "outputs": [],
   "source": [
    "Draw(Fs['Ephi'], A.mesh)"
   ]
  },
  {
   "cell_type": "markdown",
   "id": "c8ff3e37",
   "metadata": {},
   "source": [
    "## Transverse fields"
   ]
  },
  {
   "cell_type": "code",
   "execution_count": null,
   "id": "675945d1",
   "metadata": {},
   "outputs": [],
   "source": [
    "# Draw(Fs['Etv'].real, A.mesh, vectors={'grid_size':100})\n",
    "Draw(Fs['Etv'].Norm() - Fs['Er'].Norm(), A.mesh)\n"
   ]
  },
  {
   "cell_type": "code",
   "execution_count": null,
   "id": "c11153ff",
   "metadata": {},
   "outputs": [],
   "source": []
  }
 ],
 "metadata": {
  "kernelspec": {
   "display_name": "Python 3 (ipykernel)",
   "language": "python",
   "name": "python3"
  },
  "language_info": {
   "codemirror_mode": {
    "name": "ipython",
    "version": 3
   },
   "file_extension": ".py",
   "mimetype": "text/x-python",
   "name": "python",
   "nbconvert_exporter": "python",
   "pygments_lexer": "ipython3",
   "version": "3.10.6"
  }
 },
 "nbformat": 4,
 "nbformat_minor": 5
}
