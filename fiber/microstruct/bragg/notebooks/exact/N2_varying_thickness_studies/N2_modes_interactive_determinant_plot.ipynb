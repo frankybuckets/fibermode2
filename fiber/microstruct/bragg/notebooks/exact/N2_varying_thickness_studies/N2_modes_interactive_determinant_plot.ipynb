{
 "cells": [
  {
   "cell_type": "markdown",
   "id": "720129b6",
   "metadata": {},
   "source": [
    "\n",
    "# N2 Configuration with varying outer air region thickness\n",
    "\n",
    "Here we create (hopefully) an interactive plot to see what happens to the modes as we vary the outer air region thickness."
   ]
  },
  {
   "cell_type": "code",
   "execution_count": null,
   "id": "664ce3d7",
   "metadata": {},
   "outputs": [],
   "source": [
    "import numpy as np\n",
    "import matplotlib.pyplot as plt\n",
    "\n",
    "from fiberamp.fiber.microstruct.bragg import BraggExact\n",
    "from step_exact import plotlogf, plotlogf_real\n",
    "from ipywidgets import interactive, FloatSlider"
   ]
  },
  {
   "cell_type": "code",
   "execution_count": null,
   "id": "3c9590f0",
   "metadata": {},
   "outputs": [],
   "source": [
    "d = 4.0775e-05  # thickness of innermost region (core radius)\n",
    "ts = [d, 1e-5, 5/3 * d, 1.5e-5]\n",
    "outer = 'h2'\n",
    "nu = 1"
   ]
  },
  {
   "cell_type": "markdown",
   "id": "a5126472",
   "metadata": {},
   "source": [
    "# Interactive Plots"
   ]
  },
  {
   "cell_type": "markdown",
   "id": "0b195e7c",
   "metadata": {},
   "source": [
    "### Wavelength\n",
    "\n",
    "For warm up and debugging, here's a wavelength dependence view of the propagation constants."
   ]
  },
  {
   "cell_type": "code",
   "execution_count": null,
   "id": "1f3e9176",
   "metadata": {},
   "outputs": [],
   "source": [
    "H = BraggExact(ts=ts, no_mesh=True)\n"
   ]
  },
  {
   "cell_type": "code",
   "execution_count": null,
   "id": "6a647d19",
   "metadata": {},
   "outputs": [],
   "source": [
    "nu = 1\n",
    "\n",
    "def det_plot(wl):\n",
    "    \n",
    "    H.wavelength = wl*1e-6\n",
    "    cutoff = H.ks[0] * H.scale\n",
    "    \n",
    "    Xr = np.linspace(.999* cutoff , 1.0001*cutoff , num=100)\n",
    "    Xi = np.linspace( -.01, .01, num=100)\n",
    "    xr, xi = np.meshgrid(Xr, Xi)\n",
    "    zs = xr + 1j * xi\n",
    "    \n",
    "    fig, ax1 = plt.subplots(1, 1, figsize=(12,8))\n",
    "    \n",
    "    fs1 = H.determinant(zs, nu=nu, outer='h2')\n",
    "    ax1.contour(xr, xi, np.log(np.abs(fs1)), levels=100)\n",
    "    ax1.grid(True)\n",
    "    ax1.set_facecolor('grey')\n",
    "    ax1.set_title('Leaky modes nu='+str(nu))\n",
    "    ax1.set_xticklabels([])\n",
    "    ax1.set_yticklabels([])\n",
    "\n",
    "    plt.show()\n",
    "    \n",
    "interactive_plot = interactive(det_plot, wl=FloatSlider(min=1.4, max=2, step=.01,\n",
    "                                                        value=1.4, readout_format='.2f'))\n",
    "output = interactive_plot.children[-1]\n",
    "output.layout.height = '10'\n",
    "interactive_plot"
   ]
  },
  {
   "cell_type": "markdown",
   "id": "4e443403",
   "metadata": {},
   "source": [
    "### Outer air thickness"
   ]
  },
  {
   "cell_type": "code",
   "execution_count": null,
   "id": "d63bda7a",
   "metadata": {},
   "outputs": [],
   "source": [
    "d = 4.0775e-05  # thickness of innermost region (core radius)\n",
    "ts = [d, 1e-5, d, 1.5e-5]\n",
    "\n",
    "H = BraggExact(ts=ts, no_mesh=True)\n"
   ]
  },
  {
   "cell_type": "code",
   "execution_count": null,
   "id": "8ea12760",
   "metadata": {},
   "outputs": [],
   "source": [
    "nu = 1\n",
    "\n",
    "def det_plot(T):\n",
    "    d = 4.0775e-05  # thickness of innermost region (core radius)\n",
    "    ts = [d, 1e-5, T * d, 1.5e-5]\n",
    "    H.ts = ts\n",
    "    cutoff = H.ks[0] * H.scale\n",
    "    \n",
    "    Xr = np.linspace(.9998* cutoff , 1.000001*cutoff , num=75)\n",
    "    Xi = np.linspace( -.001, .001, num=75)\n",
    "    xr, xi = np.meshgrid(Xr, Xi)\n",
    "    zs = xr + 1j * xi\n",
    "    \n",
    "    fig, ax1 = plt.subplots(1, 1, figsize=(12,8))\n",
    "    \n",
    "    fs1 = H.determinant(zs, nu=nu, outer='h2')\n",
    "    ax1.contour(xr, xi, np.log(np.abs(fs1)), levels=75)\n",
    "    ax1.grid(True)\n",
    "    ax1.set_facecolor('grey')\n",
    "    ax1.set_title('Behavior near Fundamental Mode as outer thickness changes.')\n",
    "    ax1.set_xticklabels([])\n",
    "    ax1.set_yticklabels([])\n",
    "    plt.show()\n",
    "    \n",
    "interactive_plot = interactive(det_plot, T=FloatSlider(min=1, max=5/3, step=.01,\n",
    "                                                       value=5/3, readout_format='.2f'))\n",
    "output = interactive_plot.children[-1]\n",
    "output.layout.height = '10'\n",
    "interactive_plot"
   ]
  },
  {
   "cell_type": "markdown",
   "id": "c069bc7f",
   "metadata": {},
   "source": [
    "### Closer inspection of behavior as modes pass fundamental"
   ]
  },
  {
   "cell_type": "code",
   "execution_count": null,
   "id": "66dcecf8",
   "metadata": {},
   "outputs": [],
   "source": [
    "nu = 1\n",
    "\n",
    "def det_plot(T):\n",
    "    d = 4.0775e-05  # thickness of innermost region (core radius)\n",
    "    ts = [d, 1e-5, T * d, 1.5e-5]\n",
    "    H.ts = ts\n",
    "    cutoff = H.ks[0] * H.scale\n",
    "    \n",
    "    Xr = np.linspace(.99985* cutoff , .99987*cutoff , num=75)\n",
    "    Xi = np.linspace( -.0002, .0002, num=75)\n",
    "    xr, xi = np.meshgrid(Xr, Xi)\n",
    "    zs = xr + 1j * xi\n",
    "    \n",
    "    fig, ax1 = plt.subplots(1, 1, figsize=(12,8))\n",
    "    \n",
    "    fs1 = H.determinant(zs, nu=nu, outer='h2')\n",
    "    ax1.contour(xr, xi, np.log(np.abs(fs1)), levels=75)\n",
    "    ax1.grid(True)\n",
    "    ax1.set_facecolor('grey')\n",
    "    ax1.set_title('Behavior near Fundamental Mode as outer thickness changes.')\n",
    "    ax1.set_xticklabels([])\n",
    "    ax1.set_yticklabels([])\n",
    "    plt.show()\n",
    "    \n",
    "interactive_plot = interactive(det_plot, T=FloatSlider(min=1, max=5/3, step=.02,\n",
    "                                                       value=1, readout_format='.2f'))\n",
    "output = interactive_plot.children[-1]\n",
    "output.layout.height = '10'\n",
    "interactive_plot"
   ]
  },
  {
   "cell_type": "markdown",
   "id": "afce437e",
   "metadata": {},
   "source": [
    "## Need even closer and with finer step size"
   ]
  },
  {
   "cell_type": "markdown",
   "id": "6f85fd0f",
   "metadata": {},
   "source": [
    "### First mode replaces original fundamental as T increases !!\n",
    "\n",
    "That is wild.  We definitely need to look at the mode profiles where this replacement happens"
   ]
  },
  {
   "cell_type": "code",
   "execution_count": null,
   "id": "4f45f321",
   "metadata": {},
   "outputs": [],
   "source": [
    "nu = 1\n",
    "\n",
    "def det_plot(T):\n",
    "    d = 4.0775e-05  # thickness of innermost region (core radius)\n",
    "    ts = [d, 1e-5, T * d, 1.5e-5]\n",
    "    H.ts = ts\n",
    "    cutoff = H.ks[0] * H.scale\n",
    "    \n",
    "    Xr = np.linspace(.99985* cutoff , .999867*cutoff , num=75)\n",
    "    Xi = np.linspace( -.00015, .000075, num=75)\n",
    "    xr, xi = np.meshgrid(Xr, Xi)\n",
    "    zs = xr + 1j * xi\n",
    "    \n",
    "    fig, ax1 = plt.subplots(1, 1, figsize=(12,8))\n",
    "    \n",
    "    fs1 = H.determinant(zs, nu=nu, outer='h2')\n",
    "    ax1.contour(xr, xi, np.log(np.abs(fs1)), levels=75)\n",
    "    ax1.grid(True)\n",
    "    ax1.set_facecolor('grey')\n",
    "    ax1.set_title('Behavior near Fundamental Mode as outer thickness changes.')\n",
    "    ax1.set_xticklabels([])\n",
    "#     ax1.set_yticklabels([])\n",
    "    plt.show()\n",
    "    \n",
    "interactive_plot = interactive(det_plot, T=FloatSlider(min=1.26,max=1.356, step=.004,\n",
    "                                                       value=1.26, readout_format='.3f'))\n",
    "output = interactive_plot.children[-1]\n",
    "output.layout.height = '10'\n",
    "interactive_plot"
   ]
  },
  {
   "cell_type": "markdown",
   "id": "d9dd4711",
   "metadata": {},
   "source": [
    "### Second mode passes underneath the current fundamental (as T increases)"
   ]
  },
  {
   "cell_type": "code",
   "execution_count": null,
   "id": "e72b6e4a",
   "metadata": {},
   "outputs": [],
   "source": [
    "nu = 1\n",
    "\n",
    "def det_plot(T):\n",
    "    d = 4.0775e-05  # thickness of innermost region (core radius)\n",
    "    ts = [d, 1e-5, T * d, 1.5e-5]\n",
    "    H.ts = ts\n",
    "    cutoff = H.ks[0] * H.scale\n",
    "    \n",
    "    Xr = np.linspace(.999855* cutoff , .999859*cutoff , num=75)\n",
    "    Xi = np.linspace( -.00017, .0001, num=75)\n",
    "    xr, xi = np.meshgrid(Xr, Xi)\n",
    "    zs = xr + 1j * xi\n",
    "    \n",
    "    fig, ax1 = plt.subplots(1, 1, figsize=(12,8))\n",
    "    \n",
    "    fs1 = H.determinant(zs, nu=nu, outer='h2')\n",
    "    ax1.contour(xr, xi, np.log(np.abs(fs1)), levels=75)\n",
    "    ax1.grid(True)\n",
    "    ax1.set_facecolor('grey')\n",
    "    ax1.set_title('Behavior near Fundamental Mode as outer thickness changes.')\n",
    "    ax1.set_xticklabels([])\n",
    "#     ax1.set_yticklabels([])\n",
    "    plt.show()\n",
    "    \n",
    "interactive_plot = interactive(det_plot, T=FloatSlider(min=1.435, max=1.445, step=.0002,\n",
    "                                                       value=1.435, readout_format='.4f'))\n",
    "output = interactive_plot.children[-1]\n",
    "output.layout.height = '10'\n",
    "interactive_plot"
   ]
  },
  {
   "cell_type": "code",
   "execution_count": null,
   "id": "fa628a26",
   "metadata": {},
   "outputs": [],
   "source": []
  }
 ],
 "metadata": {
  "kernelspec": {
   "display_name": "Python 3 (ipykernel)",
   "language": "python",
   "name": "python3"
  },
  "language_info": {
   "codemirror_mode": {
    "name": "ipython",
    "version": 3
   },
   "file_extension": ".py",
   "mimetype": "text/x-python",
   "name": "python",
   "nbconvert_exporter": "python",
   "pygments_lexer": "ipython3",
   "version": "3.8.10"
  }
 },
 "nbformat": 4,
 "nbformat_minor": 5
}
