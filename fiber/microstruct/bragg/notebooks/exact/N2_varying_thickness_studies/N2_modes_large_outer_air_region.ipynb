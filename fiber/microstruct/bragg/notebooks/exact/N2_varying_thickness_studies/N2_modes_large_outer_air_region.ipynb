{
 "cells": [
  {
   "cell_type": "markdown",
   "id": "720129b6",
   "metadata": {},
   "source": [
    "\n",
    "# N2 Configuration with large outer air region\n",
    "\n",
    "When the thickness of the outer air region becomes greater than that of the interior air region, the fundamental mode splits into multiple modes, and the true fundamental now has lower real part than some of the new ones.  It still seems to have lower loss though."
   ]
  },
  {
   "cell_type": "code",
   "execution_count": null,
   "id": "664ce3d7",
   "metadata": {},
   "outputs": [],
   "source": [
    "import numpy as np\n",
    "\n",
    "from fiberamp.fiber.microstruct.bragg import BraggExact\n",
    "from step_exact import plotlogf, plotlogf_real\n",
    "from ngsolve.webgui import Draw\n",
    "from ngsolve import CF\n",
    "from scipy.optimize import newton\n"
   ]
  },
  {
   "cell_type": "code",
   "execution_count": null,
   "id": "3c9590f0",
   "metadata": {},
   "outputs": [],
   "source": [
    "d = 4.0775e-05  # thickness of innermost region (core radius)\n",
    "ts = [d, 1e-5, 5/3 * d, 1.5e-5]"
   ]
  },
  {
   "cell_type": "code",
   "execution_count": null,
   "id": "e74065e7",
   "metadata": {},
   "outputs": [],
   "source": [
    "A = BraggExact(ts=ts,maxhs=[.2,.015,.07,.015])\n"
   ]
  },
  {
   "cell_type": "code",
   "execution_count": null,
   "id": "9e68f5cc",
   "metadata": {},
   "outputs": [],
   "source": [
    "Draw(CF([n for n in A.ns]), A.mesh)"
   ]
  },
  {
   "cell_type": "code",
   "execution_count": null,
   "id": "7017a529",
   "metadata": {},
   "outputs": [],
   "source": [
    "k_low = A.k0 * A.ns[0] * A.scale\n",
    "k_low"
   ]
  },
  {
   "cell_type": "code",
   "execution_count": null,
   "id": "cab9eb3d",
   "metadata": {},
   "outputs": [],
   "source": [
    "outer = 'h2'\n",
    "nu = 1"
   ]
  },
  {
   "cell_type": "markdown",
   "id": "0a96f7ec",
   "metadata": {},
   "source": [
    "## Below we see three modes appearing where only 1 appears normally"
   ]
  },
  {
   "cell_type": "code",
   "execution_count": null,
   "id": "7ac1de67",
   "metadata": {},
   "outputs": [],
   "source": [
    "%matplotlib inline\n",
    "plotlogf(A.determinant, .9998*k_low, 1.000001*k_low, -.001,.001, nu, outer,\n",
    "         iref=100, rref=100, levels=100)"
   ]
  },
  {
   "cell_type": "markdown",
   "id": "87b493b1",
   "metadata": {},
   "source": [
    "## One way to discern the true fundamental is to look at the real part.\n",
    "\n",
    "None of these are guided, but looking at the slice through the real axis shows one root is closer than the others to having zero imaginary part: this root thus has the lowest loss and is the true fundamental"
   ]
  },
  {
   "cell_type": "code",
   "execution_count": null,
   "id": "053364d9",
   "metadata": {},
   "outputs": [],
   "source": [
    "plotlogf_real(A.determinant, .9998*k_low, 1.00001*k_low, nu, outer)"
   ]
  },
  {
   "cell_type": "code",
   "execution_count": null,
   "id": "ab561e2d",
   "metadata": {},
   "outputs": [],
   "source": [
    "xs = np.linspace(.9998 * k_low, 1.00001 * k_low, 3000)\n",
    "ys = np.abs(A.determinant(xs, nu, outer))\n",
    "\n",
    "indx = np.argmin(ys)\n",
    "guess = xs[indx]\n",
    "\n",
    "guess"
   ]
  },
  {
   "cell_type": "code",
   "execution_count": null,
   "id": "f5d0ebf1",
   "metadata": {},
   "outputs": [],
   "source": [
    "guess = np.array(guess)\n",
    "\n",
    "beta1 = newton(A.determinant, guess, args=(nu, outer), tol = 1e-15)\n",
    "\n",
    "print(\"Scaled beta: \", beta1, \". Residual of determinant: \", abs(A.determinant(beta1, nu, outer)))\n"
   ]
  },
  {
   "cell_type": "markdown",
   "id": "359c3ee0",
   "metadata": {},
   "source": [
    "# True Fundamental Mode"
   ]
  },
  {
   "cell_type": "code",
   "execution_count": null,
   "id": "f67b98d6",
   "metadata": {},
   "outputs": [],
   "source": [
    "Fs1 = A.all_fields(beta1, nu, outer)"
   ]
  },
  {
   "cell_type": "markdown",
   "id": "394b8d61",
   "metadata": {},
   "source": [
    "## Z-Components"
   ]
  },
  {
   "cell_type": "code",
   "execution_count": null,
   "id": "584da24d",
   "metadata": {},
   "outputs": [],
   "source": [
    "Draw(1e0*Fs1['Ez'], A.mesh)"
   ]
  },
  {
   "cell_type": "markdown",
   "id": "5e1562f9",
   "metadata": {},
   "source": [
    "## Transverse field"
   ]
  },
  {
   "cell_type": "code",
   "execution_count": null,
   "id": "877a28b6",
   "metadata": {},
   "outputs": [],
   "source": [
    "Draw(Fs1['Etv'].real, A.mesh, vectors={'grid_size':100})\n"
   ]
  },
  {
   "cell_type": "markdown",
   "id": "c6666d1f",
   "metadata": {},
   "source": [
    "# The Other fundamental modes\n",
    "\n",
    "These are similar to the true one, but have most of their energy in the outer ring."
   ]
  },
  {
   "cell_type": "code",
   "execution_count": null,
   "id": "e9cb758d",
   "metadata": {},
   "outputs": [],
   "source": [
    "%matplotlib inline\n",
    "plotlogf(A.determinant, .9998*k_low, 1.000001*k_low, -.001,.001, nu, outer,\n",
    "         iref=100, rref=100, levels=100)"
   ]
  },
  {
   "cell_type": "markdown",
   "id": "978981cf",
   "metadata": {},
   "source": [
    "### Farthest right mode:\n",
    "\n",
    "Notably, this mode is still nearly linearly polarized (even in the ripple regions).  \n",
    "\n",
    "(Note that this refers to the real part of the field.)"
   ]
  },
  {
   "cell_type": "code",
   "execution_count": null,
   "id": "1da807f9",
   "metadata": {},
   "outputs": [],
   "source": [
    "guess = np.array(.99992*k_low)\n",
    "\n",
    "beta3 = newton(A.determinant, guess, args=(nu, outer), tol = 1e-15)\n",
    "\n",
    "print(\"Scaled beta: \", beta3, \". Residual of determinant: \", abs(A.determinant(beta3, nu, outer)))\n"
   ]
  },
  {
   "cell_type": "code",
   "execution_count": null,
   "id": "af88d90e",
   "metadata": {},
   "outputs": [],
   "source": [
    "Fs3 = A.all_fields(beta3, nu, outer)"
   ]
  },
  {
   "cell_type": "code",
   "execution_count": null,
   "id": "697c42c4",
   "metadata": {},
   "outputs": [],
   "source": [
    "Draw(1e0*Fs3['Ez'], A.mesh)"
   ]
  },
  {
   "cell_type": "code",
   "execution_count": null,
   "id": "84bac942",
   "metadata": {},
   "outputs": [],
   "source": [
    "Draw(Fs3['Etv'].real, A.mesh, vectors={'grid_size':100})\n"
   ]
  },
  {
   "cell_type": "markdown",
   "id": "d58505b9",
   "metadata": {},
   "source": [
    "### X and Y components"
   ]
  },
  {
   "cell_type": "code",
   "execution_count": null,
   "id": "2202adc1",
   "metadata": {},
   "outputs": [],
   "source": [
    "Draw(-1e-2*Fs3['Ey'], A.mesh)\n"
   ]
  },
  {
   "cell_type": "code",
   "execution_count": null,
   "id": "b665023a",
   "metadata": {},
   "outputs": [],
   "source": [
    "Draw(-1e-2*Fs3['Ex'], A.mesh)\n"
   ]
  },
  {
   "cell_type": "markdown",
   "id": "e4ba5ce5",
   "metadata": {},
   "source": [
    "### Middle mode:\n",
    "\n",
    "This is no longer close to linearly polarized, and appears to look more like a higher order mode"
   ]
  },
  {
   "cell_type": "code",
   "execution_count": null,
   "id": "420bac5b",
   "metadata": {},
   "outputs": [],
   "source": [
    "guess = np.array(.9999*k_low)\n",
    "\n",
    "beta2 = newton(A.determinant, guess, args=(nu, outer), tol = 1e-15)\n",
    "\n",
    "print(\"Scaled beta: \", beta2, \". Residual of determinant: \", abs(A.determinant(beta2, nu, outer)))\n"
   ]
  },
  {
   "cell_type": "code",
   "execution_count": null,
   "id": "87c726c0",
   "metadata": {},
   "outputs": [],
   "source": [
    "Fs2 = A.all_fields(beta2, nu, outer)"
   ]
  },
  {
   "cell_type": "code",
   "execution_count": null,
   "id": "cb4c225d",
   "metadata": {},
   "outputs": [],
   "source": [
    "Draw(1e-1*Fs2['Ez'], A.mesh)"
   ]
  },
  {
   "cell_type": "code",
   "execution_count": null,
   "id": "f4014531",
   "metadata": {},
   "outputs": [],
   "source": [
    "Draw(1e-3*Fs2['Etv'].real, A.mesh, vectors={'grid_size':100})\n"
   ]
  },
  {
   "cell_type": "markdown",
   "id": "6b394921",
   "metadata": {},
   "source": [
    "### X and Y components"
   ]
  },
  {
   "cell_type": "code",
   "execution_count": null,
   "id": "1367fc00",
   "metadata": {},
   "outputs": [],
   "source": [
    "Draw(-1e-2*Fs2['Ey'], A.mesh)\n"
   ]
  },
  {
   "cell_type": "code",
   "execution_count": null,
   "id": "1e2b4fd6",
   "metadata": {},
   "outputs": [],
   "source": [
    "Draw(-1e-2*Fs2['Ex'], A.mesh)\n"
   ]
  }
 ],
 "metadata": {
  "kernelspec": {
   "display_name": "Python 3 (ipykernel)",
   "language": "python",
   "name": "python3"
  },
  "language_info": {
   "codemirror_mode": {
    "name": "ipython",
    "version": 3
   },
   "file_extension": ".py",
   "mimetype": "text/x-python",
   "name": "python",
   "nbconvert_exporter": "python",
   "pygments_lexer": "ipython3",
   "version": "3.8.10"
  }
 },
 "nbformat": 4,
 "nbformat_minor": 5
}
