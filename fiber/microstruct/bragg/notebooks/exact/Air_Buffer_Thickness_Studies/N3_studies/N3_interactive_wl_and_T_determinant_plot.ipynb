{
 "cells": [
  {
   "cell_type": "markdown",
   "id": "720129b6",
   "metadata": {},
   "source": [
    "\n",
    "# N3 Configuration with varying outer air region thickness and Wavelength\n",
    "\n",
    "Here we create (hopefully) an interactive plot to see what happens to the modes as we vary the outer air region thickness."
   ]
  },
  {
   "cell_type": "code",
   "execution_count": null,
   "id": "664ce3d7",
   "metadata": {},
   "outputs": [],
   "source": [
    "import numpy as np\n",
    "import matplotlib.pyplot as plt\n",
    "\n",
    "from fiberamp.fiber.microstruct.bragg import BraggExact\n",
    "from step_exact import plotlogf, plotlogf_real\n",
    "from ngsolve.webgui import Draw\n",
    "from scipy.optimize import newton\n",
    "\n",
    "from ipywidgets import interactive, FloatSlider, Layout"
   ]
  },
  {
   "cell_type": "code",
   "execution_count": null,
   "id": "38fde573",
   "metadata": {},
   "outputs": [],
   "source": [
    "n_air = 1.00027717\n",
    "n_glass = 1.4388164768221814\n",
    "\n",
    "ns = [lambda x:n_air, lambda x:n_glass, lambda x:n_air, lambda x : n_glass, lambda x: n_air]\n",
    "mats = ['air', 'glass','air', 'glass', 'air']\n",
    "maxhs = [100 for r in mats]\n",
    "outer = 'h2'\n",
    "\n",
    "nu = 1\n",
    "\n",
    "d = 4.0775e-05\n",
    "ts = [d , 1e-5, d, 1e-5, 2e-5]\n",
    "H = BraggExact(ts=ts,ns=ns, mats=mats, maxhs=maxhs, no_mesh=True)"
   ]
  },
  {
   "cell_type": "markdown",
   "id": "2aab143b",
   "metadata": {},
   "source": [
    "# Both Wavelength and T"
   ]
  },
  {
   "cell_type": "code",
   "execution_count": null,
   "id": "8ea12760",
   "metadata": {},
   "outputs": [],
   "source": [
    "nu = 1\n",
    "\n",
    "def det_plot(T, wl):\n",
    "    d = 4.0775e-05  # thickness of innermost region (core radius)\n",
    "    ts = [d , 1e-5, T*d, 1e-5, 2e-5]\n",
    "    H.ts = ts\n",
    "    H.wavelength = wl * 1e-6\n",
    "    cutoff = H.ks[0] * H.scale\n",
    "    \n",
    "    Xr = np.linspace(.9998* cutoff , 1.00005*cutoff , num=75)\n",
    "    Xi = np.linspace( -.005, .0015, num=75)\n",
    "    xr, xi = np.meshgrid(Xr, Xi)\n",
    "    zs = xr + 1j * xi\n",
    "    \n",
    "    fig, ax1 = plt.subplots(1, 1, figsize=(14,10))\n",
    "    \n",
    "    fs1 = H.determinant(zs, nu=nu, outer='h2')\n",
    "    ax1.contour(xr, xi, np.log(np.abs(fs1)), levels=75)\n",
    "    ax1.grid(True)\n",
    "    m, M = ax1.get_ylim()\n",
    "    ax1.plot([cutoff, cutoff], [m,M],lw=1.2, ls='--', c=\"orange\")\n",
    "    ax1.set_facecolor('grey')\n",
    "    ax1.set_title('Behavior near Fundamental Mode as buffer air thickness goes to zero')\n",
    "#     ax1.set_xticklabels([])\n",
    "    ax1.set_yticks([0])\n",
    "    plt.show()\n",
    "    \n",
    "interactive_plot = interactive(det_plot,\n",
    "                               T=FloatSlider(min=0, max=.003, step=.00001, value=.00045, \n",
    "                                             readout_format='.5f', layout=Layout(width='100%')),\n",
    "                               wl=FloatSlider(min=1.4, max=2, step=.02, value=1.8,\n",
    "                                              readout_format='.2f', layout=Layout(width='100%')))\n",
    "\n",
    "output = interactive_plot.children[-1]\n",
    "output.layout.height = '10'\n",
    "interactive_plot"
   ]
  },
  {
   "cell_type": "code",
   "execution_count": null,
   "id": "bc5b5191",
   "metadata": {},
   "outputs": [],
   "source": [
    "A = BraggExact(ts=H.ts)\n"
   ]
  },
  {
   "cell_type": "code",
   "execution_count": null,
   "id": "d5f712d5",
   "metadata": {},
   "outputs": [],
   "source": [
    "Draw(A.mesh)"
   ]
  },
  {
   "cell_type": "markdown",
   "id": "6bafb1c4",
   "metadata": {},
   "source": [
    "# The Bumping is much more dramatic at some wavelengths.\n",
    "\n",
    "At 1.89, the fundamental runs from the incoming modes right away as T increases from 1.\n",
    "\n",
    "Would be worth looking at mode profiles for this."
   ]
  },
  {
   "cell_type": "code",
   "execution_count": null,
   "id": "ae11932c",
   "metadata": {},
   "outputs": [],
   "source": [
    "k_low = H.ks[0] * H.scale\n",
    "guess = .999999*k_low"
   ]
  },
  {
   "cell_type": "code",
   "execution_count": null,
   "id": "268f3f74",
   "metadata": {},
   "outputs": [],
   "source": [
    "from scipy.optimize import newton\n",
    "guess = np.array(guess)\n",
    "\n",
    "beta1 = newton(H.determinant, guess, args=(nu, outer), tol = 1e-15)\n",
    "\n",
    "print(\"Scaled beta: \", beta1, \". Residual of determinant: \", abs(H.determinant(beta1, nu, outer)))\n"
   ]
  },
  {
   "cell_type": "code",
   "execution_count": null,
   "id": "0a240d31",
   "metadata": {},
   "outputs": [],
   "source": [
    "Fs = H.all_fields(beta1, nu, outer)"
   ]
  },
  {
   "cell_type": "code",
   "execution_count": null,
   "id": "548d47cb",
   "metadata": {},
   "outputs": [],
   "source": [
    "Draw(Fs['Ez'], A.mesh)"
   ]
  },
  {
   "cell_type": "markdown",
   "id": "5e86e1fb",
   "metadata": {},
   "source": [
    "# Same mode profile pattern holds\n",
    "\n",
    "The bumped mode goes from fundamental to large area, middle mode becomes new fundamental, left mode is sort of blend."
   ]
  },
  {
   "cell_type": "code",
   "execution_count": null,
   "id": "e7392ab1",
   "metadata": {},
   "outputs": [],
   "source": []
  }
 ],
 "metadata": {
  "kernelspec": {
   "display_name": "Python 3 (ipykernel)",
   "language": "python",
   "name": "python3"
  },
  "language_info": {
   "codemirror_mode": {
    "name": "ipython",
    "version": 3
   },
   "file_extension": ".py",
   "mimetype": "text/x-python",
   "name": "python",
   "nbconvert_exporter": "python",
   "pygments_lexer": "ipython3",
   "version": "3.8.10"
  }
 },
 "nbformat": 4,
 "nbformat_minor": 5
}
