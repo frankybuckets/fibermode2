{
 "cells": [
  {
   "cell_type": "markdown",
   "id": "fa4ea9c1",
   "metadata": {},
   "source": [
    "# Check: is zero value for a certain t the same as doubling thickness of a layer"
   ]
  },
  {
   "cell_type": "code",
   "execution_count": null,
   "id": "664ce3d7",
   "metadata": {},
   "outputs": [],
   "source": [
    "import numpy as np\n",
    "import matplotlib.pyplot as plt\n",
    "\n",
    "from fiberamp.fiber.microstruct.bragg import BraggExact\n",
    "from step_exact import plotlogf\n",
    "from ngsolve.webgui import Draw\n",
    "from scipy.optimize import newton"
   ]
  },
  {
   "cell_type": "markdown",
   "id": "ddec7181",
   "metadata": {},
   "source": [
    "First we load and visualize the spectral loss for N1"
   ]
  },
  {
   "cell_type": "markdown",
   "id": "af424a29",
   "metadata": {},
   "source": [
    "# Instance with zero thickness"
   ]
  },
  {
   "cell_type": "code",
   "execution_count": null,
   "id": "2d892f55",
   "metadata": {},
   "outputs": [],
   "source": [
    "outer = 'h2'\n",
    "nu = 1\n"
   ]
  },
  {
   "cell_type": "code",
   "execution_count": null,
   "id": "3a32c4aa",
   "metadata": {},
   "outputs": [],
   "source": [
    "n_air = 1.00027717\n",
    "n_glass = 1.4388164768221814\n",
    "ns = [lambda x:n_air, lambda x:n_glass, lambda x:n_air, lambda x : n_glass, lambda x: n_air]\n",
    "mats = ['air', 'glass','air', 'glass', 'air']\n",
    "maxhs = [100 for r in mats]\n",
    "\n",
    "d = 4.0775e-05\n",
    "ts = [d , 1e-5, 0, 1e-5, 2e-5]\n",
    "A = BraggExact(ts=ts,ns=ns, mats=mats, maxhs=maxhs, no_mesh=True)"
   ]
  },
  {
   "cell_type": "markdown",
   "id": "878849e8",
   "metadata": {},
   "source": [
    "# Check if this is same ultimate profile as a 2x thick N1"
   ]
  },
  {
   "cell_type": "code",
   "execution_count": null,
   "id": "a0efae67",
   "metadata": {},
   "outputs": [],
   "source": [
    "n_air = 1.00027717\n",
    "n_glass = 1.4388164768221814\n",
    "ns = [lambda x:n_air, lambda x:n_glass, lambda x:n_air]\n",
    "mats = ['air', 'glass','air']\n",
    "maxhs = [100 for r in mats]\n",
    "\n",
    "d = 4.0775e-05\n",
    "ts = [d , 2e-5, d]\n",
    "B = BraggExact(ts=ts,ns=ns, mats=mats, maxhs=maxhs, no_mesh=True)"
   ]
  },
  {
   "cell_type": "markdown",
   "id": "38a6b5fa",
   "metadata": {},
   "source": [
    "# Check determinants"
   ]
  },
  {
   "cell_type": "code",
   "execution_count": null,
   "id": "06b55232",
   "metadata": {},
   "outputs": [],
   "source": [
    "%matplotlib inline\n",
    "k_low = A.ks[0] * A.scale\n",
    "plotlogf(A.determinant, .9998*k_low, 1.000001*k_low, -.002,.002, nu, outer,\n",
    "         iref=100, rref=100, levels=100)"
   ]
  },
  {
   "cell_type": "code",
   "execution_count": null,
   "id": "e97a813d",
   "metadata": {},
   "outputs": [],
   "source": [
    "%matplotlib inline\n",
    "k_low = B.ks[0] * A.scale\n",
    "plotlogf(B.determinant, .9998*k_low, 1.000001*k_low, -.002,.002, nu, outer,\n",
    "         iref=100, rref=100, levels=100)"
   ]
  },
  {
   "cell_type": "code",
   "execution_count": null,
   "id": "f5902863",
   "metadata": {},
   "outputs": [],
   "source": []
  }
 ],
 "metadata": {
  "kernelspec": {
   "display_name": "Python 3 (ipykernel)",
   "language": "python",
   "name": "python3"
  },
  "language_info": {
   "codemirror_mode": {
    "name": "ipython",
    "version": 3
   },
   "file_extension": ".py",
   "mimetype": "text/x-python",
   "name": "python",
   "nbconvert_exporter": "python",
   "pygments_lexer": "ipython3",
   "version": "3.8.10"
  }
 },
 "nbformat": 4,
 "nbformat_minor": 5
}
