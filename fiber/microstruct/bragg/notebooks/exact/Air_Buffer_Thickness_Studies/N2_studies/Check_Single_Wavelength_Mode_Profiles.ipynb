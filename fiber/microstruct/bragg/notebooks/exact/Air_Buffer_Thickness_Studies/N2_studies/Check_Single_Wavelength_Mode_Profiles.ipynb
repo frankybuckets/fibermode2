{
 "cells": [
  {
   "cell_type": "markdown",
   "id": "1eb100de",
   "metadata": {},
   "source": [
    "# Maybe we're getting the wrong modes in the increasing T N2 -> N1 study\n",
    "\n",
    "Here we pick a good wavelength and check the mode profiles to ensure we're not incorrect."
   ]
  },
  {
   "cell_type": "code",
   "execution_count": null,
   "id": "3b328323",
   "metadata": {},
   "outputs": [],
   "source": [
    "import numpy as np\n",
    "import matplotlib.pyplot as plt\n",
    "\n",
    "from fiberamp.fiber.microstruct.bragg import BraggExact\n",
    "from step_exact import plotlogf\n",
    "from ngsolve.webgui import Draw\n",
    "from scipy.optimize import newton\n",
    "from ipywidgets import interactive, FloatSlider, Layout"
   ]
  },
  {
   "cell_type": "code",
   "execution_count": null,
   "id": "84974f58",
   "metadata": {},
   "outputs": [],
   "source": [
    "n = 300\n",
    "wls = np.linspace(1.4e-6, 2e-6, n+1)\n",
    "outer = 'h2'\n",
    "nu = 1"
   ]
  },
  {
   "cell_type": "code",
   "execution_count": null,
   "id": "74cc4a13",
   "metadata": {},
   "outputs": [],
   "source": [
    "n_air = 1.00027717\n",
    "n_glass = 1.4388164768221814\n",
    "ns = [lambda x:n_air, lambda x:n_glass, lambda x:n_air, lambda x : n_glass]\n",
    "maxhs = [1,1,1,1]\n",
    "d = 4.0775e-05\n",
    "T = 1\n",
    "ts = [d , 1e-5, T * d, 1.5e-5]\n",
    "\n",
    "H = BraggExact(ts=ts, ns=ns, maxhs=maxhs)"
   ]
  },
  {
   "cell_type": "markdown",
   "id": "c6a431aa",
   "metadata": {},
   "source": [
    "# Wavelength to check is 1.8e-6\n",
    "\n",
    "From graphs in Wavelength_N2_increasing notebook things are solid at this wavelength for our choices of T"
   ]
  },
  {
   "cell_type": "markdown",
   "id": "1b0b2930",
   "metadata": {},
   "source": [
    "## Checking N2 modes"
   ]
  },
  {
   "cell_type": "code",
   "execution_count": null,
   "id": "3232c578",
   "metadata": {},
   "outputs": [],
   "source": [
    "nu = 1\n",
    "\n",
    "def det_plot(T, wl):\n",
    "    d = 4.0775e-05  # thickness of innermost region (core radius)\n",
    "    ts = [d, 1e-5, T * d, 1.5e-5]\n",
    "    H.ts = ts\n",
    "    H.wavelength = wl * 1e-6\n",
    "    cutoff = H.ks[0] * H.scale\n",
    "    \n",
    "    Xr = np.linspace(.9998* cutoff , 1.000001*cutoff , num=75)\n",
    "    Xi = np.linspace( -.001, .001, num=75)\n",
    "    xr, xi = np.meshgrid(Xr, Xi)\n",
    "    zs = xr + 1j * xi\n",
    "    \n",
    "    fig, ax1 = plt.subplots(1, 1, figsize=(14,10))\n",
    "    \n",
    "    fs1 = H.determinant(zs, nu=nu, outer='h2')\n",
    "    ax1.contour(xr, xi, np.log(np.abs(fs1)), levels=75)\n",
    "    ax1.grid(True)\n",
    "    m, M = ax1.get_ylim()\n",
    "    ax1.plot([cutoff, cutoff], [m,M],lw=4, c=\"r\")\n",
    "    ax1.set_facecolor('grey')\n",
    "    ax1.set_title('Behavior near Fundamental Mode as outer thickness changes.')\n",
    "#     ax1.set_xticklabels([])\n",
    "    ax1.set_yticks([0])\n",
    "    plt.show()\n",
    "    \n",
    "interactive_plot = interactive(det_plot,\n",
    "                               T=FloatSlider(min=1, max=3, step=.05, value=1.5, \n",
    "                                             readout_format='.2f', layout=Layout(width='90%')),\n",
    "                               wl=FloatSlider(min=1.4, max=2, step=.0005, value=1.8, \n",
    "                                              readout_format='.2f', layout=Layout(width='90%')))\n",
    "\n",
    "output = interactive_plot.children[-1]\n",
    "output.layout.height = '10'\n",
    "interactive_plot"
   ]
  },
  {
   "cell_type": "code",
   "execution_count": null,
   "id": "4d236cf1",
   "metadata": {},
   "outputs": [],
   "source": [
    "\n",
    "guess = np.array(52.367)\n",
    "\n",
    "beta1 = newton(H.determinant, guess, args=(nu, outer), tol = 1e-15)\n",
    "\n",
    "print(\"Scaled beta: \", beta1, \". Residual of determinant: \", abs(H.determinant(beta1, nu, outer)))\n"
   ]
  },
  {
   "cell_type": "code",
   "execution_count": null,
   "id": "d4c84e2a",
   "metadata": {},
   "outputs": [],
   "source": [
    "Fs = H.all_fields(beta1, nu, outer)"
   ]
  },
  {
   "cell_type": "code",
   "execution_count": null,
   "id": "c02b7bce",
   "metadata": {},
   "outputs": [],
   "source": [
    "Draw(Fs['Etv'].real, H.mesh)"
   ]
  },
  {
   "cell_type": "markdown",
   "id": "da5a2c7d",
   "metadata": {},
   "source": [
    "# Okay, it's all looking good\n",
    "\n",
    "The values we calculated on the spectral loss responses are the ones we see here for the 'inner fundamental'."
   ]
  },
  {
   "cell_type": "markdown",
   "id": "99aa7678",
   "metadata": {},
   "source": [
    "## N1 modes\n",
    "\n",
    "Think they're good but never hurts to check.  There's no thickness to vary."
   ]
  },
  {
   "cell_type": "code",
   "execution_count": null,
   "id": "89676ccf",
   "metadata": {},
   "outputs": [],
   "source": [
    "n_air = 1.00027717\n",
    "n_glass = 1.4388164768221814\n",
    "ns = [lambda x:n_air, lambda x:n_glass, lambda x:n_air]\n",
    "maxhs = [1,1,1]\n",
    "mats = ['air', 'glass', 'air']\n",
    "c\n",
    "d = 4.0775e-05\n",
    "T = 1\n",
    "ts = [d , 1e-5, T * d]\n",
    "\n",
    "H = BraggExact(ts=ts, ns=ns, maxhs=maxhs, mats=mats)"
   ]
  },
  {
   "cell_type": "code",
   "execution_count": null,
   "id": "c8680a73",
   "metadata": {},
   "outputs": [],
   "source": [
    "nu = 1\n",
    "\n",
    "def det_plot(T, wl):\n",
    "    d = 4.0775e-05  # thickness of innermost region (core radius)\n",
    "    ts = [d, 1e-5, T * d]\n",
    "    H.ts = ts\n",
    "    H.wavelength = wl * 1e-6\n",
    "    cutoff = H.ks[0] * H.scale\n",
    "    \n",
    "    Xr = np.linspace(.999 * cutoff , 1.0001*cutoff , num=75)\n",
    "    Xi = np.linspace( -.01, .01, num=75)\n",
    "    xr, xi = np.meshgrid(Xr, Xi)\n",
    "    zs = xr + 1j * xi\n",
    "    \n",
    "    fig, ax1 = plt.subplots(1, 1, figsize=(14,10))\n",
    "    \n",
    "    fs1 = H.determinant(zs, nu=nu, outer='h2')\n",
    "    ax1.contour(xr, xi, np.log(np.abs(fs1)), levels=75)\n",
    "    ax1.grid(True)\n",
    "    m, M = ax1.get_ylim()\n",
    "    ax1.plot([cutoff, cutoff], [m,M],lw=4, c=\"r\")\n",
    "    ax1.set_facecolor('grey')\n",
    "    ax1.set_title('Behavior near Fundamental Mode as outer thickness changes.')\n",
    "#     ax1.set_xticklabels([])\n",
    "    ax1.set_yticks([0])\n",
    "    plt.show()\n",
    "    \n",
    "interactive_plot = interactive(det_plot,\n",
    "                               T=FloatSlider(min=1, max=3, step=.05, value=1, \n",
    "                                             readout_format='.4f', layout=Layout(width='90%')),\n",
    "                               wl=FloatSlider(min=1.4, max=2, step=.0005, value=1.8, \n",
    "                                              readout_format='.4f', layout=Layout(width='90%')))\n",
    "\n",
    "output = interactive_plot.children[-1]\n",
    "output.layout.height = '10'\n",
    "interactive_plot"
   ]
  },
  {
   "cell_type": "code",
   "execution_count": null,
   "id": "3e288323",
   "metadata": {},
   "outputs": [],
   "source": [
    "52.34030162612004-4.091625724906829e-05j\n",
    "guess = np.array(52.367)\n",
    "\n",
    "beta1 = newton(H.determinant, guess, args=(nu, outer), tol = 1e-15)\n",
    "\n",
    "print(\"Scaled beta: \", beta1, \". Residual of determinant: \", abs(H.determinant(beta1, nu, outer)))\n"
   ]
  },
  {
   "cell_type": "code",
   "execution_count": null,
   "id": "163cbb03",
   "metadata": {},
   "outputs": [],
   "source": [
    "Fs = H.all_fields(beta1, nu, outer)"
   ]
  },
  {
   "cell_type": "code",
   "execution_count": null,
   "id": "936e92ad",
   "metadata": {},
   "outputs": [],
   "source": [
    "Draw(Fs['Etv'].real, H.mesh)"
   ]
  },
  {
   "cell_type": "markdown",
   "id": "f6e02d21",
   "metadata": {},
   "source": [
    "# That doesn't seem like what we had before.\n",
    "\n",
    "I thought I was getting the fundamentals easily on N1, but looks like maybe I wasn't.  This could be good."
   ]
  },
  {
   "cell_type": "markdown",
   "id": "9349585a",
   "metadata": {},
   "source": [
    "## Has a hard time getting it\n",
    "\n",
    "Tried with initial guesses closer to k_low, but that only works for shorter wavelengths.  Let's see if the real section technique helps"
   ]
  },
  {
   "cell_type": "code",
   "execution_count": null,
   "id": "93a798c8",
   "metadata": {},
   "outputs": [],
   "source": [
    "n_air = 1.00027717\n",
    "n_glass = 1.4388164768221814\n",
    "ns = [lambda x:n_air, lambda x:n_glass, lambda x:n_air]\n",
    "maxhs = [1,1,1]\n",
    "mats = ['air', 'glass', 'air']\n",
    "d = 4.0775e-05\n",
    "T = 1\n",
    "ts = [d , 1e-5, T * d]\n",
    "\n",
    "H = BraggExact(ts=ts, ns=ns, maxhs=maxhs, mats=mats)"
   ]
  },
  {
   "cell_type": "code",
   "execution_count": null,
   "id": "daf7543a",
   "metadata": {},
   "outputs": [],
   "source": [
    "nu = 1\n",
    "\n",
    "def det_plot_real(T, wl):\n",
    "    d = 4.0775e-05                 # thickness of innermost region (core radius)\n",
    "    ts = [d, 1e-5, T * d]  # d is base thickness, scaled by input T\n",
    "    H.wavelength = wl * 1e-6\n",
    "    H.ts = ts                      # set ts in BraggExact class (it updates necessary derived values)\n",
    "    cutoff = H.ks[0] * H.scale     # mode cutoff, used for limits\n",
    "    \n",
    "    xr = np.linspace(.999* cutoff , 1.0001*cutoff , num=5000)\n",
    "    h = xr[1] - xr[0]                         # h for estimating derivatives\n",
    "    fs = H.determinant(xr, nu=nu, outer='h2') # function values\n",
    "    fsa = np.abs(fs)                          # abs of values\n",
    "    fsp = (fsa[2:] - fsa[:-2])/(2*h)          # center difference estimate for derivative of abs(fs)\n",
    "    \n",
    "    fspp = (fsa[2:] - 2 * fsa[1:-1] + fsa[:-2])/(h**2)  # fourth order accurate second derivative difference estimate\n",
    "\n",
    "    dp = fsp[1:] * fsp[:-1]         # find where sign of derivative changes\n",
    "    indices = np.where(dp <= 0)[0]  # great idea from stack overflow: https://stackoverflow.com/questions/45174182/finding-all-roots-in-a-given-interval-in-1d\n",
    "\n",
    "\n",
    "    fig, (ax1, ax2) = plt.subplots(2, 1, figsize=(12,12))\n",
    "    ax1.plot(xr, np.log(fsa))\n",
    "    ax2.plot(xr[1:-1],fsp, [xr[1], xr[-2]], [0,0])   # derivatives exist at interior points xr[1:-1]\n",
    "#     ax3.plot(xr[1:-1],fspp, [xr[1], xr[-2]], [0,0])\n",
    "\n",
    "    for idx in indices:  # graph vertical lines at zeros of derivative\n",
    "        if fspp[idx] < 0:  # filter out local maxes using 2nd derivative\n",
    "            pass\n",
    "        else:\n",
    "            m, M = ax1.get_ylim()\n",
    "            ax1.plot([xr[idx], xr[idx]], [m,M])\n",
    "            m, M = ax2.get_ylim()\n",
    "            ax2.plot([xr[idx], xr[idx]], [m,M])\n",
    "    m, M = ax1.get_ylim()\n",
    "    ax1.plot([cutoff, cutoff], [m,M],lw=4, c=\"r\")\n",
    "    ax1.grid('both', axis='both')\n",
    "    ax2.grid('both', axis='both')\n",
    "#     ax3.grid('both', axis='both')\n",
    "    ax1.set_title('Finding propagation constants as replacement occurs.\\n')\n",
    "    plt.show()\n",
    "    \n",
    "interactive_plot = interactive(det_plot_real, T=FloatSlider(min=1, max=3, step=.05, value=1.5, \n",
    "                                             readout_format='.4f', layout=Layout(width='90%')),\n",
    "                               wl=FloatSlider(min=1.4, max=2, step=.0005, value=1.8, \n",
    "                                              readout_format='.4f', layout=Layout(width='90%')))\n",
    "output = interactive_plot.children[-1]\n",
    "output.layout.height = '10'\n",
    "interactive_plot"
   ]
  },
  {
   "cell_type": "code",
   "execution_count": null,
   "id": "54511617",
   "metadata": {},
   "outputs": [],
   "source": []
  }
 ],
 "metadata": {
  "kernelspec": {
   "display_name": "Python 3 (ipykernel)",
   "language": "python",
   "name": "python3"
  },
  "language_info": {
   "codemirror_mode": {
    "name": "ipython",
    "version": 3
   },
   "file_extension": ".py",
   "mimetype": "text/x-python",
   "name": "python",
   "nbconvert_exporter": "python",
   "pygments_lexer": "ipython3",
   "version": "3.8.10"
  }
 },
 "nbformat": 4,
 "nbformat_minor": 5
}
