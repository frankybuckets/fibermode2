{
 "cells": [
  {
   "cell_type": "markdown",
   "id": "720129b6",
   "metadata": {},
   "source": [
    "# Spectral Loss search locations, N2 increasing T\n",
    "\n"
   ]
  },
  {
   "cell_type": "code",
   "execution_count": null,
   "id": "664ce3d7",
   "metadata": {},
   "outputs": [],
   "source": [
    "import numpy as np\n",
    "import matplotlib.pyplot as plt\n",
    "\n",
    "from fiberamp.fiber.microstruct.bragg import BraggExact\n",
    "from step_exact import plotlogf\n",
    "from ngsolve.webgui import Draw\n",
    "from scipy.optimize import newton"
   ]
  },
  {
   "cell_type": "markdown",
   "id": "30a3eaea",
   "metadata": {},
   "source": [
    "First we load and visualize the spectral loss for N1"
   ]
  },
  {
   "cell_type": "markdown",
   "id": "6e6aa2c1",
   "metadata": {},
   "source": [
    "# Initialize"
   ]
  },
  {
   "cell_type": "code",
   "execution_count": null,
   "id": "e947dc7a",
   "metadata": {},
   "outputs": [],
   "source": [
    "n = 300\n",
    "wls = np.linspace(1.4e-6, 2e-6, n+1)\n",
    "outer = 'h2'\n",
    "nu = 1\n"
   ]
  },
  {
   "cell_type": "code",
   "execution_count": null,
   "id": "19532743",
   "metadata": {},
   "outputs": [],
   "source": [
    "n_air = 1.00027717\n",
    "n_glass = 1.4388164768221814\n",
    "ns = [lambda x:n_air, lambda x:n_glass, lambda x:n_air, lambda x : n_glass]\n",
    "\n",
    "d = 4.0775e-05\n",
    "ts = [d , 1e-5, d, 1.5e-5]\n",
    "\n",
    "A = BraggExact(ts=ts, ns=ns, no_mesh=True)"
   ]
  },
  {
   "cell_type": "code",
   "execution_count": null,
   "id": "74c30be9",
   "metadata": {},
   "outputs": [],
   "source": [
    "# Formula for loss spikes from article\n",
    "\n",
    "ms = np.arange(11,15,1)\n",
    "\n",
    "n1 = A.ns[0]  # Inner (core) index\n",
    "n2 = A.ns[1]  # Cladding index\n",
    "\n",
    "d = 15*2/3*1e-6\n",
    "\n",
    "ls = (2 * n1 * d / ms * ((n2/n1)**2 - 1)**.5)  # when n2 depends on ls, need solver\n"
   ]
  },
  {
   "cell_type": "markdown",
   "id": "0b5b89c6",
   "metadata": {},
   "source": [
    "# Base N2 Study"
   ]
  },
  {
   "cell_type": "code",
   "execution_count": null,
   "id": "81226ec5",
   "metadata": {},
   "outputs": [],
   "source": [
    "N2betas_base = np.zeros_like(wls, dtype=complex)\n",
    "k_lows = np.zeros_like(wls)\n",
    "\n",
    "for i, wl in enumerate(wls):\n",
    "    print(5 * ' ' +  + 20 * '-' + '  ' + str(i+1) + '/' + str(n+1) + ': ' +\n",
    "          'wavelength: ' +  str(wls[i]) + '  ' +  20 * '-' +5 * ' '+'\\n')\n",
    "          \n",
    "    A = BraggExact(ts=ts, maxhs=[100 ,100, 100, 100], wl=wl, ns=ns)\n",
    "\n",
    "    k_low = A.ks[0] * A.scale\n",
    "    k_lows[i] = k_low\n",
    "    guess = np.array(.99995 * k_low)\n",
    "    imag = 0\n",
    "    flag = True\n",
    "    reduce = 0\n",
    "\n",
    "    while flag:\n",
    "        try:\n",
    "            x0 = np.array(guess + imag*1j)\n",
    "            beta = newton(A.determinant, x0, args=(nu, outer), tol = 1e-17)\n",
    "            if beta.real > k_low:\n",
    "                print(\"Captured wrong mode, retrying.\")\n",
    "                raise RuntimeError\n",
    "            elif beta.imag > 0:\n",
    "                print(\"Positive imaginary part, retrying.\")\n",
    "                imag = -beta.imag\n",
    "                guess *= 1/.999999\n",
    "                raise RuntimeError\n",
    "            else:\n",
    "                print(\"Scaled beta: \", beta, \". Residual of determinant: \", \n",
    "                      abs(A.determinant(beta, nu, outer)), '\\n\\n' )\n",
    "                imag = beta.imag\n",
    "                flag=False\n",
    "        except RuntimeError:\n",
    "            guess *= .999999\n",
    "            reduce += 1\n",
    "            print(\"scaling guess: \" + str(reduce), flush=True)\n",
    "    N2betas_base[i] = beta\n",
    "    "
   ]
  },
  {
   "cell_type": "markdown",
   "id": "4994d901",
   "metadata": {},
   "source": [
    "# Observation on real part of Fundamental Mode\n",
    "\n",
    "From interactive plots, I observed that at a fixed wavelength, the relative position of the real part of the fundamental mode to k_low does not change appreciably.  Thus, one possible way of filtering out the (small tube) fundamental from other modes is to find this location at each wavelength from the real parts of the base betas we computed above."
   ]
  },
  {
   "cell_type": "code",
   "execution_count": null,
   "id": "cf76e616",
   "metadata": {},
   "outputs": [],
   "source": [
    "centers = N2betas_base.real\n",
    "\n",
    "# centers"
   ]
  },
  {
   "cell_type": "markdown",
   "id": "4166cc10",
   "metadata": {},
   "source": [
    "## Check if this is good\n",
    "\n",
    "Let's do a run with a larger air gap (still not too large so we know we're getting the right modes) and see if the search centers change much"
   ]
  },
  {
   "cell_type": "code",
   "execution_count": null,
   "id": "0b15bbbe",
   "metadata": {},
   "outputs": [],
   "source": [
    "N2betas_t1 = np.zeros_like(wls, dtype=complex)\n",
    "\n",
    "t1 = 1.25\n",
    "d = 4.0775e-05\n",
    "ts = [d , 1e-5, t1 * d, 1.5e-5]\n",
    "\n",
    "\n",
    "for i, wl in enumerate(wls):\n",
    "    print(5 * ' ' +  + 20 * '-' + '  ' + str(i+1) + '/' + str(n+1) + ': ' +\n",
    "          'wavelength: ' +  str(wls[i]) + '  ' +  20 * '-' +5 * ' '+'\\n')\n",
    "          \n",
    "    A = BraggExact(ts=ts, wl=wl, ns=ns, no_mesh=True)\n",
    "\n",
    "    k_low = A.ks[0] * A.scale\n",
    "    guess = np.array(.99995 * k_low)\n",
    "    imag = 0\n",
    "    flag = True\n",
    "    reduce = 0\n",
    "\n",
    "    while flag:\n",
    "        try:\n",
    "            x0 = np.array(guess + imag*1j)\n",
    "            beta = newton(A.determinant, x0, args=(nu, outer), tol = 1e-17)\n",
    "            if beta.real > k_low:\n",
    "                print(\"Captured wrong mode, retrying.\")\n",
    "                raise RuntimeError\n",
    "            elif beta.imag > 0:\n",
    "                print(\"Positive imaginary part, retrying.\")\n",
    "                imag = -beta.imag\n",
    "                guess *= 1/.999999\n",
    "                raise RuntimeError\n",
    "            else:\n",
    "                print(\"Scaled beta: \", beta, \". Residual of determinant: \", \n",
    "                      abs(A.determinant(beta, nu, outer)), '\\n\\n' )\n",
    "                imag = beta.imag\n",
    "                flag=False\n",
    "        except RuntimeError:\n",
    "            guess *= .999999\n",
    "            reduce += 1\n",
    "            print(\"scaling guess: \" + str(reduce), flush=True)\n",
    "    N2betas_t1[i] = beta\n",
    "    "
   ]
  },
  {
   "cell_type": "code",
   "execution_count": null,
   "id": "2ba2ac93",
   "metadata": {},
   "outputs": [],
   "source": [
    "centers2 = N2betas_t1.real\n",
    "np.mean(centers2 / centers)"
   ]
  },
  {
   "cell_type": "markdown",
   "id": "41f0b575",
   "metadata": {},
   "source": [
    "# See if the centers work directly\n",
    "\n",
    "This uses them as an intial guess and then downscales\n"
   ]
  },
  {
   "cell_type": "code",
   "execution_count": null,
   "id": "c25166a9",
   "metadata": {},
   "outputs": [],
   "source": [
    "N2betas_t1_check = np.zeros_like(wls, dtype=complex)\n",
    "\n",
    "t1 = 1.25\n",
    "d = 4.0775e-05\n",
    "ts = [d , 1e-5, t1 * d, 1.5e-5]\n",
    "\n",
    "\n",
    "for i, wl in enumerate(wls):\n",
    "    print(5 * ' ' +  + 20 * '-' + '  ' + str(i+1) + '/' + str(n+1) + ': ' +\n",
    "          'wavelength: ' +  str(wls[i]) + '  ' +  20 * '-' +5 * ' '+'\\n')\n",
    "          \n",
    "    A = BraggExact(ts=ts, wl=wl, ns=ns, no_mesh=True)\n",
    "\n",
    "    k_low = A.ks[0] * A.scale\n",
    "    guess = np.array(centers[i])\n",
    "    imag = 0\n",
    "    flag = True\n",
    "    reduce = 0\n",
    "#     scaling = 1+1e-6\n",
    "    scaling = .999999\n",
    "    while flag:\n",
    "        try:\n",
    "            x0 = np.array(guess + imag*1j)\n",
    "            beta = newton(A.determinant, x0, args=(nu, outer), tol = 1e-17)\n",
    "            if beta.real > k_low:\n",
    "                print(\"Captured wrong mode, retrying.\")\n",
    "                raise RuntimeError\n",
    "            elif beta.imag > 0:\n",
    "                print(\"Positive imaginary part, retrying.\")\n",
    "                imag = -beta.imag\n",
    "                guess *= 1/scaling\n",
    "                raise RuntimeError\n",
    "            else:\n",
    "                print(\"Scaled beta: \", beta, \". Residual of determinant: \", \n",
    "                      abs(A.determinant(beta, nu, outer)), '\\n\\n' )\n",
    "                imag = beta.imag\n",
    "                flag=False\n",
    "        except RuntimeError:\n",
    "            guess *= scaling\n",
    "            reduce += 1\n",
    "            print(\"scaling guess: \" + str(reduce), flush=True)\n",
    "    N2betas_t1_check[i] = beta\n",
    "    "
   ]
  },
  {
   "cell_type": "code",
   "execution_count": null,
   "id": "1e3b60a7",
   "metadata": {},
   "outputs": [],
   "source": [
    "%matplotlib inline\n",
    "\n",
    "fig = plt.figure(figsize=(12,9))\n",
    "\n",
    "ax = plt.gca()\n",
    "ax.set_title('\\nSpectral Loss Profile Comparison\\n', fontsize=18)\n",
    "ax.set_xlabel('\\nwavelength', fontsize=16)\n",
    "ax.set_ylabel('Confinement Loss\\n', fontsize=16)\n",
    "\n",
    "# ax.plot(wls, -N2betas_base.imag, color='green', linewidth=1.2, label='N2 t=1')\n",
    "ax.plot(wls, -N2betas_t1.imag, color='blue', linewidth=1.2, label='N2 t=1.5')\n",
    "ax.plot(wls, -N2betas_t1_check.imag, color='red', linewidth=1.2, label='N2check/ t=1.5')\n",
    "ax.legend()\n",
    "\n",
    "ax.set_yscale('log')\n",
    "m, M = ax.get_ylim()\n",
    "\n",
    "for l in ls:\n",
    "    ax.plot([l,l], [m, M],  linewidth=1, linestyle=':')\n"
   ]
  },
  {
   "cell_type": "markdown",
   "id": "66235764",
   "metadata": {},
   "source": [
    "# Now upscaling\n"
   ]
  },
  {
   "cell_type": "code",
   "execution_count": null,
   "id": "57fda742",
   "metadata": {},
   "outputs": [],
   "source": [
    "N2betas_t1_check = np.zeros_like(wls, dtype=complex)\n",
    "\n",
    "t1 = 1.25\n",
    "d = 4.0775e-05\n",
    "ts = [d , 1e-5, t1 * d, 1.5e-5]\n",
    "\n",
    "\n",
    "for i, wl in enumerate(wls):\n",
    "    print(5 * ' ' +  + 20 * '-' + '  ' + str(i+1) + '/' + str(n+1) + ': ' +\n",
    "          'wavelength: ' +  str(wls[i]) + '  ' +  20 * '-' +5 * ' '+'\\n')\n",
    "          \n",
    "    A = BraggExact(ts=ts, wl=wl, ns=ns, no_mesh=True)\n",
    "\n",
    "    k_low = A.ks[0] * A.scale\n",
    "    guess = np.array(centers[i])\n",
    "    imag = 0\n",
    "    flag = True\n",
    "    reduce = 0\n",
    "    scaling = 1+1e-6\n",
    "#     scaling = .999999\n",
    "    while flag:\n",
    "        try:\n",
    "            x0 = np.array(guess + imag*1j)\n",
    "            beta = newton(A.determinant, x0, args=(nu, outer), tol = 1e-17)\n",
    "            if beta.real > k_low:\n",
    "                print(\"Captured wrong mode, retrying.\")\n",
    "                raise RuntimeError\n",
    "            elif beta.imag > 0:\n",
    "                print(\"Positive imaginary part, retrying.\")\n",
    "                imag = -beta.imag\n",
    "                guess *= 1/scaling\n",
    "                raise RuntimeError\n",
    "            else:\n",
    "                print(\"Scaled beta: \", beta, \". Residual of determinant: \", \n",
    "                      abs(A.determinant(beta, nu, outer)), '\\n\\n' )\n",
    "                imag = beta.imag\n",
    "                flag=False\n",
    "        except RuntimeError:\n",
    "            guess *= scaling\n",
    "            reduce += 1\n",
    "            print(\"scaling guess: \" + str(reduce), flush=True)\n",
    "    N2betas_t1_check[i] = beta\n",
    "    "
   ]
  },
  {
   "cell_type": "code",
   "execution_count": null,
   "id": "c6a6651b",
   "metadata": {},
   "outputs": [],
   "source": [
    "%matplotlib inline\n",
    "\n",
    "fig = plt.figure(figsize=(12,9))\n",
    "\n",
    "ax = plt.gca()\n",
    "ax.set_title('\\nSpectral Loss Profile Comparison\\n', fontsize=18)\n",
    "ax.set_xlabel('\\nwavelength', fontsize=16)\n",
    "ax.set_ylabel('Confinement Loss\\n', fontsize=16)\n",
    "\n",
    "# ax.plot(wls, -N2betas_base.imag, color='green', linewidth=1.2, label='N2 t=1')\n",
    "ax.plot(wls, -N2betas_t1.imag, color='blue', linewidth=1.2, label='N2 t=1.5')\n",
    "ax.plot(wls, -N2betas_t1_check.imag, color='red', linewidth=1.2, label='N2check/ t=1.5')\n",
    "ax.legend()\n",
    "\n",
    "ax.set_yscale('log')\n",
    "m, M = ax.get_ylim()\n",
    "\n",
    "for l in ls:\n",
    "    ax.plot([l,l], [m, M],  linewidth=1, linestyle=':')\n"
   ]
  },
  {
   "cell_type": "markdown",
   "id": "df9e6897",
   "metadata": {},
   "source": [
    "## Upscaling works better\n",
    "\n",
    "At least as we initially increase T.  So we'll try this for our procedure."
   ]
  },
  {
   "cell_type": "code",
   "execution_count": null,
   "id": "575d0f3e",
   "metadata": {},
   "outputs": [],
   "source": [
    "%matplotlib inline\n",
    "\n",
    "fig = plt.figure(figsize=(12,9))\n",
    "\n",
    "ax = plt.gca()\n",
    "ax.set_title('\\nSpectral Loss Profile Comparison\\n', fontsize=18)\n",
    "ax.set_xlabel('\\nwavelength', fontsize=16)\n",
    "ax.set_ylabel('Confinement Loss\\n', fontsize=16)\n",
    "\n",
    "ax.plot(wls, -N2betas_base.imag, color='green', linewidth=1.2, label='N2 t=1')\n",
    "ax.plot(wls, -N2betas_t1.imag, color='blue', linewidth=1.2, label='N2 t=1.5')\n",
    "ax.plot(wls, -N2betas_t1_check.imag, color='red', linewidth=1.2, label='N2check/ t=1.5')\n",
    "ax.legend()\n",
    "\n",
    "ax.set_yscale('log')\n",
    "m, M = ax.get_ylim()\n",
    "\n",
    "for l in ls:\n",
    "    ax.plot([l,l], [m, M],  linewidth=1, linestyle=':')\n"
   ]
  },
  {
   "cell_type": "code",
   "execution_count": null,
   "id": "145edb22",
   "metadata": {},
   "outputs": [],
   "source": []
  }
 ],
 "metadata": {
  "kernelspec": {
   "display_name": "Python 3 (ipykernel)",
   "language": "python",
   "name": "python3"
  },
  "language_info": {
   "codemirror_mode": {
    "name": "ipython",
    "version": 3
   },
   "file_extension": ".py",
   "mimetype": "text/x-python",
   "name": "python",
   "nbconvert_exporter": "python",
   "pygments_lexer": "ipython3",
   "version": "3.8.10"
  }
 },
 "nbformat": 4,
 "nbformat_minor": 5
}
