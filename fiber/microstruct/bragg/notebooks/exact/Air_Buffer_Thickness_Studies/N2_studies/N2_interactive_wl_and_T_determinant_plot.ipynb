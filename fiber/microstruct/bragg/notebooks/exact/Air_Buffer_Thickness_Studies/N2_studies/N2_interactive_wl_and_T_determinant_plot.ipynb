{
 "cells": [
  {
   "cell_type": "markdown",
   "id": "720129b6",
   "metadata": {},
   "source": [
    "\n",
    "# N2 Configuration with varying outer air region thickness and Wavelength\n",
    "\n",
    "Here we create (hopefully) an interactive plot to see what happens to the modes as we vary the outer air region thickness."
   ]
  },
  {
   "cell_type": "code",
   "execution_count": 1,
   "id": "664ce3d7",
   "metadata": {},
   "outputs": [
    {
     "name": "stdout",
     "output_type": "stream",
     "text": [
      "importing NGSolve-6.2.2203-56-g47f483033\n"
     ]
    }
   ],
   "source": [
    "import numpy as np\n",
    "import matplotlib.pyplot as plt\n",
    "\n",
    "from fiberamp.fiber.microstruct.bragg import BraggExact\n",
    "from step_exact import plotlogf, plotlogf_real\n",
    "from ngsolve.webgui import Draw\n",
    "from scipy.optimize import newton\n",
    "\n",
    "from ipywidgets import interactive, FloatSlider"
   ]
  },
  {
   "cell_type": "code",
   "execution_count": 2,
   "id": "3c9590f0",
   "metadata": {},
   "outputs": [],
   "source": [
    "d = 4.0775e-05  # thickness of innermost region (core radius)\n",
    "ts = [d, 1e-5, 5/3 * d, 1.5e-5]\n",
    "outer = 'h2'\n",
    "nu = 1"
   ]
  },
  {
   "cell_type": "markdown",
   "id": "2aab143b",
   "metadata": {},
   "source": [
    "# Both Wavelength and T"
   ]
  },
  {
   "cell_type": "code",
   "execution_count": 3,
   "id": "d63bda7a",
   "metadata": {},
   "outputs": [],
   "source": [
    "d = 4.0775e-05  # thickness of innermost region (core radius)\n",
    "ts = [d, 1e-5, d, 1.5e-5]\n",
    "no_mesh = True\n",
    "H = BraggExact(ts=ts, maxhs=[.1, .03, .06, .1], no_mesh=no_mesh)\n"
   ]
  },
  {
   "cell_type": "code",
   "execution_count": 4,
   "id": "8ea12760",
   "metadata": {
    "scrolled": false
   },
   "outputs": [
    {
     "data": {
      "application/vnd.jupyter.widget-view+json": {
       "model_id": "524658cba51b4b4aa3eb8f22a0827b66",
       "version_major": 2,
       "version_minor": 0
      },
      "text/plain": [
       "interactive(children=(FloatSlider(value=1.83, description='T', max=15.0, min=1.0, step=0.05), FloatSlider(valu…"
      ]
     },
     "metadata": {},
     "output_type": "display_data"
    }
   ],
   "source": [
    "nu = 1\n",
    "\n",
    "def det_plot(T, wl):\n",
    "    d = 4.0775e-05  # thickness of innermost region (core radius)\n",
    "    ts = [d, 1e-5, T * d, 1.5e-5]\n",
    "    H.ts = ts\n",
    "    H.wavelength = wl * 1e-6\n",
    "    cutoff = H.ks[0] * H.scale\n",
    "    \n",
    "    Xr = np.linspace(.9998* cutoff , 1.000001*cutoff , num=75)\n",
    "    Xi = np.linspace( -.001, .001, num=75)\n",
    "    xr, xi = np.meshgrid(Xr, Xi)\n",
    "    zs = xr + 1j * xi\n",
    "    \n",
    "    fig, ax1 = plt.subplots(1, 1, figsize=(12,8))\n",
    "    \n",
    "    fs1 = H.determinant(zs, nu=nu, outer='h2')\n",
    "    ax1.contour(xr, xi, np.log(np.abs(fs1)), levels=75)\n",
    "    ax1.grid(True)\n",
    "    m, M = ax1.get_ylim()\n",
    "    ax1.plot([cutoff, cutoff], [m,M],lw=4, c=\"r\")\n",
    "    ax1.set_facecolor('grey')\n",
    "    ax1.set_title('Behavior near Fundamental Mode as outer thickness changes.')\n",
    "#     ax1.set_xticklabels([])\n",
    "    ax1.set_yticks([0])\n",
    "    plt.show()\n",
    "    \n",
    "interactive_plot = interactive(det_plot,\n",
    "                               T=FloatSlider(min=1, max=15, step=.05, value=1.83, readout_format='.2f'),\n",
    "                               wl=FloatSlider(min=1.4, max=2, step=.0005, value=1.602, readout_format='.2f'))\n",
    "\n",
    "output = interactive_plot.children[-1]\n",
    "output.layout.height = '10'\n",
    "interactive_plot"
   ]
  },
  {
   "cell_type": "code",
   "execution_count": 5,
   "id": "bc5b5191",
   "metadata": {},
   "outputs": [],
   "source": [
    "A = BraggExact(ts=H.ts)\n"
   ]
  },
  {
   "cell_type": "code",
   "execution_count": 6,
   "id": "d5f712d5",
   "metadata": {},
   "outputs": [
    {
     "data": {
      "application/vnd.jupyter.widget-view+json": {
       "model_id": "975e903a492c40b2bf2d0663576ff5f3",
       "version_major": 2,
       "version_minor": 0
      },
      "text/plain": [
       "WebGuiWidget(value={'ngsolve_version': '6.2.2203-56-g47f483033', 'mesh_dim': 2, 'order2d': 2, 'order3d': 2, 'd…"
      ]
     },
     "metadata": {},
     "output_type": "display_data"
    },
    {
     "data": {
      "text/plain": [
       "BaseWebGuiScene"
      ]
     },
     "execution_count": 6,
     "metadata": {},
     "output_type": "execute_result"
    }
   ],
   "source": [
    "Draw(A.mesh)"
   ]
  },
  {
   "cell_type": "markdown",
   "id": "6bafb1c4",
   "metadata": {},
   "source": [
    "# The Bumping is much more dramatic at some wavelengths.\n",
    "\n",
    "At 1.89, the fundamental runs from the incoming modes right away as T increases from 1.\n",
    "\n",
    "Would be worth looking at mode profiles for this."
   ]
  },
  {
   "cell_type": "code",
   "execution_count": 48,
   "id": "ae11932c",
   "metadata": {},
   "outputs": [],
   "source": [
    "k_low = H.ks[0] * H.scale\n",
    "guess = .99985*k_low"
   ]
  },
  {
   "cell_type": "code",
   "execution_count": 49,
   "id": "268f3f74",
   "metadata": {},
   "outputs": [
    {
     "name": "stdout",
     "output_type": "stream",
     "text": [
      "Scaled beta:  (49.8587070037973-7.394985868274408e-05j) . Residual of determinant:  2.4501715255946905e-13\n"
     ]
    }
   ],
   "source": [
    "from scipy.optimize import newton\n",
    "guess = np.array(guess)\n",
    "\n",
    "beta1 = newton(H.determinant, guess, args=(nu, outer), tol = 1e-15)\n",
    "\n",
    "print(\"Scaled beta: \", beta1, \". Residual of determinant: \", abs(H.determinant(beta1, nu, outer)))\n"
   ]
  },
  {
   "cell_type": "code",
   "execution_count": 50,
   "id": "0a240d31",
   "metadata": {},
   "outputs": [],
   "source": [
    "Fs = H.all_fields(beta1, nu, outer)"
   ]
  },
  {
   "cell_type": "code",
   "execution_count": 51,
   "id": "548d47cb",
   "metadata": {},
   "outputs": [
    {
     "data": {
      "application/vnd.jupyter.widget-view+json": {
       "model_id": "8549c67be8cc4d9497c617a183d9c160",
       "version_major": 2,
       "version_minor": 0
      },
      "text/plain": [
       "WebGuiWidget(value={'ngsolve_version': '6.2.2203-56-g47f483033', 'mesh_dim': 2, 'order2d': 2, 'order3d': 2, 'd…"
      ]
     },
     "metadata": {},
     "output_type": "display_data"
    },
    {
     "data": {
      "text/plain": [
       "BaseWebGuiScene"
      ]
     },
     "execution_count": 51,
     "metadata": {},
     "output_type": "execute_result"
    }
   ],
   "source": [
    "Draw(Fs['Etv'].real, A.mesh)"
   ]
  },
  {
   "cell_type": "markdown",
   "id": "5e86e1fb",
   "metadata": {},
   "source": [
    "# Same mode profile pattern holds\n",
    "\n",
    "The bumped mode goes from fundamental to large area, middle mode becomes new fundamental, left mode is sort of blend."
   ]
  },
  {
   "cell_type": "code",
   "execution_count": null,
   "id": "e7392ab1",
   "metadata": {},
   "outputs": [],
   "source": []
  }
 ],
 "metadata": {
  "kernelspec": {
   "display_name": "Python 3 (ipykernel)",
   "language": "python",
   "name": "python3"
  },
  "language_info": {
   "codemirror_mode": {
    "name": "ipython",
    "version": 3
   },
   "file_extension": ".py",
   "mimetype": "text/x-python",
   "name": "python",
   "nbconvert_exporter": "python",
   "pygments_lexer": "ipython3",
   "version": "3.8.10"
  }
 },
 "nbformat": 4,
 "nbformat_minor": 5
}
