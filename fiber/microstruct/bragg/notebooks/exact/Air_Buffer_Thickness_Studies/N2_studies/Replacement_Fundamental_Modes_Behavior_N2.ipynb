{
 "cells": [
  {
   "cell_type": "markdown",
   "id": "720129b6",
   "metadata": {},
   "source": [
    "\n",
    "# Replacing Fundamental Modes.\n",
    "\n",
    "As seen in the interactive notebook, as the thickness of the outer air layer of N2 increases, a lower mode comes and bumps out the fundamental.  In this notebook we visualize the modes as this occurs."
   ]
  },
  {
   "cell_type": "code",
   "execution_count": null,
   "id": "664ce3d7",
   "metadata": {},
   "outputs": [],
   "source": [
    "import numpy as np\n",
    "import matplotlib.pyplot as plt\n",
    "import cmasher as cmr\n",
    "\n",
    "from fiberamp.fiber.microstruct.bragg import BraggExact\n",
    "from step_exact import plotlogf, plotlogf_real\n",
    "from ngsolve.webgui import Draw\n",
    "from ngsolve import CF\n",
    "from scipy.optimize import newton\n",
    "from ipywidgets import interactive, FloatSlider"
   ]
  },
  {
   "cell_type": "markdown",
   "id": "d4653f0d",
   "metadata": {},
   "source": [
    "## Propagation Constant Replacement\n",
    "\n",
    "Below we again give the interactive plot showing the replacement behavior."
   ]
  },
  {
   "cell_type": "code",
   "execution_count": null,
   "id": "3c9590f0",
   "metadata": {},
   "outputs": [],
   "source": [
    "d = 4.0775e-05  # thickness of innermost region (core radius)\n",
    "ts = [d, 1e-5, d, 1.5e-5]\n",
    "\n",
    "A = BraggExact(ts=ts, no_mesh=True)\n"
   ]
  },
  {
   "cell_type": "code",
   "execution_count": null,
   "id": "c86d5670",
   "metadata": {
    "slideshow": {
     "slide_type": "slide"
    }
   },
   "outputs": [],
   "source": [
    "nu = 1\n",
    "\n",
    "def det_plot(T):\n",
    "    d = 4.0775e-05  # thickness of innermost region (core radius)\n",
    "    ts = [d, 1e-5, T * d, 1.5e-5]\n",
    "    A.ts = ts\n",
    "    cutoff = A.ks[0] * A.scale\n",
    "    \n",
    "    Xr = np.linspace(.99985* cutoff , .999874*cutoff , num=75)\n",
    "    Xi = np.linspace( -.0002, .0001, num=75)\n",
    "    xr, xi = np.meshgrid(Xr, Xi)\n",
    "    zs = xr + 1j * xi\n",
    "    \n",
    "    fig, ax1 = plt.subplots(1, 1, figsize=(12,8))\n",
    "    \n",
    "    fs1 = A.determinant(zs, nu=nu, outer='h2')\n",
    "    ax1.contour(xr, xi, np.log(np.abs(fs1)), levels=75)\n",
    "    ax1.grid(True)\n",
    "    ax1.set_facecolor('grey')\n",
    "    ax1.set_title('Behavior near Fundamental Mode as outer thickness changes.')\n",
    "#     ax1.set_xticklabels([])\n",
    "#     ax1.set_yticklabels([])\n",
    "    plt.show()\n",
    "    \n",
    "interactive_plot = interactive(det_plot, T=FloatSlider(min=1.26,max=1.376, step=.004,\n",
    "                                                       value=1.376, readout_format='.3f'))\n",
    "output = interactive_plot.children[-1]\n",
    "output.layout.height = '10'\n",
    "interactive_plot"
   ]
  },
  {
   "cell_type": "markdown",
   "id": "46207267",
   "metadata": {},
   "source": [
    "## Find the beta values for these two modes for the Ts in the slider range above."
   ]
  },
  {
   "cell_type": "code",
   "execution_count": null,
   "id": "0dcfe49d",
   "metadata": {},
   "outputs": [],
   "source": [
    "Ts = np.arange(1.26, 1.376, .002)\n",
    "Ts"
   ]
  },
  {
   "cell_type": "markdown",
   "id": "bd83a8c0",
   "metadata": {},
   "source": [
    "We can graph the real part and look for places it dips to get guesses for the roots"
   ]
  },
  {
   "cell_type": "code",
   "execution_count": null,
   "id": "70660f84",
   "metadata": {},
   "outputs": [],
   "source": [
    "nu = 1\n",
    "\n",
    "def det_plot_real(T):\n",
    "    d = 4.0775e-05                 # thickness of innermost region (core radius)\n",
    "    ts = [d, 1e-5, T * d, 1.5e-5]  # d is base thickness, scaled by input T\n",
    "    A.ts = ts                      # set ts in BraggExact class (it updates necessary derived values)\n",
    "    cutoff = A.ks[0] * A.scale     # mode cutoff, used for limits\n",
    "    \n",
    "    xr = np.linspace(.999847* cutoff , .999874*cutoff , num=1000)\n",
    "    h = xr[1] - xr[0]                         # h for estimating derivatives\n",
    "    fs = A.determinant(xr, nu=nu, outer='h2') # function values\n",
    "    fsa = np.abs(fs)                          # abs of values\n",
    "    fsp = (fsa[2:] - fsa[:-2])/(2*h)          # center difference estimate for derivative of abs(fs)\n",
    "    \n",
    "    fspp = (fsa[2:] - 2 * fsa[1:-1] + fsa[:-2])/(h**2)  # fourth order accurate second derivative difference estimate\n",
    "\n",
    "    dp = fsp[1:] * fsp[:-1]         # find where sign of derivative changes\n",
    "    indices = np.where(dp <= 0)[0]  # great idea from stack overflow: https://stackoverflow.com/questions/45174182/finding-all-roots-in-a-given-interval-in-1d\n",
    "\n",
    "\n",
    "    fig, (ax1, ax2) = plt.subplots(2, 1, figsize=(12,12))\n",
    "    ax1.plot(xr, np.log(fsa))\n",
    "    ax2.plot(xr[1:-1],fsp, [xr[1], xr[-2]], [0,0])   # derivatives exist at interior points xr[1:-1]\n",
    "#     ax3.plot(xr[1:-1],fspp, [xr[1], xr[-2]], [0,0])\n",
    "    \n",
    "    for idx in indices:  # graph vertical lines at zeros of derivative\n",
    "        if fspp[idx] < 0:  # filter out local maxes using 2nd derivative\n",
    "            pass\n",
    "        else:\n",
    "            m, M = ax1.get_ylim()\n",
    "            ax1.plot([xr[idx], xr[idx]], [m,M])\n",
    "            m, M = ax2.get_ylim()\n",
    "            ax2.plot([xr[idx], xr[idx]], [m,M])\n",
    "\n",
    "    ax1.grid('both', axis='both')\n",
    "    ax2.grid('both', axis='both')\n",
    "#     ax3.grid('both', axis='both')\n",
    "    ax1.set_title('Finding propagation constants as replacement occurs.\\n')\n",
    "    plt.show()\n",
    "    \n",
    "interactive_plot = interactive(det_plot_real, T=FloatSlider(min=1.26,max=1.376, step=.002,\n",
    "                                                       value=1.376, readout_format='.3f'))\n",
    "output = interactive_plot.children[-1]\n",
    "output.layout.height = '10'\n",
    "interactive_plot"
   ]
  },
  {
   "cell_type": "markdown",
   "id": "c158837e",
   "metadata": {},
   "source": [
    "## Run the cell below to get the beta values"
   ]
  },
  {
   "cell_type": "code",
   "execution_count": null,
   "id": "948c99e5",
   "metadata": {},
   "outputs": [],
   "source": [
    "nu = 1\n",
    "outer = 'h2'\n",
    "betas = np.zeros((len(Ts), 2), dtype=complex)\n",
    "\n",
    "for i,T in enumerate(Ts):\n",
    "    d = 4.0775e-05                 # thickness of innermost region (core radius)\n",
    "    ts = [d, 1e-5, T * d, 1.5e-5]  # d is base thickness, scaled by input T\n",
    "    A.ts = ts                      # set ts in BraggExact class (it updates necessary derived values)\n",
    "    cutoff = A.ks[0] * A.scale     # mode cutoff, used for limits\n",
    "\n",
    "    xr = np.linspace(.999847* cutoff , .999874*cutoff , num=1000)\n",
    "    h = xr[1] - xr[0]                         # h for estimating derivatives\n",
    "    fs = A.determinant(xr, nu=nu, outer='h2') # function values\n",
    "    fsa = np.abs(fs)                          # abs of values\n",
    "    fsp = (fsa[2:] - fsa[:-2])/(2*h)          # center difference estimate for derivative of abs(fs)\n",
    "\n",
    "    fspp = (fsa[2:] - 2 * fsa[1:-1] + fsa[:-2])/(h**2)  # fourth order accurate second derivative difference estimate\n",
    "\n",
    "    dp = fsp[1:] * fsp[:-1]         # find where sign of derivative changes\n",
    "    indices = np.where(dp <= 0)[0]  # great idea from stack overflow: https://stackoverflow.com/questions/45174182/finding-all-roots-in-a-given-interval-in-1d\n",
    "    j=0\n",
    "    print(i)\n",
    "    for idx in indices:  # graph vertical lines at zeros of derivative\n",
    "        if fspp[idx] < 0:  # filter out local maxes using 2nd derivative\n",
    "            pass\n",
    "        else:\n",
    "            guess = np.array(xr[idx])\n",
    "            betas[i,j] = newton(A.determinant, guess, args=(nu, outer), tol = 1e-15)\n",
    "            j+=1\n",
    "    "
   ]
  },
  {
   "cell_type": "markdown",
   "id": "6cbb9a09",
   "metadata": {},
   "source": [
    "## Visualize the modes\n",
    "\n",
    "We need this to be quicker than the typical ngsolve graphing.  I did implement a matplot version I'll now bring back."
   ]
  },
  {
   "cell_type": "code",
   "execution_count": null,
   "id": "44b73f15",
   "metadata": {},
   "outputs": [],
   "source": [
    "N_T, N, M = len(Ts), 100, 100\n",
    "thetas = np.linspace(0, 2*np.pi, M)\n",
    "cmap = cmr.get_sub_cmap('jet', 0.2, 0.89)\n",
    "\n",
    "Z = np.zeros((N_T, 2, N, M), dtype=complex)\n",
    "A = BraggExact(ts=ts)\n",
    "Ts = np.arange(1.26, 1.376, .002)\n"
   ]
  },
  {
   "cell_type": "code",
   "execution_count": null,
   "id": "3ae1df5c",
   "metadata": {},
   "outputs": [],
   "source": [
    "\n",
    "for i, T in enumerate(Ts):\n",
    "    d = 4.0775e-05                 # thickness of innermost region (core radius)\n",
    "    ts = [d, 1e-5, T * d, 1.5e-5]  # d is base thickness, scaled by input T\n",
    "    A.ts = ts\n",
    "    \n",
    "    R = A.rhos[-1] / A.scale\n",
    "    rs = np.linspace(0, R, N)\n",
    "    Rs, Thetas = np.meshgrid(rs, thetas)\n",
    "\n",
    "    X, Y = Rs * np.cos(Thetas), Rs * np.sin(Thetas)\n",
    "    for j in [0,1]:\n",
    "        Etv = (A.all_fields(betas[i,j], nu=nu, outer=outer)['Etv']).Norm()\n",
    "        print(i,j)\n",
    "        for k in range(N):\n",
    "            for s in range(M):  \n",
    "                pt = A.mesh(X[k,s],Y[k,s])\n",
    "                Z[i, j, k, s] = Etv(pt)\n",
    "\n"
   ]
  },
  {
   "cell_type": "markdown",
   "id": "970a5450",
   "metadata": {},
   "source": [
    "## Almost ready"
   ]
  },
  {
   "cell_type": "code",
   "execution_count": null,
   "id": "d6e44143",
   "metadata": {},
   "outputs": [],
   "source": [
    "# from IPython.display import display, HTML\n",
    "# display(HTML(\"<style>.container { width:90% !important; }</style>\"))"
   ]
  },
  {
   "cell_type": "code",
   "execution_count": null,
   "id": "fffdfd57",
   "metadata": {},
   "outputs": [],
   "source": [
    "# np.save('Zs', Z)"
   ]
  },
  {
   "cell_type": "code",
   "execution_count": null,
   "id": "be527f21",
   "metadata": {},
   "outputs": [],
   "source": [
    "d = 4.0775e-05  # thickness of innermost region (core radius)\n",
    "ts = [d, 1e-5, d, 1.5e-5]\n",
    "\n",
    "A = BraggExact(ts=ts, no_mesh=True)\n",
    "Z = np.load('data/Zs.npy')"
   ]
  },
  {
   "cell_type": "code",
   "execution_count": null,
   "id": "04c2e4bc",
   "metadata": {},
   "outputs": [],
   "source": [
    "nu = 1\n",
    "Ts = np.arange(1.26, 1.376, .002)\n",
    "d = 4.0775e-05  # thickness of innermost region (core radius)\n",
    "ts = [d, 1e-5, Ts[-1] * d, 1.5e-5]\n",
    "A.ts = ts\n",
    "\n",
    "bigR = A.rhos[-1]\n",
    "\n",
    "def det_plot(T):\n",
    "    idx = np.where(Ts==T)[0][0]\n",
    "    d = 4.0775e-05  # thickness of innermost region (core radius)\n",
    "    ts = [d, 1e-5, T * d, 1.5e-5]\n",
    "    A.ts = ts\n",
    "    \n",
    "    R = A.rhos[-1]\n",
    "\n",
    "    rs = np.linspace(0, R, N)\n",
    "    Rs, Thetas = np.meshgrid(rs, thetas)\n",
    "\n",
    "    X, Y = Rs * np.cos(Thetas), Rs * np.sin(Thetas)\n",
    "    \n",
    "    cutoff = A.ks[0] * A.scale\n",
    "    \n",
    "    Xr = np.linspace(.999847* cutoff , .999874*cutoff , num=75)\n",
    "    Xi = np.linspace( -.00015, .000075, num=75)\n",
    "    xr, xi = np.meshgrid(Xr, Xi)\n",
    "    zs = xr + 1j * xi\n",
    "    \n",
    "    fig = plt.figure(figsize=(17,14))\n",
    "    gs = fig.add_gridspec(2, 2, wspace=0.1, width_ratios=[1,1],\n",
    "                         height_ratios=[1.1,1.85])\n",
    "    \n",
    "    ax1 = fig.add_subplot(gs[0, :])\n",
    "    ax2 = fig.add_subplot(gs[1, 0])\n",
    "    ax3 = fig.add_subplot(gs[1, 1])\n",
    "    \n",
    "    fs1 = A.determinant(zs, nu=nu, outer='h2')\n",
    "    ax1.contour(xr, xi, np.log(np.abs(fs1)), levels=75)\n",
    "    ax1.grid(True)\n",
    "    ax1.set_facecolor('grey')\n",
    "    ax1.set_title('Beta Behavior near Fundamental Mode as outer thickness changes.\\n', fontsize=20)\n",
    "#     ax1.set_yticklabels([])\n",
    "#     ax1.set_xticklabels([])\n",
    "    ax1.set_yticks([0])\n",
    "    ax1.set_xticks([])\n",
    "\n",
    "    \n",
    "    ax2.contourf(X, Y, Z[idx, 0,:,:], levels=30, cmap=cmap)\n",
    "    ax2.set_xlim(-bigR, bigR)\n",
    "    ax2.set_ylim(-bigR, bigR)\n",
    "#     ax2.axis('square')\n",
    "    ax2.set_xticks([])\n",
    "    ax2.set_yticks([])\n",
    "    ax2.set_frame_on(False)\n",
    "    ax2.set_title('Left Mode', fontsize=16)\n",
    "\n",
    "    ax3.contourf(X, Y, Z[idx, 1,:,:], levels=30, cmap=cmap)\n",
    "    ax3.set_xlim(-bigR, bigR)\n",
    "    ax3.set_ylim(-bigR, bigR)\n",
    "#     ax3.axis('equal')\n",
    "    ax3.set_frame_on(False)\n",
    "    ax3.set_title('Right Mode', fontsize=16)\n",
    "    ax3.set_xticks([])\n",
    "    ax3.set_yticks([])\n",
    "    plt.show()\n",
    "    \n",
    "interactive_plot = interactive(det_plot, T=FloatSlider(min=1.26,max=1.356, step=.002,\n",
    "                                                       value=1.26, readout_format='.3f'))\n",
    "output = interactive_plot.children[-1]\n",
    "output.layout.height = '10'\n",
    "interactive_plot"
   ]
  },
  {
   "cell_type": "code",
   "execution_count": null,
   "id": "a14622e4",
   "metadata": {},
   "outputs": [],
   "source": []
  }
 ],
 "metadata": {
  "celltoolbar": "Slideshow",
  "kernelspec": {
   "display_name": "Python 3 (ipykernel)",
   "language": "python",
   "name": "python3"
  },
  "language_info": {
   "codemirror_mode": {
    "name": "ipython",
    "version": 3
   },
   "file_extension": ".py",
   "mimetype": "text/x-python",
   "name": "python",
   "nbconvert_exporter": "python",
   "pygments_lexer": "ipython3",
   "version": "3.8.10"
  }
 },
 "nbformat": 4,
 "nbformat_minor": 5
}
