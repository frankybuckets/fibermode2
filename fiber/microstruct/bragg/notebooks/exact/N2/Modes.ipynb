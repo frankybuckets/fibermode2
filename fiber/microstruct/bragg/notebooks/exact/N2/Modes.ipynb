{
 "cells": [
  {
   "cell_type": "markdown",
   "id": "720129b6",
   "metadata": {},
   "source": [
    "\n",
    "# Four layered Bragg fiber exact fields \n",
    "\n",
    "Corresponds to N2 configuration in paper by Bird.\n",
    "\n",
    "### This notebook contains work on TE and TM modes for the N2 configuration"
   ]
  },
  {
   "cell_type": "code",
   "execution_count": null,
   "id": "664ce3d7",
   "metadata": {},
   "outputs": [],
   "source": [
    "import numpy as np\n",
    "\n",
    "from fiberamp.fiber.microstruct.bragg import BraggExact\n",
    "from fiberamp.fiber.microstruct.bragg import plotlogf, plotlogf_real\n",
    "from ngsolve.webgui import Draw\n",
    "from ngsolve import CF\n",
    "from scipy.optimize import newton\n"
   ]
  },
  {
   "cell_type": "code",
   "execution_count": null,
   "id": "3c9590f0",
   "metadata": {},
   "outputs": [],
   "source": [
    "n_air = 1.00027717\n",
    "n_glass = 1.4388164768221814\n",
    "\n",
    "ts = [15*2.7183333333333333e-6, 15*2/3*1e-6, 10*2.7183333333333333e-6, 15*2/3*1e-6]\n",
    "mats = ['air', 'glass', 'air', 'glass']\n",
    "ns = [lambda x:n_air, lambda x:n_glass, lambda x:n_air, lambda x:n_glass]\n",
    "maxhs = [.1, .015, .05, .01]\n",
    "\n",
    "n = 300\n",
    "wls = np.linspace(1.4e-6, 2e-6, n+1)"
   ]
  },
  {
   "cell_type": "code",
   "execution_count": null,
   "id": "e74065e7",
   "metadata": {},
   "outputs": [],
   "source": [
    "A = BraggExact(ts=ts,ns=ns, mats=mats, maxhs=maxhs, wl=1.8e-6)\n"
   ]
  },
  {
   "cell_type": "code",
   "execution_count": null,
   "id": "9e68f5cc",
   "metadata": {
    "scrolled": true
   },
   "outputs": [],
   "source": [
    "Draw(CF(list(A.ns)), A.mesh)"
   ]
  },
  {
   "cell_type": "code",
   "execution_count": null,
   "id": "7017a529",
   "metadata": {},
   "outputs": [],
   "source": [
    "k_low = A.k0 * A.ns[0] * A.scale\n",
    "k_low"
   ]
  },
  {
   "cell_type": "code",
   "execution_count": null,
   "id": "cab9eb3d",
   "metadata": {},
   "outputs": [],
   "source": [
    "outer = 'h2'\n",
    "nu = 1"
   ]
  },
  {
   "cell_type": "code",
   "execution_count": null,
   "id": "7ac1de67",
   "metadata": {},
   "outputs": [],
   "source": [
    "%matplotlib inline\n",
    "plotlogf(A.determinant, .9995*k_low, 1.000001*k_low, -.01,.01, nu, outer,\n",
    "         iref=100, rref=100, levels=100)"
   ]
  },
  {
   "cell_type": "code",
   "execution_count": null,
   "id": "053364d9",
   "metadata": {},
   "outputs": [],
   "source": [
    "plotlogf_real(A.determinant, .998*k_low, 1.00001*k_low, nu, outer)"
   ]
  },
  {
   "cell_type": "code",
   "execution_count": null,
   "id": "f5d0ebf1",
   "metadata": {},
   "outputs": [],
   "source": [
    "guess = np.array(.99999*k_low)\n",
    "\n",
    "beta1 = newton(A.determinant, guess, args=(nu, outer), tol = 1e-15)\n",
    "\n",
    "print(\"Scaled beta: \", beta1, \". Residual of determinant: \", abs(A.determinant(beta1, nu, outer)))\n"
   ]
  },
  {
   "cell_type": "markdown",
   "id": "359c3ee0",
   "metadata": {},
   "source": [
    "# Bragg Exact Fields"
   ]
  },
  {
   "cell_type": "code",
   "execution_count": null,
   "id": "f67b98d6",
   "metadata": {},
   "outputs": [],
   "source": [
    "Fs = A.all_fields(beta1, nu, outer)"
   ]
  },
  {
   "cell_type": "markdown",
   "id": "394b8d61",
   "metadata": {},
   "source": [
    "## Z-Components"
   ]
  },
  {
   "cell_type": "code",
   "execution_count": null,
   "id": "584da24d",
   "metadata": {},
   "outputs": [],
   "source": [
    "Draw(1e2*Fs['Ez'], A.mesh)"
   ]
  },
  {
   "cell_type": "code",
   "execution_count": null,
   "id": "03c5c821",
   "metadata": {},
   "outputs": [],
   "source": [
    "Draw(Fs['Ephi'].imag, A.mesh)"
   ]
  },
  {
   "cell_type": "code",
   "execution_count": null,
   "id": "bfab8c4c",
   "metadata": {},
   "outputs": [],
   "source": [
    "Draw(Fs['Hz'], A.mesh)"
   ]
  },
  {
   "cell_type": "code",
   "execution_count": null,
   "id": "9883359d",
   "metadata": {},
   "outputs": [],
   "source": [
    "Draw(Fs['Hphi'].imag, A.mesh)"
   ]
  },
  {
   "cell_type": "markdown",
   "id": "5e1562f9",
   "metadata": {},
   "source": [
    "## Hybrid Transverse fields"
   ]
  },
  {
   "cell_type": "code",
   "execution_count": null,
   "id": "877a28b6",
   "metadata": {},
   "outputs": [],
   "source": [
    "Draw(Fs['Etv'].real, A.mesh, vectors={'grid_size':100})\n"
   ]
  },
  {
   "cell_type": "code",
   "execution_count": null,
   "id": "e2d1b4ac",
   "metadata": {},
   "outputs": [],
   "source": [
    "Draw(Fs['Htv'].real, A.mesh, vectors={'grid_size':100})"
   ]
  },
  {
   "cell_type": "markdown",
   "id": "0fc716a6",
   "metadata": {},
   "source": [
    "# TE/TM fields\n",
    "\n",
    "The pairs of TE/TM modes are extremely tight.  We try to pick out the lowest loss ones below.  Note the extreme zoom on the determinant plot"
   ]
  },
  {
   "cell_type": "code",
   "execution_count": null,
   "id": "886ed27d",
   "metadata": {},
   "outputs": [],
   "source": [
    "outer = 'h2'\n",
    "nu = 0"
   ]
  },
  {
   "cell_type": "code",
   "execution_count": null,
   "id": "1417f9b8",
   "metadata": {},
   "outputs": [],
   "source": [
    "plotlogf(A.determinant, .9996375*k_low, .999639*k_low, -.00001,.00001, nu, outer,\n",
    "         iref=100, rref=100, levels=100, figsize=(14,8))"
   ]
  },
  {
   "cell_type": "code",
   "execution_count": null,
   "id": "c67eb6e0",
   "metadata": {},
   "outputs": [],
   "source": [
    "guess = np.array(5.2355e1+.00045 -5e-6j)\n",
    "\n",
    "betaR = newton(A.determinant, guess, args=(nu, outer), tol = 1e-15)\n",
    "\n",
    "print(\"Scaled beta: \", betaR, \". Residual of determinant: \", abs(A.determinant(betaR, nu, outer)))\n"
   ]
  },
  {
   "cell_type": "markdown",
   "id": "0129e960",
   "metadata": {},
   "source": [
    "# Bragg Exact Fields"
   ]
  },
  {
   "cell_type": "code",
   "execution_count": null,
   "id": "e6086505",
   "metadata": {},
   "outputs": [],
   "source": [
    "FsR = A.all_fields(betaR, nu, outer)"
   ]
  },
  {
   "cell_type": "markdown",
   "id": "343eacf2",
   "metadata": {},
   "source": [
    "# First is a TM mode"
   ]
  },
  {
   "cell_type": "markdown",
   "id": "0b1cd5a5",
   "metadata": {},
   "source": [
    "## Z-Components"
   ]
  },
  {
   "cell_type": "code",
   "execution_count": null,
   "id": "5c384901",
   "metadata": {},
   "outputs": [],
   "source": [
    "Draw(1e1*FsR['Ez'], A.mesh)"
   ]
  },
  {
   "cell_type": "code",
   "execution_count": null,
   "id": "970d60a0",
   "metadata": {},
   "outputs": [],
   "source": [
    "Draw(FsR['Hz'], A.mesh)"
   ]
  },
  {
   "cell_type": "markdown",
   "id": "3e9c1697",
   "metadata": {},
   "source": [
    "## Transverse fields"
   ]
  },
  {
   "cell_type": "code",
   "execution_count": null,
   "id": "b0ce22dd",
   "metadata": {
    "scrolled": true
   },
   "outputs": [],
   "source": [
    "Draw(FsR['Etv'].real, A.mesh, vectors={'grid_size':100})\n"
   ]
  },
  {
   "cell_type": "code",
   "execution_count": null,
   "id": "1e4693e7",
   "metadata": {},
   "outputs": [],
   "source": [
    "Draw(FsR['Etv'].imag, A.mesh, vectors={'grid_size':100})\n"
   ]
  },
  {
   "cell_type": "code",
   "execution_count": null,
   "id": "1b331909",
   "metadata": {},
   "outputs": [],
   "source": [
    "Draw(FsR['Htv'].real, A.mesh, vectors={'grid_size':100})"
   ]
  },
  {
   "cell_type": "code",
   "execution_count": null,
   "id": "41e70d60",
   "metadata": {},
   "outputs": [],
   "source": [
    "Draw(FsR['Htv'].imag, A.mesh, vectors={'grid_size':100})"
   ]
  },
  {
   "cell_type": "markdown",
   "id": "71c80b95",
   "metadata": {},
   "source": [
    "# Appears beta with higher real part was TM, now for TE"
   ]
  },
  {
   "cell_type": "code",
   "execution_count": null,
   "id": "4bfe8b2d",
   "metadata": {},
   "outputs": [],
   "source": [
    "outer = 'h2'\n",
    "nu = 0"
   ]
  },
  {
   "cell_type": "code",
   "execution_count": null,
   "id": "7b5343c6",
   "metadata": {},
   "outputs": [],
   "source": [
    "plotlogf(A.determinant, .9996375*k_low, .999639*k_low, -.00001,.00001, nu, outer,\n",
    "         iref=100, rref=100, levels=100, figsize=(14,8))"
   ]
  },
  {
   "cell_type": "code",
   "execution_count": null,
   "id": "050728c3",
   "metadata": {},
   "outputs": [],
   "source": [
    "guess = np.array(5.2355e1+.00025 - 1e-6j)\n",
    "\n",
    "betaL = newton(A.determinant, guess, args=(nu, outer), tol = 1e-15)\n",
    "\n",
    "print(\"Scaled beta: \", betaL, \". Residual of determinant: \", abs(A.determinant(betaL, nu, outer)))\n"
   ]
  },
  {
   "cell_type": "markdown",
   "id": "84754216",
   "metadata": {},
   "source": [
    "# Bragg Exact Fields"
   ]
  },
  {
   "cell_type": "code",
   "execution_count": null,
   "id": "7323927a",
   "metadata": {},
   "outputs": [],
   "source": [
    "FsL = A.all_fields(betaL, nu, outer)"
   ]
  },
  {
   "cell_type": "markdown",
   "id": "236a5ca7",
   "metadata": {},
   "source": [
    "## Z-Components"
   ]
  },
  {
   "cell_type": "code",
   "execution_count": null,
   "id": "549dd817",
   "metadata": {},
   "outputs": [],
   "source": [
    "Draw(1e1*FsL['Ez'], A.mesh)"
   ]
  },
  {
   "cell_type": "code",
   "execution_count": null,
   "id": "cbe041a5",
   "metadata": {},
   "outputs": [],
   "source": [
    "Draw(FsL['Hz'], A.mesh)"
   ]
  },
  {
   "cell_type": "markdown",
   "id": "293f7f64",
   "metadata": {},
   "source": [
    "## Transverse fields"
   ]
  },
  {
   "cell_type": "markdown",
   "id": "b4f8e628",
   "metadata": {},
   "source": [
    "## Etv"
   ]
  },
  {
   "cell_type": "code",
   "execution_count": null,
   "id": "479bcdcf",
   "metadata": {},
   "outputs": [],
   "source": [
    "Draw(FsL['Etv'].real, A.mesh, vectors={'grid_size':100})"
   ]
  },
  {
   "cell_type": "code",
   "execution_count": null,
   "id": "123c4d1d",
   "metadata": {},
   "outputs": [],
   "source": [
    "Draw(FsL['Etv'].imag, A.mesh, vectors={'grid_size':100})\n"
   ]
  },
  {
   "cell_type": "markdown",
   "id": "b250a63e",
   "metadata": {},
   "source": [
    "## Htv"
   ]
  },
  {
   "cell_type": "code",
   "execution_count": null,
   "id": "0cc5bf66",
   "metadata": {},
   "outputs": [],
   "source": [
    "Draw(FsL['Htv'].real, A.mesh, vectors={'grid_size':100})"
   ]
  },
  {
   "cell_type": "code",
   "execution_count": null,
   "id": "d72ef48f",
   "metadata": {},
   "outputs": [],
   "source": [
    "Draw(FsL['Htv'].imag, A.mesh, vectors={'grid_size':100})\n"
   ]
  }
 ],
 "metadata": {
  "kernelspec": {
   "display_name": "Python 3 (ipykernel)",
   "language": "python",
   "name": "python3"
  },
  "language_info": {
   "codemirror_mode": {
    "name": "ipython",
    "version": 3
   },
   "file_extension": ".py",
   "mimetype": "text/x-python",
   "name": "python",
   "nbconvert_exporter": "python",
   "pygments_lexer": "ipython3",
   "version": "3.8.10"
  }
 },
 "nbformat": 4,
 "nbformat_minor": 5
}
