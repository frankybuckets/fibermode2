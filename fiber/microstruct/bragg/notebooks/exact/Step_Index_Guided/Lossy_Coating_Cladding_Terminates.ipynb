{
 "cells": [
  {
   "cell_type": "markdown",
   "id": "720129b6",
   "metadata": {},
   "source": [
    "\n",
    "# Solid Core Step index fiber with Cladding that terminates and lossy coating\n",
    "\n",
    "In Marcuse's second (later) book, he mentions effects of terminating cladding are minimal.  Here we investigate."
   ]
  },
  {
   "cell_type": "code",
   "execution_count": null,
   "id": "664ce3d7",
   "metadata": {},
   "outputs": [],
   "source": [
    "import numpy as np\n",
    "\n",
    "from fiberamp.fiber.microstruct.bragg import BraggExact\n",
    "from step_exact import plotlogf, plotlogf_real\n",
    "from ngsolve.webgui import Draw\n",
    "from ngsolve import CF\n",
    "from scipy.optimize import newton\n"
   ]
  },
  {
   "cell_type": "code",
   "execution_count": null,
   "id": "1829005b",
   "metadata": {},
   "outputs": [],
   "source": [
    "n_core = 1.6\n",
    "n_clad = 1.5\n",
    "n_poly = 1.8 - .1j\n",
    "n_air = 1"
   ]
  },
  {
   "cell_type": "code",
   "execution_count": null,
   "id": "e74065e7",
   "metadata": {},
   "outputs": [],
   "source": [
    "A = BraggExact(ts=[1e-6,8e-6, 1e-6, 2e-6], mats=['core', 'clad', 'poly', 'air'], \n",
    "               ns=[lambda x:n_core, lambda x: n_clad, lambda x: n_poly, lambda x:n_air],\n",
    "              maxhs=[.1,.1, .1, .1], wl=1.8e-6, scale=1e-6)\n"
   ]
  },
  {
   "cell_type": "code",
   "execution_count": null,
   "id": "9e68f5cc",
   "metadata": {},
   "outputs": [],
   "source": [
    "Draw(CF([n for n in A.ns]), A.mesh)"
   ]
  },
  {
   "cell_type": "code",
   "execution_count": null,
   "id": "7017a529",
   "metadata": {},
   "outputs": [],
   "source": [
    "k_low = A.k0 * A.ns[-1] * A.scale\n",
    "k_mid = A.k0 * A.ns[1] * A.scale\n",
    "k_high = A.k0 * A.ns[0] * A.scale\n",
    "outer = 'h1'\n",
    "nu = 1"
   ]
  },
  {
   "cell_type": "code",
   "execution_count": null,
   "id": "738dccef",
   "metadata": {},
   "outputs": [],
   "source": [
    "k_low, k_mid, k_high"
   ]
  },
  {
   "cell_type": "code",
   "execution_count": null,
   "id": "7ac1de67",
   "metadata": {},
   "outputs": [],
   "source": [
    "%matplotlib inline\n",
    "plotlogf(A.determinant, k_low - .01, k_high + .01, -.2,.2, nu, outer,\n",
    "         iref=200, rref=200, levels=200)"
   ]
  },
  {
   "cell_type": "markdown",
   "id": "bffc8163",
   "metadata": {},
   "source": [
    "### This appears to be the near continuum of cladding modes Marcuse mentions Theory of Dielectric Waveguides."
   ]
  },
  {
   "cell_type": "code",
   "execution_count": null,
   "id": "0a8d2633",
   "metadata": {},
   "outputs": [],
   "source": [
    "%matplotlib inline\n",
    "plotlogf(A.determinant, k_low, k_mid, -.2,.2, nu, outer,\n",
    "         iref=120, rref=120, levels=120)"
   ]
  },
  {
   "cell_type": "code",
   "execution_count": null,
   "id": "98bf1c0d",
   "metadata": {},
   "outputs": [],
   "source": [
    "%matplotlib notebook\n",
    "plotlogf(A.determinant, k_mid, k_high, -.1,.1, nu, outer,\n",
    "         iref=120, rref=120, levels=120)"
   ]
  },
  {
   "cell_type": "code",
   "execution_count": null,
   "id": "3028e0d6",
   "metadata": {},
   "outputs": [],
   "source": [
    "%matplotlib notebook\n",
    "plotlogf_real(A.determinant, k_low-.01, k_mid, nu, outer, n=20000, figsize=(10,5),\n",
    "              truncate=True, height=.01)"
   ]
  },
  {
   "cell_type": "code",
   "execution_count": null,
   "id": "4365d5ed",
   "metadata": {},
   "outputs": [],
   "source": [
    "guess = np.array(.9*k_high)\n",
    "\n",
    "beta1 = newton(A.determinant, guess, args=(nu, outer), tol = 1e-15)\n",
    "\n",
    "print(\"Scaled beta: \", beta1, \". Residual of determinant: \", abs(A.determinant(beta1, nu, outer)))\n"
   ]
  },
  {
   "cell_type": "markdown",
   "id": "f680dd27",
   "metadata": {},
   "source": [
    "# Bragg Exact Fields"
   ]
  },
  {
   "cell_type": "code",
   "execution_count": null,
   "id": "c26cf71a",
   "metadata": {},
   "outputs": [],
   "source": [
    "Fs = A.all_fields(beta1, nu, outer)"
   ]
  },
  {
   "cell_type": "code",
   "execution_count": null,
   "id": "0016122a",
   "metadata": {},
   "outputs": [],
   "source": [
    "Draw(1e2*Fs['Ez'], A.mesh)"
   ]
  },
  {
   "cell_type": "code",
   "execution_count": null,
   "id": "fc94138a",
   "metadata": {},
   "outputs": [],
   "source": [
    "Draw(Fs['Hz'], A.mesh)"
   ]
  },
  {
   "cell_type": "code",
   "execution_count": null,
   "id": "92d5cd30",
   "metadata": {},
   "outputs": [],
   "source": [
    "Draw(Fs['Etv'].real, A.mesh, vectors={'grid_size':100})\n"
   ]
  },
  {
   "cell_type": "code",
   "execution_count": null,
   "id": "543c0200",
   "metadata": {},
   "outputs": [],
   "source": [
    "Draw(Fs['Etv'].real, A.mesh, vectors={'grid_size':100})\n"
   ]
  },
  {
   "cell_type": "code",
   "execution_count": null,
   "id": "5813b782",
   "metadata": {},
   "outputs": [],
   "source": [
    "Draw(Fs['Ephi'], A.mesh)"
   ]
  },
  {
   "cell_type": "code",
   "execution_count": null,
   "id": "1f15b4b5",
   "metadata": {},
   "outputs": [],
   "source": [
    "Draw(Fs['Hphi'], A.mesh)"
   ]
  }
 ],
 "metadata": {
  "kernelspec": {
   "display_name": "Python 3 (ipykernel)",
   "language": "python",
   "name": "python3"
  },
  "language_info": {
   "codemirror_mode": {
    "name": "ipython",
    "version": 3
   },
   "file_extension": ".py",
   "mimetype": "text/x-python",
   "name": "python",
   "nbconvert_exporter": "python",
   "pygments_lexer": "ipython3",
   "version": "3.8.10"
  }
 },
 "nbformat": 4,
 "nbformat_minor": 5
}
