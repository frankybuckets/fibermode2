{
 "cells": [
  {
   "cell_type": "code",
   "execution_count": null,
   "id": "dee42fff",
   "metadata": {},
   "outputs": [],
   "source": [
    "import numpy as np\n",
    "import matplotlib.pyplot as plt\n",
    "import cmasher as cmr\n",
    "\n",
    "from fiberamp.fiber.microstruct.bragg import BraggExact\n",
    "from fiberamp.fiber.microstruct.bragg import plotlogf, plotlogf_real\n",
    "from ngsolve.webgui import Draw\n",
    "from ngsolve import CF\n",
    "from scipy.optimize import newton\n",
    "from ipywidgets import interactive, FloatSlider, Layout"
   ]
  },
  {
   "cell_type": "code",
   "execution_count": null,
   "id": "4af98238",
   "metadata": {},
   "outputs": [],
   "source": [
    "d = 4.0775e-05  # thickness of innermost region (core radius)\n",
    "ts = [d, 1e-5, d]\n",
    "\n",
    "n_air = 1.00027717\n",
    "n_glass = 1.4388164768221814\n",
    "\n",
    "ns = [lambda x:n_air, lambda x:n_glass, lambda x:n_air]\n",
    "\n",
    "mats = ['air', 'glass', 'air']\n",
    "\n",
    "maxhs = [1, 1, 1]\n",
    "\n",
    "A = BraggExact(ts=ts, mats=mats, ns=ns, maxhs=maxhs, no_mesh=True)\n"
   ]
  },
  {
   "cell_type": "code",
   "execution_count": null,
   "id": "f236c143",
   "metadata": {},
   "outputs": [],
   "source": [
    "nu = 1\n",
    "\n",
    "def det_plot(wl):\n",
    "\n",
    "    A.wavelength = wl * 1e-6\n",
    "        \n",
    "    cutoff = A.ks[0] * A.scale\n",
    "    L, R = .9995, 1.0001\n",
    "    imin, imax = -.003, .001\n",
    "    Xr = np.linspace(L * cutoff , R * cutoff , num=75)\n",
    "    Xi = np.linspace(imin, imax, num=75)\n",
    "    xr, xi = np.meshgrid(Xr, Xi)\n",
    "    zs = xr + 1j * xi\n",
    "    \n",
    "    fig, ax1 = plt.subplots(1, figsize=(14, 10))\n",
    "    \n",
    "    fs1 = A.determinant(zs, nu=nu, outer='h2')\n",
    "    ax1.contour(xr, xi, np.log(np.abs(fs1)), levels=75)\n",
    "    ax1.grid(True)\n",
    "    ax1.set_facecolor('grey')\n",
    "#     ax1.set_yticks([0])\n",
    "#     ax1.set_xticks([])\n",
    "\n",
    "    plt.show()\n",
    "    \n",
    "interactive_plot = interactive(det_plot, wl=FloatSlider(min=1.4, max=1.6, step=.01, value=1.5, \n",
    "                                             readout_format='.6f', layout=Layout(width='100%')))\n",
    "output = interactive_plot.children[-1]\n",
    "output.layout.height = '10'\n",
    "interactive_plot"
   ]
  },
  {
   "cell_type": "code",
   "execution_count": null,
   "id": "204fe3c2",
   "metadata": {},
   "outputs": [],
   "source": [
    "k_low = A.ks[0] * A.scale\n",
    "guess = .9999 * k_low\n",
    "guess"
   ]
  },
  {
   "cell_type": "code",
   "execution_count": null,
   "id": "56e5316f",
   "metadata": {},
   "outputs": [],
   "source": [
    "nu = 1\n",
    "outer='h2'\n",
    "beta1 = newton(A.determinant, guess, args=(nu, outer), tol = 1e-15)\n",
    "\n",
    "print(\"Scaled beta: \", beta1, \". Residual of determinant: \", abs(A.determinant(beta1, nu, outer)))\n"
   ]
  },
  {
   "cell_type": "code",
   "execution_count": null,
   "id": "63507654",
   "metadata": {},
   "outputs": [],
   "source": [
    "beta1.real/ k_low"
   ]
  },
  {
   "cell_type": "code",
   "execution_count": null,
   "id": "ec2b8eb8",
   "metadata": {},
   "outputs": [],
   "source": []
  }
 ],
 "metadata": {
  "kernelspec": {
   "display_name": "Python 3 (ipykernel)",
   "language": "python",
   "name": "python3"
  },
  "language_info": {
   "codemirror_mode": {
    "name": "ipython",
    "version": 3
   },
   "file_extension": ".py",
   "mimetype": "text/x-python",
   "name": "python",
   "nbconvert_exporter": "python",
   "pygments_lexer": "ipython3",
   "version": "3.8.10"
  }
 },
 "nbformat": 4,
 "nbformat_minor": 5
}
