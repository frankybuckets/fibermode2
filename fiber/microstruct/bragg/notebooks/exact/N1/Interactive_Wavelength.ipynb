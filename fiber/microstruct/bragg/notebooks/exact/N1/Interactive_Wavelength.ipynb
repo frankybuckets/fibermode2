{
 "cells": [
  {
   "cell_type": "markdown",
   "id": "32862745",
   "metadata": {},
   "source": [
    "# Interactive Plot of Determinant function for varying wavelength\n",
    "\n",
    "User can slide a bar to change input wavelength and see how this affects propagation constants for N1 fiber."
   ]
  },
  {
   "cell_type": "code",
   "execution_count": null,
   "id": "dee42fff",
   "metadata": {},
   "outputs": [],
   "source": [
    "import numpy as np\n",
    "import matplotlib.pyplot as plt\n",
    "\n",
    "from fiberamp.fiber.microstruct.bragg import BraggExact\n",
    "from ipywidgets import interactive, FloatSlider, Layout"
   ]
  },
  {
   "cell_type": "code",
   "execution_count": null,
   "id": "4af98238",
   "metadata": {},
   "outputs": [],
   "source": [
    "d = 4.0775e-05  # thickness of innermost region (core radius)\n",
    "ts = [d, 1e-5, d]\n",
    "\n",
    "n_air = 1.00027717\n",
    "n_glass = 1.4388164768221814\n",
    "\n",
    "ns = [lambda x:n_air, lambda x:n_glass, lambda x:n_air]\n",
    "\n",
    "mats = ['air', 'glass', 'air']\n",
    "\n",
    "maxhs = [1, 1, 1]\n",
    "\n",
    "A = BraggExact(ts=ts, mats=mats, ns=ns, maxhs=maxhs, no_mesh=True)\n"
   ]
  },
  {
   "cell_type": "markdown",
   "id": "bc47316e",
   "metadata": {},
   "source": [
    "# Interactive plot\n",
    "\n",
    "Click on the slider and drag to change wavelength.  Or you can click on the slider and then use the arrow keys on your keyboard to move it a step at a time\n",
    "\n",
    "### Close in plot:\n",
    "\n",
    "Fundamental appears as first root near real axis near left of plot. It has already started to become lossy (ie move further below real axis).  "
   ]
  },
  {
   "cell_type": "code",
   "execution_count": null,
   "id": "f236c143",
   "metadata": {},
   "outputs": [],
   "source": [
    "nu = 1\n",
    "N = 85\n",
    "Ktype = 'kappa'\n",
    "\n",
    "def det_plot(wl):\n",
    "\n",
    "    A.wavelength = wl * 1e-6\n",
    "        \n",
    "    cutoff = A.ks[0] * A.scale\n",
    "    L, R = .9998, 1.00009\n",
    "    imin, imax = -.05, .01\n",
    "    Xr = np.linspace(L * cutoff , R * cutoff , num=N)\n",
    "    Xi = np.linspace(imin, imax, num=N)\n",
    "    xr, xi = np.meshgrid(Xr, Xi)\n",
    "    zs = xr + 1j * xi\n",
    "    \n",
    "    fig, ax1 = plt.subplots(1, figsize=(14, 8))\n",
    "    \n",
    "    fs1 = A.determinant(zs, nu=nu, outer='h2', Ktype=Ktype)\n",
    "    data = ax1.contour(xr, xi, np.log(np.abs(fs1)), levels=N)\n",
    "    ax1.grid(True)\n",
    "    ax1.set_facecolor('grey')\n",
    "    ax1.set_yticks([0])\n",
    "    ax1.set_xticks([cutoff], labels=['k_low'])\n",
    "    plt.title('Current wavelength: %.6e\\nResonant wavelength: 1.59112809e-6'%(wl*1e-6), fontsize=16)\n",
    "#     plt.colorbar(data)\n",
    "    plt.show()\n",
    "    \n",
    "interactive_plot = interactive(det_plot, wl=FloatSlider(min=1.59112809 - .003, \n",
    "                                                        max=1.59112809 + .002, \n",
    "                                                        step=.00003, \n",
    "                                                        value=1.59112809 - .003, \n",
    "                                                        readout_format='.6f',\n",
    "                                                        layout=Layout(width='100%')))\n",
    "output = interactive_plot.children[-1]\n",
    "output.layout.height = '10'\n",
    "interactive_plot "
   ]
  },
  {
   "cell_type": "markdown",
   "id": "a8100aad",
   "metadata": {},
   "source": [
    "## Wide area view\n",
    "\n",
    "Here we see that the previous fundamental is joined by a new mode, and they then appear to move to the location formerly occumpied by another set of higher order modes.\n",
    "\n",
    "### First frame has two higher order modes near left of plot, fundamental further to right."
   ]
  },
  {
   "cell_type": "code",
   "execution_count": null,
   "id": "a5840780",
   "metadata": {},
   "outputs": [],
   "source": [
    "nu = 1\n",
    "N = 85\n",
    "Ktype = 'kappa'\n",
    "\n",
    "def det_plot(wl):\n",
    "\n",
    "    A.wavelength = wl * 1e-6\n",
    "        \n",
    "    cutoff = A.ks[0] * A.scale\n",
    "    L, R = .9992, 1.00009\n",
    "    imin, imax = -.05, .01\n",
    "    Xr = np.linspace(L * cutoff , R * cutoff , num=N)\n",
    "    Xi = np.linspace(imin, imax, num=N)\n",
    "    xr, xi = np.meshgrid(Xr, Xi)\n",
    "    zs = xr + 1j * xi\n",
    "    \n",
    "    fig, ax1 = plt.subplots(1, figsize=(14, 8))\n",
    "    \n",
    "    fs1 = A.determinant(zs, nu=nu, outer='h2', Ktype=Ktype)\n",
    "    data = ax1.contour(xr, xi, np.log(np.abs(fs1)), levels=N)\n",
    "    ax1.grid(True)\n",
    "    ax1.set_facecolor('grey')\n",
    "    ax1.set_yticks([0])\n",
    "    ax1.set_xticks([cutoff], labels=['k_low'])\n",
    "    plt.title('Current wavelength: %.6e\\nResonant wavelength: 1.59112809e-6'%(wl*1e-6), fontsize=16)\n",
    "#     plt.colorbar(data)\n",
    "    plt.show()\n",
    "    \n",
    "interactive_plot = interactive(det_plot, wl=FloatSlider(min=1.59112809 - .003, \n",
    "                                                        max=1.59112809 + .002, \n",
    "                                                        step=.000025, \n",
    "                                                        value=1.59112809 -.003, \n",
    "                                                        readout_format='.6f',\n",
    "                                                        layout=Layout(width='100%')))\n",
    "output = interactive_plot.children[-1]\n",
    "output.layout.height = '10'\n",
    "interactive_plot "
   ]
  },
  {
   "cell_type": "code",
   "execution_count": null,
   "id": "ec965c67",
   "metadata": {},
   "outputs": [],
   "source": []
  }
 ],
 "metadata": {
  "kernelspec": {
   "display_name": "Python 3 (ipykernel)",
   "language": "python",
   "name": "python3"
  },
  "language_info": {
   "codemirror_mode": {
    "name": "ipython",
    "version": 3
   },
   "file_extension": ".py",
   "mimetype": "text/x-python",
   "name": "python",
   "nbconvert_exporter": "python",
   "pygments_lexer": "ipython3",
   "version": "3.10.6"
  }
 },
 "nbformat": 4,
 "nbformat_minor": 5
}
