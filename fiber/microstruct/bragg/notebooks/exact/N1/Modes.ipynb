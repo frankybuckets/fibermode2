{
 "cells": [
  {
   "cell_type": "markdown",
   "id": "720129b6",
   "metadata": {},
   "source": [
    "\n",
    "# Hollow Glass Ring in Air\n",
    "\n",
    "N1 in Bird"
   ]
  },
  {
   "cell_type": "code",
   "execution_count": null,
   "id": "664ce3d7",
   "metadata": {},
   "outputs": [],
   "source": [
    "import numpy as np\n",
    "\n",
    "from fiberamp.fiber.microstruct.bragg import BraggExact\n",
    "from fiberamp.fiber.microstruct.bragg import plotlogf\n",
    "from ngsolve.webgui import Draw\n",
    "from ngsolve import CF\n",
    "from scipy.optimize import newton\n",
    "from scipy.linalg import null_space"
   ]
  },
  {
   "cell_type": "code",
   "execution_count": null,
   "id": "9d706ddc",
   "metadata": {},
   "outputs": [],
   "source": [
    "n_air = 1.00027717\n",
    "n_glass = 1.4388164768221814\n",
    "\n",
    "ns = [lambda x:n_air, lambda x:n_glass, lambda x:n_air]\n",
    "\n",
    "ts = [4.0775e-05, 1e-5, 4.0775e-05]\n",
    "\n",
    "mats = ['air', 'glass', 'air']\n",
    "\n",
    "maxhs = [.1,.01, .1]"
   ]
  },
  {
   "cell_type": "code",
   "execution_count": null,
   "id": "f249bc35",
   "metadata": {},
   "outputs": [],
   "source": [
    "A = BraggExact(ts=ts, mats=mats, ns=ns, maxhs=maxhs, wl=3.25e-6)\n"
   ]
  },
  {
   "cell_type": "code",
   "execution_count": null,
   "id": "7017a529",
   "metadata": {},
   "outputs": [],
   "source": [
    "k_low = A.k0 * A.ns[0] * A.scale\n",
    "k_low"
   ]
  },
  {
   "cell_type": "code",
   "execution_count": null,
   "id": "cab9eb3d",
   "metadata": {},
   "outputs": [],
   "source": [
    "outer = 'h2'\n",
    "nu = 1"
   ]
  },
  {
   "cell_type": "code",
   "execution_count": null,
   "id": "8f45255c",
   "metadata": {},
   "outputs": [],
   "source": [
    "%matplotlib notebook\n",
    "plotlogf(A.determinant, .9995*k_low, 1.0001*k_low, -.03,.03, nu, outer,\n",
    "         iref=100, rref=100, levels=100, figsize=(10,6))"
   ]
  },
  {
   "cell_type": "code",
   "execution_count": null,
   "id": "f5d0ebf1",
   "metadata": {},
   "outputs": [],
   "source": [
    "guess = np.array(.9999 * k_low)\n",
    "\n",
    "beta1 = newton(A.determinant, guess, args=(nu, outer), tol = 1e-15)\n",
    "\n",
    "print(\"Scaled beta: \", beta1, \". Residual of determinant: \", abs(A.determinant(beta1, nu, outer)))\n"
   ]
  },
  {
   "cell_type": "markdown",
   "id": "cd4c2e9e",
   "metadata": {},
   "source": [
    "# Bragg Exact Fields"
   ]
  },
  {
   "cell_type": "code",
   "execution_count": null,
   "id": "0253bcf4",
   "metadata": {},
   "outputs": [],
   "source": [
    "FsA = A.all_fields(beta1, nu, outer)"
   ]
  },
  {
   "cell_type": "markdown",
   "id": "7c1a2ec3",
   "metadata": {},
   "source": [
    "### Electric"
   ]
  },
  {
   "cell_type": "code",
   "execution_count": null,
   "id": "798ea1e9",
   "metadata": {},
   "outputs": [],
   "source": [
    "Draw(1/0.5818660597*FsA['Ez'].Norm(), A.mesh, min=-.2, max=1)"
   ]
  },
  {
   "cell_type": "code",
   "execution_count": null,
   "id": "6e07a6b6",
   "metadata": {},
   "outputs": [],
   "source": [
    "# Draw(FsA['Etv'].real, A.mesh, vectors={'grid_size':300}) # this takes a bit"
   ]
  },
  {
   "cell_type": "code",
   "execution_count": null,
   "id": "c1764052",
   "metadata": {},
   "outputs": [],
   "source": [
    "Draw(1/45.5616025654*FsA['Etv'].Norm(), A.mesh, min=-.2, max=1)"
   ]
  },
  {
   "cell_type": "code",
   "execution_count": null,
   "id": "d12361ab",
   "metadata": {},
   "outputs": [],
   "source": [
    "Draw(FsA['Ex'].imag, A.mesh)"
   ]
  },
  {
   "cell_type": "code",
   "execution_count": null,
   "id": "b84963f1",
   "metadata": {},
   "outputs": [],
   "source": [
    "Draw(FsA['Ephi'].imag, A.mesh)"
   ]
  },
  {
   "cell_type": "markdown",
   "id": "1955e050",
   "metadata": {},
   "source": [
    "# 1D cross sections"
   ]
  },
  {
   "cell_type": "code",
   "execution_count": null,
   "id": "ae108314",
   "metadata": {},
   "outputs": [],
   "source": [
    "fsA = A.fields_matplot(beta1, nu, outer)"
   ]
  },
  {
   "cell_type": "code",
   "execution_count": null,
   "id": "7b27356f",
   "metadata": {},
   "outputs": [],
   "source": [
    "%matplotlib notebook\n",
    "fig, ax = A.plot1D(fsA['Ez_rad'], double_r=True, rlist=[400,1000,400], nu=nu, maxscale=True, part='norm',\n",
    "                  linewidth=1.5, color='k',  figsize=(12,6))\n",
    "Rhos = A.rhos/A.scale\n",
    "\n",
    "ax.arrow(0,0, Rhos[-1], 0, color='lightgray', width=.001, \n",
    "         head_width=.03, head_length=.1)\n",
    "ax.arrow(0,0, -Rhos[-1], 0, color='lightgray', width=.001, \n",
    "         head_width=.03, head_length=.1)\n",
    "# ax.set_ylim(-.2,1.2)\n",
    "\n",
    "ax.set_frame_on(False)\n",
    "ax.set_xticks([])\n",
    "ax.set_yticks([])\n",
    "fig.tight_layout()\n",
    "m, M = ax.get_ylim()\n",
    "for r in Rhos:\n",
    "    ax.plot([r,r], [m, M], 'gray', linewidth=1.2, linestyle=':')\n",
    "    ax.plot([-r,-r], [m, M], 'gray', linewidth=1.2, linestyle=':')\n",
    "ax.set_xlabel('\\nDistance from Fiber Center')\n",
    "fig.savefig('/home/pv/papers/outer_materials/slides/figures/images/jpgs/bragg_N1_1Dlong.jpg')"
   ]
  },
  {
   "cell_type": "code",
   "execution_count": null,
   "id": "335690b0",
   "metadata": {},
   "outputs": [],
   "source": [
    "%matplotlib notebook\n",
    "\n",
    "Etv_rad_norm = lambda x : (np.abs(fsA['Ex'](x,0))**2 + np.abs(fsA['Ey'](x,0))**2)**.5\n",
    "\n",
    "fig, ax = A.plot1D(Etv_rad_norm, double_r=True, part='norm', rlist=[400,1000,400], nu=nu, maxscale=True,\n",
    "                  linewidth=1.5, color='k',  figsize=(12,6))\n",
    "Rhos = A.rhos/A.scale\n",
    "\n",
    "ax.arrow(0,0, Rhos[-1], 0, color='lightgray', width=.001, \n",
    "         head_width=.015, head_length=.1)\n",
    "ax.arrow(0,0, -Rhos[-1], 0, color='lightgray', width=.001, \n",
    "         head_width=.015, head_length=.1)\n",
    "\n",
    "\n",
    "ax.set_frame_on(False)\n",
    "ax.set_xticks([])\n",
    "ax.set_yticks([])\n",
    "fig.tight_layout()\n",
    "m, M = ax.get_ylim()\n",
    "for r in Rhos:\n",
    "    ax.plot([r,r], [m, M], 'gray', linewidth=.8, linestyle=':')\n",
    "    ax.plot([-r,-r], [m, M], 'gray', linewidth=.8, linestyle=':')\n",
    "ax.set_xlabel('\\nDistance from Fiber Center')\n",
    "fig.savefig('/home/pv/papers/outer_materials/slides/figures/images/jpgs/bragg_N1_1Dtransverse.jpg')"
   ]
  },
  {
   "cell_type": "markdown",
   "id": "f1f9578c",
   "metadata": {},
   "source": [
    "### Magnetic"
   ]
  },
  {
   "cell_type": "code",
   "execution_count": null,
   "id": "49568c85",
   "metadata": {},
   "outputs": [],
   "source": [
    "Draw(1e1*FsA['Hz'], A.mesh)"
   ]
  },
  {
   "cell_type": "code",
   "execution_count": null,
   "id": "24cd0d99",
   "metadata": {},
   "outputs": [],
   "source": [
    "Draw(FsA['Hphi'].imag, A.mesh)"
   ]
  },
  {
   "cell_type": "markdown",
   "id": "162fe481",
   "metadata": {},
   "source": [
    "### Poynting Vector"
   ]
  },
  {
   "cell_type": "code",
   "execution_count": null,
   "id": "401eb3bd",
   "metadata": {},
   "outputs": [],
   "source": [
    "Draw(FsA['Sz'], A.mesh)  # also takes a bit to plot"
   ]
  },
  {
   "cell_type": "code",
   "execution_count": null,
   "id": "de1ab091",
   "metadata": {},
   "outputs": [],
   "source": [
    "Draw(FsA['Sr'], A.mesh)  # also takes a bit to plot"
   ]
  },
  {
   "cell_type": "markdown",
   "id": "535e9ec8",
   "metadata": {},
   "source": [
    "# Resonant mode"
   ]
  },
  {
   "cell_type": "code",
   "execution_count": null,
   "id": "d3eb2c9b",
   "metadata": {},
   "outputs": [],
   "source": [
    "# Formula for loss spikes from article\n",
    "\n",
    "ms = np.arange(11,15,1)\n",
    "\n",
    "n1 = A.ns[0]  # Inner (core) index\n",
    "n2 = A.ns[1]  # Cladding index\n",
    "\n",
    "d = 15*2/3*1e-6\n",
    "\n",
    "ls = (2 * n1 * d / ms * ((n2/n1)**2 - 1)**.5)  # when n2 depends on ls, need solver\n",
    "ls"
   ]
  },
  {
   "cell_type": "code",
   "execution_count": null,
   "id": "a4eab486",
   "metadata": {},
   "outputs": [],
   "source": [
    "wl_res= 1.592e-06"
   ]
  },
  {
   "cell_type": "code",
   "execution_count": null,
   "id": "02cd5bf3",
   "metadata": {},
   "outputs": [],
   "source": [
    "n_air = 1.00027717\n",
    "n_glass = 1.4388164768221814\n",
    "\n",
    "ns = [lambda x:n_air, lambda x:n_glass, lambda x:n_air]\n",
    "\n",
    "ts = [4.0775e-05, 1e-5, 4.0775e-05]\n",
    "\n",
    "mats = ['air', 'glass', 'air']\n",
    "\n",
    "maxhs = [.1,.015, .1]"
   ]
  },
  {
   "cell_type": "code",
   "execution_count": null,
   "id": "4b8026fd",
   "metadata": {},
   "outputs": [],
   "source": [
    "B = BraggExact(ts=ts, mats=mats, ns=ns, maxhs=maxhs, wl=wl_res)\n",
    "\n"
   ]
  },
  {
   "cell_type": "code",
   "execution_count": null,
   "id": "99a69e54",
   "metadata": {},
   "outputs": [],
   "source": [
    "k_low = B.k0 * B.ns[0] * B.scale\n",
    "k_low"
   ]
  },
  {
   "cell_type": "code",
   "execution_count": null,
   "id": "24b4ad87",
   "metadata": {},
   "outputs": [],
   "source": [
    "outer = 'h2'\n",
    "nu = 1"
   ]
  },
  {
   "cell_type": "code",
   "execution_count": null,
   "id": "e7827090",
   "metadata": {},
   "outputs": [],
   "source": [
    "%matplotlib notebook\n",
    "plotlogf(B.determinant, .9999*k_low, 1.0001*k_low, -.01,.01, nu, outer,\n",
    "         iref=100, rref=100, levels=100, figsize=(10,6))"
   ]
  },
  {
   "cell_type": "code",
   "execution_count": null,
   "id": "30930d86",
   "metadata": {},
   "outputs": [],
   "source": [
    "guess = np.array(.99992 * k_low)\n",
    "\n",
    "beta1 = newton(B.determinant, guess, args=(nu, outer), tol = 1e-15)\n",
    "\n",
    "print(\"Scaled beta: \", beta1, \". Residual of determinant: \", abs(B.determinant(beta1, nu, outer)))\n"
   ]
  },
  {
   "cell_type": "markdown",
   "id": "3cd9e129",
   "metadata": {},
   "source": [
    "# Bragg Exact Fields"
   ]
  },
  {
   "cell_type": "code",
   "execution_count": null,
   "id": "efc7b489",
   "metadata": {},
   "outputs": [],
   "source": [
    "FsB = B.all_fields(beta1, nu, outer)"
   ]
  },
  {
   "cell_type": "markdown",
   "id": "636e72dc",
   "metadata": {},
   "source": [
    "### Electric"
   ]
  },
  {
   "cell_type": "code",
   "execution_count": null,
   "id": "e60caf2f",
   "metadata": {},
   "outputs": [],
   "source": [
    "Draw(FsB['Ez'], B.mesh)"
   ]
  },
  {
   "cell_type": "code",
   "execution_count": null,
   "id": "54209877",
   "metadata": {},
   "outputs": [],
   "source": [
    "Draw(FsB['Etv'].real, B.mesh)"
   ]
  },
  {
   "cell_type": "code",
   "execution_count": null,
   "id": "70870099",
   "metadata": {},
   "outputs": [],
   "source": [
    "fsB = B.fields_matplot(beta1, nu, outer)"
   ]
  },
  {
   "cell_type": "code",
   "execution_count": null,
   "id": "74377988",
   "metadata": {},
   "outputs": [],
   "source": [
    "%matplotlib notebook\n",
    "figsize=(10,6)\n",
    "fig, ax = B.plot1D(fsB['Sz_rad'], double_r=True, rlist=[400,1000,400], nu=nu, \n",
    "                   part='norm', maxscale=True, figsize=figsize, linewidth=.6,\n",
    "                  label='Sz at spike')\n",
    "B.add1D_plot(ax, fsA['Sz_rad'], double_r=True,  nu=nu, part='norm', maxscale=True, linewidth=.6,\n",
    "            label='Sz at trough')\n",
    "ax.legend();"
   ]
  },
  {
   "cell_type": "code",
   "execution_count": null,
   "id": "764569e1",
   "metadata": {},
   "outputs": [],
   "source": []
  }
 ],
 "metadata": {
  "kernelspec": {
   "display_name": "Python 3 (ipykernel)",
   "language": "python",
   "name": "python3"
  },
  "language_info": {
   "codemirror_mode": {
    "name": "ipython",
    "version": 3
   },
   "file_extension": ".py",
   "mimetype": "text/x-python",
   "name": "python",
   "nbconvert_exporter": "python",
   "pygments_lexer": "ipython3",
   "version": "3.8.10"
  }
 },
 "nbformat": 4,
 "nbformat_minor": 5
}
