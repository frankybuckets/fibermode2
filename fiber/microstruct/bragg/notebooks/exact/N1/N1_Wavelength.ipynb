{
 "cells": [
  {
   "cell_type": "markdown",
   "id": "720129b6",
   "metadata": {},
   "source": [
    "# Wavelength Loss Profile\n",
    "\n",
    "Here for the N1 configuration of Bragg Fiber."
   ]
  },
  {
   "cell_type": "code",
   "execution_count": null,
   "id": "664ce3d7",
   "metadata": {},
   "outputs": [],
   "source": [
    "import numpy as np\n",
    "import matplotlib.pyplot as plt\n",
    "\n",
    "from fiberamp.fiber.microstruct.bragg import BraggExact\n",
    "from fiberamp.fiber.microstruct.bragg import plotlogf\n",
    "from ngsolve.webgui import Draw\n",
    "from scipy.optimize import newton"
   ]
  },
  {
   "cell_type": "markdown",
   "id": "d358a48f",
   "metadata": {},
   "source": [
    "# Initialize"
   ]
  },
  {
   "cell_type": "code",
   "execution_count": null,
   "id": "30f4dd59",
   "metadata": {},
   "outputs": [],
   "source": [
    "n = 300\n",
    "wls = np.linspace(1.4e-6, 2e-6, n+1)\n",
    "betas1 = np.zeros_like(wls, dtype=complex)\n",
    "outer = 'h2'\n",
    "nu = 1"
   ]
  },
  {
   "cell_type": "code",
   "execution_count": null,
   "id": "0ec21ed3",
   "metadata": {},
   "outputs": [],
   "source": [
    "n_air = 1.00027717\n",
    "n_glass = 1.4388164768221814\n",
    "\n",
    "ns = [lambda x:n_air, lambda x:n_glass, lambda x:n_air]\n",
    "\n",
    "ts = [4.0775e-05, 1e-5, 4.0775e-05]\n",
    "\n",
    "mats = ['air', 'glass', 'air']\n",
    "\n",
    "maxhs = [1, 1, 1]"
   ]
  },
  {
   "cell_type": "markdown",
   "id": "0b5b89c6",
   "metadata": {},
   "source": [
    "# Four Layer Study: Glass outside Air (Outside Cladding)"
   ]
  },
  {
   "cell_type": "code",
   "execution_count": null,
   "id": "81226ec5",
   "metadata": {},
   "outputs": [],
   "source": [
    "betas1 = np.zeros_like(wls, dtype=complex)\n",
    "\n",
    "for i, wl in enumerate(wls):\n",
    "    print(5 * ' ' +  + 20 * '-' + '  ' + str(i+1) + '/' + str(n+1) + ': ' +\n",
    "          'wavelength: ' +  str(wls[i]) + '  ' +  20 * '-' +5 * ' '+'\\n')\n",
    "          \n",
    "    A = BraggExact(ts=ts, maxhs=maxhs, wl=wl, mats=mats, ns=ns, no_mesh=True)\n",
    "\n",
    "    k_low = A.ks[0] * A.scale\n",
    "    guess = np.array(.9999 * k_low)\n",
    "    imag = 0\n",
    "    flag = True\n",
    "    reduce = 0\n",
    "\n",
    "    while flag:\n",
    "        try:\n",
    "            x0 = np.array(guess-1e-5j)\n",
    "            beta = newton(A.determinant, x0, args=(nu, outer), tol = 1e-17)\n",
    "            if beta.real > k_low:\n",
    "                print(\"Captured wrong mode, retrying.\")\n",
    "                raise RuntimeError\n",
    "            elif beta.imag > 0:\n",
    "                print(\"Positive imaginary part, retrying.\")\n",
    "                imag = -beta.imag\n",
    "                guess *= 1/.9999999\n",
    "                raise RuntimeError\n",
    "            else:\n",
    "                print(\"Scaled beta: \", beta, \". Residual of determinant: \", \n",
    "                      abs(A.determinant(beta, nu, outer)), '\\n\\n' )\n",
    "                imag = beta.imag\n",
    "                flag=False\n",
    "        except RuntimeError:\n",
    "            guess *= .9999999\n",
    "            reduce += 1\n",
    "            print(\"scaling guess: \" + str(reduce), flush=True)\n",
    "    betas1[i] = beta\n",
    "    "
   ]
  },
  {
   "cell_type": "code",
   "execution_count": null,
   "id": "a024c592",
   "metadata": {},
   "outputs": [],
   "source": [
    "# Formula for loss spikes from article\n",
    "\n",
    "ms = np.arange(11,15,1)\n",
    "\n",
    "n1 = A.ns[0]  # Inner (core) index\n",
    "n2 = A.ns[1]  # Cladding index\n",
    "\n",
    "d = 15*2/3*1e-6\n",
    "\n",
    "Ls = (2 * n1 * d / ms * ((n2/n1)**2 - 1)**.5)  # when n2 depends on ls, need solver\n",
    "Ls"
   ]
  },
  {
   "cell_type": "code",
   "execution_count": null,
   "id": "1f62d654",
   "metadata": {},
   "outputs": [],
   "source": [
    "%matplotlib inline\n",
    "plt.figure(figsize=(12,5))\n",
    "plt.plot(wls, -betas1.imag, color='green', linewidth=.9)\n",
    "plt.yscale('log')\n",
    "for l in Ls:\n",
    "    plt.plot([l,l], [0, .012],  linewidth=1, linestyle=':')"
   ]
  },
  {
   "cell_type": "code",
   "execution_count": null,
   "id": "135b9491",
   "metadata": {},
   "outputs": [],
   "source": [
    "# np.save('../../Air_Buffer_Thickness_Studies/N2_studies/data/N1_wls.npy', betas1)"
   ]
  },
  {
   "cell_type": "markdown",
   "id": "c788935b",
   "metadata": {},
   "source": [
    "# Using Sellmeier"
   ]
  },
  {
   "cell_type": "code",
   "execution_count": null,
   "id": "066a5af3",
   "metadata": {},
   "outputs": [],
   "source": [
    "betas2=np.zeros_like(betas1)\n",
    "for i, wl in enumerate(wls):\n",
    "    print(5 * ' ' +  + 20 * '-' + '  ' + str(i+1) + '/' + str(n+1) + ': ' +\n",
    "          'wavelength: ' +  str(wls[i]) + '  ' +  20 * '-' +5 * ' '+'\\n')\n",
    "          \n",
    "    A = BraggExact(ts=ts, maxhs=[1 ,1, 1], wl=wl, no_mesh=True)\n",
    "\n",
    "    k_low = A.ks[0] * A.scale\n",
    "    guess = np.array(.9999 * k_low)\n",
    "    imag = 0\n",
    "    flag = True\n",
    "    reduce = 0\n",
    "\n",
    "    while flag:\n",
    "        try:\n",
    "            x0 = np.array(guess + imag*1j)\n",
    "            beta = newton(A.determinant, x0, args=(nu, outer), tol = 1e-17)\n",
    "            if beta.real > k_low:\n",
    "                print(\"Captured wrong mode, retrying.\")\n",
    "                raise RuntimeError\n",
    "            elif beta.imag > 0:\n",
    "                print(\"Positive imaginary part, retrying.\")\n",
    "                imag = -beta.imag\n",
    "                guess *= 1/.999999\n",
    "                raise RuntimeError\n",
    "            else:\n",
    "                print(\"Scaled beta: \", beta, \". Residual of determinant: \", \n",
    "                      abs(A.determinant(beta, nu, outer)), '\\n\\n' )\n",
    "                imag = beta.imag\n",
    "                flag=False\n",
    "        except RuntimeError:\n",
    "            guess *= .9999999\n",
    "            reduce += 1\n",
    "            print(\"scaling guess: \" + str(reduce), flush=True)\n",
    "    betas2[i] = beta\n",
    "    "
   ]
  },
  {
   "cell_type": "code",
   "execution_count": null,
   "id": "ce39dc28",
   "metadata": {},
   "outputs": [],
   "source": [
    "ls_sell=np.load('ls_sell.npy')"
   ]
  },
  {
   "cell_type": "code",
   "execution_count": null,
   "id": "8c6e7a9a",
   "metadata": {},
   "outputs": [],
   "source": [
    "%matplotlib inline\n",
    "plt.figure(figsize=(8,5))\n",
    "plt.plot(wls, -betas1.imag, color='green', linewidth=.9, label='no sellmeier')\n",
    "plt.plot(wls, -betas2.imag, color='red', linewidth=.9, label='sellmeier')\n",
    "plt.yscale('log')\n",
    "plt.legend()\n",
    "# for l in ls_sell:\n",
    "#     plt.plot([l,l], [0, .0001],  linewidth=1, color='r',linestyle=':')\n",
    "# for l in ls:\n",
    "#     plt.plot([l,l], [0, .0001],  linewidth=1, color='g',linestyle=':')\n"
   ]
  },
  {
   "cell_type": "code",
   "execution_count": null,
   "id": "d7fd0390",
   "metadata": {},
   "outputs": [],
   "source": []
  }
 ],
 "metadata": {
  "kernelspec": {
   "display_name": "Python 3 (ipykernel)",
   "language": "python",
   "name": "python3"
  },
  "language_info": {
   "codemirror_mode": {
    "name": "ipython",
    "version": 3
   },
   "file_extension": ".py",
   "mimetype": "text/x-python",
   "name": "python",
   "nbconvert_exporter": "python",
   "pygments_lexer": "ipython3",
   "version": "3.10.6"
  }
 },
 "nbformat": 4,
 "nbformat_minor": 5
}
