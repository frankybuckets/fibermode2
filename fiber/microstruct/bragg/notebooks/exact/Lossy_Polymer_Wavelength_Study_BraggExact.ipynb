{
 "cells": [
  {
   "cell_type": "markdown",
   "id": "720129b6",
   "metadata": {},
   "source": [
    "# Do the wavelength study for the hollow glass tube with polymer\n",
    "\n",
    "Do it for both lossy and non-lossy polymer.  Both with air outside."
   ]
  },
  {
   "cell_type": "code",
   "execution_count": null,
   "id": "664ce3d7",
   "metadata": {},
   "outputs": [],
   "source": [
    "import numpy as np\n",
    "import matplotlib.pyplot as plt\n",
    "\n",
    "\n",
    "from fiberamp.fiber.microstruct.bragg import BraggExact\n",
    "from step_exact import plotlogf\n",
    "from scipy.optimize import newton"
   ]
  },
  {
   "cell_type": "markdown",
   "id": "d358a48f",
   "metadata": {},
   "source": [
    "# Initialize"
   ]
  },
  {
   "cell_type": "code",
   "execution_count": null,
   "id": "30f4dd59",
   "metadata": {},
   "outputs": [],
   "source": [
    "n = 300\n",
    "wls = np.linspace(1.4e-6, 2e-6, n+1)\n",
    "betas1 = np.zeros_like(wls, dtype=complex)\n",
    "outer = 'h2'\n",
    "nu = 1\n",
    "\n",
    "n_air = 1.00027717\n",
    "n_glass = 1.4388164768221814\n",
    "n_poly = 1.5"
   ]
  },
  {
   "cell_type": "code",
   "execution_count": null,
   "id": "6be1acd4",
   "metadata": {},
   "outputs": [],
   "source": [
    "ts = [15*2.7183333333333333e-6, 15*2/3*1e-6, 15*2.7183333333333333e-6, 15*2e-6]\n",
    "ns = [lambda x:n_air, lambda x:n_glass, lambda x:n_poly, lambda x:n_air]\n",
    "mats = ['air','glass', 'polymer','air']\n",
    "maxhs = [10,10,10,10]"
   ]
  },
  {
   "cell_type": "code",
   "execution_count": null,
   "id": "81226ec5",
   "metadata": {},
   "outputs": [],
   "source": [
    "for i, wl in enumerate(wls):\n",
    "    print(5 * ' ' +  + 20 * '-' + '  ' + str(i+1) + '/' + str(n+1) + ': ' +\n",
    "          'wavelength: ' +  str(wls[i]) + '  ' +  20 * '-' +5 * ' '+'\\n')\n",
    "    \n",
    "    A = BraggExact(ts=ts, ns=ns , mats=mats,maxhs=maxhs, wl=wl)\n",
    "    k_low = A.ks[0] * A.scale\n",
    "    guess = np.array(.9999 * k_low)\n",
    "    imag = 0\n",
    "    flag = True\n",
    "    reduce = 0\n",
    "\n",
    "    while flag:\n",
    "        try:\n",
    "            x0 = np.array(guess + imag*1j)\n",
    "            beta = newton(A.determinant, x0, args=(nu, outer), tol = 1e-17)\n",
    "            if beta.real > k_low:\n",
    "                print(\"Captured wrong mode, retrying.\")\n",
    "                raise RuntimeError\n",
    "            elif beta.imag > 0:\n",
    "                print(\"Positive imaginary part, retrying.\")\n",
    "                imag = -beta.imag\n",
    "                guess *= 1/.999995\n",
    "                raise RuntimeError\n",
    "            else:\n",
    "                print(\"Scaled beta: \", beta, \". Residual of determinant: \", \n",
    "                      abs(A.determinant(beta, nu, outer)), '\\n\\n' )\n",
    "                imag = beta.imag\n",
    "                flag=False\n",
    "        except RuntimeError:\n",
    "            guess *= .999995\n",
    "            reduce += 1\n",
    "            print(\"scaling guess: \" + str(reduce), flush=True)\n",
    "    betas1[i] = beta\n",
    "    "
   ]
  },
  {
   "cell_type": "code",
   "execution_count": null,
   "id": "1f62d654",
   "metadata": {},
   "outputs": [],
   "source": [
    "%matplotlib notebook\n",
    "plt.figure(figsize=(8,5))\n",
    "plt.plot(wls, -betas1.imag, color='green', linewidth=.9)\n",
    "plt.yscale('log')\n"
   ]
  },
  {
   "cell_type": "markdown",
   "id": "9fe866f4",
   "metadata": {},
   "source": [
    "# We have double the resonators\n",
    "\n",
    "Makes sense that we might get more spikes: the resonators are interacting.  What about adding loss to polymer?"
   ]
  },
  {
   "cell_type": "markdown",
   "id": "7fa6d1c3",
   "metadata": {},
   "source": [
    "# Light Loss Polymer"
   ]
  },
  {
   "cell_type": "code",
   "execution_count": null,
   "id": "c20b61c2",
   "metadata": {},
   "outputs": [],
   "source": [
    "n = 300\n",
    "wls = np.linspace(1.4e-6, 2e-6, n+1)\n",
    "betas2 = np.zeros_like(wls, dtype=complex)\n",
    "outer = 'h2'\n",
    "nu = 1\n",
    "\n",
    "n_air = 1.00027717\n",
    "n_glass = 1.4388164768221814\n",
    "n_poly = 1.5 - .001j"
   ]
  },
  {
   "cell_type": "code",
   "execution_count": null,
   "id": "c2eebf3a",
   "metadata": {},
   "outputs": [],
   "source": [
    "for i, wl in enumerate(wls):\n",
    "    print(5 * ' ' +  + 20 * '-' + '  ' + str(i+1) + '/' + str(n+1) + ': ' +\n",
    "          'wavelength: ' +  str(wls[i]) + '  ' +  20 * '-' +5 * ' '+'\\n')\n",
    "    \n",
    "    A = BraggExact(ts=ts, ns=ns , mats=mats,maxhs=maxhs, wl=wl)\n",
    "    k_low = A.ks[0] * A.scale\n",
    "    guess = np.array(.9999 * k_low)\n",
    "    imag = 0\n",
    "    flag = True\n",
    "    reduce = 0\n",
    "\n",
    "    while flag:\n",
    "        try:\n",
    "            x0 = np.array(guess + imag*1j)\n",
    "            beta = newton(A.determinant, x0, args=(nu, outer), tol = 1e-17)\n",
    "            if beta.real > k_low:\n",
    "                print(\"Captured wrong mode, retrying.\")\n",
    "                raise RuntimeError\n",
    "            elif beta.imag > 0:\n",
    "                print(\"Positive imaginary part, retrying.\")\n",
    "                imag = -beta.imag\n",
    "                guess *= 1/.999995\n",
    "                raise RuntimeError\n",
    "            else:\n",
    "                print(\"Scaled beta: \", beta, \". Residual of determinant: \", \n",
    "                      abs(A.determinant(beta, nu, outer)), '\\n\\n' )\n",
    "                imag = beta.imag\n",
    "                flag=False\n",
    "        except RuntimeError:\n",
    "            guess *= .999995\n",
    "            reduce += 1\n",
    "            print(\"scaling guess: \" + str(reduce), flush=True)\n",
    "    betas2[i] = beta\n",
    "    "
   ]
  },
  {
   "cell_type": "code",
   "execution_count": null,
   "id": "3769ae42",
   "metadata": {},
   "outputs": [],
   "source": [
    "%matplotlib notebook\n",
    "plt.figure(figsize=(8,5))\n",
    "plt.plot(wls, -betas2.imag, color='green', linewidth=.9)\n",
    "plt.plot(wls, -betas1.imag, color='blue', linewidth=.9)\n",
    "\n",
    "plt.yscale('log')"
   ]
  },
  {
   "cell_type": "markdown",
   "id": "9bd41745",
   "metadata": {},
   "source": [
    "# Medium Loss polymer"
   ]
  },
  {
   "cell_type": "code",
   "execution_count": null,
   "id": "6ce342e6",
   "metadata": {},
   "outputs": [],
   "source": [
    "n = 300\n",
    "wls = np.linspace(1.4e-6, 2e-6, n+1)\n",
    "betas3 = np.zeros_like(wls, dtype=complex)\n",
    "outer = 'h2'\n",
    "nu = 1\n",
    "\n",
    "n_air = 1.00027717\n",
    "n_glass = 1.4388164768221814\n",
    "n_poly = 1.5 - .005j"
   ]
  },
  {
   "cell_type": "code",
   "execution_count": null,
   "id": "09d0558a",
   "metadata": {},
   "outputs": [],
   "source": [
    "for i, wl in enumerate(wls):\n",
    "    print(5 * ' ' +  + 20 * '-' + '  ' + str(i+1) + '/' + str(n+1) + ': ' +\n",
    "          'wavelength: ' +  str(wls[i]) + '  ' +  20 * '-' +5 * ' '+'\\n')\n",
    "    \n",
    "    A = BraggExact(ts=ts, ns=ns , mats=mats,maxhs=maxhs, wl=wl)\n",
    "    k_low = A.ks[0] * A.scale\n",
    "    guess = np.array(.9999 * k_low)\n",
    "    imag = 0\n",
    "    flag = True\n",
    "    reduce = 0\n",
    "\n",
    "    while flag:\n",
    "        try:\n",
    "            x0 = np.array(guess + imag*1j)\n",
    "            beta = newton(A.determinant, x0, args=(nu, outer), tol = 1e-17)\n",
    "            if beta.real > k_low:\n",
    "                print(\"Captured wrong mode, retrying.\")\n",
    "                raise RuntimeError\n",
    "            elif beta.imag > 0:\n",
    "                print(\"Positive imaginary part, retrying.\")\n",
    "                imag = -beta.imag\n",
    "                guess *= 1/.999995\n",
    "                raise RuntimeError\n",
    "            else:\n",
    "                print(\"Scaled beta: \", beta, \". Residual of determinant: \", \n",
    "                      abs(A.determinant(beta, nu, outer)), '\\n\\n' )\n",
    "                imag = beta.imag\n",
    "                flag=False\n",
    "        except RuntimeError:\n",
    "            guess *= .999995\n",
    "            reduce += 1\n",
    "            print(\"scaling guess: \" + str(reduce), flush=True)\n",
    "    betas3[i] = beta\n",
    "    "
   ]
  },
  {
   "cell_type": "code",
   "execution_count": null,
   "id": "f85809b7",
   "metadata": {},
   "outputs": [],
   "source": [
    "%matplotlib notebook\n",
    "plt.figure(figsize=(8,5))\n",
    "plt.plot(wls, -betas2.imag, color='green', linewidth=.9)\n",
    "plt.plot(wls, -betas1.imag, color='blue', linewidth=.9)\n",
    "plt.plot(wls, -betas3.imag, color='red', linewidth=.9)\n",
    "\n",
    "plt.yscale('log')"
   ]
  },
  {
   "cell_type": "markdown",
   "id": "d8701a66",
   "metadata": {},
   "source": [
    "# High Loss Polymer"
   ]
  },
  {
   "cell_type": "code",
   "execution_count": null,
   "id": "ae360a57",
   "metadata": {},
   "outputs": [],
   "source": [
    "n = 300\n",
    "wls = np.linspace(1.4e-6, 2e-6, n+1)\n",
    "betas4 = np.zeros_like(wls, dtype=complex)\n",
    "outer = 'h2'\n",
    "nu = 1\n",
    "\n",
    "n_air = 1.00027717\n",
    "n_glass = 1.4388164768221814\n",
    "n_poly = 1.5 - .01j"
   ]
  },
  {
   "cell_type": "code",
   "execution_count": null,
   "id": "e903b745",
   "metadata": {},
   "outputs": [],
   "source": [
    "for i, wl in enumerate(wls):\n",
    "    print(5 * ' ' +  + 20 * '-' + '  ' + str(i+1) + '/' + str(n+1) + ': ' +\n",
    "          'wavelength: ' +  str(wls[i]) + '  ' +  20 * '-' +5 * ' '+'\\n')\n",
    "    \n",
    "    A = BraggExact(ts=ts, ns=ns , mats=mats,maxhs=maxhs, wl=wl)\n",
    "    k_low = A.ks[0] * A.scale\n",
    "    guess = np.array(.9999 * k_low)\n",
    "    imag = 0\n",
    "    flag = True\n",
    "    reduce = 0\n",
    "\n",
    "    while flag:\n",
    "        try:\n",
    "            x0 = np.array(guess + imag*1j)\n",
    "            beta = newton(A.determinant, x0, args=(nu, outer), tol = 1e-17)\n",
    "            if beta.real > k_low:\n",
    "                print(\"Captured wrong mode, retrying.\")\n",
    "                raise RuntimeError\n",
    "            elif beta.imag > 0:\n",
    "                print(\"Positive imaginary part, retrying.\")\n",
    "                imag = -beta.imag\n",
    "                guess *= 1/.999995\n",
    "                raise RuntimeError\n",
    "            else:\n",
    "                print(\"Scaled beta: \", beta, \". Residual of determinant: \", \n",
    "                      abs(A.determinant(beta, nu, outer)), '\\n\\n' )\n",
    "                imag = beta.imag\n",
    "                flag=False\n",
    "        except RuntimeError:\n",
    "            guess *= .999995\n",
    "            reduce += 1\n",
    "            print(\"scaling guess: \" + str(reduce), flush=True)\n",
    "    betas4[i] = beta\n",
    "    "
   ]
  },
  {
   "cell_type": "code",
   "execution_count": null,
   "id": "09a74667",
   "metadata": {},
   "outputs": [],
   "source": [
    "%matplotlib notebook\n",
    "plt.figure(figsize=(8,5))\n",
    "plt.plot(wls, -betas2.imag, color='green', linewidth=.9)\n",
    "plt.plot(wls, -betas1.imag, color='blue', linewidth=.9)\n",
    "plt.plot(wls, -betas3.imag, color='red', linewidth=.9)\n",
    "plt.plot(wls, -betas4.imag, color='orange', linewidth=.9)\n",
    "\n",
    "plt.yscale('log')"
   ]
  },
  {
   "cell_type": "markdown",
   "id": "c9efbb3f",
   "metadata": {},
   "source": [
    "# Comparison Graph"
   ]
  },
  {
   "cell_type": "code",
   "execution_count": null,
   "id": "86b9cbbb",
   "metadata": {},
   "outputs": [],
   "source": [
    "plt.figure(figsize=(10,7))\n",
    "plt.plot(wls, -betas1.imag, label='no loss', linewidth=.9)\n",
    "plt.plot(wls, -betas2.imag, label='low loss', linewidth=.9)\n",
    "plt.plot(wls, -betas3.imag, label='medium loss', linewidth=.9)\n",
    "plt.plot(wls, -betas4.imag, label='high loss', linewidth=.9)\n",
    "plt.legend()\n",
    "plt.title(\"Spectral Loss Comparison for Lossy Polymer\\n\")\n",
    "plt.yscale('log')"
   ]
  },
  {
   "cell_type": "code",
   "execution_count": null,
   "id": "91fbe21f",
   "metadata": {},
   "outputs": [],
   "source": []
  }
 ],
 "metadata": {
  "kernelspec": {
   "display_name": "Python 3 (ipykernel)",
   "language": "python",
   "name": "python3"
  },
  "language_info": {
   "codemirror_mode": {
    "name": "ipython",
    "version": 3
   },
   "file_extension": ".py",
   "mimetype": "text/x-python",
   "name": "python",
   "nbconvert_exporter": "python",
   "pygments_lexer": "ipython3",
   "version": "3.8.10"
  }
 },
 "nbformat": 4,
 "nbformat_minor": 5
}
