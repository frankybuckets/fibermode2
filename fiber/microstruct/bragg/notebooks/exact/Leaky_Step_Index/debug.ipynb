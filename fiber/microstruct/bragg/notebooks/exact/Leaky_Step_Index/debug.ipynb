{
 "cells": [
  {
   "cell_type": "markdown",
   "id": "51558d66",
   "metadata": {},
   "source": [
    "# Issue with Branch cut in Bragg exact\n",
    "\n",
    "For what should be the guided mode region, we have a branch cut at the real line currently.  StepExact doesn't have it, and it's derived from Marcuse (Light Transmission Optics).  Here we try to figure out why this is happening."
   ]
  },
  {
   "cell_type": "markdown",
   "id": "535b6764",
   "metadata": {},
   "source": [
    "### Hand implement Marcuse Matrix\n",
    "\n",
    "Marcuse simplifies the determinant.  Maybe the issue is in taking determinant from the matrix directly."
   ]
  },
  {
   "cell_type": "code",
   "execution_count": null,
   "id": "952db118",
   "metadata": {},
   "outputs": [],
   "source": [
    "import numpy as np\n",
    "from scipy.special import jv, jvp, h1vp, hankel1\n",
    "from step_exact import plotlogf\n",
    "from fiberamp.fiber.microstruct.bragg import BraggExact"
   ]
  },
  {
   "cell_type": "markdown",
   "id": "58426a74",
   "metadata": {},
   "source": [
    "We have an implementation to give us relevant parameter values from the Nufern fiber, so we'll use it"
   ]
  },
  {
   "cell_type": "code",
   "execution_count": null,
   "id": "2d572bfd",
   "metadata": {},
   "outputs": [],
   "source": [
    "n_core = 1.450971\n",
    "n_clad = 1.4497299206545333\n",
    "\n",
    "A = BraggExact(ts=[1.25e-5, 2e-5], mats=['core', 'clad'], \n",
    "               ns=[lambda x:n_core, lambda x: n_clad],\n",
    "               maxhs=[.1,.1], wl=1.064e-6, scale=1.25e-5)\n"
   ]
  },
  {
   "cell_type": "code",
   "execution_count": null,
   "id": "645e1a00",
   "metadata": {},
   "outputs": [],
   "source": [
    "k_low = A.k0 * A.ns[1] * A.scale\n",
    "k_high = A.k0 * A.ns[0] * A.scale\n",
    "outer = 'h2'\n",
    "nu = 1\n",
    "k_low, k_high"
   ]
  },
  {
   "cell_type": "code",
   "execution_count": null,
   "id": "3fa3e11f",
   "metadata": {},
   "outputs": [],
   "source": [
    "%matplotlib inline\n",
    "plotlogf(A.determinant, k_low-.1, k_high+.01, -.03, .03, nu, outer,\n",
    "         iref=100, rref=100, levels=100, figsize=(10,7))"
   ]
  },
  {
   "cell_type": "markdown",
   "id": "307f0b03",
   "metadata": {},
   "source": [
    "The branch cut looks like this:  (hopefully it won't soon)"
   ]
  },
  {
   "cell_type": "code",
   "execution_count": null,
   "id": "055092ad",
   "metadata": {},
   "outputs": [],
   "source": [
    "from IPython.display import Image\n",
    "Image(\"branchcut.jpg\")"
   ]
  },
  {
   "cell_type": "markdown",
   "id": "9a5bcad4",
   "metadata": {},
   "source": [
    "Issue appears to have been with definition of Kappa: Kappa^2 = k_i^2 - beta^2.  Marcuse uses i * Gamma where Gamma^2 = beta^2 - k_i^2.  When using the previous definition in the outer region with guided modes we get the branch cut.  When using Marcuse's Gamma the branch cut goes away.  Changed implementation of BraggExact to use Marcuse's Gamma when finding guided modes.  When finding leaky modes (H2 in outer region), we appear to have a branch cut "
   ]
  }
 ],
 "metadata": {
  "kernelspec": {
   "display_name": "Python 3 (ipykernel)",
   "language": "python",
   "name": "python3"
  },
  "language_info": {
   "codemirror_mode": {
    "name": "ipython",
    "version": 3
   },
   "file_extension": ".py",
   "mimetype": "text/x-python",
   "name": "python",
   "nbconvert_exporter": "python",
   "pygments_lexer": "ipython3",
   "version": "3.8.10"
  }
 },
 "nbformat": 4,
 "nbformat_minor": 5
}
