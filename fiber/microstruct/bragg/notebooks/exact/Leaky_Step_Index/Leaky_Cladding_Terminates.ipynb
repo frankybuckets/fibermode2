{
 "cells": [
  {
   "cell_type": "markdown",
   "id": "720129b6",
   "metadata": {},
   "source": [
    "\n",
    "# Leaky modes for Solid Core Step index fiber with Cladding that terminates \n",
    "\n",
    "In Marcuse's second (later) book, he mentions effects of terminating cladding are minimal.  Here we investigate."
   ]
  },
  {
   "cell_type": "code",
   "execution_count": null,
   "id": "664ce3d7",
   "metadata": {},
   "outputs": [],
   "source": [
    "import numpy as np\n",
    "\n",
    "from fiberamp.fiber.microstruct.bragg import BraggExact\n",
    "from step_exact import plotlogf, plotlogf_real\n",
    "from ngsolve.webgui import Draw\n",
    "from ngsolve import CF\n",
    "from scipy.optimize import newton\n"
   ]
  },
  {
   "cell_type": "code",
   "execution_count": null,
   "id": "1829005b",
   "metadata": {},
   "outputs": [],
   "source": [
    "n_core = 1.6\n",
    "n_clad = 1.5\n",
    "n_air = 1"
   ]
  },
  {
   "cell_type": "code",
   "execution_count": null,
   "id": "e74065e7",
   "metadata": {},
   "outputs": [],
   "source": [
    "A = BraggExact(ts=[1e-6,2e-6, 2e-6], mats=['core', 'clad', 'air'], \n",
    "               ns=[lambda x:n_core, lambda x: n_clad, lambda x:n_air],\n",
    "              maxhs=[.1,.05, .1], wl=1.8e-6, scale=1e-6)\n"
   ]
  },
  {
   "cell_type": "code",
   "execution_count": null,
   "id": "9e68f5cc",
   "metadata": {},
   "outputs": [],
   "source": [
    "Draw(CF([n for n in A.ns]), A.mesh)"
   ]
  },
  {
   "cell_type": "markdown",
   "id": "a1811ae3",
   "metadata": {},
   "source": [
    "# Now we set up to look for leaky modes"
   ]
  },
  {
   "cell_type": "code",
   "execution_count": null,
   "id": "7017a529",
   "metadata": {},
   "outputs": [],
   "source": [
    "k_low = A.k0 * A.ns[2] * A.scale\n",
    "k_mid = A.k0 * A.ns[1] * A.scale\n",
    "k_high = A.k0 * A.ns[0] * A.scale\n",
    "outer = 'h2'\n",
    "nu = 1"
   ]
  },
  {
   "cell_type": "code",
   "execution_count": null,
   "id": "7ac1de67",
   "metadata": {},
   "outputs": [],
   "source": [
    "%matplotlib inline\n",
    "plotlogf(A.determinant, -.1, k_low + .1, -1, 1, nu, outer,\n",
    "         iref=125, rref=125, levels=125)"
   ]
  },
  {
   "cell_type": "code",
   "execution_count": null,
   "id": "9d62d7bd",
   "metadata": {},
   "outputs": [],
   "source": [
    "%matplotlib inline\n",
    "plotlogf(A.determinant, k_low-.0001, k_mid+.0001, -.3,.3, nu, outer,\n",
    "         iref=125, rref=125, levels=125)"
   ]
  },
  {
   "cell_type": "code",
   "execution_count": null,
   "id": "3f8bc350",
   "metadata": {},
   "outputs": [],
   "source": [
    "%matplotlib inline\n",
    "plotlogf(A.determinant, k_mid-.001, k_high+.001, -.2,.2, nu, outer,\n",
    "         iref=125, rref=125, levels=125)"
   ]
  },
  {
   "cell_type": "code",
   "execution_count": null,
   "id": "4365d5ed",
   "metadata": {},
   "outputs": [],
   "source": [
    "guess = np.array(5.37)\n",
    "\n",
    "beta1 = newton(A.determinant, guess, args=(nu, outer), tol = 1e-10)\n",
    "\n",
    "print(\"Scaled beta: \", beta1, \". Residual of determinant: \", abs(A.determinant(beta1, nu, outer)))\n"
   ]
  },
  {
   "cell_type": "markdown",
   "id": "f680dd27",
   "metadata": {},
   "source": [
    "# Bragg Exact Fields"
   ]
  },
  {
   "cell_type": "code",
   "execution_count": null,
   "id": "c26cf71a",
   "metadata": {},
   "outputs": [],
   "source": [
    "Fs = A.all_fields(beta1, nu, outer)"
   ]
  },
  {
   "cell_type": "code",
   "execution_count": null,
   "id": "0016122a",
   "metadata": {},
   "outputs": [],
   "source": [
    "Draw(Fs['Ez'], A.mesh)"
   ]
  },
  {
   "cell_type": "code",
   "execution_count": null,
   "id": "92d5cd30",
   "metadata": {},
   "outputs": [],
   "source": [
    "Draw(Fs['Etv'].real, A.mesh, vectors={'grid_size':100})\n"
   ]
  },
  {
   "cell_type": "markdown",
   "id": "0d0d4ed4",
   "metadata": {},
   "source": [
    "# Now look at same without termination of cladding"
   ]
  },
  {
   "cell_type": "code",
   "execution_count": null,
   "id": "b9e1538f",
   "metadata": {},
   "outputs": [],
   "source": [
    "A = BraggExact(ts=[1e-6,2e-6], mats=['core', 'clad'], \n",
    "               ns=[lambda x:n_core, lambda x: n_clad],\n",
    "              maxhs=[.1,.05], wl=1.8e-6, scale=1e-6)\n"
   ]
  },
  {
   "cell_type": "code",
   "execution_count": null,
   "id": "93ab9293",
   "metadata": {},
   "outputs": [],
   "source": [
    "Draw(CF([n for n in A.ns]), A.mesh)"
   ]
  },
  {
   "cell_type": "markdown",
   "id": "c9d2d4aa",
   "metadata": {},
   "source": [
    "# Now we set up to look for leaky modes"
   ]
  },
  {
   "cell_type": "code",
   "execution_count": null,
   "id": "a7acf40d",
   "metadata": {},
   "outputs": [],
   "source": [
    "k_low = A.k0 * A.ns[1] * A.scale\n",
    "k_high = A.k0 * A.ns[0] * A.scale\n",
    "outer = 'h2'\n",
    "nu = 3"
   ]
  },
  {
   "cell_type": "code",
   "execution_count": null,
   "id": "d86c0549",
   "metadata": {},
   "outputs": [],
   "source": [
    "%matplotlib inline\n",
    "plotlogf(A.determinant, .6*k_low, 1.001*k_low, -2.2,.6, nu, outer,\n",
    "         iref=125, rref=125, levels=125)"
   ]
  },
  {
   "cell_type": "code",
   "execution_count": null,
   "id": "b899440f",
   "metadata": {},
   "outputs": [],
   "source": [
    "guess = np.array(3.24)\n",
    "\n",
    "beta1 = newton(A.determinant, guess, args=(nu, outer), tol = 1e-10)\n",
    "\n",
    "print(\"Scaled beta: \", beta1, \". Residual of determinant: \", abs(A.determinant(beta1, nu, outer)))\n"
   ]
  },
  {
   "cell_type": "markdown",
   "id": "421eccfc",
   "metadata": {},
   "source": [
    "# Bragg Exact Fields"
   ]
  },
  {
   "cell_type": "code",
   "execution_count": null,
   "id": "aa1938be",
   "metadata": {},
   "outputs": [],
   "source": [
    "Fs = A.all_fields(beta1, nu, outer)"
   ]
  },
  {
   "cell_type": "code",
   "execution_count": null,
   "id": "938c9546",
   "metadata": {},
   "outputs": [],
   "source": [
    "Draw(Fs['Ez'], A.mesh)"
   ]
  },
  {
   "cell_type": "code",
   "execution_count": null,
   "id": "c0a0d5e8",
   "metadata": {},
   "outputs": [],
   "source": [
    "Draw(Fs['Etv'].real, A.mesh, vectors={'grid_size':100})\n"
   ]
  },
  {
   "cell_type": "code",
   "execution_count": null,
   "id": "30d5057a",
   "metadata": {},
   "outputs": [],
   "source": []
  }
 ],
 "metadata": {
  "kernelspec": {
   "display_name": "Python 3 (ipykernel)",
   "language": "python",
   "name": "python3"
  },
  "language_info": {
   "codemirror_mode": {
    "name": "ipython",
    "version": 3
   },
   "file_extension": ".py",
   "mimetype": "text/x-python",
   "name": "python",
   "nbconvert_exporter": "python",
   "pygments_lexer": "ipython3",
   "version": "3.8.10"
  }
 },
 "nbformat": 4,
 "nbformat_minor": 5
}
