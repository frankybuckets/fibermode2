{
 "cells": [
  {
   "cell_type": "markdown",
   "id": "720129b6",
   "metadata": {},
   "source": [
    "# Wavelength Loss Peaks with Sellmeier\n",
    "\n",
    "When we want the loss peaks for wavelength dependent refractive indices we need to solve\n",
    "\n",
    "$$\\lambda = \\frac{2n_1(\\lambda) d}{m} \\Big[\\big(\\frac{n_2(\\lambda)}{n_1(\\lambda)}\\big)-1\\big]^{1/2}$$"
   ]
  },
  {
   "cell_type": "code",
   "execution_count": null,
   "id": "664ce3d7",
   "metadata": {},
   "outputs": [],
   "source": [
    "import numpy as np\n",
    "import matplotlib.pyplot as plt\n",
    "from fiberamp.fiber.microstruct.bragg import BraggExact\n",
    "from scipy.optimize import fsolve"
   ]
  },
  {
   "cell_type": "code",
   "execution_count": null,
   "id": "c8c49cae",
   "metadata": {},
   "outputs": [],
   "source": [
    "def rhs(wl, n1, n2, d, m=1):\n",
    "    return (2 * n1(wl) * d / m * ((n2(wl)/n1(wl))**2 - 1)**.5) "
   ]
  },
  {
   "cell_type": "code",
   "execution_count": null,
   "id": "cdc62ec9",
   "metadata": {},
   "outputs": [],
   "source": [
    "A = BraggExact()\n"
   ]
  },
  {
   "cell_type": "code",
   "execution_count": null,
   "id": "9d3ebe54",
   "metadata": {},
   "outputs": [],
   "source": [
    "n1, n2 = A.n_funcs[:2]\n",
    "n = 300\n",
    "wls = np.linspace(1.4, 2, n+1)*1e-6\n",
    "\n",
    "ms = np.arange(11,15,1)\n",
    "\n",
    "d = 15*2/3*1e-6\n"
   ]
  },
  {
   "cell_type": "code",
   "execution_count": null,
   "id": "e197c4cd",
   "metadata": {},
   "outputs": [],
   "source": [
    "ys = rhs(wls,n1,n2,d, m=12)"
   ]
  },
  {
   "cell_type": "code",
   "execution_count": null,
   "id": "44ba6c28",
   "metadata": {},
   "outputs": [],
   "source": [
    "%matplotlib notebook\n",
    "plt.plot(wls, ys)\n",
    "plt.plot(wls, wls)"
   ]
  },
  {
   "cell_type": "code",
   "execution_count": null,
   "id": "e0cde59e",
   "metadata": {},
   "outputs": [],
   "source": [
    "def F(wls, n1, n2, d, m):\n",
    "    return rhs(wls, n1, n2, d, m) - wls"
   ]
  },
  {
   "cell_type": "code",
   "execution_count": null,
   "id": "20b8f7f8",
   "metadata": {},
   "outputs": [],
   "source": [
    "ls = []\n",
    "for m in ms:\n",
    "    ls.append(fsolve(F,(wls[0]+wls[-1])/2, args=(n1, n2, d, m))[0])"
   ]
  },
  {
   "cell_type": "code",
   "execution_count": null,
   "id": "1f62d654",
   "metadata": {},
   "outputs": [],
   "source": [
    "%matplotlib notebook\n",
    "plt.figure(figsize=(8,5))\n",
    "for l in ls:\n",
    "    plt.plot([l,l], [0, .0001],  linewidth=1, linestyle=':')"
   ]
  },
  {
   "cell_type": "code",
   "execution_count": null,
   "id": "29515b57",
   "metadata": {},
   "outputs": [],
   "source": [
    "np.save( 'ls_sell', np.array(ls))\n"
   ]
  },
  {
   "cell_type": "code",
   "execution_count": null,
   "id": "8201aba6",
   "metadata": {},
   "outputs": [],
   "source": []
  }
 ],
 "metadata": {
  "kernelspec": {
   "display_name": "Python 3 (ipykernel)",
   "language": "python",
   "name": "python3"
  },
  "language_info": {
   "codemirror_mode": {
    "name": "ipython",
    "version": 3
   },
   "file_extension": ".py",
   "mimetype": "text/x-python",
   "name": "python",
   "nbconvert_exporter": "python",
   "pygments_lexer": "ipython3",
   "version": "3.8.10"
  }
 },
 "nbformat": 4,
 "nbformat_minor": 5
}
