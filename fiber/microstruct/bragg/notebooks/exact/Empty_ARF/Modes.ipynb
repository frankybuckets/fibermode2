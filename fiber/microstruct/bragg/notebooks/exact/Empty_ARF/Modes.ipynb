{
 "cells": [
  {
   "cell_type": "markdown",
   "id": "720129b6",
   "metadata": {},
   "source": [
    "\n",
    "# Empty ARF Fiber\n",
    "\n",
    "What does the wavelength sensitivity look like for the ARF fiber without microstructures.  Here we look at the modes."
   ]
  },
  {
   "cell_type": "code",
   "execution_count": null,
   "id": "664ce3d7",
   "metadata": {},
   "outputs": [],
   "source": [
    "import numpy as np\n",
    "\n",
    "from fiberamp.fiber.microstruct.bragg import BraggExact\n",
    "from step_exact import plotlogf\n",
    "from ngsolve.webgui import Draw\n",
    "from ngsolve import CF\n",
    "from scipy.optimize import newton\n",
    "from fiberamp.fiber.microstruct.pbg import ARF2\n",
    "import matplotlib.pyplot as plt\n"
   ]
  },
  {
   "cell_type": "code",
   "execution_count": null,
   "id": "0592bda0",
   "metadata": {},
   "outputs": [],
   "source": [
    "B = ARF2(name='fine_cladding', poly_core=True, refine=0,\n",
    "         curve=8, shift_capillaries=False)\n",
    "\n",
    "d = (B.T_cladding )* B.scale\n",
    "\n",
    "n1, n2 = 1.00027717, 1.4388164768221814\n",
    "lines = [2 * n1 * d / m * ((n2/n1)**2 - 1)**.5 for m in range(11, 21)]\n",
    "\n",
    "# for l in lines:\n",
    "#     plt.plot([l,l],[-1,1])"
   ]
  },
  {
   "cell_type": "code",
   "execution_count": null,
   "id": "1a8402ce",
   "metadata": {},
   "outputs": [],
   "source": [
    "t0 = B.R_cladding * B.scale\n",
    "t1 = B.T_cladding * B.scale\n",
    "n_air = 1.00027717\n",
    "n_glass = 1.4388164768221814\n"
   ]
  },
  {
   "cell_type": "code",
   "execution_count": null,
   "id": "848c4fb8",
   "metadata": {},
   "outputs": [],
   "source": [
    "t0, t1"
   ]
  },
  {
   "cell_type": "code",
   "execution_count": null,
   "id": "e74065e7",
   "metadata": {},
   "outputs": [],
   "source": [
    "A = BraggExact(ts=[t0, t1, .5*t0], mats=['air', 'glass', 'air'], \n",
    "               ns=[lambda x:n_air, lambda x:n_glass, lambda x:n_air],\n",
    "              maxhs=[.2,.02, .2], wl=1.8e-6, scale=B.scale)"
   ]
  },
  {
   "cell_type": "code",
   "execution_count": null,
   "id": "9e68f5cc",
   "metadata": {},
   "outputs": [],
   "source": [
    "Draw(CF([n for n in A.ns]), A.mesh)"
   ]
  },
  {
   "cell_type": "code",
   "execution_count": null,
   "id": "7017a529",
   "metadata": {},
   "outputs": [],
   "source": [
    "# k_low = A.k0 * A.ns[0] * A.scale\n",
    "k_low, k_high = A.k0 * np.min(A.ns) * A.scale, A.k0 * np.max(A.ns) * A.scale\n",
    "\n",
    "outer = 'h2'\n",
    "Ktype = 'kappa'\n",
    "nu = 1"
   ]
  },
  {
   "cell_type": "code",
   "execution_count": null,
   "id": "89a4148f",
   "metadata": {},
   "outputs": [],
   "source": [
    "%matplotlib inline\n",
    "plotlogf(A.determinant, k_low-.1, k_high+.1, -.1,.1, nu, outer,\n",
    "         iref=100, rref=100, levels=100)"
   ]
  },
  {
   "cell_type": "code",
   "execution_count": null,
   "id": "7ac1de67",
   "metadata": {},
   "outputs": [],
   "source": [
    "%matplotlib notebook\n",
    "plotlogf(A.determinant, .999*k_low, 1.0001*k_low, -.01,.01, nu, outer,\n",
    "         iref=100, rref=100, levels=100, figsize=(12,8))"
   ]
  },
  {
   "cell_type": "code",
   "execution_count": null,
   "id": "f5d0ebf1",
   "metadata": {},
   "outputs": [],
   "source": [
    "guess = np.array(.9999*k_low)\n",
    "\n",
    "beta1 = newton(A.determinant, guess, args=(nu, outer, Ktype), tol = 1e-16)\n",
    "\n",
    "print(\"Scaled beta: \", beta1, \". Residual of determinant: \", abs(A.determinant(beta1, nu, outer, Ktype)))\n"
   ]
  },
  {
   "cell_type": "markdown",
   "id": "f680dd27",
   "metadata": {},
   "source": [
    "# Bragg Exact Fields"
   ]
  },
  {
   "cell_type": "code",
   "execution_count": null,
   "id": "c26cf71a",
   "metadata": {},
   "outputs": [],
   "source": [
    "Fs = A.all_fields(beta1, nu=nu, outer=outer, Ktype=Ktype)"
   ]
  },
  {
   "cell_type": "code",
   "execution_count": null,
   "id": "0016122a",
   "metadata": {},
   "outputs": [],
   "source": [
    "Draw(Fs['Ez'], A.mesh)"
   ]
  },
  {
   "cell_type": "code",
   "execution_count": null,
   "id": "fc94138a",
   "metadata": {},
   "outputs": [],
   "source": [
    "Draw(Fs['Hz'], A.mesh)"
   ]
  },
  {
   "cell_type": "code",
   "execution_count": null,
   "id": "92d5cd30",
   "metadata": {},
   "outputs": [],
   "source": [
    "Draw(Fs['Etv'].real, A.mesh, vectors={'grid_size':150})\n"
   ]
  },
  {
   "cell_type": "code",
   "execution_count": null,
   "id": "5813b782",
   "metadata": {},
   "outputs": [],
   "source": [
    "Draw(Fs['Ephi'], A.mesh)"
   ]
  },
  {
   "cell_type": "code",
   "execution_count": null,
   "id": "1f15b4b5",
   "metadata": {},
   "outputs": [],
   "source": [
    "Draw(Fs['Hphi'], A.mesh)"
   ]
  },
  {
   "cell_type": "markdown",
   "id": "bde05268",
   "metadata": {},
   "source": [
    "# Add Polymer layers"
   ]
  },
  {
   "cell_type": "code",
   "execution_count": null,
   "id": "3ad7d620",
   "metadata": {},
   "outputs": [],
   "source": [
    "k = 1e-3\n",
    "n_soft = 1.35 - k * 1j\n",
    "n_hard = 1.45 - k * 1j\n"
   ]
  },
  {
   "cell_type": "code",
   "execution_count": null,
   "id": "84a4256e",
   "metadata": {},
   "outputs": [],
   "source": [
    "A = BraggExact(ts=[t0, t1, 30*t0, 30*t0, 5*t0], mats=['air', 'glass', 'soft', 'hard', 'air'], \n",
    "               ns=[lambda x:n_air, lambda x:n_glass, lambda x:n_soft, lambda x:n_hard,lambda x:n_air],\n",
    "              maxhs=[2, .02, 2, .1, 2], wl=1.8e-6, scale=B.scale, curve=80)"
   ]
  },
  {
   "cell_type": "code",
   "execution_count": null,
   "id": "4b48f480",
   "metadata": {},
   "outputs": [],
   "source": [
    "Draw(CF([n for n in A.ns]), A.mesh)"
   ]
  },
  {
   "cell_type": "code",
   "execution_count": null,
   "id": "8dbb6f16",
   "metadata": {},
   "outputs": [],
   "source": [
    "k_low, k_high = A.k0 * np.min(A.ns) * A.scale, A.k0 * np.max(A.ns) * A.scale\n",
    "\n",
    "outer = 'h2'\n",
    "Ktype = 'kappa'\n",
    "nu = 1"
   ]
  },
  {
   "cell_type": "code",
   "execution_count": null,
   "id": "98fca89c",
   "metadata": {},
   "outputs": [],
   "source": [
    "%matplotlib notebook\n",
    "plotlogf(A.determinant, .9995*k_low, 1.00001*k_low, -.01,.01, nu, outer,\n",
    "         iref=100, rref=100, levels=100, figsize=(12,8))"
   ]
  },
  {
   "cell_type": "code",
   "execution_count": null,
   "id": "620de4e4",
   "metadata": {},
   "outputs": [],
   "source": [
    "guess = np.array(.9999*k_low)\n",
    "\n",
    "beta1 = newton(A.determinant, guess, args=(nu, outer, Ktype), tol = 1e-16)\n",
    "\n",
    "print(\"Scaled beta: \", beta1, \". Residual of determinant: \", abs(A.determinant(beta1, nu, outer, Ktype)))\n"
   ]
  },
  {
   "cell_type": "markdown",
   "id": "7e7f31db",
   "metadata": {},
   "source": [
    "# Bragg Exact Fields"
   ]
  },
  {
   "cell_type": "code",
   "execution_count": null,
   "id": "aa7c98ea",
   "metadata": {},
   "outputs": [],
   "source": [
    "Fs = A.all_fields(beta1, nu=nu, outer=outer, Ktype=Ktype)"
   ]
  },
  {
   "cell_type": "code",
   "execution_count": null,
   "id": "ba8bb43c",
   "metadata": {},
   "outputs": [],
   "source": [
    "Draw(Fs['Ez'], A.mesh)"
   ]
  },
  {
   "cell_type": "code",
   "execution_count": null,
   "id": "98652c05",
   "metadata": {},
   "outputs": [],
   "source": [
    "Draw(Fs['Hz'], A.mesh)"
   ]
  },
  {
   "cell_type": "code",
   "execution_count": null,
   "id": "5117b8ec",
   "metadata": {},
   "outputs": [],
   "source": [
    "Draw(Fs['Etv'].real, A.mesh, vectors={'grid_size':1500})\n"
   ]
  },
  {
   "cell_type": "markdown",
   "id": "f0d94076",
   "metadata": {},
   "source": [
    "# Looks possible to do wavelength loss study here for varying extinction coefficients in the polymer.\n",
    "\n",
    "Hopefully not all the effect disappears at realistic values"
   ]
  }
 ],
 "metadata": {
  "kernelspec": {
   "display_name": "Python 3 (ipykernel)",
   "language": "python",
   "name": "python3"
  },
  "language_info": {
   "codemirror_mode": {
    "name": "ipython",
    "version": 3
   },
   "file_extension": ".py",
   "mimetype": "text/x-python",
   "name": "python",
   "nbconvert_exporter": "python",
   "pygments_lexer": "ipython3",
   "version": "3.8.10"
  }
 },
 "nbformat": 4,
 "nbformat_minor": 5
}
