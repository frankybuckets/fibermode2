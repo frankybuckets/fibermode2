{
 "cells": [
  {
   "cell_type": "markdown",
   "id": "720129b6",
   "metadata": {},
   "source": [
    "\n",
    "# Empty ARF Fiber Wavelength Study\n",
    "\n",
    "What does the wavelength sensitivity look like for the ARF fiber without microstructures?  Here we do this study for the fiber with a polymer coating with varying levels of material loss."
   ]
  },
  {
   "cell_type": "code",
   "execution_count": null,
   "id": "664ce3d7",
   "metadata": {},
   "outputs": [],
   "source": [
    "import numpy as np\n",
    "\n",
    "from fiberamp.fiber.microstruct.bragg import BraggExact\n",
    "from step_exact import plotlogf\n",
    "from ngsolve.webgui import Draw\n",
    "from ngsolve import CF\n",
    "from scipy.optimize import newton\n",
    "from fiberamp.fiber.microstruct.pbg import ARF2\n",
    "import matplotlib.pyplot as plt\n"
   ]
  },
  {
   "cell_type": "code",
   "execution_count": null,
   "id": "0592bda0",
   "metadata": {},
   "outputs": [],
   "source": [
    "B = ARF2(name='fine_cladding', poly_core=True, refine=0,\n",
    "         curve=8, shift_capillaries=False)\n",
    "\n",
    "d = (B.T_cladding )* B.scale\n",
    "\n",
    "n1, n2 = 1.00027717, 1.4388164768221814\n",
    "lines = [2 * n1 * d / m * ((n2/n1)**2 - 1)**.5 for m in range(11, 21)]\n",
    "\n",
    "# for l in lines:\n",
    "#     plt.plot([l,l],[-1,1])"
   ]
  },
  {
   "cell_type": "code",
   "execution_count": null,
   "id": "1a8402ce",
   "metadata": {},
   "outputs": [],
   "source": [
    "t0 = B.R_cladding * B.scale\n",
    "t1 = B.T_cladding * B.scale\n",
    "n_air = 1.00027717\n",
    "n_glass = 1.4388164768221814\n",
    "\n",
    "k = 0\n",
    "# n_soft = 1.35 - k * 1j\n",
    "n_poly = 1.45 - k * 1j\n",
    "\n",
    "ts = [t0, t1, 60*t0, 5*t0]\n",
    "ns = [lambda x:n_air, lambda x:n_glass, lambda x:n_poly,lambda x:n_air]\n",
    "mats = ['air', 'glass','poly', 'air']\n",
    "maxhs = [2, .02, 1, 2]"
   ]
  },
  {
   "cell_type": "markdown",
   "id": "d358a48f",
   "metadata": {},
   "source": [
    "# Initialize"
   ]
  },
  {
   "cell_type": "code",
   "execution_count": null,
   "id": "30f4dd59",
   "metadata": {},
   "outputs": [],
   "source": [
    "n = 300\n",
    "wls = np.linspace(1.4e-6, 1.405e-6, n+1)\n",
    "betas1 = np.zeros_like(wls, dtype=complex)\n",
    "outer = 'h2'\n",
    "nu = 1"
   ]
  },
  {
   "cell_type": "code",
   "execution_count": null,
   "id": "81226ec5",
   "metadata": {},
   "outputs": [],
   "source": [
    "for i, wl in enumerate(wls):\n",
    "    print(5 * ' ' +  + 20 * '-' + '  ' + str(i+1) + '/' + str(len(wls)) + ': ' +\n",
    "          'wavelength: ' +  str(wls[i]) + '  ' +  20 * '-' +5 * ' '+'\\n')\n",
    "    \n",
    "    A = BraggExact(ts=ts, ns=ns , mats=mats,maxhs=maxhs, wl=wl, no_mesh=True)\n",
    "    k_low = A.ks[0] * A.scale\n",
    "    guess = np.array(.99992 * k_low)\n",
    "    imag = 0\n",
    "    flag = True\n",
    "    reduce = 0\n",
    "\n",
    "    while flag:\n",
    "        try:\n",
    "            x0 = np.array(guess + imag*1j)\n",
    "            beta = newton(A.determinant, x0, args=(nu, outer), tol = 1e-17)\n",
    "            if beta.real > k_low:\n",
    "                print(\"Captured wrong mode, retrying.\")\n",
    "                raise RuntimeError\n",
    "            elif beta.imag > 0:\n",
    "                print(\"Positive imaginary part, retrying.\")\n",
    "                imag = -beta.imag\n",
    "                guess *= 1/.999995\n",
    "                raise RuntimeError\n",
    "            else:\n",
    "                print(\"Scaled beta: \", beta, \". Residual of determinant: \", \n",
    "                      abs(A.determinant(beta, nu, outer)), '\\n\\n' )\n",
    "                imag = beta.imag\n",
    "                flag=False\n",
    "        except RuntimeError:\n",
    "            guess *= .999995\n",
    "            reduce += 1\n",
    "            print(\"scaling guess: \" + str(reduce), flush=True)\n",
    "    betas1[i] = beta\n",
    "    "
   ]
  },
  {
   "cell_type": "code",
   "execution_count": null,
   "id": "1f62d654",
   "metadata": {},
   "outputs": [],
   "source": [
    "%matplotlib notebook\n",
    "plt.figure(figsize=(12,7))\n",
    "plt.plot(wls, -betas1.imag, color='green', marker='+',linewidth=.9)\n",
    "plt.yscale('log')\n"
   ]
  },
  {
   "cell_type": "markdown",
   "id": "7fa6d1c3",
   "metadata": {},
   "source": [
    "# Light Loss Polymer"
   ]
  },
  {
   "cell_type": "code",
   "execution_count": null,
   "id": "c20b61c2",
   "metadata": {},
   "outputs": [],
   "source": [
    "k = 1e-6\n",
    "n_poly = 1.45 - k * 1j\n",
    "ns = [lambda x:n_air, lambda x:n_glass, lambda x:n_poly, lambda x:n_air]\n",
    "\n",
    "\n",
    "betas2 = np.zeros_like(wls, dtype=complex)"
   ]
  },
  {
   "cell_type": "code",
   "execution_count": null,
   "id": "c2eebf3a",
   "metadata": {},
   "outputs": [],
   "source": [
    "for i, wl in enumerate(wls):\n",
    "    print(5 * ' ' +  + 20 * '-' + '  ' + str(i+1) + '/' + str(n+1) + ': ' +\n",
    "          'wavelength: ' +  str(wls[i]) + '  ' +  20 * '-' +5 * ' '+'\\n')\n",
    "    \n",
    "    A = BraggExact(ts=ts, ns=ns , mats=mats,maxhs=maxhs, wl=wl, no_mesh=True)\n",
    "    k_low = A.ks[0] * A.scale\n",
    "    guess = np.array(.99992 * k_low)\n",
    "    imag = 0\n",
    "    flag = True\n",
    "    reduce = 0\n",
    "\n",
    "    while flag:\n",
    "        try:\n",
    "            x0 = np.array(guess + imag*1j)\n",
    "            beta = newton(A.determinant, x0, args=(nu, outer), tol = 1e-17)\n",
    "            if beta.real > k_low:\n",
    "                print(\"Captured wrong mode, retrying.\")\n",
    "                raise RuntimeError\n",
    "            elif beta.imag > 0:\n",
    "                print(\"Positive imaginary part, retrying.\")\n",
    "                imag = -beta.imag\n",
    "                guess *= 1/.999995\n",
    "                raise RuntimeError\n",
    "            else:\n",
    "                print(\"Scaled beta: \", beta, \". Residual of determinant: \", \n",
    "                      abs(A.determinant(beta, nu, outer)), '\\n\\n' )\n",
    "                imag = beta.imag\n",
    "                flag=False\n",
    "        except RuntimeError:\n",
    "            guess *= .999995\n",
    "            reduce += 1\n",
    "            print(\"scaling guess: \" + str(reduce), flush=True)\n",
    "    betas2[i] = beta\n",
    "    "
   ]
  },
  {
   "cell_type": "code",
   "execution_count": null,
   "id": "3769ae42",
   "metadata": {},
   "outputs": [],
   "source": [
    "%matplotlib notebook\n",
    "plt.figure(figsize=(12,7))\n",
    "plt.plot(wls, -betas1.imag, marker='+', linewidth=.9, label='k=0')\n",
    "plt.plot(wls, -betas2.imag, marker='+', linewidth=.9, label='k=1e-6')\n",
    "plt.legend()\n",
    "plt.yscale('log')"
   ]
  },
  {
   "cell_type": "markdown",
   "id": "9bd41745",
   "metadata": {},
   "source": [
    "# Medium Loss polymer"
   ]
  },
  {
   "cell_type": "code",
   "execution_count": null,
   "id": "ec5e337a",
   "metadata": {},
   "outputs": [],
   "source": [
    "k = 1e-5\n",
    "n_poly = 1.45 - k * 1j\n",
    "ns = [lambda x:n_air, lambda x:n_glass, lambda x:n_poly, lambda x:n_air]\n",
    "\n",
    "\n",
    "betas3 = np.zeros_like(wls, dtype=complex)"
   ]
  },
  {
   "cell_type": "code",
   "execution_count": null,
   "id": "09d0558a",
   "metadata": {},
   "outputs": [],
   "source": [
    "for i, wl in enumerate(wls):\n",
    "    print(5 * ' ' +  + 20 * '-' + '  ' + str(i+1) + '/' + str(n+1) + ': ' +\n",
    "          'wavelength: ' +  str(wls[i]) + '  ' +  20 * '-' +5 * ' '+'\\n')\n",
    "    \n",
    "    A = BraggExact(ts=ts, ns=ns , mats=mats,maxhs=maxhs, wl=wl, no_mesh=True)\n",
    "    k_low = A.ks[0] * A.scale\n",
    "    guess = np.array(.99992 * k_low)\n",
    "    imag = 0\n",
    "    flag = True\n",
    "    reduce = 0\n",
    "\n",
    "    while flag:\n",
    "        try:\n",
    "            x0 = np.array(guess + imag*1j)\n",
    "            beta = newton(A.determinant, x0, args=(nu, outer), tol = 1e-17)\n",
    "            if beta.real > k_low:\n",
    "                print(\"Captured wrong mode, retrying.\")\n",
    "                raise RuntimeError\n",
    "            elif beta.imag > 0:\n",
    "                print(\"Positive imaginary part, retrying.\")\n",
    "                imag = -beta.imag\n",
    "                guess *= 1/.999995\n",
    "                raise RuntimeError\n",
    "            else:\n",
    "                print(\"Scaled beta: \", beta, \". Residual of determinant: \", \n",
    "                      abs(A.determinant(beta, nu, outer)), '\\n\\n' )\n",
    "                imag = beta.imag\n",
    "                flag=False\n",
    "        except RuntimeError:\n",
    "            guess *= .999995\n",
    "            reduce += 1\n",
    "            print(\"scaling guess: \" + str(reduce), flush=True)\n",
    "    betas3[i] = beta\n",
    "    "
   ]
  },
  {
   "cell_type": "code",
   "execution_count": null,
   "id": "f85809b7",
   "metadata": {},
   "outputs": [],
   "source": [
    "\n",
    "%matplotlib notebook\n",
    "plt.figure(figsize=(12,7))\n",
    "plt.plot(wls, -betas1.imag, linewidth=.9, label='k=0')\n",
    "plt.plot(wls, -betas2.imag, linewidth=.9, label='k=1e-6')\n",
    "plt.plot(wls, -betas3.imag, linewidth=.9, label='k=1e-5')\n",
    "plt.legend()\n",
    "plt.yscale('log')"
   ]
  },
  {
   "cell_type": "markdown",
   "id": "d8701a66",
   "metadata": {},
   "source": [
    "# High Loss Polymer"
   ]
  },
  {
   "cell_type": "code",
   "execution_count": null,
   "id": "0cf0295e",
   "metadata": {},
   "outputs": [],
   "source": [
    "k = 1e-4\n",
    "n_poly = 1.45 - k * 1j\n",
    "ns = [lambda x:n_air, lambda x:n_glass, lambda x:n_poly, lambda x:n_air]\n",
    "\n",
    "betas4 = np.zeros_like(wls, dtype=complex)"
   ]
  },
  {
   "cell_type": "code",
   "execution_count": null,
   "id": "e903b745",
   "metadata": {},
   "outputs": [],
   "source": [
    "for i, wl in enumerate(wls):\n",
    "    print(5 * ' ' +  + 20 * '-' + '  ' + str(i+1) + '/' + str(n+1) + ': ' +\n",
    "          'wavelength: ' +  str(wls[i]) + '  ' +  20 * '-' +5 * ' '+'\\n')\n",
    "    \n",
    "    A = BraggExact(ts=ts, ns=ns , mats=mats,maxhs=maxhs, wl=wl, no_mesh=True)\n",
    "    k_low = A.ks[0] * A.scale\n",
    "    guess = np.array(.99992 * k_low)\n",
    "    imag = 0\n",
    "    flag = True\n",
    "    reduce = 0\n",
    "\n",
    "    while flag:\n",
    "        try:\n",
    "            x0 = np.array(guess + imag*1j)\n",
    "            beta = newton(A.determinant, x0, args=(nu, outer), tol = 1e-17)\n",
    "            if beta.real > k_low:\n",
    "                print(\"Captured wrong mode, retrying.\")\n",
    "                raise RuntimeError\n",
    "            elif beta.imag > 0:\n",
    "                print(\"Positive imaginary part, retrying.\")\n",
    "                imag = -beta.imag\n",
    "                guess *= 1/.999995\n",
    "                raise RuntimeError\n",
    "            else:\n",
    "                print(\"Scaled beta: \", beta, \". Residual of determinant: \", \n",
    "                      abs(A.determinant(beta, nu, outer)), '\\n\\n' )\n",
    "                imag = beta.imag\n",
    "                flag=False\n",
    "        except RuntimeError:\n",
    "            guess *= .999995\n",
    "            reduce += 1\n",
    "            print(\"scaling guess: \" + str(reduce), flush=True)\n",
    "    betas4[i] = beta\n",
    "    "
   ]
  },
  {
   "cell_type": "code",
   "execution_count": null,
   "id": "09a74667",
   "metadata": {},
   "outputs": [],
   "source": [
    "\n",
    "%matplotlib notebook\n",
    "plt.figure(figsize=(12,7))\n",
    "plt.plot(wls, -betas1.imag, linewidth=.9, label='k=0')\n",
    "plt.plot(wls, -betas2.imag, linewidth=.9, label='k=1e-6')\n",
    "plt.plot(wls, -betas3.imag, linewidth=.9, label='k=1e-5')\n",
    "plt.plot(wls, -betas4.imag, linewidth=.9, label='k=1e-4')\n",
    "plt.legend()\n",
    "plt.yscale('log')"
   ]
  },
  {
   "cell_type": "code",
   "execution_count": null,
   "id": "a9da92a1",
   "metadata": {},
   "outputs": [],
   "source": [
    "np.save('no_loss_betas', -betas1.imag)\n",
    "np.save('low_loss_betas', -betas2.imag)\n",
    "np.save('med_loss_betas', -betas3.imag)\n",
    "np.save('high_loss_betas', -betas4.imag)"
   ]
  },
  {
   "cell_type": "markdown",
   "id": "cf5b0094",
   "metadata": {},
   "source": [
    "# N0 Configuration\n",
    "\n",
    "This is just a hole with same core radius and glass to end of domain"
   ]
  },
  {
   "cell_type": "code",
   "execution_count": null,
   "id": "3b2619d1",
   "metadata": {},
   "outputs": [],
   "source": [
    "ts2 = [t0, .5*t0]\n",
    "ns2 = [lambda x:n_air, lambda x:n_glass]\n",
    "mats2 = ['air', 'glass']\n",
    "maxhs2 = [2, .02]"
   ]
  },
  {
   "cell_type": "code",
   "execution_count": null,
   "id": "698311e5",
   "metadata": {},
   "outputs": [],
   "source": [
    "betasN0 = np.zeros_like(wls, dtype=complex)"
   ]
  },
  {
   "cell_type": "code",
   "execution_count": null,
   "id": "75ec3a7a",
   "metadata": {},
   "outputs": [],
   "source": [
    "for i, wl in enumerate(wls):\n",
    "    print(5 * ' ' +  + 20 * '-' + '  ' + str(i+1) + '/' + str(n+1) + ': ' +\n",
    "          'wavelength: ' +  str(wls[i]) + '  ' +  20 * '-' +5 * ' '+'\\n')\n",
    "    \n",
    "    C = BraggExact(ts=ts2, ns=ns2, mats=mats2,maxhs=maxhs2, wl=wl, no_mesh=True)\n",
    "    k_low = C.ks[0] * C.scale\n",
    "    guess = np.array(.99992 * k_low)\n",
    "    imag = 0\n",
    "    flag = True\n",
    "    reduce = 0\n",
    "\n",
    "    while flag:\n",
    "        try:\n",
    "            x0 = np.array(guess + imag*1j)\n",
    "            beta = newton(C.determinant, x0, args=(nu, outer), tol = 1e-17)\n",
    "            if beta.real > k_low:\n",
    "                print(\"Captured wrong mode, retrying.\")\n",
    "                raise RuntimeError\n",
    "            elif beta.imag > 0:\n",
    "                print(\"Positive imaginary part, retrying.\")\n",
    "                imag = -beta.imag\n",
    "                guess *= 1/.999995\n",
    "                raise RuntimeError\n",
    "            else:\n",
    "                print(\"Scaled beta: \", beta, \". Residual of determinant: \", \n",
    "                      abs(C.determinant(beta, nu, outer)), '\\n\\n' )\n",
    "                imag = beta.imag\n",
    "                flag=False\n",
    "        except RuntimeError:\n",
    "            guess *= .999995\n",
    "            reduce += 1\n",
    "            print(\"scaling guess: \" + str(reduce), flush=True)\n",
    "    betasN0[i] = beta\n",
    "    "
   ]
  },
  {
   "cell_type": "code",
   "execution_count": null,
   "id": "bb409919",
   "metadata": {},
   "outputs": [],
   "source": [
    "%matplotlib notebook\n",
    "plt.figure(figsize=(12,7))\n",
    "plt.plot(wls, -betas1.imag, linewidth=.9, label='k=0')\n",
    "plt.plot(wls, -betas2.imag, linewidth=.9, label='k=1e-6')\n",
    "plt.plot(wls, -betas3.imag, linewidth=.9, label='k=1e-5')\n",
    "plt.plot(wls, -betas4.imag, linewidth=.9, label='k=1e-4')\n",
    "plt.plot(wls, -betasN0.imag, linewidth=.9, label='N0')\n",
    "plt.legend()\n",
    "plt.yscale('log')"
   ]
  },
  {
   "cell_type": "markdown",
   "id": "c9efbb3f",
   "metadata": {},
   "source": [
    "# Comparison Graph"
   ]
  },
  {
   "cell_type": "code",
   "execution_count": null,
   "id": "d8b3b9aa",
   "metadata": {},
   "outputs": [],
   "source": []
  },
  {
   "cell_type": "code",
   "execution_count": null,
   "id": "86b9cbbb",
   "metadata": {},
   "outputs": [],
   "source": [
    "plt.figure(figsize=(10,7))\n",
    "plt.plot(wls, -betas1.imag, label='no loss', linewidth=.9)\n",
    "plt.plot(wls, -betas2.imag, label='low loss', linewidth=.9)\n",
    "plt.plot(wls, -betas3.imag, label='medium loss', linewidth=.9)\n",
    "plt.plot(wls, -betas4.imag, label='high loss', linewidth=.9)\n",
    "plt.legend()\n",
    "plt.title(\"Spectral Loss Comparison for Lossy Polymer\\n\")\n",
    "plt.yscale('log')"
   ]
  },
  {
   "cell_type": "code",
   "execution_count": null,
   "id": "fbb7e945",
   "metadata": {},
   "outputs": [],
   "source": []
  }
 ],
 "metadata": {
  "kernelspec": {
   "display_name": "Python 3 (ipykernel)",
   "language": "python",
   "name": "python3"
  },
  "language_info": {
   "codemirror_mode": {
    "name": "ipython",
    "version": 3
   },
   "file_extension": ".py",
   "mimetype": "text/x-python",
   "name": "python",
   "nbconvert_exporter": "python",
   "pygments_lexer": "ipython3",
   "version": "3.8.10"
  }
 },
 "nbformat": 4,
 "nbformat_minor": 5
}
