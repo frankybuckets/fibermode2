{
 "cells": [
  {
   "cell_type": "markdown",
   "id": "720129b6",
   "metadata": {},
   "source": [
    "\n",
    "# Implementing 3 layered radial fiber using Bragg exact\n",
    "\n",
    "The two layer case works, so the transfer matrix maybe is having the problems"
   ]
  },
  {
   "cell_type": "code",
   "execution_count": null,
   "id": "664ce3d7",
   "metadata": {},
   "outputs": [],
   "source": [
    "import numpy as np\n",
    "\n",
    "from fiberamp.fiber.microstruct.bragg import BraggExact\n",
    "from step_exact import plotlogf\n",
    "from ngsolve.webgui import Draw\n",
    "from ngsolve import CF\n"
   ]
  },
  {
   "cell_type": "code",
   "execution_count": null,
   "id": "9d706ddc",
   "metadata": {},
   "outputs": [],
   "source": [
    "n_air = 1.00027717\n",
    "n_glass = 1.4388164768221814"
   ]
  },
  {
   "cell_type": "code",
   "execution_count": null,
   "id": "f249bc35",
   "metadata": {},
   "outputs": [],
   "source": [
    "A = BraggExact(ts=[15e-6,.5*15e-6, 15e-6], mats=['air', 'glass', 'air'], \n",
    "               ns=[lambda x:n_air, lambda x:n_glass, lambda x:n_air],\n",
    "              maxhs=[.2,.03, .1], wl=3.6e-6)\n"
   ]
  },
  {
   "cell_type": "code",
   "execution_count": null,
   "id": "7017a529",
   "metadata": {},
   "outputs": [],
   "source": [
    "k_low = A.k0 * A.ns[0] * A.scale\n",
    "k_low"
   ]
  },
  {
   "cell_type": "code",
   "execution_count": null,
   "id": "cab9eb3d",
   "metadata": {},
   "outputs": [],
   "source": [
    "outer = 'h2'\n",
    "nu = 1\n",
    "beta = 26.06899568832816-0.0029172641159476297j"
   ]
  },
  {
   "cell_type": "markdown",
   "id": "e8cdbf13",
   "metadata": {},
   "source": [
    "# Do fields in 2 regions via transfer matrix\n",
    "\n",
    "This is to see if the transfer matrix is correct.  Define v = [1,0] coefficients on region 1, then use transfer matrix to get next regions coefficients.  Plot these fields to check for continuity."
   ]
  },
  {
   "cell_type": "code",
   "execution_count": null,
   "id": "7801d6b9",
   "metadata": {},
   "outputs": [],
   "source": [
    "T0 = A.transfer_matrix(beta, nu, A.rhos[0], A.ns[0], A.ns[1])\n",
    "T1 = A.transfer_matrix(beta, nu, A.rhos[1], A.ns[1], A.ns[2])"
   ]
  },
  {
   "cell_type": "code",
   "execution_count": null,
   "id": "5cf7ee84",
   "metadata": {},
   "outputs": [],
   "source": [
    "v = np.array([1, .1, 1, .1], dtype=complex)"
   ]
  },
  {
   "cell_type": "code",
   "execution_count": null,
   "id": "a0815ae2",
   "metadata": {},
   "outputs": [],
   "source": [
    "w = T0 @ v\n",
    "x = T1 @ w"
   ]
  },
  {
   "cell_type": "code",
   "execution_count": null,
   "id": "b673530b",
   "metadata": {},
   "outputs": [],
   "source": [
    "F0 = A.regional_fields(beta, v, 0, nu=nu)\n",
    "F1 = A.regional_fields(beta, w, 1, nu=nu)\n",
    "F2 = A.regional_fields(beta, x, 2, nu=nu)\n"
   ]
  },
  {
   "cell_type": "code",
   "execution_count": null,
   "id": "19097c97",
   "metadata": {},
   "outputs": [],
   "source": [
    "Ez = CF([F0['Ez'], F1['Ez'], F2['Ez']])\n",
    "Ephi = CF([F0['Ephi'], F1['Ephi'], F2['Ephi']])\n",
    "Er = CF([F0['Er'], F1['Er'], F2['Er']])\n",
    "\n",
    "Hz = CF([F0['Hz'], F1['Hz'], F2['Hz']])\n",
    "Hphi = CF([F0['Hphi'], F1['Hphi'], F2['Hphi']])"
   ]
  },
  {
   "cell_type": "markdown",
   "id": "cd4c2e9e",
   "metadata": {},
   "source": [
    "# Bragg Exact Fields"
   ]
  },
  {
   "cell_type": "code",
   "execution_count": null,
   "id": "bc53f0ee",
   "metadata": {},
   "outputs": [],
   "source": [
    "Draw(1e1*Ez, A.mesh)"
   ]
  },
  {
   "cell_type": "code",
   "execution_count": null,
   "id": "3fe3a2e5",
   "metadata": {},
   "outputs": [],
   "source": [
    "Draw(Ephi, A.mesh)"
   ]
  },
  {
   "cell_type": "markdown",
   "id": "5ffed8b8",
   "metadata": {},
   "source": [
    "# May have issue with Transfer matrix\n",
    "\n",
    "The z-components are continuous, but not the phi components.  Guess it's time to check the transfer matrix they have in Yeh.  I already checked that I'm calculating the fields correctly from the coefficients, so this is basically all that is left.\n",
    "\n",
    "Did seemingly find an issue, but it didn't help.\n",
    "\n",
    "# Try by inverse"
   ]
  },
  {
   "cell_type": "code",
   "execution_count": null,
   "id": "7ad66262",
   "metadata": {},
   "outputs": [],
   "source": [
    "M0L = A.state_matrix(beta, nu, A.rhos[0], A.ns[0])\n",
    "M0R = A.state_matrix(beta, nu, A.rhos[0], A.ns[1])\n",
    "\n",
    "T0_inv = np.linalg.inv(M0R) @ M0L"
   ]
  },
  {
   "cell_type": "code",
   "execution_count": null,
   "id": "fbe75473",
   "metadata": {},
   "outputs": [],
   "source": [
    "w = T0_inv @ v"
   ]
  },
  {
   "cell_type": "code",
   "execution_count": null,
   "id": "65dd5a70",
   "metadata": {},
   "outputs": [],
   "source": [
    "M1L = A.state_matrix(beta, nu, A.rhos[1], A.ns[1])\n",
    "M1R = A.state_matrix(beta, nu, A.rhos[1], A.ns[2])\n",
    "\n",
    "T1_inv = np.linalg.inv(M1R) @ M1L"
   ]
  },
  {
   "cell_type": "code",
   "execution_count": null,
   "id": "0985622d",
   "metadata": {},
   "outputs": [],
   "source": [
    "x = T1_inv @ w"
   ]
  },
  {
   "cell_type": "code",
   "execution_count": null,
   "id": "872d7438",
   "metadata": {},
   "outputs": [],
   "source": [
    "F0 = A.regional_fields(beta, v, 0, nu=nu)\n",
    "F1 = A.regional_fields(beta, w, 1, nu=nu)\n",
    "F2 = A.regional_fields(beta, x, 2, nu=nu)\n"
   ]
  },
  {
   "cell_type": "code",
   "execution_count": null,
   "id": "0bd100da",
   "metadata": {},
   "outputs": [],
   "source": [
    "Ez = CF([F0['Ez'], F1['Ez'], F2['Ez']])\n",
    "Ephi = CF([F0['Ephi'], F1['Ephi'], F2['Ephi']])\n",
    "Er = CF([F0['Er'], F1['Er'], F2['Er']])\n",
    "\n",
    "Hz = CF([F0['Hz'], F1['Hz'], F2['Hz']])\n",
    "Hphi = CF([F0['Hphi'], F1['Hphi'], F2['Hphi']])"
   ]
  },
  {
   "cell_type": "markdown",
   "id": "07e29365",
   "metadata": {},
   "source": [
    "# Step Exact Fields"
   ]
  },
  {
   "cell_type": "code",
   "execution_count": null,
   "id": "9668270f",
   "metadata": {},
   "outputs": [],
   "source": [
    "Draw(Ez, A.mesh)"
   ]
  },
  {
   "cell_type": "code",
   "execution_count": null,
   "id": "c0e6eaa8",
   "metadata": {},
   "outputs": [],
   "source": [
    "Draw(Ephi, A.mesh)"
   ]
  },
  {
   "cell_type": "code",
   "execution_count": null,
   "id": "af165a6f",
   "metadata": {},
   "outputs": [],
   "source": [
    "Draw(Hz, A.mesh)"
   ]
  },
  {
   "cell_type": "code",
   "execution_count": null,
   "id": "881c81c2",
   "metadata": {},
   "outputs": [],
   "source": [
    "Draw(Hphi, A.mesh)"
   ]
  },
  {
   "cell_type": "markdown",
   "id": "326aa772",
   "metadata": {},
   "source": [
    "# That works\n",
    "\n",
    "So that settles it: something is off in the transfer matrix.  The state matrices are right, so ... not sure where the issue is.  Thought I totally dissected it with my sympy exploration."
   ]
  },
  {
   "cell_type": "code",
   "execution_count": null,
   "id": "5dc9ba76",
   "metadata": {},
   "outputs": [],
   "source": [
    "np.linalg.norm(T0-T0_inv)\n"
   ]
  },
  {
   "cell_type": "code",
   "execution_count": null,
   "id": "cf04eaf6",
   "metadata": {},
   "outputs": [],
   "source": [
    "np.linalg.norm(T1-T1_inv)\n"
   ]
  },
  {
   "cell_type": "markdown",
   "id": "365a4216",
   "metadata": {},
   "source": [
    "# Stubborn!!\n",
    "\n",
    "I hard coded the state matrix inverse, let's see if it works"
   ]
  },
  {
   "cell_type": "code",
   "execution_count": null,
   "id": "5f36f82e",
   "metadata": {},
   "outputs": [],
   "source": [
    "M = A.state_matrix(beta, nu, A.rhos[0], A.ns[0])\n",
    "Minv = A.state_matrix_inverse(beta, nu, A.rhos[0], A.ns[0])"
   ]
  },
  {
   "cell_type": "code",
   "execution_count": null,
   "id": "a6895fc1",
   "metadata": {},
   "outputs": [],
   "source": [
    "M, Minv"
   ]
  },
  {
   "cell_type": "code",
   "execution_count": null,
   "id": "6ec9c067",
   "metadata": {},
   "outputs": [],
   "source": [
    "m = Minv @ M\n"
   ]
  },
  {
   "cell_type": "code",
   "execution_count": null,
   "id": "a57a14f7",
   "metadata": {},
   "outputs": [],
   "source": [
    "np.round(m.imag, 15)"
   ]
  },
  {
   "cell_type": "code",
   "execution_count": null,
   "id": "c4b86e1f",
   "metadata": {},
   "outputs": [],
   "source": [
    "np.round(m.real, 15)"
   ]
  },
  {
   "cell_type": "markdown",
   "id": "cbb807c3",
   "metadata": {},
   "source": [
    "# Okay, hard coded inverse works\n",
    "\n",
    "Found a few sign errors.  Maybe that's what's happening in the transfer matrix too."
   ]
  },
  {
   "cell_type": "code",
   "execution_count": null,
   "id": "4c0e4b36",
   "metadata": {},
   "outputs": [],
   "source": [
    "h = A.state_matrix_inverse(beta, nu, A.rhos[0], A.ns[1]) @ A.state_matrix(beta, nu, A.rhos[0], A.ns[0])"
   ]
  },
  {
   "cell_type": "code",
   "execution_count": null,
   "id": "7ae50f4f",
   "metadata": {},
   "outputs": [],
   "source": [
    "np.round(h-T0,2 )\n",
    "\n"
   ]
  },
  {
   "cell_type": "markdown",
   "id": "8390e568",
   "metadata": {},
   "source": [
    "# So transfer matrix is correct on block diagonal (2x2)\n",
    "\n",
    "But off diagonals are wrong.  That at least narrows it."
   ]
  },
  {
   "cell_type": "markdown",
   "id": "35176d4f",
   "metadata": {},
   "source": [
    "# Finally got it\n",
    "\n",
    "It does seem there was an issue in Yeh's off diagonal: we should replace 1/x - 1/y with y/x^2 - 1/y.  I thought I did this before, but maybe I did and there was some other error.  Worth double checking again if we decide to report this that if I sub back to Yeh's in code I get a problem.  Not sure that will happen, so need to check.  When I most recently made a sub I used sympy and substituted (x^2-y^2)/y^3, which is not the same.  Made either a sub error in sympy or sympy did something weird in simplifying?  Likely user error though."
   ]
  },
  {
   "cell_type": "code",
   "execution_count": null,
   "id": "4dddac9c",
   "metadata": {},
   "outputs": [],
   "source": []
  }
 ],
 "metadata": {
  "kernelspec": {
   "display_name": "Python 3 (ipykernel)",
   "language": "python",
   "name": "python3"
  },
  "language_info": {
   "codemirror_mode": {
    "name": "ipython",
    "version": 3
   },
   "file_extension": ".py",
   "mimetype": "text/x-python",
   "name": "python",
   "nbconvert_exporter": "python",
   "pygments_lexer": "ipython3",
   "version": "3.8.10"
  }
 },
 "nbformat": 4,
 "nbformat_minor": 5
}
