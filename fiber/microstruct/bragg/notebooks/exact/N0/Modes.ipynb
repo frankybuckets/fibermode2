{
 "cells": [
  {
   "cell_type": "markdown",
   "id": "720129b6",
   "metadata": {},
   "source": [
    "\n",
    "# Hollow Core in infinite glass \n",
    "\n",
    "N0 Configuration in Bird"
   ]
  },
  {
   "cell_type": "code",
   "execution_count": null,
   "id": "664ce3d7",
   "metadata": {},
   "outputs": [],
   "source": [
    "import numpy as np\n",
    "\n",
    "from fiberamp.fiber.microstruct.bragg import BraggExact, plotlogf\n",
    "from ngsolve.webgui import Draw\n",
    "from ngsolve import CF\n",
    "from scipy.optimize import newton\n"
   ]
  },
  {
   "cell_type": "code",
   "execution_count": null,
   "id": "1829005b",
   "metadata": {},
   "outputs": [],
   "source": [
    "n_air = 1.00027717\n",
    "n_glass = 1.4388164768221814\n",
    "\n",
    "ns = [lambda x:n_air, lambda x:n_glass]\n",
    "\n",
    "ts = [4.0775e-05, 1e-5 + 4.0775e-05]\n",
    "\n",
    "mats = ['air', 'glass']\n",
    "\n",
    "maxhs = [.1,.05]"
   ]
  },
  {
   "cell_type": "code",
   "execution_count": null,
   "id": "e74065e7",
   "metadata": {},
   "outputs": [],
   "source": [
    "A = BraggExact(ts=ts, mats=mats, ns=ns, maxhs=maxhs,\n",
    "               wl=3.25e-6)"
   ]
  },
  {
   "cell_type": "code",
   "execution_count": null,
   "id": "9e68f5cc",
   "metadata": {},
   "outputs": [],
   "source": [
    "Draw(CF([n for n in A.ns]), A.mesh)"
   ]
  },
  {
   "cell_type": "code",
   "execution_count": null,
   "id": "7017a529",
   "metadata": {},
   "outputs": [],
   "source": [
    "# k_low = A.k0 * A.ns[0] * A.scale\n",
    "k_low, k_high = A.k0 * np.min(A.ns) * A.scale, A.k0 * np.max(A.ns) * A.scale\n",
    "\n",
    "outer = 'h2'\n",
    "Ktype = 'kappa'\n",
    "nu = 1"
   ]
  },
  {
   "cell_type": "code",
   "execution_count": null,
   "id": "89a4148f",
   "metadata": {},
   "outputs": [],
   "source": [
    "plotlogf(A.determinant, .999 * k_low, 1.0001*k_low, -.01,.01, nu, outer, Ktype,\n",
    "         iref=100, rref=100, levels=100)"
   ]
  },
  {
   "cell_type": "code",
   "execution_count": null,
   "id": "f5d0ebf1",
   "metadata": {},
   "outputs": [],
   "source": [
    "guess = np.array(.9999*k_low)\n",
    "\n",
    "beta1 = newton(A.determinant, guess, args=(nu, outer, Ktype), tol = 1e-16)\n",
    "\n",
    "print(\"Scaled beta: \", beta1, \". Residual of determinant: \", abs(A.determinant(beta1, nu, outer, Ktype)))\n"
   ]
  },
  {
   "cell_type": "markdown",
   "id": "f680dd27",
   "metadata": {},
   "source": [
    "# Bragg Exact Fields"
   ]
  },
  {
   "cell_type": "code",
   "execution_count": null,
   "id": "c26cf71a",
   "metadata": {},
   "outputs": [],
   "source": [
    "Fs = A.all_fields(beta1, nu=nu, outer=outer, Ktype=Ktype)"
   ]
  },
  {
   "cell_type": "code",
   "execution_count": null,
   "id": "0016122a",
   "metadata": {},
   "outputs": [],
   "source": [
    "Draw(50/2150.2897181232*Fs['Sz'], A.mesh)"
   ]
  },
  {
   "cell_type": "code",
   "execution_count": null,
   "id": "fc94138a",
   "metadata": {},
   "outputs": [],
   "source": [
    "Draw(Fs['Hz'], A.mesh)"
   ]
  },
  {
   "cell_type": "code",
   "execution_count": null,
   "id": "92d5cd30",
   "metadata": {},
   "outputs": [],
   "source": [
    "Draw(Fs['Etv'].real, A.mesh, vectors={'grid_size':150})\n"
   ]
  },
  {
   "cell_type": "code",
   "execution_count": null,
   "id": "a910bae4",
   "metadata": {},
   "outputs": [],
   "source": [
    "Draw(1/46.3478181278*Fs['Etv'].Norm(), A.mesh)"
   ]
  },
  {
   "cell_type": "code",
   "execution_count": null,
   "id": "5813b782",
   "metadata": {},
   "outputs": [],
   "source": [
    "Draw(Fs['Ephi'], A.mesh)"
   ]
  },
  {
   "cell_type": "code",
   "execution_count": null,
   "id": "b7433b22",
   "metadata": {},
   "outputs": [],
   "source": [
    "Draw(Fs['Hphi'], A.mesh)"
   ]
  },
  {
   "cell_type": "markdown",
   "id": "1955e050",
   "metadata": {},
   "source": [
    "# 1D cross sections"
   ]
  },
  {
   "cell_type": "code",
   "execution_count": null,
   "id": "ae108314",
   "metadata": {},
   "outputs": [],
   "source": [
    "fsA = A.fields_matplot(beta1, nu, outer)"
   ]
  },
  {
   "cell_type": "code",
   "execution_count": null,
   "id": "7b27356f",
   "metadata": {},
   "outputs": [],
   "source": [
    "# %matplotlib notebook\n",
    "fig, ax = A.plot1D(fsA['Ez_rad'], double_r=True, rlist=[400,1000], nu=nu, maxscale=True, part='norm',\n",
    "                  linewidth=1.5, color='k',  figsize=(10,5))\n",
    "# Rhos = A.rhos/A.scale\n",
    "\n",
    "# ax.arrow(0,0, Rhos[-1], 0, color='lightgray', width=.001, \n",
    "#          head_width=.03, head_length=.1)\n",
    "# ax.arrow(0,0, -Rhos[-1], 0, color='lightgray', width=.001, \n",
    "#          head_width=.03, head_length=.1)\n",
    "# ax.set_ylim(-.2,1.2)\n",
    "\n",
    "# ax.set_frame_on(False)\n",
    "# ax.set_xticks([])\n",
    "# ax.set_yticks([])\n",
    "# fig.tight_layout()\n",
    "# m, M = ax.get_ylim()\n",
    "# for r in Rhos:\n",
    "#     ax.plot([r,r], [m, M], 'gray', linewidth=1.2, linestyle=':')\n",
    "#     ax.plot([-r,-r], [m, M], 'gray', linewidth=1.2, linestyle=':')\n",
    "# ax.set_xlabel('\\nDistance from Fiber Center')\n",
    "# fig.savefig('/home/pv/papers/outer_materials/slides/figures/images/jpgs/bragg_N0_1Dlong.jpg')"
   ]
  },
  {
   "cell_type": "code",
   "execution_count": null,
   "id": "64395676",
   "metadata": {},
   "outputs": [],
   "source": [
    "# %matplotlib notebook\n",
    "rs, ys = A.plot1D(fsA['Ez_rad'], double_r=True, rlist=[400,1000], nu=nu, maxscale=True, part='norm',\n",
    "                  linewidth=1.5, color='k',  figsize=(10,5), return_vals=True)\n",
    "\n",
    "\n",
    "\n",
    "import os\n",
    "paper_path = os.path.relpath(os.path.expanduser('~/papers/outer_materials/slides/figures/data/one_D'))\n",
    "\n",
    "both = np.column_stack((rs, ys))\n",
    "np.save(paper_path + '/bragg_N0_1Dlong.npy', both)\n",
    "\n",
    "both = np.column_stack((rs, ys.real))\n",
    "np.savetxt(paper_path + '/bragg_N0_1Dlong_real.dat', both, fmt='%.8f')\n",
    "\n",
    "both = np.column_stack((rs, ys.imag))\n",
    "np.savetxt(paper_path + '/bragg_N0_1Dlong_imag.dat', both, fmt='%.8f')\n",
    "\n",
    "both = np.column_stack((rs, np.abs(ys)))\n",
    "np.savetxt(paper_path + '/bragg_N0_1Dlong_norm.dat', both, fmt='%.8f')"
   ]
  },
  {
   "cell_type": "code",
   "execution_count": null,
   "id": "335690b0",
   "metadata": {},
   "outputs": [],
   "source": [
    "\n",
    "Etv_rad_norm = lambda x : (np.abs(fsA['Ex'](x,0))**2 + np.abs(fsA['Ey'](x,0))**2)**.5\n",
    "\n",
    "fig, ax = A.plot1D(Etv_rad_norm, double_r=True, part='norm', rlist=[400,1000], nu=nu, maxscale=True,\n",
    "                  linewidth=1.5, color='k',  figsize=(12,6))\n",
    "# Rhos = A.rhos/A.scale\n",
    "\n",
    "# ax.arrow(0,0, Rhos[-1], 0, color='lightgray', width=.001, \n",
    "#          head_width=.015, head_length=.1)\n",
    "# ax.arrow(0,0, -Rhos[-1], 0, color='lightgray', width=.001, \n",
    "#          head_width=.015, head_length=.1)\n",
    "\n",
    "\n",
    "# ax.set_frame_on(False)\n",
    "# ax.set_xticks([])\n",
    "# ax.set_yticks([])\n",
    "# fig.tight_layout()\n",
    "# m, M = ax.get_ylim()\n",
    "# for r in Rhos:\n",
    "#     ax.plot([r,r], [m, M], 'gray', linewidth=.8, linestyle=':')\n",
    "#     ax.plot([-r,-r], [m, M], 'gray', linewidth=.8, linestyle=':')\n",
    "# ax.set_xlabel('\\nDistance from Fiber Center')\n",
    "# fig.show()\n",
    "# fig.savefig('/home/pv/papers/outer_materials/slides/figures/images/jpgs/bragg_N0_1Dtransverse.jpg')"
   ]
  },
  {
   "cell_type": "code",
   "execution_count": null,
   "id": "b76836f7",
   "metadata": {},
   "outputs": [],
   "source": [
    "# %matplotlib notebook\n",
    "Etv_rad_norm = lambda x : (np.abs(fsA['Ex'](x,0))**2 + np.abs(fsA['Ey'](x,0))**2)**.5\n",
    "\n",
    "rs, ys = A.plot1D(Etv_rad_norm, double_r=True, part='norm', rlist=[400,1000], nu=0, maxscale=True,\n",
    "                  linewidth=1.5, color='k',  figsize=(12,6), return_vals=True)\n",
    "\n",
    "import os\n",
    "paper_path = os.path.relpath(os.path.expanduser('~/papers/outer_materials/slides/figures/data/one_D'))\n",
    "\n",
    "both = np.column_stack((rs, ys.real))\n",
    "np.save(paper_path + '/bragg_N0_1Dtransverse.npy', both)\n",
    "\n",
    "both = np.column_stack((rs, ys.real))\n",
    "np.savetxt(paper_path + '/bragg_N0_1Dtransverse.dat', both, fmt='%.8f')"
   ]
  },
  {
   "cell_type": "code",
   "execution_count": null,
   "id": "e1bd98d1",
   "metadata": {},
   "outputs": [],
   "source": [
    "np.where(ys.real>0)\n",
    "\n"
   ]
  },
  {
   "cell_type": "code",
   "execution_count": null,
   "id": "924e47c4",
   "metadata": {},
   "outputs": [],
   "source": []
  }
 ],
 "metadata": {
  "kernelspec": {
   "display_name": "Python 3 (ipykernel)",
   "language": "python",
   "name": "python3"
  },
  "language_info": {
   "codemirror_mode": {
    "name": "ipython",
    "version": 3
   },
   "file_extension": ".py",
   "mimetype": "text/x-python",
   "name": "python",
   "nbconvert_exporter": "python",
   "pygments_lexer": "ipython3",
   "version": "3.10.6"
  }
 },
 "nbformat": 4,
 "nbformat_minor": 5
}
