{
 "cells": [
  {
   "cell_type": "markdown",
   "id": "720129b6",
   "metadata": {},
   "source": [
    "\n",
    "# Wavelength study for concentric glass tubes in air\n",
    "\n",
    "N6 configuration in paper by Bird."
   ]
  },
  {
   "cell_type": "code",
   "execution_count": null,
   "id": "664ce3d7",
   "metadata": {},
   "outputs": [],
   "source": [
    "import numpy as np\n",
    "\n",
    "from fiberamp.fiber.microstruct.bragg import BraggExact\n",
    "from step_exact import plotlogf\n",
    "from ngsolve.webgui import Draw\n",
    "from ngsolve import CF\n",
    "from scipy.optimize import newton\n"
   ]
  },
  {
   "cell_type": "markdown",
   "id": "bc2ce67e",
   "metadata": {},
   "source": [
    "# Initialize Parameters"
   ]
  },
  {
   "cell_type": "code",
   "execution_count": null,
   "id": "8dc387b5",
   "metadata": {},
   "outputs": [],
   "source": [
    "n_air = 1.00027717\n",
    "n_glass = 1.4388164768221814\n",
    "\n",
    "ts = [15*2.7183333333333333e-6,\n",
    "      10e-6,\n",
    "      10e-6,\n",
    "      10e-6, \n",
    "      10e-6,\n",
    "      10e-6, \n",
    "      10e-6\n",
    "     ]\n",
    "mats = ['air', 'glass', 'air', 'glass', 'air', 'glass', 'air']\n",
    "ns = [lambda x:n_air, lambda x:n_glass, lambda x:n_air, lambda x:n_glass, lambda x:n_air,\n",
    "      lambda x:n_glass, lambda x:n_air]\n",
    "maxhs = [.2, .02, .1, .02, .1,.02, .1]\n",
    "\n",
    "n = 300\n",
    "wls = np.linspace(1.4e-6, 2e-6, n+1)"
   ]
  },
  {
   "cell_type": "markdown",
   "id": "bc687921",
   "metadata": {},
   "source": [
    "# Mode Finding and Viewing"
   ]
  },
  {
   "cell_type": "code",
   "execution_count": null,
   "id": "e74065e7",
   "metadata": {},
   "outputs": [],
   "source": [
    "i = 200\n",
    "A = BraggExact(ts=ts, ns=ns, mats=mats, maxhs=maxhs, wl=wls[i])\n"
   ]
  },
  {
   "cell_type": "code",
   "execution_count": null,
   "id": "9e68f5cc",
   "metadata": {},
   "outputs": [],
   "source": [
    "Draw(CF([n for n in A.ns]), A.mesh)"
   ]
  },
  {
   "cell_type": "code",
   "execution_count": null,
   "id": "7017a529",
   "metadata": {},
   "outputs": [],
   "source": [
    "k_low = A.k0 * A.ns[0] * A.scale\n",
    "k_low"
   ]
  },
  {
   "cell_type": "code",
   "execution_count": null,
   "id": "cab9eb3d",
   "metadata": {},
   "outputs": [],
   "source": [
    "outer = 'h2'\n",
    "nu = 1"
   ]
  },
  {
   "cell_type": "code",
   "execution_count": null,
   "id": "7ac1de67",
   "metadata": {},
   "outputs": [],
   "source": [
    "k_low = A.k0 * A.ns[0] * A.scale\n",
    "\n",
    "plotlogf(A.determinant, .9995*k_low, 1.0001*k_low, -.01,.01, nu, outer,\n",
    "         iref=100, rref=100, levels=100)"
   ]
  },
  {
   "cell_type": "code",
   "execution_count": null,
   "id": "f5d0ebf1",
   "metadata": {},
   "outputs": [],
   "source": [
    "guess = np.array(.9999*k_low)\n",
    "\n",
    "beta1 = newton(A.determinant, guess, args=(nu, outer), tol = 1e-15)\n",
    "\n",
    "print(\"Scaled beta: \", beta1, \". Residual of determinant: \", abs(A.determinant(beta1, nu, outer)))\n"
   ]
  },
  {
   "cell_type": "markdown",
   "id": "359c3ee0",
   "metadata": {},
   "source": [
    "# Bragg Exact Fields"
   ]
  },
  {
   "cell_type": "code",
   "execution_count": null,
   "id": "f67b98d6",
   "metadata": {},
   "outputs": [],
   "source": [
    "Fs = A.all_fields(beta1, nu, outer)"
   ]
  },
  {
   "cell_type": "markdown",
   "id": "394b8d61",
   "metadata": {},
   "source": [
    "## Z-Components"
   ]
  },
  {
   "cell_type": "code",
   "execution_count": null,
   "id": "584da24d",
   "metadata": {},
   "outputs": [],
   "source": [
    "Draw(1e1*Fs['Ez'], A.mesh)"
   ]
  },
  {
   "cell_type": "code",
   "execution_count": null,
   "id": "03c5c821",
   "metadata": {},
   "outputs": [],
   "source": [
    "Draw(Fs['Ephi'].imag, A.mesh)"
   ]
  },
  {
   "cell_type": "code",
   "execution_count": null,
   "id": "bfab8c4c",
   "metadata": {},
   "outputs": [],
   "source": [
    "Draw(Fs['Hz'], A.mesh)"
   ]
  },
  {
   "cell_type": "code",
   "execution_count": null,
   "id": "9883359d",
   "metadata": {},
   "outputs": [],
   "source": [
    "Draw(Fs['Hphi'].imag, A.mesh)"
   ]
  },
  {
   "cell_type": "markdown",
   "id": "5e1562f9",
   "metadata": {},
   "source": [
    "## Hybrid Transverse fields"
   ]
  },
  {
   "cell_type": "code",
   "execution_count": null,
   "id": "877a28b6",
   "metadata": {},
   "outputs": [],
   "source": [
    "Draw(Fs['Etv'].real, A.mesh, vectors={'grid_size':100})\n"
   ]
  },
  {
   "cell_type": "code",
   "execution_count": null,
   "id": "bc08c939",
   "metadata": {},
   "outputs": [],
   "source": [
    "Draw(-Fs['Ey'], A.mesh)"
   ]
  },
  {
   "cell_type": "code",
   "execution_count": null,
   "id": "e2d1b4ac",
   "metadata": {},
   "outputs": [],
   "source": [
    "Draw(Fs['Htv'].real, A.mesh, vectors={'grid_size':100})"
   ]
  },
  {
   "cell_type": "markdown",
   "id": "0fc716a6",
   "metadata": {},
   "source": [
    "# TE/TM fields"
   ]
  },
  {
   "cell_type": "code",
   "execution_count": null,
   "id": "886ed27d",
   "metadata": {},
   "outputs": [],
   "source": [
    "outer = 'h2'\n",
    "nu = 0"
   ]
  },
  {
   "cell_type": "code",
   "execution_count": null,
   "id": "1417f9b8",
   "metadata": {},
   "outputs": [],
   "source": [
    "plotlogf(A.determinant, .995*k_low, 1.0001*k_low, -.1,.1, nu, outer,\n",
    "         iref=100, rref=100, levels=100)"
   ]
  },
  {
   "cell_type": "markdown",
   "id": "ad0c1cf1",
   "metadata": {},
   "source": [
    "## What appears to be one root is actually two."
   ]
  },
  {
   "cell_type": "code",
   "execution_count": null,
   "id": "83c521d3",
   "metadata": {},
   "outputs": [],
   "source": [
    "plotlogf(A.determinant, .997*k_low, .998*k_low, -.01,.01, nu, outer,\n",
    "         iref=100, rref=100, levels=100)"
   ]
  },
  {
   "cell_type": "code",
   "execution_count": null,
   "id": "c67eb6e0",
   "metadata": {},
   "outputs": [],
   "source": [
    "guess = np.array(52.23)\n",
    "\n",
    "beta1 = newton(A.determinant, guess, args=(nu, outer), tol = 1e-15)\n",
    "\n",
    "print(\"Scaled beta: \", beta1, \". Residual of determinant: \", abs(A.determinant(beta1, nu, outer)))\n"
   ]
  },
  {
   "cell_type": "code",
   "execution_count": null,
   "id": "f913cdb4",
   "metadata": {},
   "outputs": [],
   "source": [
    "guess = np.array(52.24)\n",
    "\n",
    "beta2 = newton(A.determinant, guess, args=(nu, outer), tol = 1e-15)\n",
    "\n",
    "print(\"Scaled beta: \", beta2, \". Residual of determinant: \", abs(A.determinant(beta2, nu, outer)))\n"
   ]
  },
  {
   "cell_type": "markdown",
   "id": "0129e960",
   "metadata": {},
   "source": [
    "# Fields for lower beta: It's TE"
   ]
  },
  {
   "cell_type": "code",
   "execution_count": null,
   "id": "e6086505",
   "metadata": {},
   "outputs": [],
   "source": [
    "Fs = A.all_fields(beta1, nu, outer)"
   ]
  },
  {
   "cell_type": "markdown",
   "id": "0b1cd5a5",
   "metadata": {},
   "source": [
    "## Z-Components"
   ]
  },
  {
   "cell_type": "code",
   "execution_count": null,
   "id": "5c384901",
   "metadata": {},
   "outputs": [],
   "source": [
    "Draw(1e1*Fs['Ez'], A.mesh)"
   ]
  },
  {
   "cell_type": "code",
   "execution_count": null,
   "id": "970d60a0",
   "metadata": {},
   "outputs": [],
   "source": [
    "Draw(Fs['Hz'], A.mesh)"
   ]
  },
  {
   "cell_type": "markdown",
   "id": "3e9c1697",
   "metadata": {},
   "source": [
    "## Transverse fields\n",
    "\n",
    "### Etv imaginary, then Etv real"
   ]
  },
  {
   "cell_type": "code",
   "execution_count": null,
   "id": "b0ce22dd",
   "metadata": {},
   "outputs": [],
   "source": [
    "Draw(Fs['Etv'].imag, A.mesh, vectors={'grid_size':100})\n"
   ]
  },
  {
   "cell_type": "code",
   "execution_count": null,
   "id": "f95da5ac",
   "metadata": {},
   "outputs": [],
   "source": [
    "Draw(Fs['Etv'].real, A.mesh, vectors={'grid_size':100})\n"
   ]
  },
  {
   "cell_type": "markdown",
   "id": "30db9ed2",
   "metadata": {},
   "source": [
    "### Htv imaginary, then Htv real"
   ]
  },
  {
   "cell_type": "code",
   "execution_count": null,
   "id": "1b331909",
   "metadata": {},
   "outputs": [],
   "source": [
    "Draw(Fs['Htv'].imag, A.mesh, vectors={'grid_size':100})"
   ]
  },
  {
   "cell_type": "code",
   "execution_count": null,
   "id": "805e5901",
   "metadata": {},
   "outputs": [],
   "source": [
    "Draw(Fs['Htv'].real, A.mesh, vectors={'grid_size':100})"
   ]
  },
  {
   "cell_type": "markdown",
   "id": "71c80b95",
   "metadata": {},
   "source": [
    "# Fields for higher beta: TM"
   ]
  },
  {
   "cell_type": "code",
   "execution_count": null,
   "id": "7323927a",
   "metadata": {},
   "outputs": [],
   "source": [
    "Fs = A.all_fields(beta2, nu, outer)"
   ]
  },
  {
   "cell_type": "markdown",
   "id": "236a5ca7",
   "metadata": {},
   "source": [
    "## Z-Components"
   ]
  },
  {
   "cell_type": "code",
   "execution_count": null,
   "id": "549dd817",
   "metadata": {},
   "outputs": [],
   "source": [
    "Draw(1e1*Fs['Ez'], A.mesh)"
   ]
  },
  {
   "cell_type": "code",
   "execution_count": null,
   "id": "cbe041a5",
   "metadata": {},
   "outputs": [],
   "source": [
    "Draw(Fs['Hz'], A.mesh)"
   ]
  },
  {
   "cell_type": "markdown",
   "id": "293f7f64",
   "metadata": {},
   "source": [
    "## Transverse fields\n",
    "\n",
    "### Etv imaginary and then real"
   ]
  },
  {
   "cell_type": "code",
   "execution_count": null,
   "id": "123c4d1d",
   "metadata": {},
   "outputs": [],
   "source": [
    "Draw(Fs['Etv'].imag, A.mesh, vectors={'grid_size':100})\n"
   ]
  },
  {
   "cell_type": "code",
   "execution_count": null,
   "id": "1185aa62",
   "metadata": {},
   "outputs": [],
   "source": [
    "Draw(Fs['Etv'].real, A.mesh, vectors={'grid_size':100})"
   ]
  },
  {
   "cell_type": "markdown",
   "id": "b250a63e",
   "metadata": {},
   "source": [
    "### Htv imaginary and the real"
   ]
  },
  {
   "cell_type": "code",
   "execution_count": null,
   "id": "2e37b931",
   "metadata": {},
   "outputs": [],
   "source": [
    "Draw(Fs['Htv'].imag, A.mesh, vectors={'grid_size':100})\n"
   ]
  },
  {
   "cell_type": "code",
   "execution_count": null,
   "id": "0cc5bf66",
   "metadata": {},
   "outputs": [],
   "source": [
    "Draw(Fs['Htv'].real, A.mesh, vectors={'grid_size':100})"
   ]
  },
  {
   "cell_type": "markdown",
   "id": "ab279d72",
   "metadata": {},
   "source": [
    "# Lower pair of TE/TM fields\n",
    "\n",
    "It appears they come in pairs as we descend the real part of beta, with TM higher in real part, then TE"
   ]
  },
  {
   "cell_type": "code",
   "execution_count": null,
   "id": "e0d3ff39",
   "metadata": {},
   "outputs": [],
   "source": [
    "outer = 'h2'\n",
    "nu = 0"
   ]
  },
  {
   "cell_type": "code",
   "execution_count": null,
   "id": "d69b3ca3",
   "metadata": {},
   "outputs": [],
   "source": [
    "plotlogf(A.determinant, .993*k_low, 1.0001*k_low, -.1,.1, nu, outer,\n",
    "         iref=100, rref=100, levels=100)"
   ]
  },
  {
   "cell_type": "code",
   "execution_count": null,
   "id": "ef1d42f0",
   "metadata": {},
   "outputs": [],
   "source": [
    "plotlogf(A.determinant, .993*k_low, .995*k_low, -.02,.01, nu, outer,\n",
    "         iref=100, rref=100, levels=100)"
   ]
  },
  {
   "cell_type": "code",
   "execution_count": null,
   "id": "f703da5f",
   "metadata": {},
   "outputs": [],
   "source": [
    "guess = np.array(52.02)\n",
    "\n",
    "beta1 = newton(A.determinant, guess, args=(nu, outer), tol = 1e-15)\n",
    "\n",
    "print(\"Scaled beta: \", beta1, \". Residual of determinant: \", abs(A.determinant(beta1, nu, outer)))\n"
   ]
  },
  {
   "cell_type": "code",
   "execution_count": null,
   "id": "989fed79",
   "metadata": {},
   "outputs": [],
   "source": [
    "guess = np.array(52.06)\n",
    "\n",
    "beta2 = newton(A.determinant, guess, args=(nu, outer), tol = 1e-15)\n",
    "\n",
    "print(\"Scaled beta: \", beta2, \". Residual of determinant: \", abs(A.determinant(beta2, nu, outer)))\n"
   ]
  },
  {
   "cell_type": "markdown",
   "id": "4699e95e",
   "metadata": {},
   "source": [
    "# Fields for lower beta: It's TE"
   ]
  },
  {
   "cell_type": "code",
   "execution_count": null,
   "id": "affd6d72",
   "metadata": {},
   "outputs": [],
   "source": [
    "Fs = A.all_fields(beta1, nu, outer)"
   ]
  },
  {
   "cell_type": "markdown",
   "id": "6dfd6dc8",
   "metadata": {},
   "source": [
    "## Z-Components"
   ]
  },
  {
   "cell_type": "code",
   "execution_count": null,
   "id": "b974ce8a",
   "metadata": {},
   "outputs": [],
   "source": [
    "Draw(1e1*Fs['Ez'], A.mesh)"
   ]
  },
  {
   "cell_type": "code",
   "execution_count": null,
   "id": "9fea881b",
   "metadata": {},
   "outputs": [],
   "source": [
    "Draw(Fs['Hz'], A.mesh)"
   ]
  },
  {
   "cell_type": "markdown",
   "id": "d41bdad5",
   "metadata": {},
   "source": [
    "## Transverse fields\n",
    "\n",
    "### Etv imaginary, then Etv real"
   ]
  },
  {
   "cell_type": "code",
   "execution_count": null,
   "id": "20e89e20",
   "metadata": {},
   "outputs": [],
   "source": [
    "Draw(Fs['Etv'].imag, A.mesh, vectors={'grid_size':100})\n"
   ]
  },
  {
   "cell_type": "code",
   "execution_count": null,
   "id": "96c3b6ac",
   "metadata": {},
   "outputs": [],
   "source": [
    "Draw(Fs['Etv'].real, A.mesh, vectors={'grid_size':100})\n"
   ]
  },
  {
   "cell_type": "markdown",
   "id": "ff554203",
   "metadata": {},
   "source": [
    "### Htv imaginary, then Htv real"
   ]
  },
  {
   "cell_type": "code",
   "execution_count": null,
   "id": "8166a2c6",
   "metadata": {},
   "outputs": [],
   "source": [
    "Draw(Fs['Htv'].imag, A.mesh, vectors={'grid_size':100})"
   ]
  },
  {
   "cell_type": "code",
   "execution_count": null,
   "id": "681d0ac1",
   "metadata": {},
   "outputs": [],
   "source": [
    "Draw(Fs['Htv'].real, A.mesh, vectors={'grid_size':100})"
   ]
  },
  {
   "cell_type": "markdown",
   "id": "232aafad",
   "metadata": {},
   "source": [
    "# Fields for higher beta: TM"
   ]
  },
  {
   "cell_type": "code",
   "execution_count": null,
   "id": "9f5bbbd4",
   "metadata": {},
   "outputs": [],
   "source": [
    "Fs = A.all_fields(beta2, nu, outer)"
   ]
  },
  {
   "cell_type": "markdown",
   "id": "078a1aac",
   "metadata": {},
   "source": [
    "## Z-Components"
   ]
  },
  {
   "cell_type": "code",
   "execution_count": null,
   "id": "521d84de",
   "metadata": {},
   "outputs": [],
   "source": [
    "Draw(1e1*Fs['Ez'], A.mesh)"
   ]
  },
  {
   "cell_type": "code",
   "execution_count": null,
   "id": "ea8e9b36",
   "metadata": {},
   "outputs": [],
   "source": [
    "Draw(Fs['Hz'], A.mesh)"
   ]
  },
  {
   "cell_type": "markdown",
   "id": "b3ac886c",
   "metadata": {},
   "source": [
    "## Transverse fields\n",
    "\n",
    "### Etv imaginary and then real"
   ]
  },
  {
   "cell_type": "code",
   "execution_count": null,
   "id": "7bfcea48",
   "metadata": {},
   "outputs": [],
   "source": [
    "Draw(Fs['Etv'].imag, A.mesh, vectors={'grid_size':100})\n"
   ]
  },
  {
   "cell_type": "code",
   "execution_count": null,
   "id": "54f759ad",
   "metadata": {},
   "outputs": [],
   "source": [
    "Draw(Fs['Etv'].real, A.mesh, vectors={'grid_size':100})"
   ]
  },
  {
   "cell_type": "markdown",
   "id": "618b4b72",
   "metadata": {},
   "source": [
    "### Htv imaginary and the real"
   ]
  },
  {
   "cell_type": "code",
   "execution_count": null,
   "id": "5065eb54",
   "metadata": {},
   "outputs": [],
   "source": [
    "Draw(Fs['Htv'].imag, A.mesh, vectors={'grid_size':100})\n"
   ]
  },
  {
   "cell_type": "code",
   "execution_count": null,
   "id": "40fbd5b7",
   "metadata": {},
   "outputs": [],
   "source": [
    "Draw(Fs['Htv'].real, A.mesh, vectors={'grid_size':100})"
   ]
  },
  {
   "cell_type": "code",
   "execution_count": null,
   "id": "0b87f759",
   "metadata": {},
   "outputs": [],
   "source": []
  }
 ],
 "metadata": {
  "kernelspec": {
   "display_name": "Python 3 (ipykernel)",
   "language": "python",
   "name": "python3"
  },
  "language_info": {
   "codemirror_mode": {
    "name": "ipython",
    "version": 3
   },
   "file_extension": ".py",
   "mimetype": "text/x-python",
   "name": "python",
   "nbconvert_exporter": "python",
   "pygments_lexer": "ipython3",
   "version": "3.8.10"
  }
 },
 "nbformat": 4,
 "nbformat_minor": 5
}
