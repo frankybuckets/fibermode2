{
 "cells": [
  {
   "cell_type": "markdown",
   "id": "720129b6",
   "metadata": {},
   "source": [
    "# Do the wavelength study for the hollow glass tube with polymer\n",
    "\n",
    "Do it for both lossy and non-lossy polymer.  Both with air outside."
   ]
  },
  {
   "cell_type": "code",
   "execution_count": null,
   "id": "664ce3d7",
   "metadata": {},
   "outputs": [],
   "source": [
    "import numpy as np\n",
    "import matplotlib.pyplot as plt\n",
    "\n",
    "\n",
    "from fiberamp.fiber.microstruct.bragg import BraggExact\n",
    "from step_exact import plotlogf\n",
    "from scipy.optimize import newton"
   ]
  },
  {
   "cell_type": "code",
   "execution_count": null,
   "id": "f9b3ce9f",
   "metadata": {},
   "outputs": [],
   "source": [
    "from IPython.display import display, HTML\n",
    "display(HTML(\"<style>.container { width:90% !important; }</style>\"))"
   ]
  },
  {
   "cell_type": "markdown",
   "id": "d358a48f",
   "metadata": {},
   "source": [
    "# Wavelength Study Function"
   ]
  },
  {
   "cell_type": "code",
   "execution_count": null,
   "id": "7d6664a2",
   "metadata": {},
   "outputs": [],
   "source": [
    "def wl_study(s=0, d=4.0775e-05, L=1.4e-6, R=2e-6, n=300, verbose=False):\n",
    "    \"\"\"Perform wavelength study with polymer thickness d and loss s.\"\"\"\n",
    "    print('Performing wavelength study with polymer thickness %e and extinction coefficient %.4f\\n\\n' %(d, s),\n",
    "         end='\\r')\n",
    "    wls = np.linspace(L, R, n+1)\n",
    "    betas = np.zeros_like(wls, dtype=complex)\n",
    "    outer = 'h2'\n",
    "    nu = 1\n",
    "\n",
    "    n_air = 1.00027717\n",
    "    n_glass = 1.4388164768221814\n",
    "    n_poly = 1.5 - s * 1j\n",
    "    \n",
    "    ts = [4.0775e-05, 1e-5, d, 3e-5]\n",
    "    ns = [lambda x:n_air, lambda x:n_glass, lambda x:n_poly, lambda x:n_air]\n",
    "    mats = ['air','glass', 'polymer','air']\n",
    "    maxhs = [10,10,10,10]\n",
    "    \n",
    "    for i, wl in enumerate(wls):\n",
    "        if verbose:\n",
    "            print(20 * ' ' +  + 20 * '-' + '  ' + str(i+1) + '/' + str(n+1) + ': ' +\n",
    "                  'wavelength: ' +  str(wls[i]) + '  ' +  20 * '-' +5 * ' '+'\\n')\n",
    "        else:\n",
    "            print(20 * ' ' +  + 20 * '-' + '  ' + str(i+1) + '/' + str(n+1) + '  ' +  20 * '-' +5 * ' ',\n",
    "                 end=\"\\r\")\n",
    "            \n",
    "        A = BraggExact(ts=ts, ns=ns , mats=mats,maxhs=maxhs, wl=wl)\n",
    "        k_low = A.ks[0] * A.scale\n",
    "        guess = np.array(.9999 * k_low)\n",
    "        imag = 0\n",
    "        flag = True\n",
    "        reduce = 0\n",
    "\n",
    "        while flag:\n",
    "            try:\n",
    "                x0 = np.array(guess + imag*1j)\n",
    "                beta = newton(A.determinant, x0, args=(nu, outer), tol = 1e-17)\n",
    "                if beta.real > k_low:\n",
    "                    if verbose:\n",
    "                        print(\"Captured wrong mode, retrying.\")\n",
    "                    raise RuntimeError\n",
    "                elif beta.imag > 0:\n",
    "                    if verbose:\n",
    "                        print(\"Positive imaginary part, retrying.\")\n",
    "                    imag = -beta.imag\n",
    "                    guess *= 1/.999995\n",
    "                    raise RuntimeError\n",
    "                else:\n",
    "                    if verbose:\n",
    "                        print(\"Scaled beta: \", beta, \". Residual of determinant: \", \n",
    "                              abs(A.determinant(beta, nu, outer)), '\\n\\n' )\n",
    "                    imag = beta.imag\n",
    "                    flag=False\n",
    "            except RuntimeError:\n",
    "                guess *= .999995\n",
    "                reduce += 1\n",
    "                if verbose:\n",
    "                    print(\"scaling guess: \" + str(reduce), flush=True)\n",
    "        betas[i] = beta\n",
    "    return betas, wls\n",
    "    "
   ]
  },
  {
   "cell_type": "markdown",
   "id": "99461d32",
   "metadata": {},
   "source": [
    "# Run multiple loss studies at varying thickness"
   ]
  },
  {
   "cell_type": "code",
   "execution_count": null,
   "id": "754e68c6",
   "metadata": {},
   "outputs": [],
   "source": [
    "Ss = [0, .001, .005, .01]\n",
    "D = 4.0775e-05\n",
    "Ds = [.25 * D, .5 * D, D, 1.5 * D]\n",
    "n = 300\n",
    "\n",
    "results = np.zeros((len(Ds), len(Ss), n+1), dtype=complex)"
   ]
  },
  {
   "cell_type": "code",
   "execution_count": null,
   "id": "8f8833a7",
   "metadata": {},
   "outputs": [],
   "source": [
    "for i in range(len(Ds)):\n",
    "    for j in range(len(Ss)):\n",
    "        results[i,j,:], _ = wl_study(d=Ds[i], s=Ss[j], n=n)"
   ]
  },
  {
   "cell_type": "code",
   "execution_count": null,
   "id": "a42a258c",
   "metadata": {},
   "outputs": [],
   "source": [
    "np.save('results', results)\n",
    "np.save('Ds', Ds)\n",
    "np.save('Ss', Ss)"
   ]
  },
  {
   "cell_type": "markdown",
   "id": "c9efbb3f",
   "metadata": {},
   "source": [
    "# Comparison Graph"
   ]
  },
  {
   "cell_type": "code",
   "execution_count": null,
   "id": "ebe60acd",
   "metadata": {},
   "outputs": [],
   "source": [
    "import numpy as np\n",
    "import matplotlib.pyplot as plt\n",
    "\n",
    "results_loaded = np.load('results.npy')\n",
    "Ds_loaded = np.load('Ds.npy')\n",
    "Ss_loaded = np.load('Ss.npy')"
   ]
  },
  {
   "cell_type": "code",
   "execution_count": null,
   "id": "f734d850",
   "metadata": {},
   "outputs": [],
   "source": [
    "def graph(results, Ds, Ss, L=1.4e-6, R=2e-6, figsize=(14,12), n_row=2):\n",
    "    d_len, s_len = len(Ds), len(Ss)\n",
    "    n = results.shape[-1] # Get number of thicknesses and loss values in total\n",
    "    \n",
    "    wls = np.linspace(L, R, n)  # Get wavelengths for x axis\n",
    "    \n",
    "    q, r = divmod(d_len,n_row)\n",
    "    n_col = q + int(r!=0)  # Get shape of array of figures (given number of rows supplied)\n",
    "    \n",
    "    fig, axs = plt.subplots(figsize=figsize, nrows=n_row, ncols=n_col)\n",
    "    \n",
    "    for i, d in enumerate(Ds):\n",
    "        index = divmod(i, n_row)\n",
    "        for j, s in enumerate(Ss):\n",
    "            betas = results[i,j]\n",
    "            axs[index].plot(wls, -betas.imag, label='s=%.3f'%s, linewidth=.9)\n",
    "        axs[index].legend()\n",
    "        axs[index].set_title('Thickness %.3e' %d)\n",
    "        axs[index].set_yscale('log')\n",
    "    plt.suptitle('Wavength Loss Profiles for Hollow Glass Ring\\nCoated with Polymer of Various Thicknesses and Loss Coefficient')\n"
   ]
  },
  {
   "cell_type": "code",
   "execution_count": null,
   "id": "9f3f0a37",
   "metadata": {},
   "outputs": [],
   "source": [
    "graph(results_loaded, Ds_loaded, Ss_loaded)"
   ]
  },
  {
   "cell_type": "code",
   "execution_count": null,
   "id": "21f81ec4",
   "metadata": {},
   "outputs": [],
   "source": []
  }
 ],
 "metadata": {
  "kernelspec": {
   "display_name": "Python 3 (ipykernel)",
   "language": "python",
   "name": "python3"
  },
  "language_info": {
   "codemirror_mode": {
    "name": "ipython",
    "version": 3
   },
   "file_extension": ".py",
   "mimetype": "text/x-python",
   "name": "python",
   "nbconvert_exporter": "python",
   "pygments_lexer": "ipython3",
   "version": "3.8.10"
  }
 },
 "nbformat": 4,
 "nbformat_minor": 5
}
