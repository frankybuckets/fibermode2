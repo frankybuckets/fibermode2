{
 "cells": [
  {
   "cell_type": "code",
   "execution_count": null,
   "id": "b182a926",
   "metadata": {},
   "outputs": [],
   "source": [
    "import numpy as np\n",
    "import os\n",
    "import matplotlib.pyplot as plt"
   ]
  },
  {
   "cell_type": "code",
   "execution_count": null,
   "id": "86e0aaa9",
   "metadata": {},
   "outputs": [],
   "source": [
    "info = np.genfromtxt('PMMA.csv', delimiter=',', skip_header=1)"
   ]
  },
  {
   "cell_type": "code",
   "execution_count": null,
   "id": "b56f2698",
   "metadata": {},
   "outputs": [],
   "source": [
    "L, R = 1, 3.6\n",
    "\n",
    "r, c = (R - L) / 2, (R + L) / 2  # center c and radius r to find range of coeffs we want to view"
   ]
  },
  {
   "cell_type": "code",
   "execution_count": null,
   "id": "b2a6a330",
   "metadata": {},
   "outputs": [],
   "source": [
    "pmma = info[np.where(np.abs(info[:,0]-c)<r)]"
   ]
  },
  {
   "cell_type": "code",
   "execution_count": null,
   "id": "d306921b",
   "metadata": {},
   "outputs": [],
   "source": [
    "plt.plot(pmma[:,0], pmma[:,2])\n",
    "plt.yscale('log')"
   ]
  },
  {
   "cell_type": "code",
   "execution_count": null,
   "id": "c6544192",
   "metadata": {},
   "outputs": [],
   "source": [
    "info = np.genfromtxt('PVC.csv', delimiter=',', skip_header=1)"
   ]
  },
  {
   "cell_type": "code",
   "execution_count": null,
   "id": "ae435a82",
   "metadata": {},
   "outputs": [],
   "source": [
    "L, R = 1, 3.6\n",
    "\n",
    "r, c = (R - L) / 2, (R + L) / 2  # center c and radius r to find range of coeffs we want to view"
   ]
  },
  {
   "cell_type": "code",
   "execution_count": null,
   "id": "abed12f6",
   "metadata": {},
   "outputs": [],
   "source": [
    "pvc= info[np.where(np.abs(info[:,0]-c)<r)]"
   ]
  },
  {
   "cell_type": "code",
   "execution_count": null,
   "id": "3f9bcd66",
   "metadata": {},
   "outputs": [],
   "source": [
    "np.mean(pvc[:,2])"
   ]
  },
  {
   "cell_type": "code",
   "execution_count": null,
   "id": "ecfde16b",
   "metadata": {},
   "outputs": [],
   "source": [
    "plt.plot(pvc[:,0], pvc[:,2])\n",
    "plt.yscale('log')"
   ]
  },
  {
   "cell_type": "code",
   "execution_count": null,
   "id": "efa1449a",
   "metadata": {},
   "outputs": [],
   "source": [
    "def PVC(wl):\n",
    "    pvc_wls = pvc[:,0]\n",
    "    arg = np.argmin(np.abs(pvc_wls - wl))\n",
    "    cwl = pvc_wls[arg]\n",
    "    if wl > cwl:\n",
    "        nwl =  pvc_wls[arg+1]\n",
    "        return  (pvc[arg+1, :] - pvc[arg, :])*(wl-cwl)/(nwl-cwl) + pvc[arg, :]\n",
    "    else:\n",
    "        pwl =  pvc_wls[arg-1]\n",
    "        return  (pvc[arg, :] - pvc[arg-1, :])*(wl-pwl)/(wl-pwl) + pvc[arg-1, :]"
   ]
  },
  {
   "cell_type": "code",
   "execution_count": null,
   "id": "c70248f8",
   "metadata": {},
   "outputs": [],
   "source": [
    "PVC(3.544)"
   ]
  },
  {
   "cell_type": "markdown",
   "id": "c3f216f1",
   "metadata": {},
   "source": [
    "# Save as .dat files for paper"
   ]
  },
  {
   "cell_type": "code",
   "execution_count": null,
   "id": "b39491d4",
   "metadata": {},
   "outputs": [],
   "source": [
    "paper_path = os.path.relpath(os.path.expanduser('~/papers/outer_materials/\\\n",
    "figures/data/refidx'))\n",
    "\n",
    "np.savetxt(paper_path + '/PMMA_n.dat', pmma[:,:2], fmt='%.8f')\n",
    "np.savetxt(paper_path + '/PMMA_k.dat', pmma[:,[0,2]], fmt='%.8f')\n"
   ]
  },
  {
   "cell_type": "code",
   "execution_count": null,
   "id": "3aecfc66",
   "metadata": {},
   "outputs": [],
   "source": [
    "paper_path = os.path.relpath(os.path.expanduser('~/papers/outer_materials/\\\n",
    "figures/data/refidx'))\n",
    "\n",
    "np.savetxt(paper_path + '/PVC_n.dat', pvc[:,:2], fmt='%.8f')\n",
    "np.savetxt(paper_path + '/PVC_k.dat', pvc[:,[0,2]], fmt='%.8f')\n"
   ]
  },
  {
   "cell_type": "code",
   "execution_count": null,
   "id": "5bb210c0",
   "metadata": {},
   "outputs": [],
   "source": []
  }
 ],
 "metadata": {
  "kernelspec": {
   "display_name": "Python 3 (ipykernel)",
   "language": "python",
   "name": "python3"
  },
  "language_info": {
   "codemirror_mode": {
    "name": "ipython",
    "version": 3
   },
   "file_extension": ".py",
   "mimetype": "text/x-python",
   "name": "python",
   "nbconvert_exporter": "python",
   "pygments_lexer": "ipython3",
   "version": "3.8.10"
  }
 },
 "nbformat": 4,
 "nbformat_minor": 5
}
