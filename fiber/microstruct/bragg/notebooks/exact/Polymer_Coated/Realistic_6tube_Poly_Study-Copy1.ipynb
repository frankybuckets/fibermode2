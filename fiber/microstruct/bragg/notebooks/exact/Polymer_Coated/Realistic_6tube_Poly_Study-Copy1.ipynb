{
 "cells": [
  {
   "cell_type": "markdown",
   "id": "720129b6",
   "metadata": {},
   "source": [
    "# Do the realistic lossy polymer wl study\n",
    "\n",
    "We have 6 and 8 tube fibers. Now doing the 6 tube"
   ]
  },
  {
   "cell_type": "code",
   "execution_count": null,
   "id": "664ce3d7",
   "metadata": {},
   "outputs": [],
   "source": [
    "import numpy as np\n",
    "import matplotlib.pyplot as plt\n",
    "from ngsolve.webgui import Draw\n",
    "from ngsolve import CF\n",
    "\n",
    "from fiberamp.fiber.microstruct.bragg import BraggExact\n",
    "from step_exact import plotlogf\n",
    "from scipy.optimize import newton"
   ]
  },
  {
   "cell_type": "markdown",
   "id": "d358a48f",
   "metadata": {},
   "source": [
    "# Mode Profiles"
   ]
  },
  {
   "cell_type": "code",
   "execution_count": null,
   "id": "30f4dd59",
   "metadata": {},
   "outputs": [],
   "source": [
    "n_air = 1.00027717\n",
    "n_glass = 1.4388164768221814\n",
    "n_poly = 1.5 - 2.4e-3\n",
    "\n",
    "ts = [15e-6, .42e-6, 12.48e-6, 10e-6, 60e-6, 10e-6]\n",
    "ns = [lambda x:n_air, lambda x:n_glass,\n",
    "      lambda x:n_air, lambda x:n_glass,\n",
    "      lambda x:n_poly, lambda x:n_air]\n",
    "\n",
    "mats = ['air','glass','air','glass','polymer','air']\n",
    "maxhs = [.2, .1, .2, .1, .1, 10]\n",
    "scale = 15e-6\n",
    "wl = 1.8e-6"
   ]
  },
  {
   "cell_type": "code",
   "execution_count": null,
   "id": "f00dbe86",
   "metadata": {},
   "outputs": [],
   "source": [
    "A = BraggExact(ts=ts, ns=ns, mats=mats, maxhs=maxhs, scale=scale, wl=wl)\n"
   ]
  },
  {
   "cell_type": "code",
   "execution_count": null,
   "id": "a80b967b",
   "metadata": {},
   "outputs": [],
   "source": [
    "Draw(CF(list(A.ns)), A.mesh)"
   ]
  },
  {
   "cell_type": "code",
   "execution_count": null,
   "id": "7aab4025",
   "metadata": {},
   "outputs": [],
   "source": [
    "# k_low = A.k0 * A.ns[0] * A.scale\n",
    "k_low, k_high = A.k0 * np.min(A.ns.real) * A.scale, A.k0 * np.max(A.ns.real) * A.scale\n",
    "\n",
    "outer = 'h2'\n",
    "Ktype = 'kappa'\n",
    "nu = 1"
   ]
  },
  {
   "cell_type": "code",
   "execution_count": null,
   "id": "f2158848",
   "metadata": {},
   "outputs": [],
   "source": [
    "%matplotlib inline\n",
    "plotlogf(A.determinant, .997*k_low, 1.00001*k_low, -.03,.03, nu, outer,\n",
    "         iref=100, rref=100, levels=100)"
   ]
  },
  {
   "cell_type": "code",
   "execution_count": null,
   "id": "eb49978c",
   "metadata": {},
   "outputs": [],
   "source": [
    "guess = np.array(.9999*k_low)\n",
    "\n",
    "beta1 = newton(A.determinant, guess, args=(nu, outer, Ktype), tol = 1e-16)\n",
    "\n",
    "print(\"Scaled beta: \", beta1, \". Residual of determinant: \", abs(A.determinant(beta1, nu, outer, Ktype)))\n"
   ]
  },
  {
   "cell_type": "code",
   "execution_count": null,
   "id": "91195663",
   "metadata": {},
   "outputs": [],
   "source": [
    "Fs = A.all_fields(beta1, nu=nu, outer=outer, Ktype=Ktype)"
   ]
  },
  {
   "cell_type": "code",
   "execution_count": null,
   "id": "3654a4e4",
   "metadata": {},
   "outputs": [],
   "source": [
    "Draw(10*Fs['Ez'], A.mesh)"
   ]
  },
  {
   "cell_type": "markdown",
   "id": "e3f6c259",
   "metadata": {},
   "source": [
    "# Wavelength Studies"
   ]
  },
  {
   "cell_type": "markdown",
   "id": "52ce2f6c",
   "metadata": {},
   "source": [
    "## N2 reference fiber"
   ]
  },
  {
   "cell_type": "code",
   "execution_count": null,
   "id": "84e53c4f",
   "metadata": {},
   "outputs": [],
   "source": [
    "n = 300\n",
    "wls = np.linspace(1e-6, 2e-6, n+1)\n",
    "betasN2 = np.zeros_like(wls, dtype=complex)\n",
    "outer = 'h2'\n",
    "nu = 1\n",
    "\n",
    "n_air = 1.00027717\n",
    "n_glass = 1.4388164768221814"
   ]
  },
  {
   "cell_type": "code",
   "execution_count": null,
   "id": "c0e4044d",
   "metadata": {},
   "outputs": [],
   "source": [
    "ts = [15e-6, .42e-6, 12.48e-6, 10e-6]\n",
    "ns = [lambda x:n_air, lambda x:n_glass,\n",
    "      lambda x:n_air, lambda x:n_glass]\n",
    "\n",
    "mats = ['air','glass','air','glass']\n",
    "maxhs = [.2, .1, .2, .1]\n",
    "scale = 15e-6\n"
   ]
  },
  {
   "cell_type": "code",
   "execution_count": null,
   "id": "1c669436",
   "metadata": {},
   "outputs": [],
   "source": [
    "for i, wl in enumerate(wls):\n",
    "    print(5 * ' ' +  + 20 * '-' + '  ' + str(i+1) + '/' + str(n+1) + ': ' +\n",
    "          'wavelength: ' +  str(wls[i]) + '  ' +  20 * '-' +5 * ' '+'\\n')\n",
    "    \n",
    "    A = BraggExact(ts=ts, ns=ns , mats=mats,maxhs=maxhs, wl=wl, scale=scale,\n",
    "                  no_mesh=True)\n",
    "    k_low = A.ks[0] * A.scale\n",
    "    guess = np.array(.99999 * k_low)\n",
    "    imag = 0\n",
    "    flag = True\n",
    "    reduce = 0\n",
    "\n",
    "    while flag:\n",
    "        try:\n",
    "            x0 = np.array(guess + imag*1j)\n",
    "            beta = newton(A.determinant, x0, args=(nu, outer), tol = 1e-17)\n",
    "            if beta.real > k_low:\n",
    "                print(\"Captured wrong mode, retrying.\")\n",
    "                raise RuntimeError\n",
    "            elif beta.imag > 0:\n",
    "                print(\"Positive imaginary part, retrying.\")\n",
    "                imag = -beta.imag\n",
    "                guess *= 1/.99999\n",
    "                raise RuntimeError\n",
    "            else:\n",
    "                print(\"Scaled beta: \", beta, \". Residual of determinant: \", \n",
    "                      abs(A.determinant(beta, nu, outer)), '\\n\\n' )\n",
    "                imag = beta.imag\n",
    "                flag=False\n",
    "        except RuntimeError:\n",
    "            guess *= .99999\n",
    "            reduce += 1\n",
    "            print(\"scaling guess: \" + str(reduce), flush=True)\n",
    "    betasN2[i] = beta\n",
    "    "
   ]
  },
  {
   "cell_type": "code",
   "execution_count": null,
   "id": "c698bd36",
   "metadata": {},
   "outputs": [],
   "source": [
    "%matplotlib notebook\n",
    "plt.figure(figsize=(8,5))\n",
    "plt.plot(wls, -betasN2.imag, color='orange', linewidth=.9)\n",
    "plt.yscale('log')\n"
   ]
  },
  {
   "cell_type": "markdown",
   "id": "ad918e41",
   "metadata": {},
   "source": [
    "# N3 Model"
   ]
  },
  {
   "cell_type": "code",
   "execution_count": null,
   "id": "fa262cb9",
   "metadata": {},
   "outputs": [],
   "source": [
    "n = 300\n",
    "betasN3 = np.zeros_like(wls, dtype=complex)\n",
    "outer = 'h2'\n",
    "nu = 1\n",
    "\n",
    "n_air = 1.00027717\n",
    "n_glass = 1.4388164768221814\n"
   ]
  },
  {
   "cell_type": "code",
   "execution_count": null,
   "id": "808bf705",
   "metadata": {},
   "outputs": [],
   "source": [
    "ts = [15e-6, .42e-6, 12.48e-6, 70e-6, 10e-6]\n",
    "ns = [lambda x:n_air, lambda x:n_glass,\n",
    "      lambda x:n_air, lambda x:n_glass,\n",
    "      lambda x:n_air]\n",
    "\n",
    "mats = ['air','glass','air','glass','air']\n",
    "maxhs = [.2, .01, .2, .01, 10]\n"
   ]
  },
  {
   "cell_type": "markdown",
   "id": "f02570b8",
   "metadata": {},
   "source": [
    "Having a hard time getting the fundamental, it's jumping to a higher order mode, let's look where it is."
   ]
  },
  {
   "cell_type": "code",
   "execution_count": null,
   "id": "751a050a",
   "metadata": {},
   "outputs": [],
   "source": [
    "A = BraggExact(ts=ts, ns=ns , mats=mats, maxhs=maxhs, wl=wls[0], scale=scale,\n",
    "              no_mesh=True)"
   ]
  },
  {
   "cell_type": "code",
   "execution_count": null,
   "id": "2b15c3c8",
   "metadata": {},
   "outputs": [],
   "source": [
    "%matplotlib inline\n",
    "k_low = A.ks[0] * A.scale\n",
    "\n",
    "plotlogf(A.determinant, .9995*k_low, 1.00001*k_low, -.03,.03, nu, outer,\n",
    "         iref=100, rref=100, levels=100)"
   ]
  },
  {
   "cell_type": "markdown",
   "id": "d9bb600e",
   "metadata": {},
   "source": [
    "Lower than I thought, okay"
   ]
  },
  {
   "cell_type": "code",
   "execution_count": null,
   "id": "fc0a22e0",
   "metadata": {},
   "outputs": [],
   "source": [
    "guess = np.array(.9998*k_low)\n",
    "\n",
    "beta1 = newton(A.determinant, guess, args=(nu, outer, Ktype), tol = 1e-16)\n",
    "\n",
    "print(\"Scaled beta: \", beta1, \". Residual of determinant: \", abs(A.determinant(beta1, nu, outer, Ktype)))\n"
   ]
  },
  {
   "cell_type": "code",
   "execution_count": null,
   "id": "27a1d287",
   "metadata": {},
   "outputs": [],
   "source": [
    "for i, wl in enumerate(wls):\n",
    "    print(5 * ' ' +  + 20 * '-' + '  ' + str(i+1) + '/' + str(n+1) + ': ' +\n",
    "          'wavelength: ' +  str(wls[i]) + '  ' +  20 * '-' +5 * ' '+'\\n')\n",
    "    \n",
    "    A = BraggExact(ts=ts, ns=ns , mats=mats, maxhs=maxhs, wl=wl, scale=scale,\n",
    "                  no_mesh=True)\n",
    "    k_low = A.ks[0] * A.scale\n",
    "    guess = np.array(.9999 * k_low)\n",
    "    imag = 0\n",
    "    flag = True\n",
    "    reduce = 0\n",
    "\n",
    "    while flag:\n",
    "        try:\n",
    "            x0 = np.array(guess + imag*1j)\n",
    "            beta = newton(A.determinant, x0, args=(nu, outer), tol = 1e-17)\n",
    "            if beta.real > k_low:\n",
    "                print(\"Captured wrong mode, retrying.\")\n",
    "                raise RuntimeError\n",
    "            elif beta.imag > 0:\n",
    "                print(\"Positive imaginary part, retrying.\")\n",
    "                imag = -beta.imag\n",
    "                guess *= 1/.999995\n",
    "                raise RuntimeError\n",
    "            else:\n",
    "                print(\"Scaled beta: \", beta, \". Residual of determinant: \", \n",
    "                      abs(A.determinant(beta, nu, outer)), '\\n\\n' )\n",
    "                imag = beta.imag\n",
    "                flag=False\n",
    "        except RuntimeError:\n",
    "            guess *= .999995\n",
    "            reduce += 1\n",
    "            print(\"scaling guess: \" + str(reduce), flush=True)\n",
    "    betasN3[i] = beta\n",
    "    "
   ]
  },
  {
   "cell_type": "code",
   "execution_count": null,
   "id": "c8c5ec37",
   "metadata": {},
   "outputs": [],
   "source": [
    "%matplotlib notebook\n",
    "plt.figure(figsize=(8,5))\n",
    "plt.plot(wls, -betasN2.imag, color='orange', linewidth=.9)\n",
    "plt.plot(wls, -betasN3.imag, color='green', linewidth=.9)\n",
    "plt.yscale('log')\n"
   ]
  },
  {
   "cell_type": "markdown",
   "id": "603dd618",
   "metadata": {},
   "source": [
    "# With avg loss from refindx site of PVC"
   ]
  },
  {
   "cell_type": "code",
   "execution_count": null,
   "id": "4462f016",
   "metadata": {},
   "outputs": [],
   "source": [
    "n = 300\n",
    "betas1 = np.zeros_like(wls, dtype=complex)\n",
    "\n",
    "n_air = 1.00027717\n",
    "n_glass = 1.4388164768221814\n",
    "n_poly = 1.5 - 1.3675171717171715e-05j"
   ]
  },
  {
   "cell_type": "code",
   "execution_count": null,
   "id": "c055c873",
   "metadata": {},
   "outputs": [],
   "source": [
    "ts = [15e-6, .42e-6, 12.48e-6, 10e-6, 60e-6, 10e-6]\n",
    "ns = [lambda x:n_air, lambda x:n_glass,\n",
    "      lambda x:n_air, lambda x:n_glass,\n",
    "      lambda x:n_poly, lambda x:n_air]\n",
    "\n",
    "mats = ['air','glass','air','glass','polymer','air']\n",
    "maxhs = [.2, .01, .2, .01, .01, 10]\n",
    "scale = 15e-6\n"
   ]
  },
  {
   "cell_type": "markdown",
   "id": "b47a9b4e",
   "metadata": {},
   "source": [
    "Having a hard time getting the fundamental, it's jumping to a higher order mode, let's look where it is."
   ]
  },
  {
   "cell_type": "code",
   "execution_count": null,
   "id": "a1807aa7",
   "metadata": {},
   "outputs": [],
   "source": [
    "A = BraggExact(ts=ts, ns=ns , mats=mats, maxhs=maxhs, wl=wls[0], scale=scale,\n",
    "              no_mesh=True)"
   ]
  },
  {
   "cell_type": "code",
   "execution_count": null,
   "id": "00b693d2",
   "metadata": {},
   "outputs": [],
   "source": [
    "%matplotlib inline\n",
    "k_low = A.ks[0].real * A.scale\n",
    "\n",
    "plotlogf(A.determinant, .9995*k_low, 1.00001*k_low, -.008,.008, nu, outer,\n",
    "         iref=100, rref=100, levels=100)"
   ]
  },
  {
   "cell_type": "markdown",
   "id": "50e91c4f",
   "metadata": {},
   "source": [
    "Lower than I thought, okay"
   ]
  },
  {
   "cell_type": "code",
   "execution_count": null,
   "id": "20b03154",
   "metadata": {},
   "outputs": [],
   "source": [
    "guess = np.array(.9999*k_low)\n",
    "\n",
    "beta1 = newton(A.determinant, guess, args=(nu, outer, Ktype), tol = 1e-16)\n",
    "\n",
    "print(\"Scaled beta: \", beta1, \". Residual of determinant: \", abs(A.determinant(beta1, nu, outer, Ktype)))\n"
   ]
  },
  {
   "cell_type": "code",
   "execution_count": null,
   "id": "81226ec5",
   "metadata": {},
   "outputs": [],
   "source": [
    "for i, wl in enumerate(wls):\n",
    "    print(5 * ' ' +  + 20 * '-' + '  ' + str(i+1) + '/' + str(n+1) + ': ' +\n",
    "          'wavelength: ' +  str(wls[i]) + '  ' +  20 * '-' +5 * ' '+'\\n')\n",
    "    \n",
    "    A = BraggExact(ts=ts, ns=ns , mats=mats,maxhs=maxhs, wl=wl, scale=scale,\n",
    "                  no_mesh=True)\n",
    "    k_low = A.ks[0] * A.scale\n",
    "    guess = np.array(.9999 * k_low)\n",
    "    imag = 0\n",
    "    flag = True\n",
    "    reduce = 0\n",
    "\n",
    "    while flag:\n",
    "        try:\n",
    "            x0 = np.array(guess + imag*1j)\n",
    "            beta = newton(A.determinant, x0, args=(nu, outer), tol = 1e-17)\n",
    "            if beta.real > k_low:\n",
    "                print(\"Captured wrong mode, retrying.\")\n",
    "                raise RuntimeError\n",
    "            elif beta.imag > 0:\n",
    "                print(\"Positive imaginary part, retrying.\")\n",
    "                imag = -beta.imag\n",
    "                guess *= 1/.999995\n",
    "                raise RuntimeError\n",
    "            else:\n",
    "                print(\"Scaled beta: \", beta, \". Residual of determinant: \", \n",
    "                      abs(A.determinant(beta, nu, outer)), '\\n\\n' )\n",
    "                imag = beta.imag\n",
    "                flag=False\n",
    "        except RuntimeError:\n",
    "            guess *= .999995\n",
    "            reduce += 1\n",
    "            print(\"scaling guess: \" + str(reduce), flush=True)\n",
    "    betas1[i] = beta\n",
    "    "
   ]
  },
  {
   "cell_type": "code",
   "execution_count": null,
   "id": "1f62d654",
   "metadata": {},
   "outputs": [],
   "source": [
    "%matplotlib notebook\n",
    "plt.figure(figsize=(8,5))\n",
    "plt.plot(wls, -betasN2.imag, color='orange', linewidth=.9)\n",
    "plt.plot(wls, -betasN3.imag, color='green', linewidth=.9)\n",
    "plt.plot(wls, -betas1.imag, color='blue', linewidth=.9)\n",
    "plt.yscale('log')\n"
   ]
  },
  {
   "cell_type": "markdown",
   "id": "3a4a22bb",
   "metadata": {},
   "source": [
    "# With varying extinction coeff"
   ]
  },
  {
   "cell_type": "code",
   "execution_count": null,
   "id": "b182a926",
   "metadata": {},
   "outputs": [],
   "source": [
    "import numpy as np\n",
    "import os\n",
    "import matplotlib.pyplot as plt"
   ]
  },
  {
   "cell_type": "code",
   "execution_count": null,
   "id": "86e0aaa9",
   "metadata": {},
   "outputs": [],
   "source": [
    "info = np.genfromtxt('PMMA.csv', delimiter=',', skip_header=1)"
   ]
  },
  {
   "cell_type": "code",
   "execution_count": null,
   "id": "a688c818",
   "metadata": {},
   "outputs": [],
   "source": [
    "L, R = .4, 2\n",
    "\n",
    "r, c = (R - L) / 2, (R + L) / 2  # center c and radius r to find range of coeffs we want to view"
   ]
  },
  {
   "cell_type": "code",
   "execution_count": null,
   "id": "b2a6a330",
   "metadata": {},
   "outputs": [],
   "source": [
    "pmma = info[np.where(np.abs(info[:,0]-c)<r)]"
   ]
  },
  {
   "cell_type": "code",
   "execution_count": null,
   "id": "046d3155",
   "metadata": {},
   "outputs": [],
   "source": [
    "plt.plot(pmma[:,0], pmma[:,2])\n",
    "plt.yscale('log')"
   ]
  },
  {
   "cell_type": "code",
   "execution_count": null,
   "id": "c6544192",
   "metadata": {},
   "outputs": [],
   "source": [
    "info = np.genfromtxt('PVC.csv', delimiter=',', skip_header=1)"
   ]
  },
  {
   "cell_type": "code",
   "execution_count": null,
   "id": "75fe66bb",
   "metadata": {},
   "outputs": [],
   "source": [
    "L, R = 1, 2\n",
    "\n",
    "r, c = (R - L) / 2, (R + L) / 2  # center c and radius r to find range of coeffs we want to view"
   ]
  },
  {
   "cell_type": "code",
   "execution_count": null,
   "id": "74d6bc17",
   "metadata": {},
   "outputs": [],
   "source": [
    "pvc= info[np.where(np.abs(info[:,0]-c)<r)]"
   ]
  },
  {
   "cell_type": "code",
   "execution_count": null,
   "id": "32d2c463",
   "metadata": {},
   "outputs": [],
   "source": [
    "np.mean(pvc[:,2])"
   ]
  },
  {
   "cell_type": "code",
   "execution_count": null,
   "id": "1a72d21f",
   "metadata": {},
   "outputs": [],
   "source": [
    "plt.plot(pvc[:,0], pvc[:,2])\n",
    "plt.yscale('log')"
   ]
  },
  {
   "cell_type": "code",
   "execution_count": null,
   "id": "349ad5e2",
   "metadata": {},
   "outputs": [],
   "source": []
  }
 ],
 "metadata": {
  "kernelspec": {
   "display_name": "Python 3 (ipykernel)",
   "language": "python",
   "name": "python3"
  },
  "language_info": {
   "codemirror_mode": {
    "name": "ipython",
    "version": 3
   },
   "file_extension": ".py",
   "mimetype": "text/x-python",
   "name": "python",
   "nbconvert_exporter": "python",
   "pygments_lexer": "ipython3",
   "version": "3.8.10"
  }
 },
 "nbformat": 4,
 "nbformat_minor": 5
}
