{
 "cells": [
  {
   "cell_type": "markdown",
   "id": "720129b6",
   "metadata": {},
   "source": [
    "\n",
    "# N0 configuration with PML\n",
    "\n",
    "Trying to add exacty PML.  At the moment debugging."
   ]
  },
  {
   "cell_type": "code",
   "execution_count": null,
   "id": "664ce3d7",
   "metadata": {},
   "outputs": [],
   "source": [
    "import numpy as np\n",
    "\n",
    "from fiberamp.fiber.microstruct.bragg import BraggExact\n",
    "from step_exact import plotlogf\n",
    "from ngsolve.webgui import Draw\n",
    "from ngsolve import CF\n",
    "from scipy.optimize import newton\n",
    "from scipy.linalg import null_space"
   ]
  },
  {
   "cell_type": "code",
   "execution_count": null,
   "id": "9d706ddc",
   "metadata": {},
   "outputs": [],
   "source": [
    "n_air = 1.00027717\n",
    "n_glass = 1.4388164768221814"
   ]
  },
  {
   "cell_type": "code",
   "execution_count": null,
   "id": "b4689d66",
   "metadata": {},
   "outputs": [],
   "source": [
    "ts = [4.0775e-05, 2e-5, 1e-5]\n",
    "rhos =[sum(ts[:i]) for i in range(1, len(ts)+1)]\n",
    "mats = ['air', 'glass', 'glass']\n",
    "ns = [lambda x:n_air, lambda x:n_glass, lambda x:n_glass]\n",
    "maxhs = [.1,.03, .02]\n",
    "pml = {'alpha':1, 'R0':rhos[-2]}"
   ]
  },
  {
   "cell_type": "code",
   "execution_count": null,
   "id": "f249bc35",
   "metadata": {},
   "outputs": [],
   "source": [
    "A = BraggExact(ts=ts, mats=mats, ns=ns, maxhs=maxhs, wl=7.2e-6)\n"
   ]
  },
  {
   "cell_type": "code",
   "execution_count": null,
   "id": "7206e2b6",
   "metadata": {},
   "outputs": [],
   "source": [
    "A.rhos/A.scale"
   ]
  },
  {
   "cell_type": "code",
   "execution_count": null,
   "id": "7017a529",
   "metadata": {},
   "outputs": [],
   "source": [
    "k_low = A.k0 * A.ns[0] * A.scale\n",
    "k_low"
   ]
  },
  {
   "cell_type": "code",
   "execution_count": null,
   "id": "cab9eb3d",
   "metadata": {},
   "outputs": [],
   "source": [
    "outer = 'pcb'\n",
    "nu = 1"
   ]
  },
  {
   "cell_type": "code",
   "execution_count": null,
   "id": "8f45255c",
   "metadata": {},
   "outputs": [],
   "source": [
    "zero_radial=False\n",
    "plotlogf(A.determinant, .995*k_low, 1.00001*k_low, -.03,.03, nu, outer, pml,zero_radial,\n",
    "         iref=100, rref=100, levels=100)"
   ]
  },
  {
   "cell_type": "code",
   "execution_count": null,
   "id": "f5d0ebf1",
   "metadata": {},
   "outputs": [],
   "source": [
    "guess = np.array(13.06 -.003j)\n",
    "\n",
    "beta1 = newton(A.determinant, guess, args=(nu, outer, pml, zero_radial), tol = 1e-15)\n",
    "\n",
    "print(\"Scaled beta: \", beta1, \". Residual of determinant: \", abs(A.determinant(beta1, nu, outer, pml, zero_radial)))\n"
   ]
  },
  {
   "cell_type": "markdown",
   "id": "bb27f5c1",
   "metadata": {},
   "source": [
    "Get coeffs and K for checking."
   ]
  },
  {
   "cell_type": "code",
   "execution_count": null,
   "id": "a6e34d2d",
   "metadata": {},
   "outputs": [],
   "source": [
    "L, R = A.determinant(beta1, return_matrix=True, zero_radial=zero_radial, outer=outer, nu=nu, pml=pml)"
   ]
  },
  {
   "cell_type": "code",
   "execution_count": null,
   "id": "22041e88",
   "metadata": {},
   "outputs": [],
   "source": [
    "Aa, B = L[..., 0, 0], L[..., 0, 1]\n",
    "C, D = L[..., 1, 0], L[..., 1, 1]\n"
   ]
  },
  {
   "cell_type": "code",
   "execution_count": null,
   "id": "aa8a2819",
   "metadata": {},
   "outputs": [],
   "source": [
    "np.abs(Aa * D - B * C)**2"
   ]
  },
  {
   "cell_type": "code",
   "execution_count": null,
   "id": "888cf92a",
   "metadata": {},
   "outputs": [],
   "source": [
    "L @ np.array([L[0,1], -L[0,0]])"
   ]
  },
  {
   "cell_type": "markdown",
   "id": "cd4c2e9e",
   "metadata": {},
   "source": [
    "# Bragg Exact Fields"
   ]
  },
  {
   "cell_type": "code",
   "execution_count": null,
   "id": "0253bcf4",
   "metadata": {},
   "outputs": [],
   "source": [
    "Fs = A.all_fields(beta1, nu, outer, pml, zero_radial)"
   ]
  },
  {
   "cell_type": "code",
   "execution_count": null,
   "id": "644bf7ef",
   "metadata": {},
   "outputs": [],
   "source": [
    "Draw(1e1*Fs['Ez'], A.mesh)"
   ]
  },
  {
   "cell_type": "code",
   "execution_count": null,
   "id": "dcc0dbe2",
   "metadata": {},
   "outputs": [],
   "source": [
    "Draw(Fs['Ephi'], A.mesh)"
   ]
  },
  {
   "cell_type": "code",
   "execution_count": null,
   "id": "b09a76f5",
   "metadata": {},
   "outputs": [],
   "source": [
    "Draw(Fs['Er'], A.mesh)"
   ]
  },
  {
   "cell_type": "code",
   "execution_count": null,
   "id": "b84963f1",
   "metadata": {},
   "outputs": [],
   "source": [
    "Draw(Fs['Etv'].imag, A.mesh)"
   ]
  },
  {
   "cell_type": "code",
   "execution_count": null,
   "id": "49568c85",
   "metadata": {},
   "outputs": [],
   "source": [
    "Draw(1e1*Fs['Hz'], A.mesh)"
   ]
  },
  {
   "cell_type": "code",
   "execution_count": null,
   "id": "24cd0d99",
   "metadata": {},
   "outputs": [],
   "source": [
    "Draw(Fs['Hphi'].imag, A.mesh)"
   ]
  },
  {
   "cell_type": "code",
   "execution_count": null,
   "id": "e9dcb93f",
   "metadata": {},
   "outputs": [],
   "source": []
  }
 ],
 "metadata": {
  "kernelspec": {
   "display_name": "Python 3 (ipykernel)",
   "language": "python",
   "name": "python3"
  },
  "language_info": {
   "codemirror_mode": {
    "name": "ipython",
    "version": 3
   },
   "file_extension": ".py",
   "mimetype": "text/x-python",
   "name": "python",
   "nbconvert_exporter": "python",
   "pygments_lexer": "ipython3",
   "version": "3.8.10"
  }
 },
 "nbformat": 4,
 "nbformat_minor": 5
}
