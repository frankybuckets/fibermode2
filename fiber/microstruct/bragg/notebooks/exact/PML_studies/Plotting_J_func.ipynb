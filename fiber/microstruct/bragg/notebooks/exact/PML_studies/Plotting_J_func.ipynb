{
 "cells": [
  {
   "cell_type": "markdown",
   "id": "482f5459",
   "metadata": {},
   "source": [
    "# What does the function $J_\\nu(Zr)$ look like on regions we're looking at\n",
    "\n",
    "For bending, this seems like the solution on the interior region (for guided modes).  When using PML, we do a change of variable, what does it do to it?"
   ]
  },
  {
   "cell_type": "code",
   "execution_count": null,
   "id": "9bb7b9ac",
   "metadata": {},
   "outputs": [],
   "source": [
    "import numpy as np\n",
    "import matplotlib.pyplot as plt\n",
    "import scipy.special as sp\n",
    "from ipywidgets import interactive\n"
   ]
  },
  {
   "cell_type": "code",
   "execution_count": null,
   "id": "673072af",
   "metadata": {},
   "outputs": [],
   "source": [
    "def J_approx(z,nu):\n",
    "    return (.5 * z) ** nu / sp.gamma(nu + 1) \n",
    "J_approx(1,0.1)"
   ]
  },
  {
   "cell_type": "code",
   "execution_count": null,
   "id": "b96ca23d",
   "metadata": {},
   "outputs": [],
   "source": [
    "zs = np.linspace(0,1,100)\n"
   ]
  },
  {
   "cell_type": "code",
   "execution_count": null,
   "id": "5cc2982d",
   "metadata": {},
   "outputs": [],
   "source": [
    "nu = 1\n",
    "R = 1\n",
    "R_out = 20\n",
    "\n",
    "k1 = 18.6\n",
    "k2 = 18.4\n",
    "beta = 18.41 + .01 * 1j\n",
    "\n",
    "gamma = np.sqrt(beta**2 - k2**2)\n",
    "\n",
    "A = 1\n",
    "B = 1\n",
    "\n",
    "def hankel1_plot(beta_re, beta_im):\n",
    "    plt.figure(2, figsize=(10,7))\n",
    "    \n",
    "    k2 = 18.4\n",
    "    beta = beta_re + beta_im * 1j\n",
    "    gamma = np.sqrt(beta**2 - k2**2)\n",
    "    \n",
    "    rs = np.arange(R, R_out, .01)\n",
    "    h1s = -sp.hankel1(1, 1j * gamma * rs)\n",
    "    \n",
    "    plt.ylim(-1.5,1.3)\n",
    "    plt.title(\"$H^{(1)}_\\\\nu(\\,Zr)$ for $\\\\nu=1$ \\n and $Z^2 = k_{clad}^2 - \\\\beta^2$ \\n\")\n",
    "    plt.plot(rs, h1s.real, rs, h1s.imag, '--')\n",
    "    plt.show()\n",
    "\n",
    "interactive_plot = interactive(hankel1_plot, beta_re=(k2-.2, k1 + .01, .005), beta_im=(-.1, .1, 0.001))\n",
    "output = interactive_plot.children[-1]\n",
    "output.layout.height = '10'\n",
    "interactive_plot"
   ]
  },
  {
   "cell_type": "code",
   "execution_count": null,
   "id": "5a8333a3",
   "metadata": {},
   "outputs": [],
   "source": [
    "nu = 1\n",
    "R = 1\n",
    "R_out = 15\n",
    "\n",
    "k1 = 18.6\n",
    "k2 = 18.4\n",
    "beta = 18.41 + .01 * 1j\n",
    "\n",
    "gamma = np.sqrt(beta**2 - k2**2)\n",
    "\n",
    "A = 1\n",
    "B = 1\n",
    "\n",
    "def hankel1_plot(beta_re, beta_im):\n",
    "    plt.figure(2, figsize=(10,7))\n",
    "    \n",
    "    k2 = 18.4\n",
    "    beta = beta_re + beta_im * 1j\n",
    "    gamma = np.sqrt(beta**2 - k2**2)\n",
    "    \n",
    "    rs = np.arange(R, R_out, .01)\n",
    "    h1s = sp.hankel2(1, 1j * gamma * rs)\n",
    "    \n",
    "    plt.plot(rs, h1s.real, rs, h1s.imag, '--')\n",
    "    plt.show()\n",
    "\n",
    "interactive_plot = interactive(hankel1_plot, beta_re=(k2-.2, k1 + .01, .005), beta_im=(-.1, .1, 0.001))\n",
    "output = interactive_plot.children[-1]\n",
    "output.layout.height = '10'\n",
    "interactive_plot"
   ]
  },
  {
   "cell_type": "code",
   "execution_count": null,
   "id": "6fad54c2",
   "metadata": {},
   "outputs": [],
   "source": []
  }
 ],
 "metadata": {
  "kernelspec": {
   "display_name": "Python 3",
   "language": "python",
   "name": "python3"
  },
  "language_info": {
   "codemirror_mode": {
    "name": "ipython",
    "version": 3
   },
   "file_extension": ".py",
   "mimetype": "text/x-python",
   "name": "python",
   "nbconvert_exporter": "python",
   "pygments_lexer": "ipython3",
   "version": "3.8.10"
  }
 },
 "nbformat": 4,
 "nbformat_minor": 5
}
