{
 "cells": [
  {
   "cell_type": "markdown",
   "id": "482f5459",
   "metadata": {},
   "source": [
    "# What do the functions $H^{(1)}_\\nu(Zr)$ and $H^{(2)}_\\nu(Zr)$ (and linear combinations) look like on regions we're looking at.\n",
    "\n",
    "These linear combos form solutions of radial part of step index fiber modes in unbounded domain.  We only ever use H1 so we get outgoing sols, but what do they look like in general?"
   ]
  },
  {
   "cell_type": "code",
   "execution_count": null,
   "id": "9bb7b9ac",
   "metadata": {},
   "outputs": [],
   "source": [
    "import numpy as np\n",
    "import matplotlib.pyplot as plt\n",
    "import scipy.special as sp\n",
    "from ipywidgets import interactive, FloatSlider, Layout\n",
    "from fiberamp.fiber.microstruct.bragg import BraggExact\n"
   ]
  },
  {
   "cell_type": "code",
   "execution_count": null,
   "id": "45f5063a",
   "metadata": {},
   "outputs": [],
   "source": [
    "n_air = 1.00027717\n",
    "n_glass = 1.4388164768221814"
   ]
  },
  {
   "cell_type": "code",
   "execution_count": null,
   "id": "2c3f8fe1",
   "metadata": {},
   "outputs": [],
   "source": [
    "ts = [4.0775e-05, 2e-5, 1e-5]\n",
    "rhos =[sum(ts[:i]) for i in range(1, len(ts)+1)]\n",
    "mats = ['air', 'glass', 'glass']\n",
    "ns = [lambda x:n_air, lambda x:n_glass, lambda x:n_glass]\n",
    "maxhs = [.1,.03, .02]\n",
    "pml = {'alpha':.4, 'R0':rhos[-2]}"
   ]
  },
  {
   "cell_type": "code",
   "execution_count": null,
   "id": "72f68cc2",
   "metadata": {},
   "outputs": [],
   "source": [
    "A = BraggExact(ts=ts, mats=mats, ns=ns, maxhs=maxhs, wl=1.4e-6)\n"
   ]
  },
  {
   "cell_type": "code",
   "execution_count": null,
   "id": "c97f9b3d",
   "metadata": {},
   "outputs": [],
   "source": [
    "k_low = A.ks[0] * A.L"
   ]
  },
  {
   "cell_type": "code",
   "execution_count": null,
   "id": "ae388eb9",
   "metadata": {},
   "outputs": [],
   "source": [
    "beta = 67.33269141518103+9.422996804515637e-05j"
   ]
  },
  {
   "cell_type": "code",
   "execution_count": null,
   "id": "c13ad439",
   "metadata": {},
   "outputs": [],
   "source": [
    "2 * beta.real * beta.imag, k_low**2-beta.real**2 + beta.imag**2"
   ]
  },
  {
   "cell_type": "code",
   "execution_count": null,
   "id": "9ae69e2b",
   "metadata": {},
   "outputs": [],
   "source": [
    "K = np.sqrt(k_low**2 - beta**2, dtype=complex)\n",
    "K"
   ]
  },
  {
   "cell_type": "code",
   "execution_count": null,
   "id": "2af54db3",
   "metadata": {},
   "outputs": [],
   "source": [
    "-K.imag/K.real"
   ]
  },
  {
   "cell_type": "code",
   "execution_count": null,
   "id": "55b433eb",
   "metadata": {},
   "outputs": [],
   "source": [
    "def hankel1_asymp(nu, z):\n",
    "    return np.sqrt(2/(np.pi * z), dtype=complex) * np.e**(1j*(z - nu/2 * np.pi - np.pi/4))"
   ]
  },
  {
   "cell_type": "code",
   "execution_count": null,
   "id": "d1dd119c",
   "metadata": {},
   "outputs": [],
   "source": [
    "def hankel2_asymp(nu, z):\n",
    "    return np.sqrt(2/(np.pi * z), dtype=complex) * np.e**(-1j*(z - nu/2 * np.pi - np.pi/4))"
   ]
  },
  {
   "cell_type": "code",
   "execution_count": null,
   "id": "5cc2982d",
   "metadata": {},
   "outputs": [],
   "source": [
    "nu = 1\n",
    "R = 1\n",
    "R_out = 40\n",
    "\n",
    "k1 = A.ks[0] * A.scale\n",
    "k2 = A.ks[1] * A.scale\n",
    "\n",
    "def hankel1_plot(beta_re, beta_im):\n",
    "    plt.figure(2, figsize=(14,8))\n",
    "    \n",
    "    k2 = A.ks[1] * A.scale\n",
    "    beta = beta_re + beta_im * 1j\n",
    "    K = np.sqrt(k2**2 - beta**2, dtype=complex)\n",
    "    \n",
    "    rs = np.arange(R, R_out, .01)\n",
    "#     h1s = sp.hankel1(1, K * rs)\n",
    "    h1s = hankel1_asymp(1, K * rs)\n",
    "    print(K)\n",
    "    \n",
    "    plt.ylim(-10,10)\n",
    "    plt.title(\"$H^{(1)}_\\\\nu(\\,Zr)$ for $\\\\nu=1$ \\n and $Z^2 = k_{clad}^2 - \\\\beta^2$ \\n\")\n",
    "    plt.plot(rs, h1s.real, label='real')\n",
    "    plt.plot(rs, h1s.imag, '--', label='imag')\n",
    "\n",
    "    plt.legend()\n",
    "    plt.show()\n",
    "\n",
    "m, M = 1.0001* k2, k1\n",
    "interactive_plot = interactive(hankel1_plot,\n",
    "                               beta_re=FloatSlider(min=m, max=M, step=(M-m)/201, value=(m),\n",
    "                                                   readout_format='.3f', layout=Layout(width='90%')),\n",
    "                               beta_im=FloatSlider(min=-.1, max=.1, step=0.00, value=0,\n",
    "                                                   readout_format='.3f', layout=Layout(width='90%')))\n",
    "output = interactive_plot.children[-1]\n",
    "output.layout.height = '10'\n",
    "interactive_plot"
   ]
  },
  {
   "cell_type": "code",
   "execution_count": null,
   "id": "5a8333a3",
   "metadata": {},
   "outputs": [],
   "source": [
    "nu = 1\n",
    "R = 1\n",
    "R_out = 20\n",
    "\n",
    "k1 = A.ks[0] * A.scale\n",
    "k2 = A.ks[1] * A.scale\n",
    "\n",
    "def hankel2_plot(beta_re, beta_im):\n",
    "    plt.figure(2, figsize=(14,8))\n",
    "    \n",
    "    k2 = A.ks[1] * A.scale\n",
    "    beta = beta_re + beta_im * 1j\n",
    "    K = np.sqrt(k2**2 - beta**2, dtype=complex)\n",
    "    \n",
    "    rs = np.arange(R, R_out, .001)\n",
    "    h2s = sp.hankel2(1, K * rs)\n",
    "#     h2s = hankel2_asymp(1, K * rs)\n",
    "    \n",
    "    plt.ylim(-10,10)\n",
    "    plt.title(\"$H^{(2)}_\\\\nu(\\,Zr)$ for $\\\\nu=1$ \\n and $Z^2 = k_{clad}^2 - \\\\beta^2$ \\n\")\n",
    "    plt.plot(rs, h2s.real, label='real')\n",
    "    plt.plot(rs, h2s.imag, '--', label='imag')\n",
    "    plt.legend()\n",
    "    plt.show()\n",
    "\n",
    "m, M = 1.000001*k2, k1\n",
    "interactive_plot = interactive(hankel2_plot,\n",
    "                               beta_re=FloatSlider(min=m, max=M, step=(M-m)/501, value=(1.00001*k2),\n",
    "                                                   readout_format='.3f', layout=Layout(width='90%')),\n",
    "                               beta_im=FloatSlider(min=-.1, max=.1, step=0.00, value=0,\n",
    "                                                   readout_format='.3f', layout=Layout(width='90%')))\n",
    "output = interactive_plot.children[-1]\n",
    "output.layout.height = '10'\n",
    "interactive_plot"
   ]
  },
  {
   "cell_type": "markdown",
   "id": "3234e74d",
   "metadata": {},
   "source": [
    "# Including PML\n",
    "\n",
    "Now we include PML after a certain point for H^2"
   ]
  },
  {
   "cell_type": "code",
   "execution_count": null,
   "id": "a24d726f",
   "metadata": {},
   "outputs": [],
   "source": [
    "nu = 1\n",
    "\n",
    "Rm = 1\n",
    "RM = 4\n",
    "\n",
    "k1 = A.ks[0] * A.scale\n",
    "\n",
    "def hankel2_plot(beta_re, beta_im, alpha, R):\n",
    "    plt.figure(2, figsize=(14,8))\n",
    "    \n",
    "    k2 = A.ks[1] * A.scale\n",
    "    beta = beta_re + beta_im * 1j\n",
    "    gamma = np.sqrt(beta**2 - k2**2, dtype=complex)\n",
    "    \n",
    "    rs = np.arange(Rm, RM, .01, dtype=complex)\n",
    "    rs[np.where(rs.real>=R)] += (rs[np.where(rs.real>=R)] - R) * (-alpha) * 1j\n",
    "    h2s = -sp.hankel2(1, 1j * gamma * rs)\n",
    "    \n",
    "    plt.ylim(-1,1)\n",
    "    plt.title(\"$H^{(2)}_\\\\nu(\\,Zr)$ for $\\\\nu=1$ \\n and $Z^2 = k_{clad}^2 - \\\\beta^2$ \\n\")\n",
    "    plt.plot(rs.real, h2s.real, label='real')\n",
    "    plt.plot(rs.real, h2s.imag, '--', label='imag')\n",
    "    minL, maxL = plt.gca().get_ylim()\n",
    "    plt.plot([R,R], [minL, maxL], linestyle=':', color='g', linewidth=.9)\n",
    "    plt.legend()\n",
    "    plt.show()\n",
    "\n",
    "m, M = .99*k1, 1.01*k1\n",
    "interactive_plot = interactive(hankel2_plot,\n",
    "                               beta_re=FloatSlider(min=m, max=M, step=(M-m)/51, value=(k1),\n",
    "                                                   readout_format='.3f', layout=Layout(width='90%')),\n",
    "                               beta_im=FloatSlider(min=-.3, max=.3, step=0.01, value=-1e-5,\n",
    "                                                   readout_format='.3f', layout=Layout(width='90%')),\n",
    "                               alpha=FloatSlider(min=0, max=2, step=0.002, value=0.06,\n",
    "                                                   readout_format='.3f', layout=Layout(width='90%')),\n",
    "                               R=FloatSlider(min=1.01*Rm, max=.99*RM, step=(RM-Rm)/41, value=(RM+Rm)/2,\n",
    "                                                   readout_format='.3f', layout=Layout(width='90%'))                              )\n",
    "output = interactive_plot.children[-1]\n",
    "output.layout.height = '10'\n",
    "interactive_plot"
   ]
  },
  {
   "cell_type": "markdown",
   "id": "b10ab66c",
   "metadata": {},
   "source": [
    "# Asymptotic Forms"
   ]
  },
  {
   "cell_type": "code",
   "execution_count": null,
   "id": "f324a9af",
   "metadata": {},
   "outputs": [],
   "source": [
    "def hankel2_asymp(nu, z):\n",
    "    return np.sqrt(2/(np.pi * z), dtype=complex) * np.e**(-1j*(z - nu/2 * np.pi - np.pi/4))"
   ]
  },
  {
   "cell_type": "code",
   "execution_count": null,
   "id": "26f81375",
   "metadata": {},
   "outputs": [],
   "source": [
    "nu = 1\n",
    "\n",
    "Rm = .1\n",
    "RM = 1\n",
    "\n",
    "k1 = A.ks[0] * A.scale\n",
    "\n",
    "def hankel2_asymp_plot(beta_re, beta_im, alpha, R):\n",
    "    plt.figure(2, figsize=(14,8))\n",
    "    \n",
    "    k2 = A.ks[1] * A.scale\n",
    "    beta = beta_re + beta_im * 1j\n",
    "    K = np.sqrt(k2**2 - beta**2, dtype=complex)\n",
    "    \n",
    "    rs = np.arange(Rm, RM, .001, dtype=complex)\n",
    "    rs[np.where(rs.real>=R)] += (rs[np.where(rs.real>=R)] - R) * (-alpha) * 1j\n",
    "    \n",
    "    h2s = sp.hankel2(1, K * rs)\n",
    "    h2s2 = hankel2_asymp(1, K * rs)\n",
    "    plt.ylim(-.6,.6)\n",
    "    plt.title(\"$H^{(2)}_\\\\nu(\\,Zr)$ for $\\\\nu=1$ \\n and $Z^2 = k_{clad}^2 - \\\\beta^2$ \\n\")\n",
    "    \n",
    "    plt.plot(rs.real, h2s.real, label='real_hankel')\n",
    "    plt.plot(rs.real, h2s2.real, linestyle=(0,(4,8)), label='real_asymp')\n",
    "\n",
    "    plt.plot(rs.real, h2s.imag, label='imag_hankel')\n",
    "    plt.plot(rs.real, h2s2.imag,  linestyle=(0,(4,8)), label='imag_asymp')\n",
    "\n",
    "    minL, maxL = plt.gca().get_ylim()\n",
    "    plt.plot([R,R], [minL, maxL], linestyle=':', color='g', linewidth=.9)\n",
    "    plt.legend()\n",
    "    plt.show()\n",
    "\n",
    "m, M = k1, k2\n",
    "interactive_plot = interactive(hankel2_asymp_plot,\n",
    "                               beta_re=FloatSlider(min=m, max=M, step=(M-m)/51, value=(k1),\n",
    "                                                   readout_format='.3f', layout=Layout(width='90%')),\n",
    "                               beta_im=FloatSlider(min=-.3, max=.3, step=0.01, value=0.01,\n",
    "                                                   readout_format='.3f', layout=Layout(width='90%')),\n",
    "                               alpha=FloatSlider(min=0, max=.2, step=0.002, value=0.004,\n",
    "                                                   readout_format='.3f', layout=Layout(width='90%')),\n",
    "                               R=FloatSlider(min=1.01*Rm, max=.99*RM, step=(RM-Rm)/41, value=(RM+Rm)/2,\n",
    "                                                   readout_format='.3f', layout=Layout(width='90%'))                              )\n",
    "output = interactive_plot.children[-1]\n",
    "output.layout.height = '10'\n",
    "interactive_plot"
   ]
  },
  {
   "cell_type": "code",
   "execution_count": null,
   "id": "2fa68a88",
   "metadata": {},
   "outputs": [],
   "source": []
  }
 ],
 "metadata": {
  "kernelspec": {
   "display_name": "Python 3 (ipykernel)",
   "language": "python",
   "name": "python3"
  },
  "language_info": {
   "codemirror_mode": {
    "name": "ipython",
    "version": 3
   },
   "file_extension": ".py",
   "mimetype": "text/x-python",
   "name": "python",
   "nbconvert_exporter": "python",
   "pygments_lexer": "ipython3",
   "version": "3.8.10"
  }
 },
 "nbformat": 4,
 "nbformat_minor": 5
}
