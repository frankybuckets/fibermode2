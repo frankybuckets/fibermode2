{
 "cells": [
  {
   "cell_type": "markdown",
   "id": "482f5459",
   "metadata": {},
   "source": [
    "# What do the functions $H^{(1)}_\\nu(Zr)$ and $H^{(2)}_\\nu(Zr)$ (and linear combinations) look like on regions we're looking at.\n",
    "\n",
    "These linear combos form solutions of radial part of step index fiber modes in unbounded domain.  We only ever use H1 so we get outgoing sols, but what do they look like in general?"
   ]
  },
  {
   "cell_type": "code",
   "execution_count": 134,
   "id": "9bb7b9ac",
   "metadata": {},
   "outputs": [],
   "source": [
    "import numpy as np\n",
    "import matplotlib.pyplot as plt\n",
    "import scipy.special as sp\n",
    "from ipywidgets import interactive, FloatSlider, Layout\n",
    "from fiberamp.fiber.microstruct.bragg import BraggExact\n"
   ]
  },
  {
   "cell_type": "code",
   "execution_count": 135,
   "id": "45f5063a",
   "metadata": {},
   "outputs": [],
   "source": [
    "n_air = 1.00027717\n",
    "n_glass = 1.4388164768221814"
   ]
  },
  {
   "cell_type": "code",
   "execution_count": 140,
   "id": "2c3f8fe1",
   "metadata": {},
   "outputs": [],
   "source": [
    "ts = [4.0775e-05, 2e-5, 1e-5]\n",
    "rhos =[sum(ts[:i]) for i in range(1, len(ts)+1)]\n",
    "mats = ['air', 'glass', 'glass']\n",
    "ns = [lambda x:n_air, lambda x:n_glass, lambda x:n_glass]\n",
    "maxhs = [.1,.03, .02]\n",
    "pml = {'alpha':.4, 'R0':rhos[-2]}"
   ]
  },
  {
   "cell_type": "code",
   "execution_count": 143,
   "id": "72f68cc2",
   "metadata": {},
   "outputs": [],
   "source": [
    "A = BraggExact(ts=ts, mats=mats, ns=ns, maxhs=maxhs, wl=1.4e-6)\n"
   ]
  },
  {
   "cell_type": "code",
   "execution_count": 145,
   "id": "c97f9b3d",
   "metadata": {},
   "outputs": [],
   "source": [
    "k_low = A.ks[0] * A.L"
   ]
  },
  {
   "cell_type": "code",
   "execution_count": 146,
   "id": "ae388eb9",
   "metadata": {},
   "outputs": [],
   "source": [
    "beta = 67.33269141518103+9.422996804515637e-05j"
   ]
  },
  {
   "cell_type": "code",
   "execution_count": 160,
   "id": "c13ad439",
   "metadata": {},
   "outputs": [
    {
     "data": {
      "text/plain": [
       "(0.012689514720893767, 0.7824669038063803)"
      ]
     },
     "execution_count": 160,
     "metadata": {},
     "output_type": "execute_result"
    }
   ],
   "source": [
    "2 * beta.real * beta.imag, k_low**2-beta.real**2 + beta.imag**2"
   ]
  },
  {
   "cell_type": "code",
   "execution_count": 159,
   "id": "9ae69e2b",
   "metadata": {},
   "outputs": [
    {
     "data": {
      "text/plain": [
       "(0.8846006764508482-0.0071724536611287824j)"
      ]
     },
     "execution_count": 159,
     "metadata": {},
     "output_type": "execute_result"
    }
   ],
   "source": [
    "K = np.sqrt(k_low**2 - beta**2, dtype=complex)\n",
    "K"
   ]
  },
  {
   "cell_type": "code",
   "execution_count": 156,
   "id": "2af54db3",
   "metadata": {},
   "outputs": [
    {
     "data": {
      "text/plain": [
       "0.008108125905923736"
      ]
     },
     "execution_count": 156,
     "metadata": {},
     "output_type": "execute_result"
    }
   ],
   "source": [
    "-K.imag/K.real"
   ]
  },
  {
   "cell_type": "code",
   "execution_count": 79,
   "id": "55b433eb",
   "metadata": {},
   "outputs": [],
   "source": [
    "def hankel1_asymp(nu, z):\n",
    "    return np.sqrt(2/(np.pi * z), dtype=complex) * np.e**(1j*(z - nu/2 * np.pi - np.pi/4))"
   ]
  },
  {
   "cell_type": "code",
   "execution_count": 128,
   "id": "d1dd119c",
   "metadata": {},
   "outputs": [],
   "source": [
    "def hankel2_asymp(nu, z):\n",
    "    return np.sqrt(2/(np.pi * z), dtype=complex) * np.e**(-1j*(z - nu/2 * np.pi - np.pi/4))"
   ]
  },
  {
   "cell_type": "code",
   "execution_count": 129,
   "id": "5cc2982d",
   "metadata": {},
   "outputs": [
    {
     "data": {
      "application/vnd.jupyter.widget-view+json": {
       "model_id": "b70497a486964908a9c998a09ad4a797",
       "version_major": 2,
       "version_minor": 0
      },
      "text/plain": [
       "interactive(children=(FloatSlider(value=37.441056186523895, description='beta_re', layout=Layout(width='90%'),…"
      ]
     },
     "metadata": {},
     "output_type": "display_data"
    }
   ],
   "source": [
    "nu = 1\n",
    "R = 1\n",
    "R_out = 40\n",
    "\n",
    "k1 = A.ks[0] * A.scale\n",
    "k2 = A.ks[1] * A.scale\n",
    "\n",
    "def hankel1_plot(beta_re, beta_im):\n",
    "    plt.figure(2, figsize=(14,8))\n",
    "    \n",
    "    k2 = A.ks[1] * A.scale\n",
    "    beta = beta_re + beta_im * 1j\n",
    "    K = np.sqrt(k2**2 - beta**2, dtype=complex)\n",
    "    \n",
    "    rs = np.arange(R, R_out, .01)\n",
    "#     h1s = sp.hankel1(1, K * rs)\n",
    "    h1s = hankel1_asymp(1, K * rs)\n",
    "    print(K)\n",
    "    \n",
    "    plt.ylim(-10,10)\n",
    "    plt.title(\"$H^{(1)}_\\\\nu(\\,Zr)$ for $\\\\nu=1$ \\n and $Z^2 = k_{clad}^2 - \\\\beta^2$ \\n\")\n",
    "    plt.plot(rs, h1s.real, label='real')\n",
    "    plt.plot(rs, h1s.imag, '--', label='imag')\n",
    "\n",
    "    plt.legend()\n",
    "    plt.show()\n",
    "\n",
    "m, M = 1.0001* k2, k1\n",
    "interactive_plot = interactive(hankel1_plot,\n",
    "                               beta_re=FloatSlider(min=m, max=M, step=(M-m)/201, value=(m),\n",
    "                                                   readout_format='.3f', layout=Layout(width='90%')),\n",
    "                               beta_im=FloatSlider(min=-.1, max=.1, step=0.00, value=0,\n",
    "                                                   readout_format='.3f', layout=Layout(width='90%')))\n",
    "output = interactive_plot.children[-1]\n",
    "output.layout.height = '10'\n",
    "interactive_plot"
   ]
  },
  {
   "cell_type": "code",
   "execution_count": 133,
   "id": "5a8333a3",
   "metadata": {},
   "outputs": [
    {
     "data": {
      "application/vnd.jupyter.widget-view+json": {
       "model_id": "185ac759c26d4305ab3a8694a5193ef3",
       "version_major": 2,
       "version_minor": 0
      },
      "text/plain": [
       "interactive(children=(FloatSlider(value=37.437686828402924, description='beta_re', layout=Layout(width='90%'),…"
      ]
     },
     "metadata": {},
     "output_type": "display_data"
    }
   ],
   "source": [
    "nu = 1\n",
    "R = 1\n",
    "R_out = 20\n",
    "\n",
    "k1 = A.ks[0] * A.scale\n",
    "k2 = A.ks[1] * A.scale\n",
    "\n",
    "def hankel2_plot(beta_re, beta_im):\n",
    "    plt.figure(2, figsize=(14,8))\n",
    "    \n",
    "    k2 = A.ks[1] * A.scale\n",
    "    beta = beta_re + beta_im * 1j\n",
    "    K = np.sqrt(k2**2 - beta**2, dtype=complex)\n",
    "    \n",
    "    rs = np.arange(R, R_out, .001)\n",
    "    h2s = sp.hankel2(1, K * rs)\n",
    "#     h2s = hankel2_asymp(1, K * rs)\n",
    "    \n",
    "    plt.ylim(-10,10)\n",
    "    plt.title(\"$H^{(2)}_\\\\nu(\\,Zr)$ for $\\\\nu=1$ \\n and $Z^2 = k_{clad}^2 - \\\\beta^2$ \\n\")\n",
    "    plt.plot(rs, h2s.real, label='real')\n",
    "    plt.plot(rs, h2s.imag, '--', label='imag')\n",
    "    plt.legend()\n",
    "    plt.show()\n",
    "\n",
    "m, M = 1.000001*k2, k1\n",
    "interactive_plot = interactive(hankel2_plot,\n",
    "                               beta_re=FloatSlider(min=m, max=M, step=(M-m)/501, value=(1.00001*k2),\n",
    "                                                   readout_format='.3f', layout=Layout(width='90%')),\n",
    "                               beta_im=FloatSlider(min=-.1, max=.1, step=0.00, value=0,\n",
    "                                                   readout_format='.3f', layout=Layout(width='90%')))\n",
    "output = interactive_plot.children[-1]\n",
    "output.layout.height = '10'\n",
    "interactive_plot"
   ]
  },
  {
   "cell_type": "markdown",
   "id": "3234e74d",
   "metadata": {},
   "source": [
    "# Including PML\n",
    "\n",
    "Now we include PML after a certain point for H^2"
   ]
  },
  {
   "cell_type": "code",
   "execution_count": 69,
   "id": "a24d726f",
   "metadata": {},
   "outputs": [
    {
     "data": {
      "application/vnd.jupyter.widget-view+json": {
       "model_id": "7985a82cb9494fc6ab37b1e07df18ef5",
       "version_major": 2,
       "version_minor": 0
      },
      "text/plain": [
       "interactive(children=(FloatSlider(value=37.69911184307752, description='beta_re', layout=Layout(width='90%'), …"
      ]
     },
     "metadata": {},
     "output_type": "display_data"
    }
   ],
   "source": [
    "nu = 1\n",
    "\n",
    "Rm = 1\n",
    "RM = 4\n",
    "\n",
    "k1 = A.ks[0] * A.scale\n",
    "\n",
    "def hankel2_plot(beta_re, beta_im, alpha, R):\n",
    "    plt.figure(2, figsize=(14,8))\n",
    "    \n",
    "    k2 = A.ks[1] * A.scale\n",
    "    beta = beta_re + beta_im * 1j\n",
    "    gamma = np.sqrt(beta**2 - k2**2, dtype=complex)\n",
    "    \n",
    "    rs = np.arange(Rm, RM, .01, dtype=complex)\n",
    "    rs[np.where(rs.real>=R)] += (rs[np.where(rs.real>=R)] - R) * (-alpha) * 1j\n",
    "    h2s = -sp.hankel2(1, 1j * gamma * rs)\n",
    "    \n",
    "    plt.ylim(-1,1)\n",
    "    plt.title(\"$H^{(2)}_\\\\nu(\\,Zr)$ for $\\\\nu=1$ \\n and $Z^2 = k_{clad}^2 - \\\\beta^2$ \\n\")\n",
    "    plt.plot(rs.real, h2s.real, label='real')\n",
    "    plt.plot(rs.real, h2s.imag, '--', label='imag')\n",
    "    minL, maxL = plt.gca().get_ylim()\n",
    "    plt.plot([R,R], [minL, maxL], linestyle=':', color='g', linewidth=.9)\n",
    "    plt.legend()\n",
    "    plt.show()\n",
    "\n",
    "m, M = .99*k1, 1.01*k1\n",
    "interactive_plot = interactive(hankel2_plot,\n",
    "                               beta_re=FloatSlider(min=m, max=M, step=(M-m)/51, value=(k1),\n",
    "                                                   readout_format='.3f', layout=Layout(width='90%')),\n",
    "                               beta_im=FloatSlider(min=-.3, max=.3, step=0.01, value=-1e-5,\n",
    "                                                   readout_format='.3f', layout=Layout(width='90%')),\n",
    "                               alpha=FloatSlider(min=0, max=2, step=0.002, value=0.06,\n",
    "                                                   readout_format='.3f', layout=Layout(width='90%')),\n",
    "                               R=FloatSlider(min=1.01*Rm, max=.99*RM, step=(RM-Rm)/41, value=(RM+Rm)/2,\n",
    "                                                   readout_format='.3f', layout=Layout(width='90%'))                              )\n",
    "output = interactive_plot.children[-1]\n",
    "output.layout.height = '10'\n",
    "interactive_plot"
   ]
  },
  {
   "cell_type": "markdown",
   "id": "b10ab66c",
   "metadata": {},
   "source": [
    "# Asymptotic Forms"
   ]
  },
  {
   "cell_type": "code",
   "execution_count": 61,
   "id": "f324a9af",
   "metadata": {},
   "outputs": [],
   "source": [
    "def hankel2_asymp(nu, z):\n",
    "    return np.sqrt(2/(np.pi * z), dtype=complex) * np.e**(-1j*(z - nu/2 * np.pi - np.pi/4))"
   ]
  },
  {
   "cell_type": "code",
   "execution_count": 63,
   "id": "26f81375",
   "metadata": {},
   "outputs": [
    {
     "ename": "TraitError",
     "evalue": "Setting min > max",
     "output_type": "error",
     "traceback": [
      "\u001b[0;31m---------------------------------------------------------------------------\u001b[0m",
      "\u001b[0;31mTraitError\u001b[0m                                Traceback (most recent call last)",
      "\u001b[0;32m/tmp/ipykernel_52430/3588963695.py\u001b[0m in \u001b[0;36m<cell line: 35>\u001b[0;34m()\u001b[0m\n\u001b[1;32m     34\u001b[0m \u001b[0mm\u001b[0m\u001b[0;34m,\u001b[0m \u001b[0mM\u001b[0m \u001b[0;34m=\u001b[0m \u001b[0mk1\u001b[0m\u001b[0;34m,\u001b[0m \u001b[0mk2\u001b[0m\u001b[0;34m\u001b[0m\u001b[0;34m\u001b[0m\u001b[0m\n\u001b[1;32m     35\u001b[0m interactive_plot = interactive(hankel2_asymp_plot,\n\u001b[0;32m---> 36\u001b[0;31m                                beta_re=FloatSlider(min=m, max=M, step=(M-m)/51, value=(k1),\n\u001b[0m\u001b[1;32m     37\u001b[0m                                                    readout_format='.3f', layout=Layout(width='90%')),\n\u001b[1;32m     38\u001b[0m                                beta_im=FloatSlider(min=-.3, max=.3, step=0.01, value=0.01,\n",
      "\u001b[0;32m~/.local/lib/python3.8/site-packages/ipywidgets/widgets/widget_float.py\u001b[0m in \u001b[0;36m__init__\u001b[0;34m(self, value, **kwargs)\u001b[0m\n\u001b[1;32m     24\u001b[0m         \u001b[0;32mif\u001b[0m \u001b[0mvalue\u001b[0m \u001b[0;32mis\u001b[0m \u001b[0;32mnot\u001b[0m \u001b[0;32mNone\u001b[0m\u001b[0;34m:\u001b[0m\u001b[0;34m\u001b[0m\u001b[0;34m\u001b[0m\u001b[0m\n\u001b[1;32m     25\u001b[0m             \u001b[0mkwargs\u001b[0m\u001b[0;34m[\u001b[0m\u001b[0;34m'value'\u001b[0m\u001b[0;34m]\u001b[0m \u001b[0;34m=\u001b[0m \u001b[0mvalue\u001b[0m\u001b[0;34m\u001b[0m\u001b[0;34m\u001b[0m\u001b[0m\n\u001b[0;32m---> 26\u001b[0;31m         \u001b[0msuper\u001b[0m\u001b[0;34m(\u001b[0m\u001b[0m_Float\u001b[0m\u001b[0;34m,\u001b[0m \u001b[0mself\u001b[0m\u001b[0;34m)\u001b[0m\u001b[0;34m.\u001b[0m\u001b[0m__init__\u001b[0m\u001b[0;34m(\u001b[0m\u001b[0;34m**\u001b[0m\u001b[0mkwargs\u001b[0m\u001b[0;34m)\u001b[0m\u001b[0;34m\u001b[0m\u001b[0;34m\u001b[0m\u001b[0m\n\u001b[0m\u001b[1;32m     27\u001b[0m \u001b[0;34m\u001b[0m\u001b[0m\n\u001b[1;32m     28\u001b[0m \u001b[0;34m\u001b[0m\u001b[0m\n",
      "\u001b[0;32m~/.local/lib/python3.8/site-packages/ipywidgets/widgets/widget.py\u001b[0m in \u001b[0;36m__init__\u001b[0;34m(self, **kwargs)\u001b[0m\n\u001b[1;32m    410\u001b[0m         \u001b[0;34m\"\"\"Public constructor\"\"\"\u001b[0m\u001b[0;34m\u001b[0m\u001b[0;34m\u001b[0m\u001b[0m\n\u001b[1;32m    411\u001b[0m         \u001b[0mself\u001b[0m\u001b[0;34m.\u001b[0m\u001b[0m_model_id\u001b[0m \u001b[0;34m=\u001b[0m \u001b[0mkwargs\u001b[0m\u001b[0;34m.\u001b[0m\u001b[0mpop\u001b[0m\u001b[0;34m(\u001b[0m\u001b[0;34m'model_id'\u001b[0m\u001b[0;34m,\u001b[0m \u001b[0;32mNone\u001b[0m\u001b[0;34m)\u001b[0m\u001b[0;34m\u001b[0m\u001b[0;34m\u001b[0m\u001b[0m\n\u001b[0;32m--> 412\u001b[0;31m         \u001b[0msuper\u001b[0m\u001b[0;34m(\u001b[0m\u001b[0mWidget\u001b[0m\u001b[0;34m,\u001b[0m \u001b[0mself\u001b[0m\u001b[0;34m)\u001b[0m\u001b[0;34m.\u001b[0m\u001b[0m__init__\u001b[0m\u001b[0;34m(\u001b[0m\u001b[0;34m**\u001b[0m\u001b[0mkwargs\u001b[0m\u001b[0;34m)\u001b[0m\u001b[0;34m\u001b[0m\u001b[0;34m\u001b[0m\u001b[0m\n\u001b[0m\u001b[1;32m    413\u001b[0m \u001b[0;34m\u001b[0m\u001b[0m\n\u001b[1;32m    414\u001b[0m         \u001b[0mWidget\u001b[0m\u001b[0;34m.\u001b[0m\u001b[0m_call_widget_constructed\u001b[0m\u001b[0;34m(\u001b[0m\u001b[0mself\u001b[0m\u001b[0;34m)\u001b[0m\u001b[0;34m\u001b[0m\u001b[0;34m\u001b[0m\u001b[0m\n",
      "\u001b[0;32m~/.local/lib/python3.8/site-packages/traitlets/traitlets.py\u001b[0m in \u001b[0;36m__init__\u001b[0;34m(self, *args, **kwargs)\u001b[0m\n\u001b[1;32m   1080\u001b[0m                 \u001b[0;32melse\u001b[0m\u001b[0;34m:\u001b[0m\u001b[0;34m\u001b[0m\u001b[0;34m\u001b[0m\u001b[0m\n\u001b[1;32m   1081\u001b[0m                     \u001b[0;31m# passthrough args that don't set traits to super\u001b[0m\u001b[0;34m\u001b[0m\u001b[0;34m\u001b[0m\u001b[0;34m\u001b[0m\u001b[0m\n\u001b[0;32m-> 1082\u001b[0;31m                     \u001b[0msuper_kwargs\u001b[0m\u001b[0;34m[\u001b[0m\u001b[0mkey\u001b[0m\u001b[0;34m]\u001b[0m \u001b[0;34m=\u001b[0m \u001b[0mvalue\u001b[0m\u001b[0;34m\u001b[0m\u001b[0;34m\u001b[0m\u001b[0m\n\u001b[0m\u001b[1;32m   1083\u001b[0m         \u001b[0;32mtry\u001b[0m\u001b[0;34m:\u001b[0m\u001b[0;34m\u001b[0m\u001b[0;34m\u001b[0m\u001b[0m\n\u001b[1;32m   1084\u001b[0m             \u001b[0msuper\u001b[0m\u001b[0;34m(\u001b[0m\u001b[0mHasTraits\u001b[0m\u001b[0;34m,\u001b[0m \u001b[0mself\u001b[0m\u001b[0;34m)\u001b[0m\u001b[0;34m.\u001b[0m\u001b[0m__init__\u001b[0m\u001b[0;34m(\u001b[0m\u001b[0;34m*\u001b[0m\u001b[0msuper_args\u001b[0m\u001b[0;34m,\u001b[0m \u001b[0;34m**\u001b[0m\u001b[0msuper_kwargs\u001b[0m\u001b[0;34m)\u001b[0m\u001b[0;34m\u001b[0m\u001b[0;34m\u001b[0m\u001b[0m\n",
      "\u001b[0;32m/usr/lib/python3.8/contextlib.py\u001b[0m in \u001b[0;36m__exit__\u001b[0;34m(self, type, value, traceback)\u001b[0m\n\u001b[1;32m    118\u001b[0m         \u001b[0;32mif\u001b[0m \u001b[0mtype\u001b[0m \u001b[0;32mis\u001b[0m \u001b[0;32mNone\u001b[0m\u001b[0;34m:\u001b[0m\u001b[0;34m\u001b[0m\u001b[0;34m\u001b[0m\u001b[0m\n\u001b[1;32m    119\u001b[0m             \u001b[0;32mtry\u001b[0m\u001b[0;34m:\u001b[0m\u001b[0;34m\u001b[0m\u001b[0;34m\u001b[0m\u001b[0m\n\u001b[0;32m--> 120\u001b[0;31m                 \u001b[0mnext\u001b[0m\u001b[0;34m(\u001b[0m\u001b[0mself\u001b[0m\u001b[0;34m.\u001b[0m\u001b[0mgen\u001b[0m\u001b[0;34m)\u001b[0m\u001b[0;34m\u001b[0m\u001b[0;34m\u001b[0m\u001b[0m\n\u001b[0m\u001b[1;32m    121\u001b[0m             \u001b[0;32mexcept\u001b[0m \u001b[0mStopIteration\u001b[0m\u001b[0;34m:\u001b[0m\u001b[0;34m\u001b[0m\u001b[0;34m\u001b[0m\u001b[0m\n\u001b[1;32m    122\u001b[0m                 \u001b[0;32mreturn\u001b[0m \u001b[0;32mFalse\u001b[0m\u001b[0;34m\u001b[0m\u001b[0;34m\u001b[0m\u001b[0m\n",
      "\u001b[0;32m~/.local/lib/python3.8/site-packages/traitlets/traitlets.py\u001b[0m in \u001b[0;36mhold_trait_notifications\u001b[0;34m(self)\u001b[0m\n\u001b[1;32m   1205\u001b[0m                                 \u001b[0mself\u001b[0m\u001b[0;34m.\u001b[0m\u001b[0m_trait_values\u001b[0m\u001b[0;34m.\u001b[0m\u001b[0mpop\u001b[0m\u001b[0;34m(\u001b[0m\u001b[0mname\u001b[0m\u001b[0;34m)\u001b[0m\u001b[0;34m\u001b[0m\u001b[0;34m\u001b[0m\u001b[0m\n\u001b[1;32m   1206\u001b[0m                 \u001b[0mcache\u001b[0m \u001b[0;34m=\u001b[0m \u001b[0;34m{\u001b[0m\u001b[0;34m}\u001b[0m\u001b[0;34m\u001b[0m\u001b[0;34m\u001b[0m\u001b[0m\n\u001b[0;32m-> 1207\u001b[0;31m                 \u001b[0;32mraise\u001b[0m \u001b[0me\u001b[0m\u001b[0;34m\u001b[0m\u001b[0;34m\u001b[0m\u001b[0m\n\u001b[0m\u001b[1;32m   1208\u001b[0m             \u001b[0;32mfinally\u001b[0m\u001b[0;34m:\u001b[0m\u001b[0;34m\u001b[0m\u001b[0;34m\u001b[0m\u001b[0m\n\u001b[1;32m   1209\u001b[0m                 \u001b[0mself\u001b[0m\u001b[0;34m.\u001b[0m\u001b[0m_cross_validation_lock\u001b[0m \u001b[0;34m=\u001b[0m \u001b[0;32mFalse\u001b[0m\u001b[0;34m\u001b[0m\u001b[0;34m\u001b[0m\u001b[0m\n",
      "\u001b[0;32m~/.local/lib/python3.8/site-packages/traitlets/traitlets.py\u001b[0m in \u001b[0;36mhold_trait_notifications\u001b[0;34m(self)\u001b[0m\n\u001b[1;32m   1191\u001b[0m                 \u001b[0;32mfor\u001b[0m \u001b[0mname\u001b[0m \u001b[0;32min\u001b[0m \u001b[0mlist\u001b[0m\u001b[0;34m(\u001b[0m\u001b[0mcache\u001b[0m\u001b[0;34m.\u001b[0m\u001b[0mkeys\u001b[0m\u001b[0;34m(\u001b[0m\u001b[0;34m)\u001b[0m\u001b[0;34m)\u001b[0m\u001b[0;34m:\u001b[0m\u001b[0;34m\u001b[0m\u001b[0;34m\u001b[0m\u001b[0m\n\u001b[1;32m   1192\u001b[0m                     \u001b[0mtrait\u001b[0m \u001b[0;34m=\u001b[0m \u001b[0mgetattr\u001b[0m\u001b[0;34m(\u001b[0m\u001b[0mself\u001b[0m\u001b[0;34m.\u001b[0m\u001b[0m__class__\u001b[0m\u001b[0;34m,\u001b[0m \u001b[0mname\u001b[0m\u001b[0;34m)\u001b[0m\u001b[0;34m\u001b[0m\u001b[0;34m\u001b[0m\u001b[0m\n\u001b[0;32m-> 1193\u001b[0;31m                     \u001b[0mvalue\u001b[0m \u001b[0;34m=\u001b[0m \u001b[0mtrait\u001b[0m\u001b[0;34m.\u001b[0m\u001b[0m_cross_validate\u001b[0m\u001b[0;34m(\u001b[0m\u001b[0mself\u001b[0m\u001b[0;34m,\u001b[0m \u001b[0mgetattr\u001b[0m\u001b[0;34m(\u001b[0m\u001b[0mself\u001b[0m\u001b[0;34m,\u001b[0m \u001b[0mname\u001b[0m\u001b[0;34m)\u001b[0m\u001b[0;34m)\u001b[0m\u001b[0;34m\u001b[0m\u001b[0;34m\u001b[0m\u001b[0m\n\u001b[0m\u001b[1;32m   1194\u001b[0m                     \u001b[0mself\u001b[0m\u001b[0;34m.\u001b[0m\u001b[0mset_trait\u001b[0m\u001b[0;34m(\u001b[0m\u001b[0mname\u001b[0m\u001b[0;34m,\u001b[0m \u001b[0mvalue\u001b[0m\u001b[0;34m)\u001b[0m\u001b[0;34m\u001b[0m\u001b[0;34m\u001b[0m\u001b[0m\n\u001b[1;32m   1195\u001b[0m             \u001b[0;32mexcept\u001b[0m \u001b[0mTraitError\u001b[0m \u001b[0;32mas\u001b[0m \u001b[0me\u001b[0m\u001b[0;34m:\u001b[0m\u001b[0;34m\u001b[0m\u001b[0;34m\u001b[0m\u001b[0m\n",
      "\u001b[0;32m~/.local/lib/python3.8/site-packages/traitlets/traitlets.py\u001b[0m in \u001b[0;36m_cross_validate\u001b[0;34m(self, obj, value)\u001b[0m\n\u001b[1;32m    618\u001b[0m         \u001b[0;32mif\u001b[0m \u001b[0mself\u001b[0m\u001b[0;34m.\u001b[0m\u001b[0mname\u001b[0m \u001b[0;32min\u001b[0m \u001b[0mobj\u001b[0m\u001b[0;34m.\u001b[0m\u001b[0m_trait_validators\u001b[0m\u001b[0;34m:\u001b[0m\u001b[0;34m\u001b[0m\u001b[0;34m\u001b[0m\u001b[0m\n\u001b[1;32m    619\u001b[0m             \u001b[0mproposal\u001b[0m \u001b[0;34m=\u001b[0m \u001b[0mBunch\u001b[0m\u001b[0;34m(\u001b[0m\u001b[0;34m{\u001b[0m\u001b[0;34m'trait'\u001b[0m\u001b[0;34m:\u001b[0m \u001b[0mself\u001b[0m\u001b[0;34m,\u001b[0m \u001b[0;34m'value'\u001b[0m\u001b[0;34m:\u001b[0m \u001b[0mvalue\u001b[0m\u001b[0;34m,\u001b[0m \u001b[0;34m'owner'\u001b[0m\u001b[0;34m:\u001b[0m \u001b[0mobj\u001b[0m\u001b[0;34m}\u001b[0m\u001b[0;34m)\u001b[0m\u001b[0;34m\u001b[0m\u001b[0;34m\u001b[0m\u001b[0m\n\u001b[0;32m--> 620\u001b[0;31m             \u001b[0mvalue\u001b[0m \u001b[0;34m=\u001b[0m \u001b[0mobj\u001b[0m\u001b[0;34m.\u001b[0m\u001b[0m_trait_validators\u001b[0m\u001b[0;34m[\u001b[0m\u001b[0mself\u001b[0m\u001b[0;34m.\u001b[0m\u001b[0mname\u001b[0m\u001b[0;34m]\u001b[0m\u001b[0;34m(\u001b[0m\u001b[0mobj\u001b[0m\u001b[0;34m,\u001b[0m \u001b[0mproposal\u001b[0m\u001b[0;34m)\u001b[0m\u001b[0;34m\u001b[0m\u001b[0;34m\u001b[0m\u001b[0m\n\u001b[0m\u001b[1;32m    621\u001b[0m         \u001b[0;32melif\u001b[0m \u001b[0mhasattr\u001b[0m\u001b[0;34m(\u001b[0m\u001b[0mobj\u001b[0m\u001b[0;34m,\u001b[0m \u001b[0;34m'_%s_validate'\u001b[0m \u001b[0;34m%\u001b[0m \u001b[0mself\u001b[0m\u001b[0;34m.\u001b[0m\u001b[0mname\u001b[0m\u001b[0;34m)\u001b[0m\u001b[0;34m:\u001b[0m\u001b[0;34m\u001b[0m\u001b[0;34m\u001b[0m\u001b[0m\n\u001b[1;32m    622\u001b[0m             \u001b[0mmeth_name\u001b[0m \u001b[0;34m=\u001b[0m \u001b[0;34m'_%s_validate'\u001b[0m \u001b[0;34m%\u001b[0m \u001b[0mself\u001b[0m\u001b[0;34m.\u001b[0m\u001b[0mname\u001b[0m\u001b[0;34m\u001b[0m\u001b[0;34m\u001b[0m\u001b[0m\n",
      "\u001b[0;32m~/.local/lib/python3.8/site-packages/traitlets/traitlets.py\u001b[0m in \u001b[0;36m__call__\u001b[0;34m(self, *args, **kwargs)\u001b[0m\n\u001b[1;32m    975\u001b[0m         \u001b[0;34m\"\"\"Pass `*args` and `**kwargs` to the handler's function if it exists.\"\"\"\u001b[0m\u001b[0;34m\u001b[0m\u001b[0;34m\u001b[0m\u001b[0m\n\u001b[1;32m    976\u001b[0m         \u001b[0;32mif\u001b[0m \u001b[0mhasattr\u001b[0m\u001b[0;34m(\u001b[0m\u001b[0mself\u001b[0m\u001b[0;34m,\u001b[0m \u001b[0;34m'func'\u001b[0m\u001b[0;34m)\u001b[0m\u001b[0;34m:\u001b[0m\u001b[0;34m\u001b[0m\u001b[0;34m\u001b[0m\u001b[0m\n\u001b[0;32m--> 977\u001b[0;31m             \u001b[0;32mreturn\u001b[0m \u001b[0mself\u001b[0m\u001b[0;34m.\u001b[0m\u001b[0mfunc\u001b[0m\u001b[0;34m(\u001b[0m\u001b[0;34m*\u001b[0m\u001b[0margs\u001b[0m\u001b[0;34m,\u001b[0m \u001b[0;34m**\u001b[0m\u001b[0mkwargs\u001b[0m\u001b[0;34m)\u001b[0m\u001b[0;34m\u001b[0m\u001b[0;34m\u001b[0m\u001b[0m\n\u001b[0m\u001b[1;32m    978\u001b[0m         \u001b[0;32melse\u001b[0m\u001b[0;34m:\u001b[0m\u001b[0;34m\u001b[0m\u001b[0;34m\u001b[0m\u001b[0m\n\u001b[1;32m    979\u001b[0m             \u001b[0;32mreturn\u001b[0m \u001b[0mself\u001b[0m\u001b[0;34m.\u001b[0m\u001b[0m_init_call\u001b[0m\u001b[0;34m(\u001b[0m\u001b[0;34m*\u001b[0m\u001b[0margs\u001b[0m\u001b[0;34m,\u001b[0m \u001b[0;34m**\u001b[0m\u001b[0mkwargs\u001b[0m\u001b[0;34m)\u001b[0m\u001b[0;34m\u001b[0m\u001b[0;34m\u001b[0m\u001b[0m\n",
      "\u001b[0;32m~/.local/lib/python3.8/site-packages/ipywidgets/widgets/widget_float.py\u001b[0m in \u001b[0;36m_validate_min\u001b[0;34m(self, proposal)\u001b[0m\n\u001b[1;32m     44\u001b[0m         \u001b[0mmin\u001b[0m \u001b[0;34m=\u001b[0m \u001b[0mproposal\u001b[0m\u001b[0;34m[\u001b[0m\u001b[0;34m'value'\u001b[0m\u001b[0;34m]\u001b[0m\u001b[0;34m\u001b[0m\u001b[0;34m\u001b[0m\u001b[0m\n\u001b[1;32m     45\u001b[0m         \u001b[0;32mif\u001b[0m \u001b[0mmin\u001b[0m \u001b[0;34m>\u001b[0m \u001b[0mself\u001b[0m\u001b[0;34m.\u001b[0m\u001b[0mmax\u001b[0m\u001b[0;34m:\u001b[0m\u001b[0;34m\u001b[0m\u001b[0;34m\u001b[0m\u001b[0m\n\u001b[0;32m---> 46\u001b[0;31m             \u001b[0;32mraise\u001b[0m \u001b[0mTraitError\u001b[0m\u001b[0;34m(\u001b[0m\u001b[0;34m'Setting min > max'\u001b[0m\u001b[0;34m)\u001b[0m\u001b[0;34m\u001b[0m\u001b[0;34m\u001b[0m\u001b[0m\n\u001b[0m\u001b[1;32m     47\u001b[0m         \u001b[0;32mif\u001b[0m \u001b[0mmin\u001b[0m \u001b[0;34m>\u001b[0m \u001b[0mself\u001b[0m\u001b[0;34m.\u001b[0m\u001b[0mvalue\u001b[0m\u001b[0;34m:\u001b[0m\u001b[0;34m\u001b[0m\u001b[0;34m\u001b[0m\u001b[0m\n\u001b[1;32m     48\u001b[0m             \u001b[0mself\u001b[0m\u001b[0;34m.\u001b[0m\u001b[0mvalue\u001b[0m \u001b[0;34m=\u001b[0m \u001b[0mmin\u001b[0m\u001b[0;34m\u001b[0m\u001b[0;34m\u001b[0m\u001b[0m\n",
      "\u001b[0;31mTraitError\u001b[0m: Setting min > max"
     ]
    }
   ],
   "source": [
    "nu = 1\n",
    "\n",
    "Rm = .1\n",
    "RM = 1\n",
    "\n",
    "k1 = A.ks[0] * A.scale\n",
    "\n",
    "def hankel2_asymp_plot(beta_re, beta_im, alpha, R):\n",
    "    plt.figure(2, figsize=(14,8))\n",
    "    \n",
    "    k2 = A.ks[1] * A.scale\n",
    "    beta = beta_re + beta_im * 1j\n",
    "    K = np.sqrt(k2**2 - beta**2, dtype=complex)\n",
    "    \n",
    "    rs = np.arange(Rm, RM, .001, dtype=complex)\n",
    "    rs[np.where(rs.real>=R)] += (rs[np.where(rs.real>=R)] - R) * (-alpha) * 1j\n",
    "    \n",
    "    h2s = sp.hankel2(1, K * rs)\n",
    "    h2s2 = hankel2_asymp(1, K * rs)\n",
    "    plt.ylim(-.6,.6)\n",
    "    plt.title(\"$H^{(2)}_\\\\nu(\\,Zr)$ for $\\\\nu=1$ \\n and $Z^2 = k_{clad}^2 - \\\\beta^2$ \\n\")\n",
    "    \n",
    "    plt.plot(rs.real, h2s.real, label='real_hankel')\n",
    "    plt.plot(rs.real, h2s2.real, linestyle=(0,(4,8)), label='real_asymp')\n",
    "\n",
    "    plt.plot(rs.real, h2s.imag, label='imag_hankel')\n",
    "    plt.plot(rs.real, h2s2.imag,  linestyle=(0,(4,8)), label='imag_asymp')\n",
    "\n",
    "    minL, maxL = plt.gca().get_ylim()\n",
    "    plt.plot([R,R], [minL, maxL], linestyle=':', color='g', linewidth=.9)\n",
    "    plt.legend()\n",
    "    plt.show()\n",
    "\n",
    "m, M = k1, k2\n",
    "interactive_plot = interactive(hankel2_asymp_plot,\n",
    "                               beta_re=FloatSlider(min=m, max=M, step=(M-m)/51, value=(k1),\n",
    "                                                   readout_format='.3f', layout=Layout(width='90%')),\n",
    "                               beta_im=FloatSlider(min=-.3, max=.3, step=0.01, value=0.01,\n",
    "                                                   readout_format='.3f', layout=Layout(width='90%')),\n",
    "                               alpha=FloatSlider(min=0, max=.2, step=0.002, value=0.004,\n",
    "                                                   readout_format='.3f', layout=Layout(width='90%')),\n",
    "                               R=FloatSlider(min=1.01*Rm, max=.99*RM, step=(RM-Rm)/41, value=(RM+Rm)/2,\n",
    "                                                   readout_format='.3f', layout=Layout(width='90%'))                              )\n",
    "output = interactive_plot.children[-1]\n",
    "output.layout.height = '10'\n",
    "interactive_plot"
   ]
  },
  {
   "cell_type": "code",
   "execution_count": null,
   "id": "2fa68a88",
   "metadata": {},
   "outputs": [],
   "source": []
  }
 ],
 "metadata": {
  "kernelspec": {
   "display_name": "Python 3 (ipykernel)",
   "language": "python",
   "name": "python3"
  },
  "language_info": {
   "codemirror_mode": {
    "name": "ipython",
    "version": 3
   },
   "file_extension": ".py",
   "mimetype": "text/x-python",
   "name": "python",
   "nbconvert_exporter": "python",
   "pygments_lexer": "ipython3",
   "version": "3.8.10"
  }
 },
 "nbformat": 4,
 "nbformat_minor": 5
}
