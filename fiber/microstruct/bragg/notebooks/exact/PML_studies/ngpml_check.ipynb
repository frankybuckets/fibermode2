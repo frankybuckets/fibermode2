{
 "cells": [
  {
   "cell_type": "markdown",
   "id": "bc1d4415",
   "metadata": {},
   "source": [
    "# We seem to get different results with exact pml than with NG pml\n",
    "\n",
    "I could have an error in my implementation, but also with lossy materials things seem to react to much smaller alphas than I'd have anticipated.  I'm trying to check what ngpml is doing here more precisely."
   ]
  },
  {
   "cell_type": "code",
   "execution_count": null,
   "id": "d3a8750b",
   "metadata": {},
   "outputs": [],
   "source": [
    "import ngsolve as ng\n",
    "from ngsolve.webgui import Draw\n",
    "from netgen.geom2d import SplineGeometry\n",
    "import matplotlib.pyplot as plt"
   ]
  },
  {
   "cell_type": "code",
   "execution_count": null,
   "id": "05bece00",
   "metadata": {},
   "outputs": [],
   "source": [
    "geo = SplineGeometry()\n",
    "geo.AddCircle( (0,0), 2, leftdomain=2, bc=\"outerbnd\")\n",
    "geo.AddCircle( (0,0), 1, leftdomain=1, rightdomain=2, bc=\"innerbnd\")\n",
    "geo.SetMaterial(1, \"inner\")\n",
    "geo.SetMaterial(2, \"pmlregion\")\n",
    "mesh = ng.Mesh(geo.GenerateMesh (maxh=0.08))\n",
    "mesh.Curve(3)\n",
    "\n",
    "f = ng.exp(-20**2*((ng.x-0.3)*(ng.x-0.3)+ng.y*ng.y))\n",
    "Draw(f, mesh, 'f')"
   ]
  },
  {
   "cell_type": "code",
   "execution_count": null,
   "id": "df51d593",
   "metadata": {},
   "outputs": [],
   "source": [
    "PML = ng.pml.Radial(rad=1,alpha=1j,origin=(0,0))"
   ]
  },
  {
   "cell_type": "code",
   "execution_count": null,
   "id": "df782a70",
   "metadata": {},
   "outputs": [],
   "source": [
    "mesh.SetPML(ng.pml.Radial(rad=1,alpha=1j,origin=(0,0)), \"pmlregion\")\n"
   ]
  },
  {
   "cell_type": "code",
   "execution_count": null,
   "id": "4144ecab",
   "metadata": {},
   "outputs": [],
   "source": [
    "fes = ng.H1(mesh, order=4, complex=True)\n",
    "u = fes.TrialFunction()\n",
    "v = fes.TestFunction()\n",
    "\n",
    "omega = 10\n",
    "\n",
    "a = ng.BilinearForm(fes)\n",
    "a += ng.grad(u)*ng.grad(v)*ng.dx - omega**2*u*v*ng.dx\n",
    "a += -1j*omega*u*v*ng.ds(\"outerbnd\")\n",
    "\n",
    "b = ng.LinearForm(fes)\n",
    "b += f * v * ng.dx\n",
    "\n",
    "a.Assemble()\n",
    "b.Assemble()\n",
    "\n",
    "gfu = ng.GridFunction(fes)\n",
    "# gfu.vec.data = 1e3*a.mat.Inverse() * b.vec\n",
    "gfu.vec[:] = 0\n",
    "gfu.vec[1] = 1+2j\n",
    "\n",
    "Draw(gfu)"
   ]
  },
  {
   "cell_type": "code",
   "execution_count": null,
   "id": "0b544abe",
   "metadata": {},
   "outputs": [],
   "source": [
    "Draw(PML.Det_CF, mesh)"
   ]
  },
  {
   "cell_type": "code",
   "execution_count": null,
   "id": "0e1e7b42",
   "metadata": {},
   "outputs": [],
   "source": [
    "Rout = 2\n",
    "R = 1\n",
    "d = 1\n",
    "alpha = 1\n",
    "\n",
    "import ngsolve as ng\n",
    "# Set complex trafo\n",
    "rh = ng.sqrt(ng.x**2 + ng.y**2)  # radial variable\n",
    "r = rh + 1/(d+1) * alpha * 1j * (rh - R) ** (d+1)\n",
    "drdrh = 1 + alpha*1j * (rh - R) ** d\n",
    "\n",
    "x = r * ng.x / rh\n",
    "y = r * ng.y / rh\n",
    "\n",
    "trafo = ng.CoefficientFunction((x, y))\n",
    "\n",
    "# derivatives and determinant\n",
    "\n",
    "dxdxh = drdrh * (ng.x / rh) ** 2 + r * (ng.y ** 2 / rh ** 3)\n",
    "dxdyh = drdrh * (ng.y * ng. x / rh ** 2) - \\\n",
    "    r * (ng.y * ng.x / rh ** 3)\n",
    "\n",
    "dydyh = drdrh * (ng.y / rh) ** 2 + r * (ng.x ** 2 / rh ** 3)\n",
    "dydxh = dxdyh\n",
    "\n",
    "J = ng.CoefficientFunction((dxdxh, dxdyh, dydxh, dydyh),\n",
    "                           dims=(2, 2))\n",
    "\n",
    "custom_pml = ng.pml.Custom(trafo, J)\n",
    "\n"
   ]
  },
  {
   "cell_type": "code",
   "execution_count": null,
   "id": "add2a2f9",
   "metadata": {},
   "outputs": [],
   "source": [
    "Draw((custom_pml.PML_CF[1]**2 + custom_pml.PML_CF[0]**2)**.5, mesh)"
   ]
  },
  {
   "cell_type": "code",
   "execution_count": null,
   "id": "ae6b5d64",
   "metadata": {},
   "outputs": [],
   "source": [
    "Draw(custom_pml.Det_CF, mesh)"
   ]
  },
  {
   "cell_type": "code",
   "execution_count": null,
   "id": "99012ed8",
   "metadata": {},
   "outputs": [],
   "source": []
  }
 ],
 "metadata": {
  "kernelspec": {
   "display_name": "Python 3 (ipykernel)",
   "language": "python",
   "name": "python3"
  },
  "language_info": {
   "codemirror_mode": {
    "name": "ipython",
    "version": 3
   },
   "file_extension": ".py",
   "mimetype": "text/x-python",
   "name": "python",
   "nbconvert_exporter": "python",
   "pygments_lexer": "ipython3",
   "version": "3.8.10"
  }
 },
 "nbformat": 4,
 "nbformat_minor": 5
}
