{
 "cells": [
  {
   "cell_type": "markdown",
   "id": "720129b6",
   "metadata": {},
   "source": [
    "\n",
    "# Using 4 layered radial fiber to model polymer loss\n",
    "\n",
    "Layers: air, glass, (lossy) polymer, air.  Goal is to see if this is why we don't experimentally see the level of variation (grassy field) that we might predict from our outer air model.  Guess is that lossy polymer coating attenuates the fields enough to modify and smooth the grass.  Maybe then the results look more like experiment (which have a good amount of variation, but not grass level variation)."
   ]
  },
  {
   "cell_type": "code",
   "execution_count": null,
   "id": "664ce3d7",
   "metadata": {},
   "outputs": [],
   "source": [
    "import numpy as np\n",
    "\n",
    "from fiberamp.fiber.microstruct.bragg import BraggExact\n",
    "from step_exact import plotlogf\n",
    "from ngsolve.webgui import Draw\n",
    "from ngsolve import CF\n",
    "from scipy.optimize import newton"
   ]
  },
  {
   "cell_type": "markdown",
   "id": "2471615f",
   "metadata": {},
   "source": [
    "# First polymer without extinction coefficient"
   ]
  },
  {
   "cell_type": "code",
   "execution_count": null,
   "id": "9a36e6d2",
   "metadata": {},
   "outputs": [],
   "source": [
    "n_air = 1.00027717\n",
    "n_glass = 1.4388164768221814\n",
    "n_poly = 1.5"
   ]
  },
  {
   "cell_type": "code",
   "execution_count": null,
   "id": "b7c559c9",
   "metadata": {},
   "outputs": [],
   "source": [
    "ts = [15*2.7183333333333333e-6, 15*2/3*1e-6, 15*2.7183333333333333e-6, 15*2e-6]\n",
    "ns = [lambda x:n_air, lambda x:n_glass, lambda x:n_poly, lambda x:n_air]\n",
    "mats = ['air','glass', 'polymer','air']\n",
    "maxhs = [.1, .02, .01, .1]"
   ]
  },
  {
   "cell_type": "code",
   "execution_count": null,
   "id": "e74065e7",
   "metadata": {},
   "outputs": [],
   "source": [
    "A = BraggExact(ts=ts, ns=ns , mats=mats,maxhs=maxhs, wl=1.4e-6)"
   ]
  },
  {
   "cell_type": "code",
   "execution_count": null,
   "id": "9e68f5cc",
   "metadata": {},
   "outputs": [],
   "source": [
    "Draw(CF([n for n in A.ns]), A.mesh)"
   ]
  },
  {
   "cell_type": "code",
   "execution_count": null,
   "id": "7017a529",
   "metadata": {},
   "outputs": [],
   "source": [
    "k_low = A.ks[0] * A.scale\n",
    "k_high = A.ks[1] * A.scale\n",
    "k_low, k_high"
   ]
  },
  {
   "cell_type": "code",
   "execution_count": null,
   "id": "cab9eb3d",
   "metadata": {},
   "outputs": [],
   "source": [
    "outer = 'h2'\n",
    "nu = 1"
   ]
  },
  {
   "cell_type": "code",
   "execution_count": null,
   "id": "7ac1de67",
   "metadata": {},
   "outputs": [],
   "source": [
    "plotlogf(A.determinant, .99992*k_low, 1.0001*k_low, -.01,.01, nu, outer,\n",
    "         iref=100, rref=100, levels=100)"
   ]
  },
  {
   "cell_type": "code",
   "execution_count": null,
   "id": "268c7ed7",
   "metadata": {},
   "outputs": [],
   "source": [
    "guess = np.array(.9999*k_low)\n",
    "\n",
    "beta = newton(A.determinant, guess, args=(nu, outer), tol = 1e-15)\n",
    "\n",
    "print(\"Scaled beta: \", beta, \". Residual of determinant: \", abs(A.determinant(beta, nu, outer)))\n"
   ]
  },
  {
   "cell_type": "code",
   "execution_count": null,
   "id": "6a581999",
   "metadata": {},
   "outputs": [],
   "source": [
    "Fs = A.all_fields(beta, nu, outer)"
   ]
  },
  {
   "cell_type": "code",
   "execution_count": null,
   "id": "4a0c6661",
   "metadata": {},
   "outputs": [],
   "source": [
    "Draw(1e1*Fs['Ez'], A.mesh)"
   ]
  },
  {
   "cell_type": "markdown",
   "id": "1e8a4b94",
   "metadata": {},
   "source": [
    "# Now polymer with a non-zero extinction coefficient"
   ]
  },
  {
   "cell_type": "code",
   "execution_count": null,
   "id": "c798923a",
   "metadata": {},
   "outputs": [],
   "source": [
    "n_air = 1.00027717\n",
    "n_glass = 1.4388164768221814\n",
    "n_poly = 1.5-.04j"
   ]
  },
  {
   "cell_type": "code",
   "execution_count": null,
   "id": "f770ce11",
   "metadata": {},
   "outputs": [],
   "source": [
    "ts = [15*2.7183333333333333e-6, 15*2/3*1e-6, 15*2.7183333333333333e-6, 15*2e-6]\n",
    "ns = [lambda x:n_air, lambda x:n_glass, lambda x:n_poly, lambda x:n_air]\n",
    "mats = ['air','glass', 'polymer','air']\n",
    "maxhs = [.1, .02, .01, .1]"
   ]
  },
  {
   "cell_type": "code",
   "execution_count": null,
   "id": "3f41175f",
   "metadata": {},
   "outputs": [],
   "source": [
    "A = BraggExact(ts=ts, ns=ns , mats=mats,maxhs=maxhs)"
   ]
  },
  {
   "cell_type": "code",
   "execution_count": null,
   "id": "91cc02fd",
   "metadata": {},
   "outputs": [],
   "source": [
    "Draw(CF([n for n in A.ns]), A.mesh)"
   ]
  },
  {
   "cell_type": "code",
   "execution_count": null,
   "id": "9ed500a2",
   "metadata": {},
   "outputs": [],
   "source": [
    "k_low = A.ks[0] * A.scale\n",
    "k_high = A.ks[1] * A.scale\n",
    "k_low, k_high"
   ]
  },
  {
   "cell_type": "code",
   "execution_count": null,
   "id": "5c88f4fa",
   "metadata": {},
   "outputs": [],
   "source": [
    "outer = 'h2'\n",
    "nu = 1"
   ]
  },
  {
   "cell_type": "code",
   "execution_count": null,
   "id": "33f96875",
   "metadata": {},
   "outputs": [],
   "source": [
    "plotlogf(A.determinant, .9998*k_low, 1.0001*k_low, -.01,.01, nu, outer,\n",
    "         iref=100, rref=100, levels=100)"
   ]
  },
  {
   "cell_type": "code",
   "execution_count": null,
   "id": "67cd121d",
   "metadata": {},
   "outputs": [],
   "source": [
    "guess = np.array(52.367)\n",
    "\n",
    "beta = newton(A.determinant, guess, args=(nu, outer), tol = 1e-12)\n",
    "\n",
    "print(\"Scaled beta: \", beta, \". Residual of determinant: \", abs(A.determinant(beta, nu, outer)))\n"
   ]
  },
  {
   "cell_type": "code",
   "execution_count": null,
   "id": "6527614a",
   "metadata": {},
   "outputs": [],
   "source": [
    "Fs = A.all_fields(beta, nu, outer)"
   ]
  },
  {
   "cell_type": "code",
   "execution_count": null,
   "id": "eca1817b",
   "metadata": {},
   "outputs": [],
   "source": [
    "Draw(1e1*Fs['Ez'], A.mesh)"
   ]
  },
  {
   "cell_type": "code",
   "execution_count": null,
   "id": "b8a5b555",
   "metadata": {},
   "outputs": [],
   "source": []
  }
 ],
 "metadata": {
  "kernelspec": {
   "display_name": "Python 3 (ipykernel)",
   "language": "python",
   "name": "python3"
  },
  "language_info": {
   "codemirror_mode": {
    "name": "ipython",
    "version": 3
   },
   "file_extension": ".py",
   "mimetype": "text/x-python",
   "name": "python",
   "nbconvert_exporter": "python",
   "pygments_lexer": "ipython3",
   "version": "3.8.10"
  }
 },
 "nbformat": 4,
 "nbformat_minor": 5
}
