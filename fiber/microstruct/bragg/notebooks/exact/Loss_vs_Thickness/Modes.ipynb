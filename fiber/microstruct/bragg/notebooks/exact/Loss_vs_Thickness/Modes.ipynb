{
 "cells": [
  {
   "cell_type": "markdown",
   "id": "720129b6",
   "metadata": {},
   "source": [
    "\n",
    "# Investigating how thickness and loss in polymer coating interplay\n",
    "\n",
    "Coated hollow glass tube in air."
   ]
  },
  {
   "cell_type": "code",
   "execution_count": null,
   "id": "664ce3d7",
   "metadata": {},
   "outputs": [],
   "source": [
    "import numpy as np\n",
    "\n",
    "from fiberamp.fiber.microstruct.bragg import BraggExact\n",
    "from step_exact import plotlogf\n",
    "from ngsolve.webgui import Draw\n",
    "from ngsolve import CF\n",
    "from scipy.optimize import newton\n"
   ]
  },
  {
   "cell_type": "code",
   "execution_count": null,
   "id": "9d706ddc",
   "metadata": {},
   "outputs": [],
   "source": [
    "n_air = 1.00027717\n",
    "n_glass = 1.4388164768221814\n",
    "\n",
    "n_im = 1e-3\n",
    "n_poly = n_glass - n_im * 1j\n",
    "\n",
    "mats = ['air', 'glass', 'poly', 'air']\n",
    "\n",
    "T = 60\n",
    "ts = [15e-6,.5*15e-6, T*15e-6, 2*15e-6]\n",
    "scale = 15e-6\n",
    "wl = 1.8e-6\n",
    "\n",
    "ns = [lambda x:n_air, lambda x:n_glass, lambda x:n_poly, lambda x:n_air]"
   ]
  },
  {
   "cell_type": "code",
   "execution_count": null,
   "id": "f249bc35",
   "metadata": {},
   "outputs": [],
   "source": [
    "A = BraggExact(ts=ts, mats=mats, ns=ns, maxhs=[.1,.05, .015, .1], scale=scale, wl=wl)\n"
   ]
  },
  {
   "cell_type": "code",
   "execution_count": null,
   "id": "7fbfccda",
   "metadata": {},
   "outputs": [],
   "source": [
    "Draw(CF(list(A.ns)), A.mesh)"
   ]
  },
  {
   "cell_type": "code",
   "execution_count": null,
   "id": "7017a529",
   "metadata": {},
   "outputs": [],
   "source": [
    "k_low = (A.k0 * A.ns[0] * A.scale).real\n",
    "k_low"
   ]
  },
  {
   "cell_type": "code",
   "execution_count": null,
   "id": "cab9eb3d",
   "metadata": {},
   "outputs": [],
   "source": [
    "outer = 'h2'\n",
    "nu = 1"
   ]
  },
  {
   "cell_type": "code",
   "execution_count": null,
   "id": "8f45255c",
   "metadata": {},
   "outputs": [],
   "source": [
    "%matplotlib notebook\n",
    "plotlogf(A.determinant, .99*k_low, 1.001*k_low, -.1,.1, nu, outer,\n",
    "         iref=100, rref=100, levels=100)"
   ]
  },
  {
   "cell_type": "code",
   "execution_count": null,
   "id": "f5d0ebf1",
   "metadata": {},
   "outputs": [],
   "source": [
    "guess = np.array(.999 * k_low)\n",
    "\n",
    "beta1 = newton(A.determinant, guess, args=(nu, outer), tol = 1e-15)\n",
    "\n",
    "print(\"Scaled beta: \", beta1, \". Residual of determinant: \", abs(A.determinant(beta1, nu, outer)))\n"
   ]
  },
  {
   "cell_type": "markdown",
   "id": "cd4c2e9e",
   "metadata": {},
   "source": [
    "# Bragg Exact Fields"
   ]
  },
  {
   "cell_type": "code",
   "execution_count": null,
   "id": "0253bcf4",
   "metadata": {},
   "outputs": [],
   "source": [
    "Fs = A.all_fields(beta1, nu, outer)"
   ]
  },
  {
   "cell_type": "markdown",
   "id": "7c1a2ec3",
   "metadata": {},
   "source": [
    "### Electric"
   ]
  },
  {
   "cell_type": "code",
   "execution_count": null,
   "id": "f23cced9",
   "metadata": {},
   "outputs": [],
   "source": [
    "fs = A.fields_matplot(beta1, nu, outer)"
   ]
  },
  {
   "cell_type": "code",
   "execution_count": null,
   "id": "48e0cae6",
   "metadata": {},
   "outputs": [],
   "source": [
    "Ez_rad = fs['Sz_rad']"
   ]
  },
  {
   "cell_type": "code",
   "execution_count": null,
   "id": "a49780ec",
   "metadata": {},
   "outputs": [],
   "source": [
    "nr = [100, 100, 15000, 100]\n",
    "rhos = np.concatenate([[1e-9], A.rhos/ A.scale])\n",
    "rs = np.concatenate([np.linspace(rhos[i], rhos[i+1], nr[i])[:-1]\n",
    "                    for i in range(len(rhos)-1)])\n",
    "\n",
    "thetas = np.linspace(0, 2*np.pi, 1000)"
   ]
  },
  {
   "cell_type": "code",
   "execution_count": null,
   "id": "0d6de267",
   "metadata": {},
   "outputs": [],
   "source": [
    "ys = Ez_rad(rs)"
   ]
  },
  {
   "cell_type": "code",
   "execution_count": null,
   "id": "c7ce063a",
   "metadata": {},
   "outputs": [],
   "source": [
    "%matplotlib notebook\n",
    "import matplotlib.pyplot as plt\n",
    "plt.plot(rs, ys.real)\n",
    "ax = plt.gca()\n",
    "m, M = ax.get_ylim()\n",
    "for r in A.rhos/ A.scale:\n",
    "    plt.plot([r, r], [m, M])"
   ]
  },
  {
   "cell_type": "code",
   "execution_count": null,
   "id": "644bf7ef",
   "metadata": {},
   "outputs": [],
   "source": [
    "Draw(Fs['Ez'], A.mesh)"
   ]
  },
  {
   "cell_type": "code",
   "execution_count": null,
   "id": "6e07a6b6",
   "metadata": {},
   "outputs": [],
   "source": [
    "Draw(Fs['Etv'].real, A.mesh, vectors={'grid_size':2000})"
   ]
  },
  {
   "cell_type": "code",
   "execution_count": null,
   "id": "b84963f1",
   "metadata": {},
   "outputs": [],
   "source": [
    "Draw(Fs['Ephi'].imag, A.mesh)"
   ]
  },
  {
   "cell_type": "markdown",
   "id": "f1f9578c",
   "metadata": {},
   "source": [
    "### Magnetic"
   ]
  },
  {
   "cell_type": "code",
   "execution_count": null,
   "id": "49568c85",
   "metadata": {},
   "outputs": [],
   "source": [
    "Draw(1e1*Fs['Hz'], A.mesh)"
   ]
  },
  {
   "cell_type": "code",
   "execution_count": null,
   "id": "24cd0d99",
   "metadata": {},
   "outputs": [],
   "source": [
    "Draw(Fs['Hphi'].imag, A.mesh)"
   ]
  },
  {
   "cell_type": "markdown",
   "id": "162fe481",
   "metadata": {},
   "source": [
    "### Poynting Vector"
   ]
  },
  {
   "cell_type": "code",
   "execution_count": null,
   "id": "401eb3bd",
   "metadata": {},
   "outputs": [],
   "source": [
    "Draw(Fs['Sz'], A.mesh)"
   ]
  },
  {
   "cell_type": "code",
   "execution_count": null,
   "id": "de1ab091",
   "metadata": {},
   "outputs": [],
   "source": [
    "Draw(Fs['Sr'], A.mesh)"
   ]
  },
  {
   "cell_type": "code",
   "execution_count": null,
   "id": "83e875f8",
   "metadata": {},
   "outputs": [],
   "source": [
    "import ngsolve as ng\n",
    "f = ng.x**2 + ng.y **3\n"
   ]
  },
  {
   "cell_type": "code",
   "execution_count": null,
   "id": "e4b260dd",
   "metadata": {},
   "outputs": [],
   "source": [
    "f = f.Compile()"
   ]
  },
  {
   "cell_type": "code",
   "execution_count": null,
   "id": "4d7efbe8",
   "metadata": {},
   "outputs": [],
   "source": [
    "f.Compile(realcompile=True, wait=True)\n"
   ]
  },
  {
   "cell_type": "code",
   "execution_count": null,
   "id": "bbe1c3eb",
   "metadata": {},
   "outputs": [],
   "source": [
    "from ngsolve.special_functions import jv\n"
   ]
  },
  {
   "cell_type": "code",
   "execution_count": null,
   "id": "c6468746",
   "metadata": {},
   "outputs": [],
   "source": [
    "Draw(jv(ng.x,1), A.mesh)"
   ]
  },
  {
   "cell_type": "code",
   "execution_count": null,
   "id": "6b5254d4",
   "metadata": {},
   "outputs": [],
   "source": [
    "cf = jv(ng.x,1).Compile(realcompile=True, wait=True)"
   ]
  },
  {
   "cell_type": "code",
   "execution_count": null,
   "id": "afcf9b19",
   "metadata": {},
   "outputs": [],
   "source": [
    "cf = ng.CF([jv(ng.sqrt(ng.x**2 + ng.y**2),1),2,3]).Compile(realcompile=True, wait=True)"
   ]
  },
  {
   "cell_type": "code",
   "execution_count": null,
   "id": "d3eb2c9b",
   "metadata": {},
   "outputs": [],
   "source": []
  }
 ],
 "metadata": {
  "kernelspec": {
   "display_name": "Python 3 (ipykernel)",
   "language": "python",
   "name": "python3"
  },
  "language_info": {
   "codemirror_mode": {
    "name": "ipython",
    "version": 3
   },
   "file_extension": ".py",
   "mimetype": "text/x-python",
   "name": "python",
   "nbconvert_exporter": "python",
   "pygments_lexer": "ipython3",
   "version": "3.8.10"
  }
 },
 "nbformat": 4,
 "nbformat_minor": 5
}
