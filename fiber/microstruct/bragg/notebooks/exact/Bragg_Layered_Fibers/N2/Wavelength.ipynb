{
 "cells": [
  {
   "cell_type": "markdown",
   "id": "720129b6",
   "metadata": {},
   "source": [
    "# Wavelength Loss dependence using BraggExact\n",
    "\n",
    "Here for the N2 configuration from Bird."
   ]
  },
  {
   "cell_type": "code",
   "execution_count": null,
   "id": "664ce3d7",
   "metadata": {},
   "outputs": [],
   "source": [
    "import numpy as np\n",
    "import matplotlib.pyplot as plt\n",
    "\n",
    "from fiberamp.fiber.microstruct.bragg import BraggExact\n",
    "from step_exact import plotlogf\n",
    "from ngsolve.webgui import Draw\n",
    "from scipy.optimize import newton"
   ]
  },
  {
   "cell_type": "markdown",
   "id": "d358a48f",
   "metadata": {},
   "source": [
    "# Initialize"
   ]
  },
  {
   "cell_type": "code",
   "execution_count": null,
   "id": "30f4dd59",
   "metadata": {},
   "outputs": [],
   "source": [
    "n = 300\n",
    "wls = np.linspace(.4e-6, 1.6e-6, n+1)\n",
    "betas1 = np.zeros_like(wls, dtype=complex)\n",
    "outer = 'h2'\n",
    "nu = 1"
   ]
  },
  {
   "cell_type": "code",
   "execution_count": null,
   "id": "0ec21ed3",
   "metadata": {},
   "outputs": [],
   "source": [
    "# n_air = 1.00027717\n",
    "# n_glass = 1.4388164768221814\n",
    "# ns = [lambda x:n_air, lambda x:n_glass, lambda x:n_air, lambda x : n_glass]\n",
    "# ts = [15*1e-6, .42*1e-6, 15*1e-6, 15*1e-6]"
   ]
  },
  {
   "cell_type": "code",
   "execution_count": null,
   "id": "1836ed2e",
   "metadata": {},
   "outputs": [],
   "source": [
    "ts = [15*1e-6, .42*1e-6, 15*1e-6, 10*1e-6, 5e-6]\n",
    "n_air = 1.00027717\n",
    "n_glass = 1.4388164768221814\n",
    "ns = [lambda x:n_air, lambda x:n_glass, lambda x:n_air, lambda x : n_glass, lambda x:n_air]\n",
    "mats = ['air', 'glass', 'air', 'glass','air']"
   ]
  },
  {
   "cell_type": "markdown",
   "id": "0b5b89c6",
   "metadata": {},
   "source": [
    "# Four Layer Study: Glass outside Air (Outside Cladding)"
   ]
  },
  {
   "cell_type": "code",
   "execution_count": null,
   "id": "81226ec5",
   "metadata": {},
   "outputs": [],
   "source": [
    "for i, wl in enumerate(wls):\n",
    "    print(5 * ' ' +  + 20 * '-' + '  ' + str(i+1) + '/' + str(n+1) + ': ' +\n",
    "          'wavelength: ' +  str(wls[i]) + '  ' +  20 * '-' +5 * ' '+'\\n')\n",
    "          \n",
    "    A = BraggExact(ts=ts, mats=mats, ns=ns, maxhs=[100 ,100, 100, 100, 100], wl=wl,no_mesh=True)\n",
    "\n",
    "    k_low = A.ks[0] * A.scale\n",
    "    if wl <.8e-6:\n",
    "        guess = np.array(.99995 * k_low)\n",
    "    else:\n",
    "        guess = np.array(.9999 * k_low)\n",
    "    imag = 0\n",
    "    flag = True\n",
    "    reduce = 0\n",
    "\n",
    "    while flag:\n",
    "        try:\n",
    "            x0 = np.array(guess + imag*1j)\n",
    "            beta = newton(A.determinant, x0, args=(nu, outer), tol = 1e-17)\n",
    "            if beta.real > k_low:\n",
    "                print(\"Captured wrong mode, retrying.\")\n",
    "                raise RuntimeError\n",
    "            elif beta.imag > 0:\n",
    "                print(\"Positive imaginary part, retrying.\")\n",
    "                imag = -beta.imag\n",
    "                guess *= 1/.999999\n",
    "                raise RuntimeError\n",
    "            else:\n",
    "                print(\"Scaled beta: \", beta, \". Residual of determinant: \", \n",
    "                      abs(A.determinant(beta, nu, outer)), '\\n\\n' )\n",
    "                imag = beta.imag\n",
    "                flag=False\n",
    "        except RuntimeError:\n",
    "            guess *= .999999\n",
    "            reduce += 1\n",
    "            print(\"scaling guess: \" + str(reduce), flush=True)\n",
    "    betas1[i] = beta\n",
    "    "
   ]
  },
  {
   "cell_type": "code",
   "execution_count": null,
   "id": "a024c592",
   "metadata": {},
   "outputs": [],
   "source": [
    "# Formula for loss spikes from article\n",
    "\n",
    "ms1 = np.arange(1,3,1)\n",
    "ms2 = np.arange(13,60,1)\n",
    "\n",
    "n1 = A.ns[0]  # Inner (core) index\n",
    "n2 = A.ns[1]  # Cladding index\n",
    "\n",
    "d1 = ts[1]\n",
    "d2 = ts[3]\n",
    "\n",
    "ls1 = (2 * n1 * d1 / ms1 * ((n2/n1)**2 - 1)**.5)  # when n2 depends on ls, need solver\n",
    "ls2 = (2 * n1 * d2 / ms2 * ((n2/n1)**2 - 1)**.5)  # when n2 depends on ls, need solver\n"
   ]
  },
  {
   "cell_type": "code",
   "execution_count": null,
   "id": "1f62d654",
   "metadata": {},
   "outputs": [],
   "source": [
    "%matplotlib notebook\n",
    "plt.figure(figsize=(14,7))\n",
    "plt.plot(wls, -betas1.imag, color='green', linewidth=.9)\n",
    "plt.yscale('log')\n",
    "m, M = plt.ylim()\n",
    "for l in ls1:\n",
    "    plt.plot([l,l], [m, M], color='red', linewidth=1, linestyle='--')\n",
    "    \n",
    "for l in ls2:\n",
    "    if l >= wls[0] and l <= wls[-1]:\n",
    "        plt.plot([l,l], [m, M], color='grey',  linewidth=1, linestyle=':')"
   ]
  },
  {
   "cell_type": "markdown",
   "id": "966ad002",
   "metadata": {},
   "source": [
    "# Base"
   ]
  },
  {
   "cell_type": "code",
   "execution_count": null,
   "id": "ae911b2a",
   "metadata": {},
   "outputs": [],
   "source": [
    "n = 300\n",
    "wls = np.linspace(.4e-6, 1.6e-6, n+1)\n",
    "betas2 = np.zeros_like(wls, dtype=complex)\n",
    "outer = 'h2'\n",
    "nu = 1"
   ]
  },
  {
   "cell_type": "code",
   "execution_count": null,
   "id": "b93ef3e7",
   "metadata": {},
   "outputs": [],
   "source": [
    "n_air = 1.00027717\n",
    "n_glass = 1.4388164768221814\n",
    "ns = [lambda x:n_air, lambda x:n_glass, lambda x:n_air, lambda x : n_glass]\n",
    "ts = [15*1e-6, .42*1e-6, 15*1e-6, 15*1e-6]\n",
    "mats = ['air', 'glass', 'air', 'glass']"
   ]
  },
  {
   "cell_type": "markdown",
   "id": "3e6630d6",
   "metadata": {},
   "source": [
    "# Four Layer Study: Glass outside Air (Outside Cladding)"
   ]
  },
  {
   "cell_type": "code",
   "execution_count": null,
   "id": "d64fb13b",
   "metadata": {},
   "outputs": [],
   "source": [
    "for i, wl in enumerate(wls):\n",
    "    print(5 * ' ' +  + 20 * '-' + '  ' + str(i+1) + '/' + str(n+1) + ': ' +\n",
    "          'wavelength: ' +  str(wls[i]) + '  ' +  20 * '-' +5 * ' '+'\\n')\n",
    "          \n",
    "    A = BraggExact(ts=ts, mats=mats, ns=ns, maxhs=[100 ,100, 100, 100], wl=wl,no_mesh=True)\n",
    "\n",
    "    k_low = A.ks[0] * A.scale\n",
    "    guess = np.array(.99995 * k_low)\n",
    "    imag = 0\n",
    "    flag = True\n",
    "    reduce = 0\n",
    "\n",
    "    while flag:\n",
    "        try:\n",
    "            x0 = np.array(guess + imag*1j)\n",
    "            beta = newton(A.determinant, x0, args=(nu, outer), tol = 1e-17)\n",
    "            if beta.real > k_low:\n",
    "                print(\"Captured wrong mode, retrying.\")\n",
    "                raise RuntimeError\n",
    "            elif beta.imag > 0:\n",
    "                print(\"Positive imaginary part, retrying.\")\n",
    "                imag = -beta.imag\n",
    "                guess *= 1/.999999\n",
    "                raise RuntimeError\n",
    "            else:\n",
    "                print(\"Scaled beta: \", beta, \". Residual of determinant: \", \n",
    "                      abs(A.determinant(beta, nu, outer)), '\\n\\n' )\n",
    "                imag = beta.imag\n",
    "                flag=False\n",
    "        except RuntimeError:\n",
    "            guess *= .999999\n",
    "            reduce += 1\n",
    "            print(\"scaling guess: \" + str(reduce), flush=True)\n",
    "    betas2[i] = beta\n",
    "    "
   ]
  },
  {
   "cell_type": "code",
   "execution_count": null,
   "id": "eab4abc7",
   "metadata": {},
   "outputs": [],
   "source": [
    "%matplotlib notebook\n",
    "plt.figure(figsize=(14,7))\n",
    "plt.plot(wls, -betas1.imag, color='green', linewidth=.9)\n",
    "plt.plot(wls, -betas2.imag, color='firebrick', linewidth=.9)\n",
    "\n",
    "plt.yscale('log')\n",
    "m, M = plt.ylim()\n",
    "for l in ls1:\n",
    "    plt.plot([l,l], [m, M], color='red', linewidth=1, linestyle='--')\n",
    "    \n",
    "    \n",
    "for l in ls2:\n",
    "    if l >= wls[0] and l <= wls[-1]:\n",
    "        plt.plot([l,l], [m, M], color='grey',  linewidth=1, linestyle=':')"
   ]
  },
  {
   "cell_type": "markdown",
   "id": "c11eb7f3",
   "metadata": {},
   "source": [
    "## Bad wavelengths"
   ]
  },
  {
   "cell_type": "code",
   "execution_count": null,
   "id": "8dc56e65",
   "metadata": {},
   "outputs": [],
   "source": [
    "ls\n",
    "np.where(abs(wls-1.88e-6)<(wls[1]-wls[0]))"
   ]
  },
  {
   "cell_type": "code",
   "execution_count": null,
   "id": "3058cf27",
   "metadata": {},
   "outputs": [],
   "source": [
    "wls[240]"
   ]
  },
  {
   "cell_type": "code",
   "execution_count": null,
   "id": "d88b7daf",
   "metadata": {},
   "outputs": [],
   "source": [
    "A = BraggExact(ts=ts, ns=ns, maxhs=[.1 ,.02, .04, .02], wl=wls[240])\n"
   ]
  },
  {
   "cell_type": "code",
   "execution_count": null,
   "id": "2bb2dc1a",
   "metadata": {},
   "outputs": [],
   "source": [
    "k_low = A.ks[0] * A.scale\n"
   ]
  },
  {
   "cell_type": "code",
   "execution_count": null,
   "id": "65b6e657",
   "metadata": {},
   "outputs": [],
   "source": [
    "plotlogf(A.determinant, .9998*k_low, k_low, -.0015,.0015, nu, outer,\n",
    "         iref=100, rref=100, levels=100, figsize=(8,6))"
   ]
  },
  {
   "cell_type": "code",
   "execution_count": null,
   "id": "aad898f9",
   "metadata": {},
   "outputs": [],
   "source": [
    "guess = np.array(50.1448)\n",
    "imag = 0\n",
    "x0 = np.array(guess + imag*1j)\n",
    "\n",
    "beta = newton(A.determinant, x0, args=(nu, outer), tol = 1e-17)\n",
    "beta"
   ]
  },
  {
   "cell_type": "code",
   "execution_count": null,
   "id": "79b28958",
   "metadata": {},
   "outputs": [],
   "source": [
    "betas1[240] = beta"
   ]
  },
  {
   "cell_type": "code",
   "execution_count": null,
   "id": "c276beec",
   "metadata": {},
   "outputs": [],
   "source": [
    "%matplotlib notebook\n",
    "plt.figure(figsize=(8,5))\n",
    "plt.plot(wls, -betas1.imag, color='green', linewidth=.9)\n",
    "plt.yscale('log')\n",
    "for l in ls:\n",
    "    plt.plot([l,l], [0, .0001],  linewidth=1, linestyle=':')"
   ]
  },
  {
   "cell_type": "markdown",
   "id": "c788935b",
   "metadata": {},
   "source": [
    "# Using Sellmeier"
   ]
  },
  {
   "cell_type": "code",
   "execution_count": null,
   "id": "066a5af3",
   "metadata": {},
   "outputs": [],
   "source": [
    "betas2=np.zeros_like(betas1)\n",
    "for i, wl in enumerate(wls):\n",
    "    print(5 * ' ' +  + 20 * '-' + '  ' + str(i+1) + '/' + str(n+1) + ': ' +\n",
    "          'wavelength: ' +  str(wls[i]) + '  ' +  20 * '-' +5 * ' '+'\\n')\n",
    "          \n",
    "    A = BraggExact(ts=ts, maxhs=[1 ,1, 1, 1], wl=wl)\n",
    "\n",
    "    k_low = A.ks[0] * A.scale\n",
    "    guess = np.array(.99995 * k_low)\n",
    "    imag = 0\n",
    "    flag = True\n",
    "    reduce = 0\n",
    "\n",
    "    while flag:\n",
    "        try:\n",
    "            x0 = np.array(guess + imag*1j)\n",
    "            beta = newton(A.determinant, x0, args=(nu, outer), tol = 1e-17)\n",
    "            if beta.real > k_low:\n",
    "                print(\"Captured wrong mode, retrying.\")\n",
    "                raise RuntimeError\n",
    "            elif beta.imag > 0:\n",
    "                print(\"Positive imaginary part, retrying.\")\n",
    "                imag = -beta.imag\n",
    "                guess *= 1/.999999\n",
    "                raise RuntimeError\n",
    "            else:\n",
    "                print(\"Scaled beta: \", beta, \". Residual of determinant: \", \n",
    "                      abs(A.determinant(beta, nu, outer)), '\\n\\n' )\n",
    "                imag = beta.imag\n",
    "                flag=False\n",
    "        except RuntimeError:\n",
    "            guess *= .999999\n",
    "            reduce += 1\n",
    "            print(\"scaling guess: \" + str(reduce), flush=True)\n",
    "    betas2[i] = beta\n",
    "    "
   ]
  },
  {
   "cell_type": "code",
   "execution_count": null,
   "id": "ce39dc28",
   "metadata": {},
   "outputs": [],
   "source": [
    "ls_sell=np.load('ls_sell.npy')"
   ]
  },
  {
   "cell_type": "code",
   "execution_count": null,
   "id": "8c6e7a9a",
   "metadata": {},
   "outputs": [],
   "source": [
    "%matplotlib notebook\n",
    "plt.figure(figsize=(8,5))\n",
    "plt.plot(wls, -betas1.imag, color='green', linewidth=.9, label='no sellmeier')\n",
    "plt.plot(wls, -betas2.imag, color='red', linewidth=.9, label='sellmeier')\n",
    "plt.yscale('log')\n",
    "plt.legend()\n",
    "for l in ls_sell:\n",
    "    plt.plot([l,l], [0, .0001],  linewidth=1, color='r',linestyle=':')\n",
    "for l in ls:\n",
    "    plt.plot([l,l], [0, .0001],  linewidth=1, color='g',linestyle=':')\n"
   ]
  },
  {
   "cell_type": "code",
   "execution_count": null,
   "id": "0af6a2c0",
   "metadata": {},
   "outputs": [],
   "source": []
  }
 ],
 "metadata": {
  "kernelspec": {
   "display_name": "Python 3 (ipykernel)",
   "language": "python",
   "name": "python3"
  },
  "language_info": {
   "codemirror_mode": {
    "name": "ipython",
    "version": 3
   },
   "file_extension": ".py",
   "mimetype": "text/x-python",
   "name": "python",
   "nbconvert_exporter": "python",
   "pygments_lexer": "ipython3",
   "version": "3.8.10"
  }
 },
 "nbformat": 4,
 "nbformat_minor": 5
}
