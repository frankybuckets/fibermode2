{
 "cells": [
  {
   "cell_type": "markdown",
   "id": "720129b6",
   "metadata": {},
   "source": [
    "# N0 configuration with lossy outer layer\n",
    "\n",
    "Does this give us the waves we see numerically?  Is loss in material equivalent to PML?\n",
    "We'll put loss in the material in same place and strength as PML, see if they give same results."
   ]
  },
  {
   "cell_type": "code",
   "execution_count": null,
   "id": "664ce3d7",
   "metadata": {},
   "outputs": [],
   "source": [
    "import numpy as np\n",
    "import matplotlib.pyplot as plt\n",
    "\n",
    "from fiberamp.fiber.microstruct.bragg import BraggExact\n",
    "from step_exact import plotlogf\n",
    "from ngsolve.webgui import Draw\n",
    "from ngsolve import CF\n",
    "from scipy.optimize import newton"
   ]
  },
  {
   "cell_type": "markdown",
   "id": "d358a48f",
   "metadata": {},
   "source": [
    "# Initialize"
   ]
  },
  {
   "cell_type": "code",
   "execution_count": null,
   "id": "30f4dd59",
   "metadata": {},
   "outputs": [],
   "source": [
    "n = 300\n",
    "wls = np.linspace(1.4e-6, 2e-6, n+1)\n",
    "betas1 = np.zeros_like(wls, dtype=complex)\n",
    "outer = 'h2'\n",
    "nu = 1"
   ]
  },
  {
   "cell_type": "code",
   "execution_count": null,
   "id": "0ec21ed3",
   "metadata": {},
   "outputs": [],
   "source": [
    "alpha=5\n",
    "n_air = 1.00027717\n",
    "n_glass = 1.4388164768221814\n",
    "ts = [15*2.7183333333333333e-6, 15*2/3*1e-6, 15*1e-6]\n",
    "ns = [lambda x: n_air, lambda x: n_glass, lambda x: n_glass - .03j]\n",
    "mats = ['air', 'glass', 'Outer']\n",
    "maxhs = [.1, .02, .04]\n",
    "scale = 15e-6\n"
   ]
  },
  {
   "cell_type": "code",
   "execution_count": null,
   "id": "37516032",
   "metadata": {},
   "outputs": [],
   "source": [
    "A = BraggExact(ts=ts, maxhs=[.1 ,.01, .01], wl=wls[0], ns=ns, mats=mats, scale=scale)\n"
   ]
  },
  {
   "cell_type": "code",
   "execution_count": null,
   "id": "b20b395e",
   "metadata": {},
   "outputs": [],
   "source": [
    "Draw(CF(list(A.ns)),A.mesh)"
   ]
  },
  {
   "cell_type": "code",
   "execution_count": null,
   "id": "8f00356a",
   "metadata": {},
   "outputs": [],
   "source": [
    "A.determinant(67, nu, outer)"
   ]
  },
  {
   "cell_type": "code",
   "execution_count": null,
   "id": "46f728d9",
   "metadata": {},
   "outputs": [],
   "source": [
    "k_low = A.ks[0].real * A.scale\n",
    "plotlogf(A.determinant, .999*k_low, 1.001 * k_low, -.015,.015, nu, outer,\n",
    "         iref=100, rref=100, levels=100)"
   ]
  },
  {
   "cell_type": "code",
   "execution_count": null,
   "id": "5dc276f9",
   "metadata": {},
   "outputs": [],
   "source": [
    "guess = np.array(.99998*k_low)\n",
    "imag = 0\n",
    "x0 = np.array(guess + imag*1j)\n",
    "\n",
    "beta = newton(A.determinant, x0, args=(nu, outer), tol = 1e-17)\n",
    "beta"
   ]
  },
  {
   "cell_type": "code",
   "execution_count": null,
   "id": "0f53e858",
   "metadata": {},
   "outputs": [],
   "source": [
    "Fs = A.all_fields(beta, nu, outer)"
   ]
  },
  {
   "cell_type": "code",
   "execution_count": null,
   "id": "2a330db5",
   "metadata": {},
   "outputs": [],
   "source": [
    "Draw(Fs['Ez'], A.mesh)"
   ]
  },
  {
   "cell_type": "markdown",
   "id": "0b5b89c6",
   "metadata": {},
   "source": [
    "# Wavelength Loss Studies\n",
    "\n",
    "## No loss base case"
   ]
  },
  {
   "cell_type": "code",
   "execution_count": null,
   "id": "81226ec5",
   "metadata": {},
   "outputs": [],
   "source": [
    "ns = [lambda x: n_air, lambda x: n_glass, lambda x: n_glass]\n",
    "\n",
    "for i, wl in enumerate(wls):\n",
    "    print(5 * ' ' +  + 20 * '-' + '  ' + str(i+1) + '/' + str(n+1) + ': ' +\n",
    "          'wavelength: ' +  str(wls[i]) + '  ' +  20 * '-' +5 * ' '+'\\n')\n",
    "          \n",
    "    A = BraggExact(ts=ts, maxhs=[2,2,2], wl=wls[i], ns=ns, mats=mats, scale=scale)\n",
    "\n",
    "    k_low = A.ks[0] * A.scale\n",
    "    guess = np.array(.99999 * k_low)\n",
    "    imag = 0\n",
    "    flag = True\n",
    "    reduce = 0\n",
    "\n",
    "    while flag:\n",
    "        try:\n",
    "            x0 = np.array(guess + imag*1j)\n",
    "            beta = newton(A.determinant, x0, args=(nu, outer), tol = 1e-17)\n",
    "            if beta.real > k_low:\n",
    "                print(\"Captured wrong mode, retrying.\")\n",
    "                raise RuntimeError\n",
    "            elif beta.imag > 0:\n",
    "                print(\"Positive imaginary part, retrying.\")\n",
    "                imag = -beta.imag\n",
    "                guess *= 1/.999999\n",
    "                raise RuntimeError\n",
    "            else:\n",
    "                print(\"Scaled beta: \", beta, \". Residual of determinant: \", \n",
    "                      abs(A.determinant(beta, nu, outer)), '\\n\\n' )\n",
    "                imag = beta.imag\n",
    "                flag=False\n",
    "        except RuntimeError:\n",
    "            guess *= .999999\n",
    "            reduce += 1\n",
    "            print(\"scaling guess: \" + str(reduce), flush=True)\n",
    "    betas1[i] = beta\n",
    "    "
   ]
  },
  {
   "cell_type": "code",
   "execution_count": null,
   "id": "1f62d654",
   "metadata": {},
   "outputs": [],
   "source": [
    "%matplotlib notebook\n",
    "plt.figure(figsize=(8,5))\n",
    "plt.plot(wls, -betas1.imag, color='green', linewidth=.9)\n",
    "plt.yscale('log')\n"
   ]
  },
  {
   "cell_type": "markdown",
   "id": "25f2f311",
   "metadata": {},
   "source": [
    "# A Bit of loss"
   ]
  },
  {
   "cell_type": "code",
   "execution_count": null,
   "id": "ffe684f9",
   "metadata": {},
   "outputs": [],
   "source": [
    "ns = [lambda x: n_air, lambda x: n_glass, lambda x: n_glass-.05j ]\n",
    "betas2=np.zeros_like(betas1)\n",
    "\n",
    "for i, wl in enumerate(wls):\n",
    "    print(5 * ' ' +  + 20 * '-' + '  ' + str(i+1) + '/' + str(n+1) + ': ' +\n",
    "          'wavelength: ' +  str(wls[i]) + '  ' +  20 * '-' +5 * ' '+'\\n')\n",
    "          \n",
    "    A = BraggExact(ts=ts, maxhs=[2,2,2], wl=wls[i], ns=ns, mats=mats, scale=scale)\n",
    "\n",
    "    k_low = A.ks[0] * A.scale\n",
    "    guess = np.array(.99999 * k_low)\n",
    "    imag = 0\n",
    "    flag = True\n",
    "    reduce = 0\n",
    "\n",
    "    while flag:\n",
    "        try:\n",
    "            x0 = np.array(guess + imag*1j)\n",
    "            beta = newton(A.determinant, x0, args=(nu, outer), tol = 1e-17)\n",
    "            if beta.real > k_low:\n",
    "                print(\"Captured wrong mode, retrying.\")\n",
    "                raise RuntimeError\n",
    "            elif beta.imag > 0:\n",
    "                print(\"Positive imaginary part, retrying.\")\n",
    "                imag = -beta.imag\n",
    "                guess *= 1/.999999\n",
    "                raise RuntimeError\n",
    "            else:\n",
    "                print(\"Scaled beta: \", beta, \". Residual of determinant: \", \n",
    "                      abs(A.determinant(beta, nu, outer)), '\\n\\n' )\n",
    "                imag = beta.imag\n",
    "                flag=False\n",
    "        except RuntimeError:\n",
    "            guess *= .999999\n",
    "            reduce += 1\n",
    "            print(\"scaling guess: \" + str(reduce), flush=True)\n",
    "    betas2[i] = beta\n",
    "    "
   ]
  },
  {
   "cell_type": "code",
   "execution_count": null,
   "id": "d847a534",
   "metadata": {},
   "outputs": [],
   "source": [
    "%matplotlib notebook\n",
    "plt.figure(figsize=(8,5))\n",
    "plt.plot(wls, -betas1.imag, color='green', linewidth=.9, label='no loss')\n",
    "plt.plot(wls, -betas2.imag, color='blue', linewidth=.9,label='.05j')\n",
    "plt.yscale('log')\n",
    "plt.legend()"
   ]
  },
  {
   "cell_type": "markdown",
   "id": "58cd6138",
   "metadata": {},
   "source": [
    "# More loss"
   ]
  },
  {
   "cell_type": "code",
   "execution_count": null,
   "id": "6aeb917a",
   "metadata": {},
   "outputs": [],
   "source": [
    "ns = [lambda x: n_air, lambda x: n_glass, lambda x: n_glass-.1j ]\n",
    "betas3=np.zeros_like(betas1)\n",
    "\n",
    "for i, wl in enumerate(wls):\n",
    "    print(5 * ' ' +  + 20 * '-' + '  ' + str(i+1) + '/' + str(n+1) + ': ' +\n",
    "          'wavelength: ' +  str(wls[i]) + '  ' +  20 * '-' +5 * ' '+'\\n')\n",
    "          \n",
    "    A = BraggExact(ts=ts, maxhs=[2,2,2], wl=wls[i], ns=ns, mats=mats, scale=scale)\n",
    "\n",
    "    k_low = A.ks[0] * A.scale\n",
    "    guess = np.array(.99999 * k_low)\n",
    "    imag = 0\n",
    "    flag = True\n",
    "    reduce = 0\n",
    "\n",
    "    while flag:\n",
    "        try:\n",
    "            x0 = np.array(guess + imag*1j)\n",
    "            beta = newton(A.determinant, x0, args=(nu, outer), tol = 1e-17)\n",
    "            if beta.real > k_low:\n",
    "                print(\"Captured wrong mode, retrying.\")\n",
    "                raise RuntimeError\n",
    "            elif beta.imag > 0:\n",
    "                print(\"Positive imaginary part, retrying.\")\n",
    "                imag = -beta.imag\n",
    "                guess *= 1/.999999\n",
    "                raise RuntimeError\n",
    "            else:\n",
    "                print(\"Scaled beta: \", beta, \". Residual of determinant: \", \n",
    "                      abs(A.determinant(beta, nu, outer)), '\\n\\n' )\n",
    "                imag = beta.imag\n",
    "                flag=False\n",
    "        except RuntimeError:\n",
    "            guess *= .999999\n",
    "            reduce += 1\n",
    "            print(\"scaling guess: \" + str(reduce), flush=True)\n",
    "    betas3[i] = beta\n",
    "    "
   ]
  },
  {
   "cell_type": "code",
   "execution_count": null,
   "id": "05b52483",
   "metadata": {},
   "outputs": [],
   "source": [
    "%matplotlib notebook\n",
    "plt.figure(figsize=(8,5))\n",
    "plt.plot(wls, -betas1.imag, color='green', linewidth=.9, label='no loss')\n",
    "plt.plot(wls, -betas2.imag, color='blue', linewidth=.9,label='.05j')\n",
    "plt.plot(wls, -betas3.imag, color='orange', linewidth=.9,label='0.1j')\n",
    "plt.yscale('log')\n",
    "plt.legend()"
   ]
  },
  {
   "cell_type": "markdown",
   "id": "4607ea3d",
   "metadata": {},
   "source": [
    "# More still : .2j"
   ]
  },
  {
   "cell_type": "code",
   "execution_count": null,
   "id": "d654d707",
   "metadata": {},
   "outputs": [],
   "source": [
    "ns = [lambda x: n_air, lambda x: n_glass, lambda x: n_glass-.2j ]\n",
    "betas4=np.zeros_like(betas1)\n",
    "\n",
    "for i, wl in enumerate(wls):\n",
    "    print(5 * ' ' +  + 20 * '-' + '  ' + str(i+1) + '/' + str(n+1) + ': ' +\n",
    "          'wavelength: ' +  str(wls[i]) + '  ' +  20 * '-' +5 * ' '+'\\n')\n",
    "          \n",
    "    A = BraggExact(ts=ts, maxhs=[2,2,2], wl=wls[i], ns=ns, mats=mats, scale=scale)\n",
    "\n",
    "    k_low = A.ks[0] * A.scale\n",
    "    guess = np.array(.99999 * k_low)\n",
    "    imag = 0\n",
    "    flag = True\n",
    "    reduce = 0\n",
    "\n",
    "    while flag:\n",
    "        try:\n",
    "            x0 = np.array(guess + imag*1j)\n",
    "            beta = newton(A.determinant, x0, args=(nu, outer), tol = 1e-17)\n",
    "            if beta.real > k_low:\n",
    "                print(\"Captured wrong mode, retrying.\")\n",
    "                raise RuntimeError\n",
    "            elif beta.imag > 0:\n",
    "                print(\"Positive imaginary part, retrying.\")\n",
    "                imag = -beta.imag\n",
    "                guess *= 1/.999999\n",
    "                raise RuntimeError\n",
    "            else:\n",
    "                print(\"Scaled beta: \", beta, \". Residual of determinant: \", \n",
    "                      abs(A.determinant(beta, nu, outer)), '\\n\\n' )\n",
    "                imag = beta.imag\n",
    "                flag=False\n",
    "        except RuntimeError:\n",
    "            guess *= .999999\n",
    "            reduce += 1\n",
    "            print(\"scaling guess: \" + str(reduce), flush=True)\n",
    "    betas4[i] = beta\n",
    "    "
   ]
  },
  {
   "cell_type": "code",
   "execution_count": null,
   "id": "57466e31",
   "metadata": {},
   "outputs": [],
   "source": [
    "%matplotlib notebook\n",
    "plt.figure(figsize=(10,6))\n",
    "plt.plot(wls, -betas1.imag, color='green', linewidth=.9, label='no loss')\n",
    "plt.plot(wls, -betas2.imag, color='blue', linewidth=.9,label='.05j')\n",
    "plt.plot(wls, -betas3.imag, color='orange', linewidth=.9,label='0.1j')\n",
    "plt.plot(wls, -betas4.imag, color='red', linewidth=.9,label='0.2j')\n",
    "plt.yscale('log')\n",
    "plt.legend()"
   ]
  },
  {
   "cell_type": "markdown",
   "id": "5e79a0a2",
   "metadata": {},
   "source": [
    "# Load numerical data to compare\n"
   ]
  },
  {
   "cell_type": "code",
   "execution_count": null,
   "id": "4141be2c",
   "metadata": {},
   "outputs": [],
   "source": [
    "num_betas = np.load('/home/pv/local/convergence/bragg_fiber/wavelength/N0/clean_betas_im.npy')"
   ]
  },
  {
   "cell_type": "code",
   "execution_count": null,
   "id": "33839bce",
   "metadata": {},
   "outputs": [],
   "source": [
    "%matplotlib notebook\n",
    "plt.figure(figsize=(10,6))\n",
    "plt.plot(wls, -betas1.imag, color='green', linewidth=.9, label='no loss')\n",
    "plt.plot(wls, -betas2.imag, color='blue', linewidth=.9,label='.05j')\n",
    "# plt.plot(wls, -betas3.imag, color='orange', linewidth=.9,label='0.1j')\n",
    "# plt.plot(wls, -betas4.imag, color='red', linewidth=.9,label='0.2j')\n",
    "plt.plot(wls, num_betas*A.scale, color='brown', linewidth=.9,linestyle='--',label='numerical')\n",
    "plt.yscale('log')\n",
    "plt.legend()\n"
   ]
  },
  {
   "cell_type": "code",
   "execution_count": null,
   "id": "3356d6f3",
   "metadata": {},
   "outputs": [],
   "source": []
  }
 ],
 "metadata": {
  "kernelspec": {
   "display_name": "Python 3 (ipykernel)",
   "language": "python",
   "name": "python3"
  },
  "language_info": {
   "codemirror_mode": {
    "name": "ipython",
    "version": 3
   },
   "file_extension": ".py",
   "mimetype": "text/x-python",
   "name": "python",
   "nbconvert_exporter": "python",
   "pygments_lexer": "ipython3",
   "version": "3.8.10"
  }
 },
 "nbformat": 4,
 "nbformat_minor": 5
}
