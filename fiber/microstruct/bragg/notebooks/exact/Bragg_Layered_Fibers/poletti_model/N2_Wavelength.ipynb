{
 "cells": [
  {
   "cell_type": "markdown",
   "id": "720129b6",
   "metadata": {},
   "source": [
    "# Wavelength Loss dependence using BraggExact\n",
    "\n",
    "Here for the N2 configuration from Bird."
   ]
  },
  {
   "cell_type": "code",
   "execution_count": null,
   "id": "664ce3d7",
   "metadata": {},
   "outputs": [],
   "source": [
    "import numpy as np\n",
    "import matplotlib.pyplot as plt\n",
    "\n",
    "from fiberamp.fiber.microstruct.bragg import BraggExact\n",
    "from step_exact import plotlogf\n",
    "from ngsolve.webgui import Draw\n",
    "from scipy.optimize import newton"
   ]
  },
  {
   "cell_type": "markdown",
   "id": "d358a48f",
   "metadata": {},
   "source": [
    "# Initialize"
   ]
  },
  {
   "cell_type": "code",
   "execution_count": null,
   "id": "30f4dd59",
   "metadata": {},
   "outputs": [],
   "source": [
    "n = 300\n",
    "# wls = np.linspace(.4e-6, 1.6e-6, n+1)\n",
    "\n",
    "wlLL = np.linspace(.4e-6, .48e-6, 40)[:-1]\n",
    "wlL = np.linspace(.48e-6, .84e-6, 35)\n",
    "wlC = np.linspace(.84e-6, .87e-6, 70)[1:-1]\n",
    "wlR = np.linspace(.87e-6, 1.6e-6, 40)\n",
    "\n",
    "wls = np.concatenate([wlLL, wlL, wlC, wlR])\n",
    "\n",
    "betas1 = np.zeros_like(wls, dtype=complex)\n",
    "outer = 'h2'\n",
    "nu = 1"
   ]
  },
  {
   "cell_type": "code",
   "execution_count": null,
   "id": "0ec21ed3",
   "metadata": {},
   "outputs": [],
   "source": [
    "# n_air = 1.00027717\n",
    "# n_glass = 1.4388164768221814\n",
    "# ns = [lambda x:n_air, lambda x:n_glass, lambda x:n_air, lambda x : n_glass]\n",
    "# ts = [15*1e-6, .42*1e-6, 15*1e-6, 15*1e-6]"
   ]
  },
  {
   "cell_type": "markdown",
   "id": "1b1ac11a",
   "metadata": {},
   "source": [
    "# 6 tube fiber"
   ]
  },
  {
   "cell_type": "code",
   "execution_count": null,
   "id": "1836ed2e",
   "metadata": {},
   "outputs": [],
   "source": [
    "ts = [15*1e-6, .42*1e-6, .832*15*1e-6, 10*1e-6]\n",
    "n_air = 1.00027717\n",
    "n_glass = 1.4388164768221814\n",
    "ns = [lambda x:n_air, lambda x:n_glass, lambda x:n_air, lambda x : n_glass]\n",
    "mats = ['air', 'glass', 'air', 'glass']\n",
    "maxhs = [100 ,100, 100, 100]\n",
    "scale = 15*1e-6"
   ]
  },
  {
   "cell_type": "code",
   "execution_count": null,
   "id": "81226ec5",
   "metadata": {},
   "outputs": [],
   "source": [
    "attempt_max = 25\n",
    "for i, wl in enumerate(wls):\n",
    "    print(5 * ' ' +  + 20 * '-' + '  ' + str(i+1) + '/' + str(len(wls)) + ': ' +\n",
    "          'wavelength: ' +  str(wls[i]) + '  ' +  20 * '-' +5 * ' '+'\\n')\n",
    "          \n",
    "    A = BraggExact(ts=ts, mats=mats, ns=ns, maxhs=maxhs, wl=wl, no_mesh=True, scale=scale)\n",
    "\n",
    "    k_low = A.ks[0] * A.scale\n",
    "    if wl <.8e-6:\n",
    "        guess = np.array(.99995 * k_low)\n",
    "    else:\n",
    "        guess = np.array(.9999 * k_low)\n",
    "    imag = 0\n",
    "    flag = True\n",
    "    reduce = 0\n",
    "    attempts = 0\n",
    "\n",
    "    while flag:\n",
    "        try:\n",
    "            x0 = np.array(guess + imag*1j)\n",
    "            beta = newton(A.determinant, x0, args=(nu, outer), tol = 1e-17)\n",
    "            if beta.real > k_low:\n",
    "                print(\"Captured wrong mode, retrying.\")\n",
    "                raise RuntimeError\n",
    "            elif beta.imag > 0:\n",
    "                print(\"Positive imaginary part, retrying.\")\n",
    "                imag = -beta.imag\n",
    "                guess *= 1/.999999\n",
    "                raise RuntimeError\n",
    "            else:\n",
    "                print(\"Scaled beta: \", beta, \". Residual of determinant: \", \n",
    "                      abs(A.determinant(beta, nu, outer)), '\\n\\n' )\n",
    "                imag = beta.imag\n",
    "                flag=False\n",
    "        except RuntimeError:\n",
    "            if attempts >= attempt_max:\n",
    "                beta = np.nan\n",
    "                flag=False\n",
    "            else:\n",
    "                guess *= .999999\n",
    "                reduce += 1\n",
    "                print(\"scaling guess: \" + str(reduce), flush=True)\n",
    "                attempts += 1\n",
    "\n",
    "    betas1[i] = beta\n",
    "    "
   ]
  },
  {
   "cell_type": "code",
   "execution_count": null,
   "id": "a024c592",
   "metadata": {},
   "outputs": [],
   "source": [
    "# Formula for loss spikes from article\n",
    "\n",
    "ms1 = np.arange(1,3,1)\n",
    "\n",
    "n1 = A.ns[0]  # Inner (core) index\n",
    "n2 = A.ns[1]  # Cladding index\n",
    "\n",
    "d1 = ts[1]\n",
    "\n",
    "ls1 = (2 * n1 * d1 / ms1 * ((n2/n1)**2 - 1)**.5)  # when n2 depends on ls, need solver\n"
   ]
  },
  {
   "cell_type": "code",
   "execution_count": null,
   "id": "1f62d654",
   "metadata": {},
   "outputs": [],
   "source": [
    "%matplotlib notebook\n",
    "plt.figure(figsize=(14,7))\n",
    "\n",
    "CL = -20 * betas1.imag/A.scale / np.log(10)\n",
    "msk = np.where(CL>0)\n",
    "plt.plot(wls[msk], CL[msk], color='green', marker='o',linewidth=.9)\n",
    "plt.rc('xtick', labelsize=14)\n",
    "plt.rc('ytick', labelsize=14)\n",
    "plt.yscale('log')\n",
    "m, M = plt.ylim()\n",
    "for l in ls1:\n",
    "    plt.plot([l,l], [m, M], color='red', linewidth=1, linestyle='--')\n"
   ]
  },
  {
   "cell_type": "markdown",
   "id": "f082ef29",
   "metadata": {},
   "source": [
    "Save data for pgfplots"
   ]
  },
  {
   "cell_type": "code",
   "execution_count": null,
   "id": "fbd80d75",
   "metadata": {},
   "outputs": [],
   "source": [
    "import os\n",
    "paper_path = os.path.relpath(os.path.expanduser('~/papers/outer_materials/\\\n",
    "figures/data/bragg/6tube'))\n",
    "\n",
    "both = np.column_stack((wls[msk]*1e6, CL[msk]))\n",
    "np.savetxt(paper_path + '/analytic.dat', both, fmt='%.8f')"
   ]
  },
  {
   "cell_type": "markdown",
   "id": "a8ea7298",
   "metadata": {},
   "source": [
    "# 8 tube fiber\n"
   ]
  },
  {
   "cell_type": "code",
   "execution_count": null,
   "id": "20c7b6ef",
   "metadata": {},
   "outputs": [],
   "source": [
    "n = 300\n",
    "wls = np.linspace(2.4e-6, 13.6e-6, n+1)\n",
    "\n",
    "# wlLL = np.linspace(.4e-6, .48e-6, 40)[:-1]\n",
    "# wlL = np.linspace(.48e-6, .84e-6, 35)\n",
    "# wlC = np.linspace(.84e-6, .87e-6, 70)[1:-1]\n",
    "# wlR = np.linspace(.87e-6, 1.6e-6, 40)\n",
    "\n",
    "# wls = np.concatenate([wlLL, wlL, wlC, wlR])\n",
    "\n",
    "betas2 = np.zeros_like(wls, dtype=complex)\n",
    "outer = 'h2'\n",
    "nu = 1"
   ]
  },
  {
   "cell_type": "code",
   "execution_count": null,
   "id": "4717cc5a",
   "metadata": {},
   "outputs": [],
   "source": [
    "ts = [59.5*1e-6, 6*1e-6, .832*59.5*1e-6, 10*1e-6]\n",
    "n_air = 1.00027717\n",
    "n_glass = 1.4388164768221814\n",
    "ns = [lambda x:n_air, lambda x:n_glass, lambda x:n_air, lambda x : n_glass]\n",
    "mats = ['air', 'glass', 'air', 'glass']\n",
    "maxhs = [100 ,100, 100, 100]"
   ]
  },
  {
   "cell_type": "code",
   "execution_count": null,
   "id": "63cc567e",
   "metadata": {},
   "outputs": [],
   "source": [
    "attempt_max = 25\n",
    "for i, wl in enumerate(wls):\n",
    "    print(5 * ' ' +  + 20 * '-' + '  ' + str(i+1) + '/' + str(len(wls)) + ': ' +\n",
    "          'wavelength: ' +  str(wls[i]) + '  ' +  20 * '-' +5 * ' '+'\\n')\n",
    "          \n",
    "    A = BraggExact(ts=ts, mats=mats, ns=ns, maxhs=maxhs, wl=wl, no_mesh=True)\n",
    "\n",
    "    k_low = A.ks[0] * A.scale\n",
    "    if wl <.8e-6:\n",
    "        guess = np.array(.99995 * k_low)\n",
    "    else:\n",
    "        guess = np.array(.9999 * k_low)\n",
    "    imag = 0\n",
    "    flag = True\n",
    "    reduce = 0\n",
    "    attempts = 0\n",
    "\n",
    "    while flag:\n",
    "        try:\n",
    "            x0 = np.array(guess + imag*1j)\n",
    "            beta = newton(A.determinant, x0, args=(nu, outer), tol = 1e-17)\n",
    "            if beta.real > k_low:\n",
    "                print(\"Captured wrong mode, retrying.\")\n",
    "                raise RuntimeError\n",
    "            elif beta.imag > 0:\n",
    "                print(\"Positive imaginary part, retrying.\")\n",
    "                imag = -beta.imag\n",
    "                guess *= 1/.999999\n",
    "                raise RuntimeError\n",
    "            else:\n",
    "                print(\"Scaled beta: \", beta, \". Residual of determinant: \", \n",
    "                      abs(A.determinant(beta, nu, outer)), '\\n\\n' )\n",
    "                imag = beta.imag\n",
    "                flag=False\n",
    "        except RuntimeError:\n",
    "            if attempts >= attempt_max:\n",
    "                beta = np.nan\n",
    "                flag=False\n",
    "            else:\n",
    "                guess *= .999999\n",
    "                reduce += 1\n",
    "                print(\"scaling guess: \" + str(reduce), flush=True)\n",
    "                attempts += 1\n",
    "\n",
    "    betas2[i] = beta\n",
    "    "
   ]
  },
  {
   "cell_type": "code",
   "execution_count": null,
   "id": "3d9ba778",
   "metadata": {},
   "outputs": [],
   "source": [
    "# Formula for loss spikes from article\n",
    "\n",
    "ms1 = np.arange(1,6,1)\n",
    "\n",
    "n1 = A.ns[0]  # Inner (core) index\n",
    "n2 = A.ns[1]  # Cladding index\n",
    "\n",
    "d1 = ts[1]\n",
    "\n",
    "ls1 = (2 * n1 * d1 / ms1 * ((n2/n1)**2 - 1)**.5)  # when n2 depends on ls, need solver\n"
   ]
  },
  {
   "cell_type": "code",
   "execution_count": null,
   "id": "7f9bab3e",
   "metadata": {},
   "outputs": [],
   "source": [
    "%matplotlib notebook\n",
    "plt.figure(figsize=(14,7))\n",
    "\n",
    "CL2 = -20 * betas2.imag/A.scale / np.log(10)\n",
    "msk = np.where(CL2>0)\n",
    "plt.plot(wls[msk], CL2[msk], color='green', linewidth=.9)\n",
    "plt.rc('xtick', labelsize=14)\n",
    "plt.rc('ytick', labelsize=14)\n",
    "plt.yscale('log')\n",
    "m, M = plt.ylim()\n",
    "for l in ls1:\n",
    "    plt.plot([l,l], [m, M], color='red', linewidth=1, linestyle='--')\n"
   ]
  },
  {
   "cell_type": "markdown",
   "id": "02d284f1",
   "metadata": {},
   "source": [
    "Save data for pgfplots"
   ]
  },
  {
   "cell_type": "code",
   "execution_count": null,
   "id": "e7c53e43",
   "metadata": {},
   "outputs": [],
   "source": [
    "import os\n",
    "paper_path = os.path.relpath(os.path.expanduser('~/papers/outer_materials/\\\n",
    "figures/data/bragg/8tube'))\n",
    "\n",
    "both = np.column_stack((wls[msk]*1e6, CL2[msk]))\n",
    "np.savetxt(paper_path + '/analytic.dat', both, fmt='%.8f')"
   ]
  },
  {
   "cell_type": "code",
   "execution_count": null,
   "id": "4947b601",
   "metadata": {},
   "outputs": [],
   "source": []
  }
 ],
 "metadata": {
  "kernelspec": {
   "display_name": "Python 3 (ipykernel)",
   "language": "python",
   "name": "python3"
  },
  "language_info": {
   "codemirror_mode": {
    "name": "ipython",
    "version": 3
   },
   "file_extension": ".py",
   "mimetype": "text/x-python",
   "name": "python",
   "nbconvert_exporter": "python",
   "pygments_lexer": "ipython3",
   "version": "3.8.10"
  }
 },
 "nbformat": 4,
 "nbformat_minor": 5
}
