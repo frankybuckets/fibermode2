{
 "cells": [
  {
   "cell_type": "markdown",
   "id": "720129b6",
   "metadata": {},
   "source": [
    "\n",
    "# Hollow Core in infinite glass \n",
    "\n",
    "N0 Configuration in Bird"
   ]
  },
  {
   "cell_type": "code",
   "execution_count": null,
   "id": "664ce3d7",
   "metadata": {},
   "outputs": [],
   "source": [
    "import numpy as np\n",
    "\n",
    "from fiberamp.fiber.microstruct.bragg import BraggExact\n",
    "from step_exact import plotlogf\n",
    "from ngsolve.webgui import Draw\n",
    "from ngsolve import CF\n",
    "from scipy.optimize import newton\n"
   ]
  },
  {
   "cell_type": "code",
   "execution_count": null,
   "id": "1829005b",
   "metadata": {},
   "outputs": [],
   "source": [
    "n_air = 1.00027717\n",
    "n_glass = 1.4388164768221814\n",
    "\n",
    "n_high, n_low = 1.44, 1.43"
   ]
  },
  {
   "cell_type": "code",
   "execution_count": null,
   "id": "e74065e7",
   "metadata": {},
   "outputs": [],
   "source": [
    "A = BraggExact(ts=[15e-6,15e-6], mats=['air', 'glass'], \n",
    "               ns=[lambda x:n_air, lambda x:n_glass],\n",
    "              maxhs=[.2,.02], wl=1.8e-6, scale=1.5e-5)\n",
    "\n",
    "# A = BraggExact(ts=[15e-6,15e-6], mats=['air', 'glass'], \n",
    "#                ns=[lambda x:n_high, lambda x:n_low],\n",
    "#               maxhs=[.2,.05], wl=3.5e-6, scale=1.5e-5)"
   ]
  },
  {
   "cell_type": "code",
   "execution_count": null,
   "id": "9e68f5cc",
   "metadata": {},
   "outputs": [],
   "source": [
    "Draw(CF([n for n in A.ns]), A.mesh)"
   ]
  },
  {
   "cell_type": "code",
   "execution_count": null,
   "id": "7017a529",
   "metadata": {},
   "outputs": [],
   "source": [
    "# k_low = A.k0 * A.ns[0] * A.scale\n",
    "k_low, k_high = A.k0 * np.min(A.ns) * A.scale, A.k0 * np.max(A.ns) * A.scale\n",
    "\n",
    "outer = 'h2'\n",
    "Ktype = 'kappa'\n",
    "nu = 1"
   ]
  },
  {
   "cell_type": "code",
   "execution_count": null,
   "id": "89a4148f",
   "metadata": {},
   "outputs": [],
   "source": [
    "%matplotlib inline\n",
    "plotlogf(A.determinant, k_low-.1, k_high+.1, -.1,.1, nu, outer,\n",
    "         iref=100, rref=100, levels=100)"
   ]
  },
  {
   "cell_type": "code",
   "execution_count": null,
   "id": "7ac1de67",
   "metadata": {},
   "outputs": [],
   "source": [
    "%matplotlib notebook\n",
    "plotlogf(A.determinant, .99*k_low, 1.0001*k_low, -.3,.3, nu, outer,\n",
    "         iref=100, rref=100, levels=100, figsize=(12,8))"
   ]
  },
  {
   "cell_type": "code",
   "execution_count": null,
   "id": "f5d0ebf1",
   "metadata": {},
   "outputs": [],
   "source": [
    "guess = np.array(.999*k_low)\n",
    "\n",
    "beta1 = newton(A.determinant, guess, args=(nu, outer, Ktype), tol = 1e-16)\n",
    "\n",
    "print(\"Scaled beta: \", beta1, \". Residual of determinant: \", abs(A.determinant(beta1, nu, outer, Ktype)))\n"
   ]
  },
  {
   "cell_type": "markdown",
   "id": "f680dd27",
   "metadata": {},
   "source": [
    "# Bragg Exact Fields"
   ]
  },
  {
   "cell_type": "code",
   "execution_count": null,
   "id": "c26cf71a",
   "metadata": {},
   "outputs": [],
   "source": [
    "Fs = A.all_fields(beta1, nu=nu, outer=outer, Ktype=Ktype)"
   ]
  },
  {
   "cell_type": "code",
   "execution_count": null,
   "id": "0016122a",
   "metadata": {},
   "outputs": [],
   "source": [
    "Draw(Fs['Ez'], A.mesh)"
   ]
  },
  {
   "cell_type": "code",
   "execution_count": null,
   "id": "fc94138a",
   "metadata": {},
   "outputs": [],
   "source": [
    "Draw(Fs['Hz'], A.mesh)"
   ]
  },
  {
   "cell_type": "code",
   "execution_count": null,
   "id": "92d5cd30",
   "metadata": {},
   "outputs": [],
   "source": [
    "Draw(Fs['Etv'].real, A.mesh, vectors={'grid_size':150})\n"
   ]
  },
  {
   "cell_type": "code",
   "execution_count": null,
   "id": "5813b782",
   "metadata": {},
   "outputs": [],
   "source": [
    "Draw(Fs['Ephi'], A.mesh)"
   ]
  },
  {
   "cell_type": "code",
   "execution_count": null,
   "id": "1f15b4b5",
   "metadata": {},
   "outputs": [],
   "source": [
    "Draw(Fs['Hphi'], A.mesh)"
   ]
  },
  {
   "cell_type": "markdown",
   "id": "2ef317e5",
   "metadata": {},
   "source": [
    "# Using StepExact for comparison"
   ]
  },
  {
   "cell_type": "code",
   "execution_count": null,
   "id": "53faaa0d",
   "metadata": {},
   "outputs": [],
   "source": [
    "import numpy as np\n",
    "\n",
    "from step_exact import StepExact,plotlogf\n",
    "from ngsolve.webgui import Draw\n",
    "from ngsolve import CF\n",
    "from scipy.optimize import newton\n",
    "from step_exact.param_dicts.n0_params import params"
   ]
  },
  {
   "cell_type": "code",
   "execution_count": null,
   "id": "de72bc72",
   "metadata": {},
   "outputs": [],
   "source": [
    "B = StepExact(params)"
   ]
  },
  {
   "cell_type": "code",
   "execution_count": null,
   "id": "7323b8fe",
   "metadata": {},
   "outputs": [],
   "source": [
    "Draw(CF([B.n_core,B.n_clad]), B.mesh)"
   ]
  },
  {
   "cell_type": "code",
   "execution_count": null,
   "id": "cf315a71",
   "metadata": {},
   "outputs": [],
   "source": [
    "k_low = B.k0 * B.n_core * B.scale\n",
    "k_high = B.k0 * B.n_clad * B.scale\n",
    "clad = 'h2'\n",
    "nu = 1\n",
    "k_low, k_high"
   ]
  },
  {
   "cell_type": "code",
   "execution_count": null,
   "id": "c9ad274b",
   "metadata": {},
   "outputs": [],
   "source": [
    "plotlogf(B.hybrid_det, .99*k_low, 1.0001*k_low, -.1,.1, nu, clad,\n",
    "         iref=100, rref=100, levels=100)"
   ]
  },
  {
   "cell_type": "code",
   "execution_count": null,
   "id": "b3025d5c",
   "metadata": {},
   "outputs": [],
   "source": [
    "plotlogf(B.hybrid_det, .995*k_low, k_low, -.025,.025, nu, clad,\n",
    "         iref=100, rref=100, levels=100)"
   ]
  },
  {
   "cell_type": "code",
   "execution_count": null,
   "id": "d34b774a",
   "metadata": {},
   "outputs": [],
   "source": [
    "guess = np.array(52.325)\n",
    "\n",
    "beta2 = newton(B.hybrid_det, guess, args=(nu, clad), tol = 1e-15)\n",
    "\n",
    "print(\"Scaled beta: \", beta2, \". Residual of determinant: \", abs(B.hybrid_det(beta2, nu, clad)))\n"
   ]
  },
  {
   "cell_type": "code",
   "execution_count": null,
   "id": "b3170547",
   "metadata": {},
   "outputs": [],
   "source": [
    "beta1, beta2"
   ]
  },
  {
   "cell_type": "markdown",
   "id": "8a563a53",
   "metadata": {},
   "source": [
    "# Step Exact Fields"
   ]
  },
  {
   "cell_type": "code",
   "execution_count": null,
   "id": "392ab09f",
   "metadata": {},
   "outputs": [],
   "source": [
    "Fs = B.hybrid_fields(beta1, nu, clad=clad)"
   ]
  },
  {
   "cell_type": "code",
   "execution_count": null,
   "id": "721efc0b",
   "metadata": {},
   "outputs": [],
   "source": [
    "Draw(Fs['Ez'], B.mesh)"
   ]
  },
  {
   "cell_type": "code",
   "execution_count": null,
   "id": "e56d0b71",
   "metadata": {},
   "outputs": [],
   "source": [
    "Draw(Fs['Hz'], B.mesh)"
   ]
  },
  {
   "cell_type": "code",
   "execution_count": null,
   "id": "5b632bde",
   "metadata": {},
   "outputs": [],
   "source": [
    "Draw(Fs['Ephi'], B.mesh)"
   ]
  },
  {
   "cell_type": "code",
   "execution_count": null,
   "id": "f2a2531c",
   "metadata": {},
   "outputs": [],
   "source": [
    "Draw(Fs['Hphi'], B.mesh)"
   ]
  },
  {
   "cell_type": "markdown",
   "id": "f056d694",
   "metadata": {},
   "source": [
    "# Notes:\n",
    "\n",
    "- It appears that the determinant function is correct for BraggExact in the two layer case: both Step Exact and BraggExact find the same beta.  But I'm not displaying my fields correctly for BraggExact, so the place to look is in the creation of the coefficents and the fields in that class for errors.\n",
    "\n",
    "- StepExact's eigenfunction has poles where BraggExact does not.  Also appears to have some continuum eigenvalues.  Not yet sure why these don't appear in BraggExact"
   ]
  },
  {
   "cell_type": "code",
   "execution_count": null,
   "id": "d5674d52",
   "metadata": {},
   "outputs": [],
   "source": []
  }
 ],
 "metadata": {
  "kernelspec": {
   "display_name": "Python 3 (ipykernel)",
   "language": "python",
   "name": "python3"
  },
  "language_info": {
   "codemirror_mode": {
    "name": "ipython",
    "version": 3
   },
   "file_extension": ".py",
   "mimetype": "text/x-python",
   "name": "python",
   "nbconvert_exporter": "python",
   "pygments_lexer": "ipython3",
   "version": "3.8.10"
  }
 },
 "nbformat": 4,
 "nbformat_minor": 5
}
