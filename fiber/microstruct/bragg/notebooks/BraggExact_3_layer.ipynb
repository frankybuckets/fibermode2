{
 "cells": [
  {
   "cell_type": "markdown",
   "id": "720129b6",
   "metadata": {},
   "source": [
    "\n",
    "# Implementing 3 layered radial fiber using Bragg exact\n",
    "\n",
    "The two layer case works, so the transfer matrix maybe is having the problems"
   ]
  },
  {
   "cell_type": "code",
   "execution_count": null,
   "id": "664ce3d7",
   "metadata": {},
   "outputs": [],
   "source": [
    "import numpy as np\n",
    "\n",
    "from fiberamp.fiber.microstruct.bragg import BraggExact\n",
    "from step_exact import RadialStep  # to check work on bragg exact\n",
    "from step_exact import plotlogf\n",
    "from ngsolve.webgui import Draw\n",
    "from ngsolve import CF\n",
    "from scipy.optimize import newton\n",
    "from scipy.linalg import null_space"
   ]
  },
  {
   "cell_type": "code",
   "execution_count": null,
   "id": "9d706ddc",
   "metadata": {},
   "outputs": [],
   "source": [
    "n_air = 1.00027717\n",
    "n_glass = 1.4388164768221814"
   ]
  },
  {
   "cell_type": "code",
   "execution_count": null,
   "id": "f249bc35",
   "metadata": {},
   "outputs": [],
   "source": [
    "A = BraggExact(ts=[15e-6,.5*15e-6, 15e-6], mats=['air', 'glass', 'air'], \n",
    "               ns=[lambda x:n_air, lambda x:n_glass, lambda x:n_air],\n",
    "              maxhs=[.2,.03, .1], wl=3.6e-6)\n"
   ]
  },
  {
   "cell_type": "code",
   "execution_count": null,
   "id": "5276e407",
   "metadata": {},
   "outputs": [],
   "source": [
    "B = RadialStep(r1=15e-6, t1=.5*15e-6, t2=15e-6, scale=15e-6,\n",
    "                 n1=1.00027717, n2=1.4388164768221814, n3=1.00027717,\n",
    "                 R1_maxh=.1, R2_maxh=.1, R3_maxh=.1, wavelength=3.6e-6)"
   ]
  },
  {
   "cell_type": "code",
   "execution_count": null,
   "id": "7017a529",
   "metadata": {},
   "outputs": [],
   "source": [
    "k_low = A.k0 * A.ns[0] * A.scale\n",
    "k_low"
   ]
  },
  {
   "cell_type": "code",
   "execution_count": null,
   "id": "ca1907c4",
   "metadata": {},
   "outputs": [],
   "source": [
    "k_low = B.k0 * B.n1 * B.scale\n",
    "k_low"
   ]
  },
  {
   "cell_type": "code",
   "execution_count": null,
   "id": "cab9eb3d",
   "metadata": {},
   "outputs": [],
   "source": [
    "outer = 'h2'\n",
    "nu = 1"
   ]
  },
  {
   "cell_type": "code",
   "execution_count": null,
   "id": "8f45255c",
   "metadata": {},
   "outputs": [],
   "source": [
    "plotlogf(A.determinant, .97*k_low, 1.001*k_low, -.1,.1, nu, outer,\n",
    "         iref=100, rref=100, levels=100)"
   ]
  },
  {
   "cell_type": "code",
   "execution_count": null,
   "id": "8023866f",
   "metadata": {},
   "outputs": [],
   "source": [
    "plotlogf(B.hybrid_det_matrix, .97*k_low, 1.001*k_low, -.1,.1, nu, outer,\n",
    "         iref=100, rref=100, levels=100, loop=True)"
   ]
  },
  {
   "cell_type": "code",
   "execution_count": null,
   "id": "f5d0ebf1",
   "metadata": {},
   "outputs": [],
   "source": [
    "guess = np.array(.997 * k_low)\n",
    "\n",
    "beta1 = newton(A.determinant, guess, args=(nu, outer), tol = 1e-15)\n",
    "\n",
    "print(\"Scaled beta: \", beta1, \". Residual of determinant: \", abs(A.determinant(beta1, nu, outer)))\n"
   ]
  },
  {
   "cell_type": "code",
   "execution_count": null,
   "id": "8f60a76d",
   "metadata": {},
   "outputs": [],
   "source": [
    "guess = np.array(26.06)\n",
    "\n",
    "beta2 = newton(B.hybrid_det_matrix, guess, args=(nu, outer), tol = 1e-15)\n",
    "\n",
    "print(\"Scaled beta: \", beta2, \". Residual of determinant: \", abs(B.hybrid_det_matrix(beta2, nu, outer)))\n"
   ]
  },
  {
   "cell_type": "markdown",
   "id": "30141933",
   "metadata": {},
   "source": [
    "# Coefficients\n",
    "\n",
    "Got the determinant right after fixing transfer matrix, but coefficients/field building was still broken.  Check coefficients"
   ]
  },
  {
   "cell_type": "code",
   "execution_count": null,
   "id": "69cffdc1",
   "metadata": {},
   "outputs": [],
   "source": [
    "A1, B1, C, D, a, b, c, d, \\\n",
    "    alpha, beta = A.determinant(beta1, nu, outer, return_coeffs=True)"
   ]
  },
  {
   "cell_type": "code",
   "execution_count": null,
   "id": "93bb05f8",
   "metadata": {},
   "outputs": [],
   "source": [
    "v1, v2 = B1, -A1\n",
    "v = np.array([v1, v2])\n",
    "\n",
    "w1, w2 = (a*v1 + b*v2) / alpha, (c*v1 + d*v2) / beta1\n",
    "\n",
    "rhos = A.rhos\n",
    "ns = A.ns\n",
    "\n",
    "M = np.zeros((len(A.rhos), 4), dtype=complex)\n",
    "L = np.zeros((4, 2), dtype=complex)\n",
    "\n",
    "L[:, :] = np.eye(4)[:, [0, 2]]\n",
    "L = L @ v\n",
    "L"
   ]
  },
  {
   "cell_type": "code",
   "execution_count": null,
   "id": "fcf2bfaa",
   "metadata": {},
   "outputs": [],
   "source": [
    "M[0, :] = L\n",
    "\n",
    "M"
   ]
  },
  {
   "cell_type": "code",
   "execution_count": null,
   "id": "f129c0cf",
   "metadata": {},
   "outputs": [],
   "source": [
    "for i in range(len(rhos)-2):\n",
    "    nl, nr = ns[i], ns[i+1]\n",
    "    rho = rhos[i]\n",
    "    L = A.transfer_matrix(beta1, nu, rho, nl, nr) @ L\n",
    "    M[i+1, :] = L\n",
    "\n"
   ]
  },
  {
   "cell_type": "code",
   "execution_count": null,
   "id": "a74480fe",
   "metadata": {},
   "outputs": [],
   "source": [
    "M"
   ]
  },
  {
   "cell_type": "code",
   "execution_count": null,
   "id": "4df24527",
   "metadata": {},
   "outputs": [],
   "source": [
    "if outer == 'h2':\n",
    "    inds = [1, 3]\n",
    "elif outer == 'h1':\n",
    "    inds = [0, 2]\n",
    "else:\n",
    "    raise TypeError(\"Outer function must be 'h1' (guided) or 'h2'\\\n",
    "(leaky).\")\n",
    "\n",
    "M[-1, inds] = w1, w2"
   ]
  },
  {
   "cell_type": "code",
   "execution_count": null,
   "id": "0f229740",
   "metadata": {},
   "outputs": [],
   "source": [
    "M"
   ]
  },
  {
   "cell_type": "markdown",
   "id": "76a7855b",
   "metadata": {},
   "source": [
    "# Found issue\n",
    "\n",
    "We overwrote our beta propagation constant with a coefficient we also called beta in the code.  Now it works"
   ]
  },
  {
   "cell_type": "markdown",
   "id": "cd4c2e9e",
   "metadata": {},
   "source": [
    "# Bragg Exact Fields"
   ]
  },
  {
   "cell_type": "code",
   "execution_count": null,
   "id": "0253bcf4",
   "metadata": {},
   "outputs": [],
   "source": [
    "Fs = A.all_fields(beta1, nu, outer)"
   ]
  },
  {
   "cell_type": "code",
   "execution_count": null,
   "id": "644bf7ef",
   "metadata": {},
   "outputs": [],
   "source": [
    "Draw(1e1*Fs['Ez'], A.mesh)"
   ]
  },
  {
   "cell_type": "code",
   "execution_count": null,
   "id": "b84963f1",
   "metadata": {},
   "outputs": [],
   "source": [
    "Draw(Fs['Ephi'], A.mesh)"
   ]
  },
  {
   "cell_type": "code",
   "execution_count": null,
   "id": "49568c85",
   "metadata": {},
   "outputs": [],
   "source": [
    "Draw(1e1*Fs['Hz'], A.mesh)"
   ]
  },
  {
   "cell_type": "code",
   "execution_count": null,
   "id": "24cd0d99",
   "metadata": {},
   "outputs": [],
   "source": [
    "Draw(Fs['Hphi'], A.mesh)"
   ]
  },
  {
   "cell_type": "markdown",
   "id": "fc2e28c6",
   "metadata": {},
   "source": [
    "# RadialStep Exact Fields\n",
    "\n",
    "We know this is correct.  Didn't vectorize or evaluate coefficients from explicit determinant yet so this often fails unless loss is high for mode under consideration"
   ]
  },
  {
   "cell_type": "code",
   "execution_count": null,
   "id": "f54f8843",
   "metadata": {},
   "outputs": [],
   "source": [
    "B.hybrid_coefficients_matrix(beta2, nu, outer)"
   ]
  },
  {
   "cell_type": "code",
   "execution_count": null,
   "id": "aabc9bd5",
   "metadata": {},
   "outputs": [],
   "source": [
    "Fs = B.hybrid_fields_matrix(beta2, nu, outer)"
   ]
  },
  {
   "cell_type": "code",
   "execution_count": null,
   "id": "76b75bd3",
   "metadata": {},
   "outputs": [],
   "source": [
    "Draw(1e1*Fs['Ez'], A.mesh)"
   ]
  },
  {
   "cell_type": "code",
   "execution_count": null,
   "id": "cf3f1e9a",
   "metadata": {},
   "outputs": [],
   "source": [
    "Draw(1e-1*Fs['Ephi'], A.mesh)"
   ]
  },
  {
   "cell_type": "code",
   "execution_count": null,
   "id": "cad0a669",
   "metadata": {},
   "outputs": [],
   "source": []
  }
 ],
 "metadata": {
  "kernelspec": {
   "display_name": "Python 3 (ipykernel)",
   "language": "python",
   "name": "python3"
  },
  "language_info": {
   "codemirror_mode": {
    "name": "ipython",
    "version": 3
   },
   "file_extension": ".py",
   "mimetype": "text/x-python",
   "name": "python",
   "nbconvert_exporter": "python",
   "pygments_lexer": "ipython3",
   "version": "3.8.10"
  }
 },
 "nbformat": 4,
 "nbformat_minor": 5
}
