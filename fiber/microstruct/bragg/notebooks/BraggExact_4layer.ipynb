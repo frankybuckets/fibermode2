{
 "cells": [
  {
   "cell_type": "markdown",
   "id": "720129b6",
   "metadata": {},
   "source": [
    "\n",
    "# Implementing 4 layered radial fiber\n",
    "\n",
    "We did this numerically (so far using matrices, need to evaluate determinant)."
   ]
  },
  {
   "cell_type": "code",
   "execution_count": null,
   "id": "664ce3d7",
   "metadata": {},
   "outputs": [],
   "source": [
    "import numpy as np\n",
    "\n",
    "from fiberamp.fiber.microstruct.bragg import BraggExact\n",
    "from step_exact import RadialStep4  # to check work on bragg exact\n",
    "from step_exact import plotlogf\n",
    "from ngsolve.webgui import Draw\n",
    "from ngsolve import CF\n",
    "from scipy.optimize import newton\n",
    "from scipy.linalg import null_space"
   ]
  },
  {
   "cell_type": "code",
   "execution_count": null,
   "id": "e74065e7",
   "metadata": {},
   "outputs": [],
   "source": [
    "A = BraggExact(maxhs=[.2,.02,.07,.02])\n",
    "B = RadialStep4()"
   ]
  },
  {
   "cell_type": "code",
   "execution_count": null,
   "id": "9e68f5cc",
   "metadata": {},
   "outputs": [],
   "source": [
    "Draw(CF([n for n in A.ns]), A.mesh)"
   ]
  },
  {
   "cell_type": "code",
   "execution_count": null,
   "id": "1d8551da",
   "metadata": {},
   "outputs": [],
   "source": [
    "Draw(CF([B.n1,B.n2,B.n3, B.n4]), B.mesh)"
   ]
  },
  {
   "cell_type": "code",
   "execution_count": null,
   "id": "7017a529",
   "metadata": {},
   "outputs": [],
   "source": [
    "k_low = A.k0 * A.ns[0] * A.scale\n",
    "k_low"
   ]
  },
  {
   "cell_type": "code",
   "execution_count": null,
   "id": "0adc0912",
   "metadata": {},
   "outputs": [],
   "source": [
    "B.k0 * B.n1 * B.scale\n"
   ]
  },
  {
   "cell_type": "code",
   "execution_count": null,
   "id": "cab9eb3d",
   "metadata": {},
   "outputs": [],
   "source": [
    "outer = 'h2'\n",
    "nu = 1"
   ]
  },
  {
   "cell_type": "code",
   "execution_count": null,
   "id": "7ac1de67",
   "metadata": {},
   "outputs": [],
   "source": [
    "plotlogf(A.determinant, .995*k_low, 1.0001*k_low, -.1,.1, nu, outer,\n",
    "         iref=100, rref=100, levels=100)"
   ]
  },
  {
   "cell_type": "code",
   "execution_count": null,
   "id": "5f037312",
   "metadata": {},
   "outputs": [],
   "source": [
    "plotlogf(B.hybrid_det_matrix, .995*k_low, 1.0001*k_low, -.1,.1, nu, outer,\n",
    "         iref=100, rref=100, levels=100)"
   ]
  },
  {
   "cell_type": "code",
   "execution_count": null,
   "id": "f5d0ebf1",
   "metadata": {},
   "outputs": [],
   "source": [
    "guess = np.array(52.325)\n",
    "\n",
    "beta1 = newton(A.determinant, guess, args=(nu, outer), tol = 1e-15)\n",
    "\n",
    "print(\"Scaled beta: \", beta1, \". Residual of determinant: \", abs(A.determinant(beta1, nu, outer)))\n"
   ]
  },
  {
   "cell_type": "code",
   "execution_count": null,
   "id": "268c7ed7",
   "metadata": {},
   "outputs": [],
   "source": [
    "guess = np.array(52.25)\n",
    "\n",
    "beta2 = newton(B.hybrid_det_matrix, guess, args=(nu, outer), tol = 1e-15)\n",
    "\n",
    "print(\"Scaled beta: \", beta2, \". Residual of determinant: \", abs(B.hybrid_det_matrix(beta2, nu, outer)))\n"
   ]
  },
  {
   "cell_type": "markdown",
   "id": "359c3ee0",
   "metadata": {},
   "source": [
    "# Bragg Exact Fields"
   ]
  },
  {
   "cell_type": "code",
   "execution_count": null,
   "id": "f67b98d6",
   "metadata": {},
   "outputs": [],
   "source": [
    "Fs = A.all_fields(beta1, nu, outer)"
   ]
  },
  {
   "cell_type": "code",
   "execution_count": null,
   "id": "584da24d",
   "metadata": {},
   "outputs": [],
   "source": [
    "Draw(1e1*Fs['Ez'], A.mesh)"
   ]
  },
  {
   "cell_type": "code",
   "execution_count": null,
   "id": "9695836b",
   "metadata": {},
   "outputs": [],
   "source": [
    "Draw(Fs['Ephi'], A.mesh)"
   ]
  },
  {
   "cell_type": "code",
   "execution_count": null,
   "id": "8e96fc25",
   "metadata": {},
   "outputs": [],
   "source": [
    "Draw(Fs['Etv'].real, B.mesh, vectors={'grid_size':200})\n"
   ]
  },
  {
   "cell_type": "code",
   "execution_count": null,
   "id": "e2d1b4ac",
   "metadata": {},
   "outputs": [],
   "source": [
    "Draw(1e-1*Fs['Ephi'], B.mesh)"
   ]
  },
  {
   "cell_type": "markdown",
   "id": "f5a2f274",
   "metadata": {},
   "source": [
    "# RadialStep4 fields"
   ]
  },
  {
   "cell_type": "code",
   "execution_count": null,
   "id": "6a581999",
   "metadata": {},
   "outputs": [],
   "source": [
    "Fs = B.hybrid_fields_matrix(beta2, nu, outer)"
   ]
  },
  {
   "cell_type": "code",
   "execution_count": null,
   "id": "e0b91c0a",
   "metadata": {},
   "outputs": [],
   "source": [
    "Fs"
   ]
  },
  {
   "cell_type": "code",
   "execution_count": null,
   "id": "4a0c6661",
   "metadata": {},
   "outputs": [],
   "source": [
    "Draw(1e1*Fs['Ez'], B.mesh)"
   ]
  },
  {
   "cell_type": "code",
   "execution_count": null,
   "id": "ceca170d",
   "metadata": {},
   "outputs": [],
   "source": [
    "Draw(Fs['Etv'].real, B.mesh, vectors={'grid_size':200})\n"
   ]
  },
  {
   "cell_type": "code",
   "execution_count": null,
   "id": "025b4d49",
   "metadata": {},
   "outputs": [],
   "source": [
    "Draw(1e1*Fs['Ephi'], B.mesh)"
   ]
  }
 ],
 "metadata": {
  "kernelspec": {
   "display_name": "Python 3 (ipykernel)",
   "language": "python",
   "name": "python3"
  },
  "language_info": {
   "codemirror_mode": {
    "name": "ipython",
    "version": 3
   },
   "file_extension": ".py",
   "mimetype": "text/x-python",
   "name": "python",
   "nbconvert_exporter": "python",
   "pygments_lexer": "ipython3",
   "version": "3.8.10"
  }
 },
 "nbformat": 4,
 "nbformat_minor": 5
}
