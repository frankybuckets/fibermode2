{
 "cells": [
  {
   "cell_type": "markdown",
   "id": "5481d90e",
   "metadata": {},
   "source": [
    "# PBG Mode Notebook\n",
    "\n",
    "This notebook is used to find and view modes for the Photonic Band Gap fiber. "
   ]
  },
  {
   "cell_type": "code",
   "execution_count": 1,
   "id": "c3158f26",
   "metadata": {},
   "outputs": [],
   "source": [
    "from fiberamp.fiber.microstruct.pbg import PBG, load_pbg_mode\n",
    "import ngsolve as ng\n",
    "\n",
    "webgui = False\n",
    "\n",
    "if webgui == True:\n",
    "    from ngsolve.webgui import Draw\n",
    "    \n",
    "else:\n",
    "    import netgen.gui\n",
    "    from ngsolve import Draw"
   ]
  },
  {
   "cell_type": "markdown",
   "id": "1ef10e73",
   "metadata": {},
   "source": [
    "# Mode Viewing\n",
    "\n",
    "Load and view modes."
   ]
  },
  {
   "cell_type": "code",
   "execution_count": 21,
   "id": "8d5a7723",
   "metadata": {},
   "outputs": [
    {
     "name": "stdout",
     "output_type": "stream",
     "text": [
      "/home/pv/local/fiberamp\n",
      "LP02_p7_mode.npz  LP02_p7_ver2_mode.npz  LPO2_like_p6_mode.npz\r\n",
      "LP02_p7_pbg.pkl   LP02_p7_ver2_pbg.pkl\t LPO2_like_p6_pbg.pkl\r\n"
     ]
    }
   ],
   "source": [
    "folder = '/home/pv/local/fiberamp/fiber/microstruct/pbg/outputs'\n",
    "\n",
    "import os\n",
    "os.chdir(folder)\n",
    "!ls"
   ]
  },
  {
   "cell_type": "code",
   "execution_count": 19,
   "id": "bdef8168",
   "metadata": {},
   "outputs": [],
   "source": [
    "A, y, beta, z, p, _, _, _ = load_pbg_mode('LP02_p7_ver2', 'LP02_p7_ver2',\n",
    "                                          folder, folder)"
   ]
  },
  {
   "cell_type": "code",
   "execution_count": 16,
   "id": "31f0c47c",
   "metadata": {},
   "outputs": [],
   "source": [
    "for i in range(len(y)):\n",
    "    a = ng.GridFunction(y.fes, name='sol_' + str(i))\n",
    "    a.vec.data = y._mv[i]\n",
    "    Draw(a)"
   ]
  },
  {
   "cell_type": "markdown",
   "id": "1961c261",
   "metadata": {},
   "source": [
    "# Mode Finding\n",
    "## Microstructured Fiber"
   ]
  },
  {
   "cell_type": "code",
   "execution_count": 2,
   "id": "9d8aeb91",
   "metadata": {},
   "outputs": [],
   "source": [
    "from fiberamp.fiber.microstruct.pbg.fiber_dicts.lyr6cr2 import params\n"
   ]
  },
  {
   "cell_type": "code",
   "execution_count": 3,
   "id": "7eb8a119",
   "metadata": {},
   "outputs": [
    {
     "name": "stdout",
     "output_type": "stream",
     "text": [
      "Generating mesh.\n",
      "Mesh created.\n",
      "ModeSolver: Checking if mesh has required regions\n"
     ]
    }
   ],
   "source": [
    "A = PBG(params)\n"
   ]
  },
  {
   "cell_type": "code",
   "execution_count": 4,
   "id": "9c58d10d",
   "metadata": {
    "scrolled": true
   },
   "outputs": [],
   "source": [
    "Draw(A.mesh)\n"
   ]
  },
  {
   "cell_type": "markdown",
   "id": "0169bf5f",
   "metadata": {},
   "source": [
    "### Large radius search"
   ]
  },
  {
   "cell_type": "code",
   "execution_count": 7,
   "id": "5f089991",
   "metadata": {},
   "outputs": [
    {
     "name": "stdout",
     "output_type": "stream",
     "text": [
      "ModeSolver.leakymode called on object with these settings:\n",
      " <fiberamp.fiber.microstruct.pbg.PBG.PBG object at 0x7f5e54fad430>\n",
      "Set freq-dependent PML with p= 3  alpha= 5 and thickness=16.667\n",
      "\n",
      "SpectralProj: Setting shifted trapezoidal rule quadrature on circular contour\n",
      "SpectralProj: Radius=1, Center=5+0j\n",
      "SpectralProjNGPoly: Checking if A[d] is nonzero & Hermitian.\n",
      "SpectralProjNG: Checking if inverse.H works for umfpack\n",
      "SpectralProjNGPoly: Computing resolvents along the contour using\n",
      "                    inverse type umfpack (installed default umfpack)\n",
      "SpectralProjNGPoly: Factorizing 103027x103027 system at z =  +5.951 +0.309j\n",
      "SpectralProjNGPoly: Factorizing 103027x103027 system at z =  +5.588 +0.809j\n",
      "SpectralProjNGPoly: Factorizing 103027x103027 system at z =  +5.000 +1.000j\n",
      "SpectralProjNGPoly: Factorizing 103027x103027 system at z =  +4.412 +0.809j\n",
      "SpectralProjNGPoly: Factorizing 103027x103027 system at z =  +4.049 +0.309j\n",
      "SpectralProjNGPoly: Factorizing 103027x103027 system at z =  +4.049 -0.309j\n",
      "SpectralProjNGPoly: Factorizing 103027x103027 system at z =  +4.412 -0.809j\n",
      "SpectralProjNGPoly: Factorizing 103027x103027 system at z =  +5.000 -1.000j\n",
      "SpectralProjNGPoly: Factorizing 103027x103027 system at z =  +5.588 -0.809j\n",
      "SpectralProjNGPoly: Factorizing 103027x103027 system at z =  +5.951 -0.309j\n",
      "\n",
      "=========== Starting FEAST iterations ===========\n",
      "Trying with 5 vectors:\n",
      "\n",
      " ITERATION 1 with 5 vectors and 5 left vectors\n",
      "   During kernel cleaning abs(g):\n",
      "   [4838.1 2156.1 1275.   554.7  827.7]\n",
      "   Real part of computed eigenvalues:\n",
      "   [4.19395452 5.46995203 5.04067531 4.83363409 4.60438997]\n",
      "   Imag part of computed eigenvalues:\n",
      "   [-0.82873905 -0.75636088 -0.98405613 -0.73183207 -0.89713926]\n",
      "   Relative eigenvalue changes from prior iterate:\n",
      "   [2.e+99 2.e+99 2.e+99 2.e+99 2.e+99]\n",
      " ITERATION 2 with 5 vectors and 5 left vectors\n",
      "   During kernel cleaning abs(g):\n",
      "   [0. 0. 0. 0. 0.]\n",
      "   Real part of computed eigenvalues:\n",
      "   [4.49930743 4.33104226 5.50563804 4.97312076 4.995614  ]\n",
      "   Imag part of computed eigenvalues:\n",
      "   [-0.2278693  -0.87986379 -0.73084863 -1.13410594 -0.96818804]\n",
      "   Relative eigenvalue changes from prior iterate:\n",
      "   [0.061 0.228 0.093 0.028 0.078]\n",
      " ITERATION 3 with 5 vectors and 5 left vectors\n",
      "   During kernel cleaning abs(g):\n",
      "   [5866.3 1986.3 1726.5 1314.3  205. ]\n",
      "   Real part of computed eigenvalues:\n",
      "   [5.09508567 6.04757398 4.98942626 4.07631297 4.67250259]\n",
      "   Imag part of computed eigenvalues:\n",
      "   [-2.16146542 -0.17092152 -0.98524808 -0.92635939 -0.60929376]\n",
      "   Relative eigenvalue changes from prior iterate:\n",
      "   [0.119 0.343 0.103 0.179 0.065]\n",
      "   Removing ew#[0, 1, 3] not enclosed by contour\n",
      " ITERATION 4 with 2 vectors and 2 left vectors\n",
      "   During kernel cleaning abs(g):\n",
      "   [0. 0.]\n",
      "   Real part of computed eigenvalues:\n",
      "   [4.98826181 4.59965891]\n",
      "   Imag part of computed eigenvalues:\n",
      "   [-0.9857785  -1.33376446]\n",
      "   Relative eigenvalue changes from prior iterate:\n",
      "   [0.    0.015]\n",
      " ITERATION 5 with 2 vectors and 2 left vectors\n",
      "   During kernel cleaning abs(g):\n",
      "   [ 6241.8 11322. ]\n",
      "   Real part of computed eigenvalues:\n",
      "   [4.98857772 5.71099034]\n",
      "   Imag part of computed eigenvalues:\n",
      "   [-0.98589374 -0.5866223 ]\n",
      "   Relative eigenvalue changes from prior iterate:\n",
      "   [6.318e-05 2.223e-01]\n",
      " ITERATION 6 with 2 vectors and 2 left vectors\n",
      "   During kernel cleaning abs(g):\n",
      "   [0. 0.]\n",
      "   Real part of computed eigenvalues:\n",
      "   [4.9886108  5.08342406]\n",
      "   Imag part of computed eigenvalues:\n",
      "   [-0.98589026  0.12102175]\n",
      "   Relative eigenvalue changes from prior iterate:\n",
      "   [6.615e-06 1.255e-01]\n",
      " ITERATION 7 with 2 vectors and 2 left vectors\n",
      "   During kernel cleaning abs(g):\n",
      "   [ 6306.3 29135.2]\n",
      "   Real part of computed eigenvalues:\n",
      "   [4.9886162  6.45322125]\n",
      "   Imag part of computed eigenvalues:\n",
      "   [-0.98588724 -0.12561462]\n",
      "   Relative eigenvalue changes from prior iterate:\n",
      "   [1.081e-06 2.740e-01]\n",
      " ITERATION 8 with 2 vectors and 2 left vectors\n",
      "   During kernel cleaning abs(g):\n",
      "   [0. 0.]\n",
      "   Real part of computed eigenvalues:\n",
      "   [4.98861658 5.87447907]\n",
      "   Imag part of computed eigenvalues:\n",
      "   [-0.98588622 -0.67912942]\n",
      "   Relative eigenvalue changes from prior iterate:\n",
      "   [7.582e-08 1.157e-01]\n",
      " ITERATION 9 with 2 vectors and 2 left vectors\n",
      "   During kernel cleaning abs(g):\n",
      "   [ 6307.3 56947.1]\n",
      "   Real part of computed eigenvalues:\n",
      "   [4.98861638 5.87697168]\n",
      "   Imag part of computed eigenvalues:\n",
      "   [-0.98588606 -0.2143312 ]\n",
      "   Relative eigenvalue changes from prior iterate:\n",
      "   [3.970e-08 4.985e-04]\n",
      " ITERATION 10 with 2 vectors and 2 left vectors\n",
      "   During kernel cleaning abs(g):\n",
      "   [0. 0.]\n",
      "   Real part of computed eigenvalues:\n",
      "   [4.98861635 6.08981159]\n",
      "   Imag part of computed eigenvalues:\n",
      "   [-0.98588607 -0.28077397]\n",
      "   Relative eigenvalue changes from prior iterate:\n",
      "   [6.243e-09 4.257e-02]\n",
      " ITERATION 11 with 2 vectors and 2 left vectors\n",
      "   During kernel cleaning abs(g):\n",
      "   [  6307.3 115377.8]\n",
      "   Real part of computed eigenvalues:\n",
      "   [4.98861635 5.93776194]\n",
      "   Imag part of computed eigenvalues:\n",
      "   [-0.98588607 -0.3805579 ]\n",
      "   Relative eigenvalue changes from prior iterate:\n",
      "   [3.682e-10 3.041e-02]\n",
      " ITERATION 12 with 2 vectors and 2 left vectors\n",
      "   During kernel cleaning abs(g):\n",
      "   [5.5e-03 8.1e-05]\n",
      "   Real part of computed eigenvalues:\n",
      "   [4.98861635 5.94268782]\n",
      "   Imag part of computed eigenvalues:\n",
      "   [-0.98588607 -0.31307794]\n",
      "   Relative eigenvalue changes from prior iterate:\n",
      "   [1.083e-10 9.852e-04]\n",
      " ITERATION 13 with 2 vectors and 2 left vectors\n",
      "   During kernel cleaning abs(g):\n",
      "   [  6307.3 116052.1]\n",
      "   Real part of computed eigenvalues:\n",
      "   [4.98861635 5.98019609]\n",
      "   Imag part of computed eigenvalues:\n",
      "   [-0.98588607 -0.33699317]\n",
      "   Relative eigenvalue changes from prior iterate:\n",
      "   [1.905e-11 7.502e-03]\n",
      " ITERATION 14 with 2 vectors and 2 left vectors\n",
      "   During kernel cleaning abs(g):\n",
      "   [5.5e-03 9.7e-05]\n",
      "   Real part of computed eigenvalues:\n",
      "   [4.98861635 5.9624207 ]\n",
      "   Imag part of computed eigenvalues:\n",
      "   [-0.98588607 -0.33942854]\n",
      "   Relative eigenvalue changes from prior iterate:\n",
      "   [1.782e-12 3.555e-03]\n",
      " ITERATION 15 with 2 vectors and 2 left vectors\n",
      "   During kernel cleaning abs(g):\n",
      "   [ 6307.3 88628.4]\n",
      "   Real part of computed eigenvalues:\n",
      "   [4.98861635 5.96140845]\n",
      "   Imag part of computed eigenvalues:\n",
      "   [-0.98588607 -0.3359371 ]\n",
      "   Relative eigenvalue changes from prior iterate:\n",
      "   [1.061e-12 2.025e-04]\n",
      "   Removing ew#[1] not enclosed by contour\n",
      " ITERATION 16 with 1 vectors and 1 left vectors\n",
      "   During kernel cleaning abs(g):\n",
      "   [0.]\n",
      "   Real part of computed eigenvalues:\n",
      "   [4.98861635]\n",
      "   Imag part of computed eigenvalues:\n",
      "   [-0.98588607]\n",
      "   Relative eigenvalue changes from prior iterate:\n",
      "   [3.219e-13]\n",
      "\n",
      "============= FEAST iterations done =============\n",
      "   Normalizing by M-norms: max=4.4e+01, min=4.4e+01\n",
      "   Normalizing by M-norms: max=2.7e+00, min=2.7e+00\n",
      "Results:\n",
      " Z: [4.98861635-0.98588607j]\n",
      " beta: [5826377.53405715+21268.0227102j]\n",
      " CL dB/m: [184731.69808064]\n",
      "Mode boundary L² norm = 1.3e-07\n"
     ]
    }
   ],
   "source": [
    "center = 5\n",
    "radius = 1\n",
    "p = 3\n",
    "\n",
    "z, y, yl, beta, P, _ = A.leakymode(p, rad=radius, ctr=center, alpha=A.alpha,\n",
    "                                   niterations=50, npts=10, nspan=5)\n"
   ]
  },
  {
   "cell_type": "code",
   "execution_count": 8,
   "id": "5cab8894",
   "metadata": {},
   "outputs": [],
   "source": [
    "for i in range(len(y)):\n",
    "    a = ng.GridFunction(y.fes, name='sol_' + str(i))\n",
    "    a.vec.data = y._mv[i]\n",
    "    Draw(a)"
   ]
  },
  {
   "cell_type": "markdown",
   "id": "d4e2a1e8",
   "metadata": {},
   "source": [
    "### Small radius search "
   ]
  },
  {
   "cell_type": "code",
   "execution_count": 14,
   "id": "cce4efa4",
   "metadata": {
    "collapsed": true
   },
   "outputs": [
    {
     "name": "stdout",
     "output_type": "stream",
     "text": [
      "ModeSolver.leakymode called on object with these settings:\n",
      " <fiberamp.fiber.microstruct.pbg.PBG.PBG object at 0x7f5e54fad430>\n",
      "Set freq-dependent PML with p= 6  alpha= 5 and thickness=16.667\n",
      "\n",
      "SpectralProj: Setting shifted trapezoidal rule quadrature on circular contour\n",
      "SpectralProj: Radius=0.001, Center=4.9769-0.989589j\n",
      "SpectralProjNGPoly: Checking if A[d] is nonzero & Hermitian.\n"
     ]
    },
    {
     "ename": "KeyboardInterrupt",
     "evalue": "",
     "output_type": "error",
     "traceback": [
      "\u001b[0;31m---------------------------------------------------------------------------\u001b[0m",
      "\u001b[0;31mKeyboardInterrupt\u001b[0m                         Traceback (most recent call last)",
      "\u001b[0;32m<ipython-input-14-8288da421a77>\u001b[0m in \u001b[0;36m<module>\u001b[0;34m\u001b[0m\n\u001b[1;32m      3\u001b[0m \u001b[0mp\u001b[0m \u001b[0;34m=\u001b[0m \u001b[0;36m6\u001b[0m\u001b[0;34m\u001b[0m\u001b[0;34m\u001b[0m\u001b[0m\n\u001b[1;32m      4\u001b[0m \u001b[0;34m\u001b[0m\u001b[0m\n\u001b[0;32m----> 5\u001b[0;31m z2, y2, yl2, beta2, P2, _ = A.leakymode(p, rad=radius, ctr=center, alpha=A.alpha,\n\u001b[0m\u001b[1;32m      6\u001b[0m                                    niterations=50, npts=4, nspan=2)\n",
      "\u001b[0;32m~/local/fiberamp/fiber/modesolver.py\u001b[0m in \u001b[0;36mleakymode\u001b[0;34m(self, p, ctr, rad, alpha, npts, within, rhoinv, quadrule, nspan, seed, inverse, **feastkwargs)\u001b[0m\n\u001b[1;32m    223\u001b[0m         \u001b[0mYl\u001b[0m\u001b[0;34m.\u001b[0m\u001b[0msetrandom\u001b[0m\u001b[0;34m(\u001b[0m\u001b[0mseed\u001b[0m\u001b[0;34m=\u001b[0m\u001b[0mseed\u001b[0m\u001b[0;34m)\u001b[0m\u001b[0;34m\u001b[0m\u001b[0;34m\u001b[0m\u001b[0m\n\u001b[1;32m    224\u001b[0m \u001b[0;34m\u001b[0m\u001b[0m\n\u001b[0;32m--> 225\u001b[0;31m         P = SpectralProjNGPoly(AA, X, radius=rad, center=ctr, npts=npts,\n\u001b[0m\u001b[1;32m    226\u001b[0m                                \u001b[0mwithin\u001b[0m\u001b[0;34m=\u001b[0m\u001b[0mwithin\u001b[0m\u001b[0;34m,\u001b[0m \u001b[0mrhoinv\u001b[0m\u001b[0;34m=\u001b[0m\u001b[0mrhoinv\u001b[0m\u001b[0;34m,\u001b[0m\u001b[0;34m\u001b[0m\u001b[0;34m\u001b[0m\u001b[0m\n\u001b[1;32m    227\u001b[0m                                quadrule=quadrule, inverse=inverse)\n",
      "\u001b[0;32m~/local/fiberamp/fiber/spectralprojpoly.py\u001b[0m in \u001b[0;36m__init__\u001b[0;34m(self, matrix_pol_coefs, fe_space, radius, center, npts, **kwargs)\u001b[0m\n\u001b[1;32m     84\u001b[0m             \u001b[0;32mif\u001b[0m \u001b[0mkwargs\u001b[0m\u001b[0;34m[\u001b[0m\u001b[0;34m'inverse'\u001b[0m\u001b[0;34m]\u001b[0m \u001b[0;32mis\u001b[0m \u001b[0;32mNone\u001b[0m\u001b[0;34m:\u001b[0m\u001b[0;34m\u001b[0m\u001b[0;34m\u001b[0m\u001b[0m\n\u001b[1;32m     85\u001b[0m                 \u001b[0mkwargs\u001b[0m\u001b[0;34m[\u001b[0m\u001b[0;34m'inverse'\u001b[0m\u001b[0;34m]\u001b[0m \u001b[0;34m=\u001b[0m \u001b[0mdefaultinvtype\u001b[0m\u001b[0;34m\u001b[0m\u001b[0;34m\u001b[0m\u001b[0m\n\u001b[0;32m---> 86\u001b[0;31m         super().__init__(fe_space, None, None,\n\u001b[0m\u001b[1;32m     87\u001b[0m                          \u001b[0mradius\u001b[0m\u001b[0;34m=\u001b[0m\u001b[0mradius\u001b[0m\u001b[0;34m,\u001b[0m \u001b[0mcenter\u001b[0m\u001b[0;34m=\u001b[0m\u001b[0mcenter\u001b[0m\u001b[0;34m,\u001b[0m \u001b[0mnpts\u001b[0m\u001b[0;34m=\u001b[0m\u001b[0mnpts\u001b[0m\u001b[0;34m,\u001b[0m\u001b[0;34m\u001b[0m\u001b[0;34m\u001b[0m\u001b[0m\n\u001b[1;32m     88\u001b[0m                          **kwargs)\n",
      "\u001b[0;32m~/local/pyeigfeast/spectralproj/ngs/spectralprojngs.py\u001b[0m in \u001b[0;36m__init__\u001b[0;34m(self, fe_space, A, B, **kwargs)\u001b[0m\n\u001b[1;32m    336\u001b[0m         \u001b[0mself\u001b[0m\u001b[0;34m.\u001b[0m\u001b[0mB\u001b[0m \u001b[0;34m=\u001b[0m \u001b[0mB\u001b[0m\u001b[0;34m\u001b[0m\u001b[0;34m\u001b[0m\u001b[0m\n\u001b[1;32m    337\u001b[0m         \u001b[0msuper\u001b[0m\u001b[0;34m(\u001b[0m\u001b[0;34m)\u001b[0m\u001b[0;34m.\u001b[0m\u001b[0m__init__\u001b[0m\u001b[0;34m(\u001b[0m\u001b[0;34m**\u001b[0m\u001b[0mkwargs\u001b[0m\u001b[0;34m)\u001b[0m\u001b[0;34m\u001b[0m\u001b[0;34m\u001b[0m\u001b[0m\n\u001b[0;32m--> 338\u001b[0;31m         \u001b[0mself\u001b[0m\u001b[0;34m.\u001b[0m\u001b[0mcheck_sym_innerprod\u001b[0m\u001b[0;34m(\u001b[0m\u001b[0;34m)\u001b[0m\u001b[0;34m\u001b[0m\u001b[0;34m\u001b[0m\u001b[0m\n\u001b[0m\u001b[1;32m    339\u001b[0m \u001b[0;34m\u001b[0m\u001b[0m\n\u001b[1;32m    340\u001b[0m         \u001b[0;32mif\u001b[0m \u001b[0mself\u001b[0m\u001b[0;34m.\u001b[0m\u001b[0mreduce_sym\u001b[0m\u001b[0;34m:\u001b[0m\u001b[0;34m\u001b[0m\u001b[0;34m\u001b[0m\u001b[0m\n",
      "\u001b[0;32m~/local/fiberamp/fiber/spectralprojpoly.py\u001b[0m in \u001b[0;36mcheck_sym_innerprod\u001b[0;34m(self)\u001b[0m\n\u001b[1;32m    215\u001b[0m         \u001b[0mi\u001b[0m\u001b[0;34m,\u001b[0m \u001b[0mj\u001b[0m\u001b[0;34m,\u001b[0m \u001b[0mbval\u001b[0m \u001b[0;34m=\u001b[0m \u001b[0mself\u001b[0m\u001b[0;34m.\u001b[0m\u001b[0mAs\u001b[0m\u001b[0;34m[\u001b[0m\u001b[0;34m-\u001b[0m\u001b[0;36m1\u001b[0m\u001b[0;34m]\u001b[0m\u001b[0;34m.\u001b[0m\u001b[0mmat\u001b[0m\u001b[0;34m.\u001b[0m\u001b[0mCOO\u001b[0m\u001b[0;34m(\u001b[0m\u001b[0;34m)\u001b[0m\u001b[0;34m\u001b[0m\u001b[0;34m\u001b[0m\u001b[0m\n\u001b[1;32m    216\u001b[0m         \u001b[0mb\u001b[0m \u001b[0;34m=\u001b[0m \u001b[0mcoo_matrix\u001b[0m\u001b[0;34m(\u001b[0m\u001b[0;34m(\u001b[0m\u001b[0mbval\u001b[0m\u001b[0;34m,\u001b[0m \u001b[0;34m(\u001b[0m\u001b[0mi\u001b[0m\u001b[0;34m,\u001b[0m \u001b[0mj\u001b[0m\u001b[0;34m)\u001b[0m\u001b[0;34m)\u001b[0m\u001b[0;34m,\u001b[0m \u001b[0mdtype\u001b[0m\u001b[0;34m=\u001b[0m\u001b[0mnp\u001b[0m\u001b[0;34m.\u001b[0m\u001b[0mcomplex128\u001b[0m\u001b[0;34m)\u001b[0m\u001b[0;34m\u001b[0m\u001b[0;34m\u001b[0m\u001b[0m\n\u001b[0;32m--> 217\u001b[0;31m         \u001b[0mnormb\u001b[0m \u001b[0;34m=\u001b[0m \u001b[0mnorm\u001b[0m\u001b[0;34m(\u001b[0m\u001b[0mb\u001b[0m\u001b[0;34m,\u001b[0m \u001b[0;34m'fro'\u001b[0m\u001b[0;34m)\u001b[0m\u001b[0;34m\u001b[0m\u001b[0;34m\u001b[0m\u001b[0m\n\u001b[0m\u001b[1;32m    218\u001b[0m         \u001b[0;32mif\u001b[0m \u001b[0mnormb\u001b[0m \u001b[0;34m<\u001b[0m \u001b[0;36m1e-16\u001b[0m\u001b[0;34m:\u001b[0m\u001b[0;34m\u001b[0m\u001b[0;34m\u001b[0m\u001b[0m\n\u001b[1;32m    219\u001b[0m             \u001b[0;32mraise\u001b[0m \u001b[0mValueError\u001b[0m\u001b[0;34m(\u001b[0m\u001b[0;34m'Matrix A[d] is too close to 0'\u001b[0m\u001b[0;34m)\u001b[0m\u001b[0;34m\u001b[0m\u001b[0;34m\u001b[0m\u001b[0m\n",
      "\u001b[0;32m~/.local/lib/python3.8/site-packages/scipy/sparse/linalg/_norm.py\u001b[0m in \u001b[0;36mnorm\u001b[0;34m(x, ord, axis)\u001b[0m\n\u001b[1;32m    111\u001b[0m     \u001b[0;31m# Check the default case first and handle it immediately.\u001b[0m\u001b[0;34m\u001b[0m\u001b[0;34m\u001b[0m\u001b[0;34m\u001b[0m\u001b[0m\n\u001b[1;32m    112\u001b[0m     \u001b[0;32mif\u001b[0m \u001b[0maxis\u001b[0m \u001b[0;32mis\u001b[0m \u001b[0;32mNone\u001b[0m \u001b[0;32mand\u001b[0m \u001b[0mord\u001b[0m \u001b[0;32min\u001b[0m \u001b[0;34m(\u001b[0m\u001b[0;32mNone\u001b[0m\u001b[0;34m,\u001b[0m \u001b[0;34m'fro'\u001b[0m\u001b[0;34m,\u001b[0m \u001b[0;34m'f'\u001b[0m\u001b[0;34m)\u001b[0m\u001b[0;34m:\u001b[0m\u001b[0;34m\u001b[0m\u001b[0;34m\u001b[0m\u001b[0m\n\u001b[0;32m--> 113\u001b[0;31m         \u001b[0;32mreturn\u001b[0m \u001b[0m_sparse_frobenius_norm\u001b[0m\u001b[0;34m(\u001b[0m\u001b[0mx\u001b[0m\u001b[0;34m)\u001b[0m\u001b[0;34m\u001b[0m\u001b[0;34m\u001b[0m\u001b[0m\n\u001b[0m\u001b[1;32m    114\u001b[0m \u001b[0;34m\u001b[0m\u001b[0m\n\u001b[1;32m    115\u001b[0m     \u001b[0;31m# Some norms require functions that are not implemented for all types.\u001b[0m\u001b[0;34m\u001b[0m\u001b[0;34m\u001b[0m\u001b[0;34m\u001b[0m\u001b[0m\n",
      "\u001b[0;32m~/.local/lib/python3.8/site-packages/scipy/sparse/linalg/_norm.py\u001b[0m in \u001b[0;36m_sparse_frobenius_norm\u001b[0;34m(x)\u001b[0m\n\u001b[1;32m     12\u001b[0m \u001b[0;32mdef\u001b[0m \u001b[0m_sparse_frobenius_norm\u001b[0m\u001b[0;34m(\u001b[0m\u001b[0mx\u001b[0m\u001b[0;34m)\u001b[0m\u001b[0;34m:\u001b[0m\u001b[0;34m\u001b[0m\u001b[0;34m\u001b[0m\u001b[0m\n\u001b[1;32m     13\u001b[0m     \u001b[0;32mif\u001b[0m \u001b[0mnp\u001b[0m\u001b[0;34m.\u001b[0m\u001b[0missubdtype\u001b[0m\u001b[0;34m(\u001b[0m\u001b[0mx\u001b[0m\u001b[0;34m.\u001b[0m\u001b[0mdtype\u001b[0m\u001b[0;34m,\u001b[0m \u001b[0mnp\u001b[0m\u001b[0;34m.\u001b[0m\u001b[0mcomplexfloating\u001b[0m\u001b[0;34m)\u001b[0m\u001b[0;34m:\u001b[0m\u001b[0;34m\u001b[0m\u001b[0;34m\u001b[0m\u001b[0m\n\u001b[0;32m---> 14\u001b[0;31m         \u001b[0msqnorm\u001b[0m \u001b[0;34m=\u001b[0m \u001b[0mabs\u001b[0m\u001b[0;34m(\u001b[0m\u001b[0mx\u001b[0m\u001b[0;34m)\u001b[0m\u001b[0;34m.\u001b[0m\u001b[0mpower\u001b[0m\u001b[0;34m(\u001b[0m\u001b[0;36m2\u001b[0m\u001b[0;34m)\u001b[0m\u001b[0;34m.\u001b[0m\u001b[0msum\u001b[0m\u001b[0;34m(\u001b[0m\u001b[0;34m)\u001b[0m\u001b[0;34m\u001b[0m\u001b[0;34m\u001b[0m\u001b[0m\n\u001b[0m\u001b[1;32m     15\u001b[0m     \u001b[0;32melse\u001b[0m\u001b[0;34m:\u001b[0m\u001b[0;34m\u001b[0m\u001b[0;34m\u001b[0m\u001b[0m\n\u001b[1;32m     16\u001b[0m         \u001b[0msqnorm\u001b[0m \u001b[0;34m=\u001b[0m \u001b[0mx\u001b[0m\u001b[0;34m.\u001b[0m\u001b[0mpower\u001b[0m\u001b[0;34m(\u001b[0m\u001b[0;36m2\u001b[0m\u001b[0;34m)\u001b[0m\u001b[0;34m.\u001b[0m\u001b[0msum\u001b[0m\u001b[0;34m(\u001b[0m\u001b[0;34m)\u001b[0m\u001b[0;34m\u001b[0m\u001b[0;34m\u001b[0m\u001b[0m\n",
      "\u001b[0;32m~/.local/lib/python3.8/site-packages/scipy/sparse/data.py\u001b[0m in \u001b[0;36m__abs__\u001b[0;34m(self)\u001b[0m\n\u001b[1;32m     34\u001b[0m \u001b[0;34m\u001b[0m\u001b[0m\n\u001b[1;32m     35\u001b[0m     \u001b[0;32mdef\u001b[0m \u001b[0m__abs__\u001b[0m\u001b[0;34m(\u001b[0m\u001b[0mself\u001b[0m\u001b[0;34m)\u001b[0m\u001b[0;34m:\u001b[0m\u001b[0;34m\u001b[0m\u001b[0;34m\u001b[0m\u001b[0m\n\u001b[0;32m---> 36\u001b[0;31m         \u001b[0;32mreturn\u001b[0m \u001b[0mself\u001b[0m\u001b[0;34m.\u001b[0m\u001b[0m_with_data\u001b[0m\u001b[0;34m(\u001b[0m\u001b[0mabs\u001b[0m\u001b[0;34m(\u001b[0m\u001b[0mself\u001b[0m\u001b[0;34m.\u001b[0m\u001b[0m_deduped_data\u001b[0m\u001b[0;34m(\u001b[0m\u001b[0;34m)\u001b[0m\u001b[0;34m)\u001b[0m\u001b[0;34m)\u001b[0m\u001b[0;34m\u001b[0m\u001b[0;34m\u001b[0m\u001b[0m\n\u001b[0m\u001b[1;32m     37\u001b[0m \u001b[0;34m\u001b[0m\u001b[0m\n\u001b[1;32m     38\u001b[0m     \u001b[0;32mdef\u001b[0m \u001b[0m__round__\u001b[0m\u001b[0;34m(\u001b[0m\u001b[0mself\u001b[0m\u001b[0;34m,\u001b[0m \u001b[0mndigits\u001b[0m\u001b[0;34m=\u001b[0m\u001b[0;36m0\u001b[0m\u001b[0;34m)\u001b[0m\u001b[0;34m:\u001b[0m\u001b[0;34m\u001b[0m\u001b[0;34m\u001b[0m\u001b[0m\n",
      "\u001b[0;32m~/.local/lib/python3.8/site-packages/scipy/sparse/data.py\u001b[0m in \u001b[0;36m_deduped_data\u001b[0;34m(self)\u001b[0m\n\u001b[1;32m     30\u001b[0m     \u001b[0;32mdef\u001b[0m \u001b[0m_deduped_data\u001b[0m\u001b[0;34m(\u001b[0m\u001b[0mself\u001b[0m\u001b[0;34m)\u001b[0m\u001b[0;34m:\u001b[0m\u001b[0;34m\u001b[0m\u001b[0;34m\u001b[0m\u001b[0m\n\u001b[1;32m     31\u001b[0m         \u001b[0;32mif\u001b[0m \u001b[0mhasattr\u001b[0m\u001b[0;34m(\u001b[0m\u001b[0mself\u001b[0m\u001b[0;34m,\u001b[0m \u001b[0;34m'sum_duplicates'\u001b[0m\u001b[0;34m)\u001b[0m\u001b[0;34m:\u001b[0m\u001b[0;34m\u001b[0m\u001b[0;34m\u001b[0m\u001b[0m\n\u001b[0;32m---> 32\u001b[0;31m             \u001b[0mself\u001b[0m\u001b[0;34m.\u001b[0m\u001b[0msum_duplicates\u001b[0m\u001b[0;34m(\u001b[0m\u001b[0;34m)\u001b[0m\u001b[0;34m\u001b[0m\u001b[0;34m\u001b[0m\u001b[0m\n\u001b[0m\u001b[1;32m     33\u001b[0m         \u001b[0;32mreturn\u001b[0m \u001b[0mself\u001b[0m\u001b[0;34m.\u001b[0m\u001b[0mdata\u001b[0m\u001b[0;34m\u001b[0m\u001b[0;34m\u001b[0m\u001b[0m\n\u001b[1;32m     34\u001b[0m \u001b[0;34m\u001b[0m\u001b[0m\n",
      "\u001b[0;32m~/.local/lib/python3.8/site-packages/scipy/sparse/coo.py\u001b[0m in \u001b[0;36msum_duplicates\u001b[0;34m(self)\u001b[0m\n\u001b[1;32m    531\u001b[0m         \u001b[0;32mif\u001b[0m \u001b[0mself\u001b[0m\u001b[0;34m.\u001b[0m\u001b[0mhas_canonical_format\u001b[0m\u001b[0;34m:\u001b[0m\u001b[0;34m\u001b[0m\u001b[0;34m\u001b[0m\u001b[0m\n\u001b[1;32m    532\u001b[0m             \u001b[0;32mreturn\u001b[0m\u001b[0;34m\u001b[0m\u001b[0;34m\u001b[0m\u001b[0m\n\u001b[0;32m--> 533\u001b[0;31m         \u001b[0msummed\u001b[0m \u001b[0;34m=\u001b[0m \u001b[0mself\u001b[0m\u001b[0;34m.\u001b[0m\u001b[0m_sum_duplicates\u001b[0m\u001b[0;34m(\u001b[0m\u001b[0mself\u001b[0m\u001b[0;34m.\u001b[0m\u001b[0mrow\u001b[0m\u001b[0;34m,\u001b[0m \u001b[0mself\u001b[0m\u001b[0;34m.\u001b[0m\u001b[0mcol\u001b[0m\u001b[0;34m,\u001b[0m \u001b[0mself\u001b[0m\u001b[0;34m.\u001b[0m\u001b[0mdata\u001b[0m\u001b[0;34m)\u001b[0m\u001b[0;34m\u001b[0m\u001b[0;34m\u001b[0m\u001b[0m\n\u001b[0m\u001b[1;32m    534\u001b[0m         \u001b[0mself\u001b[0m\u001b[0;34m.\u001b[0m\u001b[0mrow\u001b[0m\u001b[0;34m,\u001b[0m \u001b[0mself\u001b[0m\u001b[0;34m.\u001b[0m\u001b[0mcol\u001b[0m\u001b[0;34m,\u001b[0m \u001b[0mself\u001b[0m\u001b[0;34m.\u001b[0m\u001b[0mdata\u001b[0m \u001b[0;34m=\u001b[0m \u001b[0msummed\u001b[0m\u001b[0;34m\u001b[0m\u001b[0;34m\u001b[0m\u001b[0m\n\u001b[1;32m    535\u001b[0m         \u001b[0mself\u001b[0m\u001b[0;34m.\u001b[0m\u001b[0mhas_canonical_format\u001b[0m \u001b[0;34m=\u001b[0m \u001b[0;32mTrue\u001b[0m\u001b[0;34m\u001b[0m\u001b[0;34m\u001b[0m\u001b[0m\n",
      "\u001b[0;32m~/.local/lib/python3.8/site-packages/scipy/sparse/coo.py\u001b[0m in \u001b[0;36m_sum_duplicates\u001b[0;34m(self, row, col, data)\u001b[0m\n\u001b[1;32m    542\u001b[0m         \u001b[0mrow\u001b[0m \u001b[0;34m=\u001b[0m \u001b[0mrow\u001b[0m\u001b[0;34m[\u001b[0m\u001b[0morder\u001b[0m\u001b[0;34m]\u001b[0m\u001b[0;34m\u001b[0m\u001b[0;34m\u001b[0m\u001b[0m\n\u001b[1;32m    543\u001b[0m         \u001b[0mcol\u001b[0m \u001b[0;34m=\u001b[0m \u001b[0mcol\u001b[0m\u001b[0;34m[\u001b[0m\u001b[0morder\u001b[0m\u001b[0;34m]\u001b[0m\u001b[0;34m\u001b[0m\u001b[0;34m\u001b[0m\u001b[0m\n\u001b[0;32m--> 544\u001b[0;31m         \u001b[0mdata\u001b[0m \u001b[0;34m=\u001b[0m \u001b[0mdata\u001b[0m\u001b[0;34m[\u001b[0m\u001b[0morder\u001b[0m\u001b[0;34m]\u001b[0m\u001b[0;34m\u001b[0m\u001b[0;34m\u001b[0m\u001b[0m\n\u001b[0m\u001b[1;32m    545\u001b[0m         unique_mask = ((row[1:] != row[:-1]) |\n\u001b[1;32m    546\u001b[0m                        (col[1:] != col[:-1]))\n",
      "\u001b[0;31mKeyboardInterrupt\u001b[0m: "
     ]
    }
   ],
   "source": [
    "center = 4.97690394-0.98958947j\n",
    "radius = .001\n",
    "p = 6\n",
    "\n",
    "z2, y2, yl2, beta2, P2, _ = A.leakymode(p, rad=radius, ctr=center, alpha=A.alpha,\n",
    "                                   niterations=50, npts=4, nspan=2)\n"
   ]
  },
  {
   "cell_type": "code",
   "execution_count": 13,
   "id": "bf8168bf",
   "metadata": {},
   "outputs": [],
   "source": [
    "for i in range(len(y)):\n",
    "    a = ng.GridFunction(y.fes, name='sol_' + str(i))\n",
    "    a.vec.data = y._mv[i]\n",
    "    Draw(a)"
   ]
  },
  {
   "cell_type": "code",
   "execution_count": 5,
   "id": "9a210c14",
   "metadata": {
    "scrolled": true
   },
   "outputs": [
    {
     "name": "stdout",
     "output_type": "stream",
     "text": [
      "ModeSolver.leakymode called on object with these settings:\n",
      " <fiberamp.fiber.microstruct.pbg.PBG.PBG object at 0x7f21257af400>\n",
      "Set freq-dependent PML with p= 7  alpha= 5 and thickness=16.667\n",
      "\n",
      "SpectralProj: Setting shifted trapezoidal rule quadrature on circular contour\n",
      "SpectralProj: Radius=0.01, Center=5.49956-0.0677969j\n",
      "SpectralProjNGPoly: Checking if A[d] is nonzero & Hermitian.\n",
      "SpectralProjNG: Checking if inverse.H works for umfpack\n",
      "SpectralProjNGPoly: Computing resolvents along the contour using\n",
      "                    inverse type umfpack (installed default umfpack)\n",
      "SpectralProjNGPoly: Factorizing 560771x560771 system at z =  +5.507 -0.061j\n",
      "SpectralProjNGPoly: Factorizing 560771x560771 system at z =  +5.492 -0.061j\n",
      "SpectralProjNGPoly: Factorizing 560771x560771 system at z =  +5.492 -0.075j\n",
      "SpectralProjNGPoly: Factorizing 560771x560771 system at z =  +5.507 -0.075j\n",
      "\n",
      "=========== Starting FEAST iterations ===========\n",
      "Trying with 2 vectors:\n",
      "\n",
      " ITERATION 1 with 2 vectors and 2 left vectors\n",
      "   During kernel cleaning abs(g):\n",
      "   [3.1e-03 4.3e+00]\n",
      "   Real part of computed eigenvalues:\n",
      "   [5.4803909  5.49954734]\n",
      "   Imag part of computed eigenvalues:\n",
      "   [-0.07320038 -0.06781285]\n",
      "   Relative eigenvalue changes from prior iterate:\n",
      "   [1.815e+99 1.815e+99]\n",
      " ITERATION 2 with 2 vectors and 2 left vectors\n",
      "   During kernel cleaning abs(g):\n",
      "   [0.2 0.1]\n",
      "   Real part of computed eigenvalues:\n",
      "   [5.48003853 5.49956939]\n",
      "   Imag part of computed eigenvalues:\n",
      "   [-0.07288773 -0.06779232]\n",
      "   Relative eigenvalue changes from prior iterate:\n",
      "   [6.395e-05 4.001e-06]\n",
      " ITERATION 3 with 2 vectors and 2 left vectors\n",
      "   During kernel cleaning abs(g):\n",
      "   [0.  8.1]\n",
      "   Real part of computed eigenvalues:\n",
      "   [5.48003796 5.49956942]\n",
      "   Imag part of computed eigenvalues:\n",
      "   [-0.07288596 -0.06779241]\n",
      "   Relative eigenvalue changes from prior iterate:\n",
      "   [1.042e-07 6.872e-09]\n",
      "   Removing ew#[0] not enclosed by contour\n",
      " ITERATION 4 with 1 vectors and 1 left vectors\n",
      "   During kernel cleaning abs(g):\n",
      "   [0.1]\n",
      "   Real part of computed eigenvalues:\n",
      "   [5.49956942]\n",
      "   Imag part of computed eigenvalues:\n",
      "   [-0.06779241]\n",
      "   Relative eigenvalue changes from prior iterate:\n",
      "   [6.414e-11]\n",
      "\n",
      "============= FEAST iterations done =============\n",
      "   Normalizing by M-norms: max=8.8e-01, min=8.8e-01\n",
      "   Normalizing by M-norms: max=1.8e+02, min=1.8e+02\n",
      "Results:\n",
      " Z: [5.49956942-0.06779241j]\n",
      " beta: [5812644.1050555+1616.05053636j]\n",
      " CL dB/m: [14036.83660838]\n",
      "Mode boundary L² norm = 1.1e-15\n"
     ]
    }
   ],
   "source": [
    "center = 5.49955777-0.06779686j\n",
    "radius = .01\n",
    "p = 7\n",
    "\n",
    "z2, y2, yl2, beta2, P2, _ = A.leakymode(p, rad=radius, ctr=center, alpha=A.alpha,\n",
    "                                   niterations=50, npts=4, nspan=2)\n"
   ]
  },
  {
   "cell_type": "code",
   "execution_count": 6,
   "id": "49747165",
   "metadata": {
    "scrolled": false
   },
   "outputs": [],
   "source": [
    "for i in range(len(y2)):\n",
    "    a = ng.GridFunction(y2.fes, name='func_' + str(i))\n",
    "    a.vec.data = y2._mv[i]\n",
    "    Draw(a)"
   ]
  },
  {
   "cell_type": "markdown",
   "id": "ce2537fe",
   "metadata": {},
   "source": [
    "# Step index fiber.\n",
    "\n",
    "The PBG class can give a step index fiber when the correct parameters are given, namely that we have only 1 layer of microstructure tubes and no skipped layers.  Below we verify that we find the correct results in this known case."
   ]
  },
  {
   "cell_type": "code",
   "execution_count": 7,
   "id": "db043a15",
   "metadata": {},
   "outputs": [
    {
     "name": "stdout",
     "output_type": "stream",
     "text": [
      "Generating mesh.\n",
      "Mesh created.\n",
      "ModeSolver: Checking if mesh has required regions\n"
     ]
    }
   ],
   "source": [
    "from fiberamp.fiber.microstruct.pbg.fiber_dicts.step import params\n",
    "\n",
    "C = PBG(params)"
   ]
  },
  {
   "cell_type": "code",
   "execution_count": 8,
   "id": "624c8507",
   "metadata": {},
   "outputs": [],
   "source": [
    "Draw(C.mesh)"
   ]
  },
  {
   "cell_type": "code",
   "execution_count": 9,
   "id": "098681cc",
   "metadata": {
    "scrolled": true
   },
   "outputs": [
    {
     "name": "stdout",
     "output_type": "stream",
     "text": [
      "ModeSolver.leakymode called on object with these settings:\n",
      " <fiberamp.fiber.microstruct.pbg.PBG.PBG object at 0x7f21257af370>\n",
      "Set freq-dependent PML with p= 2  alpha= 5 and thickness=14.000\n",
      "\n",
      "SpectralProj: Setting shifted trapezoidal rule quadrature on circular contour\n",
      "SpectralProj: Radius=0.3, Center=1.96-0.19j\n",
      "SpectralProjNGPoly: Checking if A[d] is nonzero & Hermitian.\n",
      "SpectralProjNG: Checking if inverse.H works for umfpack\n",
      "SpectralProjNGPoly: Computing resolvents along the contour using\n",
      "                    inverse type umfpack (installed default umfpack)\n",
      "SpectralProjNGPoly: Factorizing 6357x6357 system at z =  +2.237 -0.075j\n",
      "SpectralProjNGPoly: Factorizing 6357x6357 system at z =  +2.075 +0.087j\n",
      "SpectralProjNGPoly: Factorizing 6357x6357 system at z =  +1.845 +0.087j\n",
      "SpectralProjNGPoly: Factorizing 6357x6357 system at z =  +1.683 -0.075j\n",
      "SpectralProjNGPoly: Factorizing 6357x6357 system at z =  +1.683 -0.305j\n",
      "SpectralProjNGPoly: Factorizing 6357x6357 system at z =  +1.845 -0.467j\n",
      "SpectralProjNGPoly: Factorizing 6357x6357 system at z =  +2.075 -0.467j\n",
      "SpectralProjNGPoly: Factorizing 6357x6357 system at z =  +2.237 -0.305j\n",
      "\n",
      "=========== Starting FEAST iterations ===========\n",
      "Trying with 5 vectors:\n",
      "\n",
      " ITERATION 1 with 5 vectors and 5 left vectors\n",
      "   During kernel cleaning abs(g):\n",
      "   [1.6e+00 6.3e-01 1.6e-08 2.8e-09 1.9e-09]\n",
      "   Real part of computed eigenvalues:\n",
      "   [1.1260443  1.95433621 1.95361883 1.84703657 1.6932576 ]\n",
      "   Imag part of computed eigenvalues:\n",
      "   [-1.10996371 -0.18210337 -0.18228822 -1.43128388 -1.30558929]\n",
      "   Relative eigenvalue changes from prior iterate:\n",
      "   [4.407e+99 4.407e+99 4.407e+99 4.407e+99 4.407e+99]\n",
      " ITERATION 2 with 5 vectors and 5 left vectors\n",
      "   During kernel cleaning abs(g):\n",
      "   [0.3 0.3 0.  0.  0. ]\n",
      "   Real part of computed eigenvalues:\n",
      "   [2.5063066  1.29228291 1.65035796 1.95433621 1.95361883]\n",
      "   Imag part of computed eigenvalues:\n",
      "   [-1.30822051 -1.20194789 -1.24758954 -0.18210337 -0.18228822]\n",
      "   Relative eigenvalue changes from prior iterate:\n",
      "   [0.608 0.292 0.134 0.047 0.115]\n",
      " ITERATION 3 with 5 vectors and 5 left vectors\n",
      "   During kernel cleaning abs(g):\n",
      "   [2.4e+00 2.2e+00 2.6e-07 5.2e-08 2.4e-08]\n",
      "   Real part of computed eigenvalues:\n",
      "   [1.95361883 1.79813003 1.95433621 1.62264641 1.35953817]\n",
      "   Imag part of computed eigenvalues:\n",
      "   [-0.18228822 -1.3851117  -0.18210337 -1.27070962 -1.09387029]\n",
      "   Relative eigenvalue changes from prior iterate:\n",
      "   [0.244 0.223 0.134 0.146 0.262]\n",
      "   Removing ew#[1, 3, 4] not enclosed by contour\n",
      " ITERATION 4 with 2 vectors and 2 left vectors\n",
      "   During kernel cleaning abs(g):\n",
      "   [0.4 0.5]\n",
      "   Real part of computed eigenvalues:\n",
      "   [1.95361883 1.95433621]\n",
      "   Imag part of computed eigenvalues:\n",
      "   [-0.18228822 -0.18210337]\n",
      "   Relative eigenvalue changes from prior iterate:\n",
      "   [1.957e-16 1.517e-14]\n",
      "\n",
      "============= FEAST iterations done =============\n",
      "   Normalizing by M-norms: max=1.2e+00, min=8.7e-05\n",
      "   Normalizing by M-norms: max=2.9e+01, min=2.7e+01\n",
      "Results:\n",
      " Z: [1.95361883-0.18228822j 1.95433621-0.18210337j]\n",
      " beta: [8559602.83964502+266.27156184j 8559601.76638612+266.09927106j]\n",
      " CL dB/m: [2312.80539991 2311.30890119]\n",
      "Mode boundary L² norm = 9.9e-19\n"
     ]
    },
    {
     "data": {
      "text/plain": [
       "<pyeigfeast.spectralproj.ngs.spectralprojngs.NGvecs at 0x7f209eed8f10>"
      ]
     },
     "execution_count": 9,
     "metadata": {},
     "output_type": "execute_result"
    }
   ],
   "source": [
    "center = 1.96-0.19j     # center of circle to search for Z-resonance values\n",
    "radius = 0.3            # search radius\n",
    "p = 2                   # polynomial degree\n",
    "\n",
    "z, y, yl, beta, P, _ = C.leakymode(p, rad=radius, ctr=center, alpha=5)\n",
    "y"
   ]
  },
  {
   "cell_type": "code",
   "execution_count": 10,
   "id": "dd584ab5",
   "metadata": {},
   "outputs": [],
   "source": [
    "y.draw()"
   ]
  }
 ],
 "metadata": {
  "kernelspec": {
   "display_name": "Python 3",
   "language": "python",
   "name": "python3"
  },
  "language_info": {
   "codemirror_mode": {
    "name": "ipython",
    "version": 3
   },
   "file_extension": ".py",
   "mimetype": "text/x-python",
   "name": "python",
   "nbconvert_exporter": "python",
   "pygments_lexer": "ipython3",
   "version": "3.8.5"
  }
 },
 "nbformat": 4,
 "nbformat_minor": 5
}
