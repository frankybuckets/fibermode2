{
 "cells": [
  {
   "cell_type": "markdown",
   "id": "5481d90e",
   "metadata": {},
   "source": [
    "# PBG Mode Finder Notebook\n",
    "\n",
    "This notebook is used to find modes for the Photonic Band Gap fiber.  It is similar to PBG_mode.py but as it is a Jupyter Notebook it is more amenable to on-the-fly experimentation."
   ]
  },
  {
   "cell_type": "markdown",
   "id": "1961c261",
   "metadata": {},
   "source": [
    "## Finding modes for the standard pattern fibers:"
   ]
  },
  {
   "cell_type": "code",
   "execution_count": 1,
   "id": "d353f5ca",
   "metadata": {},
   "outputs": [],
   "source": [
    "from fiberamp.fiber.microstruct.pbg import PBG\n",
    "import ngsolve as ng\n",
    "\n",
    "webgui = False\n",
    "\n",
    "if webgui == True:\n",
    "    from ngsolve.webgui import Draw\n",
    "    \n",
    "else:\n",
    "    import netgen.gui\n",
    "    from ngsolve import Draw"
   ]
  },
  {
   "cell_type": "code",
   "execution_count": 2,
   "id": "9d8aeb91",
   "metadata": {},
   "outputs": [],
   "source": [
    "from fiberamp.fiber.microstruct.pbg.fiber_dicts.lyr7cr1 import params as params\n"
   ]
  },
  {
   "cell_type": "code",
   "execution_count": 3,
   "id": "7eb8a119",
   "metadata": {},
   "outputs": [
    {
     "name": "stdout",
     "output_type": "stream",
     "text": [
      "ModeSolver: Checking if mesh has required regions\n",
      "{'Outer': 0, 'clad': -1.1019455831767913, 'tube': -1.1898455831767911, 'air': 0, 'core': -1.1019455831767913}\n",
      "clad\n",
      "tube\n",
      "air\n",
      "Outer\n",
      "core\n"
     ]
    }
   ],
   "source": [
    "A = PBG(params)\n"
   ]
  },
  {
   "cell_type": "code",
   "execution_count": 4,
   "id": "9c58d10d",
   "metadata": {
    "scrolled": true
   },
   "outputs": [],
   "source": [
    "Draw(A.mesh)\n"
   ]
  },
  {
   "cell_type": "markdown",
   "id": "0169bf5f",
   "metadata": {},
   "source": [
    "### Large radius search"
   ]
  },
  {
   "cell_type": "code",
   "execution_count": null,
   "id": "5f089991",
   "metadata": {},
   "outputs": [],
   "source": [
    "z, y, yl, beta, P, _ = A.leakymode(2, ctr=.25, rad=1, nspan = 10, alpha=A.alpha)\n"
   ]
  },
  {
   "cell_type": "code",
   "execution_count": null,
   "id": "5cab8894",
   "metadata": {},
   "outputs": [],
   "source": [
    "# m = (y._mv).shape?\n",
    "for i in range(2):\n",
    "    a = ng.GridFunction(y.fes, name='func_' + str(i))\n",
    "    a.vec.data = y._mv[i]\n",
    "    Draw(a)"
   ]
  },
  {
   "cell_type": "markdown",
   "id": "d4e2a1e8",
   "metadata": {},
   "source": [
    "### Small radius search "
   ]
  },
  {
   "cell_type": "code",
   "execution_count": null,
   "id": "23a86a5c",
   "metadata": {},
   "outputs": [],
   "source": [
    "z2, y2, yl2, beta2, P2, w = A.leakymode(2, ctr=1.18429309-0.3680j, rad=.001, nspan=2)\n"
   ]
  },
  {
   "cell_type": "code",
   "execution_count": null,
   "id": "49747165",
   "metadata": {
    "scrolled": false
   },
   "outputs": [],
   "source": [
    "for i in range(2):\n",
    "    a = ng.GridFunction(y2.fes, name='func_' + str(i))\n",
    "    a.vec.data = y2._mv[i]\n",
    "    Draw(a)"
   ]
  },
  {
   "cell_type": "markdown",
   "id": "ce2537fe",
   "metadata": {},
   "source": [
    "# Checking that our methods work for step index fiber.\n",
    "\n",
    "The PBG class can give a step index fiber when the correct parameters are given, namely that we have only 1 layer of microstructure tubes and no skipped layers.  Below we verify (hopefully) that we find the correct results in this known case."
   ]
  },
  {
   "cell_type": "code",
   "execution_count": 5,
   "id": "db043a15",
   "metadata": {},
   "outputs": [],
   "source": [
    "# altered params\n",
    "from fiberamp.fiber.microstruct.pbg.fiber_dicts.step import params\n",
    "\n"
   ]
  },
  {
   "cell_type": "code",
   "execution_count": 6,
   "id": "624c8507",
   "metadata": {},
   "outputs": [
    {
     "name": "stdout",
     "output_type": "stream",
     "text": [
      "adding circle at origin\n",
      "ModeSolver: Checking if mesh has required regions\n",
      "{'Outer': 0, 'clad': -1.1011626560767913, 'tube': -1.1047595240767916}\n",
      "clad\n",
      "tube\n",
      "default\n",
      "Outer\n"
     ]
    }
   ],
   "source": [
    "C = PBG(params)"
   ]
  },
  {
   "cell_type": "code",
   "execution_count": 7,
   "id": "9251ce98",
   "metadata": {
    "scrolled": true
   },
   "outputs": [],
   "source": [
    "Draw(C.mesh)"
   ]
  },
  {
   "cell_type": "code",
   "execution_count": null,
   "id": "098681cc",
   "metadata": {},
   "outputs": [],
   "source": []
  }
 ],
 "metadata": {
  "kernelspec": {
   "display_name": "Python 3",
   "language": "python",
   "name": "python3"
  },
  "language_info": {
   "codemirror_mode": {
    "name": "ipython",
    "version": 3
   },
   "file_extension": ".py",
   "mimetype": "text/x-python",
   "name": "python",
   "nbconvert_exporter": "python",
   "pygments_lexer": "ipython3",
   "version": "3.8.5"
  }
 },
 "nbformat": 4,
 "nbformat_minor": 5
}
