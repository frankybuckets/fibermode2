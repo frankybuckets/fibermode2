{
 "cells": [
  {
   "cell_type": "markdown",
   "id": "5481d90e",
   "metadata": {},
   "source": [
    "# PBG Mode Notebook\n",
    "\n",
    "This notebook is used to find and view modes for the Photonic Band Gap fiber. "
   ]
  },
  {
   "cell_type": "code",
   "execution_count": null,
   "id": "c3158f26",
   "metadata": {},
   "outputs": [],
   "source": [
    "from fiberamp.fiber.microstruct.pbg import PBG, load_pbg_mode\n",
    "import ngsolve as ng\n",
    "\n",
    "webgui = True\n",
    "\n",
    "if webgui == True:\n",
    "    from ngsolve.webgui import Draw\n",
    "    \n",
    "else:\n",
    "    import netgen.gui\n",
    "    from ngsolve import Draw"
   ]
  },
  {
   "cell_type": "markdown",
   "id": "1ef10e73",
   "metadata": {},
   "source": [
    "# Mode Viewing\n",
    "\n",
    "Load and view modes."
   ]
  },
  {
   "cell_type": "code",
   "execution_count": null,
   "id": "8d5a7723",
   "metadata": {},
   "outputs": [],
   "source": [
    "folder = '/home/pv/local/fiberamp/fiber/microstruct/pbg/outputs/lyr6cr2/'\n",
    "\n",
    "import os\n",
    "os.chdir(folder)\n",
    "!ls"
   ]
  },
  {
   "cell_type": "code",
   "execution_count": null,
   "id": "4397596c",
   "metadata": {},
   "outputs": [],
   "source": [
    "A, y, beta, z, p, _, _, _ = load_pbg_mode('fundamental', 'fundamental',\n",
    "                                          folder, folder)"
   ]
  },
  {
   "cell_type": "code",
   "execution_count": null,
   "id": "1806fcdf",
   "metadata": {},
   "outputs": [],
   "source": [
    "for i in range(len(y)):\n",
    "    a = ng.GridFunction(y.fes, name='sol_' + str(i))\n",
    "    a.vec.data = y._mv[i]\n",
    "    Draw(a)"
   ]
  },
  {
   "cell_type": "markdown",
   "id": "1961c261",
   "metadata": {},
   "source": [
    "# Mode Finding\n",
    "## Microstructured Fiber"
   ]
  },
  {
   "cell_type": "code",
   "execution_count": null,
   "id": "9d8aeb91",
   "metadata": {},
   "outputs": [],
   "source": [
    "from fiberamp.fiber.microstruct.pbg.fiber_dicts.lyr6cr2 import params\n",
    "params['t_outer'] *= 1.5"
   ]
  },
  {
   "cell_type": "code",
   "execution_count": null,
   "id": "7eb8a119",
   "metadata": {},
   "outputs": [],
   "source": [
    "A = PBG(params)\n"
   ]
  },
  {
   "cell_type": "code",
   "execution_count": null,
   "id": "9c58d10d",
   "metadata": {},
   "outputs": [],
   "source": [
    "Draw(A.mesh)\n"
   ]
  },
  {
   "cell_type": "markdown",
   "id": "0169bf5f",
   "metadata": {},
   "source": [
    "### Large radius search"
   ]
  },
  {
   "cell_type": "code",
   "execution_count": null,
   "id": "5f089991",
   "metadata": {},
   "outputs": [],
   "source": [
    "center = 2.25\n",
    "radius = 1\n",
    "p = 2\n",
    "\n",
    "z, y, yl, beta, P, _ = A.leakymode(p, rad=radius, ctr=center, alpha=A.alpha,\n",
    "                                   quadrule='ellipse_trapez_shift', rhoinv=.85,\n",
    "                                   niterations=50, npts=8, nspan=8)\n"
   ]
  },
  {
   "cell_type": "code",
   "execution_count": null,
   "id": "5cab8894",
   "metadata": {},
   "outputs": [],
   "source": [
    "for i in range(len(y)):\n",
    "    a = ng.GridFunction(y.fes, name='sol_' + str(i))\n",
    "    a.vec.data = y._mv[i]\n",
    "    Draw(a)"
   ]
  },
  {
   "cell_type": "markdown",
   "id": "d4e2a1e8",
   "metadata": {},
   "source": [
    "### Small radius search "
   ]
  },
  {
   "cell_type": "code",
   "execution_count": null,
   "id": "47d8c1ba",
   "metadata": {},
   "outputs": [],
   "source": [
    "center = 1.242933-2.47192e-09j   # fundamental mode!\n",
    "radius = .001\n",
    "p = 4\n",
    "\n",
    "z2, y2, yl2, beta2, P2, _ = A.leakymode(p, rad=radius, ctr=center, alpha=A.alpha,\n",
    "                                   niterations=50, npts=4, nspan=2)"
   ]
  },
  {
   "cell_type": "code",
   "execution_count": null,
   "id": "23531215",
   "metadata": {},
   "outputs": [],
   "source": [
    "for i in range(len(y2)):\n",
    "    filler_func = ng.GridFunction(y2.fes, name='sol_' + str(i))\n",
    "    filler_func.vec.data = y2._mv[i]\n",
    "    Draw(filler_func)"
   ]
  },
  {
   "cell_type": "code",
   "execution_count": null,
   "id": "23556a50",
   "metadata": {},
   "outputs": [],
   "source": [
    "A.savemodes('fundamental',folder, y2, p, beta2, z2, pbgpickle=True)"
   ]
  },
  {
   "cell_type": "code",
   "execution_count": null,
   "id": "a4ce0824",
   "metadata": {},
   "outputs": [],
   "source": [
    "center = 1.9348706 -8.69953e-08j   # multiplicity 2 eigenvalue\n",
    "radius = .01\n",
    "p = 7\n",
    "\n",
    "z2, y2, yl2, beta2, P2, _ = A.leakymode(p, rad=radius, ctr=center, alpha=A.alpha,\n",
    "                                   niterations=50, npts=4, nspan=2)"
   ]
  },
  {
   "cell_type": "code",
   "execution_count": null,
   "id": "bf8168bf",
   "metadata": {},
   "outputs": [],
   "source": [
    "for i in range(len(y2)):\n",
    "    filler_func = ng.GridFunction(y2.fes, name='sol_' + str(i))\n",
    "    filler_func.vec.data = y2._mv[i]\n",
    "    Draw(filler_func)"
   ]
  },
  {
   "cell_type": "code",
   "execution_count": null,
   "id": "c1885213",
   "metadata": {},
   "outputs": [],
   "source": [
    "folder = '/home/pv/local/fiberamp/fiber/microstruct/pbg/outputs/lyr6cr2/'\n",
    "\n",
    "A.savemodes('LP11',folder, y2, p, beta2, z2, pbgpickle=True)"
   ]
  },
  {
   "cell_type": "code",
   "execution_count": null,
   "id": "7b600e68",
   "metadata": {},
   "outputs": [],
   "source": []
  },
  {
   "cell_type": "code",
   "execution_count": null,
   "id": "0cfcbd9e",
   "metadata": {},
   "outputs": [],
   "source": [
    "center = 2.64222769-0.16322545j\n",
    "radius = .01\n",
    "p = 3\n",
    "\n",
    "z2, y2, yl2, beta2, P2, _ = A.leakymode(p, rad=radius, ctr=center, alpha=A.alpha,\n",
    "                                   niterations=50, npts=4, nspan=2)"
   ]
  },
  {
   "cell_type": "code",
   "execution_count": null,
   "id": "a431a04f",
   "metadata": {},
   "outputs": [],
   "source": []
  }
 ],
 "metadata": {
  "kernelspec": {
   "display_name": "Python 3",
   "language": "python",
   "name": "python3"
  },
  "language_info": {
   "codemirror_mode": {
    "name": "ipython",
    "version": 3
   },
   "file_extension": ".py",
   "mimetype": "text/x-python",
   "name": "python",
   "nbconvert_exporter": "python",
   "pygments_lexer": "ipython3",
   "version": "3.8.5"
  }
 },
 "nbformat": 4,
 "nbformat_minor": 5
}
