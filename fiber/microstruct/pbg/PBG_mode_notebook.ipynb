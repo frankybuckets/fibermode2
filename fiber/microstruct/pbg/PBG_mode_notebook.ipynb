{
 "cells": [
  {
   "cell_type": "markdown",
   "id": "5481d90e",
   "metadata": {},
   "source": [
    "# PBG Mode Finder Notebook\n",
    "\n",
    "This notebook is used to find modes for the Photonic Band Gap fiber.  It is similar to PBG_mode.py but as it is a Jupyter Notebook it is more amenable to on-the-fly experimentation."
   ]
  },
  {
   "cell_type": "code",
   "execution_count": null,
   "id": "d353f5ca",
   "metadata": {},
   "outputs": [],
   "source": [
    "from fiberamp.fiber.microstruct.pbg import PBG\n",
    "import ngsolve as ng\n",
    "\n",
    "webgui = False\n",
    "\n",
    "if webgui == True:\n",
    "    from ngsolve.webgui import Draw\n",
    "    \n",
    "else:\n",
    "    import netgen.gui\n",
    "    from ngsolve import Draw"
   ]
  },
  {
   "cell_type": "code",
   "execution_count": null,
   "id": "9d8aeb91",
   "metadata": {},
   "outputs": [],
   "source": [
    "from fiberamp.fiber.microstruct.pbg.fiber_dicts.lyr6cr2 import params as params\n"
   ]
  },
  {
   "cell_type": "code",
   "execution_count": null,
   "id": "01fd0089",
   "metadata": {},
   "outputs": [],
   "source": [
    "params"
   ]
  },
  {
   "cell_type": "code",
   "execution_count": null,
   "id": "7eb8a119",
   "metadata": {},
   "outputs": [],
   "source": [
    "A = PBG(params)\n"
   ]
  },
  {
   "cell_type": "code",
   "execution_count": null,
   "id": "9c58d10d",
   "metadata": {},
   "outputs": [],
   "source": [
    "Draw(A.mesh)\n"
   ]
  },
  {
   "cell_type": "code",
   "execution_count": null,
   "id": "3f718830",
   "metadata": {},
   "outputs": [],
   "source": [
    "A.mesh.Refine()"
   ]
  },
  {
   "cell_type": "code",
   "execution_count": null,
   "id": "5f089991",
   "metadata": {},
   "outputs": [],
   "source": [
    "z, y, yl, beta, P, _ = A.leakymode(2, ctr=5.9529, rad=.04, quadrule='ellipse_trapez_shift', \n",
    "                                   rhoinv=0.01, nspan=3)\n"
   ]
  },
  {
   "cell_type": "code",
   "execution_count": null,
   "id": "5cab8894",
   "metadata": {},
   "outputs": [],
   "source": [
    "# m = (y._mv).shape?\n",
    "for i in range(2):\n",
    "    a = ng.GridFunction(y2.fes, name='func_' + str(i))\n",
    "    a.vec.data = y._mv[i]\n",
    "    ng.Draw(a)"
   ]
  },
  {
   "cell_type": "code",
   "execution_count": null,
   "id": "23a86a5c",
   "metadata": {},
   "outputs": [],
   "source": [
    "z2, y2, yl2, beta2, P2, w = A.leakymode(2, ctr=5.9437835-0.01455301j, rad=.001, nspan=2)\n"
   ]
  },
  {
   "cell_type": "code",
   "execution_count": null,
   "id": "49747165",
   "metadata": {},
   "outputs": [],
   "source": [
    "ng.Draw(y2.gridfun())"
   ]
  },
  {
   "cell_type": "code",
   "execution_count": null,
   "id": "2f8515a5",
   "metadata": {},
   "outputs": [],
   "source": []
  }
 ],
 "metadata": {
  "kernelspec": {
   "display_name": "Python 3",
   "language": "python",
   "name": "python3"
  },
  "language_info": {
   "codemirror_mode": {
    "name": "ipython",
    "version": 3
   },
   "file_extension": ".py",
   "mimetype": "text/x-python",
   "name": "python",
   "nbconvert_exporter": "python",
   "pygments_lexer": "ipython3",
   "version": "3.8.5"
  }
 },
 "nbformat": 4,
 "nbformat_minor": 5
}
