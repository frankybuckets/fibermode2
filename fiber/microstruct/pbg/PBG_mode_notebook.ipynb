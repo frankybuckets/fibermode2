{
 "cells": [
  {
   "cell_type": "markdown",
   "id": "5481d90e",
   "metadata": {},
   "source": [
    "# PBG Mode Notebook\n",
    "\n",
    "This notebook is used to find and view modes for the Photonic Band Gap fiber. "
   ]
  },
  {
   "cell_type": "code",
   "execution_count": null,
   "id": "c3158f26",
   "metadata": {},
   "outputs": [],
   "source": [
    "import ngsolve as ng\n",
    "from ngsolve.webgui import Draw\n",
    "\n",
    "from fiberamp.fiber.microstruct.pbg import PBG, load_pbg_mode\n",
    "from fiberamp.fiber.microstruct.pbg.fiber_dicts.lyr6cr2 import params"
   ]
  },
  {
   "cell_type": "code",
   "execution_count": null,
   "id": "7eb8a119",
   "metadata": {},
   "outputs": [],
   "source": [
    "A = PBG(params)\n"
   ]
  },
  {
   "cell_type": "code",
   "execution_count": null,
   "id": "9c58d10d",
   "metadata": {},
   "outputs": [],
   "source": [
    "Draw(A.mesh)\n"
   ]
  },
  {
   "cell_type": "markdown",
   "id": "0169bf5f",
   "metadata": {},
   "source": [
    "### Large radius search"
   ]
  },
  {
   "cell_type": "code",
   "execution_count": null,
   "id": "dff3b9cf",
   "metadata": {},
   "outputs": [],
   "source": [
    "1.69, 2.67"
   ]
  },
  {
   "cell_type": "code",
   "execution_count": null,
   "id": "5f089991",
   "metadata": {},
   "outputs": [],
   "source": [
    "center = 2\n",
    "radius = 1\n",
    "p = 3\n",
    "\n",
    "z, y, yl, beta, P, _ = A.leakymode(p, rad=radius, ctr=center,\n",
    "                                   alpha=A.alpha, stop_tol=1e-8,\n",
    "                                   quadrule='ellipse_trapez_shift',\n",
    "                                   rhoinv=.8, niterations=12, npts=6,\n",
    "                                   nspan=3, nrestarts=0)\n"
   ]
  },
  {
   "cell_type": "code",
   "execution_count": null,
   "id": "5cab8894",
   "metadata": {},
   "outputs": [],
   "source": [
    "C=1e2\n",
    "for f in y:\n",
    "    Draw(C*f, A.mesh)"
   ]
  },
  {
   "cell_type": "markdown",
   "id": "d4e2a1e8",
   "metadata": {},
   "source": [
    "### Small radius search "
   ]
  },
  {
   "cell_type": "code",
   "execution_count": null,
   "id": "47d8c1ba",
   "metadata": {},
   "outputs": [],
   "source": [
    "center = 1.242933-2.47192e-09j   # fundamental mode!\n",
    "radius = .001\n",
    "p = 4\n",
    "\n",
    "z2, y2, yl2, beta2, P2, _ = A.leakymode(p, rad=radius, ctr=center, alpha=A.alpha,\n",
    "                                   niterations=50, npts=4, nspan=2)"
   ]
  },
  {
   "cell_type": "code",
   "execution_count": null,
   "id": "23531215",
   "metadata": {},
   "outputs": [],
   "source": [
    "for i in range(len(y2)):\n",
    "    filler_func = ng.GridFunction(y2.fes, name='sol_' + str(i))\n",
    "    filler_func.vec.data = y2._mv[i]\n",
    "    Draw(filler_func)"
   ]
  },
  {
   "cell_type": "code",
   "execution_count": null,
   "id": "23556a50",
   "metadata": {},
   "outputs": [],
   "source": [
    "A.savemodes('fundamental',folder, y2, p, beta2, z2, pbgpickle=True)"
   ]
  },
  {
   "cell_type": "code",
   "execution_count": null,
   "id": "a4ce0824",
   "metadata": {},
   "outputs": [],
   "source": [
    "center = 1.9348706 -8.69953e-08j   # multiplicity 2 eigenvalue\n",
    "radius = .01\n",
    "p = 7\n",
    "\n",
    "z2, y2, yl2, beta2, P2, _ = A.leakymode(p, rad=radius, ctr=center, alpha=A.alpha,\n",
    "                                   niterations=50, npts=4, nspan=2)"
   ]
  },
  {
   "cell_type": "code",
   "execution_count": null,
   "id": "bf8168bf",
   "metadata": {},
   "outputs": [],
   "source": [
    "for i in range(len(y2)):\n",
    "    filler_func = ng.GridFunction(y2.fes, name='sol_' + str(i))\n",
    "    filler_func.vec.data = y2._mv[i]\n",
    "    Draw(filler_func)"
   ]
  },
  {
   "cell_type": "code",
   "execution_count": null,
   "id": "c1885213",
   "metadata": {},
   "outputs": [],
   "source": [
    "folder = '/home/pv/local/fiberamp/fiber/microstruct/pbg/outputs/lyr6cr2/'\n",
    "\n",
    "A.savemodes('LP11',folder, y2, p, beta2, z2, pbgpickle=True)"
   ]
  },
  {
   "cell_type": "code",
   "execution_count": null,
   "id": "7b600e68",
   "metadata": {},
   "outputs": [],
   "source": []
  },
  {
   "cell_type": "code",
   "execution_count": null,
   "id": "0cfcbd9e",
   "metadata": {},
   "outputs": [],
   "source": [
    "center = 2.64222769-0.16322545j\n",
    "radius = .01\n",
    "p = 3\n",
    "\n",
    "z2, y2, yl2, beta2, P2, _ = A.leakymode(p, rad=radius, ctr=center, alpha=A.alpha,\n",
    "                                   niterations=50, npts=4, nspan=2)"
   ]
  },
  {
   "cell_type": "code",
   "execution_count": null,
   "id": "a431a04f",
   "metadata": {},
   "outputs": [],
   "source": []
  }
 ],
 "metadata": {
  "kernelspec": {
   "display_name": "Python 3 (ipykernel)",
   "language": "python",
   "name": "python3"
  },
  "language_info": {
   "codemirror_mode": {
    "name": "ipython",
    "version": 3
   },
   "file_extension": ".py",
   "mimetype": "text/x-python",
   "name": "python",
   "nbconvert_exporter": "python",
   "pygments_lexer": "ipython3",
   "version": "3.8.10"
  }
 },
 "nbformat": 4,
 "nbformat_minor": 5
}
