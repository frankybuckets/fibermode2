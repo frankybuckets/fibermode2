{
 "cells": [
  {
   "cell_type": "markdown",
   "id": "5481d90e",
   "metadata": {},
   "source": [
    "# PBG Mode Notebook\n",
    "\n",
    "This notebook is used to find and view modes for the Photonic Band Gap fiber. "
   ]
  },
  {
   "cell_type": "code",
   "execution_count": 1,
   "id": "c3158f26",
   "metadata": {},
   "outputs": [],
   "source": [
    "from fiberamp.fiber.microstruct.pbg import PBG, load_pbg_mode\n",
    "import ngsolve as ng\n",
    "\n",
    "webgui = True\n",
    "\n",
    "if webgui == True:\n",
    "    from ngsolve.webgui import Draw\n",
    "    \n",
    "else:\n",
    "    import netgen.gui\n",
    "    from ngsolve import Draw"
   ]
  },
  {
   "cell_type": "markdown",
   "id": "1ef10e73",
   "metadata": {},
   "source": [
    "# Mode Viewing\n",
    "\n",
    "Load and view modes."
   ]
  },
  {
   "cell_type": "code",
   "execution_count": 2,
   "id": "8d5a7723",
   "metadata": {
    "scrolled": true
   },
   "outputs": [
    {
     "name": "stdout",
     "output_type": "stream",
     "text": [
      "fundamental_mode.npz  fundamental_pbg.pkl  LP02_p7_mode.npz  LP02_p7_pbg.pkl\r\n"
     ]
    }
   ],
   "source": [
    "folder = '/home/pv/local/fiberamp/fiber/microstruct/pbg/outputs/lyr6cr2/'\n",
    "\n",
    "import os\n",
    "os.chdir(folder)\n",
    "!ls"
   ]
  },
  {
   "cell_type": "code",
   "execution_count": 3,
   "id": "4397596c",
   "metadata": {},
   "outputs": [],
   "source": [
    "A, y, beta, z, p, _, _, _ = load_pbg_mode('fundamental', 'fundamental',\n",
    "                                          folder, folder)"
   ]
  },
  {
   "cell_type": "code",
   "execution_count": 4,
   "id": "1806fcdf",
   "metadata": {},
   "outputs": [
    {
     "data": {
      "application/vnd.jupyter.widget-view+json": {
       "model_id": "3d0945cb506744cf9881a2e833472dac",
       "version_major": 2,
       "version_minor": 0
      },
      "text/plain": [
       "WebGuiWidget(value={'ngsolve_version': '6.2.2102-126-g9666e2fca', 'mesh_dim': 2, 'order2d': 2, 'order3d': 2, '…"
      ]
     },
     "metadata": {},
     "output_type": "display_data"
    }
   ],
   "source": [
    "for i in range(len(y)):\n",
    "    a = ng.GridFunction(y.fes, name='sol_' + str(i))\n",
    "    a.vec.data = y._mv[i]\n",
    "    Draw(a)"
   ]
  },
  {
   "cell_type": "markdown",
   "id": "1961c261",
   "metadata": {},
   "source": [
    "# Mode Finding\n",
    "## Microstructured Fiber"
   ]
  },
  {
   "cell_type": "code",
   "execution_count": null,
   "id": "9d8aeb91",
   "metadata": {},
   "outputs": [],
   "source": [
    "from fiberamp.fiber.microstruct.pbg.fiber_dicts.lyr6cr2 import params\n"
   ]
  },
  {
   "cell_type": "code",
   "execution_count": null,
   "id": "7eb8a119",
   "metadata": {},
   "outputs": [],
   "source": [
    "A = PBG(params)\n"
   ]
  },
  {
   "cell_type": "code",
   "execution_count": null,
   "id": "9c58d10d",
   "metadata": {
    "scrolled": true
   },
   "outputs": [],
   "source": [
    "Draw(A.mesh)\n"
   ]
  },
  {
   "cell_type": "markdown",
   "id": "0169bf5f",
   "metadata": {},
   "source": [
    "### Large radius search"
   ]
  },
  {
   "cell_type": "code",
   "execution_count": null,
   "id": "5f089991",
   "metadata": {},
   "outputs": [],
   "source": [
    "center = 1.25\n",
    "radius = 1\n",
    "p = 2\n",
    "\n",
    "z, y, yl, beta, P, _ = A.leakymode(p, rad=radius, ctr=center, alpha=A.alpha,\n",
    "                                   quadrule='ellipse_trapez_shift', rhoinv=.85,\n",
    "                                   niterations=50, npts=8, nspan=4)\n"
   ]
  },
  {
   "cell_type": "code",
   "execution_count": null,
   "id": "5cab8894",
   "metadata": {},
   "outputs": [],
   "source": [
    "for i in range(len(y)):\n",
    "    a = ng.GridFunction(y.fes, name='sol_' + str(i))\n",
    "    a.vec.data = y._mv[i]\n",
    "    Draw(a)"
   ]
  },
  {
   "cell_type": "markdown",
   "id": "d4e2a1e8",
   "metadata": {},
   "source": [
    "### Small radius search "
   ]
  },
  {
   "cell_type": "code",
   "execution_count": null,
   "id": "47d8c1ba",
   "metadata": {},
   "outputs": [],
   "source": [
    "center = 1.242933-2.47192e-09j   # fundamental mode!\n",
    "radius = .001\n",
    "p = 4\n",
    "\n",
    "z2, y2, yl2, beta2, P2, _ = A.leakymode(p, rad=radius, ctr=center, alpha=A.alpha,\n",
    "                                   niterations=50, npts=4, nspan=2)"
   ]
  },
  {
   "cell_type": "code",
   "execution_count": null,
   "id": "23531215",
   "metadata": {},
   "outputs": [],
   "source": [
    "for i in range(len(y2)):\n",
    "    filler_func = ng.GridFunction(y2.fes, name='sol_' + str(i))\n",
    "    filler_func.vec.data = y2._mv[i]\n",
    "    Draw(filler_func)"
   ]
  },
  {
   "cell_type": "code",
   "execution_count": null,
   "id": "23556a50",
   "metadata": {},
   "outputs": [],
   "source": [
    "A.savemodes('fundamental',folder, y2, p, beta2, z2, pbgpickle=True)"
   ]
  },
  {
   "cell_type": "code",
   "execution_count": null,
   "id": "a4ce0824",
   "metadata": {},
   "outputs": [],
   "source": [
    "center = 1.9   # multiplicity 2 eigenvalue. Fails for p>3 due to small solver error.\n",
    "radius = .1\n",
    "p = 3\n",
    "\n",
    "z2, y2, yl2, beta2, P2, _ = A.leakymode(p, rad=radius, ctr=center, alpha=A.alpha,\n",
    "                                   niterations=50, npts=4, nspan=10)"
   ]
  },
  {
   "cell_type": "code",
   "execution_count": null,
   "id": "bf8168bf",
   "metadata": {},
   "outputs": [],
   "source": [
    "for i in range(len(y2)):\n",
    "    filler_func = ng.GridFunction(y2.fes, name='sol_' + str(i))\n",
    "    filler_func.vec.data = y2._mv[i]\n",
    "    Draw(filler_func)"
   ]
  },
  {
   "cell_type": "markdown",
   "id": "ce2537fe",
   "metadata": {},
   "source": [
    "# Step index fiber.\n",
    "\n",
    "The PBG class can give a step index fiber when the correct parameters are given. Below we verify that we find the correct results in this known case."
   ]
  },
  {
   "cell_type": "code",
   "execution_count": null,
   "id": "db043a15",
   "metadata": {},
   "outputs": [],
   "source": [
    "from fiberamp.fiber.microstruct.pbg.fiber_dicts.step import params\n",
    "\n",
    "C = PBG(params)"
   ]
  },
  {
   "cell_type": "code",
   "execution_count": null,
   "id": "624c8507",
   "metadata": {},
   "outputs": [],
   "source": [
    "Draw(C.mesh)"
   ]
  },
  {
   "cell_type": "code",
   "execution_count": null,
   "id": "098681cc",
   "metadata": {},
   "outputs": [],
   "source": [
    "center = 1.96-0.19j     # center of circle to search for Z-resonance values\n",
    "radius = 0.3            # search radius\n",
    "p = 2                   # polynomial degree\n",
    "\n",
    "z, y, yl, beta, P, _ = C.leakymode(p, rad=radius, ctr=center, alpha=5)\n",
    "y"
   ]
  },
  {
   "cell_type": "code",
   "execution_count": null,
   "id": "dd584ab5",
   "metadata": {},
   "outputs": [],
   "source": [
    "y.draw()"
   ]
  }
 ],
 "metadata": {
  "kernelspec": {
   "display_name": "Python 3",
   "language": "python",
   "name": "python3"
  },
  "language_info": {
   "codemirror_mode": {
    "name": "ipython",
    "version": 3
   },
   "file_extension": ".py",
   "mimetype": "text/x-python",
   "name": "python",
   "nbconvert_exporter": "python",
   "pygments_lexer": "ipython3",
   "version": "3.8.5"
  }
 },
 "nbformat": 4,
 "nbformat_minor": 5
}
