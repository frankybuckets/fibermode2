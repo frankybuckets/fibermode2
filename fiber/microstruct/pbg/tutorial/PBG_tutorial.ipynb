{
 "cells": [
  {
   "cell_type": "markdown",
   "id": "b4a6652a",
   "metadata": {},
   "source": [
    "# Introduction to Photonic Band Gap fiber class.\n",
    "\n",
    "The class PBG is used to create geometries describing Photonic Band Gap fibers and assist in calculating their modes.  In this tutorial we describe how to create PBG class objects for these geometries and use these objects to find the desired modes."
   ]
  },
  {
   "cell_type": "markdown",
   "id": "f043ebda",
   "metadata": {},
   "source": [
    "## Setup: Parameters\n",
    "\n",
    "Photonic Band Gap fibers feature a hexagonal lattice of tubes of high refractive index embedded in a cladding of lower refractive index.  Below we see two examples of such fibers.  The image is taken from [1]."
   ]
  },
  {
   "cell_type": "code",
   "execution_count": null,
   "id": "9addc9b0",
   "metadata": {},
   "outputs": [],
   "source": [
    "from IPython.display import Image\n",
    "Image(filename='basic_fibers.png') "
   ]
  },
  {
   "cell_type": "markdown",
   "id": "8c80ce70",
   "metadata": {},
   "source": [
    "The parameters necessary for recreating these fibers are stored in the directory \"fiber_dicts\" inside the main \"pbg\" directory.  The parameters for fiber (a) are shown below:"
   ]
  },
  {
   "cell_type": "code",
   "execution_count": null,
   "id": "42f49c4a",
   "metadata": {},
   "outputs": [],
   "source": [
    "from fiberamp.fiber.microstruct.pbg.fiber_dicts.lyr7cr1 import params\n",
    "\n",
    "params"
   ]
  },
  {
   "cell_type": "markdown",
   "id": "5b7c74a1",
   "metadata": {},
   "source": [
    "The meaning of these parameters is as follows:\n",
    "\n",
    "Geometric Paramters:\n",
    "- p: refers to the number of sides of the polygonal lattice.  For a hexagonal lattice we use p=6.\n",
    "- layers: refers to the number of layers of tubes.  For (a) there are a total of 7 layers.\n",
    "- skip: indicates number of layers of tubes to be skipped to make the core region.  For (a) we skip 1 layer, while for (b) we skip 2.\n",
    "- sep: Identical to $\\Lambda$ above; indicates the distance separating layers of tubes\n",
    "- r_tube: the radius of the tubes, equal to d/2 where d appears above.\n",
    "- r_core: radius of the core region.  This is the area inside the lattice formed by skipping layers.\n",
    "- r_fiber: The radius of the fiber as a whole.  More generally this can be any radius after which refractive profile is homogeneous.\n",
    "- scale: factor by which to scale the fiber parameters to make a non-dimensional geometry.  Frequently chosen to make the core region unit radius.\n",
    "- n_tube, n_clad: the refractive indices of the tube and cladding material respectively.\n",
    "- n_core, n_buffer, n_outer: the refractive index present in the respective regions.  We will often have n_core the same as n_clad as it is frequently a subregion of the cladding.  The index n_outer must be the same as n_buffer as these appear in the homogeous region.\n",
    "- n0 : Base refractive index used in the refractive index function V.  Must be same as n_outer and n_buffer.\n",
    "\n",
    "Mesh Parameters:\n",
    "- t_buffer, t_outer: desired thickness of the buffer and PML regions respectively.\n",
    "- alpha: PML parameter.\n",
    "- pml_, air_, tube_, clad_, core_ maxh: maximum element diameter for mesh on respective regions."
   ]
  },
  {
   "cell_type": "markdown",
   "id": "406011a9",
   "metadata": {},
   "source": [
    "If you wish to create a different fiber, copy the file and alter parameters to your liking and rename it.  Note that the name 'lyr7cr1' indicates the fiber has seven layers of tubes and a core of one missing layer of tubes.  The file containing the parameters for (b) is called 'lyr6cr2' conforming to this."
   ]
  },
  {
   "cell_type": "markdown",
   "id": "983fb2e0",
   "metadata": {},
   "source": [
    "## Creating a PBG fiber instance\n",
    "\n",
    "We can instantiate a PBG class object by loading the class and a parameter dictionary like the one described above, and passing the dictionary to the class:"
   ]
  },
  {
   "cell_type": "code",
   "execution_count": null,
   "id": "7128329e",
   "metadata": {},
   "outputs": [],
   "source": [
    "from fiberamp.fiber.microstruct.pbg import PBG\n",
    "from fiberamp.fiber.microstruct.pbg.fiber_dicts.lyr7cr1 import params"
   ]
  },
  {
   "cell_type": "code",
   "execution_count": null,
   "id": "d5edf8bb",
   "metadata": {
    "scrolled": true
   },
   "outputs": [],
   "source": [
    "A = PBG(params)"
   ]
  },
  {
   "cell_type": "markdown",
   "id": "f5faa4e3",
   "metadata": {},
   "source": [
    "In the process of create the fiber, we have set several new attributes.  These are:\n",
    "   - R_fiber:\n",
    "        Non-Dimensional radius after which refractive index function is\n",
    "        constant.\n",
    "        \n",
    "   - R, Rout:\n",
    "        Non-Dimensional radii indicating the beginning and end of the PML\n",
    "        region.\n",
    "        \n",
    "   - wavelength, k:\n",
    "        Wavelength and wavenumber of light for which we seek modes. Setting\n",
    "        wavelength automatically sets k and V (see below).\n",
    "        \n",
    "   - geo, mesh:\n",
    "        Geometry and mesh of fiber.\n",
    "   \n",
    "   - refractive_index_dict:\n",
    "        Dictionary giving refractive index of fiber materials.\n",
    "        \n",
    "   - N: \n",
    "        The refractive index function of the fiber. Often referred to as 'n'\n",
    "        in the literature. By default this is a piecewise constant function\n",
    "        equal to the refractive index of the material. Can be updated to any\n",
    "        desired coefficient function defined on the mesh materials.  To reset\n",
    "        to original values use self.reset_N method.  Note: updating N updates\n",
    "        V function.\n",
    "   - V:\n",
    "        Coefficient function based on refractive index function N, used in\n",
    "        differential equation to be solved. By definition:\n",
    "        \n",
    "                V = (k*scale)**2 * (n0**2 - N **2)\n",
    "        \n"
   ]
  },
  {
   "cell_type": "code",
   "execution_count": null,
   "id": "91164929",
   "metadata": {},
   "outputs": [],
   "source": [
    "A.__dict__"
   ]
  },
  {
   "cell_type": "markdown",
   "id": "95507228",
   "metadata": {},
   "source": [
    "Now we can visualize the mesh as follows:\n"
   ]
  },
  {
   "cell_type": "code",
   "execution_count": null,
   "id": "918dca44",
   "metadata": {},
   "outputs": [],
   "source": [
    "# import netgen.gui\n",
    "from ngsolve.webgui import Draw\n",
    "import ngsolve as ng"
   ]
  },
  {
   "cell_type": "code",
   "execution_count": null,
   "id": "f892d8c3",
   "metadata": {},
   "outputs": [],
   "source": [
    "Draw(A.mesh)"
   ]
  },
  {
   "cell_type": "markdown",
   "id": "e9b9b22c",
   "metadata": {},
   "source": [
    "The fiber shown in (b) is created similarly:"
   ]
  },
  {
   "cell_type": "code",
   "execution_count": null,
   "id": "d5c3755a",
   "metadata": {},
   "outputs": [],
   "source": [
    "from fiberamp.fiber.microstruct.pbg.fiber_dicts.lyr6cr2 import params"
   ]
  },
  {
   "cell_type": "code",
   "execution_count": null,
   "id": "505e43e9",
   "metadata": {},
   "outputs": [],
   "source": [
    "B = PBG(params)"
   ]
  },
  {
   "cell_type": "code",
   "execution_count": null,
   "id": "7b967600",
   "metadata": {
    "scrolled": true
   },
   "outputs": [],
   "source": [
    "Draw(B.mesh)"
   ]
  },
  {
   "cell_type": "markdown",
   "id": "16bf2178",
   "metadata": {},
   "source": [
    "# Refractive index functions\n",
    "\n",
    "We have the ability to display and reset the refractive index function N.  By default it is the piecewise constant function that takes on the value of the refractive index of the material:"
   ]
  },
  {
   "cell_type": "code",
   "execution_count": null,
   "id": "de6050d1",
   "metadata": {},
   "outputs": [],
   "source": [
    "Draw(B.N, B.mesh, 'N0')\n",
    "B.n_tube, B.n_clad"
   ]
  },
  {
   "cell_type": "markdown",
   "id": "09b2c69d",
   "metadata": {},
   "source": [
    "The function V is determined directly from N:"
   ]
  },
  {
   "cell_type": "code",
   "execution_count": null,
   "id": "5d83957c",
   "metadata": {},
   "outputs": [],
   "source": [
    "Draw(B.V, B.mesh, 'V0')\n"
   ]
  },
  {
   "cell_type": "markdown",
   "id": "b8aa45af",
   "metadata": {},
   "source": [
    "If we needed to include a heating term in this, say with exponential form, we could add that term to N directly:"
   ]
  },
  {
   "cell_type": "code",
   "execution_count": null,
   "id": "628a9ab4",
   "metadata": {},
   "outputs": [],
   "source": [
    "T = ng.exp(-(ng.x**2/30 + ng.y**2/30))\n",
    "dndT = .15\n",
    "\n",
    "B.N = B.N + dndT * T"
   ]
  },
  {
   "cell_type": "code",
   "execution_count": null,
   "id": "b7fd5115",
   "metadata": {},
   "outputs": [],
   "source": [
    "Draw(B.N, B.mesh, 'N_T')"
   ]
  },
  {
   "cell_type": "markdown",
   "id": "e78eabde",
   "metadata": {},
   "source": [
    "The V function used in the differential equation is updated automatically:"
   ]
  },
  {
   "cell_type": "code",
   "execution_count": null,
   "id": "c529a9b6",
   "metadata": {
    "scrolled": true
   },
   "outputs": [],
   "source": [
    "Draw(B.V, B.mesh, 'V_T')"
   ]
  },
  {
   "cell_type": "markdown",
   "id": "eef23f19",
   "metadata": {},
   "source": [
    "If you need to go back to the original profile for N, use reset_N:"
   ]
  },
  {
   "cell_type": "code",
   "execution_count": null,
   "id": "8467d013",
   "metadata": {},
   "outputs": [],
   "source": [
    "B.reset_N()\n",
    "Draw(B.N, B.mesh, 'N_1')"
   ]
  },
  {
   "cell_type": "markdown",
   "id": "510547b5",
   "metadata": {},
   "source": [
    "## Mode finding\n",
    "\n",
    "Since the PBG class is derived from ModeSolver, we can use the facilites there to look for modes of the fiber.  Doing so would look like the following:"
   ]
  },
  {
   "cell_type": "code",
   "execution_count": null,
   "id": "38aa2348",
   "metadata": {},
   "outputs": [],
   "source": [
    "z2, y2, yl2, beta2, P2, _ = B.leakymode(2, ctr= 1.242933 - 2.471929e-09j, rad=.01, npts=4, nspan=2)\n"
   ]
  },
  {
   "cell_type": "markdown",
   "id": "571f99d8",
   "metadata": {},
   "source": [
    "###  We can visualize the results (zoom in):"
   ]
  },
  {
   "cell_type": "code",
   "execution_count": null,
   "id": "d6571380",
   "metadata": {},
   "outputs": [],
   "source": [
    "Draw(y2.gridfun())"
   ]
  },
  {
   "cell_type": "markdown",
   "id": "f87ead78",
   "metadata": {},
   "source": [
    "## Other geometries\n",
    "\n",
    "The PBG class can easily construct more complex geometries such as the one shown below:"
   ]
  },
  {
   "cell_type": "code",
   "execution_count": null,
   "id": "5240dddc",
   "metadata": {},
   "outputs": [],
   "source": [
    "from IPython.display import Image\n",
    "Image(filename='pattern_fiber.png') "
   ]
  },
  {
   "cell_type": "markdown",
   "id": "cfc12217",
   "metadata": {},
   "source": [
    "This fiber is encoded in a similar way to (b), but the pattern seen is created by passing a list that determines which tubes are removed.  Here we describe how to create that list.  \n",
    "\n",
    "First, we setup some rules for navigation.  We assume the origin is at the center of the fiber and orthogonal x and y axes are centered at that origin with x pointing due east, (hence falling along one vertex of the underlying hexagon).  We then say that the layers are indexed starting at 0 with a single tube at the origin, followed by a layer (at distance $\\Lambda$) at index 1 consisting of a hexagon of six tubes, followed by a layer at index 2 of 12 tubes, etc.  We order the tubes in a given layer counter-clockwise starting with the tube at the vertex intersecting the x-axis.  \n",
    "\n",
    "Note that in the above geometry we have the same number of layers and core size as in geometery (b) namely 6 layers of tubes and 2 layers skipped to make the core.  The first two layers of tubes are complete, but the remaining layers have some missing.  To encode the first two layers, we set-up a list like this:\n"
   ]
  },
  {
   "cell_type": "code",
   "execution_count": null,
   "id": "527bbe93",
   "metadata": {},
   "outputs": [],
   "source": [
    "pattern = [[1,1,1,1,1,1,1,1,1,1,1,1],\n",
    "           [1,1,1,1,1,1,1,1,1,1,1,1,1,1,1,1,1,1]]"
   ]
  },
  {
   "cell_type": "markdown",
   "id": "01d01ff8",
   "metadata": {},
   "source": [
    "The list has as first entry a list consisting of 12 ones, one for each of the tubes in the first (non-core) layer of tubes that is present.  The second entry is a list of 18 ones, a one for each tube that appears in the second (non-core) layer of tubes.  So far, only 1's have appeared since no tube has been missing.\n",
    "\n",
    "For the next layer we begin at the tube intersecting the x axis and go counter-clockwise.  The first tube appears, so that gives a 1, as does the second, another 1, while the third is missing, so we put a 0.  It then continues with three 1's, then a 0, then three more 1's, etc.  Thus we append the following:"
   ]
  },
  {
   "cell_type": "code",
   "execution_count": null,
   "id": "05c27b9f",
   "metadata": {},
   "outputs": [],
   "source": [
    "l3 = [1,1,0,1,\n",
    "      1,1,0,1,\n",
    "      1,1,0,1,\n",
    "      1,1,0,1,\n",
    "      1,1,0,1,\n",
    "      1,1,0,1]\n",
    "pattern.append(l3)\n",
    "pattern"
   ]
  },
  {
   "cell_type": "markdown",
   "id": "e0b8fbb0",
   "metadata": {},
   "source": [
    "We continue in this way for the remaining three layers:"
   ]
  },
  {
   "cell_type": "code",
   "execution_count": null,
   "id": "9d4f66f8",
   "metadata": {},
   "outputs": [],
   "source": [
    "l4 = [1,0,1,1,0,\n",
    "      1,0,1,1,0,\n",
    "      1,0,1,1,0,\n",
    "      1,0,1,1,0,\n",
    "      1,0,1,1,0,\n",
    "      1,0,1,1,0]\n",
    "\n",
    "l5 = [0,1,1,0,1,1,\n",
    "      0,1,1,0,1,1,\n",
    "      0,1,1,0,1,1,\n",
    "      0,1,1,0,1,1,\n",
    "      0,1,1,0,1,1,\n",
    "      0,1,1,0,1,1]\n",
    "\n",
    "l6 = [1,1,0,1,1,0,1,\n",
    "      1,1,0,1,1,0,1,\n",
    "      1,1,0,1,1,0,1,\n",
    "      1,1,0,1,1,0,1,\n",
    "      1,1,0,1,1,0,1,\n",
    "      1,1,0,1,1,0,1]\n",
    "pattern.append(l4)\n",
    "pattern.append(l5)\n",
    "pattern.append(l6)"
   ]
  },
  {
   "cell_type": "markdown",
   "id": "8c646411",
   "metadata": {},
   "source": [
    "Since everything about this fiber is the same as (b) in the first case, we can use the parameters from (b) but change the \"pattern\" attribute from the empty list to our new list:"
   ]
  },
  {
   "cell_type": "code",
   "execution_count": null,
   "id": "83224ad6",
   "metadata": {},
   "outputs": [],
   "source": [
    "params['pattern'] = pattern"
   ]
  },
  {
   "cell_type": "code",
   "execution_count": null,
   "id": "d2b51fff",
   "metadata": {},
   "outputs": [],
   "source": [
    "C = PBG(params)"
   ]
  },
  {
   "cell_type": "code",
   "execution_count": null,
   "id": "5b56fab6",
   "metadata": {},
   "outputs": [],
   "source": [
    "Draw(C.mesh)"
   ]
  },
  {
   "cell_type": "markdown",
   "id": "505134ba",
   "metadata": {},
   "source": [
    "# References\n",
    "\n",
    "1) Murao, Tadashi & Saitoh, Kunimasa & Koshiba, Masanori. (2011). Multiple resonant coupling mechanism for suppression of higher-order modes in all-solid photonic bandgap fibers with heterostructured cladding. Optics express. 19. 1713-27. 10.1364/OE.19.001713. "
   ]
  }
 ],
 "metadata": {
  "kernelspec": {
   "display_name": "Python 3",
   "language": "python",
   "name": "python3"
  },
  "language_info": {
   "codemirror_mode": {
    "name": "ipython",
    "version": 3
   },
   "file_extension": ".py",
   "mimetype": "text/x-python",
   "name": "python",
   "nbconvert_exporter": "python",
   "pygments_lexer": "ipython3",
   "version": "3.8.5"
  }
 },
 "nbformat": 4,
 "nbformat_minor": 5
}
