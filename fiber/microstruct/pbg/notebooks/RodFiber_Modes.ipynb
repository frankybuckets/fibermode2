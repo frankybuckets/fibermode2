{
 "cells": [
  {
   "cell_type": "markdown",
   "id": "5481d90e",
   "metadata": {},
   "source": [
    "# Rod Fiber Mode Notebook\n",
    "\n",
    "This notebook is used to find and view modes for the PBG fiber from : Litchinitser et al., “Resonances in Microstructured Optical Waveguides.\"  We expect this fiber to have ripples in the high index region."
   ]
  },
  {
   "cell_type": "code",
   "execution_count": 1,
   "id": "c3158f26",
   "metadata": {},
   "outputs": [],
   "source": [
    "import ngsolve as ng\n",
    "from ngsolve.webgui import Draw\n",
    "\n",
    "from fiberamp.fiber.microstruct.pbg import PBG, load_pbg_mode\n",
    "from fiberamp.fiber.microstruct.pbg.fiber_dicts.rod import params"
   ]
  },
  {
   "cell_type": "code",
   "execution_count": 2,
   "id": "0414ce7b",
   "metadata": {},
   "outputs": [
    {
     "data": {
      "text/plain": [
       "0.0380952380952381"
      ]
     },
     "execution_count": 2,
     "metadata": {},
     "output_type": "execute_result"
    }
   ],
   "source": [
    "params['tube_maxh']"
   ]
  },
  {
   "cell_type": "code",
   "execution_count": 3,
   "id": "7eb8a119",
   "metadata": {
    "scrolled": true
   },
   "outputs": [
    {
     "name": "stdout",
     "output_type": "stream",
     "text": [
      "no buffer no polymer\n",
      "Generating mesh.\n",
      "Mesh created.\n",
      "ModeSolver: Checking if mesh has required regions\n",
      "Mesh has  14982  elements,  7510  points,  and  22491  edges.\n"
     ]
    }
   ],
   "source": [
    "A = PBG(params)\n"
   ]
  },
  {
   "cell_type": "code",
   "execution_count": 4,
   "id": "9c58d10d",
   "metadata": {},
   "outputs": [
    {
     "data": {
      "application/vnd.jupyter.widget-view+json": {
       "model_id": "",
       "version_major": 2,
       "version_minor": 0
      },
      "text/plain": [
       "WebGuiWidget(layout=Layout(height='50vh', width='100%'), value={'gui_settings': {}, 'ngsolve_version': '6.2.23…"
      ]
     },
     "metadata": {},
     "output_type": "display_data"
    },
    {
     "data": {
      "text/plain": [
       "BaseWebGuiScene"
      ]
     },
     "execution_count": 4,
     "metadata": {},
     "output_type": "execute_result"
    }
   ],
   "source": [
    "Draw(A.index, A.mesh)\n"
   ]
  },
  {
   "cell_type": "markdown",
   "id": "b56f6863",
   "metadata": {},
   "source": [
    "# Scalar Modes"
   ]
  },
  {
   "cell_type": "markdown",
   "id": "d4e2a1e8",
   "metadata": {},
   "source": [
    "### Small radius search "
   ]
  },
  {
   "cell_type": "code",
   "execution_count": 5,
   "id": "47d8c1ba",
   "metadata": {},
   "outputs": [
    {
     "name": "stdout",
     "output_type": "stream",
     "text": [
      "ModeSolver.leakymode called on object with these settings:\n",
      " <fiberamp.fiber.microstruct.pbg.PBG.PBG object at 0x7f95f6f8c9a0>\n",
      "Set freq-dependent PML with p= 3  alpha= 5 and thickness=2.000\n",
      "\n",
      "SpectralProj: Setting shifted trapezoidal rule quadrature on circular contour\n",
      "SpectralProj: Radius=0.01, Center=1.73806-0.0138882j\n",
      "SpectralProjNGPoly: Checking if A[d] is nonzero & Hermitian.\n",
      "SpectralProjNG: Checking if inverse.H works for umfpack\n",
      "SpectralProjNGPoly: Computing resolvents along the contour using\n",
      "                    inverse type umfpack (installed default umfpack)\n",
      "SpectralProjNGPoly: Factorizing 67474x67474 system at z =  +1.745 -0.007j\n",
      "SpectralProjNGPoly: Factorizing 67474x67474 system at z =  +1.731 -0.007j\n",
      "SpectralProjNGPoly: Factorizing 67474x67474 system at z =  +1.731 -0.021j\n",
      "SpectralProjNGPoly: Factorizing 67474x67474 system at z =  +1.745 -0.021j\n",
      "\n",
      "=========== Starting FEAST iterations ===========\n",
      "Trying with 2 vectors:\n",
      "\n",
      " ITERATION 1 with 2 vectors and 2 left vectors\n",
      "   During kernel cleaning abs(g):\n",
      "   [4.3e+02 8.3e-14]\n",
      "   Real part of computed eigenvalues:\n",
      "   [0.35929833 1.7302186 ]\n",
      "   Imag part of computed eigenvalues:\n",
      "   [-0.1177358  -0.02088062]\n",
      "   Relative Hausdorff distance from prior iterate: 5.720e+99\n",
      "\n",
      " ITERATION 2 with 2 vectors and 2 left vectors\n",
      "   During kernel cleaning abs(g):\n",
      "   [0. 0.]\n",
      "   Real part of computed eigenvalues:\n",
      "   [1.27506386 1.73806037]\n",
      "   Imag part of computed eigenvalues:\n",
      "   [ 0.04930865 -0.01388821]\n",
      "   Relative Hausdorff distance from prior iterate: 5.325e-01\n",
      "\n",
      " ITERATION 3 with 2 vectors and 2 left vectors\n",
      "   During kernel cleaning abs(g):\n",
      "   [3.9e+02 1.1e-12]\n",
      "   Real part of computed eigenvalues:\n",
      "   [1.06807303 1.73806037]\n",
      "   Imag part of computed eigenvalues:\n",
      "   [-0.00868969 -0.01388821]\n",
      "   Relative Hausdorff distance from prior iterate: 1.230e-01\n",
      "\n",
      "   Removing ew#[1] not enclosed by contour\n",
      " ITERATION 4 with 1 vectors and 1 left vectors\n",
      "   During kernel cleaning abs(g):\n",
      "   [0.]\n",
      "   Real part of computed eigenvalues:\n",
      "   [1.73806037]\n",
      "   Imag part of computed eigenvalues:\n",
      "   [-0.01388821]\n",
      "   Relative Hausdorff distance from prior iterate: 1.287e-15\n",
      "\n",
      "\n",
      "***FEAST converged with:\n",
      "\tRelative Hausdorff distance = 1.287e-15\n",
      "\n",
      "============= FEAST iterations done =============\n",
      "   Normalizing by M-norms: max=1.0e+01, min=1.0e+01\n",
      "   Normalizing by M-norms: max=9.2e+02, min=9.2e+02\n",
      "Results:\n",
      " Z: [1.73806037-0.01388821j]\n",
      " beta: [10950484.58013961+264.38326655j]\n",
      " CL dB/m: [2296.40387545]\n",
      "Mode boundary L² norm = 1.8e-06\n",
      "*** Mode boundary L2 norm > 1e-6!\n",
      "PML decay estimates boundary norm ~ 1.1e-03\n"
     ]
    }
   ],
   "source": [
    "center = 1.73806037-0.01388821j   # fundamental mode!\n",
    "radius = .01\n",
    "p = 3\n",
    "\n",
    "z2, y2, yl2, beta2, P2, _ = A.leakymode(p, rad=radius, ctr=center, alpha=A.alpha,\n",
    "                                   niterations=5, npts=4, nspan=2, nrestarts=0)"
   ]
  },
  {
   "cell_type": "code",
   "execution_count": 6,
   "id": "23531215",
   "metadata": {
    "scrolled": false
   },
   "outputs": [
    {
     "data": {
      "application/vnd.jupyter.widget-view+json": {
       "model_id": "",
       "version_major": 2,
       "version_minor": 0
      },
      "text/plain": [
       "WebGuiWidget(layout=Layout(height='50vh', width='100%'), value={'gui_settings': {}, 'ngsolve_version': '6.2.23…"
      ]
     },
     "metadata": {},
     "output_type": "display_data"
    }
   ],
   "source": [
    "C=1e2\n",
    "for f in y2:\n",
    "    Draw(C*f, A.mesh)\n"
   ]
  },
  {
   "cell_type": "code",
   "execution_count": 7,
   "id": "0cfcbd9e",
   "metadata": {},
   "outputs": [
    {
     "name": "stdout",
     "output_type": "stream",
     "text": [
      "ModeSolver.leakymode called on object with these settings:\n",
      " <fiberamp.fiber.microstruct.pbg.PBG.PBG object at 0x7f95f6f8c9a0>\n",
      "Set freq-dependent PML with p= 3  alpha= 5 and thickness=2.000\n",
      "\n",
      "SpectralProj: Setting shifted trapezoidal rule quadrature on circular contour\n",
      "SpectralProj: Radius=0.01, Center=2.71099-0.0240913j\n",
      "SpectralProjNGPoly: Checking if A[d] is nonzero & Hermitian.\n",
      "SpectralProjNG: Checking if inverse.H works for umfpack\n",
      "SpectralProjNGPoly: Computing resolvents along the contour using\n",
      "                    inverse type umfpack (installed default umfpack)\n",
      "SpectralProjNGPoly: Factorizing 67474x67474 system at z =  +2.718 -0.017j\n",
      "SpectralProjNGPoly: Factorizing 67474x67474 system at z =  +2.704 -0.017j\n",
      "SpectralProjNGPoly: Factorizing 67474x67474 system at z =  +2.704 -0.031j\n",
      "SpectralProjNGPoly: Factorizing 67474x67474 system at z =  +2.718 -0.031j\n",
      "\n",
      "=========== Starting FEAST iterations ===========\n",
      "Trying with 2 vectors:\n",
      "\n",
      " ITERATION 1 with 2 vectors and 2 left vectors\n",
      "   During kernel cleaning abs(g):\n",
      "   [0.1 0.2]\n",
      "   Real part of computed eigenvalues:\n",
      "   [2.70884955 2.70885105]\n",
      "   Imag part of computed eigenvalues:\n",
      "   [-0.02352976 -0.02353067]\n",
      "   Relative Hausdorff distance from prior iterate: 3.675e+99\n",
      "\n",
      " ITERATION 2 with 2 vectors and 2 left vectors\n",
      "   During kernel cleaning abs(g):\n",
      "   [3.7 3.3]\n",
      "   Real part of computed eigenvalues:\n",
      "   [2.70884955 2.70885105]\n",
      "   Imag part of computed eigenvalues:\n",
      "   [-0.02352976 -0.02353067]\n",
      "   Relative Hausdorff distance from prior iterate: 1.484e-13\n",
      "\n",
      "\n",
      "***FEAST converged with:\n",
      "\tRelative Hausdorff distance = 1.484e-13\n",
      "\n",
      "============= FEAST iterations done =============\n",
      "   Normalizing by M-norms: max=1.8e-01, min=1.5e-01\n",
      "   Normalizing by M-norms: max=2.1e+01, min=2.0e+01\n",
      "Results:\n",
      " Z: [2.70884955-0.02352976j 2.70885105-0.02353067j]\n",
      " beta: [10926819.45397546+699.62392237j 10926819.40966427+699.65147688j]\n",
      " CL dB/m: [6076.85617788 6077.09551327]\n",
      "Mode boundary L² norm = 3.2e-06\n",
      "*** Mode boundary L2 norm > 1e-6!\n",
      "PML decay estimates boundary norm ~ 8.8e-04\n"
     ]
    }
   ],
   "source": [
    "center = 2.71099165-0.0240913j  # Higher order mode\n",
    "radius = .01\n",
    "p = 3\n",
    "\n",
    "z2, y2, yl2, beta2, P2, _ = A.leakymode(p, rad=radius, ctr=center, alpha=A.alpha,\n",
    "                                   niterations=5, npts=4, nspan=2, nrestarts=0)"
   ]
  },
  {
   "cell_type": "code",
   "execution_count": null,
   "id": "3eebf2c8",
   "metadata": {
    "scrolled": true
   },
   "outputs": [],
   "source": [
    "C=1e2\n",
    "for f in y2:\n",
    "    Draw(C*f, A.mesh)"
   ]
  },
  {
   "cell_type": "code",
   "execution_count": null,
   "id": "5f458f93",
   "metadata": {},
   "outputs": [],
   "source": [
    "center = 1.24381527-0.00585777j   # Modes in rods\n",
    "radius = .01\n",
    "p = 2\n",
    "\n",
    "z, y, yl, beta, P, _ = A.leakymode(p, rad=radius, ctr=center,\n",
    "                                   alpha=5, stop_tol=1e-8,\n",
    "                                   quadrule='ellipse_trapez_shift',\n",
    "                                   rhoinv=.9, \n",
    "                                   niterations=8, npts=4,\n",
    "                                   nspan=4, nrestarts=0)\n"
   ]
  },
  {
   "cell_type": "code",
   "execution_count": null,
   "id": "c8d20944",
   "metadata": {
    "scrolled": false
   },
   "outputs": [],
   "source": [
    "C=1e0\n",
    "for f in y:\n",
    "    Draw(C*f.Norm(), A.mesh)"
   ]
  },
  {
   "cell_type": "markdown",
   "id": "bb969c20",
   "metadata": {},
   "source": [
    "# Vector Modes"
   ]
  },
  {
   "cell_type": "code",
   "execution_count": 8,
   "id": "707114a7",
   "metadata": {},
   "outputs": [
    {
     "name": "stdout",
     "output_type": "stream",
     "text": [
      "Set NGSolve automatic PML with p= 1  alpha= 5 and thickness=2.000\n",
      "Using FEAST to search for vector leaky modes in\n",
      "circle of radius 0.1 centered at  (3.0206609673875326-0.0482770948224754j)\n",
      "assuming not more than 2 modes in this interval\n",
      "System size: 74946  x  74946   Inverse type: umfpack\n",
      "\n",
      "SpectralProj: Setting shifted trapezoidal rule quadrature on circular contour\n",
      "SpectralProj: Radius=0.1, Center=3.02066-0.0482771j\n",
      "SpectralProjNGR:   Making resolvent at z =  +3.021 +0.052j\n",
      "SpectralProjNGR:   Making resolvent at z =  +3.021 -0.148j\n",
      "\n",
      "=========== Starting FEAST iterations ===========\n",
      "Trying with 2 vectors:\n",
      "\n",
      " ITERATION 1 with 2 vectors and 2 left vectors\n",
      "   During kernel cleaning abs(g):\n",
      "   [0.  0.3]\n",
      "   Real part of computed eigenvalues:\n",
      "   [3.13929307 3.14191214]\n",
      "   Imag part of computed eigenvalues:\n",
      "   [-0.08595376 -0.10152827]\n",
      "   Relative Hausdorff distance from prior iterate: 3.204e+99\n",
      "\n",
      " ITERATION 2 with 2 vectors and 2 left vectors\n",
      "   During kernel cleaning abs(g):\n",
      "   [1.9 0.3]\n",
      "   Real part of computed eigenvalues:\n",
      "   [3.13943124 3.13943526]\n",
      "   Imag part of computed eigenvalues:\n",
      "   [-0.0858146  -0.08614368]\n",
      "   Relative Hausdorff distance from prior iterate: 4.993e-03\n",
      "\n",
      " ITERATION 3 with 2 vectors and 2 left vectors\n",
      "   During kernel cleaning abs(g):\n",
      "   [0.4 0. ]\n",
      "   Real part of computed eigenvalues:\n",
      "   [3.13943163 3.13943686]\n",
      "   Imag part of computed eigenvalues:\n",
      "   [-0.08581431 -0.08614476]\n",
      "   Relative Hausdorff distance from prior iterate: 6.186e-07\n",
      "\n",
      " ITERATION 4 with 2 vectors and 2 left vectors\n",
      "   During kernel cleaning abs(g):\n",
      "   [0.2 0. ]\n",
      "   Real part of computed eigenvalues:\n",
      "   [3.13943163 3.13943686]\n",
      "   Imag part of computed eigenvalues:\n",
      "   [-0.08581431 -0.08614476]\n",
      "   Relative Hausdorff distance from prior iterate: 5.306e-10\n",
      "\n",
      "\n",
      "***FEAST converged with:\n",
      "\tRelative Hausdorff distance = 5.306e-10\n",
      "\n",
      "============= FEAST iterations done =============\n",
      "Results:\n",
      " Z²: [3.13943163-0.08581431j 3.13943686-0.08614476j]\n",
      " beta: [10949834.13582571+469.97870972j 10949834.10725868+471.788514j  ]\n",
      " CL dB/m: [4082.18320489 4097.90296514]\n"
     ]
    }
   ],
   "source": [
    "center = (1.73806037-0.01388821j)**2\n",
    "radius = .1\n",
    "p = 1\n",
    "\n",
    "betas, Zsqrs, Es, phis, _ = A.leakyvecmodes(p=p, rad=radius, ctr=center, alpha=A.alpha,\n",
    "                                   niterations=5, npts=2, nspan=2, nrestarts=0)"
   ]
  },
  {
   "cell_type": "code",
   "execution_count": 9,
   "id": "511f4123",
   "metadata": {},
   "outputs": [
    {
     "data": {
      "application/vnd.jupyter.widget-view+json": {
       "model_id": "5c80630be367406bb9aa283ed6cbfe32",
       "version_major": 2,
       "version_minor": 0
      },
      "text/plain": [
       "WebGuiWidget(layout=Layout(height='50vh', width='100%'), value={'gui_settings': {}, 'ngsolve_version': '6.2.23…"
      ]
     },
     "metadata": {},
     "output_type": "display_data"
    },
    {
     "data": {
      "application/vnd.jupyter.widget-view+json": {
       "model_id": "a49e2618b5cb482191632392f2091442",
       "version_major": 2,
       "version_minor": 0
      },
      "text/plain": [
       "WebGuiWidget(layout=Layout(height='50vh', width='100%'), value={'gui_settings': {}, 'ngsolve_version': '6.2.23…"
      ]
     },
     "metadata": {},
     "output_type": "display_data"
    }
   ],
   "source": [
    "C=1e0\n",
    "for e in Es:\n",
    "    Draw(C*e.real, A.mesh, vectors={'grid_size':500})"
   ]
  },
  {
   "cell_type": "code",
   "execution_count": null,
   "id": "782b18c8",
   "metadata": {},
   "outputs": [],
   "source": [
    "C=1e0\n",
    "for phi in phis:\n",
    "    Draw(C*phi, A.mesh)"
   ]
  },
  {
   "cell_type": "code",
   "execution_count": null,
   "id": "1b2dcd69",
   "metadata": {},
   "outputs": [],
   "source": [
    "center = 7.49443801-0.20447834j\n",
    "radius = .01\n",
    "p = 1\n",
    "\n",
    "betas, Zsqrs, Es, phis, _ = A.leakyvecmodes(p=p, rad=radius, ctr=center, alpha=A.alpha,\n",
    "                                   niterations=5, npts=4, nspan=2, nrestarts=0)"
   ]
  },
  {
   "cell_type": "code",
   "execution_count": null,
   "id": "d063d487",
   "metadata": {},
   "outputs": [],
   "source": [
    "C=1e2\n",
    "for e in Es:\n",
    "    Draw(C*e.real, A.mesh, vectors={'grid_size':500})"
   ]
  },
  {
   "cell_type": "code",
   "execution_count": null,
   "id": "073cf587",
   "metadata": {},
   "outputs": [],
   "source": [
    "C=1e1\n",
    "for phi in phis:\n",
    "    Draw(C*phi, A.mesh)"
   ]
  },
  {
   "cell_type": "code",
   "execution_count": null,
   "id": "8b2594b3",
   "metadata": {},
   "outputs": [],
   "source": []
  }
 ],
 "metadata": {
  "kernelspec": {
   "display_name": "Python 3 (ipykernel)",
   "language": "python",
   "name": "python3"
  },
  "language_info": {
   "codemirror_mode": {
    "name": "ipython",
    "version": 3
   },
   "file_extension": ".py",
   "mimetype": "text/x-python",
   "name": "python",
   "nbconvert_exporter": "python",
   "pygments_lexer": "ipython3",
   "version": "3.10.6"
  }
 },
 "nbformat": 4,
 "nbformat_minor": 5
}
