{
 "cells": [
  {
   "cell_type": "markdown",
   "id": "5481d90e",
   "metadata": {},
   "source": [
    "# Rod Fiber Mode Notebook\n",
    "\n",
    "This notebook is used to find and view modes for the PBG fiber from : Litchinitser et al., “Resonances in Microstructured Optical Waveguides.\"  We expect this fiber to have ripples in the high index region."
   ]
  },
  {
   "cell_type": "code",
   "execution_count": 1,
   "id": "c3158f26",
   "metadata": {},
   "outputs": [],
   "source": [
    "import ngsolve as ng\n",
    "from ngsolve.webgui import Draw\n",
    "\n",
    "from fiberamp.fiber.microstruct.pbg import PBG, load_pbg_mode\n",
    "from fiberamp.fiber.microstruct.pbg.fiber_dicts.rod import params"
   ]
  },
  {
   "cell_type": "code",
   "execution_count": 2,
   "id": "7eb8a119",
   "metadata": {},
   "outputs": [
    {
     "name": "stdout",
     "output_type": "stream",
     "text": [
      "no buffer no polymer\n",
      "Generating mesh.\n",
      "Mesh created.\n",
      "ModeSolver: Checking if mesh has required regions\n",
      "Mesh has  14982  elements,  7510  points,  and  22491  edges.\n"
     ]
    }
   ],
   "source": [
    "A = PBG(params)\n"
   ]
  },
  {
   "cell_type": "code",
   "execution_count": 3,
   "id": "9c58d10d",
   "metadata": {},
   "outputs": [
    {
     "data": {
      "application/vnd.jupyter.widget-view+json": {
       "model_id": "73ca4cabe20f42a29680278f5fbc1271",
       "version_major": 2,
       "version_minor": 0
      },
      "text/plain": [
       "WebGuiWidget(layout=Layout(height='50vh', width='100%'), value={'gui_settings': {}, 'ngsolve_version': '6.2.23…"
      ]
     },
     "metadata": {},
     "output_type": "display_data"
    },
    {
     "data": {
      "text/plain": [
       "BaseWebGuiScene"
      ]
     },
     "execution_count": 3,
     "metadata": {},
     "output_type": "execute_result"
    }
   ],
   "source": [
    "Draw(A.index, A.mesh)\n"
   ]
  },
  {
   "cell_type": "markdown",
   "id": "b56f6863",
   "metadata": {},
   "source": [
    "# Scalar Modes"
   ]
  },
  {
   "cell_type": "code",
   "execution_count": 4,
   "id": "5f089991",
   "metadata": {},
   "outputs": [
    {
     "name": "stdout",
     "output_type": "stream",
     "text": [
      "ModeSolver.leakymode called on object with these settings:\n",
      " <fiberamp.fiber.microstruct.pbg.PBG.PBG object at 0x12b5f6810>\n",
      "Set freq-dependent PML with p= 3  alpha= 5 and thickness=2.000\n",
      "\n",
      "SpectralProj: Setting shifted trapezoidal rule on elliptical contour\n",
      "SpectralProjNGPoly: Checking if A[d] is nonzero & Hermitian.\n",
      "SpectralProjNG: Checking if inverse.H works for umfpack\n",
      "SpectralProjNGPoly: Computing resolvents along the contour using\n",
      "                    inverse type umfpack (installed default umfpack)\n",
      "SpectralProjNGPoly: Factorizing 67474x67474 system at z =  +1.251 -0.005j\n",
      "SpectralProjNGPoly: Factorizing 67474x67474 system at z =  +1.237 -0.005j\n",
      "SpectralProjNGPoly: Factorizing 67474x67474 system at z =  +1.237 -0.007j\n",
      "SpectralProjNGPoly: Factorizing 67474x67474 system at z =  +1.251 -0.007j\n",
      "\n",
      "=========== Starting FEAST iterations ===========\n",
      "Trying with 4 vectors:\n",
      "\n",
      " ITERATION 1 with 4 vectors and 4 left vectors\n",
      "   During kernel cleaning abs(g):\n",
      "   [9.7e-12 3.1e-12 1.0e-11 4.7e-12]\n",
      "   Real part of computed eigenvalues:\n",
      "   [1.11662646 1.11989125 1.1243175  1.12685235]\n",
      "   Imag part of computed eigenvalues:\n",
      "   [ 0.00048374 -0.00226773  0.00409367 -0.00115109]\n",
      "   Relative Hausdorff distance from prior iterate: 7.976e+99\n",
      "\n",
      " ITERATION 2 with 4 vectors and 4 left vectors\n",
      "   During kernel cleaning abs(g):\n",
      "   [0.5 0.4 0.3 0.2]\n",
      "   Real part of computed eigenvalues:\n",
      "   [1.11563306 1.12001493 1.12320162 1.12520218]\n",
      "   Imag part of computed eigenvalues:\n",
      "   [ 0.00234633  0.00136167 -0.00172963 -0.00127369]\n",
      "   Relative Hausdorff distance from prior iterate: 4.065e-03\n",
      "\n",
      " ITERATION 3 with 4 vectors and 4 left vectors\n",
      "   During kernel cleaning abs(g):\n",
      "   [7.8e-12 7.7e-12 9.2e-12 9.1e-12]\n",
      "   Real part of computed eigenvalues:\n",
      "   [1.11436342 1.12061582 1.1224829  1.12590297]\n",
      "   Imag part of computed eigenvalues:\n",
      "   [ 0.006279    0.00056191 -0.00136261 -0.00064207]\n",
      "   Relative Hausdorff distance from prior iterate: 3.296e-03\n",
      "\n",
      " ITERATION 4 with 4 vectors and 4 left vectors\n",
      "   During kernel cleaning abs(g):\n",
      "   [0.3 0.7 0.4 0.4]\n",
      "   Real part of computed eigenvalues:\n",
      "   [1.11924618 1.12135613 1.1220331  1.12610703]\n",
      "   Imag part of computed eigenvalues:\n",
      "   [ 0.01414699 -0.00137725 -0.00015027 -0.00018102]\n",
      "   Relative Hausdorff distance from prior iterate: 7.385e-03\n",
      "\n",
      " ITERATION 5 with 4 vectors and 4 left vectors\n",
      "   During kernel cleaning abs(g):\n",
      "   [2.0e-11 1.0e-11 1.1e-11 1.1e-11]\n",
      "   Real part of computed eigenvalues:\n",
      "   [1.12104921 1.12278671 1.1262303  1.12910867]\n",
      "   Imag part of computed eigenvalues:\n",
      "   [-0.00259597  0.00010011  0.00013739  0.00886216]\n",
      "   Relative Hausdorff distance from prior iterate: 8.924e-03\n",
      "\n",
      " ITERATION 6 with 4 vectors and 4 left vectors\n",
      "   During kernel cleaning abs(g):\n",
      "   [0.4 0.4 0.5 0.4]\n",
      "   Real part of computed eigenvalues:\n",
      "   [1.12144616 1.12318625 1.12638556 1.12818238]\n",
      "   Imag part of computed eigenvalues:\n",
      "   [-0.00379607  0.00013048  0.00041082  0.00317536]\n",
      "   Relative Hausdorff distance from prior iterate: 4.595e-03\n",
      "\n",
      " ITERATION 7 with 4 vectors and 4 left vectors\n",
      "   During kernel cleaning abs(g):\n",
      "   [1.4e-11 1.7e-11 1.5e-11 1.6e-11]\n",
      "   Real part of computed eigenvalues:\n",
      "   [1.12265712 1.12343531 1.126123   1.12699387]\n",
      "   Imag part of computed eigenvalues:\n",
      "   [-0.0047694   0.00010231  0.00140704  0.00039836]\n",
      "   Relative Hausdorff distance from prior iterate: 2.165e-03\n",
      "\n",
      " ITERATION 8 with 4 vectors and 4 left vectors\n",
      "   During kernel cleaning abs(g):\n",
      "   [0.4 0.3 0.3 0.4]\n",
      "   Real part of computed eigenvalues:\n",
      "   [1.12358528 1.12444153 1.12538233 1.12683899]\n",
      "   Imag part of computed eigenvalues:\n",
      "   [ 6.24211439e-05 -4.85766508e-03  1.06166667e-03  7.24377022e-07]\n",
      "   Relative Hausdorff distance from prior iterate: 1.425e-03\n",
      "\n",
      "\n",
      "***FEAST did not converge!\n",
      "\n",
      "============= FEAST iterations done =============\n",
      "*** Iterations did not converge\n",
      "   Normalizing by M-norms: max=3.1e+00, min=1.5e-06\n",
      "   Normalizing by M-norms: max=2.1e+03, min=1.2e+01\n",
      "Results:\n",
      " Z: [1.12444153-4.85766508e-03j 1.12358528+6.24211439e-05j\n",
      " 1.12538233+1.06166667e-03j 1.12683899+7.24377022e-07j]\n",
      " beta: [10960098.58976392+5.97731302e+01j 10960108.99258842-7.67500921e-01j\n",
      " 10960086.8853463 -1.30746567e+01j 10960068.92849142-8.93242256e-03j]\n",
      " CL dB/m: [ 5.19182812e+02 -6.66642830e+00 -1.13565025e+02 -7.75860366e-02]\n",
      "Mode boundary L² norm = 6.2e-03\n",
      "*** Mode boundary L2 norm > 1e-6!\n",
      "PML decay estimates boundary norm ~ 1.3e-03\n"
     ]
    }
   ],
   "source": [
    "center = 1.24381527-0.00585777j\n",
    "radius = .01\n",
    "p = 3\n",
    "\n",
    "z, y, yl, beta, P, _ = A.leakymode(p, rad=radius, ctr=center,\n",
    "                                   alpha=5, stop_tol=1e-8,\n",
    "                                   quadrule='ellipse_trapez_shift',\n",
    "                                   rhoinv=.9, \n",
    "                                   niterations=8, npts=4,\n",
    "                                   nspan=4, nrestarts=0)\n"
   ]
  },
  {
   "cell_type": "code",
   "execution_count": 5,
   "id": "5cab8894",
   "metadata": {},
   "outputs": [
    {
     "data": {
      "application/vnd.jupyter.widget-view+json": {
       "model_id": "2b6643c19a654594acda8b25e42bd0cc",
       "version_major": 2,
       "version_minor": 0
      },
      "text/plain": [
       "WebGuiWidget(layout=Layout(height='50vh', width='100%'), value={'gui_settings': {}, 'ngsolve_version': '6.2.23…"
      ]
     },
     "metadata": {},
     "output_type": "display_data"
    },
    {
     "data": {
      "application/vnd.jupyter.widget-view+json": {
       "model_id": "e19aa853ec7f4b6cac71946f692b8105",
       "version_major": 2,
       "version_minor": 0
      },
      "text/plain": [
       "WebGuiWidget(layout=Layout(height='50vh', width='100%'), value={'gui_settings': {}, 'ngsolve_version': '6.2.23…"
      ]
     },
     "metadata": {},
     "output_type": "display_data"
    },
    {
     "data": {
      "application/vnd.jupyter.widget-view+json": {
       "model_id": "a16317295b524ba4bc7ac9230c3ff123",
       "version_major": 2,
       "version_minor": 0
      },
      "text/plain": [
       "WebGuiWidget(layout=Layout(height='50vh', width='100%'), value={'gui_settings': {}, 'ngsolve_version': '6.2.23…"
      ]
     },
     "metadata": {},
     "output_type": "display_data"
    },
    {
     "data": {
      "application/vnd.jupyter.widget-view+json": {
       "model_id": "bd81b24b892043d095dc41c140ee373a",
       "version_major": 2,
       "version_minor": 0
      },
      "text/plain": [
       "WebGuiWidget(layout=Layout(height='50vh', width='100%'), value={'gui_settings': {}, 'ngsolve_version': '6.2.23…"
      ]
     },
     "metadata": {},
     "output_type": "display_data"
    }
   ],
   "source": [
    "C=1e0\n",
    "for f in y:\n",
    "    Draw(C*f.Norm(), A.mesh)"
   ]
  },
  {
   "cell_type": "markdown",
   "id": "d4e2a1e8",
   "metadata": {},
   "source": [
    "### Small radius search "
   ]
  },
  {
   "cell_type": "code",
   "execution_count": null,
   "id": "47d8c1ba",
   "metadata": {},
   "outputs": [],
   "source": [
    "center = 1.73806037-0.01388821j   # fundamental mode!\n",
    "radius = .01\n",
    "p = 3\n",
    "\n",
    "z2, y2, yl2, beta2, P2, _ = A.leakymode(p, rad=radius, ctr=center, alpha=A.alpha,\n",
    "                                   niterations=5, npts=4, nspan=2, nrestarts=0)"
   ]
  },
  {
   "cell_type": "code",
   "execution_count": null,
   "id": "23531215",
   "metadata": {},
   "outputs": [],
   "source": [
    "C=1e2\n",
    "for f in y2:\n",
    "    Draw(C*f, A.mesh)\n",
    "    Draw(C*f, A.mesh)"
   ]
  },
  {
   "cell_type": "code",
   "execution_count": null,
   "id": "0cfcbd9e",
   "metadata": {},
   "outputs": [],
   "source": [
    "center = 2.71099165-0.0240913j\n",
    "radius = .01\n",
    "p = 3\n",
    "\n",
    "z2, y2, yl2, beta2, P2, _ = A.leakymode(p, rad=radius, ctr=center, alpha=A.alpha,\n",
    "                                   niterations=5, npts=4, nspan=2, nrestarts=0)"
   ]
  },
  {
   "cell_type": "code",
   "execution_count": null,
   "id": "3eebf2c8",
   "metadata": {},
   "outputs": [],
   "source": [
    "C=1e2\n",
    "for f in y2:\n",
    "    Draw(C*f, A.mesh)"
   ]
  },
  {
   "cell_type": "markdown",
   "id": "bb969c20",
   "metadata": {},
   "source": [
    "# Vector Modes"
   ]
  },
  {
   "cell_type": "code",
   "execution_count": null,
   "id": "707114a7",
   "metadata": {},
   "outputs": [],
   "source": [
    "center = (1.73806037-0.01388821j)**2\n",
    "radius = .1\n",
    "p = 1\n",
    "\n",
    "betas, Zsqrs, Es, phis, _ = A.leakyvecmodes(p=p, rad=radius, ctr=center, alpha=A.alpha,\n",
    "                                   niterations=5, npts=2, nspan=2, nrestarts=0)"
   ]
  },
  {
   "cell_type": "code",
   "execution_count": null,
   "id": "511f4123",
   "metadata": {},
   "outputs": [],
   "source": [
    "C=1e0\n",
    "for e in Es:\n",
    "    Draw(C*e.real, A.mesh, vectors={'grid_size':500})"
   ]
  },
  {
   "cell_type": "code",
   "execution_count": null,
   "id": "782b18c8",
   "metadata": {},
   "outputs": [],
   "source": [
    "C=1e0\n",
    "for phi in phis:\n",
    "    Draw(C*phi, A.mesh)"
   ]
  },
  {
   "cell_type": "code",
   "execution_count": null,
   "id": "1b2dcd69",
   "metadata": {},
   "outputs": [],
   "source": [
    "center = 7.49443801-0.20447834j\n",
    "radius = .01\n",
    "p = 1\n",
    "\n",
    "betas, Zsqrs, Es, phis, _ = A.leakyvecmodes(p=p, rad=radius, ctr=center, alpha=A.alpha,\n",
    "                                   niterations=5, npts=4, nspan=2, nrestarts=0)"
   ]
  },
  {
   "cell_type": "code",
   "execution_count": null,
   "id": "d063d487",
   "metadata": {},
   "outputs": [],
   "source": [
    "C=1e2\n",
    "for e in Es:\n",
    "    Draw(C*e.real, A.mesh, vectors={'grid_size':500})"
   ]
  },
  {
   "cell_type": "code",
   "execution_count": null,
   "id": "073cf587",
   "metadata": {},
   "outputs": [],
   "source": [
    "C=1e1\n",
    "for phi in phis:\n",
    "    Draw(C*phi, A.mesh)"
   ]
  },
  {
   "cell_type": "code",
   "execution_count": null,
   "id": "8b2594b3",
   "metadata": {},
   "outputs": [],
   "source": []
  }
 ],
 "metadata": {
  "kernelspec": {
   "display_name": "Python 3 (ipykernel)",
   "language": "python",
   "name": "python3"
  },
  "language_info": {
   "codemirror_mode": {
    "name": "ipython",
    "version": 3
   },
   "file_extension": ".py",
   "mimetype": "text/x-python",
   "name": "python",
   "nbconvert_exporter": "python",
   "pygments_lexer": "ipython3",
   "version": "3.11.3"
  }
 },
 "nbformat": 4,
 "nbformat_minor": 5
}
