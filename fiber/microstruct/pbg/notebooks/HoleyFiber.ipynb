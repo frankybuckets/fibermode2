{
 "cells": [
  {
   "cell_type": "markdown",
   "id": "5481d90e",
   "metadata": {},
   "source": [
    "# Holey Fiber Mode Notebook\n",
    "\n",
    "This notebook is used to find and view modes for the Photonic Band Gap fiber. "
   ]
  },
  {
   "cell_type": "code",
   "execution_count": null,
   "id": "c3158f26",
   "metadata": {},
   "outputs": [],
   "source": [
    "import ngsolve as ng\n",
    "from ngsolve.webgui import Draw\n",
    "\n",
    "from fiberamp.fiber.microstruct.pbg import PBG, load_pbg_mode\n",
    "from fiberamp.fiber.microstruct.pbg.fiber_dicts.holey import params"
   ]
  },
  {
   "cell_type": "code",
   "execution_count": null,
   "id": "7eb8a119",
   "metadata": {},
   "outputs": [],
   "source": [
    "A = PBG(params)\n"
   ]
  },
  {
   "cell_type": "code",
   "execution_count": null,
   "id": "9c58d10d",
   "metadata": {},
   "outputs": [],
   "source": [
    "Draw(A.index, A.mesh)\n"
   ]
  },
  {
   "cell_type": "markdown",
   "id": "c8bb4509",
   "metadata": {},
   "source": [
    "# Scalar Modes"
   ]
  },
  {
   "cell_type": "code",
   "execution_count": null,
   "id": "466173da",
   "metadata": {},
   "outputs": [],
   "source": [
    "k_low = A.k * A.n_tube"
   ]
  },
  {
   "cell_type": "code",
   "execution_count": null,
   "id": "6284236f",
   "metadata": {},
   "outputs": [],
   "source": [
    "c = A.sqrZfrom(k_low)"
   ]
  },
  {
   "cell_type": "code",
   "execution_count": null,
   "id": "75482fd2",
   "metadata": {},
   "outputs": [],
   "source": [
    "c"
   ]
  },
  {
   "cell_type": "markdown",
   "id": "f2ade3f4",
   "metadata": {},
   "source": [
    "# Find search centers"
   ]
  },
  {
   "cell_type": "code",
   "execution_count": null,
   "id": "5f089991",
   "metadata": {},
   "outputs": [],
   "source": [
    "center = 1.5\n",
    "radius = 1\n",
    "p = 4\n",
    "\n",
    "z, y, yl, beta, P, _ = A.leakymode(p, rad=radius, ctr=center,\n",
    "                                   alpha=5, stop_tol=1e-8,\n",
    "                                   quadrule='ellipse_trapez_shift',\n",
    "                                   rhoinv=.95, \n",
    "                                   niterations=5, npts=4,\n",
    "                                   nspan=4, nrestarts=0)\n"
   ]
  },
  {
   "cell_type": "markdown",
   "id": "0169bf5f",
   "metadata": {},
   "source": [
    "### Large radius search"
   ]
  },
  {
   "cell_type": "code",
   "execution_count": null,
   "id": "dff3b9cf",
   "metadata": {},
   "outputs": [],
   "source": [
    "1.69, 2.67  # near fundamental and hom"
   ]
  },
  {
   "cell_type": "code",
   "execution_count": null,
   "id": "5cab8894",
   "metadata": {},
   "outputs": [],
   "source": [
    "C=1e1\n",
    "for f in y:\n",
    "    Draw(C*f.Norm(), A.mesh)"
   ]
  },
  {
   "cell_type": "markdown",
   "id": "d4e2a1e8",
   "metadata": {},
   "source": [
    "### Small radius search "
   ]
  },
  {
   "cell_type": "code",
   "execution_count": null,
   "id": "47d8c1ba",
   "metadata": {},
   "outputs": [],
   "source": [
    "center = 1.46180577-1.68583967e-09j   # fundamental mode!\n",
    "radius = .001\n",
    "p = 4\n",
    "\n",
    "z2, y2, yl2, beta2, P2, _ = A.leakymode(p, rad=radius, ctr=center, alpha=A.alpha,\n",
    "                                   niterations=5, npts=4, nspan=2, nrestarts=0)"
   ]
  },
  {
   "cell_type": "code",
   "execution_count": null,
   "id": "23531215",
   "metadata": {},
   "outputs": [],
   "source": [
    "C=1e2\n",
    "for f in y2:\n",
    "    Draw(C*f, A.mesh)"
   ]
  },
  {
   "cell_type": "code",
   "execution_count": null,
   "id": "23556a50",
   "metadata": {},
   "outputs": [],
   "source": [
    "# A.savemodes('fundamental',folder, y2, p, beta2, z2, pbgpickle=True)"
   ]
  },
  {
   "cell_type": "code",
   "execution_count": null,
   "id": "a4ce0824",
   "metadata": {},
   "outputs": [],
   "source": [
    "center = 2.26197482-7.37606212e-05j   # multiplicity 2 eigenvalue\n",
    "radius = .01\n",
    "p = 2\n",
    "\n",
    "z2, y2, yl2, beta2, P2, _ = A.leakymode(p, rad=radius, ctr=center, alpha=A.alpha,\n",
    "                                   niterations=10, npts=4, nspan=2, nrestarts=0)"
   ]
  },
  {
   "cell_type": "code",
   "execution_count": null,
   "id": "bf8168bf",
   "metadata": {},
   "outputs": [],
   "source": [
    "C=1e-3\n",
    "for f in y2:\n",
    "    Draw(C*f, A.mesh)"
   ]
  },
  {
   "cell_type": "code",
   "execution_count": null,
   "id": "c1885213",
   "metadata": {},
   "outputs": [],
   "source": [
    "# folder = '/home/pv/local/fiberamp/fiber/microstruct/pbg/outputs/lyr6cr2/'\n",
    "\n",
    "# A.savemodes('LP11',folder, y2, p, beta2, z2, pbgpickle=True)"
   ]
  },
  {
   "cell_type": "code",
   "execution_count": null,
   "id": "0cfcbd9e",
   "metadata": {},
   "outputs": [],
   "source": [
    "center = 2.38056196-6.05660435e-03j\n",
    "radius = .01\n",
    "p = 3\n",
    "\n",
    "z2, y2, yl2, beta2, P2, _ = A.leakymode(p, rad=radius, ctr=center, alpha=A.alpha,\n",
    "                                   niterations=10, npts=4, nspan=2, nrestarts=0)"
   ]
  },
  {
   "cell_type": "code",
   "execution_count": null,
   "id": "9ba28acc",
   "metadata": {},
   "outputs": [],
   "source": [
    "C=1e2\n",
    "for f in y2:\n",
    "    Draw(C*f, A.mesh)"
   ]
  },
  {
   "cell_type": "markdown",
   "id": "17c1cef3",
   "metadata": {},
   "source": [
    "# Vector Modes"
   ]
  },
  {
   "cell_type": "code",
   "execution_count": null,
   "id": "06beb981",
   "metadata": {},
   "outputs": [],
   "source": [
    "A.leakyvecmodes?"
   ]
  },
  {
   "cell_type": "code",
   "execution_count": null,
   "id": "5021a6aa",
   "metadata": {},
   "outputs": [],
   "source": [
    "center = (1.46180577-1.68583967e-09j)**2\n",
    "radius = .01\n",
    "p = 1\n",
    "\n",
    "betas, Zsqrs, Es, phis, _ = A.leakyvecmodes(p=p, rad=radius, ctr=center, alpha=A.alpha,\n",
    "                                   niterations=5, npts=4, nspan=2, nrestarts=0)"
   ]
  },
  {
   "cell_type": "code",
   "execution_count": null,
   "id": "0035f3a1",
   "metadata": {},
   "outputs": [],
   "source": [
    "C=1e-3\n",
    "for e in Es:\n",
    "    Draw(C*e.real, A.mesh)"
   ]
  },
  {
   "cell_type": "code",
   "execution_count": null,
   "id": "214e256d",
   "metadata": {},
   "outputs": [],
   "source": [
    "C=1e-3\n",
    "for phi in phis:\n",
    "    Draw(C*phi, A.mesh)"
   ]
  },
  {
   "cell_type": "code",
   "execution_count": null,
   "id": "6dbec6fa",
   "metadata": {},
   "outputs": [],
   "source": []
  },
  {
   "cell_type": "code",
   "execution_count": null,
   "id": "2b5890f8",
   "metadata": {},
   "outputs": [],
   "source": [
    "center = (2.26197482-7.37606212e-05j)**2\n",
    "radius = .1\n",
    "p = 2\n",
    "\n",
    "betas, Zsqrs, Es, phis, _ = A.leakyvecmodes(p=p, rad=radius, ctr=center, alpha=A.alpha,\n",
    "                                   niterations=8, npts=4, nspan=6, nrestarts=0)"
   ]
  },
  {
   "cell_type": "code",
   "execution_count": null,
   "id": "723b9725",
   "metadata": {},
   "outputs": [],
   "source": [
    "C=1e2\n",
    "for e in Es:\n",
    "    Draw(C*e.real, A.mesh, vectors={'grid_size':200})"
   ]
  },
  {
   "cell_type": "code",
   "execution_count": null,
   "id": "22c8f182",
   "metadata": {},
   "outputs": [],
   "source": [
    "C=1e1\n",
    "for phi in phis:\n",
    "    Draw(C*phi, A.mesh)"
   ]
  },
  {
   "cell_type": "code",
   "execution_count": null,
   "id": "f1742636",
   "metadata": {},
   "outputs": [],
   "source": []
  }
 ],
 "metadata": {
  "kernelspec": {
   "display_name": "Python 3 (ipykernel)",
   "language": "python",
   "name": "python3"
  },
  "language_info": {
   "codemirror_mode": {
    "name": "ipython",
    "version": 3
   },
   "file_extension": ".py",
   "mimetype": "text/x-python",
   "name": "python",
   "nbconvert_exporter": "python",
   "pygments_lexer": "ipython3",
   "version": "3.10.6"
  }
 },
 "nbformat": 4,
 "nbformat_minor": 5
}
