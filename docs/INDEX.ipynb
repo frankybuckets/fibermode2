{
 "cells": [
  {
   "cell_type": "markdown",
   "id": "8787b1ff-9cf6-47ae-a080-c145ba518ff6",
   "metadata": {},
   "source": [
    "# Modes of optical fibers"
   ]
  },
  {
   "cell_type": "markdown",
   "id": "b0d3a894-a0e7-4eb5-8a1f-8fb0e24c9a97",
   "metadata": {},
   "source": [
    "1. Step-index fiber\n",
    "   - [1.1 Analytic LP modes](./1_1_stepindex.ipynb)\n",
    "   - 1.2 Numerically computed guided modes\n",
    "   - 1.3 Analytic leaky modes\n",
    "   - 1.4 Vector guided modes"
   ]
  },
  {
   "cell_type": "markdown",
   "id": "35897640-c1df-4ec4-ab07-efc9734b4d59",
   "metadata": {},
   "source": [
    "2. Bragg fiber\n",
    "    - 2.1 Analytic scalar guided modes\n",
    "    - 2.2 Numerically computed guided modes\n",
    "   "
   ]
  },
  {
   "cell_type": "markdown",
   "id": "c6b4c9c6-eb9d-4cad-8a69-2c20269beaca",
   "metadata": {},
   "source": [
    "3. Antiresonant fiber\n",
    "4. Photonic bandgap fiber"
   ]
  }
 ],
 "metadata": {
  "kernelspec": {
   "display_name": "Python 3 (ipykernel)",
   "language": "python",
   "name": "python3"
  },
  "language_info": {
   "codemirror_mode": {
    "name": "ipython",
    "version": 3
   },
   "file_extension": ".py",
   "mimetype": "text/x-python",
   "name": "python",
   "nbconvert_exporter": "python",
   "pygments_lexer": "ipython3",
   "version": "3.11.6"
  }
 },
 "nbformat": 4,
 "nbformat_minor": 5
}
