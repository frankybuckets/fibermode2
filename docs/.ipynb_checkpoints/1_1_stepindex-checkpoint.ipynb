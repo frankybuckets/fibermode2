{
 "cells": [
  {
   "cell_type": "markdown",
   "metadata": {},
   "source": [
    "# Analytical guided modes of a step-index fiber "
   ]
  },
  {
   "cell_type": "markdown",
   "metadata": {},
   "source": [
    "The cross section of a step-index fiber, modeled in the $xy$-plane, consists of a circular core surrounded by a circular cladding. The refractive index $n(x, y)$ of such a fiber is a piecewise constant function taking one value in the core and another in the cladding. The purpose of this notebook is to show how guided modes of such a fiber can be computed semi-analytically using `fibermode` facilities. "
   ]
  },
  {
   "cell_type": "markdown",
   "metadata": {},
   "source": [
    "## Guided modes \n",
    "\n",
    "The guided modes of a waveguide are functions $\\varphi_i(x, y)$, each of which, together with their real propagation constant $\\beta_i$,  satisfy the two-dimensional  Helmholtz eigenvalue equation in the $xy$-plane, \n",
    "$$\n",
    "\t(\\Delta + k^2 n^2) \\varphi_i = \\beta_i^2 \\varphi_i,\n",
    "$$\n",
    "for some given wavenumber $k$  determined by the operating wavelength. Guided modes decay exponentially out in the cladding. Then solutions of the form $u(x, y, z) = e^{i \\beta_m z} \\varphi_m(x, y)$ solve the three-dimensional Helmholtz equation of a wave  propagating along the longitudinal ($z$) direction of the fiber."
   ]
  },
  {
   "cell_type": "markdown",
   "metadata": {},
   "source": [
    "For step-index fibers, such guided modes $\\varphi_i$ are called LP (linearly polarized) modes, and are indexed by two integers $\\ell, m$ (instead of the single $i$). Such $\\varphi_{\\ell m}$ are referred to as $LP_{\\ell m}$-modes in the optics literature. The $m$-index ($m\\ge 1$) indicates the angular variations and the $\\ell$-index ($\\ell\\ge 0$) specifies the radial variations. Expressions for the $LP_{\\ell m}$ modes can be computed exactly in closed form (see e.g., [Reider's book](https://doi.org/10.1007/978-3-319-26076-1))\n",
    "in terms of the standard Bessel function  $\\mathcal{J}_\\ell$ and  the modified Bessel function $\\mathcal{K}_\\ell$ of the second kind.  The closed-form expressions are obtained after solving the   so-called *characteristic equation* of the fiber. "
   ]
  },
  {
   "cell_type": "markdown",
   "metadata": {},
   "source": [
    "Setting the fiber's \"numerical aperture\"  $NA = \\sqrt{n_{\\text{core}}^2-n_{\\text{clad}}^2}$, we obtain the characteristic equation\n",
    "\n",
    "$$\n",
    "X\\mathcal{J}_{l-1}(X)\\mathcal{K}_{l}(\\sqrt{NA^2-X^2})+\\sqrt{NA^2-X^2}\\mathcal{J}_{l}(X)\\mathcal{K}_{l}(\\sqrt{NA^2-X^2})\n",
    "$$\n",
    "\n",
    "and solve this equation using a bisection-based root-finding method. For each $l$, let the roots of the characteristic equation be enumerated as $X_{lm}$, and the propagation constants are given by:\n",
    "\n",
    "$$\n",
    "\\beta_{lm}=\\sqrt{n_{\\text{core}}^2k_s^2-X_{lm}^2r^2_{\\text{core}}}\n",
    "$$"
   ]
  },
  {
   "cell_type": "markdown",
   "metadata": {},
   "source": [
    "Set $\\mathcal{R}_{lm}=X_{lm}/r_{\\text{core}}$ and $\\mathcal{G}_{lm}=\\sqrt{\\beta_{lm}-n_{\\text{clad}}k_s^2}$. The corresponding $LP_{lm}$ modes take the following form in polar coordinates:\n",
    "    $$\n",
    "    \\varphi_{lm}(r,\\theta)=\\begin{cases}\n",
    "    \\mathcal{K}_l(\\mathcal{G}_{lm}r_{\\text{core}})\\mathcal{J}_l(\\mathcal{R}_{lm}r)\\cos(i\\theta), & 0 \\leq r < r_{\\text{core}}\\\\\n",
    "    \\mathcal{J}_l(\\mathcal{R}_{lm}r_{\\text{core}})\\mathcal{K}_l(\\mathcal{G}_{lm}r)\\cos(i\\theta), &r_{\\text{core}}\\leq r \\leq r_{\\text{clad}}\\end{cases}\n",
    "    $$"
   ]
  },
  {
   "cell_type": "markdown",
   "metadata": {},
   "source": [
    "## Making a step-index fiber object"
   ]
  },
  {
   "cell_type": "markdown",
   "metadata": {},
   "source": [
    "A number of realistic optical fiber parameters are stored in `fibermode` and accessible by their name. Here is the list of all available names."
   ]
  },
  {
   "cell_type": "code",
   "execution_count": 1,
   "metadata": {},
   "outputs": [
    {
     "data": {
      "text/plain": [
       "['Nufern_Yb',\n",
       " 'Nufern_Tm',\n",
       " 'corning_smf_28_1',\n",
       " 'corning_smf_28_2',\n",
       " 'liekki_1',\n",
       " 'liekki_2']"
      ]
     },
     "execution_count": 1,
     "metadata": {},
     "output_type": "execute_result"
    }
   ],
   "source": [
    "from fibermode import named_stepindex_fibers\n",
    "\n",
    "list(named_stepindex_fibers.keys())"
   ]
  },
  {
   "cell_type": "markdown",
   "metadata": {},
   "source": [
    "One way to make a step-index fiber model is by using one of these names, as follows."
   ]
  },
  {
   "cell_type": "code",
   "execution_count": 2,
   "metadata": {},
   "outputs": [
    {
     "name": "stdout",
     "output_type": "stream",
     "text": [
      "STEP INDEX FIBER ATTRIBUTES: -------------------------------------------\n",
      "ks:                  5.90525e+06                       signal wavenumber\n",
      "wavelength:            1.064e-06                       signal wavelength\n",
      "V:                       4.42894                       V-number of fiber\n",
      "ncore:                   1.45097                   core refractive index\n",
      "nclad:                   1.44973               cladding refractive index\n",
      "NA:                         0.06                      numerical aperture\n",
      "rcore:                  1.25e-05                             core radius\n",
      "rclad:                    0.0002                         cladding radius\n",
      "------------------------------------------------------------------------\n"
     ]
    }
   ],
   "source": [
    "from fibermode import StepIndexExact\n",
    "\n",
    "f = StepIndexExact('Nufern_Yb')\n",
    "print(f)"
   ]
  },
  {
   "cell_type": "markdown",
   "metadata": {},
   "source": [
    "One can now ask the object `f` for its guided modes and query further properties. All methods are seen in `help(StepIndexExact)`. \n",
    "\n",
    "Another way to make a step-index fiber object is  by  providing the minimal necessary parameter values (instead of a preset name). This is shown next."
   ]
  },
  {
   "cell_type": "markdown",
   "metadata": {},
   "source": [
    "## A single-mode fiber"
   ]
  },
  {
   "cell_type": "code",
   "execution_count": 3,
   "metadata": {},
   "outputs": [
    {
     "name": "stdout",
     "output_type": "stream",
     "text": [
      "STEP INDEX FIBER ATTRIBUTES: -------------------------------------------\n",
      "ks:                            4                       signal wavenumber\n",
      "wavelength:               1.5708                       signal wavelength\n",
      "V:                             2                       V-number of fiber\n",
      "ncore:                         1                   core refractive index\n",
      "nclad:                  0.866025               cladding refractive index\n",
      "NA:                          0.5                      numerical aperture\n",
      "rcore:                         1                             core radius\n",
      "rclad:                        10                         cladding radius\n",
      "------------------------------------------------------------------------\n"
     ]
    }
   ],
   "source": [
    "fib = StepIndexExact(rcore=1, rclad=10, ncore=1, NA=0.5, ks=4)\n",
    "print(fib)"
   ]
  },
  {
   "cell_type": "markdown",
   "metadata": {},
   "source": [
    "Comparing with the previous values, you can see that this fiber does not have realistic geometry. However, in computing the modes, instead of such dimensions, the critical non-dimensional parameter of importance is the $V$-number of the fiber. This value printed above, is not so much different from that of the previous realistic `Nufern_Yb` fiber."
   ]
  },
  {
   "cell_type": "markdown",
   "metadata": {},
   "source": [
    "If the $V$-number is below the first Bessel root $\\approx 2.4$, by the theory of step-index fibers, we expect the fiber to be a single-mode fiber, i.e.,  we expect to find only one single $LP_{\\ell m}$ mode, with $\\ell=0$ and $m=1$, and no more modes. The `StepIndexExact` class has a method `propagation_constants`$(\\ell)$ to find the $\\beta_{\\ell m}$ corresponding to the $LP_{\\ell m}$ mode.\n"
   ]
  },
  {
   "cell_type": "code",
   "execution_count": 4,
   "metadata": {},
   "outputs": [
    {
     "name": "stdout",
     "output_type": "stream",
     "text": [
      "Help on function propagation_constants in module fibermode.stepindex.stepindex_exact:\n",
      "\n",
      "propagation_constants(self, ell, maxnroots=50, v=None, level=30)\n",
      "    Given mode index \"ell\", attempt to find all propagation constants by\n",
      "    bisection or other nonlinear root finders. (Circularly\n",
      "    symmetric modes are obtained with ell=0.  Modes with higher ell\n",
      "    have angular variations.) When level=logging.INFO, verbose\n",
      "    outputs are logged.\n",
      "\n"
     ]
    }
   ],
   "source": [
    "help(StepIndexExact.propagation_constants)"
   ]
  },
  {
   "cell_type": "code",
   "execution_count": 9,
   "metadata": {},
   "outputs": [
    {
     "data": {
      "text/plain": [
       "[1.5281840299448952]"
      ]
     },
     "execution_count": 9,
     "metadata": {},
     "output_type": "execute_result"
    }
   ],
   "source": [
    "X = fib.propagation_constants(0)\n",
    "X"
   ]
  },
  {
   "cell_type": "markdown",
   "metadata": {},
   "source": [
    "If higher values of  $\\ell$ are given as input, this method returns nothing (except for various one-time warnings) for this fiber, confirming that this fiber is a single-mode fiber."
   ]
  },
  {
   "cell_type": "code",
   "execution_count": 10,
   "metadata": {},
   "outputs": [
    {
     "data": {
      "text/plain": [
       "[]"
      ]
     },
     "execution_count": 10,
     "metadata": {},
     "output_type": "execute_result"
    }
   ],
   "source": [
    "fib.propagation_constants(1)"
   ]
  },
  {
   "cell_type": "markdown",
   "metadata": {},
   "source": [
    "The `X`-value found above contains the propagation constant in a non-dimensional form. To obtain the value of the corresponding $\\beta$, use the function `fib.XtoBeta(X)`. We will do this in the next example of a fiber with many more modes."
   ]
  },
  {
   "cell_type": "markdown",
   "metadata": {},
   "source": [
    "## Guided modes of an LMA fiber\n",
    "\n",
    "A Large Mode Area (LMA) fiber, designed to carry more energy through a wider cross-section, has a high $V$-number, and admits many guided modes. An example of such a fiber is the ytterbium-doped fiber `Nufern_Yb`."
   ]
  },
  {
   "cell_type": "code",
   "execution_count": 11,
   "metadata": {},
   "outputs": [],
   "source": [
    "f = StepIndexExact('Nufern_Yb')"
   ]
  },
  {
   "cell_type": "markdown",
   "metadata": {},
   "source": [
    "This fiber has two modes for the $\\ell=0$ case, \n",
    "$$\n",
    "\\beta_{01}, \\quad \\beta_{02}\n",
    "$$\n",
    "whose values are computed as follows."
   ]
  },
  {
   "cell_type": "code",
   "execution_count": 12,
   "metadata": {},
   "outputs": [
    {
     "data": {
      "text/plain": [
       "[1.9485214907449202, 4.237475649448644]"
      ]
     },
     "execution_count": 12,
     "metadata": {},
     "output_type": "execute_result"
    }
   ],
   "source": [
    "X0 = f.propagation_constants(0)\n",
    "X0"
   ]
  },
  {
   "cell_type": "markdown",
   "metadata": {},
   "source": [
    "In addition it has more modes with $\\ell=1$:"
   ]
  },
  {
   "cell_type": "code",
   "execution_count": 13,
   "metadata": {},
   "outputs": [
    {
     "data": {
      "text/plain": [
       "[3.0705396745393774]"
      ]
     },
     "execution_count": 13,
     "metadata": {},
     "output_type": "execute_result"
    }
   ],
   "source": [
    "X1 = f.propagation_constants(1)\n",
    "X1"
   ]
  },
  {
   "cell_type": "markdown",
   "metadata": {},
   "source": [
    "It also has modes with $\\ell=2$:"
   ]
  },
  {
   "cell_type": "code",
   "execution_count": 14,
   "metadata": {},
   "outputs": [
    {
     "data": {
      "text/plain": [
       "[4.044052810540935]"
      ]
     },
     "execution_count": 14,
     "metadata": {},
     "output_type": "execute_result"
    }
   ],
   "source": [
    "X2 = f.propagation_constants(2)\n",
    "X2"
   ]
  },
  {
   "cell_type": "markdown",
   "metadata": {},
   "source": [
    "The search for propagation constants with $\\ell=3$ fails, indicating no more modes."
   ]
  },
  {
   "cell_type": "code",
   "execution_count": 15,
   "metadata": {},
   "outputs": [
    {
     "data": {
      "text/plain": [
       "[]"
      ]
     },
     "execution_count": 15,
     "metadata": {},
     "output_type": "execute_result"
    }
   ],
   "source": [
    "X3 = f.propagation_constants(3)\n",
    "X3"
   ]
  },
  {
   "cell_type": "markdown",
   "metadata": {},
   "source": [
    "The physical propagation constants $\\beta_{\\ell m}$ are obtained from the above non-dimensionalized $X_{\\ell m}$ values  as follows:"
   ]
  },
  {
   "cell_type": "markdown",
   "metadata": {},
   "source": [
    "**Propagation constants for $\\ell=0$:**   $\\qquad \\beta_{0 m}$ values"
   ]
  },
  {
   "cell_type": "code",
   "execution_count": null,
   "metadata": {},
   "outputs": [],
   "source": [
    "f.XtoBeta(X0)"
   ]
  },
  {
   "cell_type": "markdown",
   "metadata": {},
   "source": [
    "**Propagation constants for $\\ell=1$:**  $\\qquad \\beta_{1 m}$ values"
   ]
  },
  {
   "cell_type": "code",
   "execution_count": null,
   "metadata": {},
   "outputs": [],
   "source": [
    "f.XtoBeta(X1)"
   ]
  },
  {
   "cell_type": "markdown",
   "metadata": {},
   "source": [
    "**Propagation constants for $\\ell=2$:**  $\\qquad \\beta_{2 m}$ values"
   ]
  },
  {
   "cell_type": "code",
   "execution_count": null,
   "metadata": {},
   "outputs": [],
   "source": [
    "f.XtoBeta(X2)"
   ]
  },
  {
   "cell_type": "markdown",
   "metadata": {},
   "source": [
    "These are all the propagation constants of this fiber's guided modes."
   ]
  },
  {
   "cell_type": "markdown",
   "metadata": {},
   "source": [
    "## Displaying guided modes"
   ]
  },
  {
   "cell_type": "markdown",
   "metadata": {},
   "source": [
    "## The root finding behind the computation"
   ]
  }
 ],
 "metadata": {
  "kernelspec": {
   "display_name": "Python 3 (ipykernel)",
   "language": "python",
   "name": "python3"
  },
  "language_info": {
   "codemirror_mode": {
    "name": "ipython",
    "version": 3
   },
   "file_extension": ".py",
   "mimetype": "text/x-python",
   "name": "python",
   "nbconvert_exporter": "python",
   "pygments_lexer": "ipython3",
   "version": "3.12.3"
  }
 },
 "nbformat": 4,
 "nbformat_minor": 4
}
