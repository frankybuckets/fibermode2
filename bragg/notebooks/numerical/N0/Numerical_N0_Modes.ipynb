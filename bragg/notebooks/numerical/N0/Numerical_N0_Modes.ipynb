{
 "cells": [
  {
   "cell_type": "markdown",
   "id": "720129b6",
   "metadata": {},
   "source": [
    "\n",
    "# N0 Numerical Modes\n"
   ]
  },
  {
   "cell_type": "code",
   "execution_count": null,
   "id": "664ce3d7",
   "metadata": {},
   "outputs": [],
   "source": [
    "import numpy as np\n",
    "\n",
    "from fiberamp.fiber.microstruct.bragg import Bragg\n",
    "from ngsolve.webgui import Draw\n",
    "from ngsolve import CF\n"
   ]
  },
  {
   "cell_type": "code",
   "execution_count": null,
   "id": "1829005b",
   "metadata": {},
   "outputs": [],
   "source": [
    "n_air = 1.00027717\n",
    "n_glass = 1.4388164768221814\n",
    "ts = [15*2.7183333333333333e-6, 15*2/3*1e-6, 15*1e-6]\n",
    "ns = [lambda x: n_air, lambda x: n_glass, lambda x: n_glass]\n",
    "\n",
    "mats = ['air', 'glass', 'Outer']\n",
    "maxhs = [.2, .05, .08]\n",
    "\n",
    "bcs = ['r1', 'R', 'OuterCircle']\n",
    "scale = 15e-6\n",
    "idx = 0\n",
    "\n",
    "wls = np.linspace(1.4, 2, 301) * 1e-6\n",
    "\n",
    "A = Bragg(ts=ts, scale=scale, maxhs=maxhs, ns=ns, mats=mats, wl=wls[idx], bcs=bcs)\n"
   ]
  },
  {
   "cell_type": "code",
   "execution_count": null,
   "id": "6b95a1b2",
   "metadata": {},
   "outputs": [],
   "source": [
    "centers = np.load('/home/pv/local/convergence/bragg_fiber/wavelength/N0/exact_scaled_betas.npy')\n",
    "centers = A.sqrZfrom(centers/A.L).conjugate()"
   ]
  },
  {
   "cell_type": "code",
   "execution_count": null,
   "id": "9e68f5cc",
   "metadata": {},
   "outputs": [],
   "source": [
    "Draw(A.index, A.mesh)"
   ]
  },
  {
   "cell_type": "code",
   "execution_count": null,
   "id": "d5674d52",
   "metadata": {},
   "outputs": [],
   "source": [
    "alpha=5\n",
    "nspan = 6\n",
    "p = 1\n",
    "center = centers[idx]\n",
    "radius = .01\n",
    "npts = 4\n",
    "\n",
    "betas, _, Es, phis, _ = A.leakyvecmodes(ctr=center,\n",
    "                                       rad=radius,\n",
    "                                       alpha=alpha,\n",
    "                                       nspan=nspan,\n",
    "                                       npts=npts,\n",
    "                                       p=p,\n",
    "                                       rhoinv=.9,\n",
    "                                       quadrule='ellipse_trapez_shift',\n",
    "                                       niterations=5,\n",
    "                                       nrestarts=0,\n",
    "                                       stop_tol=1e-9,\n",
    "                                       )"
   ]
  },
  {
   "cell_type": "code",
   "execution_count": null,
   "id": "401caaf0",
   "metadata": {},
   "outputs": [],
   "source": [
    "ps = [(1j* A.power(Es[i], phis[i], betas[i]))**.5 for i in range(len(Es))]"
   ]
  },
  {
   "cell_type": "markdown",
   "id": "b4e75303",
   "metadata": {},
   "source": [
    "# E fields"
   ]
  },
  {
   "cell_type": "code",
   "execution_count": null,
   "id": "d59530e6",
   "metadata": {},
   "outputs": [],
   "source": [
    "for i,e in enumerate(Es):\n",
    "    Draw(1/ps[i].real*e.real, A.mesh)"
   ]
  },
  {
   "cell_type": "markdown",
   "id": "d75fce38",
   "metadata": {},
   "source": [
    "# Poynting Vector"
   ]
  },
  {
   "cell_type": "code",
   "execution_count": null,
   "id": "aed23841",
   "metadata": {},
   "outputs": [],
   "source": [
    "Stv, Sz = A.S(Es[0], phis[0], betas[0])"
   ]
  },
  {
   "cell_type": "code",
   "execution_count": null,
   "id": "075c1f3f",
   "metadata": {},
   "outputs": [],
   "source": [
    "Draw(1e-3*1j*Sz/p**2, A.mesh)"
   ]
  },
  {
   "cell_type": "code",
   "execution_count": null,
   "id": "4c28b889",
   "metadata": {},
   "outputs": [],
   "source": []
  }
 ],
 "metadata": {
  "kernelspec": {
   "display_name": "Python 3 (ipykernel)",
   "language": "python",
   "name": "python3"
  },
  "language_info": {
   "codemirror_mode": {
    "name": "ipython",
    "version": 3
   },
   "file_extension": ".py",
   "mimetype": "text/x-python",
   "name": "python",
   "nbconvert_exporter": "python",
   "pygments_lexer": "ipython3",
   "version": "3.10.6"
  }
 },
 "nbformat": 4,
 "nbformat_minor": 5
}
